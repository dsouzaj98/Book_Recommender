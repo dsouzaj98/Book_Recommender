{
 "cells": [
  {
   "cell_type": "code",
   "execution_count": 1,
   "metadata": {},
   "outputs": [
    {
     "data": {
      "text/html": [
       "        <script type=\"text/javascript\">\n",
       "        window.PlotlyConfig = {MathJaxConfig: 'local'};\n",
       "        if (window.MathJax) {MathJax.Hub.Config({SVG: {font: \"STIX-Web\"}});}\n",
       "        if (typeof require !== 'undefined') {\n",
       "        require.undef(\"plotly\");\n",
       "        requirejs.config({\n",
       "            paths: {\n",
       "                'plotly': ['https://cdn.plot.ly/plotly-latest.min']\n",
       "            }\n",
       "        });\n",
       "        require(['plotly'], function(Plotly) {\n",
       "            window._Plotly = Plotly;\n",
       "        });\n",
       "        }\n",
       "        </script>\n",
       "        "
      ]
     },
     "metadata": {},
     "output_type": "display_data"
    },
    {
     "data": {
      "text/html": [
       "        <script type=\"text/javascript\">\n",
       "        window.PlotlyConfig = {MathJaxConfig: 'local'};\n",
       "        if (window.MathJax) {MathJax.Hub.Config({SVG: {font: \"STIX-Web\"}});}\n",
       "        if (typeof require !== 'undefined') {\n",
       "        require.undef(\"plotly\");\n",
       "        requirejs.config({\n",
       "            paths: {\n",
       "                'plotly': ['https://cdn.plot.ly/plotly-latest.min']\n",
       "            }\n",
       "        });\n",
       "        require(['plotly'], function(Plotly) {\n",
       "            window._Plotly = Plotly;\n",
       "        });\n",
       "        }\n",
       "        </script>\n",
       "        "
      ]
     },
     "metadata": {},
     "output_type": "display_data"
    }
   ],
   "source": [
    "from eda import *"
   ]
  },
  {
   "cell_type": "code",
   "execution_count": 2,
   "metadata": {},
   "outputs": [
    {
     "data": {
      "application/vnd.plotly.v1+json": {
       "config": {
        "plotlyServerURL": "https://plot.ly"
       },
       "data": [
        {
         "alignmentgroup": "True",
         "hovertemplate": "original_title=%{y}<br>average_rating=%{x}<extra></extra>",
         "legendgroup": "The Complete Calvin and Hobbes",
         "marker": {
          "color": "#636efa"
         },
         "name": "The Complete Calvin and Hobbes",
         "offsetgroup": "The Complete Calvin and Hobbes",
         "orientation": "h",
         "showlegend": true,
         "textposition": "auto",
         "type": "bar",
         "x": [
          4.82
         ],
         "xaxis": "x",
         "y": [
          "The Complete Calvin and Hobbes"
         ],
         "yaxis": "y"
        },
        {
         "alignmentgroup": "True",
         "hovertemplate": "original_title=%{y}<br>average_rating=%{x}<extra></extra>",
         "legendgroup": "Words of Radiance",
         "marker": {
          "color": "#EF553B"
         },
         "name": "Words of Radiance",
         "offsetgroup": "Words of Radiance",
         "orientation": "h",
         "showlegend": true,
         "textposition": "auto",
         "type": "bar",
         "x": [
          4.77
         ],
         "xaxis": "x",
         "y": [
          "Words of Radiance"
         ],
         "yaxis": "y"
        },
        {
         "alignmentgroup": "True",
         "hovertemplate": "original_title=%{y}<br>average_rating=%{x}<extra></extra>",
         "legendgroup": "Mark of the Lion Trilogy",
         "marker": {
          "color": "#00cc96"
         },
         "name": "Mark of the Lion Trilogy",
         "offsetgroup": "Mark of the Lion Trilogy",
         "orientation": "h",
         "showlegend": true,
         "textposition": "auto",
         "type": "bar",
         "x": [
          4.76
         ],
         "xaxis": "x",
         "y": [
          "Mark of the Lion Trilogy"
         ],
         "yaxis": "y"
        },
        {
         "alignmentgroup": "True",
         "hovertemplate": "original_title=%{y}<br>average_rating=%{x}<extra></extra>",
         "legendgroup": "It's a Magical World: A Calvin and Hobbes Collection",
         "marker": {
          "color": "#ab63fa"
         },
         "name": "It's a Magical World: A Calvin and Hobbes Collection",
         "offsetgroup": "It's a Magical World: A Calvin and Hobbes Collection",
         "orientation": "h",
         "showlegend": true,
         "textposition": "auto",
         "type": "bar",
         "x": [
          4.75
         ],
         "xaxis": "x",
         "y": [
          "It's a Magical World: A Calvin and Hobbes Collection"
         ],
         "yaxis": "y"
        },
        {
         "alignmentgroup": "True",
         "hovertemplate": "original_title=%{y}<br>average_rating=%{x}<extra></extra>",
         "legendgroup": "There's Treasure Everywhere: A Calvin and Hobbes Collection",
         "marker": {
          "color": "#FFA15A"
         },
         "name": "There's Treasure Everywhere: A Calvin and Hobbes Collection",
         "offsetgroup": "There's Treasure Everywhere: A Calvin and Hobbes Collection",
         "orientation": "h",
         "showlegend": true,
         "textposition": "auto",
         "type": "bar",
         "x": [
          4.74
         ],
         "xaxis": "x",
         "y": [
          "There's Treasure Everywhere: A Calvin and Hobbes Collection"
         ],
         "yaxis": "y"
        },
        {
         "alignmentgroup": "True",
         "hovertemplate": "original_title=%{y}<br>average_rating=%{x}<extra></extra>",
         "legendgroup": "Complete Harry Potter Boxed Set",
         "marker": {
          "color": "#19d3f3"
         },
         "name": "Complete Harry Potter Boxed Set",
         "offsetgroup": "Complete Harry Potter Boxed Set",
         "orientation": "h",
         "showlegend": true,
         "textposition": "auto",
         "type": "bar",
         "x": [
          4.74
         ],
         "xaxis": "x",
         "y": [
          "Complete Harry Potter Boxed Set"
         ],
         "yaxis": "y"
        },
        {
         "alignmentgroup": "True",
         "hovertemplate": "original_title=%{y}<br>average_rating=%{x}<extra></extra>",
         "legendgroup": "Harry Potter Collection (Harry Potter, #1-6)",
         "marker": {
          "color": "#FF6692"
         },
         "name": "Harry Potter Collection (Harry Potter, #1-6)",
         "offsetgroup": "Harry Potter Collection (Harry Potter, #1-6)",
         "orientation": "h",
         "showlegend": true,
         "textposition": "auto",
         "type": "bar",
         "x": [
          4.73
         ],
         "xaxis": "x",
         "y": [
          "Harry Potter Collection (Harry Potter, #1-6)"
         ],
         "yaxis": "y"
        },
        {
         "alignmentgroup": "True",
         "hovertemplate": "original_title=%{y}<br>average_rating=%{x}<extra></extra>",
         "legendgroup": "The Indispensable Calvin and Hobbes: A Calvin and Hobbes Treasury",
         "marker": {
          "color": "#B6E880"
         },
         "name": "The Indispensable Calvin and Hobbes: A Calvin and Hobbes Treasury",
         "offsetgroup": "The Indispensable Calvin and Hobbes: A Calvin and Hobbes Treasury",
         "orientation": "h",
         "showlegend": true,
         "textposition": "auto",
         "type": "bar",
         "x": [
          4.73
         ],
         "xaxis": "x",
         "y": [
          "The Indispensable Calvin and Hobbes: A Calvin and Hobbes Treasury"
         ],
         "yaxis": "y"
        },
        {
         "alignmentgroup": "True",
         "hovertemplate": "original_title=%{y}<br>average_rating=%{x}<extra></extra>",
         "legendgroup": "The Authoritative Calvin and Hobbes",
         "marker": {
          "color": "#FF97FF"
         },
         "name": "The Authoritative Calvin and Hobbes",
         "offsetgroup": "The Authoritative Calvin and Hobbes",
         "orientation": "h",
         "showlegend": true,
         "textposition": "auto",
         "type": "bar",
         "x": [
          4.73
         ],
         "xaxis": "x",
         "y": [
          "The Authoritative Calvin and Hobbes"
         ],
         "yaxis": "y"
        },
        {
         "alignmentgroup": "True",
         "hovertemplate": "original_title=%{y}<br>average_rating=%{x}<extra></extra>",
         "legendgroup": "A Court of Mist and Fury",
         "marker": {
          "color": "#FECB52"
         },
         "name": "A Court of Mist and Fury",
         "offsetgroup": "A Court of Mist and Fury",
         "orientation": "h",
         "showlegend": true,
         "textposition": "auto",
         "type": "bar",
         "x": [
          4.72
         ],
         "xaxis": "x",
         "y": [
          "A Court of Mist and Fury"
         ],
         "yaxis": "y"
        },
        {
         "alignmentgroup": "True",
         "hovertemplate": "original_title=%{y}<br>average_rating=%{x}<extra></extra>",
         "legendgroup": "Attack of the Deranged Mutant Killer Monster Snow Goons: A Calvin and Hobbes Collection",
         "marker": {
          "color": "#636efa"
         },
         "name": "Attack of the Deranged Mutant Killer Monster Snow Goons: A Calvin and Hobbes Collection",
         "offsetgroup": "Attack of the Deranged Mutant Killer Monster Snow Goons: A Calvin and Hobbes Collection",
         "orientation": "h",
         "showlegend": true,
         "textposition": "auto",
         "type": "bar",
         "x": [
          4.72
         ],
         "xaxis": "x",
         "y": [
          "Attack of the Deranged Mutant Killer Monster Snow Goons: A Calvin and Hobbes Collection"
         ],
         "yaxis": "y"
        },
        {
         "alignmentgroup": "True",
         "hovertemplate": "original_title=%{y}<br>average_rating=%{x}<extra></extra>",
         "legendgroup": "Homicidal Psycho Jungle Cat: A Calvin and Hobbes Collection",
         "marker": {
          "color": "#EF553B"
         },
         "name": "Homicidal Psycho Jungle Cat: A Calvin and Hobbes Collection",
         "offsetgroup": "Homicidal Psycho Jungle Cat: A Calvin and Hobbes Collection",
         "orientation": "h",
         "showlegend": true,
         "textposition": "auto",
         "type": "bar",
         "x": [
          4.71
         ],
         "xaxis": "x",
         "y": [
          "Homicidal Psycho Jungle Cat: A Calvin and Hobbes Collection"
         ],
         "yaxis": "y"
        },
        {
         "alignmentgroup": "True",
         "hovertemplate": "original_title=%{y}<br>average_rating=%{x}<extra></extra>",
         "legendgroup": "The Days Are Just Packed: A Calvin and Hobbes Collection",
         "marker": {
          "color": "#00cc96"
         },
         "name": "The Days Are Just Packed: A Calvin and Hobbes Collection",
         "offsetgroup": "The Days Are Just Packed: A Calvin and Hobbes Collection",
         "orientation": "h",
         "showlegend": true,
         "textposition": "auto",
         "type": "bar",
         "x": [
          4.68
         ],
         "xaxis": "x",
         "y": [
          "The Days Are Just Packed: A Calvin and Hobbes Collection"
         ],
         "yaxis": "y"
        },
        {
         "alignmentgroup": "True",
         "hovertemplate": "original_title=%{y}<br>average_rating=%{x}<extra></extra>",
         "legendgroup": "The Way of Kings, Part 1",
         "marker": {
          "color": "#ab63fa"
         },
         "name": "The Way of Kings, Part 1",
         "offsetgroup": "The Way of Kings, Part 1",
         "orientation": "h",
         "showlegend": true,
         "textposition": "auto",
         "type": "bar",
         "x": [
          4.67
         ],
         "xaxis": "x",
         "y": [
          "The Way of Kings, Part 1"
         ],
         "yaxis": "y"
        },
        {
         "alignmentgroup": "True",
         "hovertemplate": "original_title=%{y}<br>average_rating=%{x}<extra></extra>",
         "legendgroup": "Harry Potter Boxed Set Books 1-4",
         "marker": {
          "color": "#FFA15A"
         },
         "name": "Harry Potter Boxed Set Books 1-4",
         "offsetgroup": "Harry Potter Boxed Set Books 1-4",
         "orientation": "h",
         "showlegend": true,
         "textposition": "auto",
         "type": "bar",
         "x": [
          4.66
         ],
         "xaxis": "x",
         "y": [
          "Harry Potter Boxed Set Books 1-4"
         ],
         "yaxis": "y"
        },
        {
         "alignmentgroup": "True",
         "hovertemplate": "original_title=%{y}<br>average_rating=%{x}<extra></extra>",
         "legendgroup": "The Calvin and Hobbes Lazy Sunday Book",
         "marker": {
          "color": "#19d3f3"
         },
         "name": "The Calvin and Hobbes Lazy Sunday Book",
         "offsetgroup": "The Calvin and Hobbes Lazy Sunday Book",
         "orientation": "h",
         "showlegend": true,
         "textposition": "auto",
         "type": "bar",
         "x": [
          4.66
         ],
         "xaxis": "x",
         "y": [
          "The Calvin and Hobbes Lazy Sunday Book"
         ],
         "yaxis": "y"
        },
        {
         "alignmentgroup": "True",
         "hovertemplate": "original_title=%{y}<br>average_rating=%{x}<extra></extra>",
         "legendgroup": "Holy Bible English Standard Version",
         "marker": {
          "color": "#FF6692"
         },
         "name": "Holy Bible English Standard Version",
         "offsetgroup": "Holy Bible English Standard Version",
         "orientation": "h",
         "showlegend": true,
         "textposition": "auto",
         "type": "bar",
         "x": [
          4.66
         ],
         "xaxis": "x",
         "y": [
          "Holy Bible English Standard Version"
         ],
         "yaxis": "y"
        },
        {
         "alignmentgroup": "True",
         "hovertemplate": "original_title=%{y}<br>average_rating=%{x}<extra></extra>",
         "legendgroup": "The Essential Calvin and Hobbes: A Calvin and Hobbes Treasury",
         "marker": {
          "color": "#B6E880"
         },
         "name": "The Essential Calvin and Hobbes: A Calvin and Hobbes Treasury",
         "offsetgroup": "The Essential Calvin and Hobbes: A Calvin and Hobbes Treasury",
         "orientation": "h",
         "showlegend": true,
         "textposition": "auto",
         "type": "bar",
         "x": [
          4.65
         ],
         "xaxis": "x",
         "y": [
          "The Essential Calvin and Hobbes: A Calvin and Hobbes Treasury"
         ],
         "yaxis": "y"
        },
        {
         "alignmentgroup": "True",
         "hovertemplate": "original_title=%{y}<br>average_rating=%{x}<extra></extra>",
         "legendgroup": "The Absolute Sandman, Volume One",
         "marker": {
          "color": "#FF97FF"
         },
         "name": "The Absolute Sandman, Volume One",
         "offsetgroup": "The Absolute Sandman, Volume One",
         "orientation": "h",
         "showlegend": true,
         "textposition": "auto",
         "type": "bar",
         "x": [
          4.65
         ],
         "xaxis": "x",
         "y": [
          "The Absolute Sandman, Volume One"
         ],
         "yaxis": "y"
        },
        {
         "alignmentgroup": "True",
         "hovertemplate": "original_title=%{y}<br>average_rating=%{x}<extra></extra>",
         "legendgroup": "A Song of Ice and Fire Graphic Novels",
         "marker": {
          "color": "#FECB52"
         },
         "name": "A Song of Ice and Fire Graphic Novels",
         "offsetgroup": "A Song of Ice and Fire Graphic Novels",
         "orientation": "h",
         "showlegend": true,
         "textposition": "auto",
         "type": "bar",
         "x": [
          4.65
         ],
         "xaxis": "x",
         "y": [
          "A Song of Ice and Fire Graphic Novels"
         ],
         "yaxis": "y"
        },
        {
         "alignmentgroup": "True",
         "hovertemplate": "original_title=%{y}<br>average_rating=%{x}<extra></extra>",
         "legendgroup": "The Way of Kings",
         "marker": {
          "color": "#636efa"
         },
         "name": "The Way of Kings",
         "offsetgroup": "The Way of Kings",
         "orientation": "h",
         "showlegend": true,
         "textposition": "auto",
         "type": "bar",
         "x": [
          4.64
         ],
         "xaxis": "x",
         "y": [
          "The Way of Kings"
         ],
         "yaxis": "y"
        },
        {
         "alignmentgroup": "True",
         "hovertemplate": "original_title=%{y}<br>average_rating=%{x}<extra></extra>",
         "legendgroup": "The Calvin and Hobbes Tenth Anniversary Book",
         "marker": {
          "color": "#EF553B"
         },
         "name": "The Calvin and Hobbes Tenth Anniversary Book",
         "offsetgroup": "The Calvin and Hobbes Tenth Anniversary Book",
         "orientation": "h",
         "showlegend": true,
         "textposition": "auto",
         "type": "bar",
         "x": [
          4.63
         ],
         "xaxis": "x",
         "y": [
          "The Calvin and Hobbes Tenth Anniversary Book"
         ],
         "yaxis": "y"
        },
        {
         "alignmentgroup": "True",
         "hovertemplate": "original_title=%{y}<br>average_rating=%{x}<extra></extra>",
         "legendgroup": "A Song of Ice and Fire",
         "marker": {
          "color": "#00cc96"
         },
         "name": "A Song of Ice and Fire",
         "offsetgroup": "A Song of Ice and Fire",
         "orientation": "h",
         "showlegend": true,
         "textposition": "auto",
         "type": "bar",
         "x": [
          4.63
         ],
         "xaxis": "x",
         "y": [
          "A Song of Ice and Fire"
         ],
         "yaxis": "y"
        },
        {
         "alignmentgroup": "True",
         "hovertemplate": "original_title=%{y}<br>average_rating=%{x}<extra></extra>",
         "legendgroup": "دیوان‎‎ [Dīvān]",
         "marker": {
          "color": "#ab63fa"
         },
         "name": "دیوان‎‎ [Dīvān]",
         "offsetgroup": "دیوان‎‎ [Dīvān]",
         "orientation": "h",
         "showlegend": true,
         "textposition": "auto",
         "type": "bar",
         "x": [
          4.63
         ],
         "xaxis": "x",
         "y": [
          "دیوان‎‎ [Dīvān]"
         ],
         "yaxis": "y"
        },
        {
         "alignmentgroup": "True",
         "hovertemplate": "original_title=%{y}<br>average_rating=%{x}<extra></extra>",
         "legendgroup": "The Hate U Give",
         "marker": {
          "color": "#FFA15A"
         },
         "name": "The Hate U Give",
         "offsetgroup": "The Hate U Give",
         "orientation": "h",
         "showlegend": true,
         "textposition": "auto",
         "type": "bar",
         "x": [
          4.62
         ],
         "xaxis": "x",
         "y": [
          "The Hate U Give"
         ],
         "yaxis": "y"
        }
       ],
       "layout": {
        "barmode": "relative",
        "height": 700,
        "legend": {
         "title": {
          "text": "original_title"
         },
         "tracegroupgap": 0
        },
        "template": {
         "data": {
          "bar": [
           {
            "error_x": {
             "color": "#2a3f5f"
            },
            "error_y": {
             "color": "#2a3f5f"
            },
            "marker": {
             "line": {
              "color": "#E5ECF6",
              "width": 0.5
             }
            },
            "type": "bar"
           }
          ],
          "barpolar": [
           {
            "marker": {
             "line": {
              "color": "#E5ECF6",
              "width": 0.5
             }
            },
            "type": "barpolar"
           }
          ],
          "carpet": [
           {
            "aaxis": {
             "endlinecolor": "#2a3f5f",
             "gridcolor": "white",
             "linecolor": "white",
             "minorgridcolor": "white",
             "startlinecolor": "#2a3f5f"
            },
            "baxis": {
             "endlinecolor": "#2a3f5f",
             "gridcolor": "white",
             "linecolor": "white",
             "minorgridcolor": "white",
             "startlinecolor": "#2a3f5f"
            },
            "type": "carpet"
           }
          ],
          "choropleth": [
           {
            "colorbar": {
             "outlinewidth": 0,
             "ticks": ""
            },
            "type": "choropleth"
           }
          ],
          "contour": [
           {
            "colorbar": {
             "outlinewidth": 0,
             "ticks": ""
            },
            "colorscale": [
             [
              0,
              "#0d0887"
             ],
             [
              0.1111111111111111,
              "#46039f"
             ],
             [
              0.2222222222222222,
              "#7201a8"
             ],
             [
              0.3333333333333333,
              "#9c179e"
             ],
             [
              0.4444444444444444,
              "#bd3786"
             ],
             [
              0.5555555555555556,
              "#d8576b"
             ],
             [
              0.6666666666666666,
              "#ed7953"
             ],
             [
              0.7777777777777778,
              "#fb9f3a"
             ],
             [
              0.8888888888888888,
              "#fdca26"
             ],
             [
              1,
              "#f0f921"
             ]
            ],
            "type": "contour"
           }
          ],
          "contourcarpet": [
           {
            "colorbar": {
             "outlinewidth": 0,
             "ticks": ""
            },
            "type": "contourcarpet"
           }
          ],
          "heatmap": [
           {
            "colorbar": {
             "outlinewidth": 0,
             "ticks": ""
            },
            "colorscale": [
             [
              0,
              "#0d0887"
             ],
             [
              0.1111111111111111,
              "#46039f"
             ],
             [
              0.2222222222222222,
              "#7201a8"
             ],
             [
              0.3333333333333333,
              "#9c179e"
             ],
             [
              0.4444444444444444,
              "#bd3786"
             ],
             [
              0.5555555555555556,
              "#d8576b"
             ],
             [
              0.6666666666666666,
              "#ed7953"
             ],
             [
              0.7777777777777778,
              "#fb9f3a"
             ],
             [
              0.8888888888888888,
              "#fdca26"
             ],
             [
              1,
              "#f0f921"
             ]
            ],
            "type": "heatmap"
           }
          ],
          "heatmapgl": [
           {
            "colorbar": {
             "outlinewidth": 0,
             "ticks": ""
            },
            "colorscale": [
             [
              0,
              "#0d0887"
             ],
             [
              0.1111111111111111,
              "#46039f"
             ],
             [
              0.2222222222222222,
              "#7201a8"
             ],
             [
              0.3333333333333333,
              "#9c179e"
             ],
             [
              0.4444444444444444,
              "#bd3786"
             ],
             [
              0.5555555555555556,
              "#d8576b"
             ],
             [
              0.6666666666666666,
              "#ed7953"
             ],
             [
              0.7777777777777778,
              "#fb9f3a"
             ],
             [
              0.8888888888888888,
              "#fdca26"
             ],
             [
              1,
              "#f0f921"
             ]
            ],
            "type": "heatmapgl"
           }
          ],
          "histogram": [
           {
            "marker": {
             "colorbar": {
              "outlinewidth": 0,
              "ticks": ""
             }
            },
            "type": "histogram"
           }
          ],
          "histogram2d": [
           {
            "colorbar": {
             "outlinewidth": 0,
             "ticks": ""
            },
            "colorscale": [
             [
              0,
              "#0d0887"
             ],
             [
              0.1111111111111111,
              "#46039f"
             ],
             [
              0.2222222222222222,
              "#7201a8"
             ],
             [
              0.3333333333333333,
              "#9c179e"
             ],
             [
              0.4444444444444444,
              "#bd3786"
             ],
             [
              0.5555555555555556,
              "#d8576b"
             ],
             [
              0.6666666666666666,
              "#ed7953"
             ],
             [
              0.7777777777777778,
              "#fb9f3a"
             ],
             [
              0.8888888888888888,
              "#fdca26"
             ],
             [
              1,
              "#f0f921"
             ]
            ],
            "type": "histogram2d"
           }
          ],
          "histogram2dcontour": [
           {
            "colorbar": {
             "outlinewidth": 0,
             "ticks": ""
            },
            "colorscale": [
             [
              0,
              "#0d0887"
             ],
             [
              0.1111111111111111,
              "#46039f"
             ],
             [
              0.2222222222222222,
              "#7201a8"
             ],
             [
              0.3333333333333333,
              "#9c179e"
             ],
             [
              0.4444444444444444,
              "#bd3786"
             ],
             [
              0.5555555555555556,
              "#d8576b"
             ],
             [
              0.6666666666666666,
              "#ed7953"
             ],
             [
              0.7777777777777778,
              "#fb9f3a"
             ],
             [
              0.8888888888888888,
              "#fdca26"
             ],
             [
              1,
              "#f0f921"
             ]
            ],
            "type": "histogram2dcontour"
           }
          ],
          "mesh3d": [
           {
            "colorbar": {
             "outlinewidth": 0,
             "ticks": ""
            },
            "type": "mesh3d"
           }
          ],
          "parcoords": [
           {
            "line": {
             "colorbar": {
              "outlinewidth": 0,
              "ticks": ""
             }
            },
            "type": "parcoords"
           }
          ],
          "pie": [
           {
            "automargin": true,
            "type": "pie"
           }
          ],
          "scatter": [
           {
            "marker": {
             "colorbar": {
              "outlinewidth": 0,
              "ticks": ""
             }
            },
            "type": "scatter"
           }
          ],
          "scatter3d": [
           {
            "line": {
             "colorbar": {
              "outlinewidth": 0,
              "ticks": ""
             }
            },
            "marker": {
             "colorbar": {
              "outlinewidth": 0,
              "ticks": ""
             }
            },
            "type": "scatter3d"
           }
          ],
          "scattercarpet": [
           {
            "marker": {
             "colorbar": {
              "outlinewidth": 0,
              "ticks": ""
             }
            },
            "type": "scattercarpet"
           }
          ],
          "scattergeo": [
           {
            "marker": {
             "colorbar": {
              "outlinewidth": 0,
              "ticks": ""
             }
            },
            "type": "scattergeo"
           }
          ],
          "scattergl": [
           {
            "marker": {
             "colorbar": {
              "outlinewidth": 0,
              "ticks": ""
             }
            },
            "type": "scattergl"
           }
          ],
          "scattermapbox": [
           {
            "marker": {
             "colorbar": {
              "outlinewidth": 0,
              "ticks": ""
             }
            },
            "type": "scattermapbox"
           }
          ],
          "scatterpolar": [
           {
            "marker": {
             "colorbar": {
              "outlinewidth": 0,
              "ticks": ""
             }
            },
            "type": "scatterpolar"
           }
          ],
          "scatterpolargl": [
           {
            "marker": {
             "colorbar": {
              "outlinewidth": 0,
              "ticks": ""
             }
            },
            "type": "scatterpolargl"
           }
          ],
          "scatterternary": [
           {
            "marker": {
             "colorbar": {
              "outlinewidth": 0,
              "ticks": ""
             }
            },
            "type": "scatterternary"
           }
          ],
          "surface": [
           {
            "colorbar": {
             "outlinewidth": 0,
             "ticks": ""
            },
            "colorscale": [
             [
              0,
              "#0d0887"
             ],
             [
              0.1111111111111111,
              "#46039f"
             ],
             [
              0.2222222222222222,
              "#7201a8"
             ],
             [
              0.3333333333333333,
              "#9c179e"
             ],
             [
              0.4444444444444444,
              "#bd3786"
             ],
             [
              0.5555555555555556,
              "#d8576b"
             ],
             [
              0.6666666666666666,
              "#ed7953"
             ],
             [
              0.7777777777777778,
              "#fb9f3a"
             ],
             [
              0.8888888888888888,
              "#fdca26"
             ],
             [
              1,
              "#f0f921"
             ]
            ],
            "type": "surface"
           }
          ],
          "table": [
           {
            "cells": {
             "fill": {
              "color": "#EBF0F8"
             },
             "line": {
              "color": "white"
             }
            },
            "header": {
             "fill": {
              "color": "#C8D4E3"
             },
             "line": {
              "color": "white"
             }
            },
            "type": "table"
           }
          ]
         },
         "layout": {
          "annotationdefaults": {
           "arrowcolor": "#2a3f5f",
           "arrowhead": 0,
           "arrowwidth": 1
          },
          "coloraxis": {
           "colorbar": {
            "outlinewidth": 0,
            "ticks": ""
           }
          },
          "colorscale": {
           "diverging": [
            [
             0,
             "#8e0152"
            ],
            [
             0.1,
             "#c51b7d"
            ],
            [
             0.2,
             "#de77ae"
            ],
            [
             0.3,
             "#f1b6da"
            ],
            [
             0.4,
             "#fde0ef"
            ],
            [
             0.5,
             "#f7f7f7"
            ],
            [
             0.6,
             "#e6f5d0"
            ],
            [
             0.7,
             "#b8e186"
            ],
            [
             0.8,
             "#7fbc41"
            ],
            [
             0.9,
             "#4d9221"
            ],
            [
             1,
             "#276419"
            ]
           ],
           "sequential": [
            [
             0,
             "#0d0887"
            ],
            [
             0.1111111111111111,
             "#46039f"
            ],
            [
             0.2222222222222222,
             "#7201a8"
            ],
            [
             0.3333333333333333,
             "#9c179e"
            ],
            [
             0.4444444444444444,
             "#bd3786"
            ],
            [
             0.5555555555555556,
             "#d8576b"
            ],
            [
             0.6666666666666666,
             "#ed7953"
            ],
            [
             0.7777777777777778,
             "#fb9f3a"
            ],
            [
             0.8888888888888888,
             "#fdca26"
            ],
            [
             1,
             "#f0f921"
            ]
           ],
           "sequentialminus": [
            [
             0,
             "#0d0887"
            ],
            [
             0.1111111111111111,
             "#46039f"
            ],
            [
             0.2222222222222222,
             "#7201a8"
            ],
            [
             0.3333333333333333,
             "#9c179e"
            ],
            [
             0.4444444444444444,
             "#bd3786"
            ],
            [
             0.5555555555555556,
             "#d8576b"
            ],
            [
             0.6666666666666666,
             "#ed7953"
            ],
            [
             0.7777777777777778,
             "#fb9f3a"
            ],
            [
             0.8888888888888888,
             "#fdca26"
            ],
            [
             1,
             "#f0f921"
            ]
           ]
          },
          "colorway": [
           "#636efa",
           "#EF553B",
           "#00cc96",
           "#ab63fa",
           "#FFA15A",
           "#19d3f3",
           "#FF6692",
           "#B6E880",
           "#FF97FF",
           "#FECB52"
          ],
          "font": {
           "color": "#2a3f5f"
          },
          "geo": {
           "bgcolor": "white",
           "lakecolor": "white",
           "landcolor": "#E5ECF6",
           "showlakes": true,
           "showland": true,
           "subunitcolor": "white"
          },
          "hoverlabel": {
           "align": "left"
          },
          "hovermode": "closest",
          "mapbox": {
           "style": "light"
          },
          "paper_bgcolor": "white",
          "plot_bgcolor": "#E5ECF6",
          "polar": {
           "angularaxis": {
            "gridcolor": "white",
            "linecolor": "white",
            "ticks": ""
           },
           "bgcolor": "#E5ECF6",
           "radialaxis": {
            "gridcolor": "white",
            "linecolor": "white",
            "ticks": ""
           }
          },
          "scene": {
           "xaxis": {
            "backgroundcolor": "#E5ECF6",
            "gridcolor": "white",
            "gridwidth": 2,
            "linecolor": "white",
            "showbackground": true,
            "ticks": "",
            "zerolinecolor": "white"
           },
           "yaxis": {
            "backgroundcolor": "#E5ECF6",
            "gridcolor": "white",
            "gridwidth": 2,
            "linecolor": "white",
            "showbackground": true,
            "ticks": "",
            "zerolinecolor": "white"
           },
           "zaxis": {
            "backgroundcolor": "#E5ECF6",
            "gridcolor": "white",
            "gridwidth": 2,
            "linecolor": "white",
            "showbackground": true,
            "ticks": "",
            "zerolinecolor": "white"
           }
          },
          "shapedefaults": {
           "line": {
            "color": "#2a3f5f"
           }
          },
          "ternary": {
           "aaxis": {
            "gridcolor": "white",
            "linecolor": "white",
            "ticks": ""
           },
           "baxis": {
            "gridcolor": "white",
            "linecolor": "white",
            "ticks": ""
           },
           "bgcolor": "#E5ECF6",
           "caxis": {
            "gridcolor": "white",
            "linecolor": "white",
            "ticks": ""
           }
          },
          "title": {
           "x": 0.05
          },
          "xaxis": {
           "automargin": true,
           "gridcolor": "white",
           "linecolor": "white",
           "ticks": "",
           "title": {
            "standoff": 15
           },
           "zerolinecolor": "white",
           "zerolinewidth": 2
          },
          "yaxis": {
           "automargin": true,
           "gridcolor": "white",
           "linecolor": "white",
           "ticks": "",
           "title": {
            "standoff": 15
           },
           "zerolinecolor": "white",
           "zerolinewidth": 2
          }
         }
        },
        "title": {
         "text": "Top Rated Books and Their Ratings"
        },
        "width": 1500,
        "xaxis": {
         "anchor": "y",
         "domain": [
          0,
          1
         ],
         "title": {
          "text": "average_rating"
         }
        },
        "yaxis": {
         "anchor": "x",
         "categoryarray": [
          "The Hate U Give",
          "دیوان‎‎ [Dīvān]",
          "A Song of Ice and Fire",
          "The Calvin and Hobbes Tenth Anniversary Book",
          "The Way of Kings",
          "A Song of Ice and Fire Graphic Novels",
          "The Absolute Sandman, Volume One",
          "The Essential Calvin and Hobbes: A Calvin and Hobbes Treasury",
          "Holy Bible English Standard Version",
          "The Calvin and Hobbes Lazy Sunday Book",
          "Harry Potter Boxed Set Books 1-4",
          "The Way of Kings, Part 1",
          "The Days Are Just Packed: A Calvin and Hobbes Collection",
          "Homicidal Psycho Jungle Cat: A Calvin and Hobbes Collection",
          "Attack of the Deranged Mutant Killer Monster Snow Goons: A Calvin and Hobbes Collection",
          "A Court of Mist and Fury",
          "The Authoritative Calvin and Hobbes",
          "The Indispensable Calvin and Hobbes: A Calvin and Hobbes Treasury",
          "Harry Potter Collection (Harry Potter, #1-6)",
          "Complete Harry Potter Boxed Set",
          "There's Treasure Everywhere: A Calvin and Hobbes Collection",
          "It's a Magical World: A Calvin and Hobbes Collection",
          "Mark of the Lion Trilogy",
          "Words of Radiance",
          "The Complete Calvin and Hobbes"
         ],
         "categoryorder": "array",
         "domain": [
          0,
          1
         ],
         "title": {
          "text": "original_title"
         }
        }
       }
      },
      "text/html": [
       "<div>                            <div id=\"b1c41f81-586d-49a4-b7c8-cc40d1f7c1c8\" class=\"plotly-graph-div\" style=\"height:700px; width:1500px;\"></div>            <script type=\"text/javascript\">                require([\"plotly\"], function(Plotly) {                    window.PLOTLYENV=window.PLOTLYENV || {};                                    if (document.getElementById(\"b1c41f81-586d-49a4-b7c8-cc40d1f7c1c8\")) {                    Plotly.newPlot(                        \"b1c41f81-586d-49a4-b7c8-cc40d1f7c1c8\",                        [{\"alignmentgroup\": \"True\", \"hovertemplate\": \"original_title=%{y}<br>average_rating=%{x}<extra></extra>\", \"legendgroup\": \"The Complete Calvin and Hobbes\", \"marker\": {\"color\": \"#636efa\"}, \"name\": \"The Complete Calvin and Hobbes\", \"offsetgroup\": \"The Complete Calvin and Hobbes\", \"orientation\": \"h\", \"showlegend\": true, \"textposition\": \"auto\", \"type\": \"bar\", \"x\": [4.82], \"xaxis\": \"x\", \"y\": [\"The Complete Calvin and Hobbes\"], \"yaxis\": \"y\"}, {\"alignmentgroup\": \"True\", \"hovertemplate\": \"original_title=%{y}<br>average_rating=%{x}<extra></extra>\", \"legendgroup\": \"Words of Radiance\", \"marker\": {\"color\": \"#EF553B\"}, \"name\": \"Words of Radiance\", \"offsetgroup\": \"Words of Radiance\", \"orientation\": \"h\", \"showlegend\": true, \"textposition\": \"auto\", \"type\": \"bar\", \"x\": [4.77], \"xaxis\": \"x\", \"y\": [\"Words of Radiance\"], \"yaxis\": \"y\"}, {\"alignmentgroup\": \"True\", \"hovertemplate\": \"original_title=%{y}<br>average_rating=%{x}<extra></extra>\", \"legendgroup\": \"Mark of the Lion Trilogy\", \"marker\": {\"color\": \"#00cc96\"}, \"name\": \"Mark of the Lion Trilogy\", \"offsetgroup\": \"Mark of the Lion Trilogy\", \"orientation\": \"h\", \"showlegend\": true, \"textposition\": \"auto\", \"type\": \"bar\", \"x\": [4.76], \"xaxis\": \"x\", \"y\": [\"Mark of the Lion Trilogy\"], \"yaxis\": \"y\"}, {\"alignmentgroup\": \"True\", \"hovertemplate\": \"original_title=%{y}<br>average_rating=%{x}<extra></extra>\", \"legendgroup\": \"It's a Magical World: A Calvin and Hobbes Collection\", \"marker\": {\"color\": \"#ab63fa\"}, \"name\": \"It's a Magical World: A Calvin and Hobbes Collection\", \"offsetgroup\": \"It's a Magical World: A Calvin and Hobbes Collection\", \"orientation\": \"h\", \"showlegend\": true, \"textposition\": \"auto\", \"type\": \"bar\", \"x\": [4.75], \"xaxis\": \"x\", \"y\": [\"It's a Magical World: A Calvin and Hobbes Collection\"], \"yaxis\": \"y\"}, {\"alignmentgroup\": \"True\", \"hovertemplate\": \"original_title=%{y}<br>average_rating=%{x}<extra></extra>\", \"legendgroup\": \"There's Treasure Everywhere: A Calvin and Hobbes Collection\", \"marker\": {\"color\": \"#FFA15A\"}, \"name\": \"There's Treasure Everywhere: A Calvin and Hobbes Collection\", \"offsetgroup\": \"There's Treasure Everywhere: A Calvin and Hobbes Collection\", \"orientation\": \"h\", \"showlegend\": true, \"textposition\": \"auto\", \"type\": \"bar\", \"x\": [4.74], \"xaxis\": \"x\", \"y\": [\"There's Treasure Everywhere: A Calvin and Hobbes Collection\"], \"yaxis\": \"y\"}, {\"alignmentgroup\": \"True\", \"hovertemplate\": \"original_title=%{y}<br>average_rating=%{x}<extra></extra>\", \"legendgroup\": \"Complete Harry Potter Boxed Set\", \"marker\": {\"color\": \"#19d3f3\"}, \"name\": \"Complete Harry Potter Boxed Set\", \"offsetgroup\": \"Complete Harry Potter Boxed Set\", \"orientation\": \"h\", \"showlegend\": true, \"textposition\": \"auto\", \"type\": \"bar\", \"x\": [4.74], \"xaxis\": \"x\", \"y\": [\"Complete Harry Potter Boxed Set\"], \"yaxis\": \"y\"}, {\"alignmentgroup\": \"True\", \"hovertemplate\": \"original_title=%{y}<br>average_rating=%{x}<extra></extra>\", \"legendgroup\": \"Harry Potter Collection (Harry Potter, #1-6)\", \"marker\": {\"color\": \"#FF6692\"}, \"name\": \"Harry Potter Collection (Harry Potter, #1-6)\", \"offsetgroup\": \"Harry Potter Collection (Harry Potter, #1-6)\", \"orientation\": \"h\", \"showlegend\": true, \"textposition\": \"auto\", \"type\": \"bar\", \"x\": [4.73], \"xaxis\": \"x\", \"y\": [\"Harry Potter Collection (Harry Potter, #1-6)\"], \"yaxis\": \"y\"}, {\"alignmentgroup\": \"True\", \"hovertemplate\": \"original_title=%{y}<br>average_rating=%{x}<extra></extra>\", \"legendgroup\": \"The Indispensable Calvin and Hobbes: A Calvin and Hobbes Treasury\", \"marker\": {\"color\": \"#B6E880\"}, \"name\": \"The Indispensable Calvin and Hobbes: A Calvin and Hobbes Treasury\", \"offsetgroup\": \"The Indispensable Calvin and Hobbes: A Calvin and Hobbes Treasury\", \"orientation\": \"h\", \"showlegend\": true, \"textposition\": \"auto\", \"type\": \"bar\", \"x\": [4.73], \"xaxis\": \"x\", \"y\": [\"The Indispensable Calvin and Hobbes: A Calvin and Hobbes Treasury\"], \"yaxis\": \"y\"}, {\"alignmentgroup\": \"True\", \"hovertemplate\": \"original_title=%{y}<br>average_rating=%{x}<extra></extra>\", \"legendgroup\": \"The Authoritative Calvin and Hobbes\", \"marker\": {\"color\": \"#FF97FF\"}, \"name\": \"The Authoritative Calvin and Hobbes\", \"offsetgroup\": \"The Authoritative Calvin and Hobbes\", \"orientation\": \"h\", \"showlegend\": true, \"textposition\": \"auto\", \"type\": \"bar\", \"x\": [4.73], \"xaxis\": \"x\", \"y\": [\"The Authoritative Calvin and Hobbes\"], \"yaxis\": \"y\"}, {\"alignmentgroup\": \"True\", \"hovertemplate\": \"original_title=%{y}<br>average_rating=%{x}<extra></extra>\", \"legendgroup\": \"A Court of Mist and Fury\", \"marker\": {\"color\": \"#FECB52\"}, \"name\": \"A Court of Mist and Fury\", \"offsetgroup\": \"A Court of Mist and Fury\", \"orientation\": \"h\", \"showlegend\": true, \"textposition\": \"auto\", \"type\": \"bar\", \"x\": [4.72], \"xaxis\": \"x\", \"y\": [\"A Court of Mist and Fury\"], \"yaxis\": \"y\"}, {\"alignmentgroup\": \"True\", \"hovertemplate\": \"original_title=%{y}<br>average_rating=%{x}<extra></extra>\", \"legendgroup\": \"Attack of the Deranged Mutant Killer Monster Snow Goons: A Calvin and Hobbes Collection\", \"marker\": {\"color\": \"#636efa\"}, \"name\": \"Attack of the Deranged Mutant Killer Monster Snow Goons: A Calvin and Hobbes Collection\", \"offsetgroup\": \"Attack of the Deranged Mutant Killer Monster Snow Goons: A Calvin and Hobbes Collection\", \"orientation\": \"h\", \"showlegend\": true, \"textposition\": \"auto\", \"type\": \"bar\", \"x\": [4.72], \"xaxis\": \"x\", \"y\": [\"Attack of the Deranged Mutant Killer Monster Snow Goons: A Calvin and Hobbes Collection\"], \"yaxis\": \"y\"}, {\"alignmentgroup\": \"True\", \"hovertemplate\": \"original_title=%{y}<br>average_rating=%{x}<extra></extra>\", \"legendgroup\": \"Homicidal Psycho Jungle Cat: A Calvin and Hobbes Collection\", \"marker\": {\"color\": \"#EF553B\"}, \"name\": \"Homicidal Psycho Jungle Cat: A Calvin and Hobbes Collection\", \"offsetgroup\": \"Homicidal Psycho Jungle Cat: A Calvin and Hobbes Collection\", \"orientation\": \"h\", \"showlegend\": true, \"textposition\": \"auto\", \"type\": \"bar\", \"x\": [4.71], \"xaxis\": \"x\", \"y\": [\"Homicidal Psycho Jungle Cat: A Calvin and Hobbes Collection\"], \"yaxis\": \"y\"}, {\"alignmentgroup\": \"True\", \"hovertemplate\": \"original_title=%{y}<br>average_rating=%{x}<extra></extra>\", \"legendgroup\": \"The Days Are Just Packed: A Calvin and Hobbes Collection\", \"marker\": {\"color\": \"#00cc96\"}, \"name\": \"The Days Are Just Packed: A Calvin and Hobbes Collection\", \"offsetgroup\": \"The Days Are Just Packed: A Calvin and Hobbes Collection\", \"orientation\": \"h\", \"showlegend\": true, \"textposition\": \"auto\", \"type\": \"bar\", \"x\": [4.68], \"xaxis\": \"x\", \"y\": [\"The Days Are Just Packed: A Calvin and Hobbes Collection\"], \"yaxis\": \"y\"}, {\"alignmentgroup\": \"True\", \"hovertemplate\": \"original_title=%{y}<br>average_rating=%{x}<extra></extra>\", \"legendgroup\": \"The Way of Kings, Part 1\", \"marker\": {\"color\": \"#ab63fa\"}, \"name\": \"The Way of Kings, Part 1\", \"offsetgroup\": \"The Way of Kings, Part 1\", \"orientation\": \"h\", \"showlegend\": true, \"textposition\": \"auto\", \"type\": \"bar\", \"x\": [4.67], \"xaxis\": \"x\", \"y\": [\"The Way of Kings, Part 1\"], \"yaxis\": \"y\"}, {\"alignmentgroup\": \"True\", \"hovertemplate\": \"original_title=%{y}<br>average_rating=%{x}<extra></extra>\", \"legendgroup\": \"Harry Potter Boxed Set Books 1-4\", \"marker\": {\"color\": \"#FFA15A\"}, \"name\": \"Harry Potter Boxed Set Books 1-4\", \"offsetgroup\": \"Harry Potter Boxed Set Books 1-4\", \"orientation\": \"h\", \"showlegend\": true, \"textposition\": \"auto\", \"type\": \"bar\", \"x\": [4.66], \"xaxis\": \"x\", \"y\": [\"Harry Potter Boxed Set Books 1-4\"], \"yaxis\": \"y\"}, {\"alignmentgroup\": \"True\", \"hovertemplate\": \"original_title=%{y}<br>average_rating=%{x}<extra></extra>\", \"legendgroup\": \"The Calvin and Hobbes Lazy Sunday Book\", \"marker\": {\"color\": \"#19d3f3\"}, \"name\": \"The Calvin and Hobbes Lazy Sunday Book\", \"offsetgroup\": \"The Calvin and Hobbes Lazy Sunday Book\", \"orientation\": \"h\", \"showlegend\": true, \"textposition\": \"auto\", \"type\": \"bar\", \"x\": [4.66], \"xaxis\": \"x\", \"y\": [\"The Calvin and Hobbes Lazy Sunday Book\"], \"yaxis\": \"y\"}, {\"alignmentgroup\": \"True\", \"hovertemplate\": \"original_title=%{y}<br>average_rating=%{x}<extra></extra>\", \"legendgroup\": \"Holy Bible English Standard Version\", \"marker\": {\"color\": \"#FF6692\"}, \"name\": \"Holy Bible English Standard Version\", \"offsetgroup\": \"Holy Bible English Standard Version\", \"orientation\": \"h\", \"showlegend\": true, \"textposition\": \"auto\", \"type\": \"bar\", \"x\": [4.66], \"xaxis\": \"x\", \"y\": [\"Holy Bible English Standard Version\"], \"yaxis\": \"y\"}, {\"alignmentgroup\": \"True\", \"hovertemplate\": \"original_title=%{y}<br>average_rating=%{x}<extra></extra>\", \"legendgroup\": \"The Essential Calvin and Hobbes: A Calvin and Hobbes Treasury\", \"marker\": {\"color\": \"#B6E880\"}, \"name\": \"The Essential Calvin and Hobbes: A Calvin and Hobbes Treasury\", \"offsetgroup\": \"The Essential Calvin and Hobbes: A Calvin and Hobbes Treasury\", \"orientation\": \"h\", \"showlegend\": true, \"textposition\": \"auto\", \"type\": \"bar\", \"x\": [4.65], \"xaxis\": \"x\", \"y\": [\"The Essential Calvin and Hobbes: A Calvin and Hobbes Treasury\"], \"yaxis\": \"y\"}, {\"alignmentgroup\": \"True\", \"hovertemplate\": \"original_title=%{y}<br>average_rating=%{x}<extra></extra>\", \"legendgroup\": \"The Absolute Sandman, Volume One\", \"marker\": {\"color\": \"#FF97FF\"}, \"name\": \"The Absolute Sandman, Volume One\", \"offsetgroup\": \"The Absolute Sandman, Volume One\", \"orientation\": \"h\", \"showlegend\": true, \"textposition\": \"auto\", \"type\": \"bar\", \"x\": [4.65], \"xaxis\": \"x\", \"y\": [\"The Absolute Sandman, Volume One\"], \"yaxis\": \"y\"}, {\"alignmentgroup\": \"True\", \"hovertemplate\": \"original_title=%{y}<br>average_rating=%{x}<extra></extra>\", \"legendgroup\": \"A Song of Ice and Fire Graphic Novels\", \"marker\": {\"color\": \"#FECB52\"}, \"name\": \"A Song of Ice and Fire Graphic Novels\", \"offsetgroup\": \"A Song of Ice and Fire Graphic Novels\", \"orientation\": \"h\", \"showlegend\": true, \"textposition\": \"auto\", \"type\": \"bar\", \"x\": [4.65], \"xaxis\": \"x\", \"y\": [\"A Song of Ice and Fire Graphic Novels\"], \"yaxis\": \"y\"}, {\"alignmentgroup\": \"True\", \"hovertemplate\": \"original_title=%{y}<br>average_rating=%{x}<extra></extra>\", \"legendgroup\": \"The Way of Kings\", \"marker\": {\"color\": \"#636efa\"}, \"name\": \"The Way of Kings\", \"offsetgroup\": \"The Way of Kings\", \"orientation\": \"h\", \"showlegend\": true, \"textposition\": \"auto\", \"type\": \"bar\", \"x\": [4.64], \"xaxis\": \"x\", \"y\": [\"The Way of Kings\"], \"yaxis\": \"y\"}, {\"alignmentgroup\": \"True\", \"hovertemplate\": \"original_title=%{y}<br>average_rating=%{x}<extra></extra>\", \"legendgroup\": \"The Calvin and Hobbes Tenth Anniversary Book\", \"marker\": {\"color\": \"#EF553B\"}, \"name\": \"The Calvin and Hobbes Tenth Anniversary Book\", \"offsetgroup\": \"The Calvin and Hobbes Tenth Anniversary Book\", \"orientation\": \"h\", \"showlegend\": true, \"textposition\": \"auto\", \"type\": \"bar\", \"x\": [4.63], \"xaxis\": \"x\", \"y\": [\"The Calvin and Hobbes Tenth Anniversary Book\"], \"yaxis\": \"y\"}, {\"alignmentgroup\": \"True\", \"hovertemplate\": \"original_title=%{y}<br>average_rating=%{x}<extra></extra>\", \"legendgroup\": \"A Song of Ice and Fire\", \"marker\": {\"color\": \"#00cc96\"}, \"name\": \"A Song of Ice and Fire\", \"offsetgroup\": \"A Song of Ice and Fire\", \"orientation\": \"h\", \"showlegend\": true, \"textposition\": \"auto\", \"type\": \"bar\", \"x\": [4.63], \"xaxis\": \"x\", \"y\": [\"A Song of Ice and Fire\"], \"yaxis\": \"y\"}, {\"alignmentgroup\": \"True\", \"hovertemplate\": \"original_title=%{y}<br>average_rating=%{x}<extra></extra>\", \"legendgroup\": \"\\u062f\\u06cc\\u0648\\u0627\\u0646\\u200e\\u200e [D\\u012bv\\u0101n]\", \"marker\": {\"color\": \"#ab63fa\"}, \"name\": \"\\u062f\\u06cc\\u0648\\u0627\\u0646\\u200e\\u200e [D\\u012bv\\u0101n]\", \"offsetgroup\": \"\\u062f\\u06cc\\u0648\\u0627\\u0646\\u200e\\u200e [D\\u012bv\\u0101n]\", \"orientation\": \"h\", \"showlegend\": true, \"textposition\": \"auto\", \"type\": \"bar\", \"x\": [4.63], \"xaxis\": \"x\", \"y\": [\"\\u062f\\u06cc\\u0648\\u0627\\u0646\\u200e\\u200e [D\\u012bv\\u0101n]\"], \"yaxis\": \"y\"}, {\"alignmentgroup\": \"True\", \"hovertemplate\": \"original_title=%{y}<br>average_rating=%{x}<extra></extra>\", \"legendgroup\": \"The Hate U Give\", \"marker\": {\"color\": \"#FFA15A\"}, \"name\": \"The Hate U Give\", \"offsetgroup\": \"The Hate U Give\", \"orientation\": \"h\", \"showlegend\": true, \"textposition\": \"auto\", \"type\": \"bar\", \"x\": [4.62], \"xaxis\": \"x\", \"y\": [\"The Hate U Give\"], \"yaxis\": \"y\"}],                        {\"barmode\": \"relative\", \"height\": 700, \"legend\": {\"title\": {\"text\": \"original_title\"}, \"tracegroupgap\": 0}, \"template\": {\"data\": {\"bar\": [{\"error_x\": {\"color\": \"#2a3f5f\"}, \"error_y\": {\"color\": \"#2a3f5f\"}, \"marker\": {\"line\": {\"color\": \"#E5ECF6\", \"width\": 0.5}}, \"type\": \"bar\"}], \"barpolar\": [{\"marker\": {\"line\": {\"color\": \"#E5ECF6\", \"width\": 0.5}}, \"type\": \"barpolar\"}], \"carpet\": [{\"aaxis\": {\"endlinecolor\": \"#2a3f5f\", \"gridcolor\": \"white\", \"linecolor\": \"white\", \"minorgridcolor\": \"white\", \"startlinecolor\": \"#2a3f5f\"}, \"baxis\": {\"endlinecolor\": \"#2a3f5f\", \"gridcolor\": \"white\", \"linecolor\": \"white\", \"minorgridcolor\": \"white\", \"startlinecolor\": \"#2a3f5f\"}, \"type\": \"carpet\"}], \"choropleth\": [{\"colorbar\": {\"outlinewidth\": 0, \"ticks\": \"\"}, \"type\": \"choropleth\"}], \"contour\": [{\"colorbar\": {\"outlinewidth\": 0, \"ticks\": \"\"}, \"colorscale\": [[0.0, \"#0d0887\"], [0.1111111111111111, \"#46039f\"], [0.2222222222222222, \"#7201a8\"], [0.3333333333333333, \"#9c179e\"], [0.4444444444444444, \"#bd3786\"], [0.5555555555555556, \"#d8576b\"], [0.6666666666666666, \"#ed7953\"], [0.7777777777777778, \"#fb9f3a\"], [0.8888888888888888, \"#fdca26\"], [1.0, \"#f0f921\"]], \"type\": \"contour\"}], \"contourcarpet\": [{\"colorbar\": {\"outlinewidth\": 0, \"ticks\": \"\"}, \"type\": \"contourcarpet\"}], \"heatmap\": [{\"colorbar\": {\"outlinewidth\": 0, \"ticks\": \"\"}, \"colorscale\": [[0.0, \"#0d0887\"], [0.1111111111111111, \"#46039f\"], [0.2222222222222222, \"#7201a8\"], [0.3333333333333333, \"#9c179e\"], [0.4444444444444444, \"#bd3786\"], [0.5555555555555556, \"#d8576b\"], [0.6666666666666666, \"#ed7953\"], [0.7777777777777778, \"#fb9f3a\"], [0.8888888888888888, \"#fdca26\"], [1.0, \"#f0f921\"]], \"type\": \"heatmap\"}], \"heatmapgl\": [{\"colorbar\": {\"outlinewidth\": 0, \"ticks\": \"\"}, \"colorscale\": [[0.0, \"#0d0887\"], [0.1111111111111111, \"#46039f\"], [0.2222222222222222, \"#7201a8\"], [0.3333333333333333, \"#9c179e\"], [0.4444444444444444, \"#bd3786\"], [0.5555555555555556, \"#d8576b\"], [0.6666666666666666, \"#ed7953\"], [0.7777777777777778, \"#fb9f3a\"], [0.8888888888888888, \"#fdca26\"], [1.0, \"#f0f921\"]], \"type\": \"heatmapgl\"}], \"histogram\": [{\"marker\": {\"colorbar\": {\"outlinewidth\": 0, \"ticks\": \"\"}}, \"type\": \"histogram\"}], \"histogram2d\": [{\"colorbar\": {\"outlinewidth\": 0, \"ticks\": \"\"}, \"colorscale\": [[0.0, \"#0d0887\"], [0.1111111111111111, \"#46039f\"], [0.2222222222222222, \"#7201a8\"], [0.3333333333333333, \"#9c179e\"], [0.4444444444444444, \"#bd3786\"], [0.5555555555555556, \"#d8576b\"], [0.6666666666666666, \"#ed7953\"], [0.7777777777777778, \"#fb9f3a\"], [0.8888888888888888, \"#fdca26\"], [1.0, \"#f0f921\"]], \"type\": \"histogram2d\"}], \"histogram2dcontour\": [{\"colorbar\": {\"outlinewidth\": 0, \"ticks\": \"\"}, \"colorscale\": [[0.0, \"#0d0887\"], [0.1111111111111111, \"#46039f\"], [0.2222222222222222, \"#7201a8\"], [0.3333333333333333, \"#9c179e\"], [0.4444444444444444, \"#bd3786\"], [0.5555555555555556, \"#d8576b\"], [0.6666666666666666, \"#ed7953\"], [0.7777777777777778, \"#fb9f3a\"], [0.8888888888888888, \"#fdca26\"], [1.0, \"#f0f921\"]], \"type\": \"histogram2dcontour\"}], \"mesh3d\": [{\"colorbar\": {\"outlinewidth\": 0, \"ticks\": \"\"}, \"type\": \"mesh3d\"}], \"parcoords\": [{\"line\": {\"colorbar\": {\"outlinewidth\": 0, \"ticks\": \"\"}}, \"type\": \"parcoords\"}], \"pie\": [{\"automargin\": true, \"type\": \"pie\"}], \"scatter\": [{\"marker\": {\"colorbar\": {\"outlinewidth\": 0, \"ticks\": \"\"}}, \"type\": \"scatter\"}], \"scatter3d\": [{\"line\": {\"colorbar\": {\"outlinewidth\": 0, \"ticks\": \"\"}}, \"marker\": {\"colorbar\": {\"outlinewidth\": 0, \"ticks\": \"\"}}, \"type\": \"scatter3d\"}], \"scattercarpet\": [{\"marker\": {\"colorbar\": {\"outlinewidth\": 0, \"ticks\": \"\"}}, \"type\": \"scattercarpet\"}], \"scattergeo\": [{\"marker\": {\"colorbar\": {\"outlinewidth\": 0, \"ticks\": \"\"}}, \"type\": \"scattergeo\"}], \"scattergl\": [{\"marker\": {\"colorbar\": {\"outlinewidth\": 0, \"ticks\": \"\"}}, \"type\": \"scattergl\"}], \"scattermapbox\": [{\"marker\": {\"colorbar\": {\"outlinewidth\": 0, \"ticks\": \"\"}}, \"type\": \"scattermapbox\"}], \"scatterpolar\": [{\"marker\": {\"colorbar\": {\"outlinewidth\": 0, \"ticks\": \"\"}}, \"type\": \"scatterpolar\"}], \"scatterpolargl\": [{\"marker\": {\"colorbar\": {\"outlinewidth\": 0, \"ticks\": \"\"}}, \"type\": \"scatterpolargl\"}], \"scatterternary\": [{\"marker\": {\"colorbar\": {\"outlinewidth\": 0, \"ticks\": \"\"}}, \"type\": \"scatterternary\"}], \"surface\": [{\"colorbar\": {\"outlinewidth\": 0, \"ticks\": \"\"}, \"colorscale\": [[0.0, \"#0d0887\"], [0.1111111111111111, \"#46039f\"], [0.2222222222222222, \"#7201a8\"], [0.3333333333333333, \"#9c179e\"], [0.4444444444444444, \"#bd3786\"], [0.5555555555555556, \"#d8576b\"], [0.6666666666666666, \"#ed7953\"], [0.7777777777777778, \"#fb9f3a\"], [0.8888888888888888, \"#fdca26\"], [1.0, \"#f0f921\"]], \"type\": \"surface\"}], \"table\": [{\"cells\": {\"fill\": {\"color\": \"#EBF0F8\"}, \"line\": {\"color\": \"white\"}}, \"header\": {\"fill\": {\"color\": \"#C8D4E3\"}, \"line\": {\"color\": \"white\"}}, \"type\": \"table\"}]}, \"layout\": {\"annotationdefaults\": {\"arrowcolor\": \"#2a3f5f\", \"arrowhead\": 0, \"arrowwidth\": 1}, \"coloraxis\": {\"colorbar\": {\"outlinewidth\": 0, \"ticks\": \"\"}}, \"colorscale\": {\"diverging\": [[0, \"#8e0152\"], [0.1, \"#c51b7d\"], [0.2, \"#de77ae\"], [0.3, \"#f1b6da\"], [0.4, \"#fde0ef\"], [0.5, \"#f7f7f7\"], [0.6, \"#e6f5d0\"], [0.7, \"#b8e186\"], [0.8, \"#7fbc41\"], [0.9, \"#4d9221\"], [1, \"#276419\"]], \"sequential\": [[0.0, \"#0d0887\"], [0.1111111111111111, \"#46039f\"], [0.2222222222222222, \"#7201a8\"], [0.3333333333333333, \"#9c179e\"], [0.4444444444444444, \"#bd3786\"], [0.5555555555555556, \"#d8576b\"], [0.6666666666666666, \"#ed7953\"], [0.7777777777777778, \"#fb9f3a\"], [0.8888888888888888, \"#fdca26\"], [1.0, \"#f0f921\"]], \"sequentialminus\": [[0.0, \"#0d0887\"], [0.1111111111111111, \"#46039f\"], [0.2222222222222222, \"#7201a8\"], [0.3333333333333333, \"#9c179e\"], [0.4444444444444444, \"#bd3786\"], [0.5555555555555556, \"#d8576b\"], [0.6666666666666666, \"#ed7953\"], [0.7777777777777778, \"#fb9f3a\"], [0.8888888888888888, \"#fdca26\"], [1.0, \"#f0f921\"]]}, \"colorway\": [\"#636efa\", \"#EF553B\", \"#00cc96\", \"#ab63fa\", \"#FFA15A\", \"#19d3f3\", \"#FF6692\", \"#B6E880\", \"#FF97FF\", \"#FECB52\"], \"font\": {\"color\": \"#2a3f5f\"}, \"geo\": {\"bgcolor\": \"white\", \"lakecolor\": \"white\", \"landcolor\": \"#E5ECF6\", \"showlakes\": true, \"showland\": true, \"subunitcolor\": \"white\"}, \"hoverlabel\": {\"align\": \"left\"}, \"hovermode\": \"closest\", \"mapbox\": {\"style\": \"light\"}, \"paper_bgcolor\": \"white\", \"plot_bgcolor\": \"#E5ECF6\", \"polar\": {\"angularaxis\": {\"gridcolor\": \"white\", \"linecolor\": \"white\", \"ticks\": \"\"}, \"bgcolor\": \"#E5ECF6\", \"radialaxis\": {\"gridcolor\": \"white\", \"linecolor\": \"white\", \"ticks\": \"\"}}, \"scene\": {\"xaxis\": {\"backgroundcolor\": \"#E5ECF6\", \"gridcolor\": \"white\", \"gridwidth\": 2, \"linecolor\": \"white\", \"showbackground\": true, \"ticks\": \"\", \"zerolinecolor\": \"white\"}, \"yaxis\": {\"backgroundcolor\": \"#E5ECF6\", \"gridcolor\": \"white\", \"gridwidth\": 2, \"linecolor\": \"white\", \"showbackground\": true, \"ticks\": \"\", \"zerolinecolor\": \"white\"}, \"zaxis\": {\"backgroundcolor\": \"#E5ECF6\", \"gridcolor\": \"white\", \"gridwidth\": 2, \"linecolor\": \"white\", \"showbackground\": true, \"ticks\": \"\", \"zerolinecolor\": \"white\"}}, \"shapedefaults\": {\"line\": {\"color\": \"#2a3f5f\"}}, \"ternary\": {\"aaxis\": {\"gridcolor\": \"white\", \"linecolor\": \"white\", \"ticks\": \"\"}, \"baxis\": {\"gridcolor\": \"white\", \"linecolor\": \"white\", \"ticks\": \"\"}, \"bgcolor\": \"#E5ECF6\", \"caxis\": {\"gridcolor\": \"white\", \"linecolor\": \"white\", \"ticks\": \"\"}}, \"title\": {\"x\": 0.05}, \"xaxis\": {\"automargin\": true, \"gridcolor\": \"white\", \"linecolor\": \"white\", \"ticks\": \"\", \"title\": {\"standoff\": 15}, \"zerolinecolor\": \"white\", \"zerolinewidth\": 2}, \"yaxis\": {\"automargin\": true, \"gridcolor\": \"white\", \"linecolor\": \"white\", \"ticks\": \"\", \"title\": {\"standoff\": 15}, \"zerolinecolor\": \"white\", \"zerolinewidth\": 2}}}, \"title\": {\"text\": \"Top Rated Books and Their Ratings\"}, \"width\": 1500, \"xaxis\": {\"anchor\": \"y\", \"domain\": [0.0, 1.0], \"title\": {\"text\": \"average_rating\"}}, \"yaxis\": {\"anchor\": \"x\", \"categoryarray\": [\"The Hate U Give\", \"\\u062f\\u06cc\\u0648\\u0627\\u0646\\u200e\\u200e [D\\u012bv\\u0101n]\", \"A Song of Ice and Fire\", \"The Calvin and Hobbes Tenth Anniversary Book\", \"The Way of Kings\", \"A Song of Ice and Fire Graphic Novels\", \"The Absolute Sandman, Volume One\", \"The Essential Calvin and Hobbes: A Calvin and Hobbes Treasury\", \"Holy Bible English Standard Version\", \"The Calvin and Hobbes Lazy Sunday Book\", \"Harry Potter Boxed Set Books 1-4\", \"The Way of Kings, Part 1\", \"The Days Are Just Packed: A Calvin and Hobbes Collection\", \"Homicidal Psycho Jungle Cat: A Calvin and Hobbes Collection\", \"Attack of the Deranged Mutant Killer Monster Snow Goons: A Calvin and Hobbes Collection\", \"A Court of Mist and Fury\", \"The Authoritative Calvin and Hobbes\", \"The Indispensable Calvin and Hobbes: A Calvin and Hobbes Treasury\", \"Harry Potter Collection (Harry Potter, #1-6)\", \"Complete Harry Potter Boxed Set\", \"There's Treasure Everywhere: A Calvin and Hobbes Collection\", \"It's a Magical World: A Calvin and Hobbes Collection\", \"Mark of the Lion Trilogy\", \"Words of Radiance\", \"The Complete Calvin and Hobbes\"], \"categoryorder\": \"array\", \"domain\": [0.0, 1.0], \"title\": {\"text\": \"original_title\"}}},                        {\"responsive\": true}                    ).then(function(){\n",
       "                            \n",
       "var gd = document.getElementById('b1c41f81-586d-49a4-b7c8-cc40d1f7c1c8');\n",
       "var x = new MutationObserver(function (mutations, observer) {{\n",
       "        var display = window.getComputedStyle(gd).display;\n",
       "        if (!display || display === 'none') {{\n",
       "            console.log([gd, 'removed!']);\n",
       "            Plotly.purge(gd);\n",
       "            observer.disconnect();\n",
       "        }}\n",
       "}});\n",
       "\n",
       "// Listen for the removal of the full notebook cells\n",
       "var notebookContainer = gd.closest('#notebook-container');\n",
       "if (notebookContainer) {{\n",
       "    x.observe(notebookContainer, {childList: true});\n",
       "}}\n",
       "\n",
       "// Listen for the clearing of the current output cell\n",
       "var outputEl = gd.closest('.output');\n",
       "if (outputEl) {{\n",
       "    x.observe(outputEl, {childList: true});\n",
       "}}\n",
       "\n",
       "                        })                };                });            </script>        </div>"
      ]
     },
     "metadata": {},
     "output_type": "display_data"
    }
   ],
   "source": [
    "top_rated = books_data.sort_values('average_rating', ascending=False)\n",
    "tf_top_rated = top_rated[:25]\n",
    "fig = px.bar(tf_top_rated, x=\"average_rating\", y=\"original_title\", title='Top Rated Books and Their Ratings',\n",
    "             orientation='h', color='original_title', width=1500, height=700)\n",
    "fig.show()\n",
    "#fig.write_image('images/book_bar.jpg')"
   ]
  },
  {
   "cell_type": "code",
   "execution_count": 3,
   "metadata": {},
   "outputs": [
    {
     "data": {
      "application/vnd.plotly.v1+json": {
       "config": {
        "plotlyServerURL": "https://plot.ly"
       },
       "data": [
        {
         "branchvalues": "total",
         "domain": {
          "x": [
           0,
           1
          ],
          "y": [
           0,
           1
          ]
         },
         "hovertemplate": "labels=%{label}<br>average_rating=%{value}<br>parent=%{parent}<br>id=%{id}<extra></extra>",
         "ids": [
          "A Court of Mist and Fury",
          "A Song of Ice and Fire",
          "A Song of Ice and Fire Graphic Novels",
          "Attack of the Deranged Mutant Killer Monster Snow Goons: A Calvin and Hobbes Collection",
          "Complete Harry Potter Boxed Set",
          "Harry Potter Boxed Set Books 1-4",
          "Harry Potter Collection (Harry Potter, #1-6)",
          "Holy Bible English Standard Version",
          "Homicidal Psycho Jungle Cat: A Calvin and Hobbes Collection",
          "It's a Magical World: A Calvin and Hobbes Collection",
          "Mark of the Lion Trilogy",
          "The Absolute Sandman, Volume One",
          "The Authoritative Calvin and Hobbes",
          "The Calvin and Hobbes Lazy Sunday Book",
          "The Calvin and Hobbes Tenth Anniversary Book",
          "The Complete Calvin and Hobbes",
          "The Days Are Just Packed: A Calvin and Hobbes Collection",
          "The Essential Calvin and Hobbes: A Calvin and Hobbes Treasury",
          "The Hate U Give",
          "The Indispensable Calvin and Hobbes: A Calvin and Hobbes Treasury",
          "The Way of Kings",
          "The Way of Kings, Part 1",
          "There's Treasure Everywhere: A Calvin and Hobbes Collection",
          "Words of Radiance",
          "دیوان‎‎ [Dīvān]"
         ],
         "labels": [
          "A Court of Mist and Fury",
          "A Song of Ice and Fire",
          "A Song of Ice and Fire Graphic Novels",
          "Attack of the Deranged Mutant Killer Monster Snow Goons: A Calvin and Hobbes Collection",
          "Complete Harry Potter Boxed Set",
          "Harry Potter Boxed Set Books 1-4",
          "Harry Potter Collection (Harry Potter, #1-6)",
          "Holy Bible English Standard Version",
          "Homicidal Psycho Jungle Cat: A Calvin and Hobbes Collection",
          "It's a Magical World: A Calvin and Hobbes Collection",
          "Mark of the Lion Trilogy",
          "The Absolute Sandman, Volume One",
          "The Authoritative Calvin and Hobbes",
          "The Calvin and Hobbes Lazy Sunday Book",
          "The Calvin and Hobbes Tenth Anniversary Book",
          "The Complete Calvin and Hobbes",
          "The Days Are Just Packed: A Calvin and Hobbes Collection",
          "The Essential Calvin and Hobbes: A Calvin and Hobbes Treasury",
          "The Hate U Give",
          "The Indispensable Calvin and Hobbes: A Calvin and Hobbes Treasury",
          "The Way of Kings",
          "The Way of Kings, Part 1",
          "There's Treasure Everywhere: A Calvin and Hobbes Collection",
          "Words of Radiance",
          "دیوان‎‎ [Dīvān]"
         ],
         "name": "",
         "parents": [
          "",
          "",
          "",
          "",
          "",
          "",
          "",
          "",
          "",
          "",
          "",
          "",
          "",
          "",
          "",
          "",
          "",
          "",
          "",
          "",
          "",
          "",
          "",
          "",
          ""
         ],
         "type": "treemap",
         "values": [
          4.72,
          4.63,
          4.65,
          4.72,
          4.74,
          4.66,
          4.73,
          4.66,
          4.71,
          4.75,
          4.76,
          4.65,
          4.73,
          4.66,
          4.63,
          4.82,
          4.68,
          4.65,
          4.62,
          4.73,
          4.64,
          4.67,
          4.74,
          4.77,
          4.63
         ]
        }
       ],
       "layout": {
        "height": 700,
        "legend": {
         "tracegroupgap": 0
        },
        "template": {
         "data": {
          "bar": [
           {
            "error_x": {
             "color": "#2a3f5f"
            },
            "error_y": {
             "color": "#2a3f5f"
            },
            "marker": {
             "line": {
              "color": "#E5ECF6",
              "width": 0.5
             }
            },
            "type": "bar"
           }
          ],
          "barpolar": [
           {
            "marker": {
             "line": {
              "color": "#E5ECF6",
              "width": 0.5
             }
            },
            "type": "barpolar"
           }
          ],
          "carpet": [
           {
            "aaxis": {
             "endlinecolor": "#2a3f5f",
             "gridcolor": "white",
             "linecolor": "white",
             "minorgridcolor": "white",
             "startlinecolor": "#2a3f5f"
            },
            "baxis": {
             "endlinecolor": "#2a3f5f",
             "gridcolor": "white",
             "linecolor": "white",
             "minorgridcolor": "white",
             "startlinecolor": "#2a3f5f"
            },
            "type": "carpet"
           }
          ],
          "choropleth": [
           {
            "colorbar": {
             "outlinewidth": 0,
             "ticks": ""
            },
            "type": "choropleth"
           }
          ],
          "contour": [
           {
            "colorbar": {
             "outlinewidth": 0,
             "ticks": ""
            },
            "colorscale": [
             [
              0,
              "#0d0887"
             ],
             [
              0.1111111111111111,
              "#46039f"
             ],
             [
              0.2222222222222222,
              "#7201a8"
             ],
             [
              0.3333333333333333,
              "#9c179e"
             ],
             [
              0.4444444444444444,
              "#bd3786"
             ],
             [
              0.5555555555555556,
              "#d8576b"
             ],
             [
              0.6666666666666666,
              "#ed7953"
             ],
             [
              0.7777777777777778,
              "#fb9f3a"
             ],
             [
              0.8888888888888888,
              "#fdca26"
             ],
             [
              1,
              "#f0f921"
             ]
            ],
            "type": "contour"
           }
          ],
          "contourcarpet": [
           {
            "colorbar": {
             "outlinewidth": 0,
             "ticks": ""
            },
            "type": "contourcarpet"
           }
          ],
          "heatmap": [
           {
            "colorbar": {
             "outlinewidth": 0,
             "ticks": ""
            },
            "colorscale": [
             [
              0,
              "#0d0887"
             ],
             [
              0.1111111111111111,
              "#46039f"
             ],
             [
              0.2222222222222222,
              "#7201a8"
             ],
             [
              0.3333333333333333,
              "#9c179e"
             ],
             [
              0.4444444444444444,
              "#bd3786"
             ],
             [
              0.5555555555555556,
              "#d8576b"
             ],
             [
              0.6666666666666666,
              "#ed7953"
             ],
             [
              0.7777777777777778,
              "#fb9f3a"
             ],
             [
              0.8888888888888888,
              "#fdca26"
             ],
             [
              1,
              "#f0f921"
             ]
            ],
            "type": "heatmap"
           }
          ],
          "heatmapgl": [
           {
            "colorbar": {
             "outlinewidth": 0,
             "ticks": ""
            },
            "colorscale": [
             [
              0,
              "#0d0887"
             ],
             [
              0.1111111111111111,
              "#46039f"
             ],
             [
              0.2222222222222222,
              "#7201a8"
             ],
             [
              0.3333333333333333,
              "#9c179e"
             ],
             [
              0.4444444444444444,
              "#bd3786"
             ],
             [
              0.5555555555555556,
              "#d8576b"
             ],
             [
              0.6666666666666666,
              "#ed7953"
             ],
             [
              0.7777777777777778,
              "#fb9f3a"
             ],
             [
              0.8888888888888888,
              "#fdca26"
             ],
             [
              1,
              "#f0f921"
             ]
            ],
            "type": "heatmapgl"
           }
          ],
          "histogram": [
           {
            "marker": {
             "colorbar": {
              "outlinewidth": 0,
              "ticks": ""
             }
            },
            "type": "histogram"
           }
          ],
          "histogram2d": [
           {
            "colorbar": {
             "outlinewidth": 0,
             "ticks": ""
            },
            "colorscale": [
             [
              0,
              "#0d0887"
             ],
             [
              0.1111111111111111,
              "#46039f"
             ],
             [
              0.2222222222222222,
              "#7201a8"
             ],
             [
              0.3333333333333333,
              "#9c179e"
             ],
             [
              0.4444444444444444,
              "#bd3786"
             ],
             [
              0.5555555555555556,
              "#d8576b"
             ],
             [
              0.6666666666666666,
              "#ed7953"
             ],
             [
              0.7777777777777778,
              "#fb9f3a"
             ],
             [
              0.8888888888888888,
              "#fdca26"
             ],
             [
              1,
              "#f0f921"
             ]
            ],
            "type": "histogram2d"
           }
          ],
          "histogram2dcontour": [
           {
            "colorbar": {
             "outlinewidth": 0,
             "ticks": ""
            },
            "colorscale": [
             [
              0,
              "#0d0887"
             ],
             [
              0.1111111111111111,
              "#46039f"
             ],
             [
              0.2222222222222222,
              "#7201a8"
             ],
             [
              0.3333333333333333,
              "#9c179e"
             ],
             [
              0.4444444444444444,
              "#bd3786"
             ],
             [
              0.5555555555555556,
              "#d8576b"
             ],
             [
              0.6666666666666666,
              "#ed7953"
             ],
             [
              0.7777777777777778,
              "#fb9f3a"
             ],
             [
              0.8888888888888888,
              "#fdca26"
             ],
             [
              1,
              "#f0f921"
             ]
            ],
            "type": "histogram2dcontour"
           }
          ],
          "mesh3d": [
           {
            "colorbar": {
             "outlinewidth": 0,
             "ticks": ""
            },
            "type": "mesh3d"
           }
          ],
          "parcoords": [
           {
            "line": {
             "colorbar": {
              "outlinewidth": 0,
              "ticks": ""
             }
            },
            "type": "parcoords"
           }
          ],
          "pie": [
           {
            "automargin": true,
            "type": "pie"
           }
          ],
          "scatter": [
           {
            "marker": {
             "colorbar": {
              "outlinewidth": 0,
              "ticks": ""
             }
            },
            "type": "scatter"
           }
          ],
          "scatter3d": [
           {
            "line": {
             "colorbar": {
              "outlinewidth": 0,
              "ticks": ""
             }
            },
            "marker": {
             "colorbar": {
              "outlinewidth": 0,
              "ticks": ""
             }
            },
            "type": "scatter3d"
           }
          ],
          "scattercarpet": [
           {
            "marker": {
             "colorbar": {
              "outlinewidth": 0,
              "ticks": ""
             }
            },
            "type": "scattercarpet"
           }
          ],
          "scattergeo": [
           {
            "marker": {
             "colorbar": {
              "outlinewidth": 0,
              "ticks": ""
             }
            },
            "type": "scattergeo"
           }
          ],
          "scattergl": [
           {
            "marker": {
             "colorbar": {
              "outlinewidth": 0,
              "ticks": ""
             }
            },
            "type": "scattergl"
           }
          ],
          "scattermapbox": [
           {
            "marker": {
             "colorbar": {
              "outlinewidth": 0,
              "ticks": ""
             }
            },
            "type": "scattermapbox"
           }
          ],
          "scatterpolar": [
           {
            "marker": {
             "colorbar": {
              "outlinewidth": 0,
              "ticks": ""
             }
            },
            "type": "scatterpolar"
           }
          ],
          "scatterpolargl": [
           {
            "marker": {
             "colorbar": {
              "outlinewidth": 0,
              "ticks": ""
             }
            },
            "type": "scatterpolargl"
           }
          ],
          "scatterternary": [
           {
            "marker": {
             "colorbar": {
              "outlinewidth": 0,
              "ticks": ""
             }
            },
            "type": "scatterternary"
           }
          ],
          "surface": [
           {
            "colorbar": {
             "outlinewidth": 0,
             "ticks": ""
            },
            "colorscale": [
             [
              0,
              "#0d0887"
             ],
             [
              0.1111111111111111,
              "#46039f"
             ],
             [
              0.2222222222222222,
              "#7201a8"
             ],
             [
              0.3333333333333333,
              "#9c179e"
             ],
             [
              0.4444444444444444,
              "#bd3786"
             ],
             [
              0.5555555555555556,
              "#d8576b"
             ],
             [
              0.6666666666666666,
              "#ed7953"
             ],
             [
              0.7777777777777778,
              "#fb9f3a"
             ],
             [
              0.8888888888888888,
              "#fdca26"
             ],
             [
              1,
              "#f0f921"
             ]
            ],
            "type": "surface"
           }
          ],
          "table": [
           {
            "cells": {
             "fill": {
              "color": "#EBF0F8"
             },
             "line": {
              "color": "white"
             }
            },
            "header": {
             "fill": {
              "color": "#C8D4E3"
             },
             "line": {
              "color": "white"
             }
            },
            "type": "table"
           }
          ]
         },
         "layout": {
          "annotationdefaults": {
           "arrowcolor": "#2a3f5f",
           "arrowhead": 0,
           "arrowwidth": 1
          },
          "coloraxis": {
           "colorbar": {
            "outlinewidth": 0,
            "ticks": ""
           }
          },
          "colorscale": {
           "diverging": [
            [
             0,
             "#8e0152"
            ],
            [
             0.1,
             "#c51b7d"
            ],
            [
             0.2,
             "#de77ae"
            ],
            [
             0.3,
             "#f1b6da"
            ],
            [
             0.4,
             "#fde0ef"
            ],
            [
             0.5,
             "#f7f7f7"
            ],
            [
             0.6,
             "#e6f5d0"
            ],
            [
             0.7,
             "#b8e186"
            ],
            [
             0.8,
             "#7fbc41"
            ],
            [
             0.9,
             "#4d9221"
            ],
            [
             1,
             "#276419"
            ]
           ],
           "sequential": [
            [
             0,
             "#0d0887"
            ],
            [
             0.1111111111111111,
             "#46039f"
            ],
            [
             0.2222222222222222,
             "#7201a8"
            ],
            [
             0.3333333333333333,
             "#9c179e"
            ],
            [
             0.4444444444444444,
             "#bd3786"
            ],
            [
             0.5555555555555556,
             "#d8576b"
            ],
            [
             0.6666666666666666,
             "#ed7953"
            ],
            [
             0.7777777777777778,
             "#fb9f3a"
            ],
            [
             0.8888888888888888,
             "#fdca26"
            ],
            [
             1,
             "#f0f921"
            ]
           ],
           "sequentialminus": [
            [
             0,
             "#0d0887"
            ],
            [
             0.1111111111111111,
             "#46039f"
            ],
            [
             0.2222222222222222,
             "#7201a8"
            ],
            [
             0.3333333333333333,
             "#9c179e"
            ],
            [
             0.4444444444444444,
             "#bd3786"
            ],
            [
             0.5555555555555556,
             "#d8576b"
            ],
            [
             0.6666666666666666,
             "#ed7953"
            ],
            [
             0.7777777777777778,
             "#fb9f3a"
            ],
            [
             0.8888888888888888,
             "#fdca26"
            ],
            [
             1,
             "#f0f921"
            ]
           ]
          },
          "colorway": [
           "#636efa",
           "#EF553B",
           "#00cc96",
           "#ab63fa",
           "#FFA15A",
           "#19d3f3",
           "#FF6692",
           "#B6E880",
           "#FF97FF",
           "#FECB52"
          ],
          "font": {
           "color": "#2a3f5f"
          },
          "geo": {
           "bgcolor": "white",
           "lakecolor": "white",
           "landcolor": "#E5ECF6",
           "showlakes": true,
           "showland": true,
           "subunitcolor": "white"
          },
          "hoverlabel": {
           "align": "left"
          },
          "hovermode": "closest",
          "mapbox": {
           "style": "light"
          },
          "paper_bgcolor": "white",
          "plot_bgcolor": "#E5ECF6",
          "polar": {
           "angularaxis": {
            "gridcolor": "white",
            "linecolor": "white",
            "ticks": ""
           },
           "bgcolor": "#E5ECF6",
           "radialaxis": {
            "gridcolor": "white",
            "linecolor": "white",
            "ticks": ""
           }
          },
          "scene": {
           "xaxis": {
            "backgroundcolor": "#E5ECF6",
            "gridcolor": "white",
            "gridwidth": 2,
            "linecolor": "white",
            "showbackground": true,
            "ticks": "",
            "zerolinecolor": "white"
           },
           "yaxis": {
            "backgroundcolor": "#E5ECF6",
            "gridcolor": "white",
            "gridwidth": 2,
            "linecolor": "white",
            "showbackground": true,
            "ticks": "",
            "zerolinecolor": "white"
           },
           "zaxis": {
            "backgroundcolor": "#E5ECF6",
            "gridcolor": "white",
            "gridwidth": 2,
            "linecolor": "white",
            "showbackground": true,
            "ticks": "",
            "zerolinecolor": "white"
           }
          },
          "shapedefaults": {
           "line": {
            "color": "#2a3f5f"
           }
          },
          "ternary": {
           "aaxis": {
            "gridcolor": "white",
            "linecolor": "white",
            "ticks": ""
           },
           "baxis": {
            "gridcolor": "white",
            "linecolor": "white",
            "ticks": ""
           },
           "bgcolor": "#E5ECF6",
           "caxis": {
            "gridcolor": "white",
            "linecolor": "white",
            "ticks": ""
           }
          },
          "title": {
           "x": 0.05
          },
          "xaxis": {
           "automargin": true,
           "gridcolor": "white",
           "linecolor": "white",
           "ticks": "",
           "title": {
            "standoff": 15
           },
           "zerolinecolor": "white",
           "zerolinewidth": 2
          },
          "yaxis": {
           "automargin": true,
           "gridcolor": "white",
           "linecolor": "white",
           "ticks": "",
           "title": {
            "standoff": 15
           },
           "zerolinecolor": "white",
           "zerolinewidth": 2
          }
         }
        },
        "title": {
         "text": "Top Rated Books"
        },
        "width": 1000
       }
      },
      "text/html": [
       "<div>                            <div id=\"c6d2f07a-a1c9-4475-bb3c-4af4a4063ede\" class=\"plotly-graph-div\" style=\"height:700px; width:1000px;\"></div>            <script type=\"text/javascript\">                require([\"plotly\"], function(Plotly) {                    window.PLOTLYENV=window.PLOTLYENV || {};                                    if (document.getElementById(\"c6d2f07a-a1c9-4475-bb3c-4af4a4063ede\")) {                    Plotly.newPlot(                        \"c6d2f07a-a1c9-4475-bb3c-4af4a4063ede\",                        [{\"branchvalues\": \"total\", \"domain\": {\"x\": [0.0, 1.0], \"y\": [0.0, 1.0]}, \"hovertemplate\": \"labels=%{label}<br>average_rating=%{value}<br>parent=%{parent}<br>id=%{id}<extra></extra>\", \"ids\": [\"A Court of Mist and Fury\", \"A Song of Ice and Fire\", \"A Song of Ice and Fire Graphic Novels\", \"Attack of the Deranged Mutant Killer Monster Snow Goons: A Calvin and Hobbes Collection\", \"Complete Harry Potter Boxed Set\", \"Harry Potter Boxed Set Books 1-4\", \"Harry Potter Collection (Harry Potter, #1-6)\", \"Holy Bible English Standard Version\", \"Homicidal Psycho Jungle Cat: A Calvin and Hobbes Collection\", \"It's a Magical World: A Calvin and Hobbes Collection\", \"Mark of the Lion Trilogy\", \"The Absolute Sandman, Volume One\", \"The Authoritative Calvin and Hobbes\", \"The Calvin and Hobbes Lazy Sunday Book\", \"The Calvin and Hobbes Tenth Anniversary Book\", \"The Complete Calvin and Hobbes\", \"The Days Are Just Packed: A Calvin and Hobbes Collection\", \"The Essential Calvin and Hobbes: A Calvin and Hobbes Treasury\", \"The Hate U Give\", \"The Indispensable Calvin and Hobbes: A Calvin and Hobbes Treasury\", \"The Way of Kings\", \"The Way of Kings, Part 1\", \"There's Treasure Everywhere: A Calvin and Hobbes Collection\", \"Words of Radiance\", \"\\u062f\\u06cc\\u0648\\u0627\\u0646\\u200e\\u200e [D\\u012bv\\u0101n]\"], \"labels\": [\"A Court of Mist and Fury\", \"A Song of Ice and Fire\", \"A Song of Ice and Fire Graphic Novels\", \"Attack of the Deranged Mutant Killer Monster Snow Goons: A Calvin and Hobbes Collection\", \"Complete Harry Potter Boxed Set\", \"Harry Potter Boxed Set Books 1-4\", \"Harry Potter Collection (Harry Potter, #1-6)\", \"Holy Bible English Standard Version\", \"Homicidal Psycho Jungle Cat: A Calvin and Hobbes Collection\", \"It's a Magical World: A Calvin and Hobbes Collection\", \"Mark of the Lion Trilogy\", \"The Absolute Sandman, Volume One\", \"The Authoritative Calvin and Hobbes\", \"The Calvin and Hobbes Lazy Sunday Book\", \"The Calvin and Hobbes Tenth Anniversary Book\", \"The Complete Calvin and Hobbes\", \"The Days Are Just Packed: A Calvin and Hobbes Collection\", \"The Essential Calvin and Hobbes: A Calvin and Hobbes Treasury\", \"The Hate U Give\", \"The Indispensable Calvin and Hobbes: A Calvin and Hobbes Treasury\", \"The Way of Kings\", \"The Way of Kings, Part 1\", \"There's Treasure Everywhere: A Calvin and Hobbes Collection\", \"Words of Radiance\", \"\\u062f\\u06cc\\u0648\\u0627\\u0646\\u200e\\u200e [D\\u012bv\\u0101n]\"], \"name\": \"\", \"parents\": [\"\", \"\", \"\", \"\", \"\", \"\", \"\", \"\", \"\", \"\", \"\", \"\", \"\", \"\", \"\", \"\", \"\", \"\", \"\", \"\", \"\", \"\", \"\", \"\", \"\"], \"type\": \"treemap\", \"values\": [4.72, 4.63, 4.65, 4.72, 4.74, 4.66, 4.73, 4.66, 4.71, 4.75, 4.76, 4.65, 4.73, 4.66, 4.63, 4.82, 4.68, 4.65, 4.62, 4.73, 4.64, 4.67, 4.74, 4.77, 4.63]}],                        {\"height\": 700, \"legend\": {\"tracegroupgap\": 0}, \"template\": {\"data\": {\"bar\": [{\"error_x\": {\"color\": \"#2a3f5f\"}, \"error_y\": {\"color\": \"#2a3f5f\"}, \"marker\": {\"line\": {\"color\": \"#E5ECF6\", \"width\": 0.5}}, \"type\": \"bar\"}], \"barpolar\": [{\"marker\": {\"line\": {\"color\": \"#E5ECF6\", \"width\": 0.5}}, \"type\": \"barpolar\"}], \"carpet\": [{\"aaxis\": {\"endlinecolor\": \"#2a3f5f\", \"gridcolor\": \"white\", \"linecolor\": \"white\", \"minorgridcolor\": \"white\", \"startlinecolor\": \"#2a3f5f\"}, \"baxis\": {\"endlinecolor\": \"#2a3f5f\", \"gridcolor\": \"white\", \"linecolor\": \"white\", \"minorgridcolor\": \"white\", \"startlinecolor\": \"#2a3f5f\"}, \"type\": \"carpet\"}], \"choropleth\": [{\"colorbar\": {\"outlinewidth\": 0, \"ticks\": \"\"}, \"type\": \"choropleth\"}], \"contour\": [{\"colorbar\": {\"outlinewidth\": 0, \"ticks\": \"\"}, \"colorscale\": [[0.0, \"#0d0887\"], [0.1111111111111111, \"#46039f\"], [0.2222222222222222, \"#7201a8\"], [0.3333333333333333, \"#9c179e\"], [0.4444444444444444, \"#bd3786\"], [0.5555555555555556, \"#d8576b\"], [0.6666666666666666, \"#ed7953\"], [0.7777777777777778, \"#fb9f3a\"], [0.8888888888888888, \"#fdca26\"], [1.0, \"#f0f921\"]], \"type\": \"contour\"}], \"contourcarpet\": [{\"colorbar\": {\"outlinewidth\": 0, \"ticks\": \"\"}, \"type\": \"contourcarpet\"}], \"heatmap\": [{\"colorbar\": {\"outlinewidth\": 0, \"ticks\": \"\"}, \"colorscale\": [[0.0, \"#0d0887\"], [0.1111111111111111, \"#46039f\"], [0.2222222222222222, \"#7201a8\"], [0.3333333333333333, \"#9c179e\"], [0.4444444444444444, \"#bd3786\"], [0.5555555555555556, \"#d8576b\"], [0.6666666666666666, \"#ed7953\"], [0.7777777777777778, \"#fb9f3a\"], [0.8888888888888888, \"#fdca26\"], [1.0, \"#f0f921\"]], \"type\": \"heatmap\"}], \"heatmapgl\": [{\"colorbar\": {\"outlinewidth\": 0, \"ticks\": \"\"}, \"colorscale\": [[0.0, \"#0d0887\"], [0.1111111111111111, \"#46039f\"], [0.2222222222222222, \"#7201a8\"], [0.3333333333333333, \"#9c179e\"], [0.4444444444444444, \"#bd3786\"], [0.5555555555555556, \"#d8576b\"], [0.6666666666666666, \"#ed7953\"], [0.7777777777777778, \"#fb9f3a\"], [0.8888888888888888, \"#fdca26\"], [1.0, \"#f0f921\"]], \"type\": \"heatmapgl\"}], \"histogram\": [{\"marker\": {\"colorbar\": {\"outlinewidth\": 0, \"ticks\": \"\"}}, \"type\": \"histogram\"}], \"histogram2d\": [{\"colorbar\": {\"outlinewidth\": 0, \"ticks\": \"\"}, \"colorscale\": [[0.0, \"#0d0887\"], [0.1111111111111111, \"#46039f\"], [0.2222222222222222, \"#7201a8\"], [0.3333333333333333, \"#9c179e\"], [0.4444444444444444, \"#bd3786\"], [0.5555555555555556, \"#d8576b\"], [0.6666666666666666, \"#ed7953\"], [0.7777777777777778, \"#fb9f3a\"], [0.8888888888888888, \"#fdca26\"], [1.0, \"#f0f921\"]], \"type\": \"histogram2d\"}], \"histogram2dcontour\": [{\"colorbar\": {\"outlinewidth\": 0, \"ticks\": \"\"}, \"colorscale\": [[0.0, \"#0d0887\"], [0.1111111111111111, \"#46039f\"], [0.2222222222222222, \"#7201a8\"], [0.3333333333333333, \"#9c179e\"], [0.4444444444444444, \"#bd3786\"], [0.5555555555555556, \"#d8576b\"], [0.6666666666666666, \"#ed7953\"], [0.7777777777777778, \"#fb9f3a\"], [0.8888888888888888, \"#fdca26\"], [1.0, \"#f0f921\"]], \"type\": \"histogram2dcontour\"}], \"mesh3d\": [{\"colorbar\": {\"outlinewidth\": 0, \"ticks\": \"\"}, \"type\": \"mesh3d\"}], \"parcoords\": [{\"line\": {\"colorbar\": {\"outlinewidth\": 0, \"ticks\": \"\"}}, \"type\": \"parcoords\"}], \"pie\": [{\"automargin\": true, \"type\": \"pie\"}], \"scatter\": [{\"marker\": {\"colorbar\": {\"outlinewidth\": 0, \"ticks\": \"\"}}, \"type\": \"scatter\"}], \"scatter3d\": [{\"line\": {\"colorbar\": {\"outlinewidth\": 0, \"ticks\": \"\"}}, \"marker\": {\"colorbar\": {\"outlinewidth\": 0, \"ticks\": \"\"}}, \"type\": \"scatter3d\"}], \"scattercarpet\": [{\"marker\": {\"colorbar\": {\"outlinewidth\": 0, \"ticks\": \"\"}}, \"type\": \"scattercarpet\"}], \"scattergeo\": [{\"marker\": {\"colorbar\": {\"outlinewidth\": 0, \"ticks\": \"\"}}, \"type\": \"scattergeo\"}], \"scattergl\": [{\"marker\": {\"colorbar\": {\"outlinewidth\": 0, \"ticks\": \"\"}}, \"type\": \"scattergl\"}], \"scattermapbox\": [{\"marker\": {\"colorbar\": {\"outlinewidth\": 0, \"ticks\": \"\"}}, \"type\": \"scattermapbox\"}], \"scatterpolar\": [{\"marker\": {\"colorbar\": {\"outlinewidth\": 0, \"ticks\": \"\"}}, \"type\": \"scatterpolar\"}], \"scatterpolargl\": [{\"marker\": {\"colorbar\": {\"outlinewidth\": 0, \"ticks\": \"\"}}, \"type\": \"scatterpolargl\"}], \"scatterternary\": [{\"marker\": {\"colorbar\": {\"outlinewidth\": 0, \"ticks\": \"\"}}, \"type\": \"scatterternary\"}], \"surface\": [{\"colorbar\": {\"outlinewidth\": 0, \"ticks\": \"\"}, \"colorscale\": [[0.0, \"#0d0887\"], [0.1111111111111111, \"#46039f\"], [0.2222222222222222, \"#7201a8\"], [0.3333333333333333, \"#9c179e\"], [0.4444444444444444, \"#bd3786\"], [0.5555555555555556, \"#d8576b\"], [0.6666666666666666, \"#ed7953\"], [0.7777777777777778, \"#fb9f3a\"], [0.8888888888888888, \"#fdca26\"], [1.0, \"#f0f921\"]], \"type\": \"surface\"}], \"table\": [{\"cells\": {\"fill\": {\"color\": \"#EBF0F8\"}, \"line\": {\"color\": \"white\"}}, \"header\": {\"fill\": {\"color\": \"#C8D4E3\"}, \"line\": {\"color\": \"white\"}}, \"type\": \"table\"}]}, \"layout\": {\"annotationdefaults\": {\"arrowcolor\": \"#2a3f5f\", \"arrowhead\": 0, \"arrowwidth\": 1}, \"coloraxis\": {\"colorbar\": {\"outlinewidth\": 0, \"ticks\": \"\"}}, \"colorscale\": {\"diverging\": [[0, \"#8e0152\"], [0.1, \"#c51b7d\"], [0.2, \"#de77ae\"], [0.3, \"#f1b6da\"], [0.4, \"#fde0ef\"], [0.5, \"#f7f7f7\"], [0.6, \"#e6f5d0\"], [0.7, \"#b8e186\"], [0.8, \"#7fbc41\"], [0.9, \"#4d9221\"], [1, \"#276419\"]], \"sequential\": [[0.0, \"#0d0887\"], [0.1111111111111111, \"#46039f\"], [0.2222222222222222, \"#7201a8\"], [0.3333333333333333, \"#9c179e\"], [0.4444444444444444, \"#bd3786\"], [0.5555555555555556, \"#d8576b\"], [0.6666666666666666, \"#ed7953\"], [0.7777777777777778, \"#fb9f3a\"], [0.8888888888888888, \"#fdca26\"], [1.0, \"#f0f921\"]], \"sequentialminus\": [[0.0, \"#0d0887\"], [0.1111111111111111, \"#46039f\"], [0.2222222222222222, \"#7201a8\"], [0.3333333333333333, \"#9c179e\"], [0.4444444444444444, \"#bd3786\"], [0.5555555555555556, \"#d8576b\"], [0.6666666666666666, \"#ed7953\"], [0.7777777777777778, \"#fb9f3a\"], [0.8888888888888888, \"#fdca26\"], [1.0, \"#f0f921\"]]}, \"colorway\": [\"#636efa\", \"#EF553B\", \"#00cc96\", \"#ab63fa\", \"#FFA15A\", \"#19d3f3\", \"#FF6692\", \"#B6E880\", \"#FF97FF\", \"#FECB52\"], \"font\": {\"color\": \"#2a3f5f\"}, \"geo\": {\"bgcolor\": \"white\", \"lakecolor\": \"white\", \"landcolor\": \"#E5ECF6\", \"showlakes\": true, \"showland\": true, \"subunitcolor\": \"white\"}, \"hoverlabel\": {\"align\": \"left\"}, \"hovermode\": \"closest\", \"mapbox\": {\"style\": \"light\"}, \"paper_bgcolor\": \"white\", \"plot_bgcolor\": \"#E5ECF6\", \"polar\": {\"angularaxis\": {\"gridcolor\": \"white\", \"linecolor\": \"white\", \"ticks\": \"\"}, \"bgcolor\": \"#E5ECF6\", \"radialaxis\": {\"gridcolor\": \"white\", \"linecolor\": \"white\", \"ticks\": \"\"}}, \"scene\": {\"xaxis\": {\"backgroundcolor\": \"#E5ECF6\", \"gridcolor\": \"white\", \"gridwidth\": 2, \"linecolor\": \"white\", \"showbackground\": true, \"ticks\": \"\", \"zerolinecolor\": \"white\"}, \"yaxis\": {\"backgroundcolor\": \"#E5ECF6\", \"gridcolor\": \"white\", \"gridwidth\": 2, \"linecolor\": \"white\", \"showbackground\": true, \"ticks\": \"\", \"zerolinecolor\": \"white\"}, \"zaxis\": {\"backgroundcolor\": \"#E5ECF6\", \"gridcolor\": \"white\", \"gridwidth\": 2, \"linecolor\": \"white\", \"showbackground\": true, \"ticks\": \"\", \"zerolinecolor\": \"white\"}}, \"shapedefaults\": {\"line\": {\"color\": \"#2a3f5f\"}}, \"ternary\": {\"aaxis\": {\"gridcolor\": \"white\", \"linecolor\": \"white\", \"ticks\": \"\"}, \"baxis\": {\"gridcolor\": \"white\", \"linecolor\": \"white\", \"ticks\": \"\"}, \"bgcolor\": \"#E5ECF6\", \"caxis\": {\"gridcolor\": \"white\", \"linecolor\": \"white\", \"ticks\": \"\"}}, \"title\": {\"x\": 0.05}, \"xaxis\": {\"automargin\": true, \"gridcolor\": \"white\", \"linecolor\": \"white\", \"ticks\": \"\", \"title\": {\"standoff\": 15}, \"zerolinecolor\": \"white\", \"zerolinewidth\": 2}, \"yaxis\": {\"automargin\": true, \"gridcolor\": \"white\", \"linecolor\": \"white\", \"ticks\": \"\", \"title\": {\"standoff\": 15}, \"zerolinecolor\": \"white\", \"zerolinewidth\": 2}}}, \"title\": {\"text\": \"Top Rated Books\"}, \"width\": 1000},                        {\"responsive\": true}                    ).then(function(){\n",
       "                            \n",
       "var gd = document.getElementById('c6d2f07a-a1c9-4475-bb3c-4af4a4063ede');\n",
       "var x = new MutationObserver(function (mutations, observer) {{\n",
       "        var display = window.getComputedStyle(gd).display;\n",
       "        if (!display || display === 'none') {{\n",
       "            console.log([gd, 'removed!']);\n",
       "            Plotly.purge(gd);\n",
       "            observer.disconnect();\n",
       "        }}\n",
       "}});\n",
       "\n",
       "// Listen for the removal of the full notebook cells\n",
       "var notebookContainer = gd.closest('#notebook-container');\n",
       "if (notebookContainer) {{\n",
       "    x.observe(notebookContainer, {childList: true});\n",
       "}}\n",
       "\n",
       "// Listen for the clearing of the current output cell\n",
       "var outputEl = gd.closest('.output');\n",
       "if (outputEl) {{\n",
       "    x.observe(outputEl, {childList: true});\n",
       "}}\n",
       "\n",
       "                        })                };                });            </script>        </div>"
      ]
     },
     "metadata": {},
     "output_type": "display_data"
    }
   ],
   "source": [
    "fig = px.treemap(tf_top_rated, path=['original_title'], values='average_rating',title='Top Rated Books', width=1000, height=700)\n",
    "fig.show()\n",
    "#fig.write_image('images/book_tree.jpg')"
   ]
  },
  {
   "cell_type": "code",
   "execution_count": 4,
   "metadata": {},
   "outputs": [
    {
     "data": {
      "application/vnd.plotly.v1+json": {
       "config": {
        "plotlyServerURL": "https://plot.ly"
       },
       "data": [
        {
         "alignmentgroup": "True",
         "hovertemplate": "original_title=%{y}<br>ratings_count=%{x}<extra></extra>",
         "legendgroup": "The Hunger Games",
         "marker": {
          "color": "#636efa"
         },
         "name": "The Hunger Games",
         "offsetgroup": "The Hunger Games",
         "orientation": "h",
         "showlegend": true,
         "textposition": "auto",
         "type": "bar",
         "x": [
          4780653
         ],
         "xaxis": "x",
         "y": [
          "The Hunger Games"
         ],
         "yaxis": "y"
        },
        {
         "alignmentgroup": "True",
         "hovertemplate": "original_title=%{y}<br>ratings_count=%{x}<extra></extra>",
         "legendgroup": "Harry Potter and the Philosopher's Stone",
         "marker": {
          "color": "#EF553B"
         },
         "name": "Harry Potter and the Philosopher's Stone",
         "offsetgroup": "Harry Potter and the Philosopher's Stone",
         "orientation": "h",
         "showlegend": true,
         "textposition": "auto",
         "type": "bar",
         "x": [
          4602479
         ],
         "xaxis": "x",
         "y": [
          "Harry Potter and the Philosopher's Stone"
         ],
         "yaxis": "y"
        },
        {
         "alignmentgroup": "True",
         "hovertemplate": "original_title=%{y}<br>ratings_count=%{x}<extra></extra>",
         "legendgroup": "To Kill a Mockingbird",
         "marker": {
          "color": "#00cc96"
         },
         "name": "To Kill a Mockingbird",
         "offsetgroup": "To Kill a Mockingbird",
         "orientation": "h",
         "showlegend": true,
         "textposition": "auto",
         "type": "bar",
         "x": [
          3198671
         ],
         "xaxis": "x",
         "y": [
          "To Kill a Mockingbird"
         ],
         "yaxis": "y"
        },
        {
         "alignmentgroup": "True",
         "hovertemplate": "original_title=%{y}<br>ratings_count=%{x}<extra></extra>",
         "legendgroup": "The Great Gatsby",
         "marker": {
          "color": "#ab63fa"
         },
         "name": "The Great Gatsby",
         "offsetgroup": "The Great Gatsby",
         "orientation": "h",
         "showlegend": true,
         "textposition": "auto",
         "type": "bar",
         "x": [
          2683664
         ],
         "xaxis": "x",
         "y": [
          "The Great Gatsby"
         ],
         "yaxis": "y"
        },
        {
         "alignmentgroup": "True",
         "hovertemplate": "original_title=%{y}<br>ratings_count=%{x}<extra></extra>",
         "legendgroup": "The Fault in Our Stars",
         "marker": {
          "color": "#FFA15A"
         },
         "name": "The Fault in Our Stars",
         "offsetgroup": "The Fault in Our Stars",
         "orientation": "h",
         "showlegend": true,
         "textposition": "auto",
         "type": "bar",
         "x": [
          2346404
         ],
         "xaxis": "x",
         "y": [
          "The Fault in Our Stars"
         ],
         "yaxis": "y"
        },
        {
         "alignmentgroup": "True",
         "hovertemplate": "original_title=%{y}<br>ratings_count=%{x}<extra></extra>",
         "legendgroup": "The Hobbit or There and Back Again",
         "marker": {
          "color": "#19d3f3"
         },
         "name": "The Hobbit or There and Back Again",
         "offsetgroup": "The Hobbit or There and Back Again",
         "orientation": "h",
         "showlegend": true,
         "textposition": "auto",
         "type": "bar",
         "x": [
          2071616
         ],
         "xaxis": "x",
         "y": [
          "The Hobbit or There and Back Again"
         ],
         "yaxis": "y"
        },
        {
         "alignmentgroup": "True",
         "hovertemplate": "original_title=%{y}<br>ratings_count=%{x}<extra></extra>",
         "legendgroup": "The Catcher in the Rye",
         "marker": {
          "color": "#FF6692"
         },
         "name": "The Catcher in the Rye",
         "offsetgroup": "The Catcher in the Rye",
         "orientation": "h",
         "showlegend": true,
         "textposition": "auto",
         "type": "bar",
         "x": [
          2044241
         ],
         "xaxis": "x",
         "y": [
          "The Catcher in the Rye"
         ],
         "yaxis": "y"
        },
        {
         "alignmentgroup": "True",
         "hovertemplate": "original_title=%{y}<br>ratings_count=%{x}<extra></extra>",
         "legendgroup": "Pride and Prejudice",
         "marker": {
          "color": "#B6E880"
         },
         "name": "Pride and Prejudice",
         "offsetgroup": "Pride and Prejudice",
         "orientation": "h",
         "showlegend": true,
         "textposition": "auto",
         "type": "bar",
         "x": [
          2035490
         ],
         "xaxis": "x",
         "y": [
          "Pride and Prejudice"
         ],
         "yaxis": "y"
        },
        {
         "alignmentgroup": "True",
         "hovertemplate": "original_title=%{y}<br>ratings_count=%{x}<extra></extra>",
         "legendgroup": "Angels & Demons ",
         "marker": {
          "color": "#FF97FF"
         },
         "name": "Angels & Demons ",
         "offsetgroup": "Angels & Demons ",
         "orientation": "h",
         "showlegend": true,
         "textposition": "auto",
         "type": "bar",
         "x": [
          2001311
         ],
         "xaxis": "x",
         "y": [
          "Angels & Demons "
         ],
         "yaxis": "y"
        },
        {
         "alignmentgroup": "True",
         "hovertemplate": "original_title=%{y}<br>ratings_count=%{x}<extra></extra>",
         "legendgroup": "Het Achterhuis: Dagboekbrieven 14 juni 1942 - 1 augustus 1944",
         "marker": {
          "color": "#FECB52"
         },
         "name": "Het Achterhuis: Dagboekbrieven 14 juni 1942 - 1 augustus 1944",
         "offsetgroup": "Het Achterhuis: Dagboekbrieven 14 juni 1942 - 1 augustus 1944",
         "orientation": "h",
         "showlegend": true,
         "textposition": "auto",
         "type": "bar",
         "x": [
          1972666
         ],
         "xaxis": "x",
         "y": [
          "Het Achterhuis: Dagboekbrieven 14 juni 1942 - 1 augustus 1944"
         ],
         "yaxis": "y"
        },
        {
         "alignmentgroup": "True",
         "hovertemplate": "original_title=%{y}<br>ratings_count=%{x}<extra></extra>",
         "legendgroup": "Nineteen Eighty-Four",
         "marker": {
          "color": "#636efa"
         },
         "name": "Nineteen Eighty-Four",
         "offsetgroup": "Nineteen Eighty-Four",
         "orientation": "h",
         "showlegend": true,
         "textposition": "auto",
         "type": "bar",
         "x": [
          1956832
         ],
         "xaxis": "x",
         "y": [
          "Nineteen Eighty-Four"
         ],
         "yaxis": "y"
        },
        {
         "alignmentgroup": "True",
         "hovertemplate": "original_title=%{y}<br>ratings_count=%{x}<extra></extra>",
         "legendgroup": "Divergent",
         "marker": {
          "color": "#EF553B"
         },
         "name": "Divergent",
         "offsetgroup": "Divergent",
         "orientation": "h",
         "showlegend": true,
         "textposition": "auto",
         "type": "bar",
         "x": [
          1903563
         ],
         "xaxis": "x",
         "y": [
          "Divergent"
         ],
         "yaxis": "y"
        },
        {
         "alignmentgroup": "True",
         "hovertemplate": "original_title=%{y}<br>ratings_count=%{x}<extra></extra>",
         "legendgroup": "Animal Farm: A Fairy Story",
         "marker": {
          "color": "#00cc96"
         },
         "name": "Animal Farm: A Fairy Story",
         "offsetgroup": "Animal Farm: A Fairy Story",
         "orientation": "h",
         "showlegend": true,
         "textposition": "auto",
         "type": "bar",
         "x": [
          1881700
         ],
         "xaxis": "x",
         "y": [
          "Animal Farm: A Fairy Story"
         ],
         "yaxis": "y"
        },
        {
         "alignmentgroup": "True",
         "hovertemplate": "original_title=%{y}<br>ratings_count=%{x}<extra></extra>",
         "legendgroup": "Harry Potter and the Prisoner of Azkaban",
         "marker": {
          "color": "#ab63fa"
         },
         "name": "Harry Potter and the Prisoner of Azkaban",
         "offsetgroup": "Harry Potter and the Prisoner of Azkaban",
         "orientation": "h",
         "showlegend": true,
         "textposition": "auto",
         "type": "bar",
         "x": [
          1832823
         ],
         "xaxis": "x",
         "y": [
          "Harry Potter and the Prisoner of Azkaban"
         ],
         "yaxis": "y"
        },
        {
         "alignmentgroup": "True",
         "hovertemplate": "original_title=%{y}<br>ratings_count=%{x}<extra></extra>",
         "legendgroup": "Catching Fire",
         "marker": {
          "color": "#FFA15A"
         },
         "name": "Catching Fire",
         "offsetgroup": "Catching Fire",
         "orientation": "h",
         "showlegend": true,
         "textposition": "auto",
         "type": "bar",
         "x": [
          1831039
         ],
         "xaxis": "x",
         "y": [
          "Catching Fire"
         ],
         "yaxis": "y"
        },
        {
         "alignmentgroup": "True",
         "hovertemplate": "original_title=%{y}<br>ratings_count=%{x}<extra></extra>",
         "legendgroup": "The Kite Runner ",
         "marker": {
          "color": "#19d3f3"
         },
         "name": "The Kite Runner ",
         "offsetgroup": "The Kite Runner ",
         "orientation": "h",
         "showlegend": true,
         "textposition": "auto",
         "type": "bar",
         "x": [
          1813044
         ],
         "xaxis": "x",
         "y": [
          "The Kite Runner "
         ],
         "yaxis": "y"
        },
        {
         "alignmentgroup": "True",
         "hovertemplate": "original_title=%{y}<br>ratings_count=%{x}<extra></extra>",
         "legendgroup": "Män som hatar kvinnor",
         "marker": {
          "color": "#FF6692"
         },
         "name": "Män som hatar kvinnor",
         "offsetgroup": "Män som hatar kvinnor",
         "orientation": "h",
         "showlegend": true,
         "textposition": "auto",
         "type": "bar",
         "x": [
          1808403
         ],
         "xaxis": "x",
         "y": [
          "Män som hatar kvinnor"
         ],
         "yaxis": "y"
        },
        {
         "alignmentgroup": "True",
         "hovertemplate": "original_title=%{y}<br>ratings_count=%{x}<extra></extra>",
         "legendgroup": "Harry Potter and the Chamber of Secrets",
         "marker": {
          "color": "#B6E880"
         },
         "name": "Harry Potter and the Chamber of Secrets",
         "offsetgroup": "Harry Potter and the Chamber of Secrets",
         "orientation": "h",
         "showlegend": true,
         "textposition": "auto",
         "type": "bar",
         "x": [
          1779331
         ],
         "xaxis": "x",
         "y": [
          "Harry Potter and the Chamber of Secrets"
         ],
         "yaxis": "y"
        },
        {
         "alignmentgroup": "True",
         "hovertemplate": "original_title=%{y}<br>ratings_count=%{x}<extra></extra>",
         "legendgroup": " The Fellowship of the Ring",
         "marker": {
          "color": "#FF97FF"
         },
         "name": " The Fellowship of the Ring",
         "offsetgroup": " The Fellowship of the Ring",
         "orientation": "h",
         "showlegend": true,
         "textposition": "auto",
         "type": "bar",
         "x": [
          1766803
         ],
         "xaxis": "x",
         "y": [
          " The Fellowship of the Ring"
         ],
         "yaxis": "y"
        },
        {
         "alignmentgroup": "True",
         "hovertemplate": "original_title=%{y}<br>ratings_count=%{x}<extra></extra>",
         "legendgroup": "Harry Potter and the Goblet of Fire",
         "marker": {
          "color": "#FECB52"
         },
         "name": "Harry Potter and the Goblet of Fire",
         "offsetgroup": "Harry Potter and the Goblet of Fire",
         "orientation": "h",
         "showlegend": true,
         "textposition": "auto",
         "type": "bar",
         "x": [
          1753043
         ],
         "xaxis": "x",
         "y": [
          "Harry Potter and the Goblet of Fire"
         ],
         "yaxis": "y"
        },
        {
         "alignmentgroup": "True",
         "hovertemplate": "original_title=%{y}<br>ratings_count=%{x}<extra></extra>",
         "legendgroup": "Harry Potter and the Deathly Hallows",
         "marker": {
          "color": "#636efa"
         },
         "name": "Harry Potter and the Deathly Hallows",
         "offsetgroup": "Harry Potter and the Deathly Hallows",
         "orientation": "h",
         "showlegend": true,
         "textposition": "auto",
         "type": "bar",
         "x": [
          1746574
         ],
         "xaxis": "x",
         "y": [
          "Harry Potter and the Deathly Hallows"
         ],
         "yaxis": "y"
        },
        {
         "alignmentgroup": "True",
         "hovertemplate": "original_title=%{y}<br>ratings_count=%{x}<extra></extra>",
         "legendgroup": "Harry Potter and the Order of the Phoenix",
         "marker": {
          "color": "#EF553B"
         },
         "name": "Harry Potter and the Order of the Phoenix",
         "offsetgroup": "Harry Potter and the Order of the Phoenix",
         "orientation": "h",
         "showlegend": true,
         "textposition": "auto",
         "type": "bar",
         "x": [
          1735368
         ],
         "xaxis": "x",
         "y": [
          "Harry Potter and the Order of the Phoenix"
         ],
         "yaxis": "y"
        },
        {
         "alignmentgroup": "True",
         "hovertemplate": "original_title=%{y}<br>ratings_count=%{x}<extra></extra>",
         "legendgroup": "Mockingjay",
         "marker": {
          "color": "#00cc96"
         },
         "name": "Mockingjay",
         "offsetgroup": "Mockingjay",
         "orientation": "h",
         "showlegend": true,
         "textposition": "auto",
         "type": "bar",
         "x": [
          1719760
         ],
         "xaxis": "x",
         "y": [
          "Mockingjay"
         ],
         "yaxis": "y"
        },
        {
         "alignmentgroup": "True",
         "hovertemplate": "original_title=%{y}<br>ratings_count=%{x}<extra></extra>",
         "legendgroup": "Harry Potter and the Half-Blood Prince",
         "marker": {
          "color": "#ab63fa"
         },
         "name": "Harry Potter and the Half-Blood Prince",
         "offsetgroup": "Harry Potter and the Half-Blood Prince",
         "orientation": "h",
         "showlegend": true,
         "textposition": "auto",
         "type": "bar",
         "x": [
          1678823
         ],
         "xaxis": "x",
         "y": [
          "Harry Potter and the Half-Blood Prince"
         ],
         "yaxis": "y"
        },
        {
         "alignmentgroup": "True",
         "hovertemplate": "original_title=%{y}<br>ratings_count=%{x}<extra></extra>",
         "legendgroup": "An Excellent conceited Tragedie of Romeo and Juliet",
         "marker": {
          "color": "#FFA15A"
         },
         "name": "An Excellent conceited Tragedie of Romeo and Juliet",
         "offsetgroup": "An Excellent conceited Tragedie of Romeo and Juliet",
         "orientation": "h",
         "showlegend": true,
         "textposition": "auto",
         "type": "bar",
         "x": [
          1628519
         ],
         "xaxis": "x",
         "y": [
          "An Excellent conceited Tragedie of Romeo and Juliet"
         ],
         "yaxis": "y"
        },
        {
         "alignmentgroup": "True",
         "hovertemplate": "original_title=%{y}<br>ratings_count=%{x}<extra></extra>",
         "legendgroup": "The Lovely Bones",
         "marker": {
          "color": "#19d3f3"
         },
         "name": "The Lovely Bones",
         "offsetgroup": "The Lovely Bones",
         "orientation": "h",
         "showlegend": true,
         "textposition": "auto",
         "type": "bar",
         "x": [
          1605173
         ],
         "xaxis": "x",
         "y": [
          "The Lovely Bones"
         ],
         "yaxis": "y"
        },
        {
         "alignmentgroup": "True",
         "hovertemplate": "original_title=%{y}<br>ratings_count=%{x}<extra></extra>",
         "legendgroup": "Lord of the Flies ",
         "marker": {
          "color": "#FF6692"
         },
         "name": "Lord of the Flies ",
         "offsetgroup": "Lord of the Flies ",
         "orientation": "h",
         "showlegend": true,
         "textposition": "auto",
         "type": "bar",
         "x": [
          1605019
         ],
         "xaxis": "x",
         "y": [
          "Lord of the Flies "
         ],
         "yaxis": "y"
        },
        {
         "alignmentgroup": "True",
         "hovertemplate": "original_title=%{y}<br>ratings_count=%{x}<extra></extra>",
         "legendgroup": "The Lion, the Witch and the Wardrobe",
         "marker": {
          "color": "#B6E880"
         },
         "name": "The Lion, the Witch and the Wardrobe",
         "offsetgroup": "The Lion, the Witch and the Wardrobe",
         "orientation": "h",
         "showlegend": true,
         "textposition": "auto",
         "type": "bar",
         "x": [
          1531800
         ],
         "xaxis": "x",
         "y": [
          "The Lion, the Witch and the Wardrobe"
         ],
         "yaxis": "y"
        },
        {
         "alignmentgroup": "True",
         "hovertemplate": "original_title=%{y}<br>ratings_count=%{x}<extra></extra>",
         "legendgroup": "The Help",
         "marker": {
          "color": "#FF97FF"
         },
         "name": "The Help",
         "offsetgroup": "The Help",
         "orientation": "h",
         "showlegend": true,
         "textposition": "auto",
         "type": "bar",
         "x": [
          1531753
         ],
         "xaxis": "x",
         "y": [
          "The Help"
         ],
         "yaxis": "y"
        },
        {
         "alignmentgroup": "True",
         "hovertemplate": "original_title=%{y}<br>ratings_count=%{x}<extra></extra>",
         "legendgroup": "Of Mice and Men ",
         "marker": {
          "color": "#FECB52"
         },
         "name": "Of Mice and Men ",
         "offsetgroup": "Of Mice and Men ",
         "orientation": "h",
         "showlegend": true,
         "textposition": "auto",
         "type": "bar",
         "x": [
          1467496
         ],
         "xaxis": "x",
         "y": [
          "Of Mice and Men "
         ],
         "yaxis": "y"
        },
        {
         "alignmentgroup": "True",
         "hovertemplate": "original_title=%{y}<br>ratings_count=%{x}<extra></extra>",
         "legendgroup": "The Da Vinci Code",
         "marker": {
          "color": "#636efa"
         },
         "name": "The Da Vinci Code",
         "offsetgroup": "The Da Vinci Code",
         "orientation": "h",
         "showlegend": true,
         "textposition": "auto",
         "type": "bar",
         "x": [
          1447148
         ],
         "xaxis": "x",
         "y": [
          "The Da Vinci Code"
         ],
         "yaxis": "y"
        },
        {
         "alignmentgroup": "True",
         "hovertemplate": "original_title=%{y}<br>ratings_count=%{x}<extra></extra>",
         "legendgroup": "The Lightning Thief",
         "marker": {
          "color": "#EF553B"
         },
         "name": "The Lightning Thief",
         "offsetgroup": "The Lightning Thief",
         "orientation": "h",
         "showlegend": true,
         "textposition": "auto",
         "type": "bar",
         "x": [
          1366265
         ],
         "xaxis": "x",
         "y": [
          "The Lightning Thief"
         ],
         "yaxis": "y"
        },
        {
         "alignmentgroup": "True",
         "hovertemplate": "original_title=%{y}<br>ratings_count=%{x}<extra></extra>",
         "legendgroup": "Fifty Shades of Grey",
         "marker": {
          "color": "#00cc96"
         },
         "name": "Fifty Shades of Grey",
         "offsetgroup": "Fifty Shades of Grey",
         "orientation": "h",
         "showlegend": true,
         "textposition": "auto",
         "type": "bar",
         "x": [
          1338493
         ],
         "xaxis": "x",
         "y": [
          "Fifty Shades of Grey"
         ],
         "yaxis": "y"
        },
        {
         "alignmentgroup": "True",
         "hovertemplate": "original_title=%{y}<br>ratings_count=%{x}<extra></extra>",
         "legendgroup": "A Game of Thrones",
         "marker": {
          "color": "#ab63fa"
         },
         "name": "A Game of Thrones",
         "offsetgroup": "A Game of Thrones",
         "orientation": "h",
         "showlegend": true,
         "textposition": "auto",
         "type": "bar",
         "x": [
          1319204
         ],
         "xaxis": "x",
         "y": [
          "A Game of Thrones"
         ],
         "yaxis": "y"
        },
        {
         "alignmentgroup": "True",
         "hovertemplate": "original_title=%{y}<br>ratings_count=%{x}<extra></extra>",
         "legendgroup": "Memoirs of a Geisha",
         "marker": {
          "color": "#FFA15A"
         },
         "name": "Memoirs of a Geisha",
         "offsetgroup": "Memoirs of a Geisha",
         "orientation": "h",
         "showlegend": true,
         "textposition": "auto",
         "type": "bar",
         "x": [
          1300209
         ],
         "xaxis": "x",
         "y": [
          "Memoirs of a Geisha"
         ],
         "yaxis": "y"
        },
        {
         "alignmentgroup": "True",
         "hovertemplate": "original_title=%{y}<br>ratings_count=%{x}<extra></extra>",
         "legendgroup": "O Alquimista",
         "marker": {
          "color": "#19d3f3"
         },
         "name": "O Alquimista",
         "offsetgroup": "O Alquimista",
         "orientation": "h",
         "showlegend": true,
         "textposition": "auto",
         "type": "bar",
         "x": [
          1299566
         ],
         "xaxis": "x",
         "y": [
          "O Alquimista"
         ],
         "yaxis": "y"
        },
        {
         "alignmentgroup": "True",
         "hovertemplate": "original_title=%{y}<br>ratings_count=%{x}<extra></extra>",
         "legendgroup": "The Giver",
         "marker": {
          "color": "#FF6692"
         },
         "name": "The Giver",
         "offsetgroup": "The Giver",
         "orientation": "h",
         "showlegend": true,
         "textposition": "auto",
         "type": "bar",
         "x": [
          1296825
         ],
         "xaxis": "x",
         "y": [
          "The Giver"
         ],
         "yaxis": "y"
        },
        {
         "alignmentgroup": "True",
         "hovertemplate": "original_title=%{y}<br>ratings_count=%{x}<extra></extra>",
         "legendgroup": "Little Women",
         "marker": {
          "color": "#B6E880"
         },
         "name": "Little Women",
         "offsetgroup": "Little Women",
         "orientation": "h",
         "showlegend": true,
         "textposition": "auto",
         "type": "bar",
         "x": [
          1257121
         ],
         "xaxis": "x",
         "y": [
          "Little Women"
         ],
         "yaxis": "y"
        },
        {
         "alignmentgroup": "True",
         "hovertemplate": "original_title=%{y}<br>ratings_count=%{x}<extra></extra>",
         "legendgroup": "Jane Eyre",
         "marker": {
          "color": "#FF97FF"
         },
         "name": "Jane Eyre",
         "offsetgroup": "Jane Eyre",
         "orientation": "h",
         "showlegend": true,
         "textposition": "auto",
         "type": "bar",
         "x": [
          1198557
         ],
         "xaxis": "x",
         "y": [
          "Jane Eyre"
         ],
         "yaxis": "y"
        },
        {
         "alignmentgroup": "True",
         "hovertemplate": "original_title=%{y}<br>ratings_count=%{x}<extra></extra>",
         "legendgroup": "Eat, pray, love: one woman's search for everything across Italy, India and Indonesia",
         "marker": {
          "color": "#FECB52"
         },
         "name": "Eat, pray, love: one woman's search for everything across Italy, India and Indonesia",
         "offsetgroup": "Eat, pray, love: one woman's search for everything across Italy, India and Indonesia",
         "orientation": "h",
         "showlegend": true,
         "textposition": "auto",
         "type": "bar",
         "x": [
          1181647
         ],
         "xaxis": "x",
         "y": [
          "Eat, pray, love: one woman's search for everything across Italy, India and Indonesia"
         ],
         "yaxis": "y"
        },
        {
         "alignmentgroup": "True",
         "hovertemplate": "original_title=%{y}<br>ratings_count=%{x}<extra></extra>",
         "legendgroup": "The Book Thief",
         "marker": {
          "color": "#636efa"
         },
         "name": "The Book Thief",
         "offsetgroup": "The Book Thief",
         "orientation": "h",
         "showlegend": true,
         "textposition": "auto",
         "type": "bar",
         "x": [
          1159741
         ],
         "xaxis": "x",
         "y": [
          "The Book Thief"
         ],
         "yaxis": "y"
        },
        {
         "alignmentgroup": "True",
         "hovertemplate": "original_title=%{y}<br>ratings_count=%{x}<extra></extra>",
         "legendgroup": "New Moon (Twilight, #2)",
         "marker": {
          "color": "#EF553B"
         },
         "name": "New Moon (Twilight, #2)",
         "offsetgroup": "New Moon (Twilight, #2)",
         "orientation": "h",
         "showlegend": true,
         "textposition": "auto",
         "type": "bar",
         "x": [
          1149630
         ],
         "xaxis": "x",
         "y": [
          "New Moon (Twilight, #2)"
         ],
         "yaxis": "y"
        },
        {
         "alignmentgroup": "True",
         "hovertemplate": "original_title=%{y}<br>ratings_count=%{x}<extra></extra>",
         "legendgroup": "Eclipse",
         "marker": {
          "color": "#00cc96"
         },
         "name": "Eclipse",
         "offsetgroup": "Eclipse",
         "orientation": "h",
         "showlegend": true,
         "textposition": "auto",
         "type": "bar",
         "x": [
          1134511
         ],
         "xaxis": "x",
         "y": [
          "Eclipse"
         ],
         "yaxis": "y"
        },
        {
         "alignmentgroup": "True",
         "hovertemplate": "original_title=%{y}<br>ratings_count=%{x}<extra></extra>",
         "legendgroup": "Eragon",
         "marker": {
          "color": "#ab63fa"
         },
         "name": "Eragon",
         "offsetgroup": "Eragon",
         "orientation": "h",
         "showlegend": true,
         "textposition": "auto",
         "type": "bar",
         "x": [
          1104021
         ],
         "xaxis": "x",
         "y": [
          "Eragon"
         ],
         "yaxis": "y"
        },
        {
         "alignmentgroup": "True",
         "hovertemplate": "original_title=%{y}<br>ratings_count=%{x}<extra></extra>",
         "legendgroup": "Breaking Dawn",
         "marker": {
          "color": "#FFA15A"
         },
         "name": "Breaking Dawn",
         "offsetgroup": "Breaking Dawn",
         "orientation": "h",
         "showlegend": true,
         "textposition": "auto",
         "type": "bar",
         "x": [
          1070245
         ],
         "xaxis": "x",
         "y": [
          "Breaking Dawn"
         ],
         "yaxis": "y"
        },
        {
         "alignmentgroup": "True",
         "hovertemplate": "original_title=%{y}<br>ratings_count=%{x}<extra></extra>",
         "legendgroup": "Water for Elephants",
         "marker": {
          "color": "#19d3f3"
         },
         "name": "Water for Elephants",
         "offsetgroup": "Water for Elephants",
         "orientation": "h",
         "showlegend": true,
         "textposition": "auto",
         "type": "bar",
         "x": [
          1068146
         ],
         "xaxis": "x",
         "y": [
          "Water for Elephants"
         ],
         "yaxis": "y"
        },
        {
         "alignmentgroup": "True",
         "hovertemplate": "original_title=%{y}<br>ratings_count=%{x}<extra></extra>",
         "legendgroup": "Charlotte's Web",
         "marker": {
          "color": "#FF6692"
         },
         "name": "Charlotte's Web",
         "offsetgroup": "Charlotte's Web",
         "orientation": "h",
         "showlegend": true,
         "textposition": "auto",
         "type": "bar",
         "x": [
          1064521
         ],
         "xaxis": "x",
         "y": [
          "Charlotte's Web"
         ],
         "yaxis": "y"
        },
        {
         "alignmentgroup": "True",
         "hovertemplate": "original_title=%{y}<br>ratings_count=%{x}<extra></extra>",
         "legendgroup": "The Notebook",
         "marker": {
          "color": "#B6E880"
         },
         "name": "The Notebook",
         "offsetgroup": "The Notebook",
         "orientation": "h",
         "showlegend": true,
         "textposition": "auto",
         "type": "bar",
         "x": [
          1053403
         ],
         "xaxis": "x",
         "y": [
          "The Notebook"
         ],
         "yaxis": "y"
        },
        {
         "alignmentgroup": "True",
         "hovertemplate": "original_title=%{y}<br>ratings_count=%{x}<extra></extra>",
         "legendgroup": "Brave New World",
         "marker": {
          "color": "#FF97FF"
         },
         "name": "Brave New World",
         "offsetgroup": "Brave New World",
         "orientation": "h",
         "showlegend": true,
         "textposition": "auto",
         "type": "bar",
         "x": [
          1022601
         ],
         "xaxis": "x",
         "y": [
          "Brave New World"
         ],
         "yaxis": "y"
        },
        {
         "alignmentgroup": "True",
         "hovertemplate": "original_title=%{y}<br>ratings_count=%{x}<extra></extra>",
         "legendgroup": "Where the Sidewalk Ends: The Poems and Drawings of Shel Silverstein",
         "marker": {
          "color": "#FECB52"
         },
         "name": "Where the Sidewalk Ends: The Poems and Drawings of Shel Silverstein",
         "offsetgroup": "Where the Sidewalk Ends: The Poems and Drawings of Shel Silverstein",
         "orientation": "h",
         "showlegend": true,
         "textposition": "auto",
         "type": "bar",
         "x": [
          1016888
         ],
         "xaxis": "x",
         "y": [
          "Where the Sidewalk Ends: The Poems and Drawings of Shel Silverstein"
         ],
         "yaxis": "y"
        }
       ],
       "layout": {
        "barmode": "relative",
        "height": 700,
        "legend": {
         "title": {
          "text": "original_title"
         },
         "tracegroupgap": 0
        },
        "template": {
         "data": {
          "bar": [
           {
            "error_x": {
             "color": "#2a3f5f"
            },
            "error_y": {
             "color": "#2a3f5f"
            },
            "marker": {
             "line": {
              "color": "#E5ECF6",
              "width": 0.5
             }
            },
            "type": "bar"
           }
          ],
          "barpolar": [
           {
            "marker": {
             "line": {
              "color": "#E5ECF6",
              "width": 0.5
             }
            },
            "type": "barpolar"
           }
          ],
          "carpet": [
           {
            "aaxis": {
             "endlinecolor": "#2a3f5f",
             "gridcolor": "white",
             "linecolor": "white",
             "minorgridcolor": "white",
             "startlinecolor": "#2a3f5f"
            },
            "baxis": {
             "endlinecolor": "#2a3f5f",
             "gridcolor": "white",
             "linecolor": "white",
             "minorgridcolor": "white",
             "startlinecolor": "#2a3f5f"
            },
            "type": "carpet"
           }
          ],
          "choropleth": [
           {
            "colorbar": {
             "outlinewidth": 0,
             "ticks": ""
            },
            "type": "choropleth"
           }
          ],
          "contour": [
           {
            "colorbar": {
             "outlinewidth": 0,
             "ticks": ""
            },
            "colorscale": [
             [
              0,
              "#0d0887"
             ],
             [
              0.1111111111111111,
              "#46039f"
             ],
             [
              0.2222222222222222,
              "#7201a8"
             ],
             [
              0.3333333333333333,
              "#9c179e"
             ],
             [
              0.4444444444444444,
              "#bd3786"
             ],
             [
              0.5555555555555556,
              "#d8576b"
             ],
             [
              0.6666666666666666,
              "#ed7953"
             ],
             [
              0.7777777777777778,
              "#fb9f3a"
             ],
             [
              0.8888888888888888,
              "#fdca26"
             ],
             [
              1,
              "#f0f921"
             ]
            ],
            "type": "contour"
           }
          ],
          "contourcarpet": [
           {
            "colorbar": {
             "outlinewidth": 0,
             "ticks": ""
            },
            "type": "contourcarpet"
           }
          ],
          "heatmap": [
           {
            "colorbar": {
             "outlinewidth": 0,
             "ticks": ""
            },
            "colorscale": [
             [
              0,
              "#0d0887"
             ],
             [
              0.1111111111111111,
              "#46039f"
             ],
             [
              0.2222222222222222,
              "#7201a8"
             ],
             [
              0.3333333333333333,
              "#9c179e"
             ],
             [
              0.4444444444444444,
              "#bd3786"
             ],
             [
              0.5555555555555556,
              "#d8576b"
             ],
             [
              0.6666666666666666,
              "#ed7953"
             ],
             [
              0.7777777777777778,
              "#fb9f3a"
             ],
             [
              0.8888888888888888,
              "#fdca26"
             ],
             [
              1,
              "#f0f921"
             ]
            ],
            "type": "heatmap"
           }
          ],
          "heatmapgl": [
           {
            "colorbar": {
             "outlinewidth": 0,
             "ticks": ""
            },
            "colorscale": [
             [
              0,
              "#0d0887"
             ],
             [
              0.1111111111111111,
              "#46039f"
             ],
             [
              0.2222222222222222,
              "#7201a8"
             ],
             [
              0.3333333333333333,
              "#9c179e"
             ],
             [
              0.4444444444444444,
              "#bd3786"
             ],
             [
              0.5555555555555556,
              "#d8576b"
             ],
             [
              0.6666666666666666,
              "#ed7953"
             ],
             [
              0.7777777777777778,
              "#fb9f3a"
             ],
             [
              0.8888888888888888,
              "#fdca26"
             ],
             [
              1,
              "#f0f921"
             ]
            ],
            "type": "heatmapgl"
           }
          ],
          "histogram": [
           {
            "marker": {
             "colorbar": {
              "outlinewidth": 0,
              "ticks": ""
             }
            },
            "type": "histogram"
           }
          ],
          "histogram2d": [
           {
            "colorbar": {
             "outlinewidth": 0,
             "ticks": ""
            },
            "colorscale": [
             [
              0,
              "#0d0887"
             ],
             [
              0.1111111111111111,
              "#46039f"
             ],
             [
              0.2222222222222222,
              "#7201a8"
             ],
             [
              0.3333333333333333,
              "#9c179e"
             ],
             [
              0.4444444444444444,
              "#bd3786"
             ],
             [
              0.5555555555555556,
              "#d8576b"
             ],
             [
              0.6666666666666666,
              "#ed7953"
             ],
             [
              0.7777777777777778,
              "#fb9f3a"
             ],
             [
              0.8888888888888888,
              "#fdca26"
             ],
             [
              1,
              "#f0f921"
             ]
            ],
            "type": "histogram2d"
           }
          ],
          "histogram2dcontour": [
           {
            "colorbar": {
             "outlinewidth": 0,
             "ticks": ""
            },
            "colorscale": [
             [
              0,
              "#0d0887"
             ],
             [
              0.1111111111111111,
              "#46039f"
             ],
             [
              0.2222222222222222,
              "#7201a8"
             ],
             [
              0.3333333333333333,
              "#9c179e"
             ],
             [
              0.4444444444444444,
              "#bd3786"
             ],
             [
              0.5555555555555556,
              "#d8576b"
             ],
             [
              0.6666666666666666,
              "#ed7953"
             ],
             [
              0.7777777777777778,
              "#fb9f3a"
             ],
             [
              0.8888888888888888,
              "#fdca26"
             ],
             [
              1,
              "#f0f921"
             ]
            ],
            "type": "histogram2dcontour"
           }
          ],
          "mesh3d": [
           {
            "colorbar": {
             "outlinewidth": 0,
             "ticks": ""
            },
            "type": "mesh3d"
           }
          ],
          "parcoords": [
           {
            "line": {
             "colorbar": {
              "outlinewidth": 0,
              "ticks": ""
             }
            },
            "type": "parcoords"
           }
          ],
          "pie": [
           {
            "automargin": true,
            "type": "pie"
           }
          ],
          "scatter": [
           {
            "marker": {
             "colorbar": {
              "outlinewidth": 0,
              "ticks": ""
             }
            },
            "type": "scatter"
           }
          ],
          "scatter3d": [
           {
            "line": {
             "colorbar": {
              "outlinewidth": 0,
              "ticks": ""
             }
            },
            "marker": {
             "colorbar": {
              "outlinewidth": 0,
              "ticks": ""
             }
            },
            "type": "scatter3d"
           }
          ],
          "scattercarpet": [
           {
            "marker": {
             "colorbar": {
              "outlinewidth": 0,
              "ticks": ""
             }
            },
            "type": "scattercarpet"
           }
          ],
          "scattergeo": [
           {
            "marker": {
             "colorbar": {
              "outlinewidth": 0,
              "ticks": ""
             }
            },
            "type": "scattergeo"
           }
          ],
          "scattergl": [
           {
            "marker": {
             "colorbar": {
              "outlinewidth": 0,
              "ticks": ""
             }
            },
            "type": "scattergl"
           }
          ],
          "scattermapbox": [
           {
            "marker": {
             "colorbar": {
              "outlinewidth": 0,
              "ticks": ""
             }
            },
            "type": "scattermapbox"
           }
          ],
          "scatterpolar": [
           {
            "marker": {
             "colorbar": {
              "outlinewidth": 0,
              "ticks": ""
             }
            },
            "type": "scatterpolar"
           }
          ],
          "scatterpolargl": [
           {
            "marker": {
             "colorbar": {
              "outlinewidth": 0,
              "ticks": ""
             }
            },
            "type": "scatterpolargl"
           }
          ],
          "scatterternary": [
           {
            "marker": {
             "colorbar": {
              "outlinewidth": 0,
              "ticks": ""
             }
            },
            "type": "scatterternary"
           }
          ],
          "surface": [
           {
            "colorbar": {
             "outlinewidth": 0,
             "ticks": ""
            },
            "colorscale": [
             [
              0,
              "#0d0887"
             ],
             [
              0.1111111111111111,
              "#46039f"
             ],
             [
              0.2222222222222222,
              "#7201a8"
             ],
             [
              0.3333333333333333,
              "#9c179e"
             ],
             [
              0.4444444444444444,
              "#bd3786"
             ],
             [
              0.5555555555555556,
              "#d8576b"
             ],
             [
              0.6666666666666666,
              "#ed7953"
             ],
             [
              0.7777777777777778,
              "#fb9f3a"
             ],
             [
              0.8888888888888888,
              "#fdca26"
             ],
             [
              1,
              "#f0f921"
             ]
            ],
            "type": "surface"
           }
          ],
          "table": [
           {
            "cells": {
             "fill": {
              "color": "#EBF0F8"
             },
             "line": {
              "color": "white"
             }
            },
            "header": {
             "fill": {
              "color": "#C8D4E3"
             },
             "line": {
              "color": "white"
             }
            },
            "type": "table"
           }
          ]
         },
         "layout": {
          "annotationdefaults": {
           "arrowcolor": "#2a3f5f",
           "arrowhead": 0,
           "arrowwidth": 1
          },
          "coloraxis": {
           "colorbar": {
            "outlinewidth": 0,
            "ticks": ""
           }
          },
          "colorscale": {
           "diverging": [
            [
             0,
             "#8e0152"
            ],
            [
             0.1,
             "#c51b7d"
            ],
            [
             0.2,
             "#de77ae"
            ],
            [
             0.3,
             "#f1b6da"
            ],
            [
             0.4,
             "#fde0ef"
            ],
            [
             0.5,
             "#f7f7f7"
            ],
            [
             0.6,
             "#e6f5d0"
            ],
            [
             0.7,
             "#b8e186"
            ],
            [
             0.8,
             "#7fbc41"
            ],
            [
             0.9,
             "#4d9221"
            ],
            [
             1,
             "#276419"
            ]
           ],
           "sequential": [
            [
             0,
             "#0d0887"
            ],
            [
             0.1111111111111111,
             "#46039f"
            ],
            [
             0.2222222222222222,
             "#7201a8"
            ],
            [
             0.3333333333333333,
             "#9c179e"
            ],
            [
             0.4444444444444444,
             "#bd3786"
            ],
            [
             0.5555555555555556,
             "#d8576b"
            ],
            [
             0.6666666666666666,
             "#ed7953"
            ],
            [
             0.7777777777777778,
             "#fb9f3a"
            ],
            [
             0.8888888888888888,
             "#fdca26"
            ],
            [
             1,
             "#f0f921"
            ]
           ],
           "sequentialminus": [
            [
             0,
             "#0d0887"
            ],
            [
             0.1111111111111111,
             "#46039f"
            ],
            [
             0.2222222222222222,
             "#7201a8"
            ],
            [
             0.3333333333333333,
             "#9c179e"
            ],
            [
             0.4444444444444444,
             "#bd3786"
            ],
            [
             0.5555555555555556,
             "#d8576b"
            ],
            [
             0.6666666666666666,
             "#ed7953"
            ],
            [
             0.7777777777777778,
             "#fb9f3a"
            ],
            [
             0.8888888888888888,
             "#fdca26"
            ],
            [
             1,
             "#f0f921"
            ]
           ]
          },
          "colorway": [
           "#636efa",
           "#EF553B",
           "#00cc96",
           "#ab63fa",
           "#FFA15A",
           "#19d3f3",
           "#FF6692",
           "#B6E880",
           "#FF97FF",
           "#FECB52"
          ],
          "font": {
           "color": "#2a3f5f"
          },
          "geo": {
           "bgcolor": "white",
           "lakecolor": "white",
           "landcolor": "#E5ECF6",
           "showlakes": true,
           "showland": true,
           "subunitcolor": "white"
          },
          "hoverlabel": {
           "align": "left"
          },
          "hovermode": "closest",
          "mapbox": {
           "style": "light"
          },
          "paper_bgcolor": "white",
          "plot_bgcolor": "#E5ECF6",
          "polar": {
           "angularaxis": {
            "gridcolor": "white",
            "linecolor": "white",
            "ticks": ""
           },
           "bgcolor": "#E5ECF6",
           "radialaxis": {
            "gridcolor": "white",
            "linecolor": "white",
            "ticks": ""
           }
          },
          "scene": {
           "xaxis": {
            "backgroundcolor": "#E5ECF6",
            "gridcolor": "white",
            "gridwidth": 2,
            "linecolor": "white",
            "showbackground": true,
            "ticks": "",
            "zerolinecolor": "white"
           },
           "yaxis": {
            "backgroundcolor": "#E5ECF6",
            "gridcolor": "white",
            "gridwidth": 2,
            "linecolor": "white",
            "showbackground": true,
            "ticks": "",
            "zerolinecolor": "white"
           },
           "zaxis": {
            "backgroundcolor": "#E5ECF6",
            "gridcolor": "white",
            "gridwidth": 2,
            "linecolor": "white",
            "showbackground": true,
            "ticks": "",
            "zerolinecolor": "white"
           }
          },
          "shapedefaults": {
           "line": {
            "color": "#2a3f5f"
           }
          },
          "ternary": {
           "aaxis": {
            "gridcolor": "white",
            "linecolor": "white",
            "ticks": ""
           },
           "baxis": {
            "gridcolor": "white",
            "linecolor": "white",
            "ticks": ""
           },
           "bgcolor": "#E5ECF6",
           "caxis": {
            "gridcolor": "white",
            "linecolor": "white",
            "ticks": ""
           }
          },
          "title": {
           "x": 0.05
          },
          "xaxis": {
           "automargin": true,
           "gridcolor": "white",
           "linecolor": "white",
           "ticks": "",
           "title": {
            "standoff": 15
           },
           "zerolinecolor": "white",
           "zerolinewidth": 2
          },
          "yaxis": {
           "automargin": true,
           "gridcolor": "white",
           "linecolor": "white",
           "ticks": "",
           "title": {
            "standoff": 15
           },
           "zerolinecolor": "white",
           "zerolinewidth": 2
          }
         }
        },
        "title": {
         "text": "Top Popular Books"
        },
        "width": 1500,
        "xaxis": {
         "anchor": "y",
         "domain": [
          0,
          1
         ],
         "title": {
          "text": "ratings_count"
         }
        },
        "yaxis": {
         "anchor": "x",
         "categoryarray": [
          "Where the Sidewalk Ends: The Poems and Drawings of Shel Silverstein",
          "Brave New World",
          "The Notebook",
          "Charlotte's Web",
          "Water for Elephants",
          "Breaking Dawn",
          "Eragon",
          "Eclipse",
          "New Moon (Twilight, #2)",
          "The Book Thief",
          "Eat, pray, love: one woman's search for everything across Italy, India and Indonesia",
          "Jane Eyre",
          "Little Women",
          "The Giver",
          "O Alquimista",
          "Memoirs of a Geisha",
          "A Game of Thrones",
          "Fifty Shades of Grey",
          "The Lightning Thief",
          "The Da Vinci Code",
          "Of Mice and Men ",
          "The Help",
          "The Lion, the Witch and the Wardrobe",
          "Lord of the Flies ",
          "The Lovely Bones",
          "An Excellent conceited Tragedie of Romeo and Juliet",
          "Harry Potter and the Half-Blood Prince",
          "Mockingjay",
          "Harry Potter and the Order of the Phoenix",
          "Harry Potter and the Deathly Hallows",
          "Harry Potter and the Goblet of Fire",
          " The Fellowship of the Ring",
          "Harry Potter and the Chamber of Secrets",
          "Män som hatar kvinnor",
          "The Kite Runner ",
          "Catching Fire",
          "Harry Potter and the Prisoner of Azkaban",
          "Animal Farm: A Fairy Story",
          "Divergent",
          "Nineteen Eighty-Four",
          "Het Achterhuis: Dagboekbrieven 14 juni 1942 - 1 augustus 1944",
          "Angels & Demons ",
          "Pride and Prejudice",
          "The Catcher in the Rye",
          "The Hobbit or There and Back Again",
          "The Fault in Our Stars",
          "The Great Gatsby",
          "To Kill a Mockingbird",
          "Harry Potter and the Philosopher's Stone",
          "The Hunger Games"
         ],
         "categoryorder": "array",
         "domain": [
          0,
          1
         ],
         "title": {
          "text": "original_title"
         }
        }
       }
      },
      "text/html": [
       "<div>                            <div id=\"b5a39710-7e26-4ad9-ac03-c8162b5ac933\" class=\"plotly-graph-div\" style=\"height:700px; width:1500px;\"></div>            <script type=\"text/javascript\">                require([\"plotly\"], function(Plotly) {                    window.PLOTLYENV=window.PLOTLYENV || {};                                    if (document.getElementById(\"b5a39710-7e26-4ad9-ac03-c8162b5ac933\")) {                    Plotly.newPlot(                        \"b5a39710-7e26-4ad9-ac03-c8162b5ac933\",                        [{\"alignmentgroup\": \"True\", \"hovertemplate\": \"original_title=%{y}<br>ratings_count=%{x}<extra></extra>\", \"legendgroup\": \"The Hunger Games\", \"marker\": {\"color\": \"#636efa\"}, \"name\": \"The Hunger Games\", \"offsetgroup\": \"The Hunger Games\", \"orientation\": \"h\", \"showlegend\": true, \"textposition\": \"auto\", \"type\": \"bar\", \"x\": [4780653], \"xaxis\": \"x\", \"y\": [\"The Hunger Games\"], \"yaxis\": \"y\"}, {\"alignmentgroup\": \"True\", \"hovertemplate\": \"original_title=%{y}<br>ratings_count=%{x}<extra></extra>\", \"legendgroup\": \"Harry Potter and the Philosopher's Stone\", \"marker\": {\"color\": \"#EF553B\"}, \"name\": \"Harry Potter and the Philosopher's Stone\", \"offsetgroup\": \"Harry Potter and the Philosopher's Stone\", \"orientation\": \"h\", \"showlegend\": true, \"textposition\": \"auto\", \"type\": \"bar\", \"x\": [4602479], \"xaxis\": \"x\", \"y\": [\"Harry Potter and the Philosopher's Stone\"], \"yaxis\": \"y\"}, {\"alignmentgroup\": \"True\", \"hovertemplate\": \"original_title=%{y}<br>ratings_count=%{x}<extra></extra>\", \"legendgroup\": \"To Kill a Mockingbird\", \"marker\": {\"color\": \"#00cc96\"}, \"name\": \"To Kill a Mockingbird\", \"offsetgroup\": \"To Kill a Mockingbird\", \"orientation\": \"h\", \"showlegend\": true, \"textposition\": \"auto\", \"type\": \"bar\", \"x\": [3198671], \"xaxis\": \"x\", \"y\": [\"To Kill a Mockingbird\"], \"yaxis\": \"y\"}, {\"alignmentgroup\": \"True\", \"hovertemplate\": \"original_title=%{y}<br>ratings_count=%{x}<extra></extra>\", \"legendgroup\": \"The Great Gatsby\", \"marker\": {\"color\": \"#ab63fa\"}, \"name\": \"The Great Gatsby\", \"offsetgroup\": \"The Great Gatsby\", \"orientation\": \"h\", \"showlegend\": true, \"textposition\": \"auto\", \"type\": \"bar\", \"x\": [2683664], \"xaxis\": \"x\", \"y\": [\"The Great Gatsby\"], \"yaxis\": \"y\"}, {\"alignmentgroup\": \"True\", \"hovertemplate\": \"original_title=%{y}<br>ratings_count=%{x}<extra></extra>\", \"legendgroup\": \"The Fault in Our Stars\", \"marker\": {\"color\": \"#FFA15A\"}, \"name\": \"The Fault in Our Stars\", \"offsetgroup\": \"The Fault in Our Stars\", \"orientation\": \"h\", \"showlegend\": true, \"textposition\": \"auto\", \"type\": \"bar\", \"x\": [2346404], \"xaxis\": \"x\", \"y\": [\"The Fault in Our Stars\"], \"yaxis\": \"y\"}, {\"alignmentgroup\": \"True\", \"hovertemplate\": \"original_title=%{y}<br>ratings_count=%{x}<extra></extra>\", \"legendgroup\": \"The Hobbit or There and Back Again\", \"marker\": {\"color\": \"#19d3f3\"}, \"name\": \"The Hobbit or There and Back Again\", \"offsetgroup\": \"The Hobbit or There and Back Again\", \"orientation\": \"h\", \"showlegend\": true, \"textposition\": \"auto\", \"type\": \"bar\", \"x\": [2071616], \"xaxis\": \"x\", \"y\": [\"The Hobbit or There and Back Again\"], \"yaxis\": \"y\"}, {\"alignmentgroup\": \"True\", \"hovertemplate\": \"original_title=%{y}<br>ratings_count=%{x}<extra></extra>\", \"legendgroup\": \"The Catcher in the Rye\", \"marker\": {\"color\": \"#FF6692\"}, \"name\": \"The Catcher in the Rye\", \"offsetgroup\": \"The Catcher in the Rye\", \"orientation\": \"h\", \"showlegend\": true, \"textposition\": \"auto\", \"type\": \"bar\", \"x\": [2044241], \"xaxis\": \"x\", \"y\": [\"The Catcher in the Rye\"], \"yaxis\": \"y\"}, {\"alignmentgroup\": \"True\", \"hovertemplate\": \"original_title=%{y}<br>ratings_count=%{x}<extra></extra>\", \"legendgroup\": \"Pride and Prejudice\", \"marker\": {\"color\": \"#B6E880\"}, \"name\": \"Pride and Prejudice\", \"offsetgroup\": \"Pride and Prejudice\", \"orientation\": \"h\", \"showlegend\": true, \"textposition\": \"auto\", \"type\": \"bar\", \"x\": [2035490], \"xaxis\": \"x\", \"y\": [\"Pride and Prejudice\"], \"yaxis\": \"y\"}, {\"alignmentgroup\": \"True\", \"hovertemplate\": \"original_title=%{y}<br>ratings_count=%{x}<extra></extra>\", \"legendgroup\": \"Angels & Demons \", \"marker\": {\"color\": \"#FF97FF\"}, \"name\": \"Angels & Demons \", \"offsetgroup\": \"Angels & Demons \", \"orientation\": \"h\", \"showlegend\": true, \"textposition\": \"auto\", \"type\": \"bar\", \"x\": [2001311], \"xaxis\": \"x\", \"y\": [\"Angels & Demons \"], \"yaxis\": \"y\"}, {\"alignmentgroup\": \"True\", \"hovertemplate\": \"original_title=%{y}<br>ratings_count=%{x}<extra></extra>\", \"legendgroup\": \"Het Achterhuis: Dagboekbrieven 14 juni 1942 - 1 augustus 1944\", \"marker\": {\"color\": \"#FECB52\"}, \"name\": \"Het Achterhuis: Dagboekbrieven 14 juni 1942 - 1 augustus 1944\", \"offsetgroup\": \"Het Achterhuis: Dagboekbrieven 14 juni 1942 - 1 augustus 1944\", \"orientation\": \"h\", \"showlegend\": true, \"textposition\": \"auto\", \"type\": \"bar\", \"x\": [1972666], \"xaxis\": \"x\", \"y\": [\"Het Achterhuis: Dagboekbrieven 14 juni 1942 - 1 augustus 1944\"], \"yaxis\": \"y\"}, {\"alignmentgroup\": \"True\", \"hovertemplate\": \"original_title=%{y}<br>ratings_count=%{x}<extra></extra>\", \"legendgroup\": \"Nineteen Eighty-Four\", \"marker\": {\"color\": \"#636efa\"}, \"name\": \"Nineteen Eighty-Four\", \"offsetgroup\": \"Nineteen Eighty-Four\", \"orientation\": \"h\", \"showlegend\": true, \"textposition\": \"auto\", \"type\": \"bar\", \"x\": [1956832], \"xaxis\": \"x\", \"y\": [\"Nineteen Eighty-Four\"], \"yaxis\": \"y\"}, {\"alignmentgroup\": \"True\", \"hovertemplate\": \"original_title=%{y}<br>ratings_count=%{x}<extra></extra>\", \"legendgroup\": \"Divergent\", \"marker\": {\"color\": \"#EF553B\"}, \"name\": \"Divergent\", \"offsetgroup\": \"Divergent\", \"orientation\": \"h\", \"showlegend\": true, \"textposition\": \"auto\", \"type\": \"bar\", \"x\": [1903563], \"xaxis\": \"x\", \"y\": [\"Divergent\"], \"yaxis\": \"y\"}, {\"alignmentgroup\": \"True\", \"hovertemplate\": \"original_title=%{y}<br>ratings_count=%{x}<extra></extra>\", \"legendgroup\": \"Animal Farm: A Fairy Story\", \"marker\": {\"color\": \"#00cc96\"}, \"name\": \"Animal Farm: A Fairy Story\", \"offsetgroup\": \"Animal Farm: A Fairy Story\", \"orientation\": \"h\", \"showlegend\": true, \"textposition\": \"auto\", \"type\": \"bar\", \"x\": [1881700], \"xaxis\": \"x\", \"y\": [\"Animal Farm: A Fairy Story\"], \"yaxis\": \"y\"}, {\"alignmentgroup\": \"True\", \"hovertemplate\": \"original_title=%{y}<br>ratings_count=%{x}<extra></extra>\", \"legendgroup\": \"Harry Potter and the Prisoner of Azkaban\", \"marker\": {\"color\": \"#ab63fa\"}, \"name\": \"Harry Potter and the Prisoner of Azkaban\", \"offsetgroup\": \"Harry Potter and the Prisoner of Azkaban\", \"orientation\": \"h\", \"showlegend\": true, \"textposition\": \"auto\", \"type\": \"bar\", \"x\": [1832823], \"xaxis\": \"x\", \"y\": [\"Harry Potter and the Prisoner of Azkaban\"], \"yaxis\": \"y\"}, {\"alignmentgroup\": \"True\", \"hovertemplate\": \"original_title=%{y}<br>ratings_count=%{x}<extra></extra>\", \"legendgroup\": \"Catching Fire\", \"marker\": {\"color\": \"#FFA15A\"}, \"name\": \"Catching Fire\", \"offsetgroup\": \"Catching Fire\", \"orientation\": \"h\", \"showlegend\": true, \"textposition\": \"auto\", \"type\": \"bar\", \"x\": [1831039], \"xaxis\": \"x\", \"y\": [\"Catching Fire\"], \"yaxis\": \"y\"}, {\"alignmentgroup\": \"True\", \"hovertemplate\": \"original_title=%{y}<br>ratings_count=%{x}<extra></extra>\", \"legendgroup\": \"The Kite Runner \", \"marker\": {\"color\": \"#19d3f3\"}, \"name\": \"The Kite Runner \", \"offsetgroup\": \"The Kite Runner \", \"orientation\": \"h\", \"showlegend\": true, \"textposition\": \"auto\", \"type\": \"bar\", \"x\": [1813044], \"xaxis\": \"x\", \"y\": [\"The Kite Runner \"], \"yaxis\": \"y\"}, {\"alignmentgroup\": \"True\", \"hovertemplate\": \"original_title=%{y}<br>ratings_count=%{x}<extra></extra>\", \"legendgroup\": \"M\\u00e4n som hatar kvinnor\", \"marker\": {\"color\": \"#FF6692\"}, \"name\": \"M\\u00e4n som hatar kvinnor\", \"offsetgroup\": \"M\\u00e4n som hatar kvinnor\", \"orientation\": \"h\", \"showlegend\": true, \"textposition\": \"auto\", \"type\": \"bar\", \"x\": [1808403], \"xaxis\": \"x\", \"y\": [\"M\\u00e4n som hatar kvinnor\"], \"yaxis\": \"y\"}, {\"alignmentgroup\": \"True\", \"hovertemplate\": \"original_title=%{y}<br>ratings_count=%{x}<extra></extra>\", \"legendgroup\": \"Harry Potter and the Chamber of Secrets\", \"marker\": {\"color\": \"#B6E880\"}, \"name\": \"Harry Potter and the Chamber of Secrets\", \"offsetgroup\": \"Harry Potter and the Chamber of Secrets\", \"orientation\": \"h\", \"showlegend\": true, \"textposition\": \"auto\", \"type\": \"bar\", \"x\": [1779331], \"xaxis\": \"x\", \"y\": [\"Harry Potter and the Chamber of Secrets\"], \"yaxis\": \"y\"}, {\"alignmentgroup\": \"True\", \"hovertemplate\": \"original_title=%{y}<br>ratings_count=%{x}<extra></extra>\", \"legendgroup\": \" The Fellowship of the Ring\", \"marker\": {\"color\": \"#FF97FF\"}, \"name\": \" The Fellowship of the Ring\", \"offsetgroup\": \" The Fellowship of the Ring\", \"orientation\": \"h\", \"showlegend\": true, \"textposition\": \"auto\", \"type\": \"bar\", \"x\": [1766803], \"xaxis\": \"x\", \"y\": [\" The Fellowship of the Ring\"], \"yaxis\": \"y\"}, {\"alignmentgroup\": \"True\", \"hovertemplate\": \"original_title=%{y}<br>ratings_count=%{x}<extra></extra>\", \"legendgroup\": \"Harry Potter and the Goblet of Fire\", \"marker\": {\"color\": \"#FECB52\"}, \"name\": \"Harry Potter and the Goblet of Fire\", \"offsetgroup\": \"Harry Potter and the Goblet of Fire\", \"orientation\": \"h\", \"showlegend\": true, \"textposition\": \"auto\", \"type\": \"bar\", \"x\": [1753043], \"xaxis\": \"x\", \"y\": [\"Harry Potter and the Goblet of Fire\"], \"yaxis\": \"y\"}, {\"alignmentgroup\": \"True\", \"hovertemplate\": \"original_title=%{y}<br>ratings_count=%{x}<extra></extra>\", \"legendgroup\": \"Harry Potter and the Deathly Hallows\", \"marker\": {\"color\": \"#636efa\"}, \"name\": \"Harry Potter and the Deathly Hallows\", \"offsetgroup\": \"Harry Potter and the Deathly Hallows\", \"orientation\": \"h\", \"showlegend\": true, \"textposition\": \"auto\", \"type\": \"bar\", \"x\": [1746574], \"xaxis\": \"x\", \"y\": [\"Harry Potter and the Deathly Hallows\"], \"yaxis\": \"y\"}, {\"alignmentgroup\": \"True\", \"hovertemplate\": \"original_title=%{y}<br>ratings_count=%{x}<extra></extra>\", \"legendgroup\": \"Harry Potter and the Order of the Phoenix\", \"marker\": {\"color\": \"#EF553B\"}, \"name\": \"Harry Potter and the Order of the Phoenix\", \"offsetgroup\": \"Harry Potter and the Order of the Phoenix\", \"orientation\": \"h\", \"showlegend\": true, \"textposition\": \"auto\", \"type\": \"bar\", \"x\": [1735368], \"xaxis\": \"x\", \"y\": [\"Harry Potter and the Order of the Phoenix\"], \"yaxis\": \"y\"}, {\"alignmentgroup\": \"True\", \"hovertemplate\": \"original_title=%{y}<br>ratings_count=%{x}<extra></extra>\", \"legendgroup\": \"Mockingjay\", \"marker\": {\"color\": \"#00cc96\"}, \"name\": \"Mockingjay\", \"offsetgroup\": \"Mockingjay\", \"orientation\": \"h\", \"showlegend\": true, \"textposition\": \"auto\", \"type\": \"bar\", \"x\": [1719760], \"xaxis\": \"x\", \"y\": [\"Mockingjay\"], \"yaxis\": \"y\"}, {\"alignmentgroup\": \"True\", \"hovertemplate\": \"original_title=%{y}<br>ratings_count=%{x}<extra></extra>\", \"legendgroup\": \"Harry Potter and the Half-Blood Prince\", \"marker\": {\"color\": \"#ab63fa\"}, \"name\": \"Harry Potter and the Half-Blood Prince\", \"offsetgroup\": \"Harry Potter and the Half-Blood Prince\", \"orientation\": \"h\", \"showlegend\": true, \"textposition\": \"auto\", \"type\": \"bar\", \"x\": [1678823], \"xaxis\": \"x\", \"y\": [\"Harry Potter and the Half-Blood Prince\"], \"yaxis\": \"y\"}, {\"alignmentgroup\": \"True\", \"hovertemplate\": \"original_title=%{y}<br>ratings_count=%{x}<extra></extra>\", \"legendgroup\": \"An Excellent conceited Tragedie of Romeo and Juliet\", \"marker\": {\"color\": \"#FFA15A\"}, \"name\": \"An Excellent conceited Tragedie of Romeo and Juliet\", \"offsetgroup\": \"An Excellent conceited Tragedie of Romeo and Juliet\", \"orientation\": \"h\", \"showlegend\": true, \"textposition\": \"auto\", \"type\": \"bar\", \"x\": [1628519], \"xaxis\": \"x\", \"y\": [\"An Excellent conceited Tragedie of Romeo and Juliet\"], \"yaxis\": \"y\"}, {\"alignmentgroup\": \"True\", \"hovertemplate\": \"original_title=%{y}<br>ratings_count=%{x}<extra></extra>\", \"legendgroup\": \"The Lovely Bones\", \"marker\": {\"color\": \"#19d3f3\"}, \"name\": \"The Lovely Bones\", \"offsetgroup\": \"The Lovely Bones\", \"orientation\": \"h\", \"showlegend\": true, \"textposition\": \"auto\", \"type\": \"bar\", \"x\": [1605173], \"xaxis\": \"x\", \"y\": [\"The Lovely Bones\"], \"yaxis\": \"y\"}, {\"alignmentgroup\": \"True\", \"hovertemplate\": \"original_title=%{y}<br>ratings_count=%{x}<extra></extra>\", \"legendgroup\": \"Lord of the Flies \", \"marker\": {\"color\": \"#FF6692\"}, \"name\": \"Lord of the Flies \", \"offsetgroup\": \"Lord of the Flies \", \"orientation\": \"h\", \"showlegend\": true, \"textposition\": \"auto\", \"type\": \"bar\", \"x\": [1605019], \"xaxis\": \"x\", \"y\": [\"Lord of the Flies \"], \"yaxis\": \"y\"}, {\"alignmentgroup\": \"True\", \"hovertemplate\": \"original_title=%{y}<br>ratings_count=%{x}<extra></extra>\", \"legendgroup\": \"The Lion, the Witch and the Wardrobe\", \"marker\": {\"color\": \"#B6E880\"}, \"name\": \"The Lion, the Witch and the Wardrobe\", \"offsetgroup\": \"The Lion, the Witch and the Wardrobe\", \"orientation\": \"h\", \"showlegend\": true, \"textposition\": \"auto\", \"type\": \"bar\", \"x\": [1531800], \"xaxis\": \"x\", \"y\": [\"The Lion, the Witch and the Wardrobe\"], \"yaxis\": \"y\"}, {\"alignmentgroup\": \"True\", \"hovertemplate\": \"original_title=%{y}<br>ratings_count=%{x}<extra></extra>\", \"legendgroup\": \"The Help\", \"marker\": {\"color\": \"#FF97FF\"}, \"name\": \"The Help\", \"offsetgroup\": \"The Help\", \"orientation\": \"h\", \"showlegend\": true, \"textposition\": \"auto\", \"type\": \"bar\", \"x\": [1531753], \"xaxis\": \"x\", \"y\": [\"The Help\"], \"yaxis\": \"y\"}, {\"alignmentgroup\": \"True\", \"hovertemplate\": \"original_title=%{y}<br>ratings_count=%{x}<extra></extra>\", \"legendgroup\": \"Of Mice and Men \", \"marker\": {\"color\": \"#FECB52\"}, \"name\": \"Of Mice and Men \", \"offsetgroup\": \"Of Mice and Men \", \"orientation\": \"h\", \"showlegend\": true, \"textposition\": \"auto\", \"type\": \"bar\", \"x\": [1467496], \"xaxis\": \"x\", \"y\": [\"Of Mice and Men \"], \"yaxis\": \"y\"}, {\"alignmentgroup\": \"True\", \"hovertemplate\": \"original_title=%{y}<br>ratings_count=%{x}<extra></extra>\", \"legendgroup\": \"The Da Vinci Code\", \"marker\": {\"color\": \"#636efa\"}, \"name\": \"The Da Vinci Code\", \"offsetgroup\": \"The Da Vinci Code\", \"orientation\": \"h\", \"showlegend\": true, \"textposition\": \"auto\", \"type\": \"bar\", \"x\": [1447148], \"xaxis\": \"x\", \"y\": [\"The Da Vinci Code\"], \"yaxis\": \"y\"}, {\"alignmentgroup\": \"True\", \"hovertemplate\": \"original_title=%{y}<br>ratings_count=%{x}<extra></extra>\", \"legendgroup\": \"The Lightning Thief\", \"marker\": {\"color\": \"#EF553B\"}, \"name\": \"The Lightning Thief\", \"offsetgroup\": \"The Lightning Thief\", \"orientation\": \"h\", \"showlegend\": true, \"textposition\": \"auto\", \"type\": \"bar\", \"x\": [1366265], \"xaxis\": \"x\", \"y\": [\"The Lightning Thief\"], \"yaxis\": \"y\"}, {\"alignmentgroup\": \"True\", \"hovertemplate\": \"original_title=%{y}<br>ratings_count=%{x}<extra></extra>\", \"legendgroup\": \"Fifty Shades of Grey\", \"marker\": {\"color\": \"#00cc96\"}, \"name\": \"Fifty Shades of Grey\", \"offsetgroup\": \"Fifty Shades of Grey\", \"orientation\": \"h\", \"showlegend\": true, \"textposition\": \"auto\", \"type\": \"bar\", \"x\": [1338493], \"xaxis\": \"x\", \"y\": [\"Fifty Shades of Grey\"], \"yaxis\": \"y\"}, {\"alignmentgroup\": \"True\", \"hovertemplate\": \"original_title=%{y}<br>ratings_count=%{x}<extra></extra>\", \"legendgroup\": \"A Game of Thrones\", \"marker\": {\"color\": \"#ab63fa\"}, \"name\": \"A Game of Thrones\", \"offsetgroup\": \"A Game of Thrones\", \"orientation\": \"h\", \"showlegend\": true, \"textposition\": \"auto\", \"type\": \"bar\", \"x\": [1319204], \"xaxis\": \"x\", \"y\": [\"A Game of Thrones\"], \"yaxis\": \"y\"}, {\"alignmentgroup\": \"True\", \"hovertemplate\": \"original_title=%{y}<br>ratings_count=%{x}<extra></extra>\", \"legendgroup\": \"Memoirs of a Geisha\", \"marker\": {\"color\": \"#FFA15A\"}, \"name\": \"Memoirs of a Geisha\", \"offsetgroup\": \"Memoirs of a Geisha\", \"orientation\": \"h\", \"showlegend\": true, \"textposition\": \"auto\", \"type\": \"bar\", \"x\": [1300209], \"xaxis\": \"x\", \"y\": [\"Memoirs of a Geisha\"], \"yaxis\": \"y\"}, {\"alignmentgroup\": \"True\", \"hovertemplate\": \"original_title=%{y}<br>ratings_count=%{x}<extra></extra>\", \"legendgroup\": \"O Alquimista\", \"marker\": {\"color\": \"#19d3f3\"}, \"name\": \"O Alquimista\", \"offsetgroup\": \"O Alquimista\", \"orientation\": \"h\", \"showlegend\": true, \"textposition\": \"auto\", \"type\": \"bar\", \"x\": [1299566], \"xaxis\": \"x\", \"y\": [\"O Alquimista\"], \"yaxis\": \"y\"}, {\"alignmentgroup\": \"True\", \"hovertemplate\": \"original_title=%{y}<br>ratings_count=%{x}<extra></extra>\", \"legendgroup\": \"The Giver\", \"marker\": {\"color\": \"#FF6692\"}, \"name\": \"The Giver\", \"offsetgroup\": \"The Giver\", \"orientation\": \"h\", \"showlegend\": true, \"textposition\": \"auto\", \"type\": \"bar\", \"x\": [1296825], \"xaxis\": \"x\", \"y\": [\"The Giver\"], \"yaxis\": \"y\"}, {\"alignmentgroup\": \"True\", \"hovertemplate\": \"original_title=%{y}<br>ratings_count=%{x}<extra></extra>\", \"legendgroup\": \"Little Women\", \"marker\": {\"color\": \"#B6E880\"}, \"name\": \"Little Women\", \"offsetgroup\": \"Little Women\", \"orientation\": \"h\", \"showlegend\": true, \"textposition\": \"auto\", \"type\": \"bar\", \"x\": [1257121], \"xaxis\": \"x\", \"y\": [\"Little Women\"], \"yaxis\": \"y\"}, {\"alignmentgroup\": \"True\", \"hovertemplate\": \"original_title=%{y}<br>ratings_count=%{x}<extra></extra>\", \"legendgroup\": \"Jane Eyre\", \"marker\": {\"color\": \"#FF97FF\"}, \"name\": \"Jane Eyre\", \"offsetgroup\": \"Jane Eyre\", \"orientation\": \"h\", \"showlegend\": true, \"textposition\": \"auto\", \"type\": \"bar\", \"x\": [1198557], \"xaxis\": \"x\", \"y\": [\"Jane Eyre\"], \"yaxis\": \"y\"}, {\"alignmentgroup\": \"True\", \"hovertemplate\": \"original_title=%{y}<br>ratings_count=%{x}<extra></extra>\", \"legendgroup\": \"Eat, pray, love: one woman's search for everything across Italy, India and Indonesia\", \"marker\": {\"color\": \"#FECB52\"}, \"name\": \"Eat, pray, love: one woman's search for everything across Italy, India and Indonesia\", \"offsetgroup\": \"Eat, pray, love: one woman's search for everything across Italy, India and Indonesia\", \"orientation\": \"h\", \"showlegend\": true, \"textposition\": \"auto\", \"type\": \"bar\", \"x\": [1181647], \"xaxis\": \"x\", \"y\": [\"Eat, pray, love: one woman's search for everything across Italy, India and Indonesia\"], \"yaxis\": \"y\"}, {\"alignmentgroup\": \"True\", \"hovertemplate\": \"original_title=%{y}<br>ratings_count=%{x}<extra></extra>\", \"legendgroup\": \"The Book Thief\", \"marker\": {\"color\": \"#636efa\"}, \"name\": \"The Book Thief\", \"offsetgroup\": \"The Book Thief\", \"orientation\": \"h\", \"showlegend\": true, \"textposition\": \"auto\", \"type\": \"bar\", \"x\": [1159741], \"xaxis\": \"x\", \"y\": [\"The Book Thief\"], \"yaxis\": \"y\"}, {\"alignmentgroup\": \"True\", \"hovertemplate\": \"original_title=%{y}<br>ratings_count=%{x}<extra></extra>\", \"legendgroup\": \"New Moon (Twilight, #2)\", \"marker\": {\"color\": \"#EF553B\"}, \"name\": \"New Moon (Twilight, #2)\", \"offsetgroup\": \"New Moon (Twilight, #2)\", \"orientation\": \"h\", \"showlegend\": true, \"textposition\": \"auto\", \"type\": \"bar\", \"x\": [1149630], \"xaxis\": \"x\", \"y\": [\"New Moon (Twilight, #2)\"], \"yaxis\": \"y\"}, {\"alignmentgroup\": \"True\", \"hovertemplate\": \"original_title=%{y}<br>ratings_count=%{x}<extra></extra>\", \"legendgroup\": \"Eclipse\", \"marker\": {\"color\": \"#00cc96\"}, \"name\": \"Eclipse\", \"offsetgroup\": \"Eclipse\", \"orientation\": \"h\", \"showlegend\": true, \"textposition\": \"auto\", \"type\": \"bar\", \"x\": [1134511], \"xaxis\": \"x\", \"y\": [\"Eclipse\"], \"yaxis\": \"y\"}, {\"alignmentgroup\": \"True\", \"hovertemplate\": \"original_title=%{y}<br>ratings_count=%{x}<extra></extra>\", \"legendgroup\": \"Eragon\", \"marker\": {\"color\": \"#ab63fa\"}, \"name\": \"Eragon\", \"offsetgroup\": \"Eragon\", \"orientation\": \"h\", \"showlegend\": true, \"textposition\": \"auto\", \"type\": \"bar\", \"x\": [1104021], \"xaxis\": \"x\", \"y\": [\"Eragon\"], \"yaxis\": \"y\"}, {\"alignmentgroup\": \"True\", \"hovertemplate\": \"original_title=%{y}<br>ratings_count=%{x}<extra></extra>\", \"legendgroup\": \"Breaking Dawn\", \"marker\": {\"color\": \"#FFA15A\"}, \"name\": \"Breaking Dawn\", \"offsetgroup\": \"Breaking Dawn\", \"orientation\": \"h\", \"showlegend\": true, \"textposition\": \"auto\", \"type\": \"bar\", \"x\": [1070245], \"xaxis\": \"x\", \"y\": [\"Breaking Dawn\"], \"yaxis\": \"y\"}, {\"alignmentgroup\": \"True\", \"hovertemplate\": \"original_title=%{y}<br>ratings_count=%{x}<extra></extra>\", \"legendgroup\": \"Water for Elephants\", \"marker\": {\"color\": \"#19d3f3\"}, \"name\": \"Water for Elephants\", \"offsetgroup\": \"Water for Elephants\", \"orientation\": \"h\", \"showlegend\": true, \"textposition\": \"auto\", \"type\": \"bar\", \"x\": [1068146], \"xaxis\": \"x\", \"y\": [\"Water for Elephants\"], \"yaxis\": \"y\"}, {\"alignmentgroup\": \"True\", \"hovertemplate\": \"original_title=%{y}<br>ratings_count=%{x}<extra></extra>\", \"legendgroup\": \"Charlotte's Web\", \"marker\": {\"color\": \"#FF6692\"}, \"name\": \"Charlotte's Web\", \"offsetgroup\": \"Charlotte's Web\", \"orientation\": \"h\", \"showlegend\": true, \"textposition\": \"auto\", \"type\": \"bar\", \"x\": [1064521], \"xaxis\": \"x\", \"y\": [\"Charlotte's Web\"], \"yaxis\": \"y\"}, {\"alignmentgroup\": \"True\", \"hovertemplate\": \"original_title=%{y}<br>ratings_count=%{x}<extra></extra>\", \"legendgroup\": \"The Notebook\", \"marker\": {\"color\": \"#B6E880\"}, \"name\": \"The Notebook\", \"offsetgroup\": \"The Notebook\", \"orientation\": \"h\", \"showlegend\": true, \"textposition\": \"auto\", \"type\": \"bar\", \"x\": [1053403], \"xaxis\": \"x\", \"y\": [\"The Notebook\"], \"yaxis\": \"y\"}, {\"alignmentgroup\": \"True\", \"hovertemplate\": \"original_title=%{y}<br>ratings_count=%{x}<extra></extra>\", \"legendgroup\": \"Brave New World\", \"marker\": {\"color\": \"#FF97FF\"}, \"name\": \"Brave New World\", \"offsetgroup\": \"Brave New World\", \"orientation\": \"h\", \"showlegend\": true, \"textposition\": \"auto\", \"type\": \"bar\", \"x\": [1022601], \"xaxis\": \"x\", \"y\": [\"Brave New World\"], \"yaxis\": \"y\"}, {\"alignmentgroup\": \"True\", \"hovertemplate\": \"original_title=%{y}<br>ratings_count=%{x}<extra></extra>\", \"legendgroup\": \"Where the Sidewalk Ends: The Poems and Drawings of Shel Silverstein\", \"marker\": {\"color\": \"#FECB52\"}, \"name\": \"Where the Sidewalk Ends: The Poems and Drawings of Shel Silverstein\", \"offsetgroup\": \"Where the Sidewalk Ends: The Poems and Drawings of Shel Silverstein\", \"orientation\": \"h\", \"showlegend\": true, \"textposition\": \"auto\", \"type\": \"bar\", \"x\": [1016888], \"xaxis\": \"x\", \"y\": [\"Where the Sidewalk Ends: The Poems and Drawings of Shel Silverstein\"], \"yaxis\": \"y\"}],                        {\"barmode\": \"relative\", \"height\": 700, \"legend\": {\"title\": {\"text\": \"original_title\"}, \"tracegroupgap\": 0}, \"template\": {\"data\": {\"bar\": [{\"error_x\": {\"color\": \"#2a3f5f\"}, \"error_y\": {\"color\": \"#2a3f5f\"}, \"marker\": {\"line\": {\"color\": \"#E5ECF6\", \"width\": 0.5}}, \"type\": \"bar\"}], \"barpolar\": [{\"marker\": {\"line\": {\"color\": \"#E5ECF6\", \"width\": 0.5}}, \"type\": \"barpolar\"}], \"carpet\": [{\"aaxis\": {\"endlinecolor\": \"#2a3f5f\", \"gridcolor\": \"white\", \"linecolor\": \"white\", \"minorgridcolor\": \"white\", \"startlinecolor\": \"#2a3f5f\"}, \"baxis\": {\"endlinecolor\": \"#2a3f5f\", \"gridcolor\": \"white\", \"linecolor\": \"white\", \"minorgridcolor\": \"white\", \"startlinecolor\": \"#2a3f5f\"}, \"type\": \"carpet\"}], \"choropleth\": [{\"colorbar\": {\"outlinewidth\": 0, \"ticks\": \"\"}, \"type\": \"choropleth\"}], \"contour\": [{\"colorbar\": {\"outlinewidth\": 0, \"ticks\": \"\"}, \"colorscale\": [[0.0, \"#0d0887\"], [0.1111111111111111, \"#46039f\"], [0.2222222222222222, \"#7201a8\"], [0.3333333333333333, \"#9c179e\"], [0.4444444444444444, \"#bd3786\"], [0.5555555555555556, \"#d8576b\"], [0.6666666666666666, \"#ed7953\"], [0.7777777777777778, \"#fb9f3a\"], [0.8888888888888888, \"#fdca26\"], [1.0, \"#f0f921\"]], \"type\": \"contour\"}], \"contourcarpet\": [{\"colorbar\": {\"outlinewidth\": 0, \"ticks\": \"\"}, \"type\": \"contourcarpet\"}], \"heatmap\": [{\"colorbar\": {\"outlinewidth\": 0, \"ticks\": \"\"}, \"colorscale\": [[0.0, \"#0d0887\"], [0.1111111111111111, \"#46039f\"], [0.2222222222222222, \"#7201a8\"], [0.3333333333333333, \"#9c179e\"], [0.4444444444444444, \"#bd3786\"], [0.5555555555555556, \"#d8576b\"], [0.6666666666666666, \"#ed7953\"], [0.7777777777777778, \"#fb9f3a\"], [0.8888888888888888, \"#fdca26\"], [1.0, \"#f0f921\"]], \"type\": \"heatmap\"}], \"heatmapgl\": [{\"colorbar\": {\"outlinewidth\": 0, \"ticks\": \"\"}, \"colorscale\": [[0.0, \"#0d0887\"], [0.1111111111111111, \"#46039f\"], [0.2222222222222222, \"#7201a8\"], [0.3333333333333333, \"#9c179e\"], [0.4444444444444444, \"#bd3786\"], [0.5555555555555556, \"#d8576b\"], [0.6666666666666666, \"#ed7953\"], [0.7777777777777778, \"#fb9f3a\"], [0.8888888888888888, \"#fdca26\"], [1.0, \"#f0f921\"]], \"type\": \"heatmapgl\"}], \"histogram\": [{\"marker\": {\"colorbar\": {\"outlinewidth\": 0, \"ticks\": \"\"}}, \"type\": \"histogram\"}], \"histogram2d\": [{\"colorbar\": {\"outlinewidth\": 0, \"ticks\": \"\"}, \"colorscale\": [[0.0, \"#0d0887\"], [0.1111111111111111, \"#46039f\"], [0.2222222222222222, \"#7201a8\"], [0.3333333333333333, \"#9c179e\"], [0.4444444444444444, \"#bd3786\"], [0.5555555555555556, \"#d8576b\"], [0.6666666666666666, \"#ed7953\"], [0.7777777777777778, \"#fb9f3a\"], [0.8888888888888888, \"#fdca26\"], [1.0, \"#f0f921\"]], \"type\": \"histogram2d\"}], \"histogram2dcontour\": [{\"colorbar\": {\"outlinewidth\": 0, \"ticks\": \"\"}, \"colorscale\": [[0.0, \"#0d0887\"], [0.1111111111111111, \"#46039f\"], [0.2222222222222222, \"#7201a8\"], [0.3333333333333333, \"#9c179e\"], [0.4444444444444444, \"#bd3786\"], [0.5555555555555556, \"#d8576b\"], [0.6666666666666666, \"#ed7953\"], [0.7777777777777778, \"#fb9f3a\"], [0.8888888888888888, \"#fdca26\"], [1.0, \"#f0f921\"]], \"type\": \"histogram2dcontour\"}], \"mesh3d\": [{\"colorbar\": {\"outlinewidth\": 0, \"ticks\": \"\"}, \"type\": \"mesh3d\"}], \"parcoords\": [{\"line\": {\"colorbar\": {\"outlinewidth\": 0, \"ticks\": \"\"}}, \"type\": \"parcoords\"}], \"pie\": [{\"automargin\": true, \"type\": \"pie\"}], \"scatter\": [{\"marker\": {\"colorbar\": {\"outlinewidth\": 0, \"ticks\": \"\"}}, \"type\": \"scatter\"}], \"scatter3d\": [{\"line\": {\"colorbar\": {\"outlinewidth\": 0, \"ticks\": \"\"}}, \"marker\": {\"colorbar\": {\"outlinewidth\": 0, \"ticks\": \"\"}}, \"type\": \"scatter3d\"}], \"scattercarpet\": [{\"marker\": {\"colorbar\": {\"outlinewidth\": 0, \"ticks\": \"\"}}, \"type\": \"scattercarpet\"}], \"scattergeo\": [{\"marker\": {\"colorbar\": {\"outlinewidth\": 0, \"ticks\": \"\"}}, \"type\": \"scattergeo\"}], \"scattergl\": [{\"marker\": {\"colorbar\": {\"outlinewidth\": 0, \"ticks\": \"\"}}, \"type\": \"scattergl\"}], \"scattermapbox\": [{\"marker\": {\"colorbar\": {\"outlinewidth\": 0, \"ticks\": \"\"}}, \"type\": \"scattermapbox\"}], \"scatterpolar\": [{\"marker\": {\"colorbar\": {\"outlinewidth\": 0, \"ticks\": \"\"}}, \"type\": \"scatterpolar\"}], \"scatterpolargl\": [{\"marker\": {\"colorbar\": {\"outlinewidth\": 0, \"ticks\": \"\"}}, \"type\": \"scatterpolargl\"}], \"scatterternary\": [{\"marker\": {\"colorbar\": {\"outlinewidth\": 0, \"ticks\": \"\"}}, \"type\": \"scatterternary\"}], \"surface\": [{\"colorbar\": {\"outlinewidth\": 0, \"ticks\": \"\"}, \"colorscale\": [[0.0, \"#0d0887\"], [0.1111111111111111, \"#46039f\"], [0.2222222222222222, \"#7201a8\"], [0.3333333333333333, \"#9c179e\"], [0.4444444444444444, \"#bd3786\"], [0.5555555555555556, \"#d8576b\"], [0.6666666666666666, \"#ed7953\"], [0.7777777777777778, \"#fb9f3a\"], [0.8888888888888888, \"#fdca26\"], [1.0, \"#f0f921\"]], \"type\": \"surface\"}], \"table\": [{\"cells\": {\"fill\": {\"color\": \"#EBF0F8\"}, \"line\": {\"color\": \"white\"}}, \"header\": {\"fill\": {\"color\": \"#C8D4E3\"}, \"line\": {\"color\": \"white\"}}, \"type\": \"table\"}]}, \"layout\": {\"annotationdefaults\": {\"arrowcolor\": \"#2a3f5f\", \"arrowhead\": 0, \"arrowwidth\": 1}, \"coloraxis\": {\"colorbar\": {\"outlinewidth\": 0, \"ticks\": \"\"}}, \"colorscale\": {\"diverging\": [[0, \"#8e0152\"], [0.1, \"#c51b7d\"], [0.2, \"#de77ae\"], [0.3, \"#f1b6da\"], [0.4, \"#fde0ef\"], [0.5, \"#f7f7f7\"], [0.6, \"#e6f5d0\"], [0.7, \"#b8e186\"], [0.8, \"#7fbc41\"], [0.9, \"#4d9221\"], [1, \"#276419\"]], \"sequential\": [[0.0, \"#0d0887\"], [0.1111111111111111, \"#46039f\"], [0.2222222222222222, \"#7201a8\"], [0.3333333333333333, \"#9c179e\"], [0.4444444444444444, \"#bd3786\"], [0.5555555555555556, \"#d8576b\"], [0.6666666666666666, \"#ed7953\"], [0.7777777777777778, \"#fb9f3a\"], [0.8888888888888888, \"#fdca26\"], [1.0, \"#f0f921\"]], \"sequentialminus\": [[0.0, \"#0d0887\"], [0.1111111111111111, \"#46039f\"], [0.2222222222222222, \"#7201a8\"], [0.3333333333333333, \"#9c179e\"], [0.4444444444444444, \"#bd3786\"], [0.5555555555555556, \"#d8576b\"], [0.6666666666666666, \"#ed7953\"], [0.7777777777777778, \"#fb9f3a\"], [0.8888888888888888, \"#fdca26\"], [1.0, \"#f0f921\"]]}, \"colorway\": [\"#636efa\", \"#EF553B\", \"#00cc96\", \"#ab63fa\", \"#FFA15A\", \"#19d3f3\", \"#FF6692\", \"#B6E880\", \"#FF97FF\", \"#FECB52\"], \"font\": {\"color\": \"#2a3f5f\"}, \"geo\": {\"bgcolor\": \"white\", \"lakecolor\": \"white\", \"landcolor\": \"#E5ECF6\", \"showlakes\": true, \"showland\": true, \"subunitcolor\": \"white\"}, \"hoverlabel\": {\"align\": \"left\"}, \"hovermode\": \"closest\", \"mapbox\": {\"style\": \"light\"}, \"paper_bgcolor\": \"white\", \"plot_bgcolor\": \"#E5ECF6\", \"polar\": {\"angularaxis\": {\"gridcolor\": \"white\", \"linecolor\": \"white\", \"ticks\": \"\"}, \"bgcolor\": \"#E5ECF6\", \"radialaxis\": {\"gridcolor\": \"white\", \"linecolor\": \"white\", \"ticks\": \"\"}}, \"scene\": {\"xaxis\": {\"backgroundcolor\": \"#E5ECF6\", \"gridcolor\": \"white\", \"gridwidth\": 2, \"linecolor\": \"white\", \"showbackground\": true, \"ticks\": \"\", \"zerolinecolor\": \"white\"}, \"yaxis\": {\"backgroundcolor\": \"#E5ECF6\", \"gridcolor\": \"white\", \"gridwidth\": 2, \"linecolor\": \"white\", \"showbackground\": true, \"ticks\": \"\", \"zerolinecolor\": \"white\"}, \"zaxis\": {\"backgroundcolor\": \"#E5ECF6\", \"gridcolor\": \"white\", \"gridwidth\": 2, \"linecolor\": \"white\", \"showbackground\": true, \"ticks\": \"\", \"zerolinecolor\": \"white\"}}, \"shapedefaults\": {\"line\": {\"color\": \"#2a3f5f\"}}, \"ternary\": {\"aaxis\": {\"gridcolor\": \"white\", \"linecolor\": \"white\", \"ticks\": \"\"}, \"baxis\": {\"gridcolor\": \"white\", \"linecolor\": \"white\", \"ticks\": \"\"}, \"bgcolor\": \"#E5ECF6\", \"caxis\": {\"gridcolor\": \"white\", \"linecolor\": \"white\", \"ticks\": \"\"}}, \"title\": {\"x\": 0.05}, \"xaxis\": {\"automargin\": true, \"gridcolor\": \"white\", \"linecolor\": \"white\", \"ticks\": \"\", \"title\": {\"standoff\": 15}, \"zerolinecolor\": \"white\", \"zerolinewidth\": 2}, \"yaxis\": {\"automargin\": true, \"gridcolor\": \"white\", \"linecolor\": \"white\", \"ticks\": \"\", \"title\": {\"standoff\": 15}, \"zerolinecolor\": \"white\", \"zerolinewidth\": 2}}}, \"title\": {\"text\": \"Top Popular Books\"}, \"width\": 1500, \"xaxis\": {\"anchor\": \"y\", \"domain\": [0.0, 1.0], \"title\": {\"text\": \"ratings_count\"}}, \"yaxis\": {\"anchor\": \"x\", \"categoryarray\": [\"Where the Sidewalk Ends: The Poems and Drawings of Shel Silverstein\", \"Brave New World\", \"The Notebook\", \"Charlotte's Web\", \"Water for Elephants\", \"Breaking Dawn\", \"Eragon\", \"Eclipse\", \"New Moon (Twilight, #2)\", \"The Book Thief\", \"Eat, pray, love: one woman's search for everything across Italy, India and Indonesia\", \"Jane Eyre\", \"Little Women\", \"The Giver\", \"O Alquimista\", \"Memoirs of a Geisha\", \"A Game of Thrones\", \"Fifty Shades of Grey\", \"The Lightning Thief\", \"The Da Vinci Code\", \"Of Mice and Men \", \"The Help\", \"The Lion, the Witch and the Wardrobe\", \"Lord of the Flies \", \"The Lovely Bones\", \"An Excellent conceited Tragedie of Romeo and Juliet\", \"Harry Potter and the Half-Blood Prince\", \"Mockingjay\", \"Harry Potter and the Order of the Phoenix\", \"Harry Potter and the Deathly Hallows\", \"Harry Potter and the Goblet of Fire\", \" The Fellowship of the Ring\", \"Harry Potter and the Chamber of Secrets\", \"M\\u00e4n som hatar kvinnor\", \"The Kite Runner \", \"Catching Fire\", \"Harry Potter and the Prisoner of Azkaban\", \"Animal Farm: A Fairy Story\", \"Divergent\", \"Nineteen Eighty-Four\", \"Het Achterhuis: Dagboekbrieven 14 juni 1942 - 1 augustus 1944\", \"Angels & Demons \", \"Pride and Prejudice\", \"The Catcher in the Rye\", \"The Hobbit or There and Back Again\", \"The Fault in Our Stars\", \"The Great Gatsby\", \"To Kill a Mockingbird\", \"Harry Potter and the Philosopher's Stone\", \"The Hunger Games\"], \"categoryorder\": \"array\", \"domain\": [0.0, 1.0], \"title\": {\"text\": \"original_title\"}}},                        {\"responsive\": true}                    ).then(function(){\n",
       "                            \n",
       "var gd = document.getElementById('b5a39710-7e26-4ad9-ac03-c8162b5ac933');\n",
       "var x = new MutationObserver(function (mutations, observer) {{\n",
       "        var display = window.getComputedStyle(gd).display;\n",
       "        if (!display || display === 'none') {{\n",
       "            console.log([gd, 'removed!']);\n",
       "            Plotly.purge(gd);\n",
       "            observer.disconnect();\n",
       "        }}\n",
       "}});\n",
       "\n",
       "// Listen for the removal of the full notebook cells\n",
       "var notebookContainer = gd.closest('#notebook-container');\n",
       "if (notebookContainer) {{\n",
       "    x.observe(notebookContainer, {childList: true});\n",
       "}}\n",
       "\n",
       "// Listen for the clearing of the current output cell\n",
       "var outputEl = gd.closest('.output');\n",
       "if (outputEl) {{\n",
       "    x.observe(outputEl, {childList: true});\n",
       "}}\n",
       "\n",
       "                        })                };                });            </script>        </div>"
      ]
     },
     "metadata": {},
     "output_type": "display_data"
    }
   ],
   "source": [
    "top_popular = books_data.sort_values('ratings_count', ascending=False)\n",
    "fifty_top_popular = top_popular[:50]\n",
    "fig = px.bar(fifty_top_popular, x=\"ratings_count\", y=\"original_title\", title='Top Popular Books', orientation='h', color='original_title',\n",
    "             width=1500, height=700)\n",
    "fig.show()\n",
    "#fig.write_image('images/popular_bar.jpg')"
   ]
  },
  {
   "cell_type": "code",
   "execution_count": 5,
   "metadata": {},
   "outputs": [
    {
     "data": {
      "application/vnd.plotly.v1+json": {
       "config": {
        "plotlyServerURL": "https://plot.ly"
       },
       "data": [
        {
         "branchvalues": "total",
         "domain": {
          "x": [
           0,
           1
          ],
          "y": [
           0,
           1
          ]
         },
         "hovertemplate": "labels=%{label}<br>average_rating=%{value}<br>parent=%{parent}<br>id=%{id}<extra></extra>",
         "ids": [
          "Alisa Kwitney, Neil Gaiman",
          "Angie Thomas",
          "Anonymous",
          "Bill Watterson",
          "Bill Watterson, G.B. Trudeau",
          "Brandon Sanderson",
          "Brian K. Vaughan, Fiona Staples",
          "Bryan Stevenson",
          "Cassandra Clare",
          "Daniel Abraham, George R.R. Martin, Tommy Patterson",
          "Francine Rivers",
          "Francine Rivers, Richard Ferrone",
          "Gary Russell",
          "George R.R. Martin",
          "Hafez",
          "Isaac Asimov, Bob E. Flick, Jim Gallant",
          "J.K. Rowling",
          "J.K. Rowling, Mary GrandPré",
          "J.R.R. Tolkien",
          "Jorge Luis Borges, Andrew Hurley",
          "Leigh Bardugo",
          "Masashi Kishimoto",
          "Neil Gaiman, Marc Hempel, Richard Case, D'Israeli, Teddy Kristiansen, Glyn Dillon, Charles Vess, Dean Ormston, Kevin Nowlan, Todd Klein, Frank McConnell",
          "Neil Gaiman, Mike Dringenberg, Chris Bachalo, Michael Zulli, Kelly Jones, Charles Vess, Colleen Doran, Malcolm Jones III, Steve Parkhouse, Daniel Vozzo, Lee Loughridge, Steve Oliff, Todd Klein, Dave McKean, Sam Kieth",
          "Patrick Rothfuss",
          "Rick Riordan",
          "Safiy al-Rahman al-Mubarakfuri",
          "Sarah J. Maas",
          "Sherrilyn Kenyon"
         ],
         "labels": [
          "Alisa Kwitney, Neil Gaiman",
          "Angie Thomas",
          "Anonymous",
          "Bill Watterson",
          "Bill Watterson, G.B. Trudeau",
          "Brandon Sanderson",
          "Brian K. Vaughan, Fiona Staples",
          "Bryan Stevenson",
          "Cassandra Clare",
          "Daniel Abraham, George R.R. Martin, Tommy Patterson",
          "Francine Rivers",
          "Francine Rivers, Richard Ferrone",
          "Gary Russell",
          "George R.R. Martin",
          "Hafez",
          "Isaac Asimov, Bob E. Flick, Jim Gallant",
          "J.K. Rowling",
          "J.K. Rowling, Mary GrandPré",
          "J.R.R. Tolkien",
          "Jorge Luis Borges, Andrew Hurley",
          "Leigh Bardugo",
          "Masashi Kishimoto",
          "Neil Gaiman, Marc Hempel, Richard Case, D'Israeli, Teddy Kristiansen, Glyn Dillon, Charles Vess, Dean Ormston, Kevin Nowlan, Todd Klein, Frank McConnell",
          "Neil Gaiman, Mike Dringenberg, Chris Bachalo, Michael Zulli, Kelly Jones, Charles Vess, Colleen Doran, Malcolm Jones III, Steve Parkhouse, Daniel Vozzo, Lee Loughridge, Steve Oliff, Todd Klein, Dave McKean, Sam Kieth",
          "Patrick Rothfuss",
          "Rick Riordan",
          "Safiy al-Rahman al-Mubarakfuri",
          "Sarah J. Maas",
          "Sherrilyn Kenyon"
         ],
         "name": "",
         "parents": [
          "",
          "",
          "",
          "",
          "",
          "",
          "",
          "",
          "",
          "",
          "",
          "",
          "",
          "",
          "",
          "",
          "",
          "",
          "",
          "",
          "",
          "",
          "",
          "",
          "",
          "",
          "",
          "",
          ""
         ],
         "type": "treemap",
         "values": [
          4.61,
          4.62,
          9.27,
          51.81999999999999,
          4.61,
          14.079999999999998,
          4.57,
          4.58,
          13.75,
          4.65,
          9.36,
          4.6,
          4.59,
          4.63,
          4.63,
          4.58,
          9.47,
          9.27,
          4.59,
          4.58,
          4.62,
          4.57,
          4.59,
          4.65,
          4.57,
          4.58,
          4.57,
          13.9,
          9.17
         ]
        }
       ],
       "layout": {
        "height": 700,
        "legend": {
         "tracegroupgap": 0
        },
        "template": {
         "data": {
          "bar": [
           {
            "error_x": {
             "color": "#2a3f5f"
            },
            "error_y": {
             "color": "#2a3f5f"
            },
            "marker": {
             "line": {
              "color": "#E5ECF6",
              "width": 0.5
             }
            },
            "type": "bar"
           }
          ],
          "barpolar": [
           {
            "marker": {
             "line": {
              "color": "#E5ECF6",
              "width": 0.5
             }
            },
            "type": "barpolar"
           }
          ],
          "carpet": [
           {
            "aaxis": {
             "endlinecolor": "#2a3f5f",
             "gridcolor": "white",
             "linecolor": "white",
             "minorgridcolor": "white",
             "startlinecolor": "#2a3f5f"
            },
            "baxis": {
             "endlinecolor": "#2a3f5f",
             "gridcolor": "white",
             "linecolor": "white",
             "minorgridcolor": "white",
             "startlinecolor": "#2a3f5f"
            },
            "type": "carpet"
           }
          ],
          "choropleth": [
           {
            "colorbar": {
             "outlinewidth": 0,
             "ticks": ""
            },
            "type": "choropleth"
           }
          ],
          "contour": [
           {
            "colorbar": {
             "outlinewidth": 0,
             "ticks": ""
            },
            "colorscale": [
             [
              0,
              "#0d0887"
             ],
             [
              0.1111111111111111,
              "#46039f"
             ],
             [
              0.2222222222222222,
              "#7201a8"
             ],
             [
              0.3333333333333333,
              "#9c179e"
             ],
             [
              0.4444444444444444,
              "#bd3786"
             ],
             [
              0.5555555555555556,
              "#d8576b"
             ],
             [
              0.6666666666666666,
              "#ed7953"
             ],
             [
              0.7777777777777778,
              "#fb9f3a"
             ],
             [
              0.8888888888888888,
              "#fdca26"
             ],
             [
              1,
              "#f0f921"
             ]
            ],
            "type": "contour"
           }
          ],
          "contourcarpet": [
           {
            "colorbar": {
             "outlinewidth": 0,
             "ticks": ""
            },
            "type": "contourcarpet"
           }
          ],
          "heatmap": [
           {
            "colorbar": {
             "outlinewidth": 0,
             "ticks": ""
            },
            "colorscale": [
             [
              0,
              "#0d0887"
             ],
             [
              0.1111111111111111,
              "#46039f"
             ],
             [
              0.2222222222222222,
              "#7201a8"
             ],
             [
              0.3333333333333333,
              "#9c179e"
             ],
             [
              0.4444444444444444,
              "#bd3786"
             ],
             [
              0.5555555555555556,
              "#d8576b"
             ],
             [
              0.6666666666666666,
              "#ed7953"
             ],
             [
              0.7777777777777778,
              "#fb9f3a"
             ],
             [
              0.8888888888888888,
              "#fdca26"
             ],
             [
              1,
              "#f0f921"
             ]
            ],
            "type": "heatmap"
           }
          ],
          "heatmapgl": [
           {
            "colorbar": {
             "outlinewidth": 0,
             "ticks": ""
            },
            "colorscale": [
             [
              0,
              "#0d0887"
             ],
             [
              0.1111111111111111,
              "#46039f"
             ],
             [
              0.2222222222222222,
              "#7201a8"
             ],
             [
              0.3333333333333333,
              "#9c179e"
             ],
             [
              0.4444444444444444,
              "#bd3786"
             ],
             [
              0.5555555555555556,
              "#d8576b"
             ],
             [
              0.6666666666666666,
              "#ed7953"
             ],
             [
              0.7777777777777778,
              "#fb9f3a"
             ],
             [
              0.8888888888888888,
              "#fdca26"
             ],
             [
              1,
              "#f0f921"
             ]
            ],
            "type": "heatmapgl"
           }
          ],
          "histogram": [
           {
            "marker": {
             "colorbar": {
              "outlinewidth": 0,
              "ticks": ""
             }
            },
            "type": "histogram"
           }
          ],
          "histogram2d": [
           {
            "colorbar": {
             "outlinewidth": 0,
             "ticks": ""
            },
            "colorscale": [
             [
              0,
              "#0d0887"
             ],
             [
              0.1111111111111111,
              "#46039f"
             ],
             [
              0.2222222222222222,
              "#7201a8"
             ],
             [
              0.3333333333333333,
              "#9c179e"
             ],
             [
              0.4444444444444444,
              "#bd3786"
             ],
             [
              0.5555555555555556,
              "#d8576b"
             ],
             [
              0.6666666666666666,
              "#ed7953"
             ],
             [
              0.7777777777777778,
              "#fb9f3a"
             ],
             [
              0.8888888888888888,
              "#fdca26"
             ],
             [
              1,
              "#f0f921"
             ]
            ],
            "type": "histogram2d"
           }
          ],
          "histogram2dcontour": [
           {
            "colorbar": {
             "outlinewidth": 0,
             "ticks": ""
            },
            "colorscale": [
             [
              0,
              "#0d0887"
             ],
             [
              0.1111111111111111,
              "#46039f"
             ],
             [
              0.2222222222222222,
              "#7201a8"
             ],
             [
              0.3333333333333333,
              "#9c179e"
             ],
             [
              0.4444444444444444,
              "#bd3786"
             ],
             [
              0.5555555555555556,
              "#d8576b"
             ],
             [
              0.6666666666666666,
              "#ed7953"
             ],
             [
              0.7777777777777778,
              "#fb9f3a"
             ],
             [
              0.8888888888888888,
              "#fdca26"
             ],
             [
              1,
              "#f0f921"
             ]
            ],
            "type": "histogram2dcontour"
           }
          ],
          "mesh3d": [
           {
            "colorbar": {
             "outlinewidth": 0,
             "ticks": ""
            },
            "type": "mesh3d"
           }
          ],
          "parcoords": [
           {
            "line": {
             "colorbar": {
              "outlinewidth": 0,
              "ticks": ""
             }
            },
            "type": "parcoords"
           }
          ],
          "pie": [
           {
            "automargin": true,
            "type": "pie"
           }
          ],
          "scatter": [
           {
            "marker": {
             "colorbar": {
              "outlinewidth": 0,
              "ticks": ""
             }
            },
            "type": "scatter"
           }
          ],
          "scatter3d": [
           {
            "line": {
             "colorbar": {
              "outlinewidth": 0,
              "ticks": ""
             }
            },
            "marker": {
             "colorbar": {
              "outlinewidth": 0,
              "ticks": ""
             }
            },
            "type": "scatter3d"
           }
          ],
          "scattercarpet": [
           {
            "marker": {
             "colorbar": {
              "outlinewidth": 0,
              "ticks": ""
             }
            },
            "type": "scattercarpet"
           }
          ],
          "scattergeo": [
           {
            "marker": {
             "colorbar": {
              "outlinewidth": 0,
              "ticks": ""
             }
            },
            "type": "scattergeo"
           }
          ],
          "scattergl": [
           {
            "marker": {
             "colorbar": {
              "outlinewidth": 0,
              "ticks": ""
             }
            },
            "type": "scattergl"
           }
          ],
          "scattermapbox": [
           {
            "marker": {
             "colorbar": {
              "outlinewidth": 0,
              "ticks": ""
             }
            },
            "type": "scattermapbox"
           }
          ],
          "scatterpolar": [
           {
            "marker": {
             "colorbar": {
              "outlinewidth": 0,
              "ticks": ""
             }
            },
            "type": "scatterpolar"
           }
          ],
          "scatterpolargl": [
           {
            "marker": {
             "colorbar": {
              "outlinewidth": 0,
              "ticks": ""
             }
            },
            "type": "scatterpolargl"
           }
          ],
          "scatterternary": [
           {
            "marker": {
             "colorbar": {
              "outlinewidth": 0,
              "ticks": ""
             }
            },
            "type": "scatterternary"
           }
          ],
          "surface": [
           {
            "colorbar": {
             "outlinewidth": 0,
             "ticks": ""
            },
            "colorscale": [
             [
              0,
              "#0d0887"
             ],
             [
              0.1111111111111111,
              "#46039f"
             ],
             [
              0.2222222222222222,
              "#7201a8"
             ],
             [
              0.3333333333333333,
              "#9c179e"
             ],
             [
              0.4444444444444444,
              "#bd3786"
             ],
             [
              0.5555555555555556,
              "#d8576b"
             ],
             [
              0.6666666666666666,
              "#ed7953"
             ],
             [
              0.7777777777777778,
              "#fb9f3a"
             ],
             [
              0.8888888888888888,
              "#fdca26"
             ],
             [
              1,
              "#f0f921"
             ]
            ],
            "type": "surface"
           }
          ],
          "table": [
           {
            "cells": {
             "fill": {
              "color": "#EBF0F8"
             },
             "line": {
              "color": "white"
             }
            },
            "header": {
             "fill": {
              "color": "#C8D4E3"
             },
             "line": {
              "color": "white"
             }
            },
            "type": "table"
           }
          ]
         },
         "layout": {
          "annotationdefaults": {
           "arrowcolor": "#2a3f5f",
           "arrowhead": 0,
           "arrowwidth": 1
          },
          "coloraxis": {
           "colorbar": {
            "outlinewidth": 0,
            "ticks": ""
           }
          },
          "colorscale": {
           "diverging": [
            [
             0,
             "#8e0152"
            ],
            [
             0.1,
             "#c51b7d"
            ],
            [
             0.2,
             "#de77ae"
            ],
            [
             0.3,
             "#f1b6da"
            ],
            [
             0.4,
             "#fde0ef"
            ],
            [
             0.5,
             "#f7f7f7"
            ],
            [
             0.6,
             "#e6f5d0"
            ],
            [
             0.7,
             "#b8e186"
            ],
            [
             0.8,
             "#7fbc41"
            ],
            [
             0.9,
             "#4d9221"
            ],
            [
             1,
             "#276419"
            ]
           ],
           "sequential": [
            [
             0,
             "#0d0887"
            ],
            [
             0.1111111111111111,
             "#46039f"
            ],
            [
             0.2222222222222222,
             "#7201a8"
            ],
            [
             0.3333333333333333,
             "#9c179e"
            ],
            [
             0.4444444444444444,
             "#bd3786"
            ],
            [
             0.5555555555555556,
             "#d8576b"
            ],
            [
             0.6666666666666666,
             "#ed7953"
            ],
            [
             0.7777777777777778,
             "#fb9f3a"
            ],
            [
             0.8888888888888888,
             "#fdca26"
            ],
            [
             1,
             "#f0f921"
            ]
           ],
           "sequentialminus": [
            [
             0,
             "#0d0887"
            ],
            [
             0.1111111111111111,
             "#46039f"
            ],
            [
             0.2222222222222222,
             "#7201a8"
            ],
            [
             0.3333333333333333,
             "#9c179e"
            ],
            [
             0.4444444444444444,
             "#bd3786"
            ],
            [
             0.5555555555555556,
             "#d8576b"
            ],
            [
             0.6666666666666666,
             "#ed7953"
            ],
            [
             0.7777777777777778,
             "#fb9f3a"
            ],
            [
             0.8888888888888888,
             "#fdca26"
            ],
            [
             1,
             "#f0f921"
            ]
           ]
          },
          "colorway": [
           "#636efa",
           "#EF553B",
           "#00cc96",
           "#ab63fa",
           "#FFA15A",
           "#19d3f3",
           "#FF6692",
           "#B6E880",
           "#FF97FF",
           "#FECB52"
          ],
          "font": {
           "color": "#2a3f5f"
          },
          "geo": {
           "bgcolor": "white",
           "lakecolor": "white",
           "landcolor": "#E5ECF6",
           "showlakes": true,
           "showland": true,
           "subunitcolor": "white"
          },
          "hoverlabel": {
           "align": "left"
          },
          "hovermode": "closest",
          "mapbox": {
           "style": "light"
          },
          "paper_bgcolor": "white",
          "plot_bgcolor": "#E5ECF6",
          "polar": {
           "angularaxis": {
            "gridcolor": "white",
            "linecolor": "white",
            "ticks": ""
           },
           "bgcolor": "#E5ECF6",
           "radialaxis": {
            "gridcolor": "white",
            "linecolor": "white",
            "ticks": ""
           }
          },
          "scene": {
           "xaxis": {
            "backgroundcolor": "#E5ECF6",
            "gridcolor": "white",
            "gridwidth": 2,
            "linecolor": "white",
            "showbackground": true,
            "ticks": "",
            "zerolinecolor": "white"
           },
           "yaxis": {
            "backgroundcolor": "#E5ECF6",
            "gridcolor": "white",
            "gridwidth": 2,
            "linecolor": "white",
            "showbackground": true,
            "ticks": "",
            "zerolinecolor": "white"
           },
           "zaxis": {
            "backgroundcolor": "#E5ECF6",
            "gridcolor": "white",
            "gridwidth": 2,
            "linecolor": "white",
            "showbackground": true,
            "ticks": "",
            "zerolinecolor": "white"
           }
          },
          "shapedefaults": {
           "line": {
            "color": "#2a3f5f"
           }
          },
          "ternary": {
           "aaxis": {
            "gridcolor": "white",
            "linecolor": "white",
            "ticks": ""
           },
           "baxis": {
            "gridcolor": "white",
            "linecolor": "white",
            "ticks": ""
           },
           "bgcolor": "#E5ECF6",
           "caxis": {
            "gridcolor": "white",
            "linecolor": "white",
            "ticks": ""
           }
          },
          "title": {
           "x": 0.05
          },
          "xaxis": {
           "automargin": true,
           "gridcolor": "white",
           "linecolor": "white",
           "ticks": "",
           "title": {
            "standoff": 15
           },
           "zerolinecolor": "white",
           "zerolinewidth": 2
          },
          "yaxis": {
           "automargin": true,
           "gridcolor": "white",
           "linecolor": "white",
           "ticks": "",
           "title": {
            "standoff": 15
           },
           "zerolinecolor": "white",
           "zerolinewidth": 2
          }
         }
        },
        "title": {
         "text": "Popular Authors"
        },
        "width": 1000
       }
      },
      "text/html": [
       "<div>                            <div id=\"24b700a2-512f-4eff-ad13-1d6e32c34653\" class=\"plotly-graph-div\" style=\"height:700px; width:1000px;\"></div>            <script type=\"text/javascript\">                require([\"plotly\"], function(Plotly) {                    window.PLOTLYENV=window.PLOTLYENV || {};                                    if (document.getElementById(\"24b700a2-512f-4eff-ad13-1d6e32c34653\")) {                    Plotly.newPlot(                        \"24b700a2-512f-4eff-ad13-1d6e32c34653\",                        [{\"branchvalues\": \"total\", \"domain\": {\"x\": [0.0, 1.0], \"y\": [0.0, 1.0]}, \"hovertemplate\": \"labels=%{label}<br>average_rating=%{value}<br>parent=%{parent}<br>id=%{id}<extra></extra>\", \"ids\": [\"Alisa Kwitney, Neil Gaiman\", \"Angie Thomas\", \"Anonymous\", \"Bill Watterson\", \"Bill Watterson, G.B. Trudeau\", \"Brandon Sanderson\", \"Brian K. Vaughan, Fiona Staples\", \"Bryan Stevenson\", \"Cassandra Clare\", \"Daniel Abraham, George R.R. Martin, Tommy Patterson\", \"Francine Rivers\", \"Francine Rivers, Richard Ferrone\", \"Gary Russell\", \"George R.R. Martin\", \"Hafez\", \"Isaac Asimov, Bob E. Flick, Jim Gallant\", \"J.K. Rowling\", \"J.K. Rowling, Mary GrandPr\\u00e9\", \"J.R.R. Tolkien\", \"Jorge Luis Borges, Andrew Hurley\", \"Leigh Bardugo\", \"Masashi Kishimoto\", \"Neil Gaiman, Marc Hempel, Richard Case, D'Israeli, Teddy Kristiansen, Glyn Dillon, Charles Vess, Dean Ormston, Kevin Nowlan, Todd Klein, Frank McConnell\", \"Neil Gaiman, Mike Dringenberg, Chris Bachalo, Michael Zulli, Kelly Jones, Charles Vess, Colleen Doran, Malcolm Jones III, Steve Parkhouse, Daniel Vozzo, Lee Loughridge, Steve Oliff, Todd Klein, Dave McKean, Sam Kieth\", \"Patrick Rothfuss\", \"Rick Riordan\", \"Safiy al-Rahman al-Mubarakfuri\", \"Sarah J. Maas\", \"Sherrilyn Kenyon\"], \"labels\": [\"Alisa Kwitney, Neil Gaiman\", \"Angie Thomas\", \"Anonymous\", \"Bill Watterson\", \"Bill Watterson, G.B. Trudeau\", \"Brandon Sanderson\", \"Brian K. Vaughan, Fiona Staples\", \"Bryan Stevenson\", \"Cassandra Clare\", \"Daniel Abraham, George R.R. Martin, Tommy Patterson\", \"Francine Rivers\", \"Francine Rivers, Richard Ferrone\", \"Gary Russell\", \"George R.R. Martin\", \"Hafez\", \"Isaac Asimov, Bob E. Flick, Jim Gallant\", \"J.K. Rowling\", \"J.K. Rowling, Mary GrandPr\\u00e9\", \"J.R.R. Tolkien\", \"Jorge Luis Borges, Andrew Hurley\", \"Leigh Bardugo\", \"Masashi Kishimoto\", \"Neil Gaiman, Marc Hempel, Richard Case, D'Israeli, Teddy Kristiansen, Glyn Dillon, Charles Vess, Dean Ormston, Kevin Nowlan, Todd Klein, Frank McConnell\", \"Neil Gaiman, Mike Dringenberg, Chris Bachalo, Michael Zulli, Kelly Jones, Charles Vess, Colleen Doran, Malcolm Jones III, Steve Parkhouse, Daniel Vozzo, Lee Loughridge, Steve Oliff, Todd Klein, Dave McKean, Sam Kieth\", \"Patrick Rothfuss\", \"Rick Riordan\", \"Safiy al-Rahman al-Mubarakfuri\", \"Sarah J. Maas\", \"Sherrilyn Kenyon\"], \"name\": \"\", \"parents\": [\"\", \"\", \"\", \"\", \"\", \"\", \"\", \"\", \"\", \"\", \"\", \"\", \"\", \"\", \"\", \"\", \"\", \"\", \"\", \"\", \"\", \"\", \"\", \"\", \"\", \"\", \"\", \"\", \"\"], \"type\": \"treemap\", \"values\": [4.61, 4.62, 9.27, 51.81999999999999, 4.61, 14.079999999999998, 4.57, 4.58, 13.75, 4.65, 9.36, 4.6, 4.59, 4.63, 4.63, 4.58, 9.47, 9.27, 4.59, 4.58, 4.62, 4.57, 4.59, 4.65, 4.57, 4.58, 4.57, 13.9, 9.17]}],                        {\"height\": 700, \"legend\": {\"tracegroupgap\": 0}, \"template\": {\"data\": {\"bar\": [{\"error_x\": {\"color\": \"#2a3f5f\"}, \"error_y\": {\"color\": \"#2a3f5f\"}, \"marker\": {\"line\": {\"color\": \"#E5ECF6\", \"width\": 0.5}}, \"type\": \"bar\"}], \"barpolar\": [{\"marker\": {\"line\": {\"color\": \"#E5ECF6\", \"width\": 0.5}}, \"type\": \"barpolar\"}], \"carpet\": [{\"aaxis\": {\"endlinecolor\": \"#2a3f5f\", \"gridcolor\": \"white\", \"linecolor\": \"white\", \"minorgridcolor\": \"white\", \"startlinecolor\": \"#2a3f5f\"}, \"baxis\": {\"endlinecolor\": \"#2a3f5f\", \"gridcolor\": \"white\", \"linecolor\": \"white\", \"minorgridcolor\": \"white\", \"startlinecolor\": \"#2a3f5f\"}, \"type\": \"carpet\"}], \"choropleth\": [{\"colorbar\": {\"outlinewidth\": 0, \"ticks\": \"\"}, \"type\": \"choropleth\"}], \"contour\": [{\"colorbar\": {\"outlinewidth\": 0, \"ticks\": \"\"}, \"colorscale\": [[0.0, \"#0d0887\"], [0.1111111111111111, \"#46039f\"], [0.2222222222222222, \"#7201a8\"], [0.3333333333333333, \"#9c179e\"], [0.4444444444444444, \"#bd3786\"], [0.5555555555555556, \"#d8576b\"], [0.6666666666666666, \"#ed7953\"], [0.7777777777777778, \"#fb9f3a\"], [0.8888888888888888, \"#fdca26\"], [1.0, \"#f0f921\"]], \"type\": \"contour\"}], \"contourcarpet\": [{\"colorbar\": {\"outlinewidth\": 0, \"ticks\": \"\"}, \"type\": \"contourcarpet\"}], \"heatmap\": [{\"colorbar\": {\"outlinewidth\": 0, \"ticks\": \"\"}, \"colorscale\": [[0.0, \"#0d0887\"], [0.1111111111111111, \"#46039f\"], [0.2222222222222222, \"#7201a8\"], [0.3333333333333333, \"#9c179e\"], [0.4444444444444444, \"#bd3786\"], [0.5555555555555556, \"#d8576b\"], [0.6666666666666666, \"#ed7953\"], [0.7777777777777778, \"#fb9f3a\"], [0.8888888888888888, \"#fdca26\"], [1.0, \"#f0f921\"]], \"type\": \"heatmap\"}], \"heatmapgl\": [{\"colorbar\": {\"outlinewidth\": 0, \"ticks\": \"\"}, \"colorscale\": [[0.0, \"#0d0887\"], [0.1111111111111111, \"#46039f\"], [0.2222222222222222, \"#7201a8\"], [0.3333333333333333, \"#9c179e\"], [0.4444444444444444, \"#bd3786\"], [0.5555555555555556, \"#d8576b\"], [0.6666666666666666, \"#ed7953\"], [0.7777777777777778, \"#fb9f3a\"], [0.8888888888888888, \"#fdca26\"], [1.0, \"#f0f921\"]], \"type\": \"heatmapgl\"}], \"histogram\": [{\"marker\": {\"colorbar\": {\"outlinewidth\": 0, \"ticks\": \"\"}}, \"type\": \"histogram\"}], \"histogram2d\": [{\"colorbar\": {\"outlinewidth\": 0, \"ticks\": \"\"}, \"colorscale\": [[0.0, \"#0d0887\"], [0.1111111111111111, \"#46039f\"], [0.2222222222222222, \"#7201a8\"], [0.3333333333333333, \"#9c179e\"], [0.4444444444444444, \"#bd3786\"], [0.5555555555555556, \"#d8576b\"], [0.6666666666666666, \"#ed7953\"], [0.7777777777777778, \"#fb9f3a\"], [0.8888888888888888, \"#fdca26\"], [1.0, \"#f0f921\"]], \"type\": \"histogram2d\"}], \"histogram2dcontour\": [{\"colorbar\": {\"outlinewidth\": 0, \"ticks\": \"\"}, \"colorscale\": [[0.0, \"#0d0887\"], [0.1111111111111111, \"#46039f\"], [0.2222222222222222, \"#7201a8\"], [0.3333333333333333, \"#9c179e\"], [0.4444444444444444, \"#bd3786\"], [0.5555555555555556, \"#d8576b\"], [0.6666666666666666, \"#ed7953\"], [0.7777777777777778, \"#fb9f3a\"], [0.8888888888888888, \"#fdca26\"], [1.0, \"#f0f921\"]], \"type\": \"histogram2dcontour\"}], \"mesh3d\": [{\"colorbar\": {\"outlinewidth\": 0, \"ticks\": \"\"}, \"type\": \"mesh3d\"}], \"parcoords\": [{\"line\": {\"colorbar\": {\"outlinewidth\": 0, \"ticks\": \"\"}}, \"type\": \"parcoords\"}], \"pie\": [{\"automargin\": true, \"type\": \"pie\"}], \"scatter\": [{\"marker\": {\"colorbar\": {\"outlinewidth\": 0, \"ticks\": \"\"}}, \"type\": \"scatter\"}], \"scatter3d\": [{\"line\": {\"colorbar\": {\"outlinewidth\": 0, \"ticks\": \"\"}}, \"marker\": {\"colorbar\": {\"outlinewidth\": 0, \"ticks\": \"\"}}, \"type\": \"scatter3d\"}], \"scattercarpet\": [{\"marker\": {\"colorbar\": {\"outlinewidth\": 0, \"ticks\": \"\"}}, \"type\": \"scattercarpet\"}], \"scattergeo\": [{\"marker\": {\"colorbar\": {\"outlinewidth\": 0, \"ticks\": \"\"}}, \"type\": \"scattergeo\"}], \"scattergl\": [{\"marker\": {\"colorbar\": {\"outlinewidth\": 0, \"ticks\": \"\"}}, \"type\": \"scattergl\"}], \"scattermapbox\": [{\"marker\": {\"colorbar\": {\"outlinewidth\": 0, \"ticks\": \"\"}}, \"type\": \"scattermapbox\"}], \"scatterpolar\": [{\"marker\": {\"colorbar\": {\"outlinewidth\": 0, \"ticks\": \"\"}}, \"type\": \"scatterpolar\"}], \"scatterpolargl\": [{\"marker\": {\"colorbar\": {\"outlinewidth\": 0, \"ticks\": \"\"}}, \"type\": \"scatterpolargl\"}], \"scatterternary\": [{\"marker\": {\"colorbar\": {\"outlinewidth\": 0, \"ticks\": \"\"}}, \"type\": \"scatterternary\"}], \"surface\": [{\"colorbar\": {\"outlinewidth\": 0, \"ticks\": \"\"}, \"colorscale\": [[0.0, \"#0d0887\"], [0.1111111111111111, \"#46039f\"], [0.2222222222222222, \"#7201a8\"], [0.3333333333333333, \"#9c179e\"], [0.4444444444444444, \"#bd3786\"], [0.5555555555555556, \"#d8576b\"], [0.6666666666666666, \"#ed7953\"], [0.7777777777777778, \"#fb9f3a\"], [0.8888888888888888, \"#fdca26\"], [1.0, \"#f0f921\"]], \"type\": \"surface\"}], \"table\": [{\"cells\": {\"fill\": {\"color\": \"#EBF0F8\"}, \"line\": {\"color\": \"white\"}}, \"header\": {\"fill\": {\"color\": \"#C8D4E3\"}, \"line\": {\"color\": \"white\"}}, \"type\": \"table\"}]}, \"layout\": {\"annotationdefaults\": {\"arrowcolor\": \"#2a3f5f\", \"arrowhead\": 0, \"arrowwidth\": 1}, \"coloraxis\": {\"colorbar\": {\"outlinewidth\": 0, \"ticks\": \"\"}}, \"colorscale\": {\"diverging\": [[0, \"#8e0152\"], [0.1, \"#c51b7d\"], [0.2, \"#de77ae\"], [0.3, \"#f1b6da\"], [0.4, \"#fde0ef\"], [0.5, \"#f7f7f7\"], [0.6, \"#e6f5d0\"], [0.7, \"#b8e186\"], [0.8, \"#7fbc41\"], [0.9, \"#4d9221\"], [1, \"#276419\"]], \"sequential\": [[0.0, \"#0d0887\"], [0.1111111111111111, \"#46039f\"], [0.2222222222222222, \"#7201a8\"], [0.3333333333333333, \"#9c179e\"], [0.4444444444444444, \"#bd3786\"], [0.5555555555555556, \"#d8576b\"], [0.6666666666666666, \"#ed7953\"], [0.7777777777777778, \"#fb9f3a\"], [0.8888888888888888, \"#fdca26\"], [1.0, \"#f0f921\"]], \"sequentialminus\": [[0.0, \"#0d0887\"], [0.1111111111111111, \"#46039f\"], [0.2222222222222222, \"#7201a8\"], [0.3333333333333333, \"#9c179e\"], [0.4444444444444444, \"#bd3786\"], [0.5555555555555556, \"#d8576b\"], [0.6666666666666666, \"#ed7953\"], [0.7777777777777778, \"#fb9f3a\"], [0.8888888888888888, \"#fdca26\"], [1.0, \"#f0f921\"]]}, \"colorway\": [\"#636efa\", \"#EF553B\", \"#00cc96\", \"#ab63fa\", \"#FFA15A\", \"#19d3f3\", \"#FF6692\", \"#B6E880\", \"#FF97FF\", \"#FECB52\"], \"font\": {\"color\": \"#2a3f5f\"}, \"geo\": {\"bgcolor\": \"white\", \"lakecolor\": \"white\", \"landcolor\": \"#E5ECF6\", \"showlakes\": true, \"showland\": true, \"subunitcolor\": \"white\"}, \"hoverlabel\": {\"align\": \"left\"}, \"hovermode\": \"closest\", \"mapbox\": {\"style\": \"light\"}, \"paper_bgcolor\": \"white\", \"plot_bgcolor\": \"#E5ECF6\", \"polar\": {\"angularaxis\": {\"gridcolor\": \"white\", \"linecolor\": \"white\", \"ticks\": \"\"}, \"bgcolor\": \"#E5ECF6\", \"radialaxis\": {\"gridcolor\": \"white\", \"linecolor\": \"white\", \"ticks\": \"\"}}, \"scene\": {\"xaxis\": {\"backgroundcolor\": \"#E5ECF6\", \"gridcolor\": \"white\", \"gridwidth\": 2, \"linecolor\": \"white\", \"showbackground\": true, \"ticks\": \"\", \"zerolinecolor\": \"white\"}, \"yaxis\": {\"backgroundcolor\": \"#E5ECF6\", \"gridcolor\": \"white\", \"gridwidth\": 2, \"linecolor\": \"white\", \"showbackground\": true, \"ticks\": \"\", \"zerolinecolor\": \"white\"}, \"zaxis\": {\"backgroundcolor\": \"#E5ECF6\", \"gridcolor\": \"white\", \"gridwidth\": 2, \"linecolor\": \"white\", \"showbackground\": true, \"ticks\": \"\", \"zerolinecolor\": \"white\"}}, \"shapedefaults\": {\"line\": {\"color\": \"#2a3f5f\"}}, \"ternary\": {\"aaxis\": {\"gridcolor\": \"white\", \"linecolor\": \"white\", \"ticks\": \"\"}, \"baxis\": {\"gridcolor\": \"white\", \"linecolor\": \"white\", \"ticks\": \"\"}, \"bgcolor\": \"#E5ECF6\", \"caxis\": {\"gridcolor\": \"white\", \"linecolor\": \"white\", \"ticks\": \"\"}}, \"title\": {\"x\": 0.05}, \"xaxis\": {\"automargin\": true, \"gridcolor\": \"white\", \"linecolor\": \"white\", \"ticks\": \"\", \"title\": {\"standoff\": 15}, \"zerolinecolor\": \"white\", \"zerolinewidth\": 2}, \"yaxis\": {\"automargin\": true, \"gridcolor\": \"white\", \"linecolor\": \"white\", \"ticks\": \"\", \"title\": {\"standoff\": 15}, \"zerolinecolor\": \"white\", \"zerolinewidth\": 2}}}, \"title\": {\"text\": \"Popular Authors\"}, \"width\": 1000},                        {\"responsive\": true}                    ).then(function(){\n",
       "                            \n",
       "var gd = document.getElementById('24b700a2-512f-4eff-ad13-1d6e32c34653');\n",
       "var x = new MutationObserver(function (mutations, observer) {{\n",
       "        var display = window.getComputedStyle(gd).display;\n",
       "        if (!display || display === 'none') {{\n",
       "            console.log([gd, 'removed!']);\n",
       "            Plotly.purge(gd);\n",
       "            observer.disconnect();\n",
       "        }}\n",
       "}});\n",
       "\n",
       "// Listen for the removal of the full notebook cells\n",
       "var notebookContainer = gd.closest('#notebook-container');\n",
       "if (notebookContainer) {{\n",
       "    x.observe(notebookContainer, {childList: true});\n",
       "}}\n",
       "\n",
       "// Listen for the clearing of the current output cell\n",
       "var outputEl = gd.closest('.output');\n",
       "if (outputEl) {{\n",
       "    x.observe(outputEl, {childList: true});\n",
       "}}\n",
       "\n",
       "                        })                };                });            </script>        </div>"
      ]
     },
     "metadata": {},
     "output_type": "display_data"
    }
   ],
   "source": [
    "fifty_top_authors = top_rated[:50]\n",
    "fig = px.treemap(fifty_top_authors, path=['authors'], values='average_rating',title='Popular Authors', width=1000, height=700)\n",
    "fig.show()\n",
    "#fig.write_image('images/authors_tree.jpg')"
   ]
  },
  {
   "cell_type": "code",
   "execution_count": 6,
   "metadata": {},
   "outputs": [
    {
     "data": {
      "application/vnd.plotly.v1+json": {
       "config": {
        "plotlyServerURL": "https://plot.ly"
       },
       "data": [
        {
         "alignmentgroup": "True",
         "hovertemplate": "value=%{y}<br>count=%{x}<extra></extra>",
         "legendgroup": "Isabel Allende",
         "marker": {
          "color": "#636efa"
         },
         "name": "Isabel Allende",
         "offsetgroup": "Isabel Allende",
         "orientation": "h",
         "showlegend": true,
         "textposition": "auto",
         "type": "bar",
         "x": [
          662
         ],
         "xaxis": "x",
         "y": [
          "Isabel Allende"
         ],
         "yaxis": "y"
        },
        {
         "alignmentgroup": "True",
         "hovertemplate": "value=%{y}<br>count=%{x}<extra></extra>",
         "legendgroup": "Dean R. Koontz",
         "marker": {
          "color": "#EF553B"
         },
         "name": "Dean R. Koontz",
         "offsetgroup": "Dean R. Koontz",
         "orientation": "h",
         "showlegend": true,
         "textposition": "auto",
         "type": "bar",
         "x": [
          673
         ],
         "xaxis": "x",
         "y": [
          "Dean R. Koontz"
         ],
         "yaxis": "y"
        },
        {
         "alignmentgroup": "True",
         "hovertemplate": "value=%{y}<br>count=%{x}<extra></extra>",
         "legendgroup": "Christopher Pike",
         "marker": {
          "color": "#00cc96"
         },
         "name": "Christopher Pike",
         "offsetgroup": "Christopher Pike",
         "orientation": "h",
         "showlegend": true,
         "textposition": "auto",
         "type": "bar",
         "x": [
          686
         ],
         "xaxis": "x",
         "y": [
          "Christopher Pike"
         ],
         "yaxis": "y"
        },
        {
         "alignmentgroup": "True",
         "hovertemplate": "value=%{y}<br>count=%{x}<extra></extra>",
         "legendgroup": "R.L. Stine",
         "marker": {
          "color": "#ab63fa"
         },
         "name": "R.L. Stine",
         "offsetgroup": "R.L. Stine",
         "orientation": "h",
         "showlegend": true,
         "textposition": "auto",
         "type": "bar",
         "x": [
          687
         ],
         "xaxis": "x",
         "y": [
          "R.L. Stine"
         ],
         "yaxis": "y"
        },
        {
         "alignmentgroup": "True",
         "hovertemplate": "value=%{y}<br>count=%{x}<extra></extra>",
         "legendgroup": "Gregory Maguire",
         "marker": {
          "color": "#FFA15A"
         },
         "name": "Gregory Maguire",
         "offsetgroup": "Gregory Maguire",
         "orientation": "h",
         "showlegend": true,
         "textposition": "auto",
         "type": "bar",
         "x": [
          688
         ],
         "xaxis": "x",
         "y": [
          "Gregory Maguire"
         ],
         "yaxis": "y"
        },
        {
         "alignmentgroup": "True",
         "hovertemplate": "value=%{y}<br>count=%{x}<extra></extra>",
         "legendgroup": "Margaret Weis",
         "marker": {
          "color": "#19d3f3"
         },
         "name": "Margaret Weis",
         "offsetgroup": "Margaret Weis",
         "orientation": "h",
         "showlegend": true,
         "textposition": "auto",
         "type": "bar",
         "x": [
          700
         ],
         "xaxis": "x",
         "y": [
          "Margaret Weis"
         ],
         "yaxis": "y"
        },
        {
         "alignmentgroup": "True",
         "hovertemplate": "value=%{y}<br>count=%{x}<extra></extra>",
         "legendgroup": "Diana Palmer",
         "marker": {
          "color": "#FF6692"
         },
         "name": "Diana Palmer",
         "offsetgroup": "Diana Palmer",
         "orientation": "h",
         "showlegend": true,
         "textposition": "auto",
         "type": "bar",
         "x": [
          729
         ],
         "xaxis": "x",
         "y": [
          "Diana Palmer"
         ],
         "yaxis": "y"
        },
        {
         "alignmentgroup": "True",
         "hovertemplate": "value=%{y}<br>count=%{x}<extra></extra>",
         "legendgroup": "Ann Rule",
         "marker": {
          "color": "#B6E880"
         },
         "name": "Ann Rule",
         "offsetgroup": "Ann Rule",
         "orientation": "h",
         "showlegend": true,
         "textposition": "auto",
         "type": "bar",
         "x": [
          737
         ],
         "xaxis": "x",
         "y": [
          "Ann Rule"
         ],
         "yaxis": "y"
        },
        {
         "alignmentgroup": "True",
         "hovertemplate": "value=%{y}<br>count=%{x}<extra></extra>",
         "legendgroup": "James Patterson",
         "marker": {
          "color": "#FF97FF"
         },
         "name": "James Patterson",
         "offsetgroup": "James Patterson",
         "orientation": "h",
         "showlegend": true,
         "textposition": "auto",
         "type": "bar",
         "x": [
          757
         ],
         "xaxis": "x",
         "y": [
          "James Patterson"
         ],
         "yaxis": "y"
        },
        {
         "alignmentgroup": "True",
         "hovertemplate": "value=%{y}<br>count=%{x}<extra></extra>",
         "legendgroup": "Orson Scott Card",
         "marker": {
          "color": "#FECB52"
         },
         "name": "Orson Scott Card",
         "offsetgroup": "Orson Scott Card",
         "orientation": "h",
         "showlegend": true,
         "textposition": "auto",
         "type": "bar",
         "x": [
          757
         ],
         "xaxis": "x",
         "y": [
          "Orson Scott Card"
         ],
         "yaxis": "y"
        },
        {
         "alignmentgroup": "True",
         "hovertemplate": "value=%{y}<br>count=%{x}<extra></extra>",
         "legendgroup": "Anita Diamant",
         "marker": {
          "color": "#636efa"
         },
         "name": "Anita Diamant",
         "offsetgroup": "Anita Diamant",
         "orientation": "h",
         "showlegend": true,
         "textposition": "auto",
         "type": "bar",
         "x": [
          766
         ],
         "xaxis": "x",
         "y": [
          "Anita Diamant"
         ],
         "yaxis": "y"
        },
        {
         "alignmentgroup": "True",
         "hovertemplate": "value=%{y}<br>count=%{x}<extra></extra>",
         "legendgroup": "Douglas Adams",
         "marker": {
          "color": "#EF553B"
         },
         "name": "Douglas Adams",
         "offsetgroup": "Douglas Adams",
         "orientation": "h",
         "showlegend": true,
         "textposition": "auto",
         "type": "bar",
         "x": [
          804
         ],
         "xaxis": "x",
         "y": [
          "Douglas Adams"
         ],
         "yaxis": "y"
        },
        {
         "alignmentgroup": "True",
         "hovertemplate": "value=%{y}<br>count=%{x}<extra></extra>",
         "legendgroup": "Mercedes Lackey",
         "marker": {
          "color": "#00cc96"
         },
         "name": "Mercedes Lackey",
         "offsetgroup": "Mercedes Lackey",
         "orientation": "h",
         "showlegend": true,
         "textposition": "auto",
         "type": "bar",
         "x": [
          807
         ],
         "xaxis": "x",
         "y": [
          "Mercedes Lackey"
         ],
         "yaxis": "y"
        },
        {
         "alignmentgroup": "True",
         "hovertemplate": "value=%{y}<br>count=%{x}<extra></extra>",
         "legendgroup": "Neil Gaiman",
         "marker": {
          "color": "#ab63fa"
         },
         "name": "Neil Gaiman",
         "offsetgroup": "Neil Gaiman",
         "orientation": "h",
         "showlegend": true,
         "textposition": "auto",
         "type": "bar",
         "x": [
          812
         ],
         "xaxis": "x",
         "y": [
          "Neil Gaiman"
         ],
         "yaxis": "y"
        },
        {
         "alignmentgroup": "True",
         "hovertemplate": "value=%{y}<br>count=%{x}<extra></extra>",
         "legendgroup": "Anne Perry",
         "marker": {
          "color": "#FFA15A"
         },
         "name": "Anne Perry",
         "offsetgroup": "Anne Perry",
         "orientation": "h",
         "showlegend": true,
         "textposition": "auto",
         "type": "bar",
         "x": [
          814
         ],
         "xaxis": "x",
         "y": [
          "Anne Perry"
         ],
         "yaxis": "y"
        },
        {
         "alignmentgroup": "True",
         "hovertemplate": "value=%{y}<br>count=%{x}<extra></extra>",
         "legendgroup": "Johanna Lindsey",
         "marker": {
          "color": "#19d3f3"
         },
         "name": "Johanna Lindsey",
         "offsetgroup": "Johanna Lindsey",
         "orientation": "h",
         "showlegend": true,
         "textposition": "auto",
         "type": "bar",
         "x": [
          822
         ],
         "xaxis": "x",
         "y": [
          "Johanna Lindsey"
         ],
         "yaxis": "y"
        },
        {
         "alignmentgroup": "True",
         "hovertemplate": "value=%{y}<br>count=%{x}<extra></extra>",
         "legendgroup": "Alexander McCall Smith",
         "marker": {
          "color": "#FF6692"
         },
         "name": "Alexander McCall Smith",
         "offsetgroup": "Alexander McCall Smith",
         "orientation": "h",
         "showlegend": true,
         "textposition": "auto",
         "type": "bar",
         "x": [
          827
         ],
         "xaxis": "x",
         "y": [
          "Alexander McCall Smith"
         ],
         "yaxis": "y"
        },
        {
         "alignmentgroup": "True",
         "hovertemplate": "value=%{y}<br>count=%{x}<extra></extra>",
         "legendgroup": "Charles Dickens",
         "marker": {
          "color": "#B6E880"
         },
         "name": "Charles Dickens",
         "offsetgroup": "Charles Dickens",
         "orientation": "h",
         "showlegend": true,
         "textposition": "auto",
         "type": "bar",
         "x": [
          881
         ],
         "xaxis": "x",
         "y": [
          "Charles Dickens"
         ],
         "yaxis": "y"
        },
        {
         "alignmentgroup": "True",
         "hovertemplate": "value=%{y}<br>count=%{x}<extra></extra>",
         "legendgroup": "Clive Cussler",
         "marker": {
          "color": "#FF97FF"
         },
         "name": "Clive Cussler",
         "offsetgroup": "Clive Cussler",
         "orientation": "h",
         "showlegend": true,
         "textposition": "auto",
         "type": "bar",
         "x": [
          909
         ],
         "xaxis": "x",
         "y": [
          "Clive Cussler"
         ],
         "yaxis": "y"
        },
        {
         "alignmentgroup": "True",
         "hovertemplate": "value=%{y}<br>count=%{x}<extra></extra>",
         "legendgroup": "Barbara Kingsolver",
         "marker": {
          "color": "#FECB52"
         },
         "name": "Barbara Kingsolver",
         "offsetgroup": "Barbara Kingsolver",
         "orientation": "h",
         "showlegend": true,
         "textposition": "auto",
         "type": "bar",
         "x": [
          918
         ],
         "xaxis": "x",
         "y": [
          "Barbara Kingsolver"
         ],
         "yaxis": "y"
        },
        {
         "alignmentgroup": "True",
         "hovertemplate": "value=%{y}<br>count=%{x}<extra></extra>",
         "legendgroup": "Tony Hillerman",
         "marker": {
          "color": "#636efa"
         },
         "name": "Tony Hillerman",
         "offsetgroup": "Tony Hillerman",
         "orientation": "h",
         "showlegend": true,
         "textposition": "auto",
         "type": "bar",
         "x": [
          936
         ],
         "xaxis": "x",
         "y": [
          "Tony Hillerman"
         ],
         "yaxis": "y"
        },
        {
         "alignmentgroup": "True",
         "hovertemplate": "value=%{y}<br>count=%{x}<extra></extra>",
         "legendgroup": "Jane Austen",
         "marker": {
          "color": "#EF553B"
         },
         "name": "Jane Austen",
         "offsetgroup": "Jane Austen",
         "orientation": "h",
         "showlegend": true,
         "textposition": "auto",
         "type": "bar",
         "x": [
          941
         ],
         "xaxis": "x",
         "y": [
          "Jane Austen"
         ],
         "yaxis": "y"
        },
        {
         "alignmentgroup": "True",
         "hovertemplate": "value=%{y}<br>count=%{x}<extra></extra>",
         "legendgroup": "Debbie Macomber",
         "marker": {
          "color": "#00cc96"
         },
         "name": "Debbie Macomber",
         "offsetgroup": "Debbie Macomber",
         "orientation": "h",
         "showlegend": true,
         "textposition": "auto",
         "type": "bar",
         "x": [
          947
         ],
         "xaxis": "x",
         "y": [
          "Debbie Macomber"
         ],
         "yaxis": "y"
        },
        {
         "alignmentgroup": "True",
         "hovertemplate": "value=%{y}<br>count=%{x}<extra></extra>",
         "legendgroup": "Catherine Coulter",
         "marker": {
          "color": "#ab63fa"
         },
         "name": "Catherine Coulter",
         "offsetgroup": "Catherine Coulter",
         "orientation": "h",
         "showlegend": true,
         "textposition": "auto",
         "type": "bar",
         "x": [
          951
         ],
         "xaxis": "x",
         "y": [
          "Catherine Coulter"
         ],
         "yaxis": "y"
        },
        {
         "alignmentgroup": "True",
         "hovertemplate": "value=%{y}<br>count=%{x}<extra></extra>",
         "legendgroup": "Rebecca Wells",
         "marker": {
          "color": "#FFA15A"
         },
         "name": "Rebecca Wells",
         "offsetgroup": "Rebecca Wells",
         "orientation": "h",
         "showlegend": true,
         "textposition": "auto",
         "type": "bar",
         "x": [
          962
         ],
         "xaxis": "x",
         "y": [
          "Rebecca Wells"
         ],
         "yaxis": "y"
        },
        {
         "alignmentgroup": "True",
         "hovertemplate": "value=%{y}<br>count=%{x}<extra></extra>",
         "legendgroup": "Francine Pascal",
         "marker": {
          "color": "#19d3f3"
         },
         "name": "Francine Pascal",
         "offsetgroup": "Francine Pascal",
         "orientation": "h",
         "showlegend": true,
         "textposition": "auto",
         "type": "bar",
         "x": [
          1008
         ],
         "xaxis": "x",
         "y": [
          "Francine Pascal"
         ],
         "yaxis": "y"
        },
        {
         "alignmentgroup": "True",
         "hovertemplate": "value=%{y}<br>count=%{x}<extra></extra>",
         "legendgroup": "Anne McCaffrey",
         "marker": {
          "color": "#FF6692"
         },
         "name": "Anne McCaffrey",
         "offsetgroup": "Anne McCaffrey",
         "orientation": "h",
         "showlegend": true,
         "textposition": "auto",
         "type": "bar",
         "x": [
          1025
         ],
         "xaxis": "x",
         "y": [
          "Anne McCaffrey"
         ],
         "yaxis": "y"
        },
        {
         "alignmentgroup": "True",
         "hovertemplate": "value=%{y}<br>count=%{x}<extra></extra>",
         "legendgroup": "Jonathan Kellerman",
         "marker": {
          "color": "#B6E880"
         },
         "name": "Jonathan Kellerman",
         "offsetgroup": "Jonathan Kellerman",
         "orientation": "h",
         "showlegend": true,
         "textposition": "auto",
         "type": "bar",
         "x": [
          1042
         ],
         "xaxis": "x",
         "y": [
          "Jonathan Kellerman"
         ],
         "yaxis": "y"
        },
        {
         "alignmentgroup": "True",
         "hovertemplate": "value=%{y}<br>count=%{x}<extra></extra>",
         "legendgroup": "Faye Kellerman",
         "marker": {
          "color": "#FF97FF"
         },
         "name": "Faye Kellerman",
         "offsetgroup": "Faye Kellerman",
         "orientation": "h",
         "showlegend": true,
         "textposition": "auto",
         "type": "bar",
         "x": [
          1047
         ],
         "xaxis": "x",
         "y": [
          "Faye Kellerman"
         ],
         "yaxis": "y"
        },
        {
         "alignmentgroup": "True",
         "hovertemplate": "value=%{y}<br>count=%{x}<extra></extra>",
         "legendgroup": "Carolyn Keene",
         "marker": {
          "color": "#FECB52"
         },
         "name": "Carolyn Keene",
         "offsetgroup": "Carolyn Keene",
         "orientation": "h",
         "showlegend": true,
         "textposition": "auto",
         "type": "bar",
         "x": [
          1066
         ],
         "xaxis": "x",
         "y": [
          "Carolyn Keene"
         ],
         "yaxis": "y"
        },
        {
         "alignmentgroup": "True",
         "hovertemplate": "value=%{y}<br>count=%{x}<extra></extra>",
         "legendgroup": "Terry Pratchett",
         "marker": {
          "color": "#636efa"
         },
         "name": "Terry Pratchett",
         "offsetgroup": "Terry Pratchett",
         "orientation": "h",
         "showlegend": true,
         "textposition": "auto",
         "type": "bar",
         "x": [
          1078
         ],
         "xaxis": "x",
         "y": [
          "Terry Pratchett"
         ],
         "yaxis": "y"
        },
        {
         "alignmentgroup": "True",
         "hovertemplate": "value=%{y}<br>count=%{x}<extra></extra>",
         "legendgroup": "Anne Rice",
         "marker": {
          "color": "#EF553B"
         },
         "name": "Anne Rice",
         "offsetgroup": "Anne Rice",
         "orientation": "h",
         "showlegend": true,
         "textposition": "auto",
         "type": "bar",
         "x": [
          1111
         ],
         "xaxis": "x",
         "y": [
          "Anne Rice"
         ],
         "yaxis": "y"
        },
        {
         "alignmentgroup": "True",
         "hovertemplate": "value=%{y}<br>count=%{x}<extra></extra>",
         "legendgroup": "Wally Lamb",
         "marker": {
          "color": "#00cc96"
         },
         "name": "Wally Lamb",
         "offsetgroup": "Wally Lamb",
         "orientation": "h",
         "showlegend": true,
         "textposition": "auto",
         "type": "bar",
         "x": [
          1148
         ],
         "xaxis": "x",
         "y": [
          "Wally Lamb"
         ],
         "yaxis": "y"
        },
        {
         "alignmentgroup": "True",
         "hovertemplate": "value=%{y}<br>count=%{x}<extra></extra>",
         "legendgroup": "Lilian Jackson Braun",
         "marker": {
          "color": "#ab63fa"
         },
         "name": "Lilian Jackson Braun",
         "offsetgroup": "Lilian Jackson Braun",
         "orientation": "h",
         "showlegend": true,
         "textposition": "auto",
         "type": "bar",
         "x": [
          1213
         ],
         "xaxis": "x",
         "y": [
          "Lilian Jackson Braun"
         ],
         "yaxis": "y"
        },
        {
         "alignmentgroup": "True",
         "hovertemplate": "value=%{y}<br>count=%{x}<extra></extra>",
         "legendgroup": "Agatha Christie",
         "marker": {
          "color": "#FFA15A"
         },
         "name": "Agatha Christie",
         "offsetgroup": "Agatha Christie",
         "orientation": "h",
         "showlegend": true,
         "textposition": "auto",
         "type": "bar",
         "x": [
          1283
         ],
         "xaxis": "x",
         "y": [
          "Agatha Christie"
         ],
         "yaxis": "y"
        },
        {
         "alignmentgroup": "True",
         "hovertemplate": "value=%{y}<br>count=%{x}<extra></extra>",
         "legendgroup": "Anita Shreve",
         "marker": {
          "color": "#19d3f3"
         },
         "name": "Anita Shreve",
         "offsetgroup": "Anita Shreve",
         "orientation": "h",
         "showlegend": true,
         "textposition": "auto",
         "type": "bar",
         "x": [
          1320
         ],
         "xaxis": "x",
         "y": [
          "Anita Shreve"
         ],
         "yaxis": "y"
        },
        {
         "alignmentgroup": "True",
         "hovertemplate": "value=%{y}<br>count=%{x}<extra></extra>",
         "legendgroup": "Piers Anthony",
         "marker": {
          "color": "#FF6692"
         },
         "name": "Piers Anthony",
         "offsetgroup": "Piers Anthony",
         "orientation": "h",
         "showlegend": true,
         "textposition": "auto",
         "type": "bar",
         "x": [
          1329
         ],
         "xaxis": "x",
         "y": [
          "Piers Anthony"
         ],
         "yaxis": "y"
        },
        {
         "alignmentgroup": "True",
         "hovertemplate": "value=%{y}<br>count=%{x}<extra></extra>",
         "legendgroup": "William Shakespeare",
         "marker": {
          "color": "#B6E880"
         },
         "name": "William Shakespeare",
         "offsetgroup": "William Shakespeare",
         "orientation": "h",
         "showlegend": true,
         "textposition": "auto",
         "type": "bar",
         "x": [
          1371
         ],
         "xaxis": "x",
         "y": [
          "William Shakespeare"
         ],
         "yaxis": "y"
        },
        {
         "alignmentgroup": "True",
         "hovertemplate": "value=%{y}<br>count=%{x}<extra></extra>",
         "legendgroup": "Ann M. Martin",
         "marker": {
          "color": "#FF97FF"
         },
         "name": "Ann M. Martin",
         "offsetgroup": "Ann M. Martin",
         "orientation": "h",
         "showlegend": true,
         "textposition": "auto",
         "type": "bar",
         "x": [
          1536
         ],
         "xaxis": "x",
         "y": [
          "Ann M. Martin"
         ],
         "yaxis": "y"
        },
        {
         "alignmentgroup": "True",
         "hovertemplate": "value=%{y}<br>count=%{x}<extra></extra>",
         "legendgroup": "Jack Canfield",
         "marker": {
          "color": "#FECB52"
         },
         "name": "Jack Canfield",
         "offsetgroup": "Jack Canfield",
         "orientation": "h",
         "showlegend": true,
         "textposition": "auto",
         "type": "bar",
         "x": [
          1587
         ],
         "xaxis": "x",
         "y": [
          "Jack Canfield"
         ],
         "yaxis": "y"
        },
        {
         "alignmentgroup": "True",
         "hovertemplate": "value=%{y}<br>count=%{x}<extra></extra>",
         "legendgroup": "Alice Sebold",
         "marker": {
          "color": "#636efa"
         },
         "name": "Alice Sebold",
         "offsetgroup": "Alice Sebold",
         "orientation": "h",
         "showlegend": true,
         "textposition": "auto",
         "type": "bar",
         "x": [
          1616
         ],
         "xaxis": "x",
         "y": [
          "Alice Sebold"
         ],
         "yaxis": "y"
        },
        {
         "alignmentgroup": "True",
         "hovertemplate": "value=%{y}<br>count=%{x}<extra></extra>",
         "legendgroup": "Mary Higgins Clark",
         "marker": {
          "color": "#EF553B"
         },
         "name": "Mary Higgins Clark",
         "offsetgroup": "Mary Higgins Clark",
         "orientation": "h",
         "showlegend": true,
         "textposition": "auto",
         "type": "bar",
         "x": [
          1708
         ],
         "xaxis": "x",
         "y": [
          "Mary Higgins Clark"
         ],
         "yaxis": "y"
        },
        {
         "alignmentgroup": "True",
         "hovertemplate": "value=%{y}<br>count=%{x}<extra></extra>",
         "legendgroup": "V.C. Andrews",
         "marker": {
          "color": "#00cc96"
         },
         "name": "V.C. Andrews",
         "offsetgroup": "V.C. Andrews",
         "orientation": "h",
         "showlegend": true,
         "textposition": "auto",
         "type": "bar",
         "x": [
          2097
         ],
         "xaxis": "x",
         "y": [
          "V.C. Andrews"
         ],
         "yaxis": "y"
        },
        {
         "alignmentgroup": "True",
         "hovertemplate": "value=%{y}<br>count=%{x}<extra></extra>",
         "legendgroup": "Tom Clancy",
         "marker": {
          "color": "#ab63fa"
         },
         "name": "Tom Clancy",
         "offsetgroup": "Tom Clancy",
         "orientation": "h",
         "showlegend": true,
         "textposition": "auto",
         "type": "bar",
         "x": [
          2142
         ],
         "xaxis": "x",
         "y": [
          "Tom Clancy"
         ],
         "yaxis": "y"
        },
        {
         "alignmentgroup": "True",
         "hovertemplate": "value=%{y}<br>count=%{x}<extra></extra>",
         "legendgroup": "Janet Evanovich",
         "marker": {
          "color": "#FFA15A"
         },
         "name": "Janet Evanovich",
         "offsetgroup": "Janet Evanovich",
         "orientation": "h",
         "showlegend": true,
         "textposition": "auto",
         "type": "bar",
         "x": [
          2235
         ],
         "xaxis": "x",
         "y": [
          "Janet Evanovich"
         ],
         "yaxis": "y"
        },
        {
         "alignmentgroup": "True",
         "hovertemplate": "value=%{y}<br>count=%{x}<extra></extra>",
         "legendgroup": "R. L. Stine",
         "marker": {
          "color": "#19d3f3"
         },
         "name": "R. L. Stine",
         "offsetgroup": "R. L. Stine",
         "orientation": "h",
         "showlegend": true,
         "textposition": "auto",
         "type": "bar",
         "x": [
          2336
         ],
         "xaxis": "x",
         "y": [
          "R. L. Stine"
         ],
         "yaxis": "y"
        },
        {
         "alignmentgroup": "True",
         "hovertemplate": "value=%{y}<br>count=%{x}<extra></extra>",
         "legendgroup": "Stephen King",
         "marker": {
          "color": "#FF6692"
         },
         "name": "Stephen King",
         "offsetgroup": "Stephen King",
         "orientation": "h",
         "showlegend": true,
         "textposition": "auto",
         "type": "bar",
         "x": [
          2398
         ],
         "xaxis": "x",
         "y": [
          "Stephen King"
         ],
         "yaxis": "y"
        },
        {
         "alignmentgroup": "True",
         "hovertemplate": "value=%{y}<br>count=%{x}<extra></extra>",
         "legendgroup": "Rich Shapero",
         "marker": {
          "color": "#B6E880"
         },
         "name": "Rich Shapero",
         "offsetgroup": "Rich Shapero",
         "orientation": "h",
         "showlegend": true,
         "textposition": "auto",
         "type": "bar",
         "x": [
          2502
         ],
         "xaxis": "x",
         "y": [
          "Rich Shapero"
         ],
         "yaxis": "y"
        },
        {
         "alignmentgroup": "True",
         "hovertemplate": "value=%{y}<br>count=%{x}<extra></extra>",
         "legendgroup": "Sue Grafton",
         "marker": {
          "color": "#FF97FF"
         },
         "name": "Sue Grafton",
         "offsetgroup": "Sue Grafton",
         "orientation": "h",
         "showlegend": true,
         "textposition": "auto",
         "type": "bar",
         "x": [
          2690
         ],
         "xaxis": "x",
         "y": [
          "Sue Grafton"
         ],
         "yaxis": "y"
        },
        {
         "alignmentgroup": "True",
         "hovertemplate": "value=%{y}<br>count=%{x}<extra></extra>",
         "legendgroup": "Nora Roberts",
         "marker": {
          "color": "#FECB52"
         },
         "name": "Nora Roberts",
         "offsetgroup": "Nora Roberts",
         "orientation": "h",
         "showlegend": true,
         "textposition": "auto",
         "type": "bar",
         "x": [
          5368
         ],
         "xaxis": "x",
         "y": [
          "Nora Roberts"
         ],
         "yaxis": "y"
        }
       ],
       "layout": {
        "barmode": "relative",
        "height": 700,
        "legend": {
         "title": {
          "text": "value"
         },
         "tracegroupgap": 0
        },
        "template": {
         "data": {
          "bar": [
           {
            "error_x": {
             "color": "#2a3f5f"
            },
            "error_y": {
             "color": "#2a3f5f"
            },
            "marker": {
             "line": {
              "color": "#E5ECF6",
              "width": 0.5
             }
            },
            "type": "bar"
           }
          ],
          "barpolar": [
           {
            "marker": {
             "line": {
              "color": "#E5ECF6",
              "width": 0.5
             }
            },
            "type": "barpolar"
           }
          ],
          "carpet": [
           {
            "aaxis": {
             "endlinecolor": "#2a3f5f",
             "gridcolor": "white",
             "linecolor": "white",
             "minorgridcolor": "white",
             "startlinecolor": "#2a3f5f"
            },
            "baxis": {
             "endlinecolor": "#2a3f5f",
             "gridcolor": "white",
             "linecolor": "white",
             "minorgridcolor": "white",
             "startlinecolor": "#2a3f5f"
            },
            "type": "carpet"
           }
          ],
          "choropleth": [
           {
            "colorbar": {
             "outlinewidth": 0,
             "ticks": ""
            },
            "type": "choropleth"
           }
          ],
          "contour": [
           {
            "colorbar": {
             "outlinewidth": 0,
             "ticks": ""
            },
            "colorscale": [
             [
              0,
              "#0d0887"
             ],
             [
              0.1111111111111111,
              "#46039f"
             ],
             [
              0.2222222222222222,
              "#7201a8"
             ],
             [
              0.3333333333333333,
              "#9c179e"
             ],
             [
              0.4444444444444444,
              "#bd3786"
             ],
             [
              0.5555555555555556,
              "#d8576b"
             ],
             [
              0.6666666666666666,
              "#ed7953"
             ],
             [
              0.7777777777777778,
              "#fb9f3a"
             ],
             [
              0.8888888888888888,
              "#fdca26"
             ],
             [
              1,
              "#f0f921"
             ]
            ],
            "type": "contour"
           }
          ],
          "contourcarpet": [
           {
            "colorbar": {
             "outlinewidth": 0,
             "ticks": ""
            },
            "type": "contourcarpet"
           }
          ],
          "heatmap": [
           {
            "colorbar": {
             "outlinewidth": 0,
             "ticks": ""
            },
            "colorscale": [
             [
              0,
              "#0d0887"
             ],
             [
              0.1111111111111111,
              "#46039f"
             ],
             [
              0.2222222222222222,
              "#7201a8"
             ],
             [
              0.3333333333333333,
              "#9c179e"
             ],
             [
              0.4444444444444444,
              "#bd3786"
             ],
             [
              0.5555555555555556,
              "#d8576b"
             ],
             [
              0.6666666666666666,
              "#ed7953"
             ],
             [
              0.7777777777777778,
              "#fb9f3a"
             ],
             [
              0.8888888888888888,
              "#fdca26"
             ],
             [
              1,
              "#f0f921"
             ]
            ],
            "type": "heatmap"
           }
          ],
          "heatmapgl": [
           {
            "colorbar": {
             "outlinewidth": 0,
             "ticks": ""
            },
            "colorscale": [
             [
              0,
              "#0d0887"
             ],
             [
              0.1111111111111111,
              "#46039f"
             ],
             [
              0.2222222222222222,
              "#7201a8"
             ],
             [
              0.3333333333333333,
              "#9c179e"
             ],
             [
              0.4444444444444444,
              "#bd3786"
             ],
             [
              0.5555555555555556,
              "#d8576b"
             ],
             [
              0.6666666666666666,
              "#ed7953"
             ],
             [
              0.7777777777777778,
              "#fb9f3a"
             ],
             [
              0.8888888888888888,
              "#fdca26"
             ],
             [
              1,
              "#f0f921"
             ]
            ],
            "type": "heatmapgl"
           }
          ],
          "histogram": [
           {
            "marker": {
             "colorbar": {
              "outlinewidth": 0,
              "ticks": ""
             }
            },
            "type": "histogram"
           }
          ],
          "histogram2d": [
           {
            "colorbar": {
             "outlinewidth": 0,
             "ticks": ""
            },
            "colorscale": [
             [
              0,
              "#0d0887"
             ],
             [
              0.1111111111111111,
              "#46039f"
             ],
             [
              0.2222222222222222,
              "#7201a8"
             ],
             [
              0.3333333333333333,
              "#9c179e"
             ],
             [
              0.4444444444444444,
              "#bd3786"
             ],
             [
              0.5555555555555556,
              "#d8576b"
             ],
             [
              0.6666666666666666,
              "#ed7953"
             ],
             [
              0.7777777777777778,
              "#fb9f3a"
             ],
             [
              0.8888888888888888,
              "#fdca26"
             ],
             [
              1,
              "#f0f921"
             ]
            ],
            "type": "histogram2d"
           }
          ],
          "histogram2dcontour": [
           {
            "colorbar": {
             "outlinewidth": 0,
             "ticks": ""
            },
            "colorscale": [
             [
              0,
              "#0d0887"
             ],
             [
              0.1111111111111111,
              "#46039f"
             ],
             [
              0.2222222222222222,
              "#7201a8"
             ],
             [
              0.3333333333333333,
              "#9c179e"
             ],
             [
              0.4444444444444444,
              "#bd3786"
             ],
             [
              0.5555555555555556,
              "#d8576b"
             ],
             [
              0.6666666666666666,
              "#ed7953"
             ],
             [
              0.7777777777777778,
              "#fb9f3a"
             ],
             [
              0.8888888888888888,
              "#fdca26"
             ],
             [
              1,
              "#f0f921"
             ]
            ],
            "type": "histogram2dcontour"
           }
          ],
          "mesh3d": [
           {
            "colorbar": {
             "outlinewidth": 0,
             "ticks": ""
            },
            "type": "mesh3d"
           }
          ],
          "parcoords": [
           {
            "line": {
             "colorbar": {
              "outlinewidth": 0,
              "ticks": ""
             }
            },
            "type": "parcoords"
           }
          ],
          "pie": [
           {
            "automargin": true,
            "type": "pie"
           }
          ],
          "scatter": [
           {
            "marker": {
             "colorbar": {
              "outlinewidth": 0,
              "ticks": ""
             }
            },
            "type": "scatter"
           }
          ],
          "scatter3d": [
           {
            "line": {
             "colorbar": {
              "outlinewidth": 0,
              "ticks": ""
             }
            },
            "marker": {
             "colorbar": {
              "outlinewidth": 0,
              "ticks": ""
             }
            },
            "type": "scatter3d"
           }
          ],
          "scattercarpet": [
           {
            "marker": {
             "colorbar": {
              "outlinewidth": 0,
              "ticks": ""
             }
            },
            "type": "scattercarpet"
           }
          ],
          "scattergeo": [
           {
            "marker": {
             "colorbar": {
              "outlinewidth": 0,
              "ticks": ""
             }
            },
            "type": "scattergeo"
           }
          ],
          "scattergl": [
           {
            "marker": {
             "colorbar": {
              "outlinewidth": 0,
              "ticks": ""
             }
            },
            "type": "scattergl"
           }
          ],
          "scattermapbox": [
           {
            "marker": {
             "colorbar": {
              "outlinewidth": 0,
              "ticks": ""
             }
            },
            "type": "scattermapbox"
           }
          ],
          "scatterpolar": [
           {
            "marker": {
             "colorbar": {
              "outlinewidth": 0,
              "ticks": ""
             }
            },
            "type": "scatterpolar"
           }
          ],
          "scatterpolargl": [
           {
            "marker": {
             "colorbar": {
              "outlinewidth": 0,
              "ticks": ""
             }
            },
            "type": "scatterpolargl"
           }
          ],
          "scatterternary": [
           {
            "marker": {
             "colorbar": {
              "outlinewidth": 0,
              "ticks": ""
             }
            },
            "type": "scatterternary"
           }
          ],
          "surface": [
           {
            "colorbar": {
             "outlinewidth": 0,
             "ticks": ""
            },
            "colorscale": [
             [
              0,
              "#0d0887"
             ],
             [
              0.1111111111111111,
              "#46039f"
             ],
             [
              0.2222222222222222,
              "#7201a8"
             ],
             [
              0.3333333333333333,
              "#9c179e"
             ],
             [
              0.4444444444444444,
              "#bd3786"
             ],
             [
              0.5555555555555556,
              "#d8576b"
             ],
             [
              0.6666666666666666,
              "#ed7953"
             ],
             [
              0.7777777777777778,
              "#fb9f3a"
             ],
             [
              0.8888888888888888,
              "#fdca26"
             ],
             [
              1,
              "#f0f921"
             ]
            ],
            "type": "surface"
           }
          ],
          "table": [
           {
            "cells": {
             "fill": {
              "color": "#EBF0F8"
             },
             "line": {
              "color": "white"
             }
            },
            "header": {
             "fill": {
              "color": "#C8D4E3"
             },
             "line": {
              "color": "white"
             }
            },
            "type": "table"
           }
          ]
         },
         "layout": {
          "annotationdefaults": {
           "arrowcolor": "#2a3f5f",
           "arrowhead": 0,
           "arrowwidth": 1
          },
          "coloraxis": {
           "colorbar": {
            "outlinewidth": 0,
            "ticks": ""
           }
          },
          "colorscale": {
           "diverging": [
            [
             0,
             "#8e0152"
            ],
            [
             0.1,
             "#c51b7d"
            ],
            [
             0.2,
             "#de77ae"
            ],
            [
             0.3,
             "#f1b6da"
            ],
            [
             0.4,
             "#fde0ef"
            ],
            [
             0.5,
             "#f7f7f7"
            ],
            [
             0.6,
             "#e6f5d0"
            ],
            [
             0.7,
             "#b8e186"
            ],
            [
             0.8,
             "#7fbc41"
            ],
            [
             0.9,
             "#4d9221"
            ],
            [
             1,
             "#276419"
            ]
           ],
           "sequential": [
            [
             0,
             "#0d0887"
            ],
            [
             0.1111111111111111,
             "#46039f"
            ],
            [
             0.2222222222222222,
             "#7201a8"
            ],
            [
             0.3333333333333333,
             "#9c179e"
            ],
            [
             0.4444444444444444,
             "#bd3786"
            ],
            [
             0.5555555555555556,
             "#d8576b"
            ],
            [
             0.6666666666666666,
             "#ed7953"
            ],
            [
             0.7777777777777778,
             "#fb9f3a"
            ],
            [
             0.8888888888888888,
             "#fdca26"
            ],
            [
             1,
             "#f0f921"
            ]
           ],
           "sequentialminus": [
            [
             0,
             "#0d0887"
            ],
            [
             0.1111111111111111,
             "#46039f"
            ],
            [
             0.2222222222222222,
             "#7201a8"
            ],
            [
             0.3333333333333333,
             "#9c179e"
            ],
            [
             0.4444444444444444,
             "#bd3786"
            ],
            [
             0.5555555555555556,
             "#d8576b"
            ],
            [
             0.6666666666666666,
             "#ed7953"
            ],
            [
             0.7777777777777778,
             "#fb9f3a"
            ],
            [
             0.8888888888888888,
             "#fdca26"
            ],
            [
             1,
             "#f0f921"
            ]
           ]
          },
          "colorway": [
           "#636efa",
           "#EF553B",
           "#00cc96",
           "#ab63fa",
           "#FFA15A",
           "#19d3f3",
           "#FF6692",
           "#B6E880",
           "#FF97FF",
           "#FECB52"
          ],
          "font": {
           "color": "#2a3f5f"
          },
          "geo": {
           "bgcolor": "white",
           "lakecolor": "white",
           "landcolor": "#E5ECF6",
           "showlakes": true,
           "showland": true,
           "subunitcolor": "white"
          },
          "hoverlabel": {
           "align": "left"
          },
          "hovermode": "closest",
          "mapbox": {
           "style": "light"
          },
          "paper_bgcolor": "white",
          "plot_bgcolor": "#E5ECF6",
          "polar": {
           "angularaxis": {
            "gridcolor": "white",
            "linecolor": "white",
            "ticks": ""
           },
           "bgcolor": "#E5ECF6",
           "radialaxis": {
            "gridcolor": "white",
            "linecolor": "white",
            "ticks": ""
           }
          },
          "scene": {
           "xaxis": {
            "backgroundcolor": "#E5ECF6",
            "gridcolor": "white",
            "gridwidth": 2,
            "linecolor": "white",
            "showbackground": true,
            "ticks": "",
            "zerolinecolor": "white"
           },
           "yaxis": {
            "backgroundcolor": "#E5ECF6",
            "gridcolor": "white",
            "gridwidth": 2,
            "linecolor": "white",
            "showbackground": true,
            "ticks": "",
            "zerolinecolor": "white"
           },
           "zaxis": {
            "backgroundcolor": "#E5ECF6",
            "gridcolor": "white",
            "gridwidth": 2,
            "linecolor": "white",
            "showbackground": true,
            "ticks": "",
            "zerolinecolor": "white"
           }
          },
          "shapedefaults": {
           "line": {
            "color": "#2a3f5f"
           }
          },
          "ternary": {
           "aaxis": {
            "gridcolor": "white",
            "linecolor": "white",
            "ticks": ""
           },
           "baxis": {
            "gridcolor": "white",
            "linecolor": "white",
            "ticks": ""
           },
           "bgcolor": "#E5ECF6",
           "caxis": {
            "gridcolor": "white",
            "linecolor": "white",
            "ticks": ""
           }
          },
          "title": {
           "x": 0.05
          },
          "xaxis": {
           "automargin": true,
           "gridcolor": "white",
           "linecolor": "white",
           "ticks": "",
           "title": {
            "standoff": 15
           },
           "zerolinecolor": "white",
           "zerolinewidth": 2
          },
          "yaxis": {
           "automargin": true,
           "gridcolor": "white",
           "linecolor": "white",
           "ticks": "",
           "title": {
            "standoff": 15
           },
           "zerolinecolor": "white",
           "zerolinewidth": 2
          }
         }
        },
        "title": {
         "text": "Top Authors"
        },
        "width": 1000,
        "xaxis": {
         "anchor": "y",
         "domain": [
          0,
          1
         ],
         "title": {
          "text": "count"
         }
        },
        "yaxis": {
         "anchor": "x",
         "categoryarray": [
          "Nora Roberts",
          "Sue Grafton",
          "Rich Shapero",
          "Stephen King",
          "R. L. Stine",
          "Janet Evanovich",
          "Tom Clancy",
          "V.C. Andrews",
          "Mary Higgins Clark",
          "Alice Sebold",
          "Jack Canfield",
          "Ann M. Martin",
          "William Shakespeare",
          "Piers Anthony",
          "Anita Shreve",
          "Agatha Christie",
          "Lilian Jackson Braun",
          "Wally Lamb",
          "Anne Rice",
          "Terry Pratchett",
          "Carolyn Keene",
          "Faye Kellerman",
          "Jonathan Kellerman",
          "Anne McCaffrey",
          "Francine Pascal",
          "Rebecca Wells",
          "Catherine Coulter",
          "Debbie Macomber",
          "Jane Austen",
          "Tony Hillerman",
          "Barbara Kingsolver",
          "Clive Cussler",
          "Charles Dickens",
          "Alexander McCall Smith",
          "Johanna Lindsey",
          "Anne Perry",
          "Neil Gaiman",
          "Mercedes Lackey",
          "Douglas Adams",
          "Anita Diamant",
          "Orson Scott Card",
          "James Patterson",
          "Ann Rule",
          "Diana Palmer",
          "Margaret Weis",
          "Gregory Maguire",
          "R.L. Stine",
          "Christopher Pike",
          "Dean R. Koontz",
          "Isabel Allende"
         ],
         "categoryorder": "array",
         "domain": [
          0,
          1
         ],
         "title": {
          "text": "value"
         }
        }
       }
      },
      "text/html": [
       "<div>                            <div id=\"00bc0271-927d-4c38-9677-af18807ea8fb\" class=\"plotly-graph-div\" style=\"height:700px; width:1000px;\"></div>            <script type=\"text/javascript\">                require([\"plotly\"], function(Plotly) {                    window.PLOTLYENV=window.PLOTLYENV || {};                                    if (document.getElementById(\"00bc0271-927d-4c38-9677-af18807ea8fb\")) {                    Plotly.newPlot(                        \"00bc0271-927d-4c38-9677-af18807ea8fb\",                        [{\"alignmentgroup\": \"True\", \"hovertemplate\": \"value=%{y}<br>count=%{x}<extra></extra>\", \"legendgroup\": \"Isabel Allende\", \"marker\": {\"color\": \"#636efa\"}, \"name\": \"Isabel Allende\", \"offsetgroup\": \"Isabel Allende\", \"orientation\": \"h\", \"showlegend\": true, \"textposition\": \"auto\", \"type\": \"bar\", \"x\": [662], \"xaxis\": \"x\", \"y\": [\"Isabel Allende\"], \"yaxis\": \"y\"}, {\"alignmentgroup\": \"True\", \"hovertemplate\": \"value=%{y}<br>count=%{x}<extra></extra>\", \"legendgroup\": \"Dean R. Koontz\", \"marker\": {\"color\": \"#EF553B\"}, \"name\": \"Dean R. Koontz\", \"offsetgroup\": \"Dean R. Koontz\", \"orientation\": \"h\", \"showlegend\": true, \"textposition\": \"auto\", \"type\": \"bar\", \"x\": [673], \"xaxis\": \"x\", \"y\": [\"Dean R. Koontz\"], \"yaxis\": \"y\"}, {\"alignmentgroup\": \"True\", \"hovertemplate\": \"value=%{y}<br>count=%{x}<extra></extra>\", \"legendgroup\": \"Christopher Pike\", \"marker\": {\"color\": \"#00cc96\"}, \"name\": \"Christopher Pike\", \"offsetgroup\": \"Christopher Pike\", \"orientation\": \"h\", \"showlegend\": true, \"textposition\": \"auto\", \"type\": \"bar\", \"x\": [686], \"xaxis\": \"x\", \"y\": [\"Christopher Pike\"], \"yaxis\": \"y\"}, {\"alignmentgroup\": \"True\", \"hovertemplate\": \"value=%{y}<br>count=%{x}<extra></extra>\", \"legendgroup\": \"R.L. Stine\", \"marker\": {\"color\": \"#ab63fa\"}, \"name\": \"R.L. Stine\", \"offsetgroup\": \"R.L. Stine\", \"orientation\": \"h\", \"showlegend\": true, \"textposition\": \"auto\", \"type\": \"bar\", \"x\": [687], \"xaxis\": \"x\", \"y\": [\"R.L. Stine\"], \"yaxis\": \"y\"}, {\"alignmentgroup\": \"True\", \"hovertemplate\": \"value=%{y}<br>count=%{x}<extra></extra>\", \"legendgroup\": \"Gregory Maguire\", \"marker\": {\"color\": \"#FFA15A\"}, \"name\": \"Gregory Maguire\", \"offsetgroup\": \"Gregory Maguire\", \"orientation\": \"h\", \"showlegend\": true, \"textposition\": \"auto\", \"type\": \"bar\", \"x\": [688], \"xaxis\": \"x\", \"y\": [\"Gregory Maguire\"], \"yaxis\": \"y\"}, {\"alignmentgroup\": \"True\", \"hovertemplate\": \"value=%{y}<br>count=%{x}<extra></extra>\", \"legendgroup\": \"Margaret Weis\", \"marker\": {\"color\": \"#19d3f3\"}, \"name\": \"Margaret Weis\", \"offsetgroup\": \"Margaret Weis\", \"orientation\": \"h\", \"showlegend\": true, \"textposition\": \"auto\", \"type\": \"bar\", \"x\": [700], \"xaxis\": \"x\", \"y\": [\"Margaret Weis\"], \"yaxis\": \"y\"}, {\"alignmentgroup\": \"True\", \"hovertemplate\": \"value=%{y}<br>count=%{x}<extra></extra>\", \"legendgroup\": \"Diana Palmer\", \"marker\": {\"color\": \"#FF6692\"}, \"name\": \"Diana Palmer\", \"offsetgroup\": \"Diana Palmer\", \"orientation\": \"h\", \"showlegend\": true, \"textposition\": \"auto\", \"type\": \"bar\", \"x\": [729], \"xaxis\": \"x\", \"y\": [\"Diana Palmer\"], \"yaxis\": \"y\"}, {\"alignmentgroup\": \"True\", \"hovertemplate\": \"value=%{y}<br>count=%{x}<extra></extra>\", \"legendgroup\": \"Ann Rule\", \"marker\": {\"color\": \"#B6E880\"}, \"name\": \"Ann Rule\", \"offsetgroup\": \"Ann Rule\", \"orientation\": \"h\", \"showlegend\": true, \"textposition\": \"auto\", \"type\": \"bar\", \"x\": [737], \"xaxis\": \"x\", \"y\": [\"Ann Rule\"], \"yaxis\": \"y\"}, {\"alignmentgroup\": \"True\", \"hovertemplate\": \"value=%{y}<br>count=%{x}<extra></extra>\", \"legendgroup\": \"James Patterson\", \"marker\": {\"color\": \"#FF97FF\"}, \"name\": \"James Patterson\", \"offsetgroup\": \"James Patterson\", \"orientation\": \"h\", \"showlegend\": true, \"textposition\": \"auto\", \"type\": \"bar\", \"x\": [757], \"xaxis\": \"x\", \"y\": [\"James Patterson\"], \"yaxis\": \"y\"}, {\"alignmentgroup\": \"True\", \"hovertemplate\": \"value=%{y}<br>count=%{x}<extra></extra>\", \"legendgroup\": \"Orson Scott Card\", \"marker\": {\"color\": \"#FECB52\"}, \"name\": \"Orson Scott Card\", \"offsetgroup\": \"Orson Scott Card\", \"orientation\": \"h\", \"showlegend\": true, \"textposition\": \"auto\", \"type\": \"bar\", \"x\": [757], \"xaxis\": \"x\", \"y\": [\"Orson Scott Card\"], \"yaxis\": \"y\"}, {\"alignmentgroup\": \"True\", \"hovertemplate\": \"value=%{y}<br>count=%{x}<extra></extra>\", \"legendgroup\": \"Anita Diamant\", \"marker\": {\"color\": \"#636efa\"}, \"name\": \"Anita Diamant\", \"offsetgroup\": \"Anita Diamant\", \"orientation\": \"h\", \"showlegend\": true, \"textposition\": \"auto\", \"type\": \"bar\", \"x\": [766], \"xaxis\": \"x\", \"y\": [\"Anita Diamant\"], \"yaxis\": \"y\"}, {\"alignmentgroup\": \"True\", \"hovertemplate\": \"value=%{y}<br>count=%{x}<extra></extra>\", \"legendgroup\": \"Douglas Adams\", \"marker\": {\"color\": \"#EF553B\"}, \"name\": \"Douglas Adams\", \"offsetgroup\": \"Douglas Adams\", \"orientation\": \"h\", \"showlegend\": true, \"textposition\": \"auto\", \"type\": \"bar\", \"x\": [804], \"xaxis\": \"x\", \"y\": [\"Douglas Adams\"], \"yaxis\": \"y\"}, {\"alignmentgroup\": \"True\", \"hovertemplate\": \"value=%{y}<br>count=%{x}<extra></extra>\", \"legendgroup\": \"Mercedes Lackey\", \"marker\": {\"color\": \"#00cc96\"}, \"name\": \"Mercedes Lackey\", \"offsetgroup\": \"Mercedes Lackey\", \"orientation\": \"h\", \"showlegend\": true, \"textposition\": \"auto\", \"type\": \"bar\", \"x\": [807], \"xaxis\": \"x\", \"y\": [\"Mercedes Lackey\"], \"yaxis\": \"y\"}, {\"alignmentgroup\": \"True\", \"hovertemplate\": \"value=%{y}<br>count=%{x}<extra></extra>\", \"legendgroup\": \"Neil Gaiman\", \"marker\": {\"color\": \"#ab63fa\"}, \"name\": \"Neil Gaiman\", \"offsetgroup\": \"Neil Gaiman\", \"orientation\": \"h\", \"showlegend\": true, \"textposition\": \"auto\", \"type\": \"bar\", \"x\": [812], \"xaxis\": \"x\", \"y\": [\"Neil Gaiman\"], \"yaxis\": \"y\"}, {\"alignmentgroup\": \"True\", \"hovertemplate\": \"value=%{y}<br>count=%{x}<extra></extra>\", \"legendgroup\": \"Anne Perry\", \"marker\": {\"color\": \"#FFA15A\"}, \"name\": \"Anne Perry\", \"offsetgroup\": \"Anne Perry\", \"orientation\": \"h\", \"showlegend\": true, \"textposition\": \"auto\", \"type\": \"bar\", \"x\": [814], \"xaxis\": \"x\", \"y\": [\"Anne Perry\"], \"yaxis\": \"y\"}, {\"alignmentgroup\": \"True\", \"hovertemplate\": \"value=%{y}<br>count=%{x}<extra></extra>\", \"legendgroup\": \"Johanna Lindsey\", \"marker\": {\"color\": \"#19d3f3\"}, \"name\": \"Johanna Lindsey\", \"offsetgroup\": \"Johanna Lindsey\", \"orientation\": \"h\", \"showlegend\": true, \"textposition\": \"auto\", \"type\": \"bar\", \"x\": [822], \"xaxis\": \"x\", \"y\": [\"Johanna Lindsey\"], \"yaxis\": \"y\"}, {\"alignmentgroup\": \"True\", \"hovertemplate\": \"value=%{y}<br>count=%{x}<extra></extra>\", \"legendgroup\": \"Alexander McCall Smith\", \"marker\": {\"color\": \"#FF6692\"}, \"name\": \"Alexander McCall Smith\", \"offsetgroup\": \"Alexander McCall Smith\", \"orientation\": \"h\", \"showlegend\": true, \"textposition\": \"auto\", \"type\": \"bar\", \"x\": [827], \"xaxis\": \"x\", \"y\": [\"Alexander McCall Smith\"], \"yaxis\": \"y\"}, {\"alignmentgroup\": \"True\", \"hovertemplate\": \"value=%{y}<br>count=%{x}<extra></extra>\", \"legendgroup\": \"Charles Dickens\", \"marker\": {\"color\": \"#B6E880\"}, \"name\": \"Charles Dickens\", \"offsetgroup\": \"Charles Dickens\", \"orientation\": \"h\", \"showlegend\": true, \"textposition\": \"auto\", \"type\": \"bar\", \"x\": [881], \"xaxis\": \"x\", \"y\": [\"Charles Dickens\"], \"yaxis\": \"y\"}, {\"alignmentgroup\": \"True\", \"hovertemplate\": \"value=%{y}<br>count=%{x}<extra></extra>\", \"legendgroup\": \"Clive Cussler\", \"marker\": {\"color\": \"#FF97FF\"}, \"name\": \"Clive Cussler\", \"offsetgroup\": \"Clive Cussler\", \"orientation\": \"h\", \"showlegend\": true, \"textposition\": \"auto\", \"type\": \"bar\", \"x\": [909], \"xaxis\": \"x\", \"y\": [\"Clive Cussler\"], \"yaxis\": \"y\"}, {\"alignmentgroup\": \"True\", \"hovertemplate\": \"value=%{y}<br>count=%{x}<extra></extra>\", \"legendgroup\": \"Barbara Kingsolver\", \"marker\": {\"color\": \"#FECB52\"}, \"name\": \"Barbara Kingsolver\", \"offsetgroup\": \"Barbara Kingsolver\", \"orientation\": \"h\", \"showlegend\": true, \"textposition\": \"auto\", \"type\": \"bar\", \"x\": [918], \"xaxis\": \"x\", \"y\": [\"Barbara Kingsolver\"], \"yaxis\": \"y\"}, {\"alignmentgroup\": \"True\", \"hovertemplate\": \"value=%{y}<br>count=%{x}<extra></extra>\", \"legendgroup\": \"Tony Hillerman\", \"marker\": {\"color\": \"#636efa\"}, \"name\": \"Tony Hillerman\", \"offsetgroup\": \"Tony Hillerman\", \"orientation\": \"h\", \"showlegend\": true, \"textposition\": \"auto\", \"type\": \"bar\", \"x\": [936], \"xaxis\": \"x\", \"y\": [\"Tony Hillerman\"], \"yaxis\": \"y\"}, {\"alignmentgroup\": \"True\", \"hovertemplate\": \"value=%{y}<br>count=%{x}<extra></extra>\", \"legendgroup\": \"Jane Austen\", \"marker\": {\"color\": \"#EF553B\"}, \"name\": \"Jane Austen\", \"offsetgroup\": \"Jane Austen\", \"orientation\": \"h\", \"showlegend\": true, \"textposition\": \"auto\", \"type\": \"bar\", \"x\": [941], \"xaxis\": \"x\", \"y\": [\"Jane Austen\"], \"yaxis\": \"y\"}, {\"alignmentgroup\": \"True\", \"hovertemplate\": \"value=%{y}<br>count=%{x}<extra></extra>\", \"legendgroup\": \"Debbie Macomber\", \"marker\": {\"color\": \"#00cc96\"}, \"name\": \"Debbie Macomber\", \"offsetgroup\": \"Debbie Macomber\", \"orientation\": \"h\", \"showlegend\": true, \"textposition\": \"auto\", \"type\": \"bar\", \"x\": [947], \"xaxis\": \"x\", \"y\": [\"Debbie Macomber\"], \"yaxis\": \"y\"}, {\"alignmentgroup\": \"True\", \"hovertemplate\": \"value=%{y}<br>count=%{x}<extra></extra>\", \"legendgroup\": \"Catherine Coulter\", \"marker\": {\"color\": \"#ab63fa\"}, \"name\": \"Catherine Coulter\", \"offsetgroup\": \"Catherine Coulter\", \"orientation\": \"h\", \"showlegend\": true, \"textposition\": \"auto\", \"type\": \"bar\", \"x\": [951], \"xaxis\": \"x\", \"y\": [\"Catherine Coulter\"], \"yaxis\": \"y\"}, {\"alignmentgroup\": \"True\", \"hovertemplate\": \"value=%{y}<br>count=%{x}<extra></extra>\", \"legendgroup\": \"Rebecca Wells\", \"marker\": {\"color\": \"#FFA15A\"}, \"name\": \"Rebecca Wells\", \"offsetgroup\": \"Rebecca Wells\", \"orientation\": \"h\", \"showlegend\": true, \"textposition\": \"auto\", \"type\": \"bar\", \"x\": [962], \"xaxis\": \"x\", \"y\": [\"Rebecca Wells\"], \"yaxis\": \"y\"}, {\"alignmentgroup\": \"True\", \"hovertemplate\": \"value=%{y}<br>count=%{x}<extra></extra>\", \"legendgroup\": \"Francine Pascal\", \"marker\": {\"color\": \"#19d3f3\"}, \"name\": \"Francine Pascal\", \"offsetgroup\": \"Francine Pascal\", \"orientation\": \"h\", \"showlegend\": true, \"textposition\": \"auto\", \"type\": \"bar\", \"x\": [1008], \"xaxis\": \"x\", \"y\": [\"Francine Pascal\"], \"yaxis\": \"y\"}, {\"alignmentgroup\": \"True\", \"hovertemplate\": \"value=%{y}<br>count=%{x}<extra></extra>\", \"legendgroup\": \"Anne McCaffrey\", \"marker\": {\"color\": \"#FF6692\"}, \"name\": \"Anne McCaffrey\", \"offsetgroup\": \"Anne McCaffrey\", \"orientation\": \"h\", \"showlegend\": true, \"textposition\": \"auto\", \"type\": \"bar\", \"x\": [1025], \"xaxis\": \"x\", \"y\": [\"Anne McCaffrey\"], \"yaxis\": \"y\"}, {\"alignmentgroup\": \"True\", \"hovertemplate\": \"value=%{y}<br>count=%{x}<extra></extra>\", \"legendgroup\": \"Jonathan Kellerman\", \"marker\": {\"color\": \"#B6E880\"}, \"name\": \"Jonathan Kellerman\", \"offsetgroup\": \"Jonathan Kellerman\", \"orientation\": \"h\", \"showlegend\": true, \"textposition\": \"auto\", \"type\": \"bar\", \"x\": [1042], \"xaxis\": \"x\", \"y\": [\"Jonathan Kellerman\"], \"yaxis\": \"y\"}, {\"alignmentgroup\": \"True\", \"hovertemplate\": \"value=%{y}<br>count=%{x}<extra></extra>\", \"legendgroup\": \"Faye Kellerman\", \"marker\": {\"color\": \"#FF97FF\"}, \"name\": \"Faye Kellerman\", \"offsetgroup\": \"Faye Kellerman\", \"orientation\": \"h\", \"showlegend\": true, \"textposition\": \"auto\", \"type\": \"bar\", \"x\": [1047], \"xaxis\": \"x\", \"y\": [\"Faye Kellerman\"], \"yaxis\": \"y\"}, {\"alignmentgroup\": \"True\", \"hovertemplate\": \"value=%{y}<br>count=%{x}<extra></extra>\", \"legendgroup\": \"Carolyn Keene\", \"marker\": {\"color\": \"#FECB52\"}, \"name\": \"Carolyn Keene\", \"offsetgroup\": \"Carolyn Keene\", \"orientation\": \"h\", \"showlegend\": true, \"textposition\": \"auto\", \"type\": \"bar\", \"x\": [1066], \"xaxis\": \"x\", \"y\": [\"Carolyn Keene\"], \"yaxis\": \"y\"}, {\"alignmentgroup\": \"True\", \"hovertemplate\": \"value=%{y}<br>count=%{x}<extra></extra>\", \"legendgroup\": \"Terry Pratchett\", \"marker\": {\"color\": \"#636efa\"}, \"name\": \"Terry Pratchett\", \"offsetgroup\": \"Terry Pratchett\", \"orientation\": \"h\", \"showlegend\": true, \"textposition\": \"auto\", \"type\": \"bar\", \"x\": [1078], \"xaxis\": \"x\", \"y\": [\"Terry Pratchett\"], \"yaxis\": \"y\"}, {\"alignmentgroup\": \"True\", \"hovertemplate\": \"value=%{y}<br>count=%{x}<extra></extra>\", \"legendgroup\": \"Anne Rice\", \"marker\": {\"color\": \"#EF553B\"}, \"name\": \"Anne Rice\", \"offsetgroup\": \"Anne Rice\", \"orientation\": \"h\", \"showlegend\": true, \"textposition\": \"auto\", \"type\": \"bar\", \"x\": [1111], \"xaxis\": \"x\", \"y\": [\"Anne Rice\"], \"yaxis\": \"y\"}, {\"alignmentgroup\": \"True\", \"hovertemplate\": \"value=%{y}<br>count=%{x}<extra></extra>\", \"legendgroup\": \"Wally Lamb\", \"marker\": {\"color\": \"#00cc96\"}, \"name\": \"Wally Lamb\", \"offsetgroup\": \"Wally Lamb\", \"orientation\": \"h\", \"showlegend\": true, \"textposition\": \"auto\", \"type\": \"bar\", \"x\": [1148], \"xaxis\": \"x\", \"y\": [\"Wally Lamb\"], \"yaxis\": \"y\"}, {\"alignmentgroup\": \"True\", \"hovertemplate\": \"value=%{y}<br>count=%{x}<extra></extra>\", \"legendgroup\": \"Lilian Jackson Braun\", \"marker\": {\"color\": \"#ab63fa\"}, \"name\": \"Lilian Jackson Braun\", \"offsetgroup\": \"Lilian Jackson Braun\", \"orientation\": \"h\", \"showlegend\": true, \"textposition\": \"auto\", \"type\": \"bar\", \"x\": [1213], \"xaxis\": \"x\", \"y\": [\"Lilian Jackson Braun\"], \"yaxis\": \"y\"}, {\"alignmentgroup\": \"True\", \"hovertemplate\": \"value=%{y}<br>count=%{x}<extra></extra>\", \"legendgroup\": \"Agatha Christie\", \"marker\": {\"color\": \"#FFA15A\"}, \"name\": \"Agatha Christie\", \"offsetgroup\": \"Agatha Christie\", \"orientation\": \"h\", \"showlegend\": true, \"textposition\": \"auto\", \"type\": \"bar\", \"x\": [1283], \"xaxis\": \"x\", \"y\": [\"Agatha Christie\"], \"yaxis\": \"y\"}, {\"alignmentgroup\": \"True\", \"hovertemplate\": \"value=%{y}<br>count=%{x}<extra></extra>\", \"legendgroup\": \"Anita Shreve\", \"marker\": {\"color\": \"#19d3f3\"}, \"name\": \"Anita Shreve\", \"offsetgroup\": \"Anita Shreve\", \"orientation\": \"h\", \"showlegend\": true, \"textposition\": \"auto\", \"type\": \"bar\", \"x\": [1320], \"xaxis\": \"x\", \"y\": [\"Anita Shreve\"], \"yaxis\": \"y\"}, {\"alignmentgroup\": \"True\", \"hovertemplate\": \"value=%{y}<br>count=%{x}<extra></extra>\", \"legendgroup\": \"Piers Anthony\", \"marker\": {\"color\": \"#FF6692\"}, \"name\": \"Piers Anthony\", \"offsetgroup\": \"Piers Anthony\", \"orientation\": \"h\", \"showlegend\": true, \"textposition\": \"auto\", \"type\": \"bar\", \"x\": [1329], \"xaxis\": \"x\", \"y\": [\"Piers Anthony\"], \"yaxis\": \"y\"}, {\"alignmentgroup\": \"True\", \"hovertemplate\": \"value=%{y}<br>count=%{x}<extra></extra>\", \"legendgroup\": \"William Shakespeare\", \"marker\": {\"color\": \"#B6E880\"}, \"name\": \"William Shakespeare\", \"offsetgroup\": \"William Shakespeare\", \"orientation\": \"h\", \"showlegend\": true, \"textposition\": \"auto\", \"type\": \"bar\", \"x\": [1371], \"xaxis\": \"x\", \"y\": [\"William Shakespeare\"], \"yaxis\": \"y\"}, {\"alignmentgroup\": \"True\", \"hovertemplate\": \"value=%{y}<br>count=%{x}<extra></extra>\", \"legendgroup\": \"Ann M. Martin\", \"marker\": {\"color\": \"#FF97FF\"}, \"name\": \"Ann M. Martin\", \"offsetgroup\": \"Ann M. Martin\", \"orientation\": \"h\", \"showlegend\": true, \"textposition\": \"auto\", \"type\": \"bar\", \"x\": [1536], \"xaxis\": \"x\", \"y\": [\"Ann M. Martin\"], \"yaxis\": \"y\"}, {\"alignmentgroup\": \"True\", \"hovertemplate\": \"value=%{y}<br>count=%{x}<extra></extra>\", \"legendgroup\": \"Jack Canfield\", \"marker\": {\"color\": \"#FECB52\"}, \"name\": \"Jack Canfield\", \"offsetgroup\": \"Jack Canfield\", \"orientation\": \"h\", \"showlegend\": true, \"textposition\": \"auto\", \"type\": \"bar\", \"x\": [1587], \"xaxis\": \"x\", \"y\": [\"Jack Canfield\"], \"yaxis\": \"y\"}, {\"alignmentgroup\": \"True\", \"hovertemplate\": \"value=%{y}<br>count=%{x}<extra></extra>\", \"legendgroup\": \"Alice Sebold\", \"marker\": {\"color\": \"#636efa\"}, \"name\": \"Alice Sebold\", \"offsetgroup\": \"Alice Sebold\", \"orientation\": \"h\", \"showlegend\": true, \"textposition\": \"auto\", \"type\": \"bar\", \"x\": [1616], \"xaxis\": \"x\", \"y\": [\"Alice Sebold\"], \"yaxis\": \"y\"}, {\"alignmentgroup\": \"True\", \"hovertemplate\": \"value=%{y}<br>count=%{x}<extra></extra>\", \"legendgroup\": \"Mary Higgins Clark\", \"marker\": {\"color\": \"#EF553B\"}, \"name\": \"Mary Higgins Clark\", \"offsetgroup\": \"Mary Higgins Clark\", \"orientation\": \"h\", \"showlegend\": true, \"textposition\": \"auto\", \"type\": \"bar\", \"x\": [1708], \"xaxis\": \"x\", \"y\": [\"Mary Higgins Clark\"], \"yaxis\": \"y\"}, {\"alignmentgroup\": \"True\", \"hovertemplate\": \"value=%{y}<br>count=%{x}<extra></extra>\", \"legendgroup\": \"V.C. Andrews\", \"marker\": {\"color\": \"#00cc96\"}, \"name\": \"V.C. Andrews\", \"offsetgroup\": \"V.C. Andrews\", \"orientation\": \"h\", \"showlegend\": true, \"textposition\": \"auto\", \"type\": \"bar\", \"x\": [2097], \"xaxis\": \"x\", \"y\": [\"V.C. Andrews\"], \"yaxis\": \"y\"}, {\"alignmentgroup\": \"True\", \"hovertemplate\": \"value=%{y}<br>count=%{x}<extra></extra>\", \"legendgroup\": \"Tom Clancy\", \"marker\": {\"color\": \"#ab63fa\"}, \"name\": \"Tom Clancy\", \"offsetgroup\": \"Tom Clancy\", \"orientation\": \"h\", \"showlegend\": true, \"textposition\": \"auto\", \"type\": \"bar\", \"x\": [2142], \"xaxis\": \"x\", \"y\": [\"Tom Clancy\"], \"yaxis\": \"y\"}, {\"alignmentgroup\": \"True\", \"hovertemplate\": \"value=%{y}<br>count=%{x}<extra></extra>\", \"legendgroup\": \"Janet Evanovich\", \"marker\": {\"color\": \"#FFA15A\"}, \"name\": \"Janet Evanovich\", \"offsetgroup\": \"Janet Evanovich\", \"orientation\": \"h\", \"showlegend\": true, \"textposition\": \"auto\", \"type\": \"bar\", \"x\": [2235], \"xaxis\": \"x\", \"y\": [\"Janet Evanovich\"], \"yaxis\": \"y\"}, {\"alignmentgroup\": \"True\", \"hovertemplate\": \"value=%{y}<br>count=%{x}<extra></extra>\", \"legendgroup\": \"R. L. Stine\", \"marker\": {\"color\": \"#19d3f3\"}, \"name\": \"R. L. Stine\", \"offsetgroup\": \"R. L. Stine\", \"orientation\": \"h\", \"showlegend\": true, \"textposition\": \"auto\", \"type\": \"bar\", \"x\": [2336], \"xaxis\": \"x\", \"y\": [\"R. L. Stine\"], \"yaxis\": \"y\"}, {\"alignmentgroup\": \"True\", \"hovertemplate\": \"value=%{y}<br>count=%{x}<extra></extra>\", \"legendgroup\": \"Stephen King\", \"marker\": {\"color\": \"#FF6692\"}, \"name\": \"Stephen King\", \"offsetgroup\": \"Stephen King\", \"orientation\": \"h\", \"showlegend\": true, \"textposition\": \"auto\", \"type\": \"bar\", \"x\": [2398], \"xaxis\": \"x\", \"y\": [\"Stephen King\"], \"yaxis\": \"y\"}, {\"alignmentgroup\": \"True\", \"hovertemplate\": \"value=%{y}<br>count=%{x}<extra></extra>\", \"legendgroup\": \"Rich Shapero\", \"marker\": {\"color\": \"#B6E880\"}, \"name\": \"Rich Shapero\", \"offsetgroup\": \"Rich Shapero\", \"orientation\": \"h\", \"showlegend\": true, \"textposition\": \"auto\", \"type\": \"bar\", \"x\": [2502], \"xaxis\": \"x\", \"y\": [\"Rich Shapero\"], \"yaxis\": \"y\"}, {\"alignmentgroup\": \"True\", \"hovertemplate\": \"value=%{y}<br>count=%{x}<extra></extra>\", \"legendgroup\": \"Sue Grafton\", \"marker\": {\"color\": \"#FF97FF\"}, \"name\": \"Sue Grafton\", \"offsetgroup\": \"Sue Grafton\", \"orientation\": \"h\", \"showlegend\": true, \"textposition\": \"auto\", \"type\": \"bar\", \"x\": [2690], \"xaxis\": \"x\", \"y\": [\"Sue Grafton\"], \"yaxis\": \"y\"}, {\"alignmentgroup\": \"True\", \"hovertemplate\": \"value=%{y}<br>count=%{x}<extra></extra>\", \"legendgroup\": \"Nora Roberts\", \"marker\": {\"color\": \"#FECB52\"}, \"name\": \"Nora Roberts\", \"offsetgroup\": \"Nora Roberts\", \"orientation\": \"h\", \"showlegend\": true, \"textposition\": \"auto\", \"type\": \"bar\", \"x\": [5368], \"xaxis\": \"x\", \"y\": [\"Nora Roberts\"], \"yaxis\": \"y\"}],                        {\"barmode\": \"relative\", \"height\": 700, \"legend\": {\"title\": {\"text\": \"value\"}, \"tracegroupgap\": 0}, \"template\": {\"data\": {\"bar\": [{\"error_x\": {\"color\": \"#2a3f5f\"}, \"error_y\": {\"color\": \"#2a3f5f\"}, \"marker\": {\"line\": {\"color\": \"#E5ECF6\", \"width\": 0.5}}, \"type\": \"bar\"}], \"barpolar\": [{\"marker\": {\"line\": {\"color\": \"#E5ECF6\", \"width\": 0.5}}, \"type\": \"barpolar\"}], \"carpet\": [{\"aaxis\": {\"endlinecolor\": \"#2a3f5f\", \"gridcolor\": \"white\", \"linecolor\": \"white\", \"minorgridcolor\": \"white\", \"startlinecolor\": \"#2a3f5f\"}, \"baxis\": {\"endlinecolor\": \"#2a3f5f\", \"gridcolor\": \"white\", \"linecolor\": \"white\", \"minorgridcolor\": \"white\", \"startlinecolor\": \"#2a3f5f\"}, \"type\": \"carpet\"}], \"choropleth\": [{\"colorbar\": {\"outlinewidth\": 0, \"ticks\": \"\"}, \"type\": \"choropleth\"}], \"contour\": [{\"colorbar\": {\"outlinewidth\": 0, \"ticks\": \"\"}, \"colorscale\": [[0.0, \"#0d0887\"], [0.1111111111111111, \"#46039f\"], [0.2222222222222222, \"#7201a8\"], [0.3333333333333333, \"#9c179e\"], [0.4444444444444444, \"#bd3786\"], [0.5555555555555556, \"#d8576b\"], [0.6666666666666666, \"#ed7953\"], [0.7777777777777778, \"#fb9f3a\"], [0.8888888888888888, \"#fdca26\"], [1.0, \"#f0f921\"]], \"type\": \"contour\"}], \"contourcarpet\": [{\"colorbar\": {\"outlinewidth\": 0, \"ticks\": \"\"}, \"type\": \"contourcarpet\"}], \"heatmap\": [{\"colorbar\": {\"outlinewidth\": 0, \"ticks\": \"\"}, \"colorscale\": [[0.0, \"#0d0887\"], [0.1111111111111111, \"#46039f\"], [0.2222222222222222, \"#7201a8\"], [0.3333333333333333, \"#9c179e\"], [0.4444444444444444, \"#bd3786\"], [0.5555555555555556, \"#d8576b\"], [0.6666666666666666, \"#ed7953\"], [0.7777777777777778, \"#fb9f3a\"], [0.8888888888888888, \"#fdca26\"], [1.0, \"#f0f921\"]], \"type\": \"heatmap\"}], \"heatmapgl\": [{\"colorbar\": {\"outlinewidth\": 0, \"ticks\": \"\"}, \"colorscale\": [[0.0, \"#0d0887\"], [0.1111111111111111, \"#46039f\"], [0.2222222222222222, \"#7201a8\"], [0.3333333333333333, \"#9c179e\"], [0.4444444444444444, \"#bd3786\"], [0.5555555555555556, \"#d8576b\"], [0.6666666666666666, \"#ed7953\"], [0.7777777777777778, \"#fb9f3a\"], [0.8888888888888888, \"#fdca26\"], [1.0, \"#f0f921\"]], \"type\": \"heatmapgl\"}], \"histogram\": [{\"marker\": {\"colorbar\": {\"outlinewidth\": 0, \"ticks\": \"\"}}, \"type\": \"histogram\"}], \"histogram2d\": [{\"colorbar\": {\"outlinewidth\": 0, \"ticks\": \"\"}, \"colorscale\": [[0.0, \"#0d0887\"], [0.1111111111111111, \"#46039f\"], [0.2222222222222222, \"#7201a8\"], [0.3333333333333333, \"#9c179e\"], [0.4444444444444444, \"#bd3786\"], [0.5555555555555556, \"#d8576b\"], [0.6666666666666666, \"#ed7953\"], [0.7777777777777778, \"#fb9f3a\"], [0.8888888888888888, \"#fdca26\"], [1.0, \"#f0f921\"]], \"type\": \"histogram2d\"}], \"histogram2dcontour\": [{\"colorbar\": {\"outlinewidth\": 0, \"ticks\": \"\"}, \"colorscale\": [[0.0, \"#0d0887\"], [0.1111111111111111, \"#46039f\"], [0.2222222222222222, \"#7201a8\"], [0.3333333333333333, \"#9c179e\"], [0.4444444444444444, \"#bd3786\"], [0.5555555555555556, \"#d8576b\"], [0.6666666666666666, \"#ed7953\"], [0.7777777777777778, \"#fb9f3a\"], [0.8888888888888888, \"#fdca26\"], [1.0, \"#f0f921\"]], \"type\": \"histogram2dcontour\"}], \"mesh3d\": [{\"colorbar\": {\"outlinewidth\": 0, \"ticks\": \"\"}, \"type\": \"mesh3d\"}], \"parcoords\": [{\"line\": {\"colorbar\": {\"outlinewidth\": 0, \"ticks\": \"\"}}, \"type\": \"parcoords\"}], \"pie\": [{\"automargin\": true, \"type\": \"pie\"}], \"scatter\": [{\"marker\": {\"colorbar\": {\"outlinewidth\": 0, \"ticks\": \"\"}}, \"type\": \"scatter\"}], \"scatter3d\": [{\"line\": {\"colorbar\": {\"outlinewidth\": 0, \"ticks\": \"\"}}, \"marker\": {\"colorbar\": {\"outlinewidth\": 0, \"ticks\": \"\"}}, \"type\": \"scatter3d\"}], \"scattercarpet\": [{\"marker\": {\"colorbar\": {\"outlinewidth\": 0, \"ticks\": \"\"}}, \"type\": \"scattercarpet\"}], \"scattergeo\": [{\"marker\": {\"colorbar\": {\"outlinewidth\": 0, \"ticks\": \"\"}}, \"type\": \"scattergeo\"}], \"scattergl\": [{\"marker\": {\"colorbar\": {\"outlinewidth\": 0, \"ticks\": \"\"}}, \"type\": \"scattergl\"}], \"scattermapbox\": [{\"marker\": {\"colorbar\": {\"outlinewidth\": 0, \"ticks\": \"\"}}, \"type\": \"scattermapbox\"}], \"scatterpolar\": [{\"marker\": {\"colorbar\": {\"outlinewidth\": 0, \"ticks\": \"\"}}, \"type\": \"scatterpolar\"}], \"scatterpolargl\": [{\"marker\": {\"colorbar\": {\"outlinewidth\": 0, \"ticks\": \"\"}}, \"type\": \"scatterpolargl\"}], \"scatterternary\": [{\"marker\": {\"colorbar\": {\"outlinewidth\": 0, \"ticks\": \"\"}}, \"type\": \"scatterternary\"}], \"surface\": [{\"colorbar\": {\"outlinewidth\": 0, \"ticks\": \"\"}, \"colorscale\": [[0.0, \"#0d0887\"], [0.1111111111111111, \"#46039f\"], [0.2222222222222222, \"#7201a8\"], [0.3333333333333333, \"#9c179e\"], [0.4444444444444444, \"#bd3786\"], [0.5555555555555556, \"#d8576b\"], [0.6666666666666666, \"#ed7953\"], [0.7777777777777778, \"#fb9f3a\"], [0.8888888888888888, \"#fdca26\"], [1.0, \"#f0f921\"]], \"type\": \"surface\"}], \"table\": [{\"cells\": {\"fill\": {\"color\": \"#EBF0F8\"}, \"line\": {\"color\": \"white\"}}, \"header\": {\"fill\": {\"color\": \"#C8D4E3\"}, \"line\": {\"color\": \"white\"}}, \"type\": \"table\"}]}, \"layout\": {\"annotationdefaults\": {\"arrowcolor\": \"#2a3f5f\", \"arrowhead\": 0, \"arrowwidth\": 1}, \"coloraxis\": {\"colorbar\": {\"outlinewidth\": 0, \"ticks\": \"\"}}, \"colorscale\": {\"diverging\": [[0, \"#8e0152\"], [0.1, \"#c51b7d\"], [0.2, \"#de77ae\"], [0.3, \"#f1b6da\"], [0.4, \"#fde0ef\"], [0.5, \"#f7f7f7\"], [0.6, \"#e6f5d0\"], [0.7, \"#b8e186\"], [0.8, \"#7fbc41\"], [0.9, \"#4d9221\"], [1, \"#276419\"]], \"sequential\": [[0.0, \"#0d0887\"], [0.1111111111111111, \"#46039f\"], [0.2222222222222222, \"#7201a8\"], [0.3333333333333333, \"#9c179e\"], [0.4444444444444444, \"#bd3786\"], [0.5555555555555556, \"#d8576b\"], [0.6666666666666666, \"#ed7953\"], [0.7777777777777778, \"#fb9f3a\"], [0.8888888888888888, \"#fdca26\"], [1.0, \"#f0f921\"]], \"sequentialminus\": [[0.0, \"#0d0887\"], [0.1111111111111111, \"#46039f\"], [0.2222222222222222, \"#7201a8\"], [0.3333333333333333, \"#9c179e\"], [0.4444444444444444, \"#bd3786\"], [0.5555555555555556, \"#d8576b\"], [0.6666666666666666, \"#ed7953\"], [0.7777777777777778, \"#fb9f3a\"], [0.8888888888888888, \"#fdca26\"], [1.0, \"#f0f921\"]]}, \"colorway\": [\"#636efa\", \"#EF553B\", \"#00cc96\", \"#ab63fa\", \"#FFA15A\", \"#19d3f3\", \"#FF6692\", \"#B6E880\", \"#FF97FF\", \"#FECB52\"], \"font\": {\"color\": \"#2a3f5f\"}, \"geo\": {\"bgcolor\": \"white\", \"lakecolor\": \"white\", \"landcolor\": \"#E5ECF6\", \"showlakes\": true, \"showland\": true, \"subunitcolor\": \"white\"}, \"hoverlabel\": {\"align\": \"left\"}, \"hovermode\": \"closest\", \"mapbox\": {\"style\": \"light\"}, \"paper_bgcolor\": \"white\", \"plot_bgcolor\": \"#E5ECF6\", \"polar\": {\"angularaxis\": {\"gridcolor\": \"white\", \"linecolor\": \"white\", \"ticks\": \"\"}, \"bgcolor\": \"#E5ECF6\", \"radialaxis\": {\"gridcolor\": \"white\", \"linecolor\": \"white\", \"ticks\": \"\"}}, \"scene\": {\"xaxis\": {\"backgroundcolor\": \"#E5ECF6\", \"gridcolor\": \"white\", \"gridwidth\": 2, \"linecolor\": \"white\", \"showbackground\": true, \"ticks\": \"\", \"zerolinecolor\": \"white\"}, \"yaxis\": {\"backgroundcolor\": \"#E5ECF6\", \"gridcolor\": \"white\", \"gridwidth\": 2, \"linecolor\": \"white\", \"showbackground\": true, \"ticks\": \"\", \"zerolinecolor\": \"white\"}, \"zaxis\": {\"backgroundcolor\": \"#E5ECF6\", \"gridcolor\": \"white\", \"gridwidth\": 2, \"linecolor\": \"white\", \"showbackground\": true, \"ticks\": \"\", \"zerolinecolor\": \"white\"}}, \"shapedefaults\": {\"line\": {\"color\": \"#2a3f5f\"}}, \"ternary\": {\"aaxis\": {\"gridcolor\": \"white\", \"linecolor\": \"white\", \"ticks\": \"\"}, \"baxis\": {\"gridcolor\": \"white\", \"linecolor\": \"white\", \"ticks\": \"\"}, \"bgcolor\": \"#E5ECF6\", \"caxis\": {\"gridcolor\": \"white\", \"linecolor\": \"white\", \"ticks\": \"\"}}, \"title\": {\"x\": 0.05}, \"xaxis\": {\"automargin\": true, \"gridcolor\": \"white\", \"linecolor\": \"white\", \"ticks\": \"\", \"title\": {\"standoff\": 15}, \"zerolinecolor\": \"white\", \"zerolinewidth\": 2}, \"yaxis\": {\"automargin\": true, \"gridcolor\": \"white\", \"linecolor\": \"white\", \"ticks\": \"\", \"title\": {\"standoff\": 15}, \"zerolinecolor\": \"white\", \"zerolinewidth\": 2}}}, \"title\": {\"text\": \"Top Authors\"}, \"width\": 1000, \"xaxis\": {\"anchor\": \"y\", \"domain\": [0.0, 1.0], \"title\": {\"text\": \"count\"}}, \"yaxis\": {\"anchor\": \"x\", \"categoryarray\": [\"Nora Roberts\", \"Sue Grafton\", \"Rich Shapero\", \"Stephen King\", \"R. L. Stine\", \"Janet Evanovich\", \"Tom Clancy\", \"V.C. Andrews\", \"Mary Higgins Clark\", \"Alice Sebold\", \"Jack Canfield\", \"Ann M. Martin\", \"William Shakespeare\", \"Piers Anthony\", \"Anita Shreve\", \"Agatha Christie\", \"Lilian Jackson Braun\", \"Wally Lamb\", \"Anne Rice\", \"Terry Pratchett\", \"Carolyn Keene\", \"Faye Kellerman\", \"Jonathan Kellerman\", \"Anne McCaffrey\", \"Francine Pascal\", \"Rebecca Wells\", \"Catherine Coulter\", \"Debbie Macomber\", \"Jane Austen\", \"Tony Hillerman\", \"Barbara Kingsolver\", \"Clive Cussler\", \"Charles Dickens\", \"Alexander McCall Smith\", \"Johanna Lindsey\", \"Anne Perry\", \"Neil Gaiman\", \"Mercedes Lackey\", \"Douglas Adams\", \"Anita Diamant\", \"Orson Scott Card\", \"James Patterson\", \"Ann Rule\", \"Diana Palmer\", \"Margaret Weis\", \"Gregory Maguire\", \"R.L. Stine\", \"Christopher Pike\", \"Dean R. Koontz\", \"Isabel Allende\"], \"categoryorder\": \"array\", \"domain\": [0.0, 1.0], \"title\": {\"text\": \"value\"}}},                        {\"responsive\": true}                    ).then(function(){\n",
       "                            \n",
       "var gd = document.getElementById('00bc0271-927d-4c38-9677-af18807ea8fb');\n",
       "var x = new MutationObserver(function (mutations, observer) {{\n",
       "        var display = window.getComputedStyle(gd).display;\n",
       "        if (!display || display === 'none') {{\n",
       "            console.log([gd, 'removed!']);\n",
       "            Plotly.purge(gd);\n",
       "            observer.disconnect();\n",
       "        }}\n",
       "}});\n",
       "\n",
       "// Listen for the removal of the full notebook cells\n",
       "var notebookContainer = gd.closest('#notebook-container');\n",
       "if (notebookContainer) {{\n",
       "    x.observe(notebookContainer, {childList: true});\n",
       "}}\n",
       "\n",
       "// Listen for the clearing of the current output cell\n",
       "var outputEl = gd.closest('.output');\n",
       "if (outputEl) {{\n",
       "    x.observe(outputEl, {childList: true});\n",
       "}}\n",
       "\n",
       "                        })                };                });            </script>        </div>"
      ]
     },
     "metadata": {},
     "output_type": "display_data"
    }
   ],
   "source": [
    "cross_author_counts = merge_data['book_author'].value_counts().reset_index()\n",
    "cross_author_counts.columns = ['value', 'count']\n",
    "cross_author_counts['value'] = cross_author_counts['value']\n",
    "cross_author_counts = cross_author_counts.sort_values('count')\n",
    "fig = px.bar(cross_author_counts.tail(50), x=\"count\", y=\"value\", title='Top Authors', orientation='h', color='value',\n",
    "             width=1000, height=700)\n",
    "fig.show()\n",
    "#fig.write_image('images/top_authors_bar.jpg')"
   ]
  },
  {
   "cell_type": "code",
   "execution_count": 9,
   "metadata": {},
   "outputs": [
    {
     "ename": "OSError",
     "evalue": "[Errno 63] File name too long: 'images/The Hunger Games Harry Potter and the Philosopher\\'s Stone To Kill a Mockingbird The Great Gatsby The Fault in Our Stars The Hobbit or There and Back Again The Catcher in the Rye Angels & Demons  Pride and Prejudice The Kite Runner  Divergent Nineteen Eighty-Four Animal Farm: A Fairy Story Het Achterhuis: Dagboekbrieven 14 juni 1942 - 1 augustus 1944 Män som hatar kvinnor Catching Fire Harry Potter and the Prisoner of Azkaban  The Fellowship of the Ring Mockingjay Harry Potter and the Order of the Phoenix The Lovely Bones Harry Potter and the Chamber of Secrets Harry Potter and the Goblet of Fire Harry Potter and the Deathly Hallows The Da Vinci Code Harry Potter and the Half-Blood Prince Lord of the Flies  An Excellent conceited Tragedie of Romeo and Juliet Gone Girl The Help Of Mice and Men  Memoirs of a Geisha Fifty Shades of Grey O Alquimista The Giver The Lion, the Witch and the Wardrobe The Time Traveler\\'s Wife A Game of Thrones Eat, pray, love: one woman\\'s search for everything across Italy, India and Indonesia The Lightning Thief Little Women Jane Eyre The Notebook Water for Elephants The Book Thief Fahrenheit 451 New Moon (Twilight, #2) Where the Sidewalk Ends: The Poems and Drawings of Shel Silverstein Eclipse Eragon The Hitchhiker\\'s Guide to the Galaxy Brave New World Breaking Dawn The Secret Life of Bees The Adventures of Huckleberry Finn Charlotte\\'s Web The Curious Incident of the Dog in the Night-Time The Girl on the Train Wuthering Heights My Sister\\'s Keeper Slaughterhouse-Five, or The Children\\'s Crusade: A Duty-Dance with Death  Gone with the Wind A Thousand Splendid Suns The Perks of Being a Wallflower Insurgent Ender\\'s Game Frankenstein; or, The Modern Prometheus The Shining The Host Looking for Alaska Sense and Sensibility Holes The Devil Wears Prada Ὀδύσσεια Le Petit Prince The Glass Castle A Tale of Two Cities Jurassic Park The Giving Tree A Time to Kill Un di Velt Hot Geshvign Paper Towns The Princess Bride The Outsiders The Maze Runner Freakonomics: A Rogue Economist Explores the Hidden Side of Everything The Secret Garden Cien años de soledad The Picture of Dorian Gray Fifty Shades Freed Dracula Flickan som lekte med elden Fifty Shades Darker The Poisonwood Bible Me Talk Pretty One Day Where the Wild Things Are Le Comte de Monte-Cristo The Road Allegiant Bossypants A Walk to Remember Confessions of a Shopaholic Les Misérables A Clash of Kings The Memory Keeper\\'s Daughter Me Before You Catch-22 Tuesdays with Morrie Middlesex The Adventures of Tom Sawyer A Wrinkle in Time The Joy Luck Club The Handmaid\\'s Tale The Sisterhood of the Traveling Pants Lolita Wicked: The Life and Times of the Wicked Witch of the West Room The Tragicall Historie of Hamlet, Prince of Denmark Dune The Tipping Point: How Little Things Can Make a Big Difference Steve Jobs One Flew Over the Cuckoo\\'s Nest The Old Man and the Sea The Grapes of Wrath Anne of Green Gables A Storm of Swords Divine Secrets of the Ya-Ya Sisterhood Outlander The Scarlet Letter Miss Peregrine’s Home for Peculiar Children Luftslottet som sprängdes The Martian The Pillars of the Earth Unbroken: A World War II Story of Survival, Resilience, and Redemption Deception Point The Goldfinch Thirteen Reasons Why Girl with a Pearl Earring If I Stay The Red Tent The Sea of Monsters Dear John City of Ashes The Tragedy of Macbeth The Two Towers Something Borrowed Green Eggs and Ham Charlie and the Chocolate Factory The Battle of the Labyrinth Great Expectations The Return of the King L’Étranger The Lost Hero Eleanor & Park A Feast for Crows Matched American Gods The Stand The Last Song Digital Fortress Emma Анна Каренина A Clockwork Orange The Shack: Where Tragedy Confronts Eternity The Last Olympian It Преступление и наказание The Bell Jar Angela\\'s Ashes: A Memoir Siddhartha In Cold Blood Beautiful Creatures Clockwork Angel Matilda The Night Circus The Other Boleyn Girl Uglies A Dance with Dragons The Lord of the Rings Wild: From Lost to Found on the Pacific Crest Trail  Watchmen The Name of the Wind Outliers: The Story of Success Moby Dick; or, The Whale The Guernsey Literary and Potato Peel Pie Society Fight Club Dead Until Dark The Color Purple Marley & Me: Life and Love with the World\\'s Worst Dog Ten Little Niggers The Lost Symbol Hush, Hush Beautiful Disaster Interview with the Vampire The Selection One for the Money The Immortal Life of Henrietta Lacks The Silence of the Lambs Blink: The Power of Thinking Without Thinking Atonement Die Verwandlung The Titan\\'s Curse The Art of Racing in the Rain The Devil in the White City: Murder, Magic, and Madness at the Fair that Changed America Bared to You The Chronicles of Narnia A Child Called \"It\": One Child\\'s Courage to Survive The Bourne Identity Artemis Fowl East of Eden   Dark Places The Client The Nanny Diaries Alice\\'s Adventures in Wonderland Persuasion Elle s\\'appelait Sarah The Gunslinger El amor en los tiempos del cólera Speak The Husband\\'s Secret  Into Thin Air: A Personal Account of the Mt. Everest Disaster Running with Scissors World War Z: An Oral History of the Zombie War Inferno Number the Stars Along Came a Spider Misery Sharp Objects Bridge to Terabithia Marked The 7 Habits of Highly Effective People A Midsummer Night\\'s Dream Extremely Loud and Incredibly Close Wonder The Cat in the Hat Cinder The Cuckoo\\'s Calling Shiver Atlas Shrugged Three Cups of Tea  La sombra del viento The Scorch Trials How to Win Friends and Influence People Under the Tuscan Sun Big Little Lies Ella Enchanted The Sun Also Rises A Tree Grows In Brooklyn  Kiss the Girls The Nightingale Never Let Me Go PS, I Love You Rebecca Flowers for Algernon Como agua para chocolate Snow Flower and the Secret Fan The Godfather An Abundance of Katherines Foundation The Ocean at the End of the Lane A Light in the Attic Harry Potter and the Cursed Child, Parts One and Two Delirium The Pelican Brief Good Omens: The Nice and Accurate Prophecies of Agnes Nutter, Witch On the Road The Rosie Project The Lucky One The Fountainhead Watership Down Is Everyone Hanging Out Without Me? (And Other Concerns) Cutting for Stone The Voyage of the Dawn Treader Treasure Island The Son of Neptune  11/22/63 The Very Hungry Caterpillar Cat\\'s Cradle The Time Machine The Boy in the Striped Pyjamas Safe Haven I Know This Much Is True  Pet Sematary She\\'s Come Undone The Wise Man\\'s Fear Can You Keep a Secret? City of Fallen Angels Good in Bed The Thorn Birds The Graveyard Book The Light Between Oceans Tintenherz Who Moved My Cheese? A Walk in the Woods I Know Why the Caged Bird Sings Orphan Train City of Lost Souls Where\\'d You Go, Bernadette Neverwhere Nesnesitelná lehkost bytí A Prayer for Owen Meany White Oleander Legend Nineteen Minutes The Last Lecture The Eye of the World The Pact The magician\\'s nephew Still Alice Reflected in You James and the Giant Peach 1st To Die The Ultimate Hitchhiker\\'s Guide: Five Complete Novels and One Story One Day I Am Number Four Ἰλιάς The Casual Vacancy The Runaway Jury Eldest The Wonderful Wizard of Oz Prince Caspian: The Return to Narnia We Were Liars Salem\\'s Lot Fear and Loathing in Las Vegas: A Savage Journey to the Heart of the American Dream Clockwork Prince Yes Please The Tragedy of Othello, The Moor of Venice Beloved Graceling The Bad Beginning Im Westen nichts Neues Oh, the Places You\\'ll Go! And The Mountains Echoed Do Androids Dream of Electric Sheep? Oliver Twist Anna and the French Kiss How the Grinch Stole Christmas! V for Vendetta John Adams Odd Thomas The Subtle Knife Stargirl The Red Pyramid Stranger in a Strange Land Dress Your Family in Corduroy and Denim The BFG A Short History of Nearly Everything The Call of the Wild The Death Cure Stardust The Namesake A Discovery of Witches ノルウェイの森 [Noruwei no Mori] Where the Heart Is Will Grayson, Will Grayson A Million Little Pieces Frostbite Quiet: The Power of Introverts in a World that Can\\'t Stop Talking Island of the Blue Dolphins The Crucible Hatchet Mistborn : The Final Empire The Strange Case of Dr Jekyll and Mr Hyde The Lorax Greg Heffley\\'s Journal Throne of Glass Shadow Kiss For Whom the Bell Tolls Hotel on the Corner of Bitter and Sweet Das Parfum. Die Geschichte eines Mörders Fast Food Nation : The Dark Side of the All-American Meal  The Tales of Beedle the Bard Neuromancer A Farewell to Arms 孫子兵法 [Sūnzi bīngfǎ] Defending Jacob Breakfast of Champions Drawing on the Right Side of the Brain Bel Canto Guns, Germs, and Steel: The Fates of Human Societies Things Fall Apart The Undomestic Goddess The Five Love Languages: How to Express Heartfelt Commitment to Your Mate The Other Hand Evermore The Witches The Thirteenth Tale Spirit Bound Blood Promise Message in a Bottle The Paris Wife Complete Harry Potter Boxed Set The Elite Il nome della rosa Go Ask Alice A Confederacy of Dunces The Importance of Being Earnest The Mark of Athena The Colour of Magic 海辺のカフカ [Umibe no Kafuka] Red Dragon I, Robot Dark Lover Crescendo Before I Fall The God of Small Things The Invention of Wings What Alice Forgot A Brief History of Time: From the Big Bang to Black Holes Fall of Giants Under the Dome Snow Crash Just Listen Winnie-the-Pooh Before I Go to Sleep A Study in Scarlet Brisingr The Purpose Driven Life: What on Earth am I Here For? Betrayed: a House of Night Novel Storm Front Northanger Abbey The 5th Wave Cold Mountain If You Give a Mouse a Cookie Something Blue A Streetcar Named Desire The Historian Station Eleven En man som heter Ove Clockwork Princess The Good Earth Ways of Seeing Dragonfly in Amber The Hobbit The Brief Wondrous Life of Oscar Wao Their Eyes Were Watching God Fantastic Beasts and Where to Find Them I Am Malala: The Girl Who Stood Up for Education and Was Shot by the Taliban Mansfield Park …trotzdem Ja zum Leben sagen: Ein Psychologe erlebt das Konzentrationslager In the Woods The God Delusion Where She Went The World According to Garp Killing Floor The Life and Strange Surprising Adventures of Robinson Crusoe of York, Mariner Il Principe The Amber Spyglass Wizard\\'s First Rule The Kitchen House Franny and Zooey Choke Братья Карамазовы The City of Ember The Green Mile The Prophet Maus: A Survivor\\'s Tale : My Father Bleeds History Untamed: A House of Night Novel Speaker for the Dead Mere Christianity The Secret History A Heartbreaking Work of Staggering Genius The Clan of the Cave Bear Black Beauty Война и миръ American Psycho The Princess Diaries The No. 1 Ladies\\' Detective Agency  The Walking Dead, Vol. 1: Days Gone Bye 2001: A Space Odyssey Left Behind:  A Novel of the Earth\\'s Last Days The One The Hunger Games Box Set Nickel and Dimed: On (Not) Getting By in America Remember Me? The Great Hunt Post-Mortem:  A Mystery Introducing Dr. Kay Scarpetta The Complete Tales of Edgar Allan Poe The Hiding Place The Adventures of Sherlock Holmes The Prince of Tides The Amazing Adventures of Kavalier & Clay Perfect Chemistry Peter Pan Pretties ねじまき鳥クロニクル [Nejimakidori kuronikuru] The Lincoln Lawyer  Cloud Atlas The Things They Carried Wall and Piece Pandemonium Darkly Dreaming Dexter Living Dead in Dallas The Dragon Reborn  Gulliver’s Travels Much Ado About Nothing Beowulf Batman: Year One Go Set a Watchman When You Are Engulfed in Flames Daughter of Smoke & Bone Red Queen The Power of Habit Midnight in the Garden of Good and Evil Hopeless A Little Princess The Truth About Forever The horse and his boy Last Sacrifice  Little House on the Prairie The Velveteen Rabbit Zen and the Art of Motorcycle Maintenance The War of the Worlds Pretty Little Liars Corduroy The Omnivore\\'s Dilemma Life After Life The Rescue Voyager Cujo The Virgin Suicides Dead to the World Tess of the d\\'Urbervilles: A Pure Woman Faithfully Presented Madame Bovary The Phantom Tollbooth The Way of Kings Club Dead It\\'s Kind of a Funny Story After You The Language of Flowers Batman: The Dark Knight Returns The Angel Experiment High Fidelity Oryx and Crake Men Are from Mars, Women Are from Venus Book of Days: 365 Inspirations to Enrich Your Relationships Kitchen Confidential: Adventures in the Culinary Underbelly Timeline Candide Tuck Everlasting Christine Are You My Mother? The Story of Art Rich Dad , Poor Dad Silence  The Magicians デスノート #1 (Desu Nōto) Taikutsu (退屈) A Great and Terrible Beauty Everything Is Illuminated The Bourne Supremacy Easy David Copperfield The Absolutely True Diary of a Part-Time Indian Мастер и Маргарита A Wizard of Earthsea Because of Winn-Dixie A Separate Peace The Rainmaker Don Quijote de La Mancha Assassin\\'s Apprentice The Restaurant at the End of the Universe Torment The Tale of Peter Rabbit The Silver Chair The Hero of Ages Girl, Interrupted Jonathan Livingston Seagull City of Heavenly Fire Love You Forever Cell The Boys in the Boat: Nine Americans and Their Epic Quest for Gold at the 1936 Berlin Olympics The Silmarillion The Drawing of the Three The Forgotten Garden Der Prozeß This Lullaby Plain Truth Orange Is the New Black: My Year in a Women\\'s Prison The Hound of the Baskervilles Thinking, Fast and Slow The Mists of Avalon Are You There God? It\\'s Me, Margaret Nights in Rodanthe Mr. Mercedes All Together Dead Midwives The Polar Express The True Story of the Three Little Pigs Patriot Games Veronika decide morrer Lean In: Women, Work, and the Will to Lead Dead as a Doornail  Shatter Me (Shatter Me, #1) Starship Troopers I\\'ve Got Your Number Sofies Verden The Martian Chronicles A Visit From the Goon Squad Heidi The Last Battle World Without End Chosen: A House of Night Novel Slammed Beastly (Beastly, #1, Kendra Chronicles, #1) Tales of Caunterbury Baby Proof Inheritance いちきゅうはちよん [Ichi-Kyū-Hachi-Yon] Uncle Tom\\'s Cabin or Life Among the Lowly Le Fantôme de l\\'Opéra Definitely Dead (Sookie Stackhouse, #6) Ensaio Sobre a Cegueira Freedom Crossed I\\'d Tell You I Love You, But Then I\\'d Have to Kill You The White Tiger The Corrections Dreams from My Father Congo Alexander and the Terrible, Horrible, No Good, Very Bad Day Interpreter of Maladies A People\\'s History of the United States: 1492 to Present  Breakfast at Tiffany\\'s The Passage Anansi Boys Along for the Ride Everything I Never Told You La casa de los espíritus The Dead Zone The Mysterious Affair at Styles Murder in the Calais Coach Americanah Suzanne\\'s Diary for Nicholas Firestarter Entwined with You Born to Run: A Hidden Tribe, Superathletes, and the Greatest Race the World Has Never Seen The Storied Life of A.J. Fikry Mad About Madeline Think and Grow Rich Little House In The Big Woods Jonathan Strange & Mr Norrell A Bend in the Road The House of Hades 1776 Under the Banner of Heaven: A Story of Violent Faith Beautiful Ruins The Audacity of Hope: Thoughts on Reclaiming the American Dream On Writing: A Memoir of the Craft Firefly Lane Sphere Love the One You\\'re With The Silkworm The Vampire Lestat State of Wonder The Silver Linings Playbook Vingt Mille Lieues Sous les Mers The Constant Princess Mrs Dalloway Hundraåringen som klev ut genom fönstret och försvann Bag of Bones The Cider House Rules Thinner Le tour du monde en quatre-vingts jours Walk Two Moons Onze minutos Nine Stories Julie & Julia: 365 Days, 524 Recipes, 1 Tiny Apartment Kitchen Unwind Drums of Autumn (Outlander, #4) Prodigy The Tragedie of King Lear Death of a Salesman The Choice The Sound and the Fury A New Earth: Awakening to Your Life\\'s Purpose BLEACH―ブリーチ―\\u30001 The Shadow Rising  Shantaram From Dead to Worse The Waste Lands The Bone Collector Der Vorleser Brown Bear, Brown Bear, What Do You See? Hyperion The Pearl of the World The Exorcist The Short Second Life of Bree Tanner Snow Falling on Cedars Roots Batman: The Killing Joke  Invisible Man A Long Way Gone. Memoirs of a Boy Soldier Wool Omnibus Lamb: The Gospel According to Biff, Christ\\'s Childhood Pal The Power of Now Let\\'s Pretend This Never Happened (A Mostly True Memoir) The Lies of Locke Lamora Sabriel Dead and Gone The Storyteller Obsidian Life, the Universe and Everything Crown of Midnight Scott Pilgrim, Volume 1: Scott Pilgrim\\'s Precious Little Life Half Broke Horses: A True Life Novel Mort The Iron King (The Iron Fey, #1)  Lonesome Dove Stiff: The Curious Lives of Human Cadavers Bloodlines Ender\\'s Shadow Twenties Girl Schindler\\'s Ark The Bluest Eye The White Queen The Autobiography of Malcolm X Preludes & Nocturnes Seabiscuit Shutter Island The Complete Sherlock Holmes The Tragedy of Julius Caesar In the Garden of Beasts: Love, Terror, and an American Family in Hitler\\'s Berlin Πολιτεία The Taming of the Shrew Cress Just Kids Jemima J Notre-Dame de Paris A Fine Balance Calvin and Hobbes Specials For One More Day Clear and Present Danger Falling Up Trainspotting Foundation and Empire House Rules Brüder Grimm: Kinder- und Hausmärchen From the Mixed-Up Files of Mrs. Basil E. Frankweiler Doctor Sleep About a Boy On Dublin Street Crazy Love: Overwhelmed by a Relentless God The Story of My Life This Is Where I Leave You Abraham Lincoln: Vampire Hunter フルーツバスケット 1 The Tempest Burned: A House of Night Novel Wizard and Glass The Circle The Invention of Hugo Cabret Brave New World/Brave New World Revisited 桜蘭高校ホスト部 1 The Good Girl Fallen Too Far (Too Far, #1) Landline Tempted No Country for Old Men Wolf Hall Howl\\'s Moving Castle Dreamcatcher Walden; or Life in the Woods The Remains of the Day The Best of Me The Sense of an Ending A is for Alibi Οἰδίπους Τύραννος Shanghai Girls The Wind in the Willows To All the Boys I\\'ve Loved Before A Room with a View The DUFF: Designated Ugly Fat Friend Lock and Key Naked in Death The Chamber Midnight Sun (Partial Draft) NARUTO -ナルト- 巻ノ一  The Unlikely Pilgrimage of Harold Fry Every Day Xenocide The Merchant of Venice Shōgun Lover Awakened (Black Dagger Brotherhood, #3) A Court of Thorns and Roses Chicka Chicka Boom Boom Smile  Animal Farm & 1984 The Deep End of the Ocean The Bonesetter\\'s Daughter Angus, Thongs and Full-Frontal Snogging Mr. Penumbra\\'s 24-Hour Bookstore Flowers in the Attic When Breath Becomes Air Maniac Magee Invisible Monsters Twelfth Night; or, What You Will Gathering Blue The Westing Game Red Rising The Way of Shadows The Bean Trees Walking Disaster Words of Radiance Guess How Much I Love You The Fiery Cross Night Shift Jaws The History of Love Pippi Långstrump L\\'élégance du hérisson Team of Rivals: The Political Genius of Abraham Lincoln Dead in the Family La peste The Reptile Room Brain on Fire Wicked Lovely  Curious George Die unendliche Geschichte A Beautiful Mind The Jungle The Summoning The Man Who Mistook His Wife for a Hat and Other Clinical Tales Storm Island The Blind Assassin Hollow City House of Sand and Fog The Girl with All the Gifts As I Lay Dying Harold and the Purple Crayon Lover Eternal (Black Dagger Brotherhood, #2) Fool Moon  David and Goliath 鋼の錬金術師 1 Guards! Guards! The Year of Magical Thinking We Need to Talk About Kevin Rendezvous with Rama The Queen of the Damned The Age of Innocence The Selfish Gene Year of Wonders: A Novel of the Plague The Black Echo Anthem Gabriel\\'s Inferno Cloudy with a Chance of Meatballs Major Pettigrew\\'s Last Stand Vision in White The Tenth Circle The Throne of Fire Old Man\\'s War Gerald\\'s Game Two for the Dough The Forever War Insomnia Reading Lolita in Tehran: A Memoir in Books The Blade Itself The Arctic Incident The Shipping News 人生がときめく片づけの魔法 All the Bright Places Déjà Dead The Alchemyst: The Secrets of The Immortal Nicholas Flamel The Marriage Plot Hija de la fortuna Luckiest Girl Alive Crank (Crank, #1) The Raven Boys I Am Legend and Other Stories Olive Kitteridge Not that Kind of Girl Good to Great: Why Some Companies Make the Leap... and Others Don\\'t Fire En attendant Godot White Fang Wolves of the Calla His Dark Materials The Edge of Never Reconstructing Amelia The One Plus One The Hours Wallbanger Holidays on Ice Desperation Passion The Kill Order Angelfall Empire Falls The Fires of Heaven I\\'ll Give You the Sun Survivor Shopaholic and Baby The Dark Tower Twilight Director\\'s Notebook Shopaholic Abroad Surely You\\'re Joking, Mr. Feynman! Adventures of a Curious Character Linger A Portrait of the Artist as a Young Man The Gathering Storm Middlemarch Point of Retreat The Hobbit and The Lord of the Rings Thoughtless The Dark Half Cleopatra: A Life The World Is Flat: A Brief History of the Twenty-first Century Steelheart Voyage au centre de la Terre The Happiness Project The Man in the High Castle Helter Skelter: The True Story of The Manson Murders Shadow of Night Leaving Time Moon Called Blue Bloods The Alienist Between the World and Me Paradise Lost The Big Short: Inside the Doomsday Machine  A Monster Calls  Towers of Midnight The Day of the Jackal Rework Attachments Tell the Wolves I\\'m Home All Creatures Great And Small The Unbecoming of Mara Dyer Three to Get Deadly The Scarlet Pimpernel The Monster at the End of This Book Tales of a Fourth Grade Nothing Shadow and Bone Het diner Champion Contact Lola and the Boy Next Door White Teeth American Sniper: The Autobiography of the Most Lethal Sniper in U.S. Military History My Horizontal Life: A Collection of One-Night Stands The Power of Six The Interestings The Essential Calvin and Hobbes: A Calvin and Hobbes Treasury People of the Book So Long, and Thanks for All the Fish Der Steppenwolf: Erzählung The Surgeon The Girl You Left Behind Royal Assassin Childhood\\'s End  The Tale of Despereaux Animal, Vegetable, Miracle: A Year of Food Life Heir of Fire The Sweetness at the Bottom of the Pie Blue Like Jazz: Nonreligious Thoughts on Christian Spirituality A Breath of Snow and Ashes The Blood of Olympus Truly Madly Guilty Saga, Volume One The Art of Fielding A Moveable Feast Fablehaven The Wide Window Grave Peril Einstein. His Life and Universe Effortless The Street Lawyer Roll of Thunder, Hear My Cry Pride and Prejudice and Zombies Lets Explore Diabetes with Owls Идиот Dirk Gently\\'s Holistic Detective Agency Rodrick Rules Why Not Me? Four: A Divergent Collection Modern Romance The One and Only Ivan The Perfect Storm: A True Story of Men Against the Sea Elantris The Knife of Never Letting Go One Thousand White Women: The Journals of May Dodd Handle with Care Song of Susannah Midnight\\'s Children The Zombie Survival Guide: Complete Protection from the Living Dead Murder at the Vicarage Among the Hidden  In Defense of Food: An Eater\\'s Manifesto The Witch of Blackbird Pond The Heir Shopaholic Ties the Knot The Woman in White Career of Evil The Summer I Turned Pretty Four to Score  The Color of Water: A Black Man\\'s Tribute to His White Mother SuperFreakonomics: Global Cooling, Patriotic Prostitutes, and Why Suicide Bombers Should Buy Life Insurance Darkfever Stone of Tears Heart of the Matter Vanity Fair: A Novel Without a Hero The Sirens of Titan Dolores Claiborne The Nest Fables, Volume 1: Legends in Exile Getting Things Done: How To Achieve Stress-free Productivity The Celestine Prophecy My Life Next Door  Winter of the World 色彩を持たない多崎つくると、彼の巡礼の年 [Shikisai o motanai Tazaki Tsukuru to, kare no junrei no toshi] To The Lighthouse  Five Point Someone: What Not to Do at IIT Guilty Pleasures Far from the Madding Crowd Equal Rites House of Leaves Cruel & Unusual Sycamore Row Awakened My Ántonia Life As We Knew It America (The Book): A Citizen\\'s Guide to Democracy Inaction The Longest Ride 道德經 [dào dé jīng] Kane and Abel Change of Heart Dry: A Memoir Grey Dune Messiah  The Great Divorce Eventyr og historier New Moon: The Complete Illustrated Movie Companion Maybe Someday Mr Maybe Anne of the Island Also sprach Zarathustra A Stolen Life The Immortals of Meluha The Lost World Requiem A Crown of Swords Aesopica Blood Meridian: Or the Evening Redness in the West Finale Skeleton Crew Two States ヴァンパイア騎士 1 Summer Knight Dragonflight The History of the Hobbit, Part One: Mr. Baggins Ugly Love Chocolat The Amityville Horror Gabriel\\'s Rapture Dubliners Let the Great World Spin The Eternity Code Tell No One The Tommyknockers Hex Hall Steal Like an Artist Cryptonomicon Beautiful Bastard Prodigal Summer We Were the Mulvaneys Understanding Comics: The Invisible Art Beautiful Darkness The Psychopath Test Vanishing Acts Absolute Power Hot Six The Time Keeper A Dirty Job Moneyball: The Art of Winning an Unfair Game The Amulet of Samarkand I Am America (And So Can You!) The One Minute Manager Exodus Stones from the River The Big Sleep Cannery Row  Seriously...I\\'m Kidding The Miserable Mill The Snow Child Wait for You The Last Straw La Divina Commedia The Tao of Pooh Onyx Unravel Me (Shatter Me, #2) The Birth of Venus The Opal Deception Det som inte dödar oss The Goose Girl Mystic River The Prince and the Pauper The Moon is a Harsh Mistress The Forty Rules of Love High Five Joyland 進撃の巨人 1 Tender Is the Night The Glass Menagerie L\\'amica geniale The 4-Hour Workweek: Escape 9-5, Live Anywhere, and Join the New Rich The Monk Who Sold His Ferrari: A Fable About Fulfilling Your Dreams & Reaching Your Destiny Rules of Civility Ringworld Between Shades of Gray Frindle Dog Days The Round House A Wind in the Door Free Four: Tobias Tells the Divergent Story A Little Life Y: The Last Man, Vol. 1: Unmanned The Alloy of Law Dead Reckoning The Accidental Tourist The Invisible Man 世界の終りとハードボイルド・ワンダーランド [Sekai no owari to hādoboirudo wandārando] Na margem do rio Piedra eu sentei e chorei Der Schweizerische Robinson The Marriage Bargain Anne of Avonlea The Little Engine That Could We Are All Completely Beside Ourselves Children of the Mind Ulysses Someone Like You Moloka\\'i The Witching Hour This Present Darkness The Coincidence of Callie & Kayden Fates and Furies Stuart Little The Foundation Trilogy The Elegant Universe: Superstrings, Hidden Dimensions, and the Quest for the Ultimate Theory The Austere Academy Seven Up Death Masks Stellaluna Before They Are Hanged Loving Frank Hard Eight The Vile Village Sybil Cosmos Haunted: A Novel of Stories The Shell Seekers What Is the What: The Autobiography of Valentino Achak Deng Crónica de una muerte anunciada Killing Lincoln: The Shocking Assassination that Changed America Forever The Lowland The Ruins of Gorlan Wintergirls Assassin\\'s Quest Rosemary\\'s Baby The Talisman The Path of Daggers The Dharma Bums The Reckoning Behind the Beautiful Forevers: Life, Death, and Hope in a Mumbai Undercity Mary Poppins Red Seas Under Red Skies The House on Mango Street City of Thieves Halfway to the Grave The Twits Abhorsen Eyes of the Dragon Children of Dune Leviathan Wakes Queen of Shadows Maus II : And Here My Troubles Began  The Snowy Day To the Nines Where We Belong The Hot Zone: The Terrifying True Story of the Origins of the Ebola Virus スプートニクの恋人 [Supūtoniku no Koibito] The Signature of All Things Eats, Shoots and Leaves Dead Witch Walking An Echo in the Bone Unearthly Knife of Dreams Hoot Æneis This is How You Lose Her アフターダーク [Afutā dāku] Ishmael: An Adventure of the Mind and Spirit It\\'s Not Summer Without You Pushing the Limits Quidditch Through the Ages Miss Nelson Is Missing! The Long Walk The Ersatz Elevator Messenger  Lover Revealed \\'Salem\\'s Lot The Illustrated Edition The Mysterious Benedict Society God is Not Great: How Religion Poisons Everything Never Too Far (Too Far, #2) State of Fear The Statistical Probability of Love at First Sight The Golem\\'s Eye Still Life with Woodpecker Those Who Save Us The Broker Across the Universe The Road Less Traveled:  A New Psychology of Love, Traditional Values, and Spiritual Growth Blood Rites The Boxcar Children The Silent Wife How to Be a Woman A Court of Mist and Fury Life Unaccustomed Earth The Pilot\\'s Wife White Noise Band of Brothers: E Company, 506th Regiment, 101st Airborne from Normandy to Hitler\\'s Eagle\\'s Nest On the Origin of Species by Means of Natural Selection or the Preservation of Favoured Races in the Struggle for Life Blankets The Story of Edgar Sawtelle Drowning Ruth Post Office All the Pretty Horses One Piece, Volume 01 The Last Unicorn Magyk Fever 1793 The Likeness Dead Wake: The Last Crossing of the Lusitania The Jungle Book I Am Pilgrim Howl and Other Poems  Don\\'t Sweat the Small Stuff Go the Fuck to Sleep Mostly Harmless Benjamin Franklin: An American Life The Tiger\\'s Wife Poison Study Lover Unbound Going Postal The Book of Mormon The Mist Dead Beat Golden Son Night Watch The Light Fantastic What the Dog Saw and Other Adventures Pretty Girls Last Argument of Kings Revival Horton Hears a Who! The Blind Side: Evolution of a Game Lirael School\\'s Out Forever 黒執事 I [Kuroshitsuji I] Winter The Strange Case of Dr. Jekyll and Mr. Hyde and Other Tales of Terror  The Painted Man One Shot The Serpent\\'s Shadow Duma Key The Shifting Fog Proven Guilty Записки из подполья The Heart is a Lonely Hunter The Infinite Sea The Once and Future King Small Gods Bud, Not Buddy Predictably Irrational: The Hidden Forces that Shape Our Decisions الفيل الأزرق The Indian in the Cupboard A Memory of Light Me and Earl and the Dying Girl The Ugly Truth The Surgeon of Crowthorne: a tale of murder, madness & the love of words 2nd Chance The Complete Maus The Eyre Affair Anne Rice\\'s The Vampire Lestat: The Graphic Novel The Art of Happiness: A Handbook for Living The Bone Clocks Black and Blue The Last Juror Diary Eleven on Top Tintenblut Sex, Drugs, and Cocoa Puffs: A Low Culture Manifesto Brideshead Revisited: The Sacred and Profane Memories of Captain Charles Ryder White Night The Miniaturist Dragons of Autumn Twilight The Lost Colony Extras The Burning Bridge The Book of Life The Artist\\'s Way: A Spiritual Path to Higher Creativity The Stinky Cheese Man and Other Fairly Stupid Tales Horns Catherine the Great: Portrait of a Woman The Year of the Flood Winter Garden The King of Torts Lone Survivor: The Eyewitness Account of Operation Redwing and the Lost Heroes of SEAL Team 10 The 3 Mistakes of My Life The Murder of Roger Ackroyd Native Son  Shadow\\'s Edge Under the Never Sky True Believer The Lean Startup\\u200e The Golden Lily Chasing Harry Winston The Rise and Fall of the Third Reich: A History of Nazi Germany A Long Way Down Out from Boneville Rose Madder Die Trying (Jack Reacher, #2) Beautiful Chaos Heart-Shaped Box Cabin Fever Everyone Worth Knowing Redwall Manifest der Kommunistischen Partei The Woman in Cabin 10 The Last of the Mohicans: A Narrative of 1757 Sophie\\'s Choice Shopaholic and Sister The Iron Daughter The Prayer of Jabez:  Breaking Through to the Blessed Life The Age of Miracles Have a Little Faith: A True Story My Life in France The Rosie Effect The Secret of the Nagas. Flipped Relic Notes from a Small Island Small Favor The Walking Dead Compendium Volume 1 Princess Academy Everything, Everything Pygmalion Flight Behavior Grip of the Shadow Plague Bridget Jones: The Edge of Reason Captain Corelli\\'s Mandolin At First Sight Down Under The Memoirs of Sherlock Holmes The Orphan Master\\'s Son Enchanters\\' End Game The Chosen The Agony and the Ecstasy: A Biographical Novel of Michelangelo El juego del ángel Where Rainbows End Amelia Bedelia This Man A Dog\\'s Purpose  An Ember in the Ashes Lover Enshrined, part one The Golem and the Jinni الأسود يليق بك The Slippery Slope Bleak House Caps for sale: a tale of a peddler, some monkeys and their monkey business Furies of Calderon  Alanna: The First Adventure Her Fearful Symmetry The Boston Girl Lover Enshrined, part two The Fall of Hyperion The Black Dahlia Through the Looking-Glass, and What Alice Found There Wild Swans: Three Daughters of China Go, Dog. Go! Finders Keepers The Strain The Complete Poems of Emily Dickinson Old Yeller Born Standing Up: A Comic\\'s Life A Storm of Swords: Part 2 Blood and Gold Hearts in Atlantis 羊をめぐる冒険 [Hitsujiwomegurubōken] The Queen\\'s Fool Days of Blood & Starlight Jitterbug Perfume The Battle for Skandia (Ranger\\'s Apprentice, #4) The Darkest Minds O Zahir The Power of Positive Thinking In a Dark, Dark Wood  The House of Mirth Fairy Tail 1 The Slow Regard of Silent Things Twelve Years a Slave Lover Avenged, part one In the Heart of the Sea: The Tragedy of the Whaleship Essex Infidel The Black Swan: The Impact of the Highly Improbable The Twelve Один день Ивана Денисовича The Diamond Age A Canticle for Leibowitz Ἀντιγόνη Brooklyn Wither Hillbilly Elegy. A Memoir of a Family and Culture in Crisis Crossroads of Twilight What If?: Serious Scientific Answers to Absurd Hypothetical Questions Gardens of the Moon A Bruxa de Portobello A Swiftly Tilting Planet Gregor the Overlander Sing You Home The Tale of the Body Thief The Camel Club Saving The World and Other Extreme Sports Blood of the Fold The Boleyn Inheritance A Spool of Blue Thread The Underground Railroad Masquerade The Iron Queen Losing It Disgrace The House at Pooh Corner The Black Prism The Mermaid Chair Frog and Toad Are Friends The Carnivorous Carnival Heist Society Behind Closed Doors The Killer Angels Circus of the Damned (Anita Blake, Vampire Hunter, #3) Ptolemy\\'s Gate The Island of Dr. Moreau Out of My Mind Rapture Switched Доктор Живаго Death Comes to Pemberley Ethan Frome A Map of the World It Ends with Us The Gift of the Magi The Electric Kool-Aid Acid Test The Naked Lunch The Sandman: Dream Country A Painted House The Left Hand of Darkness Let It Snow: Three Holiday Romances Full Dark, No Stars Being Mortal: Medicine and What Matters in the End Intensity Chelsea Chelsea Bang Bang Et dukkehjem Hawaii Revolutionary Road Nick & Norah\\'s Infinite Playlist Rosencrantz and Guildenstern are Dead Forever The Beach Saving CeeCee Honeycutt Deadlocked Everything\\'s Eventual: 14 Dark Tales Airframe Bet Me Long Walk to Freedom: The Autobiography of Nelson Mandela Gray Mountain The Power of One The Maltese Falcon Night Road Tripwire Emotional Intelligence Changes Impulse Ivanhoe Ten Big Ones The Poet Paranormalcy Eclipse: The Official Illustrated Movie Companion The Shoemaker\\'s Wife 走ることについて語るときに僕の語ること [Hashiru koto ni tsuite kataru toki ni boku no kataru koto] We\\'ll Always Have Summer Open: An Autobiography Alex Rider: Stormbreaker Without Fail  A Voice in the Wind A Scanner Darkly  A Connecticut Yankee in King Arthur\\'s Court Batman: The Long Halloween La Nausée Fablehaven: Secrets of the Dragon Sanctuary (Fablehaven, #4) Twelve Sharp Wool The Tombs of Atuan Turn Coat The Sign of Four РУКАВИЧКА: Українська народна казка Memnoch The Devil The Magician: The Secrets of The Immortal Nicholas Flamel Click, Clack, Moo: Cows That Type Iron Kissed Anna Dressed in Blood The True Confessions of Charlotte Doyle A Reliable Wife Something Wicked This Way Comes Song of Solomon Peace Like a River Rant: An Oral Biography of Buster Casey Shadow of the Hegemon تراب الماس The Poky Little Puppy (a Little Golden Book) Tara Road The Call of the Wild / White Fang Ignite Me (Shatter Me, #3) Cross My Heart and Hope to Spy Blood Bound Cold Days The Friday Night Knitting Club All Things Bright and Beautiful Infinite Jest Tangled The Day of the Triffids The Sisters Brothers Secret Daughter Fantastic Mr Fox Brida A Room of One\\'s Own Warbreaker Sonnets What Happened to Goodbye Six of Crows 13 Little Blue Envelopes Same Kind of Different as Me Carry On Mountains Beyond Mountains: The Quest of Dr. Paul Farmer, a Man Who Would Cure the World Beneath This Man  Prince of Thorns The Book of Ruth Next Leaves of Grass Blue Dahlia Lady Chatterley\\'s Lover The Magician King Liar\\'s Poker: Rising Through the Wreckage on Wall Street Salem Falls Belgarath the Sorcerer The Great Dune Trilogy My Name Is Lucy Barton Garden Spells Narrative of the Life of Frederick Douglass He\\'s Just Not That Into You: The No-Excuses Truth to Understanding Guys Pawn of Prophecy Lean Mean Thirteen The Jungle Books Glass Houses The Dark Tower: The Gunslinger Born A Tale for the Time Being Rule  国境の南、太陽の西 [Kokkyō no minami, taiyō no nishi] Mother Night Influence: The Psychology of Persuasion Harriet the Spy The Paying Guests Forever Odd At Home: A Short History of Private Life Still Life The Kitchen God\\'s Wife Låt den rätte komma in The Rise of Nine The Second Summer of the Sisterhood Phantoms My Utmost for His Highest The Wee Free Men Written in My Own Heart\\'s Blood Nightshade Drachenreiter The Long Dark Tea-Time of the Soul Uprooted Seveneves Armada The Desert Spear The Man in the Brown Suit The Summons Endurance: Shackleton\\'s incredible voyage Size 12 Is Not Fat (Heather Wells, #1) Dark Matter Glass Sword When You Reach Me The Bonfire of the Vanities In the Unlikely Event Death on the Nile Shiloh Siege and Storm Rødstrupe (Harry Hole, #3)  Hide and Seek Goodnight Nobody The Death and Life of Charlie St. Cloud How to Stop Worrying and Start Living Born in Fire  Animal Dreams Reason to Breathe The Mortal Instruments Boxed Set: City of Bones; City of Ashes; City of Glass If Tomorrow Comes M.C. Escher: grafiek en tekeningen Pope Joan Birdsong Faith of the Fallen  (Sword of Truth, #6) Fablehaven: Keys to the Demon Prison (Fablehaven, #5) Moonwalking with Einstein: The Art and Science of Remembering Everything While I Was Gone 4th of July (Women\\'s Murder Club, #4) The Time Paradox Bitterblue The Sky Is Everywhere Wyrd Sisters Real NOS4A2 The Tenant of Wildfell Hall The Black Stallion Reckless The Grim Grotto Strega Nona Playing for Keeps Art & Fear: Observations on the Perils (and Rewards) of Artmaking Bitten Born at Midnight Don\\'t Let the Pigeon Drive the Bus The Dream Thieves The Portrait of a Lady The Yellow Wallpaper Before the Fall هيبتا The Calvin and Hobbes Tenth Anniversary Book Dreamland  The Art Forger Austenland Half of a Yellow Sun One Night @ The Call Center At the Water\\'s Edge The Running Man Gilead The Crying of Lot 49 Edge of Eternity Demonglass Ubik The Sword of Shannara Hannibal The Awakening and the Struggle Three Wishes Night World, No. 3 Fall on Your Knees The Scorpio Races Morning Star Mossflower Furiously Happy Visions of Sugar Plums Magician: Master (The Riftwar Saga, #2) On the Island Left Neglected Anne Frank Remembered Redshirts Sahara One Foot in the Grave The Last Anniversary Hunger  Fearless Fourteen Revolution 2020: Love, Corruption, Ambition A Bear Called Paddington Flawless Ramona Quimby, Age 8 The Hostile Hospital 犬夜叉 1 The Omen Blue Moon Child 44 These Is My Words: The Diary of Sarah Agnes Prine, 1881-1901, Arizona Territories The Hypnotist\\'s Love Story O Demônio e a Srta. Prym The Kissing Hand Shift Worth Dying For Look Me in the Eye: My Life with Asperger\\'s Fantasy Lover Sundays at Tiffany\\'s Perfect Match Prep Scar Tissue Alias Grace Captivated by You Illusions: The Adventures of a Reluctant Messiah Soulless Just One Day Wake The Emperor of All Maladies: A Biography of Cancer Glass (Crank, #2) Memoria de mis putas tristes Only Time Will Tell The Seven Spiritual Laws of Success: A Practical Guide to the Fulfillment of Your Dreams Magical Thinking: True Stories In the Hand of the Goddess Rubinrot Heir to the Empire Lioness Rampant Outbreak You Can Heal Your Life Die Henkerstochter (Band 1 aus der Reihe \"Die Henkerstochter-Saga) I Am Legend  Dealing with Dragons The Visitor Rules Of Prey Ashes to Ashes The Yiddish Policemen\\'s Union The Aviator\\'s Wife A Bad Case of Stripes The Affair The Elements of Style The Turn of the Screw Best Friends Forever Homeland The Mote in God\\'s Eye Snømannen (Harry Hole #7)  Stoner Wicked: The Grimmerie, a Behind-the-Scenes Look at the Hit Broadway Musical As You Like It Preacher Vol. 1: Gone to Texas Cyrano de Bergerac The Spirit Catches You and You Fall Down: A Hmong Child, Her American Doctors, and the Collision of Two Cultures Bone Crossed The Indigo Spell Dreamfever Case Histories Release Me (Stark Trilogy, #1) Wedding Night The Doll\\'s House Pollyanna Lone Wolf Nightmares & Dreamscapes  Shadowfever The Associate Son (The Giver, #4) The Sandman: Overture Blood Song Rules of Attraction The Merry Adventures of Robin Hood Less Than Zero The Book of Negroes كِتَاب أَلْف لَيْلَة وَلَيْلَة\\u200e\\u200e [kitāb ʾalf layla wa-layla] Faithful Place Euphoria Rachel\\'s Holiday The Caves of Steel ダンス・ダンス・ダンス [Dansu, dansu, dansu] The Mouse and the Motorcycle The Forest of Hands and Teeth The Elfstones Of Shannara Dash & Lily\\'s Book of Dares The Luminaries Velocity Barrel Fever: Stories and Essays Reaper Man Piercing the Darkness Made to Stick: Why Some Ideas Survive and Others Die Alive: The Story of the Andes Survivors On Beauty Battlefield of the Mind: Winning the Battle in Your Mind Dance Upon The Air Castle of Wizardry Lover Avenged, part two أحببتك أكثر مما ينبغى Heat Wave kindle paperwhite user\\'s guide 2nd edition Out of the Silent Planet If You Give a Pig a Pancake  The Wasp Factory Night Film Crazy Rich Asians Rebel Angels Bloodfever Faefever My Sister\\'s Grave Library of Souls  Howards End Hellboy: Seed of Destruction The Evolution of Mara Dyer The Sword of Summer Le Vicomte de Bragelonne, ou Dix ans plus tard The Haunting οf Hill House The Rum Diary Little Town on the Prairie I Capture the Castle Finger Lickin\\' Fifteen Women Silver Borne The Bourne Ultimatum Fool\\'s Errand The Young Elites Jewels of the Sun Τὰ εἰς ἑαυτόν  Peter and the Starcatchers Collapse: How Societies Chose to Fail or Succeed Possession Revelations Without Remorse The Penultimate Peril Notes from a Big Country The End The Liars\\' Club: A Memoir Dead Ever After The Illustrated Man Annihilation The Runaway Bunny The Grand Design The Innocent Man The Bachman Books Zealot: The Life and Times of Jesus of Nazareth Soul of the Fire Das Herzenhören Consider Phlebas The Magic of Thinking Big The Vampire Armand Forever Too Far (Too Far, #3) A Storm of Swords: Part 1 Steel and Snow Le avventure di Pinocchio Grave Mercy Tropic of Cancer The Hour I First Believed Harry Potter: Film Wizardry Смерть Ивана Ильича Circling the Sun Travels with Charley: In Search of America The Dovekeepers The Republic of Thieves Herr der Diebe World After Brother Odd Black Like Me Jack & Jill Saturday When the Bough Breaks The Bridges of Madison County Gone Tomorrow The Sorceress Bring Up the Bodies The Maze of Bones  How to Cook Everything: Simple Recipes for Great Food The Twilight Collection (Twilight, #1-3) Über das Geistige in der Kunst Forrest Gump La Chute Even Cowgirls Get the Blues The Moonstone Se una notte d\\'inverno un viaggiatore Son of a Witch On Chesil Beach \"M\" is for Malice Point of Origin Sarah, Plain and Tall عزازيل Bloodsucking Fiends Squirrel Seeks Chipmunk: A Modest Bestiary The Gifts of Imperfection Commonwealth The Van Alen Legacy  Blueberries for Sal Losing Hope Lisey\\'s Story Proof of Heaven: A Neurosurgeon\\'s Journey Into the Afterlife Men at Arms The Year of Living Biblically: One Man\\'s Humble Quest to Follow the Bible As Literally As Possible God Emperor of Dune The Valley of Horses Six Years Night World, No. 2 Geek Love All the King’s Men Girls in Pants: The Third Summer of the Sisterhood The Woods New Spring The Litigators Min mormor hälsar och säger förlåt American Assassin Burial Rites Fingersmith A Year in Provence The Miraculous Journey of Edward Tulane The Last Letter From Your Lover Gorky Park The House Girl Queen of Babble The Third Wheel Code Name Verity  Burned (Burned, #1) Master of the Game The Body Farm The Boy Next Door (Boy #1) Shūtur eli sharrī The Luxe American Pastoral Big Magic: Creative Living Beyond Fear Skin Game القرآن\\u200e\\u200e [al-Qurʾān] The Darkest Night Anathem The Lacuna Hogfather Open House The Silver Star The Hotel New Hampshire The Laughing Corpse Key of Light (Key Trilogy, #1) Identical Smokin\\' Seventeen The Sneetches and Other Stories Polar Bear, Polar Bear, What Do You Hear? Demian: Die Geschichte einer Jugend God Bless You, Mr Rosewater or Pearls before Swine スキップ・ビート! 1  The Dark Knight Returns Harry Potter Boxed Set Books 1-4 The Windup Girl Isla and the Happily Ever After Magic Bites This Man Confessed The Letters of Vincent van Gogh Sourcery Batman: Arkham Asylum - A Serious House on Serious Earth P.S. I Still Love You Memory Man Mudbound Black Hawk Down A Darker Shade of Magic The Lost City of Z: A Tale of Deadly Obsession in the Amazon Firefight The Magicians\\' Guild The Necromancer: The Secrets of The Immortal Nicholas Flamel 61 Hours Cut George\\'s Marvellous Medicine A Thousand Acres The Book of Three Cry Wolf Olivia Plainsong Ghost World Torn Отцы и дѣти The Goal Caleb\\'s Crossing Evernight Bad Luck and Trouble The Jane Austen Book Club The Children Act Sizzling Sixteen Elon Musk: Tesla, SpaceX, and the Quest for a Fantastic Future Caliban\\'s War Barely Breathing Ἰλιάς ; Ὀδύσσεια Kingdom Come Tipping the Velvet The Wishing Spell (The Land of Stories, #1) The 19th Wife Body of Evidence  Saga #1 The Secret of Ella and Micha Hounded From a Buick 8 Red Mars The Yellow Wall-paper. A story Sea Swept The Blinding Knife Since You\\'ve Been Gone The Icebound Land Zero to One: Notes on Start Ups, or How to Build the Future Empire of Storms What Do You Do? Smoke and Mirrors: Short Fiction and Illusions The Oath of the Vayuputras Welcome to the Monkey House Truman Alexander Hamilton Мёртвые ду́ши The Deal The Crown Zero Day Tikki Tikki Tembo Night World, No. 1 Love Unscripted (Love, #1) Pop Goes the Weasel The Six Wives of Henry VIII Мы Pigs in Heaven The Ghost Brigades Cry, The Beloved Country Confessions of an Ugly Stepsister Lady Midnight Tintentod Foundation\\'s Edge Jude the Obscure Queen of Sorcery The Lottery: Adventures of the Demon Lover Wings  Gossip Girl The Odessa File The Burgess Boys קיצור תולדות האנושות\\u200e\\u200e Broken Harbor Down to You The Complete Works The Dispossessed Mördare utan ansikte The Confession Lightning Cat & Mouse Superfudge The Couple Next Door Hallowed Ancillary Justice The Pillars of Creation Built to Last: Successful Habits of Visionary Companies Fireproof The Lunatic Cafe John Dies at the End The Demon-Haunted World: Science as a Candle in the Dark Stolen: A Letter to My Captor Solaris Prozac Nation The Black Cauldron The First Phone Call from Heaven Possible Side Effects Still Life with Bread Crumbs The ABC Murders Holy Bible: New International Version Lover Reborn The Duke and I Dragons of Spring Dawning Altered Carbon Saga, Volume Two Flash Boys: A Wall Street Revolt Le Scaphandre et le Papillon Killing Kennedy: The End of Camelot Still Missing \\'Tis: A Memoir 1491: New Revelations of the Americas Before Columbus An Unquiet Mind: A Memoir of Moods and Madness Who\\'s Afraid of Virginia Woolf? Ostatnie życzenie Il pendolo di Foucault A Pocket for Corduroy Kushiel\\'s Dart Bonhoeffer: Pastor, Martyr, Prophet, Spy Explosive Eighteen Lies The Iron Knight Maisie Dobbs Forever in Blue: The Fourth Summer of the Sisterhood Män som hatar kvinnor, Flickan som lekte med elden, Luftslottet som sprängdes The Butterfly Garden Destined for an Early Grave In Flight Cross All-American Girl Neither Here Nor There: Travels in Europe Boy Meets Boy We Are Water Max  Halo The Inheritance of Loss A Darkness at Sethanon  Die Leiden des jungen Werthers At Grave\\'s End Don\\'t Let\\'s Go to the Dogs Tonight: An African Childhood Beauty: A Retelling of the Story of Beauty and the Beast Eating Animals Flyte ساق البامبو [Saq al-Bambu] The Girl of Fire and Thorns Enclave Longitude Unnatural Exposure Faust. Eine Tragödie Lies My Teacher Told Me : Everything Your American History Textbook Got Wrong Welcome to Lovecraft The Ask and the Answer Scarlett: The Sequel to Margaret Mitchell\\'s Gone With the Wind Bloody Bones This Side of Paradise Escape from Camp 14: One Man\\'s Remarkable Odyssey from North Korea to Freedom in the West  Every Which Way But Dead Eligible The Children of Húrin Mr. Popper\\'s Penguins The Magician\\'s Land Light in August The Trumpet of the Swan Tenth of December Night Pleasures The Millionaire Next Door: The Surprising Secrets of America\\'s Wealthy Don\\'t Judge a Girl by Her Cover Chronicles: Volume One The Lost Continent: Travels in Small-Town America Dreams of Joy (Shanghai Girls #2) Tell Me Your Dreams The Player of Games The Five Dysfunctions of a Team Junky Getting to Yes: Negotiating agreement without giving in Mile high (Up In The Air #2) November 9 Everything We Keep The Mighty Storm The Song of Achilles The Girl with the Lower Back Tattoo भगवद्गीता [Bhagavadgītā] The New York Trilogy Esperanza Rising Raise High the Roof Beam, Carpenters / Seymour: An Introduction The Killing Dance (Anita Blake, Vampire Hunter, #6) Jenseits von Gut und Böse: Vorspiel einer Philosophie der Zukunft The Watsons Go to Birmingham - 1963 The Immortal Rules Columbine Lasher No Easy Day: The Firsthand Account of the Mission That Killed Osama Bin Laden The Chaperone All That Remains The Regulators The Sandman: Season of Mists Judge & Jury Origin The Botany of Desire: A Plant\\'s-Eye View of the World The Distant Hours I Let You Go Beautiful Boy: A Father\\'s Journey Through His Son\\'s Meth Addiction The Vincent Brothers (The Vincent Boys, #1) The Cask of Amontillado Metamorphoses In the Time of the Butterflies Gap Creek : The Story Of A Marriage (Oprah\\'s Book Club) Half-Blood Bitter is the New Black : Confessions of a Condescending, Egomaniacal, Self-Centered Smartass, Or, Why You Should Never Carry A Prada Bag to the Unemployment Office Blindsighted Angle of Repose Lord Brocktree Through the Ever Night Barefoot Cat on a Hot Tin Roof The Final Warning The Golden Fool Split Second The Fifth Witness The Dragonbone Chair At Home in Mitford (Mitford Years #1) Scorpia The Queen of the Tearling One False Note (The 39 Clues, Book 2) Tithe: A Modern Faerie Tale Echo Burning The Fury and Dark Reunion Never Never Into the Darkest Corner Roses Are Red Naked Empire (Sword of Truth, #8) Map of Bones The Stranger Unbelievable A Passage to India Seraphina Morrigan\\'s Cross The Mammoth Hunters Princeps\\' Fury Chrysanthemum Sweet Evil The Winds of War The Wind Through the Keyhole The Last Kingdom Bunnicula: A Rabbit-Tale of Mystery Exile  Ascend Kvinden i buret Del amor y otros demonios Musicophilia: Tales of Music and the Brain End of Watch Fool The Book of Lost Things My Life 300 Storm Warning Only the Good Spy Young The Persuader Flaggermusmannen Blood Brothers (Sign of Seven, #1) Picture Perfect るろうに剣心 1 Catching Jordan Touching the Void: The True Story of One Man\\'s Miraculous Survival This Girl Way of the Peaceful Warrior: A Book That Changes Lives The Satanic Verses Nothing to Envy: Ordinary Lives in North Korea Collide How We Decide The Beekeeper\\'s Apprentice Histoire de Babar, le petit éléphant The Warlock First Lord\\'s Fury The Imperfectionists The Sea of Tranquility Persepolis 2  Pyramids Silverthorn Before I Die Committed: A Skeptic Makes Peace with Marriage Keeping the Moon Four: The Transfer Chainfire (Sword of Truth, #9) Mastering the Art of French Cooking 青の祓魔師 1 Confessor (Sword of Truth, #11) The Reluctant Fundamentalist The False Prince Rabbit, Run Stumbling on Happiness The Waste Land and Other Poems Little Bear The Pit and the Pendulum Lords and Ladies Thud! His Majesty\\'s Dragon The Field Guide My Side of the Mountain  The Winter Sea The Sword Thief Coma Requiem for a Dream Rush The Picture of Dorian Gray: A Graphic Novel  Swan Song The Buried Giant Perdido Street Station Need Witches Abroad The Sketch Book of Geoffrey Crayon, Gent Heretics of Dune Captain\\'s Fury Damned Swamplandia! The Last Coyote Salt: A World History Villette Reamde Soul Music Notorious Nineteen The Greatest Show on Earth: The Evidence for Evolution Sin City Volume 1: The Hard Goodbye The Greatest Salesman in the World Casino Royale The Bronze Horseman Sula The Atlantis Gene The Red Queen Something About You Mr. Brown Can Moo! Can You? Black House  Marvel 1602 Act of Treason The Spy Who Came In from the Cold Academ\\'s Fury When the Wind Blows 1Q84 Book 1 [Ichi-kyū-hachi-yon] O Diário de um Mago The Hard Way The Incredible Journey March A Wanted Man All-Star Superman (Volume 1) A Song of Ice and Fire Dark Witch Dark Flame The Widow The Black Circle The Winner\\'s Curse Push Storia del nuovo cognome 2010: Odyssey Two ソウルイーター 1 Ordinary Grace Last Man Standing American Born Chinese Peter Pan (Little Golden Book) Ten Tiny Breaths The Thousand Autumns of Jacob de Zoet The Tragical History of the Life and Death of Doctor Faustus Dance with the Devil Lipstick Jungle Violets Are Blue Awaken the Giant Within: How to Take Immediate Control of Your Mental, Emotional, Physical and Financial Destiny! Blue Moon (Anita Blake, Vampire Hunter, #8) Burnt Offerings (Anita Blake, Vampire Hunter, #7) The Silent Sister Player Piano Monstrous Regiment Kindred Boundaries Blue Lily, Lily Blue The 21 Irrefutable Laws of Leadership Cat\\'s Eye The Perfect Game Monsters of Men Shadow of the Giant Wonderstruck Simple Abundance:  A Daybook of Comfort and Joy Blood Red Road  The 6th Target A Princess of Mars MaddAddam These Happy Golden Years Color: A Natural History of the Palette Skipping Christmas Home Front Beautiful Stranger The Sweet Far Thing A Lesson Before Dying SantaLand Diaries See Me Mini Shopaholic Down and Out in Paris and London 会長はメイド様! 1 Griffin & Sabine: An Extraordinary Correspondence Ruin and Rising يوتوبيا Certain Girls Beyond the Highland Mist The Stranger Beside Me Stargazer Rising Sun The Other Side of Midnight The Reversal Wayside School is Falling Down The Invisible Bridge The Fall of Five The Mayor of Casterbridge Marekors  Here on Earth  Obsidian Butterfly (Anita Blake, Vampire Hunter, #9) The Daylight War The Appeal The Woman Who Rides Like a Man Rivers of London Lucy Sullivan is Getting Married A Hat Full of Sky A Suitable Boy We Should All Be Feminists River Marked I Like You: Hospitality Under the Influence Pattern Recognition The Kind Worth Killing Physik Boy: Tales of Childhood Traveling Mercies: Some Thoughts on Faith Memorial Day Wild Magic (Immortals, #1) Prelude to Foundation You Are Special: A Story for Everyone The Wrath & the Dawn Half the Sky: Turning Oppression into Opportunity for Women Worldwide Why We Broke Up The Assassin\\'s Blade American Wife Cursor\\'s Fury The Sparrow The Paper Magician We Have Always Lived in the Castle The Brass Verdict Star Wars: Dark Force Rising Never Go Back  The Two Princesses of Bamarre Black Boy: A Record of Youth and Childhood Cane River Foundation and Earth Winnie-the-Pooh & The House at Pooh Corner An Autobiography or The Story of My Experiments with Truth It\\'s Not About the Bike: My Journey Back to Life Undaunted Courage H is for Hawk Us Sojourn (Dark Elf #3) 君に届け 1 False Memory Moving Pictures Captive in the Dark Bonk: The Curious Coupling of Science and Sex Midnight Alley Das Lavendelzimmer  Sweet Tooth Twisted Perfection (Perfection, #1) Executive Orders One Thousand Gifts Psycho Ship of Magic Circle of Friends milk and honey Rainbow Six Fragile Things: Short Fictions and Wonders Sister 三体 Thief of Time Superman: Red Son Three Junes The Reason for God: Belief in an Age of Skepticism King of Thorns The Sins of the Father Killer  Fang The Peach Keeper  You Suck  Beautiful Oblivion A Fire Upon The Deep The Face on the Milk Carton Put Me in the Zoo Firelight (Firelight, #1) Le città invisibili Flat-Out Love  The Narrow Road to the Deep North The Claiming of Sleeping Beauty  Call the midwife : a true story of the East End in the 1950s Hell\\'s Angels It Had to Be You Boomerang: Travels in the New Third World Fly Away Home Le Rouge et le Noir The Virgin\\'s Lover Incarceron Awake at Dawn Starcrossed Night Star Dead Poets Society  The Fifth Elephant The Sorcerer in the North Autobiography of a Yogi Hexed (Iron Druid Chronicles, #2) Scary Stories to Tell in the Dark Fool Me Once Hiroshima Hate List A History of God: The 4,000-Year Quest of Judaism, Christianity, and Islam Abaddon\\'s Gate Veinte poemas de amor y una canción desesperada The Cardinal of the Kremlin No, David! Libellus vere aureus, nec minus salutaris quam festivus, de optimo rei publicae statu deque nova insula Utopia The Name of This Book Is Secret Dorothy Must Die The Husband The Particular Sadness of Lemon Cake The Big Bad Wolf   Balzac et la Petite Tailleuse chinoise Bad Feminist  Petals on the Wind Nimona From Potter\\'s Field Mary, Mary Oranges Are Not the Only Fruit Grounded (Up In The Air #3) I Too Had A Love Story Mrs. Piggle-Wiggle Trunk Music 10% Happier: How I Tamed the Voice in My Head, Reduced Stress Without Losing My Edge, and Found Self-Help That Actually Works Blood Work The Gods Themselves ツバサ-RESERVoir CHRoNiCLE- 1 The League of Extraordinary Gentlemen, Vol. I Mήδεια The Demon King Black Hole Saga, Volume Three Personal Z: A Novel of Zelda Fitzgerald A Man Without a Country When I Found You Lilac Girls 7th Heaven Make Me A Constellation of Vital Phenomena While It Lasts The End of Your Life Bookclub All in The Siege of Macindaw Transmetropolitan, Vol. 1: Back on the Street Emperor Mage (Immortals, #3) Decision Points Witch & Wizard Julie of the Wolves Forever . . . The Wright Brothers American Lion: Andrew Jackson in the White House The Forgotten Shadows of Self Mad About the Boy The Four Loves Archer\\'s Voice The Lost Wife Storia della bellezza I, Claudius The Testing Takedown Twenty The Boy Who Sneaks in My Bedroom Window Terrier First Grave on the Right A House in the Sky Anya\\'s Ghost The Rules of Attraction The Good, the Bad, and the Undead The Crystal Shard Wide Sargasso Sea The Magus King of the Murgos You Dreams of Gods & Monsters Playing For Pizza Tiger\\'s Curse Chapterhouse: Dune Brown Girl Dreaming Icy Sparks The Templar Legacy J is for Judgment (Kinsey Millhone #10) The Physick Book of Deliverance Dane Deadhouse Gates Lick Best Served Cold Elizabeth Is Missing Consent to Kill The Warmth of Other Suns: The Epic Story of America\\'s Great Migration  The First Fifteen Lives of Harry August The Guns of August Separation of Power Tomorrow, When the War Began Monuments Men: Allied Heroes, Nazi Thieves and the Greatest Treasure Hunt in History  Love Letters to the Dead War Brides Homegoing Packing for Mars: The Curious Science of Life in the Void  Divine Justice Kick-Ass Left to Tell: Discovering God Amidst the Rwandan Holocaust Plague Hard Times: For These Times La Vérité sur l\\'affaire Harry Quebert A God in Ruins Magic Study ちょびっツ #1 バトル・ロワイアル The Girl Who Chased the Moon A Town Like Alice The Secret Life Of CeeCee Wilkes Crocodile on the Sandbank Bed of Roses Debt of Honor Till We Have Faces Point Blanc The Kill Artist Knuffle Bunny:  A Cautionary Tale The Gashlycrumb Tinies The Long Earth The War of Art: Break Through the Blocks and Win Your Inner Creative Battles What We Talk About When We Talk About Love: Stories That Summer Theft of Swords Necessary Lies Lucifer\\'s Hammer Montana Sky Of Human Bondage I Was Here Making Money Happy Ever After Harvesting the Heart Never Fade Dewey: The Small-Town Library Cat Who Touched the World The School for Good and Evil For a Few Demons More  The Secret Place Mistborn Trilogy Boxed Set The Emperor\\'s Code The Drop 美少女戦士セーラームーン 1 [Bishōjo Senshi Sailor Moon 1] Drama Assassination Vacation Nine Princes in Amber The Museum of Extraordinary Things Ender in Exile (The Ender Quintet, #2) Undead and Unwed O Monte Cinco The Power of Myth Lock In Longbourn As You Wish: Inconceivable Tales from the Making of The Princess Bride Severed Heads, Broken Hearts In Too Deep (The 39 Clues, Book 6) Catch Me If You Can Narcissus in Chains (Anita Blake, Vampire Hunter, #10) Claim Me Special Topics in Calamity Physics Bird Box Partials The Worst Hard Time: The Untold Story of Those Who Survived the Great American Dust Bowl What She Left Behind Transfer of Power Ariel Batman, Volume 1: The Court of Owls Practical Demonkeeping The Last Templar Official Book Club Selection: A Memoir According to Kathy Griffin Kniha smíchu a zapomnění The Horse Whisperer Wanted The Outlaw Demon Wails  Flatland: A Romance of Many Dimensions The Diviners The Spectacular Now The Art of Loving Eric The Sandman: A Game of You Beach Music An Echo in the Darkness (Mark of the Lion, #2) The Kiss of Deception Tai-Pan The Weird Sisters The Truth The Leftovers Flow: The Psychology of Optimal Experience Mine Till Midnight All the President\\'s Men The Mill on the Floss Super Sad True Love Story Lover at Last Surprised by Joy: The Shape of My Early Life Gödel, Escher, Bach: An Eternal Golden Braid Trickster\\'s Queen Freak the Mighty This Is What Happy Looks Like What\\'s So Amazing About Grace? Kill Shot The Plains of Passage Hard Luck Bokhandleren i Kabul The Merchant of Death The City & The City Magic Strikes My Favorite Mistake Airport Angel Kurt Vonnegut\\'s Cat Cradle Ramona the Brave  Star Wars: The Last Command The Emperor\\'s Soul Just After Sunset Sold Double Cross Евгений Онегин: Роман в стихах  These Broken Stars The Two Pearls of Wisdom Spell Bound The Secret of the Old Clock (Nancy Drew Mystery Stories, #1) Plum Island Second Glance Frog and Toad Together The Lottery Big Stone Gap The Alexandria Link The Fiery Heart Magic Bleeds El amante japonés Jingo Kiss of Midnight Sons and Lovers A Woman of Substance  The Hit Count Zero Peony in Love Twenty Boy Summer Cashflow Quadrant: Rich Dad\\'s Guide to Financial Freedom Isprinsessan Bookends The Last Colony Finding Cinderella Last Chance Saloon Beauty from Pain Die Verwandlung und andere Erzählungen The Space Between Us Three Men in a Boat (To Say Nothing of the Dog) Desert Solitaire Plum Lovin\\' Strengths Finder 2.0 Another Roadside Attraction Sarum: The Novel of England Rage of Angels Everlasting The Right Stuff Cocktails for Three Fluke: Or, I Know Why the Winged Whale Sings Girl in Translation Panic Because of Low Between Sisters Wayward Finding Audrey The Moosewood Cookbook: Recipes from Moosewood Restaurant, Ithaca, New York Fox in Socks Benim Adım Kırmızı The Teachings of Don Juan: A Yaqui Way of Knowledge The Sixth Man The Warrior Heir Top Secret Twenty-One Death: the High Cost of Living Destroy Me Mindset: The New Psychology of Success Beyond the Grave (The 39 Clues, #4) The Problem of Pain Nudge: Improving Decisions About Health, Wealth, and Happiness The Dark Is Rising Purity The Door to December Four Blind Mice Slapstick Fooled by Randomness: The Hidden Role of Chance in Life and in the Markets Labyrinth Founding Brothers: The Revolutionary Generation Forward the Foundation Saphirblau Going Clear: Scientology, Hollywood, and the Prison of Belief Twilight: The Graphic Novel The French Lieutenant\\'s Woman The Rime of the Ancient Mariner The Paper Bag Princess Tortilla Flat King Solomon\\'s Mines Love Unrehearsed The Sandman: Brief Lives The Return: Nightfall The People of Sparks Narziß und Goldmund The Sandman: Fables and Reflections The Bone Season Little Dorrit Valley of the Dolls The Source You Shall Know Our Velocity! ثلاثية غرناطة We\\'re Going on a Bear Hunt Guardians of the West Honeymoon Pandora\\'s Star How to Eat Fried Worms The Raven and Other Poems The Weight of Silence Trigger Warning: Short Fictions and Disturbances Lincoln Magic Burns The Quiet American The Proposition Cause of Death Master and Commander 孫悟空と仲間たち Revelation Space Wicked Appetite Tales from a Not-So-Fabulous Life A Hunger Like No Other A Million Suns  The High Lord The Valley of Amazement Three Weeks with My Brother The High King  Die for Me Confessions of an Economic Hit Man Ficciones Winter Prey The Complete Short Stories of Ernest Hemingway Dandelion Wine The Mummy Switch: How to Change Things When Change Is Hard Trail of Broken Wings Timequake One Summer: America 1927 Evening Class The Talismans of Shannara Герой нашего времени The Atonement Child Theodore Rex The Far Pavilions Nothing to Lose Falling Into You Adultério The Rithmatist  The Christmas Shoes Skinny Bitch: A No-Nonsense, Tough-Love Guide for Savvy Girls Who Want to Stop Eating Crap and Start Looking Fabulous! Mystery Man (Dream Man, #1) Curious George Goes to the Hospital The Snowball: Warren Buffett and the Business of Life The Bride Erak\\'s Ransom Missing Υou Kar Halt\\'s Peril The Apprentice Betty Crocker\\'s Cookbook Elsewhere Stay Close The Quickie Step on a Crack Counting by 7s A Kiss of Shadows (Merry Gentry, #1) Executive Power Savor the Moment Little Brother Dearly Devoted Dexter Inside the O\\'Briens Memories of Ice Odd Hours The Dead Girls\\' Dance The Realms of the Gods (Immortals, #4) One Second After Gregor and the Curse of the Warmbloods The Lover\\'s Dictionary Art Through the Ages  The Wishsong of Shannara  The Darkest Kiss The Sugar Queen Hammered No Rest for the Wicked Extreme Measures Saga, Volume Four A Beautiful Wedding Bad Monkey Sisterland Juliet, Naked Chicken Soup for the Soul Tears of the Giraffe The Concrete Blonde Carpe Jugulum The Warlord Wants Forever Bluebeard Good Faeries, Bad Faeries Cycle of the Werewolf The Devil\\'s Arithmetic The World Without Us Isaac\\'s Storm: A Man, a Time, and the Deadliest Hurricane in History The Rumor Orlando: A Biography Thanks for the Memories Angels Fall Pursuit of Honor Acheron (Dark-Hunter, #15) - Part 1 South of Broad Fade The Little Friend Percy Jackson and the Olympians Boxed Set Savvy The Book of Basketball: The NBA According to The Sports Guy London Bridges لا تحزن Wings of Fire: An Autobiography The Signal and the Noise: Why So Many Predictions Fail - But Some Don\\'t Salt to the Sea The Body in the Library The Lord of the Rings: The Art of The Fellowship of the Ring Backstage Pass (Sinners on Tour, #1) The Story About Ping The All-Girl Filling Station\\'s Last Reunion Bastard Out of Carolina Beauty Queens  Daemon The Burden of Proof Crooked Kingdom The Stars My Destination Cruel Beauty The Rise of Endymion Endymion The Arrival Calamity Shopgirl: A Novella Tom Sawyer & Huckleberry Finn The Woman Upstairs The Stupidest Angel: A Heartwarming Tale of Christmas Terror Carolina Moon The Painted Girls UnEnchanted The Bedwetter: Stories of Courage, Redemption and Pee The Talented Mr. Ripley Chain Reaction Noble House Dark Prince NARUTO -ナルト- 巻ノ四十三  The Shining Girls The Zookeeper\\'s Wife: A War Story Slade House An Astronaut’s Guide to Life on Earth Ink Exchange (Wicked Lovely, #2) نسيان كوم Bleachers Hop on Pop Skeleton Key Gone for Good The Mad Ship Inside the Human Body Lost Light The Iron Trial A Game of Thrones - The Graphic Novel Volume 1 The Carrie Diaries Tribulation Force: The Continuing Drama of Those Left Behind Food Rules في قلبي أنثى عبرية Vampire Kisses Fly Away Stone of Farewell The Exploits of Sherlock Holmes Storia di chi fugge e di chi resta The Novice Then We Came to the End One Week Girlfriend Ship of Destiny A Week in Winter 花ざかりの君たちへ 1 Daughter of the Forest The Very Busy Spider  Freckle Juice Linchpin: Are You Indispensable? The River of Doubt: Theodore Roosevelt\\'s Darkest Journey Complications: A Surgeon\\'s Notes on an Imperfect Science Side Jobs: Stories From The Dresden Files The Hundred Secret Senses Pretty Baby The Gargoyle Quicksilver The Fairy-Tale Detectives Mort - playtext Birthmarked Skulduggery Pleasant Pale Fire The Lady and the Unicorn A Christmas Carol and Other Christmas Writings One More Thing: Stories and Other Stories Carpe Corpus The Shock of the Fall Asylum The Heart Goes Last A Fistful of Charms The Coldest Girl in Coldtown Skinny Dip The Marriage of Opposites Feast of Fools Consider the Lobster The Atlantis Complex Merrick The Bands of Mourning Le Mythe de Sisyphe Someday, Someday, Maybe  Simon vs. the Homo Sapiens Agenda Wives and Daughters Splintered The Little House Se questo è un uomo The Wizard Heir L\\'île mystérieuse Girl in Hyacinth Blue Sylvester and the Magic Pebble The Lady of the Rivers Live Wire Escape The Collectors The Hitchhiker\\'s Guide to the Galaxy: The Trilogy of Four (Hitchhiker\\'s Guide, #1-4) Maskerade Lord Foul\\'s Bane First, Break All the Rules: What the World\\'s Greatest Managers Do Differently  The Last Continent Our Town: A Play in Three Acts Echo Park The Winner Ark Angel Momo The Last Town Saint Anything The Twelve Tribes of Hattie The Taking If There Be Thorns Owl Moon  Игрок  Frost Burned Le Père Goriot Sorgenfri Night Play Aleph Perfection Too Big to Fail The Inside Story of How Wall Street and Washington Fought to Save the Financial System from Crisis - and Lost Magic Hour The Winter of our Discontent Absalom, Absalom! Girl Online Caddie Woodlawn Knowing God The Halfling\\'s Gem Hold Tight The Sandman: The Kindly Ones The Sandman: Worlds\\' End The Chrysalids The End of the Affair Who Do You Love Bambi - Eine Lebensgeschichte aus dem Walde The Lathe of Heaven Ἰστορίαι Driven The Dante Club The Shelters of Stone Hunting Ground O vencedor está só Centennial The Body Finder Enduring Love First Things First: To Live, to Love, to Learn, to Leave a Legacy Dragonsong  Annie on My Mind Pirate Latitudes Motherless Brooklyn Noughts & Crosses Incidents in the Life of a Slave Girl Written by Herself The Enchantress Washington: A Life Come Away with Me Taken at Dusk (Shadow Falls, #3) Wonder Boys The Buddha in the Attic Fierce Invalids Home From Hot Climates The Winter People The Lying Game Body Double The Opposite of Loneliness La solitudine dei numeri primi Clash Fortunately, the Milk Ms. Marvel, Vol. 1: No Normal Slave to Sensation فلتغفرى Al Capone Does My Shirts The Fall The Raven King Bringing up Bébé Portrait of a Killer: Jack The Ripper - Case Closed The Thief Succubus Blues When God Was a Rabbit Love & Misadventure Term Limits Crooked Letter, Crooked Letter Briefe an einen jungen Dichter Princess in the Spotlight Of Poseidon Night Embrace (Dark-Hunter, #2) Run Les Fleurs du mal Les Liaisons dangereuses The Railway Children The Last Mile Magic Slays The Doors of Perception & Heaven and Hell The Black Box The Rapture of Canaan Alas, Babylon The Third Option The Stonekeeper The Complete Stories Tower Lord Look Again Fever Pitch Pandora Tricked The Coldest Winter Ever Zen Mind, Beginner\\'s Mind 채식주의자  Das Schloß Emperor of Thorns Letter to a Christian Nation The Vampire Diaries: The Return: Shadow Souls  When It Happens The Rise of Theodore Roosevelt  Doomsday Book The Escape Just Mercy: A Story of Justice and Redemption The Seeress of Kell Many Lives, Many Masters The Burning Room This Side of the Grave (Night Huntress, #5) First Test On the Jellicoe Road The Natural Way to Draw Streams of Silver (Icewind Dale #2) Angry Housewives Eating Bon Bons Flora and Ulysses: The Illuminated Adventures If You Could See Me Now The Known World Giovanni\\'s Room The Gods of Guilt Du côté de chez Swann The Little Mouse, the Red Ripe Strawberry, and the Big Hungry Bear Cerulean Sins (Anita Blake, Vampire Hunter, #11) Robopocalypse Fear Nothing  First Drop of Crimson Plum Lucky  This Charming Man The Secret Diary of Adrian Mole, Aged 13 3/4 The Razor\\'s Edge Amphigorey Neverwhere Graphic Novel Some Girls Bite Go Tell It on the Mountain Lost in a Good Book 自閉症の僕が跳びはねる理由～会話のできない中学生がつづる内なる心～ The Hidden Oracle Once Burned (Night Prince, #1) Missoula: Rape and the Justice System in a College Town The End of Eternity Sorceress of Darshiva Love Comes Softly (Love Comes Softly, #1) Half a King The Prodigal Daughter The Broken Eye The Collected Poems of W.B. Yeats Stone Cold ڤيرتيجو Rudolph the Red-Nosed Reindeer 象の消滅 [Zō no shōmetsu] Gateway Crucial Conversations: Tools for Talking When Stakes are High How the Irish Saved Civilization: The Untold Story of Ireland\\'s Heroic Role from the Fall of Rome to the Rise of Medieval Europe   Gulp: Adventures on the Alimentary Canal Tender at the Bone: Growing Up at the Table Wintersmith The Miracle Worker The Almost Moon The Children of Men Leviathan or The Matter, Forme and Power of a Common Wealth Ecclesiasticall and Civil Mean Streak Fueled I Was Told There\\'d Be Cake Marie Antoinette: The Journey Good Night, Mr. Tom Forbidden The Thousand-Dollar Tan Line The Plot Against America The Tender Bar: A Memoir Martin the Warrior The Exiled Queen Misty of Chincoteague The Other Woman Nothing Lasts Forever Mayflower: A Story of Courage, Community, and War Wicked Deeds on a Winter\\'s Night (Immortals After Dark #4) His Excellency: George Washington Burning Chrome and Other Stories Last Night at Chateau Marmont Sleeping Beauty Out of Breath (Breathing, #3) Tigana I Feel Bad About My Neck: And Other Thoughts on Being a Woman Little Men, or Life at Plumfield with Jo\\'s Boys Gravity\\'s Rainbow The Ragamuffin Gospel: Good News for the Bedraggled, Beat-Up, and Burnt Out Princess in Love River God O Pioneers! The Shock Doctrine: The Rise of Disaster Capitalism Analfabeten som kunde räkna Truth & Beauty: A Friendship The Vincent Brothers Die Blechtrommel Smaragdgrün Book of a Thousand Days The Return of Sherlock Holmes Mythology Lies and the Lying Liars Who Tell Them: A Fair and Balanced Look at the Right Killing Yourself to Live: 85% of a True Story Troublemaker: Surviving Hollywood and Scientology House of Chains Oz: The Wonderful Wizard of Oz The Nazi Officer\\'s Wife: How One Jewish Woman Survived The Holocaust Opposition Incubus Dreams (Anita Blake, Vampire Hunter, #12) The Fabric of the Cosmos: Space, Time and the Texture of Reality Babyville A Touch of Dead My Name Is Asher Lev Nicolae: The Rise of Antichrist Calling Me Home Covet Captivate Wishful Drinking Triptych A Fatal Grace The 9th Judgment Zoo Vespers Rising The End of Faith: Religion, Terror, and the Future of Reason The Adoration of Jenna Fox The Complete Calvin and Hobbes Ranma ½, Volume 1 Serena Use of Weapons Pulse Love Walked In Bone: The Complete Cartoon Epic in One Volume Eragon, Eldest & Brisingr (Inheritance, #1-3) Thirst No. 1 Housekeeping The Hundred and One Dalmatians Windmills of the Gods The Curious Case of Benjamin Button The Fortunes and Misfortunes of the Famous Moll Flanders Ragtime On Basilisk Station  Bad Science: Quacks, Hacks, and Big Pharma Flacks Garlic and Sapphires: The Secret Life of a Critic in Disguise Panserhjerte (Harry Hole, #8) Wolf-Speaker (Immortals, #2) A Supposedly Fun Thing I\\'ll Never Do Again: Essays and Arguments NANA―ナナ― 1 The Spook\\'s Apprentice (The Last Apprentice / Wardstone Chronicles, #1) The Sinner Unseen Academicals Second Chance Summer Bergdorf Blondes The Chocolate War The Sandman: The Wake Lady and the Tramp (Little Golden Book) Squire Snakehead Out of Sight, Out of Time Just for Now Killing Jesus: A History  Sandstorm Cibola Burn The Charm School Y: The Last Man Vol. 2: Cycles White Witch, Black Curse Genghis Khan and the Making of the Modern World Sister Carrie The Gray Wolf Throne Laskar Pelangi Scott Pilgrim, Volume 6: Scott Pilgrim\\'s Finest Hour Blow Fly Chocolate Chip Cookie Murder Lost in Shangri-la The Disappearing Spoon: And Other True Tales of Madness, Love, and the History of the World from the Periodic Table of the Elements The Hellbound Heart Empty Mansions: The Mysterious Life of Huguette Clark and the Spending of a Great American Fortune Remarkable Creatures Lord of Misrule The Cabinet of Curiosities Crossing to Safety Buried Prey Discover an Incredible Life in an Ordinary World The Intelligent Investor The Universe in a Nutshell The Heroes An Ideal Husband Fire Study The Human Stain The Bane Chronicles The Narrows The Opportunist Wherever You Go, There You Are: Mindfulness Meditation in Everyday Life キッチン [Kitchen] Robert Ludlum\\'s The Bourne Legacy A Kingdom of Dreams  Ship Breaker Gregor and the Prophecy of Bane Beach Road Nicholas Nickleby Dean Koontz\\'s Frankenstein: Prodigal Son Volume 1 (Frankenstein) Du contrat social: ou Principes du droit politique Chains El túnel The Federalist Storia della bambina perduta The Disreputable History of Frankie Landau-Banks The Postmistress Rise of Empire Tweak: Growing Up On Methamphetamines The Rook The Looking Glass Wars The Other Queen Labor Day I Shall Wear Midnight Beautiful Player Creativity, Inc.: Overcoming the Unseen Forces That Stand in the Way of True Inspiration El diario de Frida Kahlo: Un íntimo autorretrato  Creepshow Gods and Generals The Darkest Pleasure Many Waters Panda Bear, Panda Bear, What Do You See? Love You More War Horse A Drink Before the War Heartsick Edenbrooke The Perfume Collector Seduction and Snacks (Chocolate Lovers, #1) Reliquary Blood, Bones and Butter: The Inadvertent Education of a Reluctant Chef Poirot Investigates Harry Potter Collection (Harry Potter, #1-6) The Naked Sun Bartleby, the Scrivener: A Story of Wall Street The Bazaar of Bad Dreams Hypnotisören On a Pale Horse The Dirt: Confessions of the World\\'s Most Notorious Rock Band Ten Apples Up on Top An American Tragedy  The Snows of Kilimanjaro and Other Stories Silver Girl Practical Magic Trapped  Midnight for Charlie Bone Illuminae The Black Company War and Remembrance The Woman in Black The Best Christmas Pageant Ever King Rat Fear The Fourth Protocol Lord John and the Private Matter The Goddess Test The Ghost Map Eve The Target On Photography Protect and Defend Songs in Ordinary Time Thunderstruck Physics of the Impossible: A Scientific Exploration of the World of Phasers, Force Fields, Teleportation, and Time Travel The Midwife\\'s Apprentice The Crimson Petal and the White A Spot of Bother Silver Shadows Tales of the City Perelandra Tricks Heir of Novron Just the Sexiest Man Alive 10th Anniversary The Island The Good Guy Whispers The Weed That Strings the Hangman\\'s Bag Hideaway Knots & Crosses The Walking Dead, Vol. 2: Miles Behind Us Tribes: We Need You to Lead Us Wasted: A Memoir of Anorexia and Bulimia  Black Magic Sanction Wheat Belly: Lose the Wheat, Lose the Weight, and Find Your Path Back to Health  End of Days The Best of H.P. Lovecraft  The Crystal Cave Pale Demon The Call of Cthulhu and Other Weird Stories Conversations with God, An Uncommon Dialogue: Living in the World with Honesty, Courage, and Love, Book 1 You\\'re Never Weird on the Internet (Almost) Now You See Her Glory in Death Hawkeye, Volume 1: My Life as a Weapon Absolute Batman Hush 神の子どもたちはみな踊る I, Alex Cross Love That Dog A Man Named Dave: A Story of Triumph and Forgiveness Danse Macabre (Anita Blake, Vampire Hunter, #14) Tarzan of the Apes Bright Lights, Big Ass: A Self-Indulgent, Surly, Ex-Sorority Girl\\'s Guide to Why it Often Sucks in the City, or Who are These Idiots and Why Do They All Live Next Door to Me? The Magic Faraway Tree The Robber Bride Pleasure Unbound Midnight Awakening  A Prisoner of Birth Thirst No. 2 King Leopold\\'s Ghost Guilty Wives The Midwife\\'s Confession Tales From a Not-So-Talented Pop Star Habibi The House of Silk Deity Black Bird, Volume 1 Paper Princess The Boys from Brazil Dark Desires After Dusk Kiss of Death Fixed on You Maximum Ride: The Manga, Vol. 1 The Last Boyfriend Drengen i kufferten So You’ve Been Publicly Shamed Συμπόσιον Vernon God Little A Darkness More Than Night For Colored Girls Who Have Considered Suicide When the Rainbow Is Enuf  The Obsession Micah (Anita Blake, Vampire Hunter, #13) Twice Bitten  The Last Precinct Girls in White Dresses Cold Comfort Farm Just One Year One With You The Lust Lizard of Melancholy Cove Mona Lisa Overdrive The Cay North of Beautiful The Stone Diaries Shoe Addicts Anonymous  Frøken Smillas fornemmelse for sne Shakespeare: The World as Stage  The Smoke Jumper Willow Living History Batman: Dark Victory The Hare with Amber Eyes: A Family\\'s Century of Art and Loss Starters Dark Needs at Night\\'s Edge Pedro Páramo Anne of Ingleside Deal Breaker The Waste Land The Royal We The Viscount Who Loved Me Peter and the Shadow Thieves Nesmrtelnost Best Kept Secret Spin Long Day\\'s Journey Into Night ヘルシング 1 Soul Harvest: The World Takes Sides The Physician Dean Koontz\\'s Frankenstein: Prodigal Son How Do Dinosaurs Say Goodnight? The Icarus Agenda Demon From the Dark  The King When Nietzsche Wept: A Novel of Obsession The Crossing  Ἠθικὰ Νικομάχεια  Spook: Science Tackles the Afterlife Songs of Innocence and of Experience Sugar Daddy The Berenstain Bears and the Messy Room Blaze Demon Lord of Karanda History of Art Ice Cold The Winter King Sin City: A Dame to Kill For Leaving Paradise ディー・エヌ・エンジェル 1 Total Control Matterhorn: A Novel of the Vietnam War The Mysterious Benedict Society and the Perilous Journey The Cronicle History of Henry the fift Politics The Wolf of Wall Street Nachfolge A Gentleman in Moscow The New Jim Crow: Mass Incarceration in the Age of Colorblindness Sult The Book of Unknown Americans B is for Burglar When Will There Be Good News? Joker Ночной дозор  Dept. of Speculation Secrets of a Charmed Life The Great Santini Johnny Got His Gun Angels Flight Teacher Man Vampire Kisses: The Beginning (Vampire Kisses Omnibus) The Last Guardian La planète des singes Ghost Town Evergreen Deliverance Dragonsinger Boundless The Whistler D.Gray-man, Volume 1 The Robots of Dawn The Rule of Four The Redemption of Callie & Kayden The Closers Fire and Ice The Darkest Whisper Love Is a Mix Tape: Life and Loss, One Song at a Time Please Kill Me: The Uncensored Oral History of Punk Frog and Toad All Year The Dark Elf Trilogy Collector\\'s Edition (Forgotten Realms: Dark Elf Trilogy, #1-3) The Harlequin (Anita Blake, Vampire Hunter, #15) So B. It Found The Basketball Diaries 1963-1966 Sin City: That Yellow Bastard Krew elfów Angels A World Without Heroes The Kings of Clonmel The Fireman The Revenge of Seven Ben-Hur: A Tale of the Christ Homage to Catalonia Good Grief A Knight of the Seven Kingdoms Misguided Angel Undeniable The Girl In The Ice Medium Raw: A Bloody Valentine to the World of Food and the People Who Cook Emily of New Moon Собачье сердце Grendel The Pale Rider Chaos: Making a New Science Marvels A Hologram for the King The Future of Us Cross Country Rock Chick The Program Judas Unchained Morality for Beautiful Girls Going Too Far The Son The Dream Hunter Island of the Sequined Love Nun All the Ugly and Wonderful Things The Moon and More Time Enough for Love The Barefoot Contessa Cookbook Virals An Invisible Thread: The True Story of an 11-Year-Old Panhandler, a Busy Sales Executive, and an Unlikely Meeting with Destiny Mennonite in a Little Black Dress: A Memoir of Going Home The Simple Truth The City of Mirrors Kushiel\\'s Chosen Half Girlfriend Parable of the Sower (Earthseed, #1) 11th hour Earth Unaware (The First Formic War, #1)  My Last Duchess Seeds of Yesterday Jesus\\' Son: Stories The Last Man Saving Fish from Drowning: A Novel Love Anthony Purple Cow: Transform Your Business by Being Remarkable The Last Star QB VII The Aeronaut\\'s Windlass  From Hell Black Rose The Perfect Husband The Eight Daddy-Long-Legs        East Dragonquest Das Unbehagen in der Kultur A Street Cat Named Bob: How One Man and His Cat Found Hope on the Streets Complete Me Fool\\'s Assassin Astonishing X-Men, Volume 1: Gifted Fragile Eternity The Gamble The Great and Secret Show The Mother Tongue: English and How It Got That Way The Geography of Bliss: One Grump\\'s Search for the Happiest Places in the World The Mistake Match Me If You Can Heaven and Earth (Three Sisters Island, #2) The Bad Place Crazy Little Thing The Twilight Saga: The Official Guide Celebration of Discipline: The Path to Spiritual Growth The Prime of Miss Jean Brodie  Sloppy Firsts (Jessica Darling, #1) Forgive Me, Leonard Peacock A Long Way From Chicago Virgin This One Summer The Heroin Diaries: A Year in the Life of a Shattered Rock Star Tinkers The Druid of Shannara Stepbrother Dearest Einstein\\'s Dreams Бесы Making Faces Q & A: Slumdog Millionaire Encyclopedia Brown, Boy Detective (Encyclopedia Brown, #1) Dissolution The Clique (The Clique, #1) The Sixth Extinction: An Unnatural History Billy Lynn\\'s Long Halftime Walk A Whole New Mind: Why Right-Brainers Will Rule the Future Across the Nightingale Floor  A Briefer History of Time The Blind Watchmaker: Why the Evidence of Evolution Reveals a Universe Without Design Face the Fire (Three Sisters Island, #3) Once We Were Brothers When I\\'m Gone Life Expectancy The Dragon Heir Fallout (Crank, #3) Black Notice The Wonder  Innocent Traitor The Fourth Hand Gone, Baby, Gone On Mystic Lake The Killing Game The Retribution of Mara Dyer A Wolf at the Table Alvin Maker: Seventh Son The Mysteries of Pittsburgh Manhunt: The 12-Day Chase for Lincoln\\'s Killer The Book of Tomorrow On the Fence Follow You Home Nefertiti \\u200eYou Are Not So Smart\\u200e Into the Wilderness Ὀρέστεια How the Light Gets In La catedral del mar The Life of Elizabeth I Earth: A Visitor\\'s Guide to the Human Race  My Soul to Take Conversations With God. An Uncommon Dialogue. Book 2 Everneath Plum Spooky Manual do guerreiro da luz James Potter and the Hall of Elders\\' Crossing  Where Men Win Glory: The Odyssey of Pat Tillman God\\'s Smuggler Fill-in boyfrined How I Live Now Mister Monday Strange Angels La Prisonnière Black Hills Civil War: A Marvel Comics Event The Vow: The Kim and Krickitt Carpenter Story The Puppet Masters All the Missing Girls Just Go to Bed xxxHOLiC #1 Miss Nelson Is Back Green Mars To Green Angel Tower (Memory, Sorrow, and Thorn, #3) The Canterville Ghost Seconds: A Graphic Novel Fallen Crest High Suffer the Children Catherine, Called Birdy Princess: A True Story of Life Behind the Veil in Saudi Arabia  Magic Kingdom for Sale—Sold! The Power of Your Subconscious Mind Blood and Gold: The Vampire Marius The Crown of Embers Page  The Guard Johnny Tremain Diarios de motocicleta: notas de viaje por América Latina Black 1. The Birth of Evil The Hundred Thousand Kingdoms Officer Buckle & Gloria (Hardcover) Los detectives salvajes Alice in Zombieland Spells Schachnovelle The Medusa Plot The Penderwicks: A Summer Tale of Four Sisters, Two Rabbits, and a Very Interesting Boy The Lion Kiss of the Highlander Elizabeth The Queen: The Life Of A Modern Monarch Sønnen Taster\\'s Choice A Single Shard Time of the Twins Sacré Bleu: A Comedy d\\'Art Пикник на обочине Queen of Babble Gets Hitched Cranford Big Sur My Man Jeeves Radiant Shadows Motorcycle Man The Art of Asking; or, How I Learned to Stop Worrying and Let People Help Into the Still Blue The Last Summer (of You and Me) Preacher Vol. 2: Until the End of the World The Lost City of Faar A Great Deliverance El club Dumas Enna Burning 1919 Dear Mr. Henshaw Generation X: Tales for an Accelerated Culture The Sympathizer Evil Under the Sun Reaper\\'s Property My Friend Flicka (Flicka, #1) The Kingmaker\\'s Daughter Hedda Gabler The Invasion of the Tearling A Place Called Here The Painted Veil Blackwood Farm Anatomy of the Spirit: The Seven Stages of Power and Healing The Kalahari Typing School for Men A Hundred Summers A Torch Against the Night The Wednesday Wars The Legacy Skippyjon Jones Chasing Fire Eat That Frog!: 21 Great Ways to Stop Procrastinating and Get More Done in Less Time Moo, Baa, La La La! The Science of Getting Rich The Last Oracle ذاكرة الجسد Vinegar Hill (P.S.) Startide Rising Significance Pompeii The Guilty A History of Western Philosophy And Its Connection with Political and Social Circumstances from the Earliest Times to the Present Day Le Morte d\\'Arthur A Piece of Cake: A Memoir Taran Wanderer Brimstone Devil in Winter  The Dead and the Gone The Darkest Passion (Lords of the Underworld, #5) Pygmy Revenge Wears Prada: The Devil Returns Рассказы и Повести Redemption A Northern Light Apollyon: The Destroyer Is Unleashed Whose Body? Michelangelo and the Pope\\'s Ceiling Stolen Hour Game The Cruelest Month Ballet Shoes We the Living The Winner\\'s Crime 100 Selected Poems by e. e. Cummings Such a Pretty Fat: One Narcissist\\'s Quest to Discover if Her Life Makes Her Ass Look Big, or Why Pie is Not the Answer Forest of Secrets The Little Stranger Night Broken Snow Like Ashes We Are Not Ourselves Red Lily The Lords of the North Just Ella Eyes wide open China Dolls Megan Meade\\'s Guide to the McGowan Boys Bread and Jam for Frances Mirror Mirror More Than This As Sure as the Dawn (Mark of the Lion, #3) Lexicon El Deafo Down London Road The Walking Dead, Vol. 3: Safety Behind Bars Flow My Tears, the Policeman Said A Knight in Shining Armor Rot & Ruin Ἱστορίαι Sandman Slim The Last Child Labyrinths The Price of Salt Tiger\\'s Quest Friday Night Bites: A Chicagoland Vampires Novel  The Oath Rumors The Day the Crayons Quit Princess in Waiting (The Princess Diaries, #4) Der Zauberberg Chasing the Dime A Thousand Pieces of You Pictures of Hollis Woods The Reality Dysfunction  NW  The Chronicles of Vladimir Tod: Eighth Grade Bites The Paradox of Choice: Why More Is Less Blood and Chocolate Nine Dragons Women in Love Second Chance The Postman Summerland The Patron Saint of Liars The Success Principles Knight Business Model Generation The Swerve: How the World Became Modern The Autobiography of Henry VIII. With Notes by His Fool, Will Somers Stranger Than Fiction: True Stories The Brain That Changes Itself: Stories of Personal Triumph from the Frontiers of Brain Science The Ringworld Engineers  I Hunt Killers Crashed Kitchens of the Great Midwest Stone Soup شيكاجو 12th of Never Promise of Blood Black Order Fractured The Sun Is Also a Star The Murder House On the Beach Funny Girl New York A Gathering of Shadows From the Corner of His Eye  めくらやなぎと、眠る女 [Mekurayanagi to, nemuru onna] Barefoot Contessa Back to Basics To Have and to Hold  Smashed: Story of a Drunken Girlhood Until I Find You The Dark Divine Women Who Run With the Wolves The Long Tail: Why the Future of Business Is Selling Less of More Mein Kampf Swapping Lives A Rule Against Murder (Armand Gamache, #4) The Perfect Hope Consequences The 7 Habits Of Highly Effective Teens The Strange Case of Origami Yoda Welcome to Temptation Inside Out & Back Again Dreamless Predestined The Art of the Start: The Time-Tested, Battle-Hardened Guide for Anyone Starting Anything The Other Wes Moore: One Name, Two Fates Mistress of the Art of Death Assholes Finish First 美少女戦士セーラームーン Kiss an Angel  The Upside of Irrationality: The Unexpected Benefits of Defying Logic at Work and at Home The Partly Cloudy Patriot My Father\\'s Dragon (My Father\\'s Dragon Trilogy) Natchez Burning Hannibal Rising Immortal in Death  inf Blood Noir (Anita Blake, Vampire Hunter, #16) Inherent Vice Songs of the Humpback Whale: A Novel in Five Voices The Night Eternal Bright Lights, Big City Whiskey Beach The Guy Not Taken: Stories The Walking Dead, Vol. 8: Made To Suffer Pleasure of a Dark Prince  Danny and the Dinosaur Il decamerone The Crossing Kushiel\\'s Avatar El Aleph Ruin The Long Goodbye Farewell, My Lovely The Castle of Llyr Fade Out The Cat Who Could Read Backwards Charade The Demigod Diaries If You Stay Neil Patrick Harris: Choose Your Own Autobiography Death du Jour More Than a Carpenter Boneshaker  Rubyfruit Jungle Fallen in Love The Never War The Elf Queen of Shannara  Mattimeo Nemesis Games First Family True Grit Feel The Fear And Do It Anyway: How to Turn Your Fear and Indecision into Confidence and Action Mine Memoirs of an Imaginary Friend Haroun and the Sea of Stories Poison Princess The Emperor\\'s Blades Brick Lane Half Bad Βίος και πολιτεία του Αλέξη Ζορμπά Sounder A Universe from Nothing: Why There Is Something Rather Than Nothing Slash Rebel Belle The Mephisto Club The Scarlet Thread  It\\'s a Magical World: A Calvin and Hobbes Collection L\\'être et le néant Miecz przeznaczenia Silent Spring Legion Down the Rabbit Hole: Curious Adventures and Cautionary Tales of a Former Playboy Bunny Kill Alex Cross The Pearl that Broke Its Shell Behemoth The Sociopath Next Door Y: The Last Man, Vol. 8: Kimono Dragons The Tea Rose Moon Over Soho The Paris Architect Falling Kingdoms Ask and It Is Given: Learning to Manifest Your Desires La isla bajo el mar The History of Tom Jones, a Foundling Winesburg, Ohio: A Group of Tales of Ohio Small-Town Life C is for Corpse Y: The Last Man Vol. 5: Ring of Truth Five Quarters of the Orange 2666 Microserfs How to Tell If Your Cat Is Plotting to Kill You Simple Genius Vampire Mountain (Cirque du Freak, #4)  The Three Stigmata of Palmer Eldritch ふしぎな図書館  Fushigi na toshokan Deadeye Dick The Power (The Secret, #2) Ancestors of Avalon  Ut og stjæle hester Batman: Knightfall, Part One: Broken Bat Saga, Volume Five The Lions of Lucerne The Sign of the Beaver Ask the dust  All Over But the Shoutin\\' The Key to Midnight Grimm Tales for Young and Old Debt of Bones (The Sword of Truth, #0.5) Žert The White Princess Flight of the Intruder Silver on the Tree National Velvet Losing My Virginity: How I\\'ve Survived, Had Fun, and Made a Fortune Doing Business My Way Λυσιστράτη The Swan Thieves Iced 14 Okay for Now Assassins : Assignment: Jerusalem, Target: Antichrist Red Country Eat And Run The Matchmaker The Mark: The Beast Rules the World Belong to Me L.A. Confidential Those Left Behind (Serenity, #1) Terms of Endearment Kiss of the Night The Wedding Girl Entice From Russia, with Love The Tortilla Curtain Darkest Mercy Checkmate (A Neighbor from Hell, #3) The Amazing Maurice and His Educated Rodents  With The Old Breed: At Peleliu And Okinawa The Hundred Dresses Lost Lake Hardwired The Last Runaway Midnight Tides The 100 Hades Y: The Last Man Vol. 3: One Small Step Bear Snores On Talking as Fast as I Can: From Gilmore Girls to Gilmore Girls, and Everything in Between Memoirs of a Teenage Amnesiac Salamandastron Finnikin of the Rock The Return of the Native Micro No Exit and Three Other Plays Foundation and Chaos (Second Foundation Trilogy, #2) Cover Her Face Supernaturally First King of Shannara Bury Your Dead The Overlook أنت لي The House of the Seven Gables Rising storm Love Warrior The Brutal Telling I Never Promised You a Rose Garden The Crimson Crown L\\'Amant The Power and the Glory Paula Lila Sweetbitter Romancing Mister Bridgerton (Bridgertons, #4) Tangerine Hell House The Liar The Third Victim The Wrong Side of Goodbye Hell\\'s Corner  Key of Valor (Key Trilogy, #3) Barbarians at the Gate: The Fall of RJR Nabisco Ancillary Sword Franz Kafka\\'s The Castle Time\\'s Twisted Arrow  The Girl Who Circumnavigated Fairyland in a Ship of Her Own Making The Book of the Dead Er ist wieder da The Expats Bare Bones Beautiful Day The Indwelling: The Beast Takes Possession Dexter in the Dark Das Glasperlenspiel The Yellow Birds Just One Look The Proposal My Family and Other Animals Back Roads Cathedral Fantastic Beasts and Where to Find Them: The Original Screenplay A Million Miles in a Thousand Years: What I Learned While Editing My Life Eona: The Last Dragoneye Eight Cousins R is for Ricochet Prince of Wolves  Diary of a Worm The Grey King Devoured The Book of Strange New Things Epic Fail A Caress of Twilight (Merry Gentry, #2) The Manchurian Candidate Fudge-a-Mania Operating Instructions: A Journal of My Son\\'s First Year Pale Blue Dot: A Vision of the Human Future in Space Simple Perfection (Perfection, #2) The Hundred-Foot Journey Scorpia Rising Big Nate: In a Class By Himself The Melancholy Death of Oyster Boy and Other Stories Breath, Eyes, Memory  Voyage au bout de la nuit The Scarecrow  The Humans Crocodile Tears 1/4 جرام For Women Only: What You Need to Know about the Inner Lives of Men A Quick Bite Key of Knowledge Ice Station A Dangerous Fortune The Well of Lost Plots An Inquiry into the Nature and Causes of the Wealth of Nations  Canada The Big Over Easy The Seeing Stone Stalingrad: The Fateful Siege, 1942–1943 ビーストマスター 1 Giggle, Giggle, Quack West with the Night The Cellist of Sarajevo Smooth Talking Stranger  (Travis Family #3)  If You Ask Me: And of Course You Won\\'t Discours de la Méthode suivi de Méditations Métaphysiques The Defector Rilla of Ingleside The Wisdom of Crowds Still Life with Crows (Pendergast, #4) Fever Dream Outpost Can\\'t We Talk about Something More Pleasant? The Long Hard Road Out of Hell Lyle, Lyle, Crocodile (Lyle the Crocodile) Etiquette & Espionage As Intermitências da Morte Sandry\\'s Book Britt-Marie var här Kim Written in Red The Seven-Percent Solution: Being a Reprint from the Reminiscences of John H. Watson, MD Gregor and the Marks of Secret The Prodigal God: Christianity Redefined Through the Parable of the Prodigal Sons Toujours Provence The Lost Painting: The Quest for a Caravaggio Masterpiece The Light in the Ruins A Deepness in the Sky Kritik der reinen Vernunft A Murder is Announced Leven en werken van de Kabouter Undead and Unemployed The Little Lady Agency On Liberty Not My Father\\'s Son Nigella Express: Good Food Fast Gabriel\\'s redemption Scott Pilgrim, Volume 5: Scott Pilgrim Vs. the Universe Better: A Surgeon\\'s Notes on Performance Play Twilight and Philosophy: Vampires, Vegetarians, and the Pursuit of Immortality (The Blackwell Philosophy and Pop Culture Series) Games People Play Mitosis La Dame aux camélias The Wedding Dress Fish! A Remarkable Way to Boost Morale and Improve Results D-Day June 6, 1944: The Climactic Battle of WWII A Long Walk to Water Light Stuck-Up Suit To Your Scattered Bodies Go Midnight Bayou Winter\\'s Tale The Doomsday Conspiracy Common Sense Falling Leaves: The Memoir of an Unwanted Chinese Daughter رحلتي من الشك إلى الإيمان Whispers at Moonrise  The 4-Hour Body Les Particules élémentaires Beauty from Surrender The Adventures of Captain Underpants How Children Succeed: Grit, Curiosity, and the Hidden Power of Character The Fountains of Paradise Baba ve Piç Two Boys Kissing The Ruins A Dangerous Path Dances with Wolves Bloodhound (Beka Cooper, #2) The Night Angel Trilogy A Rose for Emily Holy Bible English Standard Version A Morbid Taste for Bones Le Vite de\\' più eccellenti pittori, scultori, e architettori da Cimabue insino a\\' tempi nostri Unleash the Night Syren Метро 2033 The Slap The Art Spirit: Notes, Articles, Fragments of Letters and Talks to Students, Bearing on the Concept and Technique of Picture Making, the Study of Art Generally, and on Appreciation (Icon Editions) Brilliance The Fortress of Solitude The Darkest Evening of the Year Authority  The Wrath of Mulgarath Bee Season Indelible Night Chills Be Here Now Trace Genghis: Birth of an Empire The Ruby Knight The Thief of Always Kiss of Crimson  The Keepsake Kiss of a Demon King  The Bonehunters Chanakya\\'s Chant The Naked and the Dead Battle Cry of Freedom Blubber One Grave at a Time (Night Huntress, #6) Apollyon I Heart New York Airhead  Beauty\\'s Release (Sleeping Beauty, #3) Jessica\\'s Guide to Dating on the Dark Side E.E. Cummings: Complete Poems 1904-1962 Smoke Gets in Your Eyes: And Other Lessons from the Crematory The Rembrandt Affair The Call of Cthulhu 20th Century Ghosts Ghostwritten The One That Got Away The Ruby Circle Where the Mountain Meets the Moon Swallows and Amazons Rock Hard How to Build a Girl Sang Pemimpi The Know-It-All: One Man\\'s Humble Quest to Become the Smartest Person in the World The Double Bind The Ice Twins The Edge of Always The Virgin Blue Salt Sugar Fat: How the Food Giants Hooked Us  Half Magic Dawn of the Dreadfuls (Pride and Prejudice and Zombies, #0.5) Live To Tell 84, Charing Cross Road Peace Is Every Step: The Path of Mindfulness in Everyday Life 電撃デイジー 1 Scrappy Little Nobody Started Early, Took My Dog Batman: A Death in the Family TransAtlantic Eternal Kiss of Darkness The Spellman Files Books of Blood: Volumes 1-3 The Judas Strain Searching for God Knows What Fatherland Freedom™ The Bridge of San Luis Rey Белые ночи Skin Trade Disney\\'s the Lion King (Disney Classic Series) Born in Ice The Sellout Fables, Volume 4: March of the Wooden Soldiers Night School The Silent Girl Horton Hatches the Egg Beyond Belief: My Secret Life Inside Scientology and My Harrowing Escape Απολογία Preacher: Proud Americans The Wolf Gift The Terror Madeline\\'s Rescue Garden of Shadows A Perfect Blood Joni War of the Twins Cross Fire Brunelleschi\\'s Dome: How a Renaissance Genius Reinvented Architecture Creative Visualization: Use the Power of Your Imagination to Create What You Want in Your Life Metro Girl Second Grave on the Left Katherine A Short History of Tractors in Ukrainian Industrial Magic Le Petit Nicolas The Atlantis Plague We Were Soldiers Once... and Young: Ia Drang - the Battle That Changed the War in Vietnam Whiteout A Distant Mirror: The Calamitous 14th Century Heat The Game \"N\" is for Noose Just Like Heaven Catch Me The Shop on Blossom Street Starless Night (Legacy of the Drow #2) Night Fall Robert Ludlum\\'s The Bourne Objective The Score Even Now Testimony Magic Rises Whispers Under Ground Unlucky 13 The Best Laid Plans Nation Secrets of a Summer Night Red A Trick of the Light White Hot Kiss Pandora Hearts 1 Lit Mockingbird 28 حرف The Egypt Game Ellen Foster Sämtliche Erzählungen Test of the Twins (Dragonlance Legends, #3) Wise Blood Kürk Mantolu Madonna Running with the Demon Lothaire Knuffle Bunny Too: A Case of Mistaken Identity The Whole Truth Out of the Easy Batman: The Man Who Laughs Midnight The Hard Thing about Hard Things: Building A Business When There Are No Easy Answers My Booky Wook Shadow Spell Just My Type: A Book About Fonts Promises in Death Love Is a Dog from Hell: Poems, 1974-1977 The Fifth Season The Analyst Shades of Grey That Was Then, This Is Now The Family Fang Min kamp 1 A Red Herring Without Mustard No Ordinary Time: Franklin and Eleanor Roosevelt: The Home Front in World War II Straight Man The Moviegoer Вишнëвый сад 11 Birthdays Sisterhood Everlasting Infinity Welcomes Careful Drivers Coyote Blue فوضى الحواس Orthodoxy The Heart of the Matter The Long Haul  Sail The Sleeper and the Spindle Beauty\\'s Punishment Can Love Happen Twice? A Lion Among Men Shadow of a Dark Queen (The Serpentwar Saga, #1) This Boy\\'s Life: A Memoir Patient Zero Death Comes for the Archbishop The Son of Sobek Le Tartuffe, ou L’Imposteur Passion Unleashed 高校デビュー 1 في ديسمبر تنتهي كل الأحلام Just for You Amazonia  Feeling Good: The New Mood Therapy Blue Smoke Predator Обломов Inca Gold Delicious! NurtureShock: New Thinking About Children Wild Fire Two Little Girls in Blue Daughter of the Empire Everlost Dreams of a Dark Warrior Theodore Boone, Kid Lawyer A Year Down Yonder Own the Wind Marina Written on the Body Tiger\\'s Voyage Dean Koontz\\'s Frankenstein: Dead and Alive Genome: The Autobiography of a Species in 23 Chapters The Going-To-Bed Book Knocked out by my nunga-nungas The Sacrilege: The Antichrist Takes the Throne Redeployment Going Bovine The Postman Always Rings Twice  The Dead-Tossed Waves  Shadow Divers: The True Adventure of Two Americans Who Risked Everything to Solve One of the Last Mysteries of World War II Moon Over Manifest The Glass Palace The Eye of Minds 4.50 From Paddington Ceremony in Death Kakerlakkene Grave Surprise La ciudad de las bestias أولاد حارتنا The Scar Dragondrums (Pern: Harper Hall, #3) Galileo\\'s Daughter Mila 18 Sea of Poppies Nightfall How I Became a Pirate The Monkey Wrench Gang (Monkey Wrench Gang, #1) Last Night in Twisted River Love wins Bite Club Mr. Perfect Up to Me Waking Up Married No Time for Goodbye Ida B. . . and Her Plans to Maximize Fun, Avoid Disaster, and (Possibly) Save the World The Dragon Keeper The China Study: The Most Comprehensive Study of Nutrition Ever Conducted and the Startling Implications for Diet, Weight Loss and Long-term Health The Gruffalo The Salmon of Doubt: Hitchhiking the Galaxy One Last Time The City and the Stars 東京喰種トーキョーグール 1 How to train your dragon Brief Interviews with Hideous Men L.A. Candy The Siren The Quiet Game American Sphinx: The Character of Thomas Jefferson Hodejegerne The Sheltering Sky The Rest of Us Just Live Here The Lady Elizabeth The Astronaut Wives Club The Man Who Was Thursday - A Nightmare Cheaper by the Dozen The Monster of Florence: A True Story Winter\\'s Bone Seduced by Moonlighty (Merry Gentry, #3) Sword Song Deceptively Delicious: Simple Secrets to Get Your Kids Eating Good Food The Weight of Water Music of the Heart The Scarlet Feather The Last Hero We Wish to Inform You That Tomorrow We Will Be Killed with Our Families The English Girl The Geography of You and Me Angel  Seeds of Rebellion (Beyonders, #2) Chinese Cinderella: The True Story of an Unwanted Daughter Chosen Prey The Black Dagger Brotherhood: An Insider\\'s Guide Head Games  Ramona and Her Father The Secret Adversary Rayuela Stars Above Clapton: The Autobiography No Logo No Second Chance Fear and Loathing on the Campaign Trail \\'72 Shroud for a Nightingale First Frost Stories of Your Life and Others  Travesuras de la niña mala The Girl Who Fell From the Sky Hide (Detective D.D. Warren, #2)  Ayat-ayat Cinta Broken prince Manuscrito encontrado em Accra Weaveworld Loves Music, Loves to Dance The Rivers of Zadaa Sweet Dreams Nicholas and Alexandra Wicked Business Escape from Mr. Lemoncello\\'s Library Friday Her Mother\\'s Hope (Marta\\'s Legacy, #1) Red Rabbit Arrows of the Queen (Heralds of Valdemar #1) Angelfire Mile 81 The Brooklyn Follies The Ironwood Tree The Yearling Dare You To I Am Ozzy The Sex Lives of Cannibals: Adrift in the Equatorial Pacific Touch of Power A Virtuous Woman  Tears of the Moon The Sapphire Rose  Did You Ever Have a Family On Death and Dying 14th Deadly Sin It Happened One Autumn Scarpetta Darkness, Take My Hand Siege of Darkness Play With Me Portrait in Death Second Chance Boyfriend Y: The Last Man Vol. 4: Safeword Sunshine \"D\" is for Deadbeat  Salvage the Bones The Hook Up Throne of Jade Mornings on Horseback Y: The Last Man Vol. 7: Paper Dolls London: The Novel Silence My True Love Gave to Me: Twelve Holiday Stories Sand Omnibus Off to Be the Wizard Nobody\\'s Fool Rage Germinal Ceaseless The Demolished Man Lost In Time Ninth Key Find Her Frigid De amor y de sombra The Evolution of Calpurnia Tate Bad Girls Don\\'t Die Atlantis Found Asterios Polyp The Walking Dead, Vol. 4: The Heart\\'s Desire The Stonekeeper\\'s Curse Sick Puppy The Days Are Just Packed: A Calvin and Hobbes Collection Odd Apocalypse Surveiller et punir. Naissance de la prison Pay It Forward 満月をさがして 1 Harlequin In the Company of the Courtesan The Skull Throne Devil May Cry Two By Two Inescapable Illusions Fatal Vision Magician: Apprentice (The Riftwar Saga, #1)  That Hideous Strength The Bees Ape House China Rich Girlfriend A Woman After God\\'s Own Heart State Of The Union The Good House Bless Me, Ultima Glamorama F is for Fugitive Frelseren (Harry Hole, #6) Seta Boomerang The Remnant: On the Brink of Armageddon Il barone rampante Twilight: The Graphic Novel, Raw The Great Book of Amber The Darkest Lie (Lords of the Underworld #6) Czas pogardy That Boy The Dressmaker Paradise Jumanji Replay Incognito: The Secret Lives of the Brain Death by Black Hole: And Other Cosmic Quandaries The Ancestor\\'s Tale: A Pilgrimage to the Dawn of Evolution The Pigman Deep Storm The Full Cupboard of Life How to Marry a Millionaire Vampire The Foot Book: Dr. Seuss\\'s Wacky Book of Opposites (Bright & Early Board Books) Beautiful Bitch The Recruit (Cherub, #1) Anatomy for the Artist Fermat\\'s Enigma: The Epic Quest to Solve the World\\'s Greatest Mathematical Problem The Christmas Box My Blood Approves Until November The Bloody Chamber & Other Stories A Cook\\'s Tour: Global Adventures in Extreme Cuisines Power of Art Finding me : A Decade of Darkness, a Life Reclaimed Born in Shame Return to Paradise My Heart and Other Black Holes Girl in a Band Ninth Grade Slays (The Chronicles of Vladimir Tod, #2) Book of the Dead The Hero with a Thousand Faces Bad Blood Jesus Freaks: DC Talk and The Voice of the Martyrs - Stories of Those Who Stood for Jesus, the Ultimate Jesus Freaks Cooked: A Natural History of Transformation  Daughter of the Blood The Lost Gate Politi (Harry Hole, #10) Vittorio the Vampire ふしぎ遊戯 1 The Lace Reader Anne Rice\\'s The Tale of the Body Thief (Graphic Novel) The Lone Ranger and Tonto Fistfight in Heaven A Stroke of Midnight (Merry Gentry, #4) The Chemist Empress Orchid And Another Thing... (Hitchhiker\\'s Guide to the Galaxy, #6) Damaged The Princess and the Goblin There\\'s a Wocket in My Pocket The Gatecrasher The Confusion Raising Steam Independent Study X Lord of Light Esio Trot Hellboy: The Chained Coffin and Others Run for Your Life Play It as It Lays Dime Store Magic Blue Mars  As Valkírias Please Ignore Vera Dietz The Struggle The Dark Highlander The Immortal Highlander  No god but God: The Origins, Evolution, and Future of Islam Valis Le deuxième sexe: I. Les faits et les mythes, II. L\\'expérience vécue The Runaway King Dragon Wing (The Death Gate Cycle, #1) Jailbird Y: The Last Man Vol. 9: Motherland Ilium The Highly Sensitive Person - How to Thrive when the World Overwhelms You The Palace of Illusions The First American: The Life and Times of Benjamin Franklin Dance of Death This World We Live In Hunter × Hunter #1 Vengeance in Death To Say Nothing of the Dog The Terminal Man A Song of Ice and Fire Graphic Novels White Cat Where I’m Calling From: The Selected Stories Something Rotten The Land of the Painted Caves Autobiography of a Face Vanishing Girls Darke The Wimpy Kid Movie Diary: How Greg Heffley Went Hollywood The Thin Man Trading Up The Uplift War Rage of a Demon King (The Serpentwar Saga #3) Lucky Jim A Faint Cold Fear The Rose Society Waiting For You The Short and Tragic Life of Robert Peace: A Brilliant Young Man Who Left Newark for the Ivy League The Neighbor Y: The Last Man Vol. 10: Whys And Wherefores Eon The Summer Before the War Erinnerungen, Träume, Gedanken von C.G. Jung Bullet The Scottish Prisoner بيكاسو وستاربكس Směšné lásky  The Secret Diaries of Miss Miranda Cheever Under the Volcano Sleep tight Dinosaurs Before Dark Have Space Suit - Will Travel The Sea Wolf Darkest Hour Hark! A Vagrant The Dive From Clausen\\'s Pier The Fall of the House of Usher  The Soldiers of Halla The Boyfriend List: 15 Guys, 11 Shrink Appointments, 4 Ceramic Frogs and Me, Ruby Oliver (Ruby Oliver, #1) Regeneration Four: The Initiate Lucky Man The Penelopiad The Improbable Adventures of Sherlock Holmes Fables, Volume 2: Animal Farm The Fire Next Time Don\\'t Let the Pigeon Stay Up Late! We3 Princess in Pink The Coffin Club (Vampire Kisses, #5) Main Street Percy Jackson\\'s Greek Gods Dairy Queen Telegraph Avenue Genesis The Book of Speculation Flirt Inner Harbor (Chesapeake Bay Saga #3) Bite Me Green Rider Boy, Snow, Bird The Social Animal: The Hidden Sources of Love, Character, and Achievement Solar The Structure of Scientific Revolutions Small Island A Great Reckoning The Sky is Falling Sonnenfinsternis The Perfect Play The Curse of Chalion Chesapeake Blue (Chesapeake Bay Saga, #4) Ash The Burning Land Second Helpings (Jessica Darling, #2) The Earth, My Butt, and Other Big Round Things Lord Jim Don\\'t Panic: The Official Hitchhikers Guide to the Galaxy Companion Things Not Seen House Raise the Titanic! The Supernaturalist Queen of Babble in the Big City Yertle the Turtle (Classic Seuss) Family Matters The Happiest Baby on the Block Perahu Kertas Schooled It Starts with Food: Discover the Whole30 and Change Your Life in Unexpected Ways Merle\\'s Door: Lessons from a Freethinking Dog Brian\\'s Winter How the Garcia Girls Lost Their Accents  Be with Me Jo\\'s Boys, and How They Turned Out: A Sequel to \"Little Men\" Home  Notes of a Dirty Old Man Fasandræberne The Good Lord Bird Greenwitch The Walking Dead, Vol. 5: The Best Defense Take a Chance (Chance, #1) Portrait of a Spy One Good Turn Abarat 2061: Odyssey Three The Walk Afterlife Slam Dark Triumph (His Fair Assassin, #2) The Crossover Edensor The Line of Beauty The Rose Garden The English Assassin Chuck Klosterman IV: A Decade of Curious People and Dangerous Ideas The Wicked + The Divine, Vol. 1: The Faust Act Innocence Dark of the Moon In The Afterlight Goddess Interrupted Lucinda’s Secret Henry Huggins Bedtime for Frances 窓ぎわのトットちゃん Half the World When Genius Failed: The Rise and Fall of Long-Term Capital Management Writing Down the Bones: Freeing the Writer Within City of Golden Shadow An Ice Cold Grave Jacob Have I Loved The Postcard Killers 神様はじめました 1 Maybe Not Black Water Five Little Pigs Embassytown Sherlock Holmes: The Complete Novels and Stories, Volume I Strong Poison The Far Side Gallery The Eternity Cure Holiday in Death Thief Between a Rock and a Hard Place Legend  Every Boy\\'s Got One (Boy, #3) Small Sacrifices: A True Story of Passion and Murder All My Friends Are Dead The Six Sacred Stones Rising Tides (Chesapeake Bay Saga #2) Bleach―ブリーチ― 15 Cash: The Autobiography of Johnny Cash A Stranger in the Mirror Flush Out of Africa The Watchman Antifragile: Things That Gain from Disorder Free Will This Is Where It Ends Stray Liar & Spy The Blank Slate: The Modern Denial of Human Nature The Dreaming Void Being Nikki The Tragedie of Antony and Cleopatra Among the Impostors (Shadow Children, #2) The Eternal Dawn Addicted Article 5 Found in You Midnight Rising Kisscut Last Exit to Brooklyn La fiesta del chivo Drums, Girls & Dangerous Pie The First Bad Man To Green Angel Tower (Storm) Jet The Sea Mr. Murder Changeless The Magic of Recluce The Bastard (Kent Family Chronicles, Vol. 1) The Last Policeman Earth Abides Thunderhead Dragon bound The Colorado Kid The Monkey\\'s Paw The Pursuit of Holiness Again the Magic  Low Country Revolution The Fall of Reach The Nix The Calvin and Hobbes Lazy Sunday Book Carmilla Drowned Wednesday Saving Francesca Avoiding Commitment Confessions of a murder suspect Y: The Last Man Vol. 6: Girl on Girl Milkweed Virtual Light American on Purpose Always Looking Up: The Adventures of an Incurable Optimist Nine Rules to Break When Romancing a Rake The Lifeboat Quo vadis? The Jewel The Fire Within Servant of the Empire (The Empire Trilogy, #2) After We Collided Confederates in the Attic: Dispatches from the Unfinished Civil War Seven Ancient Wonders Mistral\\'s Kiss Desire Unchained (Shadow Lover) Cold Fire ; Hideaway; The Key to Midnight I Am Not A Serial Killer (John Cleaver, #1) Welcome to the World, Baby Girl! Filth Turbo Twenty-Three The Alibi A Land More Kind Than Home Kristy\\'s Great Idea Den femte kvinnan The Wordy Shipmates Bel-Ami A River Runs Through It and Other Stories El tiempo entre costuras Idoru The Best Man A King\\'s Ransom The Poisoner\\'s Handbook: Murder and the Birth of Forensic Medicine in Jazz Age New York RoomHate Living Dead Girl धर्मपद [Dhammapada] Law Man Deadly Décisions Rising Strong Speaking from Among the Bones Swimsuit Through Gates of Splendor Dirty Red The Darkest Part of the Forest Dream a Little Dream تاكسي: حواديت المشاوير The Samurai\\'s Garden The Hating Game Black-Eyed Susans Neanderthal Seeks Human Goliath Criminal The Bear and the Dragon W is for Wasted I\\'m Just Here for the Food: Food + Heat = Cooking Sins of the Night Shades of Earth Tehanu Reboot Hunger Makes Me a Modern Girl Thomas Jefferson: The Art of Power Murder in Mesopotamia Excession What Looks Like Crazy on an Ordinary Day G is for Gumshoe King & Maxwell The Magician\\'s Apprentice Reaper\\'s Gale  Crown of Shadows The Garden of Rama (Rama, #3) Our Man in Havana Batman: The Black Mirror Kill Me If You Can A Lick of Frost The Abyss The Book of Shadows Läsarna i Broken Wheel rekommenderar Live by Night Until I Die The Magic of Reality: How We Know What\\'s Really True Remember Stuff White People Like: the Definitive Guide to the Unique Taste of Millions Blood Magick The Power That Preserves The Brightest Star in the Sky Entwined El coronel no tiene quien le escriba Waiting for the Barbarians The Innovators: How a Group of Inventors, Hackers, Geniuses and Geeks Created the Digital Revolution Kabul Beauty School: An American Woman Goes Behind the Veil To Have and Have Not  Jackdaws The System of the World Touching Spirit Bear The Flamethrowers Twice Tempted  The Selection Stories: The Prince & The Guard Crush It!: Why Now Is the Time to Cash in on Your Passion Redemption Ark The Venetian Betrayal Collected Poems 1909-1962 The Robe The Yonahlossee Riding Camp for Girls Lead No Humans Involved Endless Summer Que Necesita El, Que Necesita Ella  Dance of the Gods بوف کور The Ring of Solomon Welcome to Dead House Chronicles of The Black Company (The Black Company / Shadows Linger / The White Rose) Until Friday Night Mother of Pearl Everyone Brave Is Forgiven The Things We Do for Love Son of the Shadows The Key to Rebecca Hard Bitten Barefoot Contessa Family Style: Easy Ideas and Recipes That Make Everyone Feel Like Family Heart of the Sea Veil of Midnight Subterranean I Don\\'t Know How She Does It The Long Way to a Small, Angry Planet Cuentos completos Tithe: A Modern Faerie Tale  Raised by Wolves Promise Me (Myron Bolitar, #8) The Vampire Diaries: The Return: Midnight Dark Side of the Moon Mistakes Were Made (But Not by Me): Why We Justify Foolish Beliefs, Bad Decisions, and Hurtful Acts Abducted Roadwork Valhalla Rising (Dirk Pitt, #16) The Third Chimpanzee: The Evolution and Future of the Human Animal The Given Day Deadline Long Lost Faithless My Stroke of Insight The Walking Dead 6 Inés del alma mía Frog Music An Instance of the Fingerpost 5 cm Crossing the Chasm: Marketing and Selling High-Tech Products to Mainstream Customers Robots and Empire Island Huis clos Are You My Mother?: A Comic Drama ABNKKBSNPLAKo?! (Mga Kwentong Chalk ni Bob Ong) The Blue Bistro Third Grave Dead Ahead L\\'identité The Heart of Betrayal First They Killed My Father: A Daughter of Cambodia Remembers  The Funhouse The SPEED of Trust: The One Thing that Changes Everything You Belong to Me Not Without My Daughter The Killing Hour Castle Roogna While My Pretty One Sleeps Dance with a Vampire (Vampire Kisses, #4) Tris\\'s Book The Moral Landscape: How Science Can Determine Human Values The Mill River Recluse Hey Nostradamus! Che Guevara: A Revolutionary Life The Secret Hour Ser Como o Rio que Flui Lament: The Faerie Queen\\'s Deception (Books of Faerie, #1)  Shopaholic to the Stars (Shopaholic, #7) High Noon The Farm Men Explain Things to Me Rock With Me El príncipe de la niebla Driving Miss Daisy Conspiracy in Death In the Company of Cheerful Ladies The First Four Years Bones to Ashes Grimms Märchen The Definitive Book of Body Language Never Cry Wolf : The Amazing True Story of Life Among Arctic Wolves Tick Tock Cleopatra\\'s Daughter Grave Secrets Zoe\\'s Tale The First Commandment Collected Works The Rose & the Dagger The Fold The Nature of the Beast Green 黒執事 III [Kuroshitsuji III] The Crown Tower Daytripper Club Shadowlands (Masters of the Shadowlands, #1) Masumiyet Müzesi The Mothers  Faust. Der Tragödie erster und zweiter Teil  Faking It Accordance Bloodrose Cards on the Table Tales From a Not-So-Smart Miss Know-it-all Ramona and Her Mother Appointment with Death Natural Born Charmer The Woman Warrior: Memoirs of a Girlhood Among Ghosts The Three Little Kittens (A First Little Golden Book) Erections, Ejaculations, Exhibitions and General Tales of Ordinary Madness  Carry On, Warrior: Thoughts on Life Unarmed  The Valley of Fear The Pagan Stone Principle Centered Leadership Monster Hunter International The Bitter Kingdom The Teeth of the Tiger Moreta: Dragonlady Of Pern Preacher: War in the Sun A Single Man Mortality Icefire Norse Mythology Honor\\'s Splendour Shut Out Valley of Silence The Prophet of Yonwood Hope to Die Deep Kiss Of Winter  Doll Bones Red Mist I Am Half-Sick of Shadows  Wild Man Welcome to Night Vale An Offer From a Gentleman Dumplin\\' Ancillary Mercy The Darkest Surrender Danse Macabre Seducing Cinderella Blue Shoes and Happiness  Our Mutual Friend A Handful of Dust Leota\\'s Garden The Book of Illusions To Tame a Highland Warrior A Mango-Shaped Space Daniel Deronda Chasing Perfect The Debutante Divorcée The Wheel of Darkness (Pendergast, #8) Sleeping Giants Blackmoore The Sandman: Endless Nights The First Wives Club The Vanishing Act of Esme Lennox The Night Watch Mightier Than the Sword Blood Canticle Nature Girl Boy\\'s Life Sister of My Heart 博士の愛した数式  H is for Homicide JPod The Face The Ascent of Money: A Financial History of the World Food: A Love Story The Impossible Knife of Memory Purgatorio Deliver Us From Evil The Quillan Games Girlfriend in a Coma The Green Mile, Part 1: The Two Dead Girls Ella Minnow Pea: A Novel in Letters Toll the Hounds The Bone Garden Supernova: Ksatria, Puteri, dan Bintang Jatuh A Head Full of Ghosts Better Than Before: Mastering the Habits of Our Everyday Lives Broken Homes The King\\'s Buccaneer El cuaderno de Maya One Crazy Summer Dragon Haven Right Ho, Jeeves If You\\'re Reading This, It\\'s Too Late Moonrise The Wednesday Letters Betrayals You\\'ve Been Warned Chasing Vermeer The Jesus I Never Knew Turning Angel The Unidentified Redhead A Child\\'s Garden of Verses The Informers The Queen The Devil Colony The Walking Dead Volume 12 Some Luck Pedagogia do Oprimido William Shakespeare\\'s Star Wars: Verily, a New Hope Identity Crisis Unspoken Rama II O Evangelho segundo Jesus Cristo \"Who Could That Be at This Hour?\" The Calling Avatar The Last Airbender: The Lost Adventures Five Little Peppers and How They Grew Princess of the Midnight Ball الطنطورية  Miss Rumphius Ball Four Fables, Volume 3: Storybook Love Aura The Dance of Anger: A Woman\\'s Guide to Changing the Patterns of Intimate Relationships Forget You Marathon Man The Apothecary\\'s Daughter Rock the Heart Bearing an Hourglass The Five Chinese Brothers Providence Days with Frog and Toad Captive Prince The King of Attolia What Do You Care What Other People Think? Further Adventures of a Curious Character Skippy Dies The Atlantis World Embrace Unnatural Death Angels in America: A Gay Fantasia on National Themes: Millennium Approaches (Part One) Dreaming of You  Comfort Me with Apples: More Adventures at the Table John Keats : The Complete Poems Almost Heaven Three Day Road Red Harvest Trust in Me NARUTO -ナルト- 巻ノ十一  One Summer Whitney, My Love Train to Pakistan Jasper Jones A Brief History of Seven Killings Hold Still The Prize The Middlesteins Le capital au XXIe siècle  Eloise The Screaming Staircase Zomerhuis met zwembad True History of the Kelly Gang Get Shorty One Tiny Lie The Day of the Locust Genius: The Life and Science of Richard Feynman Full Moon Rising Winter Solstice United We Spy The Morganville Vampires, Volume 1 Wolf in White Van Drei Kameraden Bloody Valentine The Heart of a Woman Chrzest ognia Alex Cross\\'s Trial Sway: The Irresistible Pull of Irrational Behavior King of the Wind: The Story of the Godolphin Arabian Waking Up: A Guide to Spirituality Without Religion The Call of the Wild, White Fang and Other Stories  The Rape of Nanking: The Forgotten Holocaust of World War II Brokeback Mountain Nobody\\'s Baby But Mine Keep Quiet Sons of Fortune Kabalmysteriet Rumor Has it Surface Detail The Mating The Gates of Rome Curtain: Poirot’s Last Case Swallowing Darkness California The Pigeon Finds a Hot Dog! Aftermath Vampireville (Vampire Kisses, #3) Hercule Poirot\\'s Christmas Mrs. Lincoln\\'s Dressmaker  الرحيق المختوم: بحث في السيرة النبوية على صاحبها أفضل الصلاة والسلام  The Baker\\'s Daughter The Shadows Rotkäppchen Captain Underpants and the Attack of the Talking Toilets Ghost Boy Essentialism: The Disciplined Pursuit of Less Wideacre If I were you Beautifully Damaged Wethering the Storm Meditationes de prima philosophia The Enchanted Wood Forever Black The Swans of Fifth Avenue カードキャプターさくら Size 14 Is Not Fat Either Gorillas in the Mist A Case of Need The Love Affairs of Nathaniel P.  Revealed Sworn to Silence Magic Breaks Чайка 1Q84 Book 3 [Ichi-kyū-hachi-yon] Boy Meets Girl Dancing in my nuddy-pants! The Door into Summer Luna Runaway Matter Leo Maurice New York to Dallas The Stepford Wives The Longest Day Motor Mouth The Reality Bug True Blue Mistress of the Empire (The Empire Trilogy, #3) Winter Street The Hidden Staircase (Nancy Drew Mystery Stories, #2) Captains and the Kings The Fallen Angel One Tuesday Morning Hit List The Wall of Winnipeg and Me Let Me Call You Sweetheart Break No Bones The Willpower Instinct: How Self-Control Works, Why It Matters, and What You Can Do to Get More of It Broken Angels Beyond Reach Fuzzy Nation I is for Innocent V. Why I Am Not a Christian and Other Essays on Religion and Related Subjects Ansichten eines Clowns The Weight of Blood When He was Wicked V is for Vengeance Among the Betrayed Spook Country 易 [Yì] Blue Nights Blindsight American Vampire, Volume 1 Heat Lightning De la démocratie en Amérique Drop Shot Find You in the Dark The School of Essential Ingredients Azincourt  Dinner at the Homesick Restaurant Money Secret Prey Clive Barker\\'s The Great and Secret Show: Volume 1 (Clive Barker\\'s the Great and Secret Show) His Last Bow: Some Reminiscences of Sherlock Holmes Dune: House Atreides Charmed Life  The Posthumous Papers of the Pickwick Club Netherland The Romanov Prophecy Ecstasy Unveiled The Uncommon Reader  Amerika Sunset النبطي When She Woke The Naked Face The Portable Atheist: Essential Readings for the Non-believer Sin Undone The Tao of Physics: An Exploration of the Parallels Between Modern Physics and Eastern Mysticism The Girl With No Past Acceptance Lady Luck The Lonely Hearts Club Ransom The Big Four Peril at End House Disclaimer Il cimitero di Praga Beatrice and Virgil シャーマンキング 1 Eye of the World (The Wheel of Time, #1-1) Hyperspace: A Scientific Odyssey Through Parallel Universes, Time Warps, and the Tenth Dimension How the Mind Works Leaving Live and Let Die Utilitarianism Winger The Magic Strings of Frankie Presto Fool\\'s Quest The Body Snatchers Junk Killing Patton: The Strange Death of World War II\\'s Most Audacious General Charlie Bone and the Invisible Boy (The Children of the Red King, # 3) First Shift: Legacy Worst Case The Unlikely Spy Royal Blood (Vampire Kisses, #6) Conversations with God, an uncommon dialogue, book 3 M Train Love Medicine The Inner Circle Dragon Slippers (Dragon Slippers, #1) The Princess Diarist The Crippled God Gone  Pride of Baghdad Soumission  Woken Furies Blameless On Writing Well: The Classic Guide to Writing Nonfiction I\\'m OK-You\\'re OK The Sicilian Fire Touched The Copper Beech The Compound The Covenant L’écume des jours The Pledge The Villa Dark Desire Fragments A Rogue by Any Other Name Sein und Zeit Savage Inequalities: Children in America\\'s Schools The Empty Chair  Jamaica Inn Airborn The English Spy Wildwood The Cement Garden Serpent Mage Born on a Blue Day: Inside the Extraordinary Mind of an Autistic Savant The Bet Little Princes: One Man\\'s Promise to Bring Home the Lost Children of Nepal Kitchen no Ohimesama Lust for Life: A Novel of Vincent Van Gogh Skinwalker Hissy Fit Private Games  The Cold Dish Pinkalicious The Poetry of Pablo Neruda Falling Angels Sleeping Arrangements Monsters Lady Susan Memories of Midnight The Bone People Wolf Brother The Crimson Campaign The Universe Versus Alex Woods Stormy, Misty\\'s Foal バクマン。 1 Heaven, Texas The Murder on the Links Der Antichrist The Looming Tower: Al-Qaeda and the Road to 9/11 The Cat Who Walks through Walls Dexter by Design Morning, Noon & Night Memory in Death  The Waves The Nine: Inside the Secret World of the Supreme Court The Violets of March 엄마를 부탁해 House of M Tenth Grade Bleeds The Cat in the Hat Comes Back Oscar and Lucinda The Good Husband of Zebra Drive Up from Slavery The Secret Servant Hearts In Darkness Shards of Honor Astérix le Gaulois The Forever of Ella and Micha Say Goodbye Just Me and My Dad (Look-Look) All I Really Need To Know I Learned in Kindergarten Temple Peter and the Secret of Rundoon Holy Cow: An Indian Adventure Le Mur The House We Grew Up In A Dance With Dragons: Part 1 Dreams and Dust Full Black Five on a Treasure Island  Summer People There\\'s Treasure Everywhere: A Calvin and Hobbes Collection 花より男子 1 In the Plex: How Google Thinks, Works, and Shapes Our Lives When We Were Orphans Stitches: A Memoir The Last Nude Daja\\'s Book All the Weyrs of Pern Beautiful Sacrifice Black Powder War Heartbreaker Briar\\'s Book The First Man in Rome Every Dead Thing The Confessor ヤマトナデシコ七変化 The Walking Dead: Rise of the Governor The Thousand Orcs (Hunter\\'s Blades #1) Miller\\'s Valley The Glass Lake The Happiness Hypothesis: Finding Modern Truth in Ancient Wisdom The Masque of the Red Death The Evolutionary Void The Forbidden Game Perfect You Jazz You\\'re the one that I want Chicken Soup for the Teenage Soul (Chicken Soup for the Soul) The Very Quiet Cricket Something from the Nightside The Stars Shine Down The Beatles Anthology Sex at Dawn: The Prehistoric Origins of Modern Sexuality You Know You Love Me A Chair for My Mother  The Crow Road The Book of Joe ビューティーポップ 1 [Byūtī poppu 1] Boy Meets Girl: Say Hello to Courtship Fables, Volume 6: Homelands Reasonable Doubt Home Sweet Filthy Boy  The Winter\\'s Tale The Temporal Void Sex Criminals, Volume One: One Weird Trick The Rising : Antichrist is Born : Before They Were Left Behind Teardrop The Scarpetta Factor  The Winner\\'s Kiss Here be Dragons The Whipping Boy Short Stories from Hogwarts of Heroism, Hardship and Dangerous Hobbies Pygmalion and Three Other Plays Storm The Last Little Blue Envelope The Making of the Atomic Bomb Minding Frankie The Third Twin Dune: The Butlerian Jihad The Complete Poetry & Prose of William Blake Nutshell デスノート #2 (Desu Nōto) Gōryū (合流) Akira 1 Imperium Le bleu est une couleur chaude The Road to Little Dribbling The Firebird 学園アリス１ Breathing Lessons Selected Poems of Emily Dickinson The Strange Case of Dr. Jekyll and Mr. Hyde  Juliet The Darkest Secret (Lords of the Underworld, #7) God Help the Child The Umbrella Academy, Vol 1: The Apocalypse Suite Founders at Work: Stories of Startups\\' Early Days Infected This Song Will Save Your Life The Women of Brewster Place Ms. Marvel, Vol. 2: Generation Why Burn for Burn The Greater Journey: Americans In Paris The Hidden City Die Glasbläserin Practice Makes Perfect The Dark Hills Divide Fracture Me You Will Know Me The Sunne in Splendour An Innocent Client The MasterHarper of Pern The Drunkard\\'s Walk: How Randomness Rules Our Lives Merry Christmas, Alex Cross Don\\'t Make Me Think! A common sense approach to web usability Shakespeare\\'s Landlord (Lily Bard, #1) Shadows Pathfinder Shrill: Women Are Funny, It\\'s Okay to Be Fat, and Feminists Don\\'t Have to Be Nice A Lot Like Love The Angel of Darkness A Dance With Dragons: Part 2 After The Feast I Was So Mad (Look-Look) Sherlock Holmes : Silver Blaze Crooked House The Sword in the Stone Finding Cassie Crazy Prince Lestat The Blue Castle The Saga of the Swamp Thing, Vol 20 - 27 The Mirror Crack\\'d from Side to Side Shades of Midnight The Hat Pivot Point Hundarna i Riga The Water Knife Food Inc.: A Participant Guide: How Industrial Food is Making Us Sicker, Fatter, and Poorer-And What You Can Do About It The Cove The Monkey\\'s Raincoat The Caine Mutiny The neon rain Kitten\\'s First Full Moon Saga, Volume Six A Good Yarn Naked Heat Shall We Tell the President? Grave Secret (Harper Connelly, #4) Equus : a play The Enchantress Returns The Master Magician One Door Away from Heaven Love in the Afternoon Attack of the Fiend (The Last Apprentice #4) The Marriage Trap The Heretic Queen The Piano Teacher I Have Lived A Thousand Years: Growing Up In The Holocaust Secrets to the Grave Prized With a Tangled Skein Body Surfing Into the Labyrinth Day by Day Armageddon Sundiver Moab Is My Washpot Hardline Eyes of Prey Kissing Coffins (Vampire Kisses, #2) WAR Where Things Come Back The League of Extraordinary Gentlemen, Vol. 2 Birds of a Feather The Outcasts How to Talk to Anyone: 92 Little Tricks for Big Success in Relationships 名探偵コナン 1 The Abolition of Man Yu Yu Hakusho Gods in Alabama U Is for Undertow Passage to Dawn Bloody Jack: Being an Account of the Curious Adventures of Mary \"Jacky\" Faber, Ship\\'s Boy Shoe Dog: A Memoir by the Creator of Nike Survivor in Death (In Death, #20) Affinity Iceberg The Authoritative Calvin and Hobbes Cloudstreet The Girl Next Door Out  アウト Murder of Crows Grain Brain: The Surprising Truth about Wheat, Carbs, and Sugar--Your Brain\\'s Silent Killers Pilgrim at Tinker Creek Prince of the Blood The Courts of Chaos El Zorro The Introvert Advantage: How to Thrive in an Extrovert World Preacher: Dixie Fried The Rainbow The Capture Why We Get Fat: And What to Do about It T is for Trespass  Preacher: Ancient History (Preacher, #4) The Great Influenza: The Epic Story of the Deadliest Plague in History The Heavenly Man: The Remarkable True Story of Chinese Christian Brother Yun Prince of Fools Herzog UnSouled The Face Of Deception The Language Instinct: How the Mind Creates Language Descent Black Cat, Volume 1 Dare Me Last Breath عمارة يعقوبيان Martha Stewart\\'s Cookies Pardonable Lies The Frog Princess (The Tales of the Frog Princess, #1) Batman: Whatever Happened to the Caped Crusader? The Pioneer Woman: Black Heels to Tractor Wheels Swimmy  Suttree Love Bites (Vampire Kisses, #7) sTORI Telling The Righteous Mind: Why Good People Are Divided by Politics and Religion Lady Friday Rock Chick Rescue Clockworks Every Soul A Star Jesus Land : A Memoir Flotsam Silent Scream The Lion & the Mouse Girl of Nightmares Heart no Kuni no Alice   Lord of the Shadows (Cirque Du Freak, #11) Elric of Melniboné The Endurance: Shackleton\\'s legendary Antarctic expedition Winnie the Pooh and Tigger Too The Fury Hamilton: The Revolution Shelter Cry to Heaven Goddess Crave When Rabbit Howls Variant Path of the Assassin Waylander  Surfacing Ghost in the Wires: My Adventures as the World\\'s Most Wanted Hacker My Name Is Mary Sutter So You Want to Be a Wizard Death in the Clouds Foreign Influence Cemetery Dance Hitch-22: Some Confessions and Contradictions Baudolino Dark Magic The Omen Machine (Richard and Kahlan, #1) 15th Affair Wish You Well Barnyard Dance The Passenger Rush Too Far (Too Far, #4) Red Prophet (Tales of Alvin Maker, #2) Animalia Stone Butch Blues Don\\'t Look Back Girl Waits with Gun Astonish Me A Fish Out of Water Look to Windward An Officer and a Spy In the Kingdom of Ice: The Grand and Terrible Polar Voyage of the USS Jeannette A Stranger Is Watching Double Fudge The Morganville Vampires, Volume 3 Storm Born Locke & Key, Vol. 4: Keys to the Kingdom Horde بنات الرياض Kitty and the Midnight Hour Waiting The Jester Ordinary People In Real Life Bad Moon Rising Robin Hood, le prince des voleurs Peeps Collected Poems Vinegar Girl The Black house Scandal in Spring On the Street Where You Live Succubus On Top The Silent Blade (Paths of Darkness #1) Inherit the Wind Round Ireland with a Fridge The Dark And Hollow Places Uganda Be Kidding Me This Book Is Not Good for You Eating the Dinosaur Aztec All the Birds in the Sky Dodger Wildwood Dancing Home Again Books of Blood: Volume One The Man from St. Petersburg Daring to Dream Judgment in Death Innocent in Death (In Death, #24) Waiting to Be Heard: A Memoir Once Upon a Marigold The Dead in Their Vaulted Arches S. Lullabies for Little Criminals رباعیات [Robāʿiāt-e ʿOmar Khayyām] Sever Fourth Grave Beneath My Feet The Legend of Huma (Dragonlance: Heroes #1) The Dogs of Babel Madeline and the Bad Hat 77 Shadow Street Sir Thursday Parallel Worlds: A Journey Through Creation, Higher Dimensions, and the Future of the Cosmos Fate The Krishna Key Tropic of Capricorn An Occurrence at Owl Creek Bridge The Sweet Gum Tree Flight Of The Old Dog A Complicated Kindness Raven Rise Glory over Everything: Beyond The Kitchen House Class A (Cherub #2) Deeper than the Dead Dust of Dreams Accelerando Girl at War Lord Loss Runaway  Villospår Sometimes It Lasts Drift: The Unmooring of American Military Power Graduation Day The Honk and Holler Opening Soon The Passion The Power of the Dog America\\'s First Daughter The Undead Pool On the Edge The Human Division The Fourth Bear The Unwritten, Volume 1: Tommy Taylor and the Bogus Identity The Enchantress of Florence Life is What You Make It: A Story of Love, Hope and How Determination Can Overcome Even Destiny Histoire de la sexualité 1. La Volonté de savoir Takedown De la Terre à la Lune Armageddon: The Cosmic Battle of the Ages Van Gogh: The Life Moonlight Mile  First Among Sequels  The Idiot Girls\\' Action-Adventure Club: True Tales from a Magnificent and Clumsy Life City of Dragons The Judgment of Paris: The Revolutionary Decade that Gave the World Impressionism Darkfall Well-Schooled in Murder Someone Suicide Notes Starter for Ten The Three Little Pigs (A Little Golden Book) Friction Moon Palace The Seventh Gate Hellboy: Wake the Devil Ashfall The Panther The Unexpected Mrs. Pollifax White Fire The Innocent Mage (Kingmaker, Kingbreaker, #1) Wir Kinder vom Bahnhof Zoo The Dragons of Eden: Speculations on the Evolution of Human Intelligence S is for Silence Maximum Security (Cherub #3) Frederick Inside Out March: Book One Everything that Rises Must Converge Dream Chaser The Gun Seller I remember nothing and other reflections Malgudi Days The Subtle Art of Not Giving a F*ck: A Counterintuitive Approach to Living a Good Life Six Days of the Condor Digging to America Die Henkerstochter und der schwarze Mönch (Band 2 aus der Reihe \"Die Henkerstochter-Saga\") Flaskepost fra P The Code Of The Woosters A House for Mr. Biswas The Bone Bed The Fry Chronicles: An Autobiography Second Treatise of Government Better Off Friends The Shallows: What the Internet is Doing to Our Brains The House at Tyneford The Autobiography of Martin Luther King, Jr. Geisha: A Life The Knowledge of the Holy: The Attributes of God: Their Meaning in the Christian Life Дневной дозор A Home at the End of the World Batman, Volume 2: The City of Owls Magic\\'s Pawn CivilWarLand in Bad Decline SEAL Team Six: Memoirs of an Elite Navy SEAL Sniper Sacred Contracts: Awakening Your Divine Potential How We Are Hungry Euthyphro, Apology, Crito, Meno, Phaedo Wrong The Happy Prince and The House of Pomegranates The Line Twisted Palace The Diamond of Darkhold A Death In Vienna Touch of Frost Never Knowing The Aquitaine Progression The Forsyte Saga \"O\" is for Outlaw Deadly Little Secret (Touch, #1) Appelsinpiken The House of Thunder The Dead of the Night My Cousin Rachel Absurdistan Invincible (Chronicles of Nick #2) Napalm & Silly Putty The Indispensable Calvin and Hobbes: A Calvin and Hobbes Treasury Funny in Farsi: A Memoir of Growing Up Iranian in America Witness in Death The Shadow of the Torturer Ask the Passengers Foxglove Summer The Grand Sophy The Road to Serfdom Terms of Enlistment Reaper\\'s Legacy Lord John and the Brotherhood of the Blade  The Executioner\\'s Song Suspect Tar Baby The Twenty-One Balloons Stolen Prey The Psychology of Everyday Things Running Out of Time Something Wonderful Tribute 16 Lighthouse Road Having a Mary Heart in a Martha World: Finding Intimacy With God in the Busyness of Life I\\'d Know You Anywhere The Strange and Beautiful Sorrows of Ava Lavender Sense & Sensibility Sacajawea Avatar: The Last Airbender: The Rift, Part 1 Independence Day The Last Patriot Bridge to Haven The Engagements Creed The Black Widow Believing Christ: The Parable of the Bicycle and Other Good News Wake (Watersong #1) The Code Book. How to Make It, Break It, Hack It, Crack It Touch the Dark Carrion Comfort The Mind Readers The Highlander\\'s Touch  Crispin: The Cross of Lead Wielding a Red Sword Deep Superman: Earth One, Volume 1 The Mortal Instrument Series: City of Bones / City of Ashes / City of Glass / City of Fallen Angels Foxe\\'s Book of Martyrs See Jane Score A Yellow Raft in Blue Water: A Novel Rosemary and Rue Another Fine Myth Forever Mine  Soccernomics: Why England Loses, Why Germany and Brazil Win, and Why the U.S., Japan, Australia, Turkey--and Even Iraq--Are Destined to Become the Kings of the World\\'s Most Popular Sport Sapphique Harvest  How to Cook Everything Vegetarian: Simple Meatless Recipes for Great Food A Little Something Different This Is the Story of a Happy Marriage Think of a Number Birthright The Peacegiver: How Christ Offers to Heal Our Hearts and Homes Cod: A Biography of the Fish that Changed the World The Hidden Reality: Parallel Universes and the Search for the Deep Laws of the Cosmos The Feminine Mystique Brighton Rock كخه يا بابا Stones into Schools: Promoting Peace with Books, Not Bombs, in Afghanistan and Pakistan A Mercy Zodiac Departure The Mystery of the Blue Train Private:  #1 Suspect Pastoralia The Walking Dead V 7 Methuselah\\'s Children Hana Preacher, Volume 8: All Hell\\'s a-Coming The Little Sisters of Eluria Inside, Outside, Upside Down The First Rule The Magical Worlds of Harry Potter: A Treasury of Myths, Legends, and Fascinating Facts The Dot Forest Born The Damnation Game L\\'ignorance استمتع بحياتك The Difference Engine I Want My Hat Back The Lone Drow Bonjour tristesse Cometh the Hour A Walk Across the Sun House of Suns The Black Cat Armor Bröderna Lejonhjärta Loyalty in Death \"Q\" is for Quarry The Ship of Brides The Story of Tracy Beaker Generation Kill Moscow Rules Lab Girl Playing with Fire The Saving Graces Fade Away Amadeus The Icewind Dale Trilogy Collector\\'s Edition (Forgotten Realms: Icewind Dale, #1-3) Monument 14 The Black Lyon Grace [Eventually]: Thoughts on Faith Everyday Food: Great Food Fast Beautiful Bombshell Slated Bumi Manusia Dark Gold (Dark #3) 206 Bones A Gate at the Stairs Hostile Witness Martin Eden Wieża Jaskółki Lords of the Bow (Conqueror, #2) Wonder Woman, Volume 1: Blood Loving Mr. Daniels The History of Henry the Fourth Go Away, Big Green Monster! デッドマン・ワンダーランド 1 The Bloodletter\\'s Daughter: A Novel of Old Bohemia Rabbit at Rest Prison of Ice  Fevre Dream Snowmen at Night Hollywood Dirt Futures and Frosting The Good Luck of Right Now The Miracle at Speedy Motors  Goldfinger Nana Rise of the Elgen Cabal No Man\\'s Land The Sum of All Men The Other Typist Alien The Sentry Sempre Magic Shifts Going Solo Clementine (Clementine, #1) The Dragon\\'s Path Old Possum\\'s Book of Practical Cats The Taming of the Queen Mannen som log Paradise Kiss 1 Talent Is Overrated: What Really Separates World-Class Performers from Everybody Else One Silent Night The Warrior\\'s Apprentice عابر سرير The Complete Phantom of the Opera The Unusual Suspects The White Gold Wielder The Ship Who Sang 黑暗森林 The Eyes of Darkness Heir to the Shadows Guilty as Sin (Deer Lake #2) Kushiel\\'s Scion Chasm City The Lost Child of Philomena Lee: A Mother, Her Son And A Fifty Year Search Breaking Night: A Memoir of Forgiveness, Survival, and My Journey from Homeless to Harvard Treachery in Death Under the Wide and Starry Sky Blood Rites  Carter Reed Man and Boy The Memoirs of Cleopatra The Jefferson Key All My Puny Sorrows Bittersweet In Search of Schrödinger\\'s Cat : Quantum Physics And Reality The Keep  Jeder stirbt für sich allein Rebel of the Sands Forever Peace  Betrayal in Death Man and His Symbols Amulet: Book Three: The Cloud Searchers Lily and the Octopus In the Lake of the Woods Tempt Me at Twilight Tiger\\'s Destiny Back Spin This Heart of Mine Apple Tree Yard The Ice Limit When Calls the Heart Saving Grace Married By Morning Pnin Being a Green Mother (Incarnations of Immortality, #5) Inkheart 宮本武蔵 Miyamoto Musashi Ford County The Monk Songs of Willow Frost Mýrin The Vanished Man The Madman’s Daughter Second Honeymoon Brain Droppings Swindle What I Thought Was True Ruthless The Secret Life of Violet Grant Wicked Ties Charlie Bone and the Beast (The Children of the Red King, # 6) The Baller: A Down and Dirty Football Novel The Providence of Fire L\\'Existentialisme est un humanisme  My Life on the Road Sugar and Spice Den Lille Pige med Svovlstikkerne The Places In Between Stars of Fortune Cat Among the Pigeons Paris The Necklace and Other Short Stories Void Moon Captains Courageous Violin The Forgetting Time デスノート #3 (Desu Nōto) Gekisō (激走) The Lost Stories Deep Down (Jack Reacher, #16.5) Saving June Eeny Meeny What the Night Knows Knight & Play Queen of Fire Spider\\'s Bite Self-Reliance and Other Essays How to Talk So Teens Will Listen and Listen So Teens Will Talk Fiddler On the Roof: Based on Sholom Aleichem\\'s Stories Afterburn All-of-a-Kind Family Influx Ilse Witch  Personal History The Dry Full House الأجنحة المتكسرة Blood of Dragons A Bridge Too Far Loser Sepulchre Vagabonding: An Uncommon Guide to the Art of Long-Term World Travel Kiss the Dead The Garden of Eden Sweet Surrender (Sweet Series, #1) The One Tree Homicidal Psycho Jungle Cat: A Calvin and Hobbes Collection Surrender Your Love CyberStorm Fargo Rock City: A Heavy Metal Odyssey in Rural North Dakota To Green Angel Tower (Siege) Moi Nojoud, 10 ans, divorcée The Feast of All Saints To rise again at a decent hour Proof: A Play The Past through Tomorrow Master of the Senate Saint Odd The Wonderful Story Of Henry Sugar And Six More Port Mortuary The Death of Superman The Raw Shark Texts The Hammer of Thor Wave Fire Sea Far from the Tree: Parents, Children, and the Search for Identity Junie B. Jones and the Stupid Smelly Bus El otoño del patriarca Bones of the Hills Hallucinations Burned The Murders in the Rue Morgue The Summer Tree Betsy-Tacy Sweethearts The Monsters of Templeton Midnight Crossroad Catering to Nobody The Lost Prince Devil Bones From Here to Eternity Change Your Thoughts - Change Your Life: Living the Wisdom of the Tao Dude, Where\\'s My Country? The Last Don محال Ready or Not All But My Life All-Star Superman, Vol. 2 The World of Ice and Fire To Sir Phillip, With Love Among the Barons Say Cheese and Die! Sharpe\\'s Tiger Jinx As Chimney Sweepers Come to Dust  Notes on a Scandal The Beast Sullivan\\'s Island カードキャプターさくら 7 [Cardcaptor Sakura 7] The Soulkeepers (The Soulkeepers #1) Private Peaceful Her Royal Spyness (Her Royal Spyness Mysteries #1) Gunmetal Magic Half a War The Marriage Mistake Darkest Powers Trilogy (Darkest Powers, #1-3) Rhapsody: Child of Blood Doctors Samarcande Indulgence in Death We Need New Names Pretty in Plaid: A Life, a Witch, and a Wardrobe, or, the Wonder Years Before the Condescending, Egomanical, Self-Centered Smart-Ass Phase Wicca: A Guide for the Solitary Practitioner All My Sons Graffiti Moon Mufaro\\'s Beautiful Daughters: An African Tale Paladin of Souls God Bless You, Dr. Kevorkian A Homemade Life: Stories and Recipes from My Kitchen Table The Three Pigs Learned Optimism: How to Change Your Mind and Your Life Desires of the Dead Amelia Bedelia and the Surprise Shower Homecoming (Tillerman Family, #1) Spell of the Highlander  The Hand of Chaos One False Move The Guns of Avalon The Great Gilly Hopkins Trojan Odyssey Follow the River Measure for Measure The Mask All Our Yesterdays Forever Amber The Emerald Atlas Swing Time Karin Everything Leads to You Jeremy Fink and the Meaning of Life Thank You, Mr. Falker The Peripheral Too Much Happiness Tempting the Best Man Prince\\'s Gambit Ironweed Deception Stupid white men and other sorry excuses for the state of the nation A Court of Wings and Ruin The Faceless Ones The Great Railway Bazaar: By Train Through Asia  Black List Transmetropolitan, Vol. 2: Lust for Life The Atrocity Archives The Pleasure of My Company Outcast of Redwall Mister Pip Book of Shadows After We Fell Elizabeth Street The Assassin and the Pirate Lord Frygt og Bæven Hawksong Kon-Tiki Ekspedisjonen How to Get Filthy Rich in Rising Asia Über die spezielle und die allgemeine Relativitätstheorie The Brothers K A Dog\\'s Journey: Another Novel for Humans Batman & Robin: Batman Reborn めるぷり メルヘン☆プリンス 1 La tabla de Flandes The Short Stories of F. Scott Fitzgerald Dark Angel Star Wars: Specter of the Past Black Lies What The Dead Know Rome (Marked Men, #3) The Life and Opinions of Tristram Shandy, Gentleman The Passion of Artemisia Heal Your Body 東京ミュウミュウ (Tokyo Mew Mew) 1 The Miseducation of Cameron Post House of Many Ways The Cartel A Mother\\'s Reckoning: Living in the Aftermath of Tragedy Skin Tight Moonraker Two Treatises of Government Civil Disobedience and Reading Rose in Bloom Mosquitoland The Perfect Son Looking for Alibrandi Raid Fifth Grave Past the Light The Seventh Scroll A Midsummer\\'s Nightmare The Troop Revelation Cien sonetos de amor It\\'s In His Kiss Short Stories from Hogwarts of Power, Politics and Pesky Poltergeists Phänomenologie des Geistes The Neutronium Alchemist The Darkest Seduction King\\'s Cage ظل الأفعى Ten Things We Did (and Probably Shouldn\\'t Have)  Rebel Heart News of the World Blowback Jaya: An Illustrated Retelling of the Mahabharata Women of the Silk The Prisoner of Zenda Flutter Saving Faith The Spine of the World (Paths of Darkness #2) The Haunted Mask Tyrannosaur Canyon The Girl Before Wayside School Gets a Little Stranger Summer of Night Jim Butcher\\'s the Dresden Files: Storm Front Tourist Season السنجة 204 Rosewood Lane Unseen Double Star A Perfect Evil The Better Angels of Our Nature. Why Violence has Declined When We Were Very Young My Sunshine Away Filosofi Kopi: Kumpulan Cerita dan Prosa Satu Dekade Sinuhe egyptiläinen  Great House The Kept Woman Maid for Love (Gansett Island Series, #1) And the Shofar Blew Prentice Alvin (Tales of Alvin Maker #3) 44 Scotland Street Chill Factor Odd and the Frost Giants موسم الهجرة إلى الشمال The Golden Notebook The Last Full Measure Post Captain Dragon Flight (Dragon Slippers, #2) What Katy Did   Homer Price Shatterglass The Belgariad: Part One - Pawn of Prophecy / Queen of Sorcery / Magician\\'s Gambit The Lucifer Effect: Understanding How Good People Turn Evil The Scent of Rain and Lightning Pacific Vortex! One More Chance Aurora Purity in Death The Hollow Hills Among the Brave (Shadow Children, #5) Marching Powder: A True Story of Friendship, Cocaine, and South America\\'s Strangest Jail マース (Mars) #1 Six Easy Pieces: Essentials of Physics Explained by Its Most Brilliant Teacher Crisis on Infinite Earths The Areas of My Expertise Hogwarts: An Incomplete and Unreliable Guide Ronja Rövardotter Spider Bones No Talking Blod på snø Wait for Me The Garden of Evening Mists 紳士同盟† 1 Dark Guardian Prophet The Wicked Will Rise Citizen: An American Lyric Carry On, Jeeves The Magic Thief I, Elizabeth The Woman who Stole my Life Pyongyang Night over Water I Am Having So Much Fun Here Without You All I Want Is Everything Adulthood Is a Myth: A \"Sarah\\'s Scribbles\" Collection The Darkness That Comes Before The Dirty Life: On Farming, Food, and Love Dust & Decay Alienated Bone Gap Big Cherry Holler (Big Stone Gap, Book 2) Teen Idol The Thing Around Your Neck Caraval Bright Shiny Morning The Story of an Hour Rabbit Is Rich Lots of Candles, Plenty of Cake Scars The Fixer Upper Negeri 5 Menara An Army at Dawn: The War in Africa, 1942-1943 Ricochet Can\\'t Wait to Get to Heaven Among Others Seduction in Death Double Indemnity Upon the Midnight Clear Bone: Quest For The Spark, Book One  No Mercy The Library at Mount Char Fire Star The Vor Game Broken Monsters The Journals of Sylvia Plath This is Water The Sweet Potato Queens\\' Book of Love Mastiff Divine Misdemeanors  Sweetheart Caim All Tomorrow\\'s Parties The Quantum Thief Logisch-Philosophische Abhandlung Lord Edgware Dies Batman (Volume 2): Hush Dog on It And to Think That I Saw It on Mulberry Street The Bully Pulpit: Theodore Roosevelt, William Howard Taft, and the Golden Age of Journalism Chasing the Prophecy (Beyonders, #3) Dragon\\'s Oath Grave Witch Sleeping Murder Ethan Frome and Other Short Fiction The Assassin and the Desert On the Genealogy of Morals / Ecce Homo Adrift: Seventy-Six Days Lost at Sea Once and Always Bloodline Death of Kings Onward: How Starbucks Fought for Its Life without Losing Its Soul Auschwitz: A New History The Long Walk: The True Story of a Trek to Freedom Three Fates Passenger Born in Death (In Death, #23) Close Your Eyes, Hold Hands A Pocket Full of Rye of course i love you The Algebraist Meu Pé de Laranja Lima Stone Mattress Rebel Spring NYPD Red 2 Chesapeake Devil in a Blue Dress Lady Audley\\'s Secret Todos os Nomes Lucia, Lucia Tiger Lily Return The Ruby in the Smoke Georgiana: Duchess of Devonshire Stealing Parker Fables, Volume 5: The Mean Seasons Dom Casmurro The Illuminatus! Trilogy Lockdown The Final Solution: A Story of Detection International Flavor Lost Souls The Way of Zen Nexus Nora Webster Requiem (Providence #2) The Emperor\\'s Tomb Fear Nothing Baking: From My Home to Yours For You ラブ★コン 1 Elephants Can Remember What to Expect the First Year The Lions of Little Rock Self Matters: Creating Your Life from the Inside Out ヘタリア 1 Axis Powers Timeless How Google Works Killing Sarai The Time of My Life Now We Are Six The Secret Circle: The Captive Part II and The Power Ladies\\' Night  Family Pictures Taken by Midnight (Midnight Breed, #8) Os Maias The Law of Moses Good as Gone Holding the Dream Mr. Darcy\\'s Diary L.A. Requiem Eventide Fahrenheit 451: The Authorized Adaptation スペシャル·エー オール・ユー・ニード・イズ・キル The Bronze Bow Essays in Love A Civil Action Grandfather\\'s Journey Savannah Blues Excavation Scarecrow Endlessly Living Buddha, Living Christ The Earthsea Trilogy Left Drowning A Sick Day for Amos McGee Fourth of July Creek Absolute Fear True Evil Tobacco Road The Suspicions of Mr. Whicher: Murder and the Undoing of a Great Victorian Detective Lord of Scoundrels Ozma of Oz The Johnstown Flood The Christmas Sweater Tales From a Not-So-Happy-Heartbreaker Deep Fathom The Gate House Stay with Me Seven Years to Sin Perfect Scoundrels When the Game Was Ours The Two Swords (Hunter\\'s Blades #3) The Blessing Way Another Piece of My Heart Stenhuggaren The Pigeon Wants a Puppy! The Road to Character El general en su laberinto La ciudad y los perros Amy & Matthew Die Again Witness Manwhore Absolution Gap The Faraway Tree Stories (The Enchanted Wood, The Faraway Tree, The Folk of the Faraway Tree) She Said Yes: The Unlikely Martyrdom of Cassie Bernall Scoop Tales of a Female Nomad: Living at Large in the World Birds of America: Stories Big Rock Three Dark Crowns Lunch in Paris: A Love Story, with Recipes Love and War  The Pale King 論語 [Lún Yǔ] I\\'m with the Band: Confessions of a Groupie Succubus Heat The Walking Dead, Vol. 9: Here We Remain Under Locke Il Gattopardo Wolverine: Origin Dawn  On the Prowl Silent Prey Battleaxe (The Axis Trilogy #1) الجزار A Tale Dark and Grimm The Ambassador\\'s Mission Everyman Supernova: Akar The Dice Man 黒執事 II [Kuroshitsuji II] Imperial Bedrooms Addicted to You Just One Night デスノート #4 (Desu Nōto) Koigokoro (恋心) The Daughter of Time Prince of Fire La lenteur The Autumn Republic  Delta of Venus Rainbows End The Friend Zone The Rose and the Thorn Сумеречный дозор Frostbitten Low Pressure عائد إلى حيفا Talon of the Silver Hawk The Charlemagne Pursuit The Moon Is Down Kaffir Boy: An Autobiography--The True Story of a Black Youth\\'s Coming of Age in Apartheid South Africa The Beginner\\'s Goodbye رباعيات صلاح جاهين The Love Song of J. Alfred Prufrock and Other Poems A Girl of the Limberlost The Witch with No Name The Wings of the Dove Twilight and History Lady Windermere\\'s Fan A Place Called Freedom Ensaio Sobre a Lucidez The Returned India After Gandhi: The History of the World\\'s Largest Democracy The Obstacle Is the Way: The Timeless Art of Turning Adversity to Advantage The Sight Bad for You The Secret River Gifted Hands: The Ben Carson Story The Little Old Lady Who Was Not Afraid of Anything The Apostle Born of the Night Murder Must Advertise Dead Heat Sheep in a Jeep The Way to Cook De toverspiegel van M.C. Escher ヴァンパイア騎士 9 The 22 Immutable Laws of Marketing: Violate Them at Your Own Risk! The Consolations of Philosophy Second Life The One Thing: The Surprisingly Simple Truth Behind Extraordinary Results  Reasonable Doubt: Volume 2 Joseph Had a Little Overcoat Double Act Princess Mia Flyy Girl A Cup of Friendship The Sandman: King of Dreams Stephen King\\'s N. By the Sword First Rider\\'s Call Paths of Glory Anyone But You  Owen The Long War Arrow\\'s Fall Street Magic The Curious Charms of Arthur Pepper Incarnate The Boy Who Harnessed the Wind: Creating Currents of Electricity and Hope Rumpelstilzchen The Goblin Emperor Mr. Kiss and Tell  A Higher Call: An Incredible True Story of Combat and Chivalry in the War-Torn Skies of World War II Job: A Comedy of Justice Chomp! The Sandman: The Dream Hunters The Stories of John Cheever The Odd Couple Phantoms in the Brain: Probing the Mysteries of the Human Mind Divided in Death (In Death, #18) La tregua We Never Asked for Wings Every Last Word Live from New York: An Uncensored History of Saturday Night Live Krakatoa: The Day the World Exploded: August 27, 1883  Airman 2BR02B An Anthropologist on Mars: Seven Paradoxical Tales Time for Bed Rapunzel Very Good Lives: The Fringe Benefits of Failure and the Importance of Imagination Only the Innocent The Walking Dead, Vol. 10: What We Become Area 7 A Better World Spindle\\'s End A Leaf on the Wind of All Hallows (Outlander, #8.5) Scoring Wilder باب الخروج: رسالة علي المفعمة ببهجة غير متوقعة I, Michael Bennett Clean Sweep Succubus Dreams  The Last Detective Vegan Cupcakes Take Over the World: 75 Dairy-Free Recipes for Cupcakes that Rule Hope Was Here May We Be Forgiven The Beauty Myth: How Images of Beauty Are Used Against Women Orvos voltam Auschwitzban Hot, Flat, and Crowded: Why We Need a Green Revolution--and How It Can Renew America The Saggy Baggy Elephant (Little Golden Book) L\\'Éducation sentimentale Legend of the Duck Commander Kambing Jantan: Sebuah Catatan Harian Pelajar Bodoh  Best Friends with a Self-Confessed Player Scent of Magic Taken Savannah Breeze Child of the Prophecy  Priestess of Avalon  The submissive Plateforme Contagious. Why Things Catch On. Disappearing Acts フルーツバスケット 7 What Every Body is Saying: An FBI Agent\\'s Guide to Speed-Reading People Finding the Dream Close Range: Wyoming Stories Sweeney Todd: The Demon Barber of Fleet Street (Applause Musical Library) Where You Are 沈黙 Numbers Reunion in Death Where Is God When It Hurts? The Mapping of Love and Death Born to Run Cold Fire Hidden Riches Visions of Heat Hidden Figures: The American Dream and the Untold Story of the Black Women Mathematicians Who Helped Win the Space Race Art of Seduction Kushiel\\'s Justice The Hydrogen Sonata The Orenda The Julian chapter Hallowe\\'en Party Never Have I Ever  Mistborn: Secret History The Sunday Philosophy Club  Visions in Death (In Death, #19) The Red Queen: Sex and the Evolution of Human Nature 彼氏彼女の事情 #1 Vision in Silver  The Finkler Question Imitation in Death Beaches Skellig An Enquiry concerning Human Understanding I Heard That Song Before The Book with No Pictures The Hungry Tide Crow Lake Don\\'t Let Me Go Ceremony The Paper Girls - Vol 1 The Breadwinner The Wanderer A Year in the Merde The Hurricane Sisters  Les Damnés de la terre Deep Six Secrets of the Vine: Breaking Through to Abundance City of Stairs Into the Land of the Unicorns Girls Night In All Marketers Are Liars: The Power of Telling Authentic Stories in a Low-Trust World Black Sun Rising Le Misanthrope ou L\\'Atrabilaire Amoureux The Belgariad Boxed Set: Pawn of Prophecy, Queen of Sorcery, Magician\\'s Gambit, Castle of Wizardry, & Enchanters\\' End Game (The Belgariad, #1-5) The Temple of My Familiar Envy (Fallen Angels, #3) Four: The Son Seduce Me at Sunrise The Problem with Forever Holding Up the Universe The Double Helix: A Personal Account of the Discovery of the Structure of DNA Cook with Jamie Dune: House Harkonnen Dream Warrior Strength in What Remains The Lord God Made Them All ... Then He Ate My Boy Entracers 1Q84 Books 1-2 Absent in the Spring  Fish In A Tree The Inn At Rose Harbor Lady Almina and the Real Downton Abbey: The Lost Legacy of Highclere Castle Dies the Fire  Another Brooklyn Beneath a Marble Sky The Face of Fear Cosmopolis Very Valentine Fables, Volume 8: Wolves Light A Penny Candle Dark Demon (Carpathians, #16) The Walking Dead, Vol. 14: No Way Out  The Walking Dead. Book Two Le cosmicomiche Way Station My Soul to Keep The Return of the Prodigal Son: A Story of Homecoming Someone To Love The Lions of Al-Rassan Such a Pretty Girl Scruples Prayers for Sale What We Keep  Intet Sleeping Beauty Box Set 100 Bullets, Vol. 1: First Shot, Last Call (100 bullets, #1) Innocence Lost (Kingmaker, Kingbreaker, #2) A Ring of Endless Light (Austin Family, #4) How to Save a Life The Five Greatest Warriors Brotherhood in Death Arrow\\'s Flight (Heralds of Valdemar, #2) The Tail of Emily Windsnap Blackout: Remembering the Things I Drank to Forget The Invaders The Absolute Sandman, Volume One Dicey\\'s Song (Tillerman Family, #2) The Walking Dead. Book Three 砂の女 [Suna no onna] La tía Julia y el escribidor Transmetropolitan, Vol. 3: Year of the Bastard A Severe Mercy 1493: Uncovering the New World Columbus Created The Madness of Lord Ian Mackenzie Point of Impact Children of God The Mediterranean Caper The Forest House Certain Prey Undead and Unreturnable Dawn on a Distant Shore The Danish Girl Brave New World Revisited  Histoire d\\'O Forest Mage Hidden  Eye of the Storm Nikola Tesla: Imagination and the Man That Invented the 20th Century How to Be Popular Omertà Unraveling The Tiger Rising Magic\\'s Price After the Funeral  デスノート #8 (Desu Nōto) Mato (的) Manufacturing Consent: The Political Economy of the Mass Media Pippi Långstrump i Söderhavet Endless Knight  Shadow & Claw Parmi les dix milliers de choses The Great Shark Hunt: Strange Tales from a Strange Time The Complete Poems: Anne Sexton 2312 Tears of a Tiger Altar of Eden 桜蘭高校ホスト部 2 The Problem Child Washington\\'s Crossing Shalimar the Clown Desert Flower: The Extraordinary Journey of a Desert Nomad First Strike Broken Silence Batman Chronicles: Volume 1 Waterfall The Love Song of Miss Queenie Hennessy Morgawr  September The Last Question (When the World Ends) Henderson the Rain King Fear of Flying Red Riding Hood Stay Hungry Stay Foolish The Giraffe and the Pelly and Me Shotgun Lovesongs The Death of Kings (Emperor, #2) French Women Don\\'t Get Fat A Certain Slant of Light The Bone Tree False Impression I Wrote This For You Barefoot in Paris The Unwanted Wife Royally Screwed Splendor The Professor Drink Deep (Chicagoland Vampires, #5) رجال في الشمس Den lille havfrue Big Boned (Heather Wells, #3) The Subterraneans The Tale of Three Trees: A Traditional Folktale Sin City: The Big Fat Kill The Moving Finger Hornet\\'s Nest The Sacred Romance Drawing Closer To The Heart Of God There\\'s a Boy in the Girls\\' Bathroom Crash Into You Colonel Roosevelt Star Wars: Vision of the Future 1Q84 Book 2 [Ichi-kyū-hachi-yon] How to Be Both The Woodlanders While My Sister Sleeps Gold Wondrous Strange Livro do Desassossego Batman: Earth One, Volume 1 Undead and Unappreciated Blue Labyrinth Malcolm X: A Life of Reinvention Mutant Message Down Under Ashes of Midnight Once Upon a Crime Keys to Drawing Fables, Volume 9: Sons of Empire Embrace the Night The Ipcress File واحة الغروب The Third Policeman Tea Time for the Traditionally Built Starlight (Warriors: The New Prophecy, #4) Feral Sins Tintin au pays des Soviets Flash and Bones Eileen Creation in Death  Llama Llama Mad at Mama Cop Town Lon Po Po The Blood of Flowers Five Children and It  2 ضباط Flood Tide (Dirk Pitt, #14) This Savage Song Bloodlust The Unexpected Everything Exit to Eden Percy Jackson: The Ultimate Guide Alif the Unseen Hothouse Flower The Bird and the Sword The Black Unicorn  The Awakening and Selected Short Stories The Crossing Places Peak Steget efter Sovereign  Batman: Batman and Son On Food and Cooking: The Science and Lore of the Kitchen In Bed with a Highlander The Confessions of Nat Turner Please Stop Laughing at Me... One Woman\\'s Inspirational Story A Girl Like You The Android\\'s Dream Cuentos de Eva Luna Awakening the Buddha Within : Tibetan Wisdom for the Western World Long Time Coming Story of a Girl High Heat Delusion in Death Field of Dishonor Save the Date Oracle Night Time and Again One Lavender Ribbon  Run Baby Run Fences (The Century Cycle #6) Tortured for Christ The Two-Family House Miracles: A Preliminary Study Dear Daughter The Mermaid\\'s Sister The Inimitable Jeeves  Dragons of Summer Flame The Secret Speech Un Lun Dun デスノート #5 (Desu Nōto) Hakushi (白紙,)  Heat Rises Homicide: A Year on the Killing Streets Mrs. Mike A Work in Progress The Enchanted The Left Hand of God  How to Love Paris to the Moon You Against Me A Dog\\'s Life: Autobiography of a Stray The Will of the Empress The Secret Race: Inside the Hidden World of the Tour de France: Doping, Cover-ups, and Winning at All Costs Dr. No El juego de Ripper ماهی سیاه کوچولو Fifth Business Hello, Cupcake!: Irresistibly Playful Creations Anyone Can Make Nights of Rain and Stars Wife by wednesday The  Bedside, Bathtub and Armchair Companion to Agatha Christie Shadow\\'s Claim (The Dacians, #1) Glitter and Glue A Night to Remember The Lonely Polygamist Stormy Weather That Old Cape Magic The Darkest Hour The Devil All the Time A Long Way Home İstanbul: Hatıralar ve Şehir The Second Assistant: A Tale from the Bottom of the Hollywood Ladder The Life and Adventures of Martin Chuzzlewit Darkness, Be My Friend UR Tales of the South Pacific A Bend in the River Evicted: Poverty and Profit in the American City The Assassin and the Empire Misbehaving The Invisible Library Saint Maybe Harry, A History: The True Story of a Boy Wizard, His Fans, and Life Inside the Harry Potter Phenomenon Marcelo in the Real World The Green Mile, Part 4: The Bad Death of Eduard Delacroix Daun Yang Jatuh Tak Pernah Membenci Angin Alcatraz Versus the Evil Librarians Darth Vader and Son Darwin\\'s Dangerous Idea: Evolution and the Meanings of Life Pani Jeziora Palace of Stone Hausfrau Truthwitch 1421: The Year China Discovered America A Wrinkle in Time: The Graphic Novel Heartburn Tigers in Red Weather Hornet Flight Den vita lejoninnan Elven Star (The Death Gate Cycle, #2) Flight: A Novel Philosophische Untersuchungen Endure  Kaleidoscope Hearts Enemy of God Mud Vein Our Dumb Century: The Onion Presents 100 Years of Headlines from America\\'s Finest News Source Ice Hunt Strange Candy First Among Equals Black Holes and Baby Universes and Other Essays The Chronicles of Thomas Covenant, the Unbeliever The Story of Philosophy The Gnostic Gospels The Gods of Mars The Survivor An Untamed State Diagnostic and Statistical Manual of Mental Disorders DSM-IV-TR (Text Revision) A Monstrous Regiment of Women Alvin Journeyman (Tales of Alvin Maker #4) Rose Under Fire よつばと! 1 Black Elk Speaks The Accidental Billionaires: The Founding of Facebook: A Tale of Sex, Money, Genius and Betrayal The Sleeping Doll Dark Legend Batman Hush #1 One Breath Away The Devil\\'s Punchbowl Empress of the World Welcome to the Jungle The Red Garden Le Roi Babar Ungifted The Final Detail Olympos A History of the World in 6 Glasses The Widow of the South The Magician\\'s Elephant Back When We Were Grownups The Dead قمر على سمرقند The Lost Saint Relentless Taliesin. Book I of the Pendragon Cycle المرحوم The Memory of Earth Wench Curse the Dawn Where There\\'s Smoke Jack: Straight from the Gut The Missing Piece Meets the Big O Život je jinde Wicked Nights Six\\'s Legacy Magic\\'s Promise Coming Home Glorious Appearing: The End of Days ليتها تقرأ Silken Prey Hotel du Lac The Ghost Road The Tragedy of Puddn\\'head Wilson If You Find Me Native Tongue The Persian Pickle Club My Soul to Save The Relatives Came What I Loved Maryamah Karpov: Mimpi-mimpi Lintang Tilt The Element: A New View of Human Capacity The Secret Chord A Different Blue Downtown Owl The Flood Antrax Sailing Alone Around the Room: New and Selected Poems Once Into the Deep Mirror Dance Agnes and the Hitman Logicomix: An Epic Search for Truth HHhH Stone Cold Touch The Life List The Rising Buddenbrooks: Verfall einer Familie Дядя Ваня The Christmas Wedding The Lost Years of Merlin Storm Glass The Sea, the Sea Among the Enemy (Shadow Children, #6) Battlefield Earth: A Saga of the Year 3000 I\\'ll Be Seeing You My Year of Meats Fledgling At Peace The House of God Nefes Nefese Echo Архипелаг ГУЛАГ, 1918-1956 Commencement The Bar Code Tattoo (Point Thriller) MacRieve Oogy: The Dog Only a Family Could Love American Tabloid The Fallen and Leviathan (The Fallen, #1-2) Memorial do Convento Serafina and the Black Cloak Star Wars: From the Adventures of Luke Skywalker Summer House Stupeur et tremblements Summer and the City The Stone Monkey Origin in Death The First Part Last The Invisible Gorilla Prior Bad Acts Firestar\\'s Quest This is Not My Hat I Will Teach You To Be Rich Radiant Angel The Queen\\'s Poisoner Rejoice Physics of the Future: How Science Will Shape Human Destiny and Our Daily Lives by the Year 2100  The Naturals Brandvägg Tales From the Hood Mutiny on the Bounty ラブひな #1 The Wretched of Muirwood Gentle Rogue The Shepherd\\'s Crown Mary Barton Nostromo: a Tale of the Seaboard The Plum Tree The Crown Conspiracy Styxx Eugénie Grandet Grafarþögn The Catastrophic History of You and Me Girl, Stolen Leven Thumps and the Eyes of the Want (Leven Thumps, #3) Killing Reagan The girl who was on fire A Bargain for Frances Calculated in Death The Argonauts Gonzo: The Life of Hunter S. Thompson The Last Painting of Sara de Vos The Sister Duck On A Bike The Collaborator The Shadow Throne Memórias Póstumas de Brás Cubas This Body of Death Emily Climbs Kushiel\\'s Mercy Shadows in Flight Burn For Me Chasing Darkness ttyl (Internet Girls, #1) ヴァンパイア騎士 4 Train Dreams Mouse Paint Art in Theory, 1900-2000: An Anthology of Changing Ideas Un livre The Killing (Cherub #4) Darkest Fear The Lady of Shalott John Constantine, Hellblazer: Volume 1: Original Sins Dawn of Wonder Celebrity in Death Die 13½ Leben des Käpt\\'n Blaubär  The Snowman Just One Drop Rough Country Rabbit Redux Ross Poldark Orphan X The Look of Love Blockade Billy The Matlock Paper Breakfast with Buddha De vita Caesarum  حوجن Sharpe\\'s Rifles Vector Prime (Star Wars: The New Jedi Order, #1) Touching Darkness (Midnighters, #2) Revenge of the Spellmans Gaudy Night Kings Rising Rival Mortal Engines Private London Blood Cross Spying in High Heels The Lady in the Lake River of Blue Fire The Wind Singer The End of Mr. Y. Gentlemen of the Road Those Guys Have All the Fun: Inside the World of ESPN Big Fish: A Novel of Mythic Proportions Breakable The Death of Bees Black Dawn Parable of the Talents Locke & Key, Vol. 6: Alpha & Omega Dark Star Safari  Crystal Singer The Assassin and the Underworld Star Wars: Darth Plagueis The Rainbow Comes and Goes: A Mother and Son On Life, Love, and Loss Underground Airlines Raven Black Having Our Say: The Delany Sisters\\' First 100 Years Lush Life What\\'s Eating Gilbert Grape Curtsies & Conspiracies More Tales of the City Thérèse Raquin The Billionaire\\'s Obsession ~ Simon Behind Her Eyes The King in Yellow H.M.S. Surprise  The Virtue of Selfishness: A New Concept of Egoism Twenty Wishes Through Black Spruce One Good Dog Sexing the Cherry The Murderer\\'s Daughters Strangers in Death  The Archived Glengarry Glen Ross The Sound of Gravel The Complete Adventures of Peter Rabbit Hostage to Pleasure Random Family: Love, Drugs, Trouble, and Coming of Age in the Bronx Воскресение Hard Magic Fated Instructions for a Heatwave Victims Old School Evelyn, After The Skin I\\'m In The Eye of God: A Sigma Force Novel An Artist of the Floating World Nachtzug nach Lissabon Romancing the Duke The Man With a Load of Mischief (Richard Jury Mystery, #1) The Underworld The Path Between the Seas: The Creation of the Panama Canal, 1870-1914 LaRose Before we met Waiter Rant: Thanks for the Tip-Confessions of a Cynical Waiter Two Ravens and One Crow The Black Arrow: A Tale of the Two Roses Dead or Alive Fallen Hearts (Casteel, #3) Dragon Prince The Burning Wire River, Cross My Heart Lies Women Believe: And the Truth that Sets Them Free To Build a Fire The 158-Pound Marriage Free: The Future of a Radical Price Palestine Dear Theo: The Letters of Vincent Van Gogh One Hundred Names The Ghost Bride The Phantom Menace Girls in Love The Creative Habit: Learn It and Use It for Life  رأيت رام الله A Beautiful Dark  Lady of Avalon Threat Vector Miles: The Autobiography The Castle In The Attic (The Castle In The Attic, #1) Does the Noise in My Head Bother You? The Sworn Sword The Broken Window Beautiful Secret Три сестры Full Tilt Beat the Reaper Dune: The Machine Crusade  Devil\\'s Game The Keeping Flesh and Blood Where\\'s Spot?  Cocky Bastard Out to Canaan (Mitford) The Dangerous Days of Daniel X Prom and Prejudice Strip Tease Jedi Search (Star Wars: The Jedi Academy Trilogy, #1) Showdown by Ted Dekker Signature Edition Thankless in Death  雪国  Chromosome 6 Big Trouble Записки из Мёртвого дома Stunning (Pretty Little Liars, #11) The Howling Sign of the Unicorn Scat Life after God The City of Falling Angels Autumn in Paris Hot Water Music Warlock: A Novel of Ancient Egypt Wisdom Defy Maitreyi The Misremembered Man  Carter Beats the Devil Histoire de l\\'oeil Knit Two In the Night Kitchen Will You Please Be Quiet, Please? Eternal Rider Relato de un náufrago Concealed in Death Mind Prey Planetary, Volume 1: All Over the World and Other Stories Stolen Songbird The Green Mile, Part 2: The Mouse on the Mile A Cry in the Night Assata: An Autobiography Days of Magic, Nights of War The Three Billy Goats Gruff True Love Story Der Mondscheingarten True Compass: A Memoir Diamonds are Forever Hidden Bodies Passing InterWorld The Realm of Possibility The Invisible Wall: A Love Story That Broke Barriers The Replacement The Information: A History, a Theory, a Flood The High Window Affliction Wildest Dreams Sudden Prey Mark of the Lion Trilogy Mrs. Piggle-Wiggle\\'s Magic The Mermaids Singing  The Weight of Glory Sanctuary Sunset Express The Bourbon Kings On Her Majesty\\'s Secret Service Women Who Love Too Much There Are No Children Here: The Story of Two Boys Growing Up in the Other America At Bertram\\'s Hotel Happily Ever After The Great Brain The Fire Eternal The Commitments What My Mother Doesn\\'t Know Angelology Wiseguy: Life in a Mafia Family Transmetropolitan, Vol. 5: Lonely City Benediction  سمفونی مردگان After the Night  Evil at Heart The Bookseller The Thousand Names Beautiful Burn フルーツバスケット 2 Misquoting Jesus: The Story Behind Who Changed the Bible and Why Wait for It The Other Wind The Paris Vendetta Moriarty Blood Memory After I\\'m Gone Shadows of the Workhouse: The Drama of Life in Postwar London Ensemble, c\\'est tout One Up On Wall Street : How To Use What You Already Know To Make Money In The Market Against a Dark Background I Still Dream About You A Modest Proposal and Other Satirical Works Mutter Courage und ihre Kinder Up From the Grave  Sun and Moon, Ice and Snow The Blood Mirror Galveston We the Animals Breaking the Spell: Religion as a Natural Phenomenon The Faerie Queene Her Daughter\\'s Dream The Fuck-Up MEG: A Novel of Deep Terror Seeing Redd Appointment in Samarra Each Peach Pear Plum The Freedom Writers Diary: How a Teacher and 150 Teens Used Writing to Change Themselves and the World Around Them The Post-American World 2.0 Them: Adventures with Extremists The Ladies of Grace Adieu and Other Stories Red Notice: A True Story of High Finance, Murder, and One Man’s Fight for Justice Forgotten Lady Cottington\\'s Pressed Fairy Book That Night Salmon Fishing in the Yemen The Rest Is Noise: Listening to the Twentieth Century Something Like Normal No Place to Hide: Edward Snowden, the NSA, and the U.S. Surveillance State Pastwatch: The Redemption of Christopher Columbus The Next Accident دیوان\\u200e\\u200e [Dīvān] Zita the Spacegirl Paradiso Restless Pulled Willing Captive The Sweet Life in Paris: A Recipe for Living in the World\\'s Most Delicious City Talon Radiance The Red House Twelfth Grade Kills Ice Station Zebra A. Lincoln: A Biography Four Great Tragedies: Hamlet, Othello, King Lear, Macbeth (Signet Classics) Ain\\'t She Sweet? Bruiser Falling Free The Cold Moon The Moor\\'s Last Sigh The Dressmaker of Khair Khana: Five Sisters, One Remarkable Family, and the Woman Who Risked Everything to Keep Them Safe The Shawshank Redemption The Case-Book of Sherlock Holmes Ghostgirl I\\'ve Got You Under My Skin Fables, Volume 10: The Good Prince Red Phoenix Never Look Away Your Heart Belongs to Me Shadow Fires Victory of Eagles (Temeraire, #5) The Blood Gospel: The Order of the Sanguines Series I Am Not Myself These Days Bones Are Forever Deerskin Dispatches Handen Sleepers Das Kunstwerk im Zeitalter seiner technischen Reproduzierbarkeit Pretend You Don\\'t See Her Going Rogue: An American Life The Monstrumologist The Path to Power Intertwined In Watermelon Sugar My Life with the Walter Boys Burning For Revenge Love You to Death: The Unofficial Companion to The Vampire Diaries Hourglass August: Osage County Mountain of Black Glass Lost The Prestige Angels in America:  A Gay Fantasia on National Themes Anil\\'s Ghost Winter Moon The Will A Grimm Warning The Billionaire Wins the Game Never Love a Highlander The Pragmatic Programmer: From Journeyman to Master Supernova: Petir Babylon\\'s Ashes Wrong Bed, Right Guy Drop City Y: The Last Man - The Deluxe Edition Book One Candy Girl حول العالم في 200 يوم Alert The Painter Close Encounters of the Third Kind The Vampire Chronicles Hot Ticket Zami: A New Spelling of My Name Hafalan Shalat Delisa Sixth Grave on the Edge The Submission The Lord of the Rings Sketchbook Glimmerglass Don\\'t Blink The Shadows Over Innsmouth The Tin Roof Blowdown The Death of Bunny Munro Flat Stanley Winter\\'s Passage (Iron Fey, #1.5) Rosemary: The Hidden Kennedy Daughter Faith Bite Me If You Can Moonlight Becomes You A Corner of the Universe The Ice Queen The Folk of Faraway Tree City on Fire Princess of Glass The Last Dragonslayer Orientalism Friends and Lovers Molly Moon\\'s Incredible Book of Hypnotism 31 Songs Luck in the Shadows The Lemonade War The Knight at Dawn (Magic Tree House, #2) Winter in Tokyo デスノート #6 (Desu Nōto) Kōkan (交換) The Lightning Thief: The Graphic Novel Shoeless Joe When Crickets Cry This Changes Everything: Capitalism vs. The Climate Aloha from Hell A Walk Across America Try Me All Souls: A Family Story from Southie The Bad Seed  Connected Angel Fire Growing up Amish Sweet Addiction Bomb: The Race to Build—and Steal—the World\\'s Most Dangerous Weapon Maximum City: Bombay Lost and Found The Last Wife of Henry VIII The Complete Tales and Poems of Edgar Allan Poe Gideon\\'s Sword A Caribbean Mystery When Christ and His Saints Slept Great North Road Superman for All Seasons Retribution Glue Unhinged How to Fall in Love Until You The Shadowhunter\\'s Codex Tennis Shoes Among the Nephites (Tennis Shoes, #1) Blue Is for Nightmares Three Complete Novels: Carrie/Salem\\'s Lot/The Shining Personal Demon The Way of Kings, Part 1 The Christmas List How to Make Love Like a Porn Star: A Cautionary Tale Dark Days The Green Mile, Part 3: Coffey\\'s Hands Jacob Clifford\\'s Halloween (Clifford) Lyra\\'s Oxford If I Die (Soul Screamers, #5) Private Berlin The Other Daughter Amazing Grace Slammerkin About That Night 桜蘭高校ホスト部 3 On the Night You Were Born Legion: Skin Deep Insatiable Where I Belong Back on Blossom Street Le Voyage d’Hector ou la recherche du bonheur Between, Georgia Faking It  アンダーグラウンド [Andāguraundo] The Twentieth Wife Split Infinity (Apprentice Adept, #1) Sex God: Exploring the Endless Connections Between Sexuality And Spirituality A Vintage Affair The Buddha of Suburbia The Voice of the Night  The Girl from Krakow Justice: What\\'s the Right Thing to Do? 13 Hours: The Inside Account of What Really Happened In Benghazi Succubus Shadows  Roses Letter to My Daughter The Post-Birthday World  The Man Who Walked Between the Towers O Homem Duplicado Thorn Queen Lost & Found Blackberry Winter An Acceptable Time (Time Quintet, #5) The Third Secret Love Bites Hard Choices Batman: No Man\\'s Land, Vol. 1 Half Blood Blues The Kindness of Strangers Emmy & Oliver The Sculptor Roller Girl The Best Nest Day By Day Armageddon: Beyond Exile  Braveheart Fables, Volume 7: Arabian Nights (and Days) Fugitive Pieces The Cobra Event Everbound The Hole in Our Gospel: What does God expect of Us?  The Answer that Changed my Life and Might Just Change the World Ghost Wars: The Secret History of the CIA, Afghanistan, and Bin Laden, from the Soviet Invasion to September 10, 2001 La vida del Lazarillo de Tormes y sus fortunas y adversidades  The Midwich Cuckoos Smoke Screen The Fourteenth Goldfish Libra  The Honourable Schoolboy Renegade\\'s Magic The Tenth Insight  The Interpretation of Murder Superman: Birthright 1-12 Curious George Visits the Library Arthur & George Sins & Needles Eine kurze Weltgeschichte für junge Leser: Von der Urzeit bis zur Gegenwart Fire Burn and Cauldron Bubble フルーツバスケット 4 بين القصرين First to Kill  If Life Is a Bowl of Cherries—What Am I Doing in the Pits? Vagabond Sometimes Never The Mystery Knight Double Time The Magic (The Secret #3) Too Busy Not to Pray: Slowing Down to Be With God Indignation Open City My Story: \"A Child Called It\", \"The Lost Boy\", \"A Man Named Dave\" Witches of East End All He Ever Wanted Worth the Fight Rose Daughter Fools Rush In (Weddings by Bella, #1) The Pagan Lord The North Water The Forge of God Hidden Order Ἀγαμέμνων Staked Sweet Persuasion (Sweet Series, #2) Redeemed Do No Harm: Stories of Life, Death and Brain Surgery Jennifer Government Dark Destiny (Carpathians, #13) Batman: The Dark Knight Strikes Again Me: Stories of My Life The Now Habit: A Strategic Program for Overcoming Procrastination and Enjoying Guilt-Free Play After Ever Happy The Auschwitz Escape Made in America: An Informal History of the English Language in the United States Das Drama des begabten Kindes und die Suche nach dem wahren Selbst: eine Um- und Fortschreibung The Case of Charles Dexter Ward Soon I Will Be Invincible Paint It Black Ever After Mythologies Περὶ ποιητικῆς The Dark Is Rising Sequence (The Dark Is Rising, #1-5) Saint Grundlegung zur Metaphysik der Sitten Crimson Shore More Than Human The Healer 桜蘭高校ホスト部 15 Naiv.Super. キスよりも早く1 The Noticer: Sometimes, all a person needs is a little perspective. Under The Net Lenobia\\'s Vow Artemis Fowl Boxed Set (Artemis Fowl, #1-5) The Lewis Man The Elves of Cintra  Priestess of the White The Gemini Contenders The Field of Swords (Emperor, #3) Final Jeopardy The Haunted Tell Me Three Things The It Girl (It Girl, Book 1) Single White Vampire Call Me Irresistible Who Will Cry When You Die? Life Lessons from the Monk Who Sold His Ferrari Promise Not to Tell A Modern Witch The Traveler\\'s Gift: Seven Decisions that Determine Personal Success Shine Not Burn Darth Paper Strikes Back The Girl in the Steel Corset Gut gegen Nordwind My Brother Sam Is Dead Dream Man Rubicon: The Last Years of the Roman Republic The Green Mile, Part 6: Coffey on the Mile Nice Girls Don\\'t Have Fangs (Jane Jameson, #1) Belinda When Beauty Tamed the Beast My Friend Dahmer The Lion\\'s Lady Heart on a Chain The Sheep-Pig Wishin\\' and Hopin\\': A Christmas Story Dream Team Influencer: The Power to Change Anything The Hand of Oberon - The Courts of Chaos  No Place to Run The Dragonslayer (Bone, #4) A Week to Be Wicked Claimed By Shadow Meet Samantha: An American Girl (American Girls: Samantha, #1) The Secret Scripture Batwoman: Elegy When the Emperor Was Divine Foreplay Night Prey Clouds of Witness Body Movers  Lincoln in the Bardo Zero History Sophie & Carter Small Steps The Wicked Girls Agents of Light and Darkness Stand on Zanzibar Homer\\'s Odyssey  Sad Cypress Avatar: Last Airbender v. 1 (Avatar (Graphic Novels)) Five Go to Smuggler\\'s Top Indemnity Only Five Run Away Together The Promise A Redbird Christmas The Haj The Darkest Road Rogues Bound by Honor Deeper than Midnight Mercy Blade Skippyjon Jones in Mummy Trouble (Skippyjon Jones) Daily Rituals: How Artists Work The Boy Who Came Back from Heaven An Incomplete Revenge The Night Sister Tales from Earthsea El ruido de las cosas al caer Ashley Bell Johnny Mnemonic Rogue Squadron Amusing Ourselves to Death: Public Discourse in the Age of Show Business Nerilka\\'s Story (Pern: Dragonriders of Pern, #5) Hairy Maclary from Donaldson\\'s Dairy Wonderful Tonight: An Autobiography The Obituary Writer Tunnels The Beatles: The Biography Hulk: Planet Hulk Rumors of War (Children of the Promise, Vol 1) Journal 64 بضع ساعات في يوم ما The Single Girl\\'s To-Do List Rama Revealed: The Ultimate Encounter The Redhead Revealed Clariel: The Lost Abhorsen Death at La Fenice The Big Nowhere Dibs in Search of Self: Personality Development in Play Therapy フルーツバスケット 14 Hawkeye, Volume 2: Little Hits Příliš hlučná samota The Complete Wreck (A Series of Unfortunate Events, Books 1-13) Pebble in the Sky Too Good To Be True Ultimate Spider-Man, Volume 1: Power and Responsibility Mortal Prey One, Two, Buckle My Shoe Gemina Staying Fat for Sarah Byrnes Lorna Doone: A Romance of Exmoor Maktub Head Over Heels (Lucky Harbor, #3) Adam The Clocks The one I left behind Tao of Pooh and Te of Piglet Boxed Set Manga Classics: Les Misérables The Orc King The Dolphins of Pern Any Human Heart The Abduction Die Henkerstochter und der König der Bettler (Band 3 aus der Reihe \"Die Henkerstochter-Saga\") La Carte et le territoire Festive in Death Rainbow Boys A Bite to Remember Paganinikontraktet The Reef They Do it with Mirrors 5 Very Good Reasons to Punch a Dolphin in the Mouth (and Other Useful Guides) Just a Mess (Look-Look) The Gods of War The Last Time We Say Goodbye Christ the Lord: Out of Egypt The Obelisk Gate Reasons To Stay Alive  The Children\\'s Book The Shadowy Horses Joey Pigza Swallowed the Key (Joey Pigza Books) Among the Mad شكلها باظت Olivia Joules And The Overactive Imagination Johannes Cabal the Necromancer The Way the Crow Flies イン ザ・ミソスープ Counterfeit Gods: The Empty Promises of Money, Sex, and Power, and the Only Hope That Matters Red Sparrow Operation Mincemeat: The True Spy Story That Changed the Course of World War II Beyond Band of Brothers: The War Memoirs of Major Dick Winters Beautiful You The Locket Shadows Linger Altered Obsession in Death Agatha Raisin and the Quiche of Death Marvelous Land of Oz, The Reservation Blues フルーツバスケット 15 Plenty Agent to the stars The First Confessor In der Strafkolonie The Beet Queen The Wave \"...And Ladies of the Club\" Secondhand Souls The Cinderella Murder  La vie de Gargantua et de Pantagruel When Will Jesus Bring the Pork Chops? The Last Werewolf 進撃の巨人 悔いなき選択 1 What\\'s the Matter with Kansas? How Conservatives Won the Heart of America شاب كشك في رحلة البحث عن الجادون Kitty Goes to Washington Reasonable Doubt: Volume 3 Riding the Bullet Нос Kitty and the Silver Bullet La Société du Spectacle SilverFin Attack of the Deranged Mutant Killer Monster Snow Goons: A Calvin and Hobbes Collection Crewel The Hate U Give المانيفستو Keep Holding On The Private Patient Flag in Exile The medium is the massage The Chronicles of Pern: First Fall ベルセルク 1 The Autograph Man My Soul to Steal On the Way to Wedding The Rogue The Seven Storey Mountain The Keep Scaredy Squirrel Gathering Darkness The Survivors Club Star Wars: The Force Awakens Sugar and Spice (L.A. Candy #3) Grave Dance  ソウルイーター 2 Z for Zachariah Await Your Reply Superman: Whatever Happened to the Man of Tomorrow? Track of the Cat The Mane Event Lawrence in Arabia Singularity Sky The White Rose \"حكايات فرغلي المستكاوي \"حكايتى مع كفر السحلاوية All Fall Down La Chartreuse de Parme Little Mercies The Faithful Spy Snowflake Bentley (Caldecott Medal Book) The Book of Luke Fame To Challenge a Dragon Bad Romeo Day After Night High Druid of Shannara, vol. 1: Jarka Ruus Look Homeward, Angel Cradle to Cradle: Remaking the Way We Make Things Healthy Sleep Habits, Happy Child Transmetropolitan Vol. 4: The New Scum The Hand That First Held Mine The Fourth Estate The Man Who Listens to Horses Oblivion The Holy Blood and the Holy Grail Falling Man Endgame: The Calling Mystery  The Sea of Trolls Kinesen Day 21 Daisy Fay and the Miracle Man Against All Enemies The Girl in the Red Coat Keep the Aspidistra Flying The Gate Thief My Lady Jane Time’s Arrow I Am the Cheese Soul On Ice You\\'ll Grow Out of It Truce The Elvenbane (Halfblood Chronicles, #1) Treasure Vampire, Interrupted Invisible Prey The Prefect Daughter DC: The New Frontier, Volume 1 Hello, Mrs. Piggle-Wiggle Web of Lies Le secret de la Licorne Judy Moody Dataclysm: Who We Are (When We Think No One\\'s Looking) Die fröhliche Wissenschaft The Broken Kingdoms The Three Trump: The Art of the Deal First Term at Malory Towers The Night is for Hunting フルーツバスケット 3 After Anna Dune: House Corrino Fantasy In Death The Devil You Know उपनिषद [Upaniṣad] Thrive: The Third Metric to Redefining Success and Creating a Life of Well-Being, Wisdom, and Wonder H.I.V.E.: Higher Institute of Villainous Education صانع الظلام The Law of Nines Five Go Adventuring Again The Demon Trapper\\'s Daughter A Death in the Family Falling Under The House On Tradd Street アラクレ 1 Perfect Shadow The Finding I Can Read with My Eyes Shut! The First 90 Days: Critical Success Strategies for New Leaders at All Levels Star Wars: Lost Stars Carry On, Mr. Bowditch Wit : A Play The Rats The Wandering Fire Magic Binds The Wild Ones Hammer of the Gods Winter in Madrid Happier at Home: Kiss More, Jump More, Abandon a Project, Read Samuel Johnson, and My Other Experiments in the Practice of Everyday Life Silver Bay La invención de Morel Berlin: The Downfall 1945 A War of Gifts (The Ender Quintet, #1.5) Captain Underpants and the Perilous Plot of Professor Poopypants (Captain Underpants) UnDivided The Empathy Exams: Essays Bay of Sighs The Duchess War 千年の雪, 1 Double Whammy Darker After Midnight Mad Dogs Lines of Departure Be Frank With Me Better Than Life Dirty Ghosts of Onyx Mates, Dates, and Inflatable Bras Going After Cacciato Little House on Rocky Ridge Not Quite Dating In a People House Kindred in Death  Lucky You Hunters of Dune Deep Down Dark: The Untold Stories of 33 Men Buried in a Chilean Mine, and the Miracle That Set Them Free The Story of Ruby Bridges Приглашение на казнь Debt Inheritance The Midwife of Hope River  Stand Tall, Molly Lou Melon The Complete Robot Another Bullshit Night in Suck City: A Memoir How Green Was My Valley The Chosen One The Power of Full Engagement: Managing Energy, Not Time, Is the Key to High Performance and Personal Renewal The History of the Decline and Fall of the Roman Empire Ox-Cart Man Wild Seed (Patternmaster, #1) The summer I turned pretty مخطوطة بن إسحاق: مدينة الموتى Mortal Coil Sweet Tooth, Volume 1: Out of the Deep Woods Captain Blood: His Odyssey Iron Man: Extremis The Necronomicon 会長はメイド様! 2 Batman, Volume 3: Death of the Family La Mécanique du cœur The Good Father We Are Called to Rise Hope Night Probe! The Story of B: An Adventure of the Mind and Spirit A Window Opens Strangers on a Train Unless Silent in the Grave Command Authority BLEACH―ブリーチ―\\u30003 Cinderella The Berenstain Bears and Too Much TV Heartstone The Center Cannot Hold The Afghan The Bite Before Christmas Frederica Star Wars: The Jedi Academy Trilogy, Volume III - Champions of the Force Vampires are Forever Two Years Before the Mast Think Twice Owl Babies The Turner House Danger in the Shadows Trouble Animal Speak: The Spiritual & Magical Powers of Creatures Great & Small Summer On Blossom Street (Blossom Street #6) Whitethorn Woods رواية \" طه الغريب \" Broken for You The Map That Changed the World: William Smith and the Birth of Modern Geology Lake in the Clouds Grasshopper Jungle The Chronicles of Narnia - The Lion, the Witch, and the Wardrobe Official Illustrated Movie Companion Blackberry Wine Humans of New York: Stories Life Before Legend Never Seduce a Scot A Civil Campaign The Egg ヴァンパイア騎士 3  Bad Kitty A Kiss in Time Desolation Angels هشت کتاب: مرگِ رنگ. زندگیِ خواب\\u200cه. آوارِ آفتاب. شرقِ اندوه. صدای پای آب. مسافر. حجمِ سبز. ما هیچ، ما نگاه Beacon 23: The Complete Novel The Last Picture Show A Countess Below Stairs Nocturnes: Five Stories of Music and Nightfall The Stainless Steel Rat Austerlitz A Twist in the Tale Copper Sun Black Cherry Blues The Versions of Us The Dancing Wu Li Masters: An Overview of the New Physics Froi of the Exiles Trumps of Doom The Honest Truth About Dishonesty: How We Lie to Everyone - Especially Ourselves Locked On Meant to Be The Illustrated Mum Afterworlds The Bookman’s Tale Горе от ума  I\\'ll Walk Alone My Lobotomy Passion\\'s Reign Overruled The Vision Las batallas en el desierto Salvation in Death Open Road Summer Dirty English Divine Madness Spark Grit: Passion, Perseverance, and the Science of Success Guts Innocent Death Without Company Horus Rising Hard As It Gets Timbuktu 桜蘭高校ホスト部 4 Rescue Homo faber: Ein Bericht George A Knight of the Word  A Thousand Boy Kisses The Accident Shopaholic to the Rescue Such a Rush Trouble in Mudbug Dream Dark A Coney Island of the Mind: Poems The Green Mile, Part 5: Night Journey Blue Noon (Midnighters, #3) City of Masks Thirteen Moons Big Brother Blue Monday Parts Broken Prey Promised The Serpent of Venice Novecento Dangerous Girls Give and Take: A Revolutionary Approach to Success From Beirut to Jerusalem Magonia ヴァンパイア騎士 2 The Men Who Stare at Goats Ride Steady The Lollipop Shoes Marked in Flesh Wild Cards Astonishing X-Men, Volume 2: Dangerous Wool 2: Proper Gauge The Comfort of Strangers Cunt: A Declaration of Independence Krondor: The Betrayal The Mime Order Mister B. Gone The Ground Beneath Her Feet ملحمة الحرافيش Darm mit Charme Bagombo Snuff Box The King Beyond the Gate 午後の曳航 [Gogo no eikō] When the Lion Feeds The Measure of a Lady The Twelfth Card Feverborn 青の祓魔師 2 The Snow Leopard Tom Clancy\\'s Net Force: Breaking Point Chasing The Night A Theory of Justice Out of the Dark  The Mambo Kings Play Songs of Love The Famished Road The Red Knight The Time-Traveller\\'s Guide to Medieval England: A Handbook for Visitors to the Fourteenth Century The Everafter War (The Sisters Grimm, #7) Billy Budd, Sailor Bayou Moon Means of Ascent  The Mauritius Command Cinderella Ate My Daughter: Dispatches from the Frontlines of the New Girlie-Girl Culture.jpg'",
     "output_type": "error",
     "traceback": [
      "\u001b[0;31m---------------------------------------------------------------------------\u001b[0m",
      "\u001b[0;31mOSError\u001b[0m                                   Traceback (most recent call last)",
      "\u001b[0;32m<ipython-input-9-fd181fa69673>\u001b[0m in \u001b[0;36m<module>\u001b[0;34m\u001b[0m\n\u001b[0;32m----> 1\u001b[0;31m \u001b[0mtitles\u001b[0m\u001b[0;34m=\u001b[0m\u001b[0mwordcloud\u001b[0m\u001b[0;34m(\u001b[0m\u001b[0mtitle_string\u001b[0m\u001b[0;34m)\u001b[0m\u001b[0;34m\u001b[0m\u001b[0;34m\u001b[0m\u001b[0m\n\u001b[0m\u001b[1;32m      2\u001b[0m \u001b[0mplt\u001b[0m\u001b[0;34m.\u001b[0m\u001b[0msavefig\u001b[0m\u001b[0;34m(\u001b[0m\u001b[0;34m'images/titles_wc.jpg'\u001b[0m\u001b[0;34m)\u001b[0m\u001b[0;34m\u001b[0m\u001b[0;34m\u001b[0m\u001b[0m\n",
      "\u001b[0;32m~/Documents/DSI/Capstone3/eda.py\u001b[0m in \u001b[0;36mwordcloud\u001b[0;34m(string)\u001b[0m\n\u001b[1;32m     45\u001b[0m     \u001b[0mplt\u001b[0m\u001b[0;34m.\u001b[0m\u001b[0maxis\u001b[0m\u001b[0;34m(\u001b[0m\u001b[0;34m'off'\u001b[0m\u001b[0;34m)\u001b[0m\u001b[0;34m\u001b[0m\u001b[0;34m\u001b[0m\u001b[0m\n\u001b[1;32m     46\u001b[0m     \u001b[0mplt\u001b[0m\u001b[0;34m.\u001b[0m\u001b[0mimshow\u001b[0m\u001b[0;34m(\u001b[0m\u001b[0mwc\u001b[0m\u001b[0;34m)\u001b[0m\u001b[0;34m\u001b[0m\u001b[0;34m\u001b[0m\u001b[0m\n",
      "\u001b[0;32m~/opt/anaconda3/lib/python3.7/site-packages/matplotlib/pyplot.py\u001b[0m in \u001b[0;36msavefig\u001b[0;34m(*args, **kwargs)\u001b[0m\n\u001b[1;32m    727\u001b[0m \u001b[0;32mdef\u001b[0m \u001b[0msavefig\u001b[0m\u001b[0;34m(\u001b[0m\u001b[0;34m*\u001b[0m\u001b[0margs\u001b[0m\u001b[0;34m,\u001b[0m \u001b[0;34m**\u001b[0m\u001b[0mkwargs\u001b[0m\u001b[0;34m)\u001b[0m\u001b[0;34m:\u001b[0m\u001b[0;34m\u001b[0m\u001b[0;34m\u001b[0m\u001b[0m\n\u001b[1;32m    728\u001b[0m     \u001b[0mfig\u001b[0m \u001b[0;34m=\u001b[0m \u001b[0mgcf\u001b[0m\u001b[0;34m(\u001b[0m\u001b[0;34m)\u001b[0m\u001b[0;34m\u001b[0m\u001b[0;34m\u001b[0m\u001b[0m\n\u001b[0;32m--> 729\u001b[0;31m     \u001b[0mres\u001b[0m \u001b[0;34m=\u001b[0m \u001b[0mfig\u001b[0m\u001b[0;34m.\u001b[0m\u001b[0msavefig\u001b[0m\u001b[0;34m(\u001b[0m\u001b[0;34m*\u001b[0m\u001b[0margs\u001b[0m\u001b[0;34m,\u001b[0m \u001b[0;34m**\u001b[0m\u001b[0mkwargs\u001b[0m\u001b[0;34m)\u001b[0m\u001b[0;34m\u001b[0m\u001b[0;34m\u001b[0m\u001b[0m\n\u001b[0m\u001b[1;32m    730\u001b[0m     \u001b[0mfig\u001b[0m\u001b[0;34m.\u001b[0m\u001b[0mcanvas\u001b[0m\u001b[0;34m.\u001b[0m\u001b[0mdraw_idle\u001b[0m\u001b[0;34m(\u001b[0m\u001b[0;34m)\u001b[0m   \u001b[0;31m# need this if 'transparent=True' to reset colors\u001b[0m\u001b[0;34m\u001b[0m\u001b[0;34m\u001b[0m\u001b[0m\n\u001b[1;32m    731\u001b[0m     \u001b[0;32mreturn\u001b[0m \u001b[0mres\u001b[0m\u001b[0;34m\u001b[0m\u001b[0;34m\u001b[0m\u001b[0m\n",
      "\u001b[0;32m~/opt/anaconda3/lib/python3.7/site-packages/matplotlib/figure.py\u001b[0m in \u001b[0;36msavefig\u001b[0;34m(self, fname, transparent, **kwargs)\u001b[0m\n\u001b[1;32m   2178\u001b[0m             \u001b[0mself\u001b[0m\u001b[0;34m.\u001b[0m\u001b[0mpatch\u001b[0m\u001b[0;34m.\u001b[0m\u001b[0mset_visible\u001b[0m\u001b[0;34m(\u001b[0m\u001b[0mframeon\u001b[0m\u001b[0;34m)\u001b[0m\u001b[0;34m\u001b[0m\u001b[0;34m\u001b[0m\u001b[0m\n\u001b[1;32m   2179\u001b[0m \u001b[0;34m\u001b[0m\u001b[0m\n\u001b[0;32m-> 2180\u001b[0;31m         \u001b[0mself\u001b[0m\u001b[0;34m.\u001b[0m\u001b[0mcanvas\u001b[0m\u001b[0;34m.\u001b[0m\u001b[0mprint_figure\u001b[0m\u001b[0;34m(\u001b[0m\u001b[0mfname\u001b[0m\u001b[0;34m,\u001b[0m \u001b[0;34m**\u001b[0m\u001b[0mkwargs\u001b[0m\u001b[0;34m)\u001b[0m\u001b[0;34m\u001b[0m\u001b[0;34m\u001b[0m\u001b[0m\n\u001b[0m\u001b[1;32m   2181\u001b[0m \u001b[0;34m\u001b[0m\u001b[0m\n\u001b[1;32m   2182\u001b[0m         \u001b[0;32mif\u001b[0m \u001b[0mframeon\u001b[0m\u001b[0;34m:\u001b[0m\u001b[0;34m\u001b[0m\u001b[0;34m\u001b[0m\u001b[0m\n",
      "\u001b[0;32m~/opt/anaconda3/lib/python3.7/site-packages/matplotlib/backend_bases.py\u001b[0m in \u001b[0;36mprint_figure\u001b[0;34m(self, filename, dpi, facecolor, edgecolor, orientation, format, bbox_inches, **kwargs)\u001b[0m\n\u001b[1;32m   2089\u001b[0m                     \u001b[0morientation\u001b[0m\u001b[0;34m=\u001b[0m\u001b[0morientation\u001b[0m\u001b[0;34m,\u001b[0m\u001b[0;34m\u001b[0m\u001b[0;34m\u001b[0m\u001b[0m\n\u001b[1;32m   2090\u001b[0m                     \u001b[0mbbox_inches_restore\u001b[0m\u001b[0;34m=\u001b[0m\u001b[0m_bbox_inches_restore\u001b[0m\u001b[0;34m,\u001b[0m\u001b[0;34m\u001b[0m\u001b[0;34m\u001b[0m\u001b[0m\n\u001b[0;32m-> 2091\u001b[0;31m                     **kwargs)\n\u001b[0m\u001b[1;32m   2092\u001b[0m             \u001b[0;32mfinally\u001b[0m\u001b[0;34m:\u001b[0m\u001b[0;34m\u001b[0m\u001b[0;34m\u001b[0m\u001b[0m\n\u001b[1;32m   2093\u001b[0m                 \u001b[0;32mif\u001b[0m \u001b[0mbbox_inches\u001b[0m \u001b[0;32mand\u001b[0m \u001b[0mrestore_bbox\u001b[0m\u001b[0;34m:\u001b[0m\u001b[0;34m\u001b[0m\u001b[0;34m\u001b[0m\u001b[0m\n",
      "\u001b[0;32m~/opt/anaconda3/lib/python3.7/site-packages/matplotlib/backends/backend_agg.py\u001b[0m in \u001b[0;36mprint_jpg\u001b[0;34m(self, filename_or_obj, dryrun, pil_kwargs, *args, **kwargs)\u001b[0m\n\u001b[1;32m    595\u001b[0m             \u001b[0mpil_kwargs\u001b[0m\u001b[0;34m.\u001b[0m\u001b[0msetdefault\u001b[0m\u001b[0;34m(\u001b[0m\u001b[0;34m\"dpi\"\u001b[0m\u001b[0;34m,\u001b[0m \u001b[0;34m(\u001b[0m\u001b[0mself\u001b[0m\u001b[0;34m.\u001b[0m\u001b[0mfigure\u001b[0m\u001b[0;34m.\u001b[0m\u001b[0mdpi\u001b[0m\u001b[0;34m,\u001b[0m \u001b[0mself\u001b[0m\u001b[0;34m.\u001b[0m\u001b[0mfigure\u001b[0m\u001b[0;34m.\u001b[0m\u001b[0mdpi\u001b[0m\u001b[0;34m)\u001b[0m\u001b[0;34m)\u001b[0m\u001b[0;34m\u001b[0m\u001b[0;34m\u001b[0m\u001b[0m\n\u001b[1;32m    596\u001b[0m             return background.save(\n\u001b[0;32m--> 597\u001b[0;31m                 filename_or_obj, format='jpeg', **pil_kwargs)\n\u001b[0m\u001b[1;32m    598\u001b[0m \u001b[0;34m\u001b[0m\u001b[0m\n\u001b[1;32m    599\u001b[0m         \u001b[0mprint_jpeg\u001b[0m \u001b[0;34m=\u001b[0m \u001b[0mprint_jpg\u001b[0m\u001b[0;34m\u001b[0m\u001b[0;34m\u001b[0m\u001b[0m\n",
      "\u001b[0;32m~/opt/anaconda3/lib/python3.7/site-packages/PIL/Image.py\u001b[0m in \u001b[0;36msave\u001b[0;34m(self, fp, format, **params)\u001b[0m\n\u001b[1;32m   2097\u001b[0m                 \u001b[0mfp\u001b[0m \u001b[0;34m=\u001b[0m \u001b[0mbuiltins\u001b[0m\u001b[0;34m.\u001b[0m\u001b[0mopen\u001b[0m\u001b[0;34m(\u001b[0m\u001b[0mfilename\u001b[0m\u001b[0;34m,\u001b[0m \u001b[0;34m\"r+b\"\u001b[0m\u001b[0;34m)\u001b[0m\u001b[0;34m\u001b[0m\u001b[0;34m\u001b[0m\u001b[0m\n\u001b[1;32m   2098\u001b[0m             \u001b[0;32melse\u001b[0m\u001b[0;34m:\u001b[0m\u001b[0;34m\u001b[0m\u001b[0;34m\u001b[0m\u001b[0m\n\u001b[0;32m-> 2099\u001b[0;31m                 \u001b[0mfp\u001b[0m \u001b[0;34m=\u001b[0m \u001b[0mbuiltins\u001b[0m\u001b[0;34m.\u001b[0m\u001b[0mopen\u001b[0m\u001b[0;34m(\u001b[0m\u001b[0mfilename\u001b[0m\u001b[0;34m,\u001b[0m \u001b[0;34m\"w+b\"\u001b[0m\u001b[0;34m)\u001b[0m\u001b[0;34m\u001b[0m\u001b[0;34m\u001b[0m\u001b[0m\n\u001b[0m\u001b[1;32m   2100\u001b[0m \u001b[0;34m\u001b[0m\u001b[0m\n\u001b[1;32m   2101\u001b[0m         \u001b[0;32mtry\u001b[0m\u001b[0;34m:\u001b[0m\u001b[0;34m\u001b[0m\u001b[0;34m\u001b[0m\u001b[0m\n",
      "\u001b[0;31mOSError\u001b[0m: [Errno 63] File name too long: 'images/The Hunger Games Harry Potter and the Philosopher\\'s Stone To Kill a Mockingbird The Great Gatsby The Fault in Our Stars The Hobbit or There and Back Again The Catcher in the Rye Angels & Demons  Pride and Prejudice The Kite Runner  Divergent Nineteen Eighty-Four Animal Farm: A Fairy Story Het Achterhuis: Dagboekbrieven 14 juni 1942 - 1 augustus 1944 Män som hatar kvinnor Catching Fire Harry Potter and the Prisoner of Azkaban  The Fellowship of the Ring Mockingjay Harry Potter and the Order of the Phoenix The Lovely Bones Harry Potter and the Chamber of Secrets Harry Potter and the Goblet of Fire Harry Potter and the Deathly Hallows The Da Vinci Code Harry Potter and the Half-Blood Prince Lord of the Flies  An Excellent conceited Tragedie of Romeo and Juliet Gone Girl The Help Of Mice and Men  Memoirs of a Geisha Fifty Shades of Grey O Alquimista The Giver The Lion, the Witch and the Wardrobe The Time Traveler\\'s Wife A Game of Thrones Eat, pray, love: one woman\\'s search for everything across Italy, India and Indonesia The Lightning Thief Little Women Jane Eyre The Notebook Water for Elephants The Book Thief Fahrenheit 451 New Moon (Twilight, #2) Where the Sidewalk Ends: The Poems and Drawings of Shel Silverstein Eclipse Eragon The Hitchhiker\\'s Guide to the Galaxy Brave New World Breaking Dawn The Secret Life of Bees The Adventures of Huckleberry Finn Charlotte\\'s Web The Curious Incident of the Dog in the Night-Time The Girl on the Train Wuthering Heights My Sister\\'s Keeper Slaughterhouse-Five, or The Children\\'s Crusade: A Duty-Dance with Death  Gone with the Wind A Thousand Splendid Suns The Perks of Being a Wallflower Insurgent Ender\\'s Game Frankenstein; or, The Modern Prometheus The Shining The Host Looking for Alaska Sense and Sensibility Holes The Devil Wears Prada Ὀδύσσεια Le Petit Prince The Glass Castle A Tale of Two Cities Jurassic Park The Giving Tree A Time to Kill Un di Velt Hot Geshvign Paper Towns The Princess Bride The Outsiders The Maze Runner Freakonomics: A Rogue Economist Explores the Hidden Side of Everything The Secret Garden Cien años de soledad The Picture of Dorian Gray Fifty Shades Freed Dracula Flickan som lekte med elden Fifty Shades Darker The Poisonwood Bible Me Talk Pretty One Day Where the Wild Things Are Le Comte de Monte-Cristo The Road Allegiant Bossypants A Walk to Remember Confessions of a Shopaholic Les Misérables A Clash of Kings The Memory Keeper\\'s Daughter Me Before You Catch-22 Tuesdays with Morrie Middlesex The Adventures of Tom Sawyer A Wrinkle in Time The Joy Luck Club The Handmaid\\'s Tale The Sisterhood of the Traveling Pants Lolita Wicked: The Life and Times of the Wicked Witch of the West Room The Tragicall Historie of Hamlet, Prince of Denmark Dune The Tipping Point: How Little Things Can Make a Big Difference Steve Jobs One Flew Over the Cuckoo\\'s Nest The Old Man and the Sea The Grapes of Wrath Anne of Green Gables A Storm of Swords Divine Secrets of the Ya-Ya Sisterhood Outlander The Scarlet Letter Miss Peregrine’s Home for Peculiar Children Luftslottet som sprängdes The Martian The Pillars of the Earth Unbroken: A World War II Story of Survival, Resilience, and Redemption Deception Point The Goldfinch Thirteen Reasons Why Girl with a Pearl Earring If I Stay The Red Tent The Sea of Monsters Dear John City of Ashes The Tragedy of Macbeth The Two Towers Something Borrowed Green Eggs and Ham Charlie and the Chocolate Factory The Battle of the Labyrinth Great Expectations The Return of the King L’Étranger The Lost Hero Eleanor & Park A Feast for Crows Matched American Gods The Stand The Last Song Digital Fortress Emma Анна Каренина A Clockwork Orange The Shack: Where Tragedy Confronts Eternity The Last Olympian It Преступление и наказание The Bell Jar Angela\\'s Ashes: A Memoir Siddhartha In Cold Blood Beautiful Creatures Clockwork Angel Matilda The Night Circus The Other Boleyn Girl Uglies A Dance with Dragons The Lord of the Rings Wild: From Lost to Found on the Pacific Crest Trail  Watchmen The Name of the Wind Outliers: The Story of Success Moby Dick; or, The Whale The Guernsey Literary and Potato Peel Pie Society Fight Club Dead Until Dark The Color Purple Marley & Me: Life and Love with the World\\'s Worst Dog Ten Little Niggers The Lost Symbol Hush, Hush Beautiful Disaster Interview with the Vampire The Selection One for the Money The Immortal Life of Henrietta Lacks The Silence of the Lambs Blink: The Power of Thinking Without Thinking Atonement Die Verwandlung The Titan\\'s Curse The Art of Racing in the Rain The Devil in the White City: Murder, Magic, and Madness at the Fair that Changed America Bared to You The Chronicles of Narnia A Child Called \"It\": One Child\\'s Courage to Survive The Bourne Identity Artemis Fowl East of Eden   Dark Places The Client The Nanny Diaries Alice\\'s Adventures in Wonderland Persuasion Elle s\\'appelait Sarah The Gunslinger El amor en los tiempos del cólera Speak The Husband\\'s Secret  Into Thin Air: A Personal Account of the Mt. Everest Disaster Running with Scissors World War Z: An Oral History of the Zombie War Inferno Number the Stars Along Came a Spider Misery Sharp Objects Bridge to Terabithia Marked The 7 Habits of Highly Effective People A Midsummer Night\\'s Dream Extremely Loud and Incredibly Close Wonder The Cat in the Hat Cinder The Cuckoo\\'s Calling Shiver Atlas Shrugged Three Cups of Tea  La sombra del viento The Scorch Trials How to Win Friends and Influence People Under the Tuscan Sun Big Little Lies Ella Enchanted The Sun Also Rises A Tree Grows In Brooklyn  Kiss the Girls The Nightingale Never Let Me Go PS, I Love You Rebecca Flowers for Algernon Como agua para chocolate Snow Flower and the Secret Fan The Godfather An Abundance of Katherines Foundation The Ocean at the End of the Lane A Light in the Attic Harry Potter and the Cursed Child, Parts One and Two Delirium The Pelican Brief Good Omens: The Nice and Accurate Prophecies of Agnes Nutter, Witch On the Road The Rosie Project The Lucky One The Fountainhead Watership Down Is Everyone Hanging Out Without Me? (And Other Concerns) Cutting for Stone The Voyage of the Dawn Treader Treasure Island The Son of Neptune  11/22/63 The Very Hungry Caterpillar Cat\\'s Cradle The Time Machine The Boy in the Striped Pyjamas Safe Haven I Know This Much Is True  Pet Sematary She\\'s Come Undone The Wise Man\\'s Fear Can You Keep a Secret? City of Fallen Angels Good in Bed The Thorn Birds The Graveyard Book The Light Between Oceans Tintenherz Who Moved My Cheese? A Walk in the Woods I Know Why the Caged Bird Sings Orphan Train City of Lost Souls Where\\'d You Go, Bernadette Neverwhere Nesnesitelná lehkost bytí A Prayer for Owen Meany White Oleander Legend Nineteen Minutes The Last Lecture The Eye of the World The Pact The magician\\'s nephew Still Alice Reflected in You James and the Giant Peach 1st To Die The Ultimate Hitchhiker\\'s Guide: Five Complete Novels and One Story One Day I Am Number Four Ἰλιάς The Casual Vacancy The Runaway Jury Eldest The Wonderful Wizard of Oz Prince Caspian: The Return to Narnia We Were Liars Salem\\'s Lot Fear and Loathing in Las Vegas: A Savage Journey to the Heart of the American Dream Clockwork Prince Yes Please The Tragedy of Othello, The Moor of Venice Beloved Graceling The Bad Beginning Im Westen nichts Neues Oh, the Places You\\'ll Go! And The Mountains Echoed Do Androids Dream of Electric Sheep? Oliver Twist Anna and the French Kiss How the Grinch Stole Christmas! V for Vendetta John Adams Odd Thomas The Subtle Knife Stargirl The Red Pyramid Stranger in a Strange Land Dress Your Family in Corduroy and Denim The BFG A Short History of Nearly Everything The Call of the Wild The Death Cure Stardust The Namesake A Discovery of Witches ノルウェイの森 [Noruwei no Mori] Where the Heart Is Will Grayson, Will Grayson A Million Little Pieces Frostbite Quiet: The Power of Introverts in a World that Can\\'t Stop Talking Island of the Blue Dolphins The Crucible Hatchet Mistborn : The Final Empire The Strange Case of Dr Jekyll and Mr Hyde The Lorax Greg Heffley\\'s Journal Throne of Glass Shadow Kiss For Whom the Bell Tolls Hotel on the Corner of Bitter and Sweet Das Parfum. Die Geschichte eines Mörders Fast Food Nation : The Dark Side of the All-American Meal  The Tales of Beedle the Bard Neuromancer A Farewell to Arms 孫子兵法 [Sūnzi bīngfǎ] Defending Jacob Breakfast of Champions Drawing on the Right Side of the Brain Bel Canto Guns, Germs, and Steel: The Fates of Human Societies Things Fall Apart The Undomestic Goddess The Five Love Languages: How to Express Heartfelt Commitment to Your Mate The Other Hand Evermore The Witches The Thirteenth Tale Spirit Bound Blood Promise Message in a Bottle The Paris Wife Complete Harry Potter Boxed Set The Elite Il nome della rosa Go Ask Alice A Confederacy of Dunces The Importance of Being Earnest The Mark of Athena The Colour of Magic 海辺のカフカ [Umibe no Kafuka] Red Dragon I, Robot Dark Lover Crescendo Before I Fall The God of Small Things The Invention of Wings What Alice Forgot A Brief History of Time: From the Big Bang to Black Holes Fall of Giants Under the Dome Snow Crash Just Listen Winnie-the-Pooh Before I Go to Sleep A Study in Scarlet Brisingr The Purpose Driven Life: What on Earth am I Here For? Betrayed: a House of Night Novel Storm Front Northanger Abbey The 5th Wave Cold Mountain If You Give a Mouse a Cookie Something Blue A Streetcar Named Desire The Historian Station Eleven En man som heter Ove Clockwork Princess The Good Earth Ways of Seeing Dragonfly in Amber The Hobbit The Brief Wondrous Life of Oscar Wao Their Eyes Were Watching God Fantastic Beasts and Where to Find Them I Am Malala: The Girl Who Stood Up for Education and Was Shot by the Taliban Mansfield Park …trotzdem Ja zum Leben sagen: Ein Psychologe erlebt das Konzentrationslager In the Woods The God Delusion Where She Went The World According to Garp Killing Floor The Life and Strange Surprising Adventures of Robinson Crusoe of York, Mariner Il Principe The Amber Spyglass Wizard\\'s First Rule The Kitchen House Franny and Zooey Choke Братья Карамазовы The City of Ember The Green Mile The Prophet Maus: A Survivor\\'s Tale : My Father Bleeds History Untamed: A House of Night Novel Speaker for the Dead Mere Christianity The Secret History A Heartbreaking Work of Staggering Genius The Clan of the Cave Bear Black Beauty Война и миръ American Psycho The Princess Diaries The No. 1 Ladies\\' Detective Agency  The Walking Dead, Vol. 1: Days Gone Bye 2001: A Space Odyssey Left Behind:  A Novel of the Earth\\'s Last Days The One The Hunger Games Box Set Nickel and Dimed: On (Not) Getting By in America Remember Me? The Great Hunt Post-Mortem:  A Mystery Introducing Dr. Kay Scarpetta The Complete Tales of Edgar Allan Poe The Hiding Place The Adventures of Sherlock Holmes The Prince of Tides The Amazing Adventures of Kavalier & Clay Perfect Chemistry Peter Pan Pretties ねじまき鳥クロニクル [Nejimakidori kuronikuru] The Lincoln Lawyer  Cloud Atlas The Things They Carried Wall and Piece Pandemonium Darkly Dreaming Dexter Living Dead in Dallas The Dragon Reborn  Gulliver’s Travels Much Ado About Nothing Beowulf Batman: Year One Go Set a Watchman When You Are Engulfed in Flames Daughter of Smoke & Bone Red Queen The Power of Habit Midnight in the Garden of Good and Evil Hopeless A Little Princess The Truth About Forever The horse and his boy Last Sacrifice  Little House on the Prairie The Velveteen Rabbit Zen and the Art of Motorcycle Maintenance The War of the Worlds Pretty Little Liars Corduroy The Omnivore\\'s Dilemma Life After Life The Rescue Voyager Cujo The Virgin Suicides Dead to the World Tess of the d\\'Urbervilles: A Pure Woman Faithfully Presented Madame Bovary The Phantom Tollbooth The Way of Kings Club Dead It\\'s Kind of a Funny Story After You The Language of Flowers Batman: The Dark Knight Returns The Angel Experiment High Fidelity Oryx and Crake Men Are from Mars, Women Are from Venus Book of Days: 365 Inspirations to Enrich Your Relationships Kitchen Confidential: Adventures in the Culinary Underbelly Timeline Candide Tuck Everlasting Christine Are You My Mother? The Story of Art Rich Dad , Poor Dad Silence  The Magicians デスノート #1 (Desu Nōto) Taikutsu (退屈) A Great and Terrible Beauty Everything Is Illuminated The Bourne Supremacy Easy David Copperfield The Absolutely True Diary of a Part-Time Indian Мастер и Маргарита A Wizard of Earthsea Because of Winn-Dixie A Separate Peace The Rainmaker Don Quijote de La Mancha Assassin\\'s Apprentice The Restaurant at the End of the Universe Torment The Tale of Peter Rabbit The Silver Chair The Hero of Ages Girl, Interrupted Jonathan Livingston Seagull City of Heavenly Fire Love You Forever Cell The Boys in the Boat: Nine Americans and Their Epic Quest for Gold at the 1936 Berlin Olympics The Silmarillion The Drawing of the Three The Forgotten Garden Der Prozeß This Lullaby Plain Truth Orange Is the New Black: My Year in a Women\\'s Prison The Hound of the Baskervilles Thinking, Fast and Slow The Mists of Avalon Are You There God? It\\'s Me, Margaret Nights in Rodanthe Mr. Mercedes All Together Dead Midwives The Polar Express The True Story of the Three Little Pigs Patriot Games Veronika decide morrer Lean In: Women, Work, and the Will to Lead Dead as a Doornail  Shatter Me (Shatter Me, #1) Starship Troopers I\\'ve Got Your Number Sofies Verden The Martian Chronicles A Visit From the Goon Squad Heidi The Last Battle World Without End Chosen: A House of Night Novel Slammed Beastly (Beastly, #1, Kendra Chronicles, #1) Tales of Caunterbury Baby Proof Inheritance いちきゅうはちよん [Ichi-Kyū-Hachi-Yon] Uncle Tom\\'s Cabin or Life Among the Lowly Le Fantôme de l\\'Opéra Definitely Dead (Sookie Stackhouse, #6) Ensaio Sobre a Cegueira Freedom Crossed I\\'d Tell You I Love You, But Then I\\'d Have to Kill You The White Tiger The Corrections Dreams from My Father Congo Alexander and the Terrible, Horrible, No Good, Very Bad Day Interpreter of Maladies A People\\'s History of the United States: 1492 to Present  Breakfast at Tiffany\\'s The Passage Anansi Boys Along for the Ride Everything I Never Told You La casa de los espíritus The Dead Zone The Mysterious Affair at Styles Murder in the Calais Coach Americanah Suzanne\\'s Diary for Nicholas Firestarter Entwined with You Born to Run: A Hidden Tribe, Superathletes, and the Greatest Race the World Has Never Seen The Storied Life of A.J. Fikry Mad About Madeline Think and Grow Rich Little House In The Big Woods Jonathan Strange & Mr Norrell A Bend in the Road The House of Hades 1776 Under the Banner of Heaven: A Story of Violent Faith Beautiful Ruins The Audacity of Hope: Thoughts on Reclaiming the American Dream On Writing: A Memoir of the Craft Firefly Lane Sphere Love the One You\\'re With The Silkworm The Vampire Lestat State of Wonder The Silver Linings Playbook Vingt Mille Lieues Sous les Mers The Constant Princess Mrs Dalloway Hundraåringen som klev ut genom fönstret och försvann Bag of Bones The Cider House Rules Thinner Le tour du monde en quatre-vingts jours Walk Two Moons Onze minutos Nine Stories Julie & Julia: 365 Days, 524 Recipes, 1 Tiny Apartment Kitchen Unwind Drums of Autumn (Outlander, #4) Prodigy The Tragedie of King Lear Death of a Salesman The Choice The Sound and the Fury A New Earth: Awakening to Your Life\\'s Purpose BLEACH―ブリーチ―\\u30001 The Shadow Rising  Shantaram From Dead to Worse The Waste Lands The Bone Collector Der Vorleser Brown Bear, Brown Bear, What Do You See? Hyperion The Pearl of the World The Exorcist The Short Second Life of Bree Tanner Snow Falling on Cedars Roots Batman: The Killing Joke  Invisible Man A Long Way Gone. Memoirs of a Boy Soldier Wool Omnibus Lamb: The Gospel According to Biff, Christ\\'s Childhood Pal The Power of Now Let\\'s Pretend This Never Happened (A Mostly True Memoir) The Lies of Locke Lamora Sabriel Dead and Gone The Storyteller Obsidian Life, the Universe and Everything Crown of Midnight Scott Pilgrim, Volume 1: Scott Pilgrim\\'s Precious Little Life Half Broke Horses: A True Life Novel Mort The Iron King (The Iron Fey, #1)  Lonesome Dove Stiff: The Curious Lives of Human Cadavers Bloodlines Ender\\'s Shadow Twenties Girl Schindler\\'s Ark The Bluest Eye The White Queen The Autobiography of Malcolm X Preludes & Nocturnes Seabiscuit Shutter Island The Complete Sherlock Holmes The Tragedy of Julius Caesar In the Garden of Beasts: Love, Terror, and an American Family in Hitler\\'s Berlin Πολιτεία The Taming of the Shrew Cress Just Kids Jemima J Notre-Dame de Paris A Fine Balance Calvin and Hobbes Specials For One More Day Clear and Present Danger Falling Up Trainspotting Foundation and Empire House Rules Brüder Grimm: Kinder- und Hausmärchen From the Mixed-Up Files of Mrs. Basil E. Frankweiler Doctor Sleep About a Boy On Dublin Street Crazy Love: Overwhelmed by a Relentless God The Story of My Life This Is Where I Leave You Abraham Lincoln: Vampire Hunter フルーツバスケット 1 The Tempest Burned: A House of Night Novel Wizard and Glass The Circle The Invention of Hugo Cabret Brave New World/Brave New World Revisited 桜蘭高校ホスト部 1 The Good Girl Fallen Too Far (Too Far, #1) Landline Tempted No Country for Old Men Wolf Hall Howl\\'s Moving Castle Dreamcatcher Walden; or Life in the Woods The Remains of the Day The Best of Me The Sense of an Ending A is for Alibi Οἰδίπους Τύραννος Shanghai Girls The Wind in the Willows To All the Boys I\\'ve Loved Before A Room with a View The DUFF: Designated Ugly Fat Friend Lock and Key Naked in Death The Chamber Midnight Sun (Partial Draft) NARUTO -ナルト- 巻ノ一  The Unlikely Pilgrimage of Harold Fry Every Day Xenocide The Merchant of Venice Shōgun Lover Awakened (Black Dagger Brotherhood, #3) A Court of Thorns and Roses Chicka Chicka Boom Boom Smile  Animal Farm & 1984 The Deep End of the Ocean The Bonesetter\\'s Daughter Angus, Thongs and Full-Frontal Snogging Mr. Penumbra\\'s 24-Hour Bookstore Flowers in the Attic When Breath Becomes Air Maniac Magee Invisible Monsters Twelfth Night; or, What You Will Gathering Blue The Westing Game Red Rising The Way of Shadows The Bean Trees Walking Disaster Words of Radiance Guess How Much I Love You The Fiery Cross Night Shift Jaws The History of Love Pippi Långstrump L\\'élégance du hérisson Team of Rivals: The Political Genius of Abraham Lincoln Dead in the Family La peste The Reptile Room Brain on Fire Wicked Lovely  Curious George Die unendliche Geschichte A Beautiful Mind The Jungle The Summoning The Man Who Mistook His Wife for a Hat and Other Clinical Tales Storm Island The Blind Assassin Hollow City House of Sand and Fog The Girl with All the Gifts As I Lay Dying Harold and the Purple Crayon Lover Eternal (Black Dagger Brotherhood, #2) Fool Moon  David and Goliath 鋼の錬金術師 1 Guards! Guards! The Year of Magical Thinking We Need to Talk About Kevin Rendezvous with Rama The Queen of the Damned The Age of Innocence The Selfish Gene Year of Wonders: A Novel of the Plague The Black Echo Anthem Gabriel\\'s Inferno Cloudy with a Chance of Meatballs Major Pettigrew\\'s Last Stand Vision in White The Tenth Circle The Throne of Fire Old Man\\'s War Gerald\\'s Game Two for the Dough The Forever War Insomnia Reading Lolita in Tehran: A Memoir in Books The Blade Itself The Arctic Incident The Shipping News 人生がときめく片づけの魔法 All the Bright Places Déjà Dead The Alchemyst: The Secrets of The Immortal Nicholas Flamel The Marriage Plot Hija de la fortuna Luckiest Girl Alive Crank (Crank, #1) The Raven Boys I Am Legend and Other Stories Olive Kitteridge Not that Kind of Girl Good to Great: Why Some Companies Make the Leap... and Others Don\\'t Fire En attendant Godot White Fang Wolves of the Calla His Dark Materials The Edge of Never Reconstructing Amelia The One Plus One The Hours Wallbanger Holidays on Ice Desperation Passion The Kill Order Angelfall Empire Falls The Fires of Heaven I\\'ll Give You the Sun Survivor Shopaholic and Baby The Dark Tower Twilight Director\\'s Notebook Shopaholic Abroad Surely You\\'re Joking, Mr. Feynman! Adventures of a Curious Character Linger A Portrait of the Artist as a Young Man The Gathering Storm Middlemarch Point of Retreat The Hobbit and The Lord of the Rings Thoughtless The Dark Half Cleopatra: A Life The World Is Flat: A Brief History of the Twenty-first Century Steelheart Voyage au centre de la Terre The Happiness Project The Man in the High Castle Helter Skelter: The True Story of The Manson Murders Shadow of Night Leaving Time Moon Called Blue Bloods The Alienist Between the World and Me Paradise Lost The Big Short: Inside the Doomsday Machine  A Monster Calls  Towers of Midnight The Day of the Jackal Rework Attachments Tell the Wolves I\\'m Home All Creatures Great And Small The Unbecoming of Mara Dyer Three to Get Deadly The Scarlet Pimpernel The Monster at the End of This Book Tales of a Fourth Grade Nothing Shadow and Bone Het diner Champion Contact Lola and the Boy Next Door White Teeth American Sniper: The Autobiography of the Most Lethal Sniper in U.S. Military History My Horizontal Life: A Collection of One-Night Stands The Power of Six The Interestings The Essential Calvin and Hobbes: A Calvin and Hobbes Treasury People of the Book So Long, and Thanks for All the Fish Der Steppenwolf: Erzählung The Surgeon The Girl You Left Behind Royal Assassin Childhood\\'s End  The Tale of Despereaux Animal, Vegetable, Miracle: A Year of Food Life Heir of Fire The Sweetness at the Bottom of the Pie Blue Like Jazz: Nonreligious Thoughts on Christian Spirituality A Breath of Snow and Ashes The Blood of Olympus Truly Madly Guilty Saga, Volume One The Art of Fielding A Moveable Feast Fablehaven The Wide Window Grave Peril Einstein. His Life and Universe Effortless The Street Lawyer Roll of Thunder, Hear My Cry Pride and Prejudice and Zombies Lets Explore Diabetes with Owls Идиот Dirk Gently\\'s Holistic Detective Agency Rodrick Rules Why Not Me? Four: A Divergent Collection Modern Romance The One and Only Ivan The Perfect Storm: A True Story of Men Against the Sea Elantris The Knife of Never Letting Go One Thousand White Women: The Journals of May Dodd Handle with Care Song of Susannah Midnight\\'s Children The Zombie Survival Guide: Complete Protection from the Living Dead Murder at the Vicarage Among the Hidden  In Defense of Food: An Eater\\'s Manifesto The Witch of Blackbird Pond The Heir Shopaholic Ties the Knot The Woman in White Career of Evil The Summer I Turned Pretty Four to Score  The Color of Water: A Black Man\\'s Tribute to His White Mother SuperFreakonomics: Global Cooling, Patriotic Prostitutes, and Why Suicide Bombers Should Buy Life Insurance Darkfever Stone of Tears Heart of the Matter Vanity Fair: A Novel Without a Hero The Sirens of Titan Dolores Claiborne The Nest Fables, Volume 1: Legends in Exile Getting Things Done: How To Achieve Stress-free Productivity The Celestine Prophecy My Life Next Door  Winter of the World 色彩を持たない多崎つくると、彼の巡礼の年 [Shikisai o motanai Tazaki Tsukuru to, kare no junrei no toshi] To The Lighthouse  Five Point Someone: What Not to Do at IIT Guilty Pleasures Far from the Madding Crowd Equal Rites House of Leaves Cruel & Unusual Sycamore Row Awakened My Ántonia Life As We Knew It America (The Book): A Citizen\\'s Guide to Democracy Inaction The Longest Ride 道德經 [dào dé jīng] Kane and Abel Change of Heart Dry: A Memoir Grey Dune Messiah  The Great Divorce Eventyr og historier New Moon: The Complete Illustrated Movie Companion Maybe Someday Mr Maybe Anne of the Island Also sprach Zarathustra A Stolen Life The Immortals of Meluha The Lost World Requiem A Crown of Swords Aesopica Blood Meridian: Or the Evening Redness in the West Finale Skeleton Crew Two States ヴァンパイア騎士 1 Summer Knight Dragonflight The History of the Hobbit, Part One: Mr. Baggins Ugly Love Chocolat The Amityville Horror Gabriel\\'s Rapture Dubliners Let the Great World Spin The Eternity Code Tell No One The Tommyknockers Hex Hall Steal Like an Artist Cryptonomicon Beautiful Bastard Prodigal Summer We Were the Mulvaneys Understanding Comics: The Invisible Art Beautiful Darkness The Psychopath Test Vanishing Acts Absolute Power Hot Six The Time Keeper A Dirty Job Moneyball: The Art of Winning an Unfair Game The Amulet of Samarkand I Am America (And So Can You!) The One Minute Manager Exodus Stones from the River The Big Sleep Cannery Row  Seriously...I\\'m Kidding The Miserable Mill The Snow Child Wait for You The Last Straw La Divina Commedia The Tao of Pooh Onyx Unravel Me (Shatter Me, #2) The Birth of Venus The Opal Deception Det som inte dödar oss The Goose Girl Mystic River The Prince and the Pauper The Moon is a Harsh Mistress The Forty Rules of Love High Five Joyland 進撃の巨人 1 Tender Is the Night The Glass Menagerie L\\'amica geniale The 4-Hour Workweek: Escape 9-5, Live Anywhere, and Join the New Rich The Monk Who Sold His Ferrari: A Fable About Fulfilling Your Dreams & Reaching Your Destiny Rules of Civility Ringworld Between Shades of Gray Frindle Dog Days The Round House A Wind in the Door Free Four: Tobias Tells the Divergent Story A Little Life Y: The Last Man, Vol. 1: Unmanned The Alloy of Law Dead Reckoning The Accidental Tourist The Invisible Man 世界の終りとハードボイルド・ワンダーランド [Sekai no owari to hādoboirudo wandārando] Na margem do rio Piedra eu sentei e chorei Der Schweizerische Robinson The Marriage Bargain Anne of Avonlea The Little Engine That Could We Are All Completely Beside Ourselves Children of the Mind Ulysses Someone Like You Moloka\\'i The Witching Hour This Present Darkness The Coincidence of Callie & Kayden Fates and Furies Stuart Little The Foundation Trilogy The Elegant Universe: Superstrings, Hidden Dimensions, and the Quest for the Ultimate Theory The Austere Academy Seven Up Death Masks Stellaluna Before They Are Hanged Loving Frank Hard Eight The Vile Village Sybil Cosmos Haunted: A Novel of Stories The Shell Seekers What Is the What: The Autobiography of Valentino Achak Deng Crónica de una muerte anunciada Killing Lincoln: The Shocking Assassination that Changed America Forever The Lowland The Ruins of Gorlan Wintergirls Assassin\\'s Quest Rosemary\\'s Baby The Talisman The Path of Daggers The Dharma Bums The Reckoning Behind the Beautiful Forevers: Life, Death, and Hope in a Mumbai Undercity Mary Poppins Red Seas Under Red Skies The House on Mango Street City of Thieves Halfway to the Grave The Twits Abhorsen Eyes of the Dragon Children of Dune Leviathan Wakes Queen of Shadows Maus II : And Here My Troubles Began  The Snowy Day To the Nines Where We Belong The Hot Zone: The Terrifying True Story of the Origins of the Ebola Virus スプートニクの恋人 [Supūtoniku no Koibito] The Signature of All Things Eats, Shoots and Leaves Dead Witch Walking An Echo in the Bone Unearthly Knife of Dreams Hoot Æneis This is How You Lose Her アフターダーク [Afutā dāku] Ishmael: An Adventure of the Mind and Spirit It\\'s Not Summer Without You Pushing the Limits Quidditch Through the Ages Miss Nelson Is Missing! The Long Walk The Ersatz Elevator Messenger  Lover Revealed \\'Salem\\'s Lot The Illustrated Edition The Mysterious Benedict Society God is Not Great: How Religion Poisons Everything Never Too Far (Too Far, #2) State of Fear The Statistical Probability of Love at First Sight The Golem\\'s Eye Still Life with Woodpecker Those Who Save Us The Broker Across the Universe The Road Less Traveled:  A New Psychology of Love, Traditional Values, and Spiritual Growth Blood Rites The Boxcar Children The Silent Wife How to Be a Woman A Court of Mist and Fury Life Unaccustomed Earth The Pilot\\'s Wife White Noise Band of Brothers: E Company, 506th Regiment, 101st Airborne from Normandy to Hitler\\'s Eagle\\'s Nest On the Origin of Species by Means of Natural Selection or the Preservation of Favoured Races in the Struggle for Life Blankets The Story of Edgar Sawtelle Drowning Ruth Post Office All the Pretty Horses One Piece, Volume 01 The Last Unicorn Magyk Fever 1793 The Likeness Dead Wake: The Last Crossing of the Lusitania The Jungle Book I Am Pilgrim Howl and Other Poems  Don\\'t Sweat the Small Stuff Go the Fuck to Sleep Mostly Harmless Benjamin Franklin: An American Life The Tiger\\'s Wife Poison Study Lover Unbound Going Postal The Book of Mormon The Mist Dead Beat Golden Son Night Watch The Light Fantastic What the Dog Saw and Other Adventures Pretty Girls Last Argument of Kings Revival Horton Hears a Who! The Blind Side: Evolution of a Game Lirael School\\'s Out Forever 黒執事 I [Kuroshitsuji I] Winter The Strange Case of Dr. Jekyll and Mr. Hyde and Other Tales of Terror  The Painted Man One Shot The Serpent\\'s Shadow Duma Key The Shifting Fog Proven Guilty Записки из подполья The Heart is a Lonely Hunter The Infinite Sea The Once and Future King Small Gods Bud, Not Buddy Predictably Irrational: The Hidden Forces that Shape Our Decisions الفيل الأزرق The Indian in the Cupboard A Memory of Light Me and Earl and the Dying Girl The Ugly Truth The Surgeon of Crowthorne: a tale of murder, madness & the love of words 2nd Chance The Complete Maus The Eyre Affair Anne Rice\\'s The Vampire Lestat: The Graphic Novel The Art of Happiness: A Handbook for Living The Bone Clocks Black and Blue The Last Juror Diary Eleven on Top Tintenblut Sex, Drugs, and Cocoa Puffs: A Low Culture Manifesto Brideshead Revisited: The Sacred and Profane Memories of Captain Charles Ryder White Night The Miniaturist Dragons of Autumn Twilight The Lost Colony Extras The Burning Bridge The Book of Life The Artist\\'s Way: A Spiritual Path to Higher Creativity The Stinky Cheese Man and Other Fairly Stupid Tales Horns Catherine the Great: Portrait of a Woman The Year of the Flood Winter Garden The King of Torts Lone Survivor: The Eyewitness Account of Operation Redwing and the Lost Heroes of SEAL Team 10 The 3 Mistakes of My Life The Murder of Roger Ackroyd Native Son  Shadow\\'s Edge Under the Never Sky True Believer The Lean Startup\\u200e The Golden Lily Chasing Harry Winston The Rise and Fall of the Third Reich: A History of Nazi Germany A Long Way Down Out from Boneville Rose Madder Die Trying (Jack Reacher, #2) Beautiful Chaos Heart-Shaped Box Cabin Fever Everyone Worth Knowing Redwall Manifest der Kommunistischen Partei The Woman in Cabin 10 The Last of the Mohicans: A Narrative of 1757 Sophie\\'s Choice Shopaholic and Sister The Iron Daughter The Prayer of Jabez:  Breaking Through to the Blessed Life The Age of Miracles Have a Little Faith: A True Story My Life in France The Rosie Effect The Secret of the Nagas. Flipped Relic Notes from a Small Island Small Favor The Walking Dead Compendium Volume 1 Princess Academy Everything, Everything Pygmalion Flight Behavior Grip of the Shadow Plague Bridget Jones: The Edge of Reason Captain Corelli\\'s Mandolin At First Sight Down Under The Memoirs of Sherlock Holmes The Orphan Master\\'s Son Enchanters\\' End Game The Chosen The Agony and the Ecstasy: A Biographical Novel of Michelangelo El juego del ángel Where Rainbows End Amelia Bedelia This Man A Dog\\'s Purpose  An Ember in the Ashes Lover Enshrined, part one The Golem and the Jinni الأسود يليق بك The Slippery Slope Bleak House Caps for sale: a tale of a peddler, some monkeys and their monkey business Furies of Calderon  Alanna: The First Adventure Her Fearful Symmetry The Boston Girl Lover Enshrined, part two The Fall of Hyperion The Black Dahlia Through the Looking-Glass, and What Alice Found There Wild Swans: Three Daughters of China Go, Dog. Go! Finders Keepers The Strain The Complete Poems of Emily Dickinson Old Yeller Born Standing Up: A Comic\\'s Life A Storm of Swords: Part 2 Blood and Gold Hearts in Atlantis 羊をめぐる冒険 [Hitsujiwomegurubōken] The Queen\\'s Fool Days of Blood & Starlight Jitterbug Perfume The Battle for Skandia (Ranger\\'s Apprentice, #4) The Darkest Minds O Zahir The Power of Positive Thinking In a Dark, Dark Wood  The House of Mirth Fairy Tail 1 The Slow Regard of Silent Things Twelve Years a Slave Lover Avenged, part one In the Heart of the Sea: The Tragedy of the Whaleship Essex Infidel The Black Swan: The Impact of the Highly Improbable The Twelve Один день Ивана Денисовича The Diamond Age A Canticle for Leibowitz Ἀντιγόνη Brooklyn Wither Hillbilly Elegy. A Memoir of a Family and Culture in Crisis Crossroads of Twilight What If?: Serious Scientific Answers to Absurd Hypothetical Questions Gardens of the Moon A Bruxa de Portobello A Swiftly Tilting Planet Gregor the Overlander Sing You Home The Tale of the Body Thief The Camel Club Saving The World and Other Extreme Sports Blood of the Fold The Boleyn Inheritance A Spool of Blue Thread The Underground Railroad Masquerade The Iron Queen Losing It Disgrace The House at Pooh Corner The Black Prism The Mermaid Chair Frog and Toad Are Friends The Carnivorous Carnival Heist Society Behind Closed Doors The Killer Angels Circus of the Damned (Anita Blake, Vampire Hunter, #3) Ptolemy\\'s Gate The Island of Dr. Moreau Out of My Mind Rapture Switched Доктор Живаго Death Comes to Pemberley Ethan Frome A Map of the World It Ends with Us The Gift of the Magi The Electric Kool-Aid Acid Test The Naked Lunch The Sandman: Dream Country A Painted House The Left Hand of Darkness Let It Snow: Three Holiday Romances Full Dark, No Stars Being Mortal: Medicine and What Matters in the End Intensity Chelsea Chelsea Bang Bang Et dukkehjem Hawaii Revolutionary Road Nick & Norah\\'s Infinite Playlist Rosencrantz and Guildenstern are Dead Forever The Beach Saving CeeCee Honeycutt Deadlocked Everything\\'s Eventual: 14 Dark Tales Airframe Bet Me Long Walk to Freedom: The Autobiography of Nelson Mandela Gray Mountain The Power of One The Maltese Falcon Night Road Tripwire Emotional Intelligence Changes Impulse Ivanhoe Ten Big Ones The Poet Paranormalcy Eclipse: The Official Illustrated Movie Companion The Shoemaker\\'s Wife 走ることについて語るときに僕の語ること [Hashiru koto ni tsuite kataru toki ni boku no kataru koto] We\\'ll Always Have Summer Open: An Autobiography Alex Rider: Stormbreaker Without Fail  A Voice in the Wind A Scanner Darkly  A Connecticut Yankee in King Arthur\\'s Court Batman: The Long Halloween La Nausée Fablehaven: Secrets of the Dragon Sanctuary (Fablehaven, #4) Twelve Sharp Wool The Tombs of Atuan Turn Coat The Sign of Four РУКАВИЧКА: Українська народна казка Memnoch The Devil The Magician: The Secrets of The Immortal Nicholas Flamel Click, Clack, Moo: Cows That Type Iron Kissed Anna Dressed in Blood The True Confessions of Charlotte Doyle A Reliable Wife Something Wicked This Way Comes Song of Solomon Peace Like a River Rant: An Oral Biography of Buster Casey Shadow of the Hegemon تراب الماس The Poky Little Puppy (a Little Golden Book) Tara Road The Call of the Wild / White Fang Ignite Me (Shatter Me, #3) Cross My Heart and Hope to Spy Blood Bound Cold Days The Friday Night Knitting Club All Things Bright and Beautiful Infinite Jest Tangled The Day of the Triffids The Sisters Brothers Secret Daughter Fantastic Mr Fox Brida A Room of One\\'s Own Warbreaker Sonnets What Happened to Goodbye Six of Crows 13 Little Blue Envelopes Same Kind of Different as Me Carry On Mountains Beyond Mountains: The Quest of Dr. Paul Farmer, a Man Who Would Cure the World Beneath This Man  Prince of Thorns The Book of Ruth Next Leaves of Grass Blue Dahlia Lady Chatterley\\'s Lover The Magician King Liar\\'s Poker: Rising Through the Wreckage on Wall Street Salem Falls Belgarath the Sorcerer The Great Dune Trilogy My Name Is Lucy Barton Garden Spells Narrative of the Life of Frederick Douglass He\\'s Just Not That Into You: The No-Excuses Truth to Understanding Guys Pawn of Prophecy Lean Mean Thirteen The Jungle Books Glass Houses The Dark Tower: The Gunslinger Born A Tale for the Time Being Rule  国境の南、太陽の西 [Kokkyō no minami, taiyō no nishi] Mother Night Influence: The Psychology of Persuasion Harriet the Spy The Paying Guests Forever Odd At Home: A Short History of Private Life Still Life The Kitchen God\\'s Wife Låt den rätte komma in The Rise of Nine The Second Summer of the Sisterhood Phantoms My Utmost for His Highest The Wee Free Men Written in My Own Heart\\'s Blood Nightshade Drachenreiter The Long Dark Tea-Time of the Soul Uprooted Seveneves Armada The Desert Spear The Man in the Brown Suit The Summons Endurance: Shackleton\\'s incredible voyage Size 12 Is Not Fat (Heather Wells, #1) Dark Matter Glass Sword When You Reach Me The Bonfire of the Vanities In the Unlikely Event Death on the Nile Shiloh Siege and Storm Rødstrupe (Harry Hole, #3)  Hide and Seek Goodnight Nobody The Death and Life of Charlie St. Cloud How to Stop Worrying and Start Living Born in Fire  Animal Dreams Reason to Breathe The Mortal Instruments Boxed Set: City of Bones; City of Ashes; City of Glass If Tomorrow Comes M.C. Escher: grafiek en tekeningen Pope Joan Birdsong Faith of the Fallen  (Sword of Truth, #6) Fablehaven: Keys to the Demon Prison (Fablehaven, #5) Moonwalking with Einstein: The Art and Science of Remembering Everything While I Was Gone 4th of July (Women\\'s Murder Club, #4) The Time Paradox Bitterblue The Sky Is Everywhere Wyrd Sisters Real NOS4A2 The Tenant of Wildfell Hall The Black Stallion Reckless The Grim Grotto Strega Nona Playing for Keeps Art & Fear: Observations on the Perils (and Rewards) of Artmaking Bitten Born at Midnight Don\\'t Let the Pigeon Drive the Bus The Dream Thieves The Portrait of a Lady The Yellow Wallpaper Before the Fall هيبتا The Calvin and Hobbes Tenth Anniversary Book Dreamland  The Art Forger Austenland Half of a Yellow Sun One Night @ The Call Center At the Water\\'s Edge The Running Man Gilead The Crying of Lot 49 Edge of Eternity Demonglass Ubik The Sword of Shannara Hannibal The Awakening and the Struggle Three Wishes Night World, No. 3 Fall on Your Knees The Scorpio Races Morning Star Mossflower Furiously Happy Visions of Sugar Plums Magician: Master (The Riftwar Saga, #2) On the Island Left Neglected Anne Frank Remembered Redshirts Sahara One Foot in the Grave The Last Anniversary Hunger  Fearless Fourteen Revolution 2020: Love, Corruption, Ambition A Bear Called Paddington Flawless Ramona Quimby, Age 8 The Hostile Hospital 犬夜叉 1 The Omen Blue Moon Child 44 These Is My Words: The Diary of Sarah Agnes Prine, 1881-1901, Arizona Territories The Hypnotist\\'s Love Story O Demônio e a Srta. Prym The Kissing Hand Shift Worth Dying For Look Me in the Eye: My Life with Asperger\\'s Fantasy Lover Sundays at Tiffany\\'s Perfect Match Prep Scar Tissue Alias Grace Captivated by You Illusions: The Adventures of a Reluctant Messiah Soulless Just One Day Wake The Emperor of All Maladies: A Biography of Cancer Glass (Crank, #2) Memoria de mis putas tristes Only Time Will Tell The Seven Spiritual Laws of Success: A Practical Guide to the Fulfillment of Your Dreams Magical Thinking: True Stories In the Hand of the Goddess Rubinrot Heir to the Empire Lioness Rampant Outbreak You Can Heal Your Life Die Henkerstochter (Band 1 aus der Reihe \"Die Henkerstochter-Saga) I Am Legend  Dealing with Dragons The Visitor Rules Of Prey Ashes to Ashes The Yiddish Policemen\\'s Union The Aviator\\'s Wife A Bad Case of Stripes The Affair The Elements of Style The Turn of the Screw Best Friends Forever Homeland The Mote in God\\'s Eye Snømannen (Harry Hole #7)  Stoner Wicked: The Grimmerie, a Behind-the-Scenes Look at the Hit Broadway Musical As You Like It Preacher Vol. 1: Gone to Texas Cyrano de Bergerac The Spirit Catches You and You Fall Down: A Hmong Child, Her American Doctors, and the Collision of Two Cultures Bone Crossed The Indigo Spell Dreamfever Case Histories Release Me (Stark Trilogy, #1) Wedding Night The Doll\\'s House Pollyanna Lone Wolf Nightmares & Dreamscapes  Shadowfever The Associate Son (The Giver, #4) The Sandman: Overture Blood Song Rules of Attraction The Merry Adventures of Robin Hood Less Than Zero The Book of Negroes كِتَاب أَلْف لَيْلَة وَلَيْلَة\\u200e\\u200e [kitāb ʾalf layla wa-layla] Faithful Place Euphoria Rachel\\'s Holiday The Caves of Steel ダンス・ダンス・ダンス [Dansu, dansu, dansu] The Mouse and the Motorcycle The Forest of Hands and Teeth The Elfstones Of Shannara Dash & Lily\\'s Book of Dares The Luminaries Velocity Barrel Fever: Stories and Essays Reaper Man Piercing the Darkness Made to Stick: Why Some Ideas Survive and Others Die Alive: The Story of the Andes Survivors On Beauty Battlefield of the Mind: Winning the Battle in Your Mind Dance Upon The Air Castle of Wizardry Lover Avenged, part two أحببتك أكثر مما ينبغى Heat Wave kindle paperwhite user\\'s guide 2nd edition Out of the Silent Planet If You Give a Pig a Pancake  The Wasp Factory Night Film Crazy Rich Asians Rebel Angels Bloodfever Faefever My Sister\\'s Grave Library of Souls  Howards End Hellboy: Seed of Destruction The Evolution of Mara Dyer The Sword of Summer Le Vicomte de Bragelonne, ou Dix ans plus tard The Haunting οf Hill House The Rum Diary Little Town on the Prairie I Capture the Castle Finger Lickin\\' Fifteen Women Silver Borne The Bourne Ultimatum Fool\\'s Errand The Young Elites Jewels of the Sun Τὰ εἰς ἑαυτόν  Peter and the Starcatchers Collapse: How Societies Chose to Fail or Succeed Possession Revelations Without Remorse The Penultimate Peril Notes from a Big Country The End The Liars\\' Club: A Memoir Dead Ever After The Illustrated Man Annihilation The Runaway Bunny The Grand Design The Innocent Man The Bachman Books Zealot: The Life and Times of Jesus of Nazareth Soul of the Fire Das Herzenhören Consider Phlebas The Magic of Thinking Big The Vampire Armand Forever Too Far (Too Far, #3) A Storm of Swords: Part 1 Steel and Snow Le avventure di Pinocchio Grave Mercy Tropic of Cancer The Hour I First Believed Harry Potter: Film Wizardry Смерть Ивана Ильича Circling the Sun Travels with Charley: In Search of America The Dovekeepers The Republic of Thieves Herr der Diebe World After Brother Odd Black Like Me Jack & Jill Saturday When the Bough Breaks The Bridges of Madison County Gone Tomorrow The Sorceress Bring Up the Bodies The Maze of Bones  How to Cook Everything: Simple Recipes for Great Food The Twilight Collection (Twilight, #1-3) Über das Geistige in der Kunst Forrest Gump La Chute Even Cowgirls Get the Blues The Moonstone Se una notte d\\'inverno un viaggiatore Son of a Witch On Chesil Beach \"M\" is for Malice Point of Origin Sarah, Plain and Tall عزازيل Bloodsucking Fiends Squirrel Seeks Chipmunk: A Modest Bestiary The Gifts of Imperfection Commonwealth The Van Alen Legacy  Blueberries for Sal Losing Hope Lisey\\'s Story Proof of Heaven: A Neurosurgeon\\'s Journey Into the Afterlife Men at Arms The Year of Living Biblically: One Man\\'s Humble Quest to Follow the Bible As Literally As Possible God Emperor of Dune The Valley of Horses Six Years Night World, No. 2 Geek Love All the King’s Men Girls in Pants: The Third Summer of the Sisterhood The Woods New Spring The Litigators Min mormor hälsar och säger förlåt American Assassin Burial Rites Fingersmith A Year in Provence The Miraculous Journey of Edward Tulane The Last Letter From Your Lover Gorky Park The House Girl Queen of Babble The Third Wheel Code Name Verity  Burned (Burned, #1) Master of the Game The Body Farm The Boy Next Door (Boy #1) Shūtur eli sharrī The Luxe American Pastoral Big Magic: Creative Living Beyond Fear Skin Game القرآن\\u200e\\u200e [al-Qurʾān] The Darkest Night Anathem The Lacuna Hogfather Open House The Silver Star The Hotel New Hampshire The Laughing Corpse Key of Light (Key Trilogy, #1) Identical Smokin\\' Seventeen The Sneetches and Other Stories Polar Bear, Polar Bear, What Do You Hear? Demian: Die Geschichte einer Jugend God Bless You, Mr Rosewater or Pearls before Swine スキップ・ビート! 1  The Dark Knight Returns Harry Potter Boxed Set Books 1-4 The Windup Girl Isla and the Happily Ever After Magic Bites This Man Confessed The Letters of Vincent van Gogh Sourcery Batman: Arkham Asylum - A Serious House on Serious Earth P.S. I Still Love You Memory Man Mudbound Black Hawk Down A Darker Shade of Magic The Lost City of Z: A Tale of Deadly Obsession in the Amazon Firefight The Magicians\\' Guild The Necromancer: The Secrets of The Immortal Nicholas Flamel 61 Hours Cut George\\'s Marvellous Medicine A Thousand Acres The Book of Three Cry Wolf Olivia Plainsong Ghost World Torn Отцы и дѣти The Goal Caleb\\'s Crossing Evernight Bad Luck and Trouble The Jane Austen Book Club The Children Act Sizzling Sixteen Elon Musk: Tesla, SpaceX, and the Quest for a Fantastic Future Caliban\\'s War Barely Breathing Ἰλιάς ; Ὀδύσσεια Kingdom Come Tipping the Velvet The Wishing Spell (The Land of Stories, #1) The 19th Wife Body of Evidence  Saga #1 The Secret of Ella and Micha Hounded From a Buick 8 Red Mars The Yellow Wall-paper. A story Sea Swept The Blinding Knife Since You\\'ve Been Gone The Icebound Land Zero to One: Notes on Start Ups, or How to Build the Future Empire of Storms What Do You Do? Smoke and Mirrors: Short Fiction and Illusions The Oath of the Vayuputras Welcome to the Monkey House Truman Alexander Hamilton Мёртвые ду́ши The Deal The Crown Zero Day Tikki Tikki Tembo Night World, No. 1 Love Unscripted (Love, #1) Pop Goes the Weasel The Six Wives of Henry VIII Мы Pigs in Heaven The Ghost Brigades Cry, The Beloved Country Confessions of an Ugly Stepsister Lady Midnight Tintentod Foundation\\'s Edge Jude the Obscure Queen of Sorcery The Lottery: Adventures of the Demon Lover Wings  Gossip Girl The Odessa File The Burgess Boys קיצור תולדות האנושות\\u200e\\u200e Broken Harbor Down to You The Complete Works The Dispossessed Mördare utan ansikte The Confession Lightning Cat & Mouse Superfudge The Couple Next Door Hallowed Ancillary Justice The Pillars of Creation Built to Last: Successful Habits of Visionary Companies Fireproof The Lunatic Cafe John Dies at the End The Demon-Haunted World: Science as a Candle in the Dark Stolen: A Letter to My Captor Solaris Prozac Nation The Black Cauldron The First Phone Call from Heaven Possible Side Effects Still Life with Bread Crumbs The ABC Murders Holy Bible: New International Version Lover Reborn The Duke and I Dragons of Spring Dawning Altered Carbon Saga, Volume Two Flash Boys: A Wall Street Revolt Le Scaphandre et le Papillon Killing Kennedy: The End of Camelot Still Missing \\'Tis: A Memoir 1491: New Revelations of the Americas Before Columbus An Unquiet Mind: A Memoir of Moods and Madness Who\\'s Afraid of Virginia Woolf? Ostatnie życzenie Il pendolo di Foucault A Pocket for Corduroy Kushiel\\'s Dart Bonhoeffer: Pastor, Martyr, Prophet, Spy Explosive Eighteen Lies The Iron Knight Maisie Dobbs Forever in Blue: The Fourth Summer of the Sisterhood Män som hatar kvinnor, Flickan som lekte med elden, Luftslottet som sprängdes The Butterfly Garden Destined for an Early Grave In Flight Cross All-American Girl Neither Here Nor There: Travels in Europe Boy Meets Boy We Are Water Max  Halo The Inheritance of Loss A Darkness at Sethanon  Die Leiden des jungen Werthers At Grave\\'s End Don\\'t Let\\'s Go to the Dogs Tonight: An African Childhood Beauty: A Retelling of the Story of Beauty and the Beast Eating Animals Flyte ساق البامبو [Saq al-Bambu] The Girl of Fire and Thorns Enclave Longitude Unnatural Exposure Faust. Eine Tragödie Lies My Teacher Told Me : Everything Your American History Textbook Got Wrong Welcome to Lovecraft The Ask and the Answer Scarlett: The Sequel to Margaret Mitchell\\'s Gone With the Wind Bloody Bones This Side of Paradise Escape from Camp 14: One Man\\'s Remarkable Odyssey from North Korea to Freedom in the West  Every Which Way But Dead Eligible The Children of Húrin Mr. Popper\\'s Penguins The Magician\\'s Land Light in August The Trumpet of the Swan Tenth of December Night Pleasures The Millionaire Next Door: The Surprising Secrets of America\\'s Wealthy Don\\'t Judge a Girl by Her Cover Chronicles: Volume One The Lost Continent: Travels in Small-Town America Dreams of Joy (Shanghai Girls #2) Tell Me Your Dreams The Player of Games The Five Dysfunctions of a Team Junky Getting to Yes: Negotiating agreement without giving in Mile high (Up In The Air #2) November 9 Everything We Keep The Mighty Storm The Song of Achilles The Girl with the Lower Back Tattoo भगवद्गीता [Bhagavadgītā] The New York Trilogy Esperanza Rising Raise High the Roof Beam, Carpenters / Seymour: An Introduction The Killing Dance (Anita Blake, Vampire Hunter, #6) Jenseits von Gut und Böse: Vorspiel einer Philosophie der Zukunft The Watsons Go to Birmingham - 1963 The Immortal Rules Columbine Lasher No Easy Day: The Firsthand Account of the Mission That Killed Osama Bin Laden The Chaperone All That Remains The Regulators The Sandman: Season of Mists Judge & Jury Origin The Botany of Desire: A Plant\\'s-Eye View of the World The Distant Hours I Let You Go Beautiful Boy: A Father\\'s Journey Through His Son\\'s Meth Addiction The Vincent Brothers (The Vincent Boys, #1) The Cask of Amontillado Metamorphoses In the Time of the Butterflies Gap Creek : The Story Of A Marriage (Oprah\\'s Book Club) Half-Blood Bitter is the New Black : Confessions of a Condescending, Egomaniacal, Self-Centered Smartass, Or, Why You Should Never Carry A Prada Bag to the Unemployment Office Blindsighted Angle of Repose Lord Brocktree Through the Ever Night Barefoot Cat on a Hot Tin Roof The Final Warning The Golden Fool Split Second The Fifth Witness The Dragonbone Chair At Home in Mitford (Mitford Years #1) Scorpia The Queen of the Tearling One False Note (The 39 Clues, Book 2) Tithe: A Modern Faerie Tale Echo Burning The Fury and Dark Reunion Never Never Into the Darkest Corner Roses Are Red Naked Empire (Sword of Truth, #8) Map of Bones The Stranger Unbelievable A Passage to India Seraphina Morrigan\\'s Cross The Mammoth Hunters Princeps\\' Fury Chrysanthemum Sweet Evil The Winds of War The Wind Through the Keyhole The Last Kingdom Bunnicula: A Rabbit-Tale of Mystery Exile  Ascend Kvinden i buret Del amor y otros demonios Musicophilia: Tales of Music and the Brain End of Watch Fool The Book of Lost Things My Life 300 Storm Warning Only the Good Spy Young The Persuader Flaggermusmannen Blood Brothers (Sign of Seven, #1) Picture Perfect るろうに剣心 1 Catching Jordan Touching the Void: The True Story of One Man\\'s Miraculous Survival This Girl Way of the Peaceful Warrior: A Book That Changes Lives The Satanic Verses Nothing to Envy: Ordinary Lives in North Korea Collide How We Decide The Beekeeper\\'s Apprentice Histoire de Babar, le petit éléphant The Warlock First Lord\\'s Fury The Imperfectionists The Sea of Tranquility Persepolis 2  Pyramids Silverthorn Before I Die Committed: A Skeptic Makes Peace with Marriage Keeping the Moon Four: The Transfer Chainfire (Sword of Truth, #9) Mastering the Art of French Cooking 青の祓魔師 1 Confessor (Sword of Truth, #11) The Reluctant Fundamentalist The False Prince Rabbit, Run Stumbling on Happiness The Waste Land and Other Poems Little Bear The Pit and the Pendulum Lords and Ladies Thud! His Majesty\\'s Dragon The Field Guide My Side of the Mountain  The Winter Sea The Sword Thief Coma Requiem for a Dream Rush The Picture of Dorian Gray: A Graphic Novel  Swan Song The Buried Giant Perdido Street Station Need Witches Abroad The Sketch Book of Geoffrey Crayon, Gent Heretics of Dune Captain\\'s Fury Damned Swamplandia! The Last Coyote Salt: A World History Villette Reamde Soul Music Notorious Nineteen The Greatest Show on Earth: The Evidence for Evolution Sin City Volume 1: The Hard Goodbye The Greatest Salesman in the World Casino Royale The Bronze Horseman Sula The Atlantis Gene The Red Queen Something About You Mr. Brown Can Moo! Can You? Black House  Marvel 1602 Act of Treason The Spy Who Came In from the Cold Academ\\'s Fury When the Wind Blows 1Q84 Book 1 [Ichi-kyū-hachi-yon] O Diário de um Mago The Hard Way The Incredible Journey March A Wanted Man All-Star Superman (Volume 1) A Song of Ice and Fire Dark Witch Dark Flame The Widow The Black Circle The Winner\\'s Curse Push Storia del nuovo cognome 2010: Odyssey Two ソウルイーター 1 Ordinary Grace Last Man Standing American Born Chinese Peter Pan (Little Golden Book) Ten Tiny Breaths The Thousand Autumns of Jacob de Zoet The Tragical History of the Life and Death of Doctor Faustus Dance with the Devil Lipstick Jungle Violets Are Blue Awaken the Giant Within: How to Take Immediate Control of Your Mental, Emotional, Physical and Financial Destiny! Blue Moon (Anita Blake, Vampire Hunter, #8) Burnt Offerings (Anita Blake, Vampire Hunter, #7) The Silent Sister Player Piano Monstrous Regiment Kindred Boundaries Blue Lily, Lily Blue The 21 Irrefutable Laws of Leadership Cat\\'s Eye The Perfect Game Monsters of Men Shadow of the Giant Wonderstruck Simple Abundance:  A Daybook of Comfort and Joy Blood Red Road  The 6th Target A Princess of Mars MaddAddam These Happy Golden Years Color: A Natural History of the Palette Skipping Christmas Home Front Beautiful Stranger The Sweet Far Thing A Lesson Before Dying SantaLand Diaries See Me Mini Shopaholic Down and Out in Paris and London 会長はメイド様! 1 Griffin & Sabine: An Extraordinary Correspondence Ruin and Rising يوتوبيا Certain Girls Beyond the Highland Mist The Stranger Beside Me Stargazer Rising Sun The Other Side of Midnight The Reversal Wayside School is Falling Down The Invisible Bridge The Fall of Five The Mayor of Casterbridge Marekors  Here on Earth  Obsidian Butterfly (Anita Blake, Vampire Hunter, #9) The Daylight War The Appeal The Woman Who Rides Like a Man Rivers of London Lucy Sullivan is Getting Married A Hat Full of Sky A Suitable Boy We Should All Be Feminists River Marked I Like You: Hospitality Under the Influence Pattern Recognition The Kind Worth Killing Physik Boy: Tales of Childhood Traveling Mercies: Some Thoughts on Faith Memorial Day Wild Magic (Immortals, #1) Prelude to Foundation You Are Special: A Story for Everyone The Wrath & the Dawn Half the Sky: Turning Oppression into Opportunity for Women Worldwide Why We Broke Up The Assassin\\'s Blade American Wife Cursor\\'s Fury The Sparrow The Paper Magician We Have Always Lived in the Castle The Brass Verdict Star Wars: Dark Force Rising Never Go Back  The Two Princesses of Bamarre Black Boy: A Record of Youth and Childhood Cane River Foundation and Earth Winnie-the-Pooh & The House at Pooh Corner An Autobiography or The Story of My Experiments with Truth It\\'s Not About the Bike: My Journey Back to Life Undaunted Courage H is for Hawk Us Sojourn (Dark Elf #3) 君に届け 1 False Memory Moving Pictures Captive in the Dark Bonk: The Curious Coupling of Science and Sex Midnight Alley Das Lavendelzimmer  Sweet Tooth Twisted Perfection (Perfection, #1) Executive Orders One Thousand Gifts Psycho Ship of Magic Circle of Friends milk and honey Rainbow Six Fragile Things: Short Fictions and Wonders Sister 三体 Thief of Time Superman: Red Son Three Junes The Reason for God: Belief in an Age of Skepticism King of Thorns The Sins of the Father Killer  Fang The Peach Keeper  You Suck  Beautiful Oblivion A Fire Upon The Deep The Face on the Milk Carton Put Me in the Zoo Firelight (Firelight, #1) Le città invisibili Flat-Out Love  The Narrow Road to the Deep North The Claiming of Sleeping Beauty  Call the midwife : a true story of the East End in the 1950s Hell\\'s Angels It Had to Be You Boomerang: Travels in the New Third World Fly Away Home Le Rouge et le Noir The Virgin\\'s Lover Incarceron Awake at Dawn Starcrossed Night Star Dead Poets Society  The Fifth Elephant The Sorcerer in the North Autobiography of a Yogi Hexed (Iron Druid Chronicles, #2) Scary Stories to Tell in the Dark Fool Me Once Hiroshima Hate List A History of God: The 4,000-Year Quest of Judaism, Christianity, and Islam Abaddon\\'s Gate Veinte poemas de amor y una canción desesperada The Cardinal of the Kremlin No, David! Libellus vere aureus, nec minus salutaris quam festivus, de optimo rei publicae statu deque nova insula Utopia The Name of This Book Is Secret Dorothy Must Die The Husband The Particular Sadness of Lemon Cake The Big Bad Wolf   Balzac et la Petite Tailleuse chinoise Bad Feminist  Petals on the Wind Nimona From Potter\\'s Field Mary, Mary Oranges Are Not the Only Fruit Grounded (Up In The Air #3) I Too Had A Love Story Mrs. Piggle-Wiggle Trunk Music 10% Happier: How I Tamed the Voice in My Head, Reduced Stress Without Losing My Edge, and Found Self-Help That Actually Works Blood Work The Gods Themselves ツバサ-RESERVoir CHRoNiCLE- 1 The League of Extraordinary Gentlemen, Vol. I Mήδεια The Demon King Black Hole Saga, Volume Three Personal Z: A Novel of Zelda Fitzgerald A Man Without a Country When I Found You Lilac Girls 7th Heaven Make Me A Constellation of Vital Phenomena While It Lasts The End of Your Life Bookclub All in The Siege of Macindaw Transmetropolitan, Vol. 1: Back on the Street Emperor Mage (Immortals, #3) Decision Points Witch & Wizard Julie of the Wolves Forever . . . The Wright Brothers American Lion: Andrew Jackson in the White House The Forgotten Shadows of Self Mad About the Boy The Four Loves Archer\\'s Voice The Lost Wife Storia della bellezza I, Claudius The Testing Takedown Twenty The Boy Who Sneaks in My Bedroom Window Terrier First Grave on the Right A House in the Sky Anya\\'s Ghost The Rules of Attraction The Good, the Bad, and the Undead The Crystal Shard Wide Sargasso Sea The Magus King of the Murgos You Dreams of Gods & Monsters Playing For Pizza Tiger\\'s Curse Chapterhouse: Dune Brown Girl Dreaming Icy Sparks The Templar Legacy J is for Judgment (Kinsey Millhone #10) The Physick Book of Deliverance Dane Deadhouse Gates Lick Best Served Cold Elizabeth Is Missing Consent to Kill The Warmth of Other Suns: The Epic Story of America\\'s Great Migration  The First Fifteen Lives of Harry August The Guns of August Separation of Power Tomorrow, When the War Began Monuments Men: Allied Heroes, Nazi Thieves and the Greatest Treasure Hunt in History  Love Letters to the Dead War Brides Homegoing Packing for Mars: The Curious Science of Life in the Void  Divine Justice Kick-Ass Left to Tell: Discovering God Amidst the Rwandan Holocaust Plague Hard Times: For These Times La Vérité sur l\\'affaire Harry Quebert A God in Ruins Magic Study ちょびっツ #1 バトル・ロワイアル The Girl Who Chased the Moon A Town Like Alice The Secret Life Of CeeCee Wilkes Crocodile on the Sandbank Bed of Roses Debt of Honor Till We Have Faces Point Blanc The Kill Artist Knuffle Bunny:  A Cautionary Tale The Gashlycrumb Tinies The Long Earth The War of Art: Break Through the Blocks and Win Your Inner Creative Battles What We Talk About When We Talk About Love: Stories That Summer Theft of Swords Necessary Lies Lucifer\\'s Hammer Montana Sky Of Human Bondage I Was Here Making Money Happy Ever After Harvesting the Heart Never Fade Dewey: The Small-Town Library Cat Who Touched the World The School for Good and Evil For a Few Demons More  The Secret Place Mistborn Trilogy Boxed Set The Emperor\\'s Code The Drop 美少女戦士セーラームーン 1 [Bishōjo Senshi Sailor Moon 1] Drama Assassination Vacation Nine Princes in Amber The Museum of Extraordinary Things Ender in Exile (The Ender Quintet, #2) Undead and Unwed O Monte Cinco The Power of Myth Lock In Longbourn As You Wish: Inconceivable Tales from the Making of The Princess Bride Severed Heads, Broken Hearts In Too Deep (The 39 Clues, Book 6) Catch Me If You Can Narcissus in Chains (Anita Blake, Vampire Hunter, #10) Claim Me Special Topics in Calamity Physics Bird Box Partials The Worst Hard Time: The Untold Story of Those Who Survived the Great American Dust Bowl What She Left Behind Transfer of Power Ariel Batman, Volume 1: The Court of Owls Practical Demonkeeping The Last Templar Official Book Club Selection: A Memoir According to Kathy Griffin Kniha smíchu a zapomnění The Horse Whisperer Wanted The Outlaw Demon Wails  Flatland: A Romance of Many Dimensions The Diviners The Spectacular Now The Art of Loving Eric The Sandman: A Game of You Beach Music An Echo in the Darkness (Mark of the Lion, #2) The Kiss of Deception Tai-Pan The Weird Sisters The Truth The Leftovers Flow: The Psychology of Optimal Experience Mine Till Midnight All the President\\'s Men The Mill on the Floss Super Sad True Love Story Lover at Last Surprised by Joy: The Shape of My Early Life Gödel, Escher, Bach: An Eternal Golden Braid Trickster\\'s Queen Freak the Mighty This Is What Happy Looks Like What\\'s So Amazing About Grace? Kill Shot The Plains of Passage Hard Luck Bokhandleren i Kabul The Merchant of Death The City & The City Magic Strikes My Favorite Mistake Airport Angel Kurt Vonnegut\\'s Cat Cradle Ramona the Brave  Star Wars: The Last Command The Emperor\\'s Soul Just After Sunset Sold Double Cross Евгений Онегин: Роман в стихах  These Broken Stars The Two Pearls of Wisdom Spell Bound The Secret of the Old Clock (Nancy Drew Mystery Stories, #1) Plum Island Second Glance Frog and Toad Together The Lottery Big Stone Gap The Alexandria Link The Fiery Heart Magic Bleeds El amante japonés Jingo Kiss of Midnight Sons and Lovers A Woman of Substance  The Hit Count Zero Peony in Love Twenty Boy Summer Cashflow Quadrant: Rich Dad\\'s Guide to Financial Freedom Isprinsessan Bookends The Last Colony Finding Cinderella Last Chance Saloon Beauty from Pain Die Verwandlung und andere Erzählungen The Space Between Us Three Men in a Boat (To Say Nothing of the Dog) Desert Solitaire Plum Lovin\\' Strengths Finder 2.0 Another Roadside Attraction Sarum: The Novel of England Rage of Angels Everlasting The Right Stuff Cocktails for Three Fluke: Or, I Know Why the Winged Whale Sings Girl in Translation Panic Because of Low Between Sisters Wayward Finding Audrey The Moosewood Cookbook: Recipes from Moosewood Restaurant, Ithaca, New York Fox in Socks Benim Adım Kırmızı The Teachings of Don Juan: A Yaqui Way of Knowledge The Sixth Man The Warrior Heir Top Secret Twenty-One Death: the High Cost of Living Destroy Me Mindset: The New Psychology of Success Beyond the Grave (The 39 Clues, #4) The Problem of Pain Nudge: Improving Decisions About Health, Wealth, and Happiness The Dark Is Rising Purity The Door to December Four Blind Mice Slapstick Fooled by Randomness: The Hidden Role of Chance in Life and in the Markets Labyrinth Founding Brothers: The Revolutionary Generation Forward the Foundation Saphirblau Going Clear: Scientology, Hollywood, and the Prison of Belief Twilight: The Graphic Novel The French Lieutenant\\'s Woman The Rime of the Ancient Mariner The Paper Bag Princess Tortilla Flat King Solomon\\'s Mines Love Unrehearsed The Sandman: Brief Lives The Return: Nightfall The People of Sparks Narziß und Goldmund The Sandman: Fables and Reflections The Bone Season Little Dorrit Valley of the Dolls The Source You Shall Know Our Velocity! ثلاثية غرناطة We\\'re Going on a Bear Hunt Guardians of the West Honeymoon Pandora\\'s Star How to Eat Fried Worms The Raven and Other Poems The Weight of Silence Trigger Warning: Short Fictions and Disturbances Lincoln Magic Burns The Quiet American The Proposition Cause of Death Master and Commander 孫悟空と仲間たち Revelation Space Wicked Appetite Tales from a Not-So-Fabulous Life A Hunger Like No Other A Million Suns  The High Lord The Valley of Amazement Three Weeks with My Brother The High King  Die for Me Confessions of an Economic Hit Man Ficciones Winter Prey The Complete Short Stories of Ernest Hemingway Dandelion Wine The Mummy Switch: How to Change Things When Change Is Hard Trail of Broken Wings Timequake One Summer: America 1927 Evening Class The Talismans of Shannara Герой нашего времени The Atonement Child Theodore Rex The Far Pavilions Nothing to Lose Falling Into You Adultério The Rithmatist  The Christmas Shoes Skinny Bitch: A No-Nonsense, Tough-Love Guide for Savvy Girls Who Want to Stop Eating Crap and Start Looking Fabulous! Mystery Man (Dream Man, #1) Curious George Goes to the Hospital The Snowball: Warren Buffett and the Business of Life The Bride Erak\\'s Ransom Missing Υou Kar Halt\\'s Peril The Apprentice Betty Crocker\\'s Cookbook Elsewhere Stay Close The Quickie Step on a Crack Counting by 7s A Kiss of Shadows (Merry Gentry, #1) Executive Power Savor the Moment Little Brother Dearly Devoted Dexter Inside the O\\'Briens Memories of Ice Odd Hours The Dead Girls\\' Dance The Realms of the Gods (Immortals, #4) One Second After Gregor and the Curse of the Warmbloods The Lover\\'s Dictionary Art Through the Ages  The Wishsong of Shannara  The Darkest Kiss The Sugar Queen Hammered No Rest for the Wicked Extreme Measures Saga, Volume Four A Beautiful Wedding Bad Monkey Sisterland Juliet, Naked Chicken Soup for the Soul Tears of the Giraffe The Concrete Blonde Carpe Jugulum The Warlord Wants Forever Bluebeard Good Faeries, Bad Faeries Cycle of the Werewolf The Devil\\'s Arithmetic The World Without Us Isaac\\'s Storm: A Man, a Time, and the Deadliest Hurricane in History The Rumor Orlando: A Biography Thanks for the Memories Angels Fall Pursuit of Honor Acheron (Dark-Hunter, #15) - Part 1 South of Broad Fade The Little Friend Percy Jackson and the Olympians Boxed Set Savvy The Book of Basketball: The NBA According to The Sports Guy London Bridges لا تحزن Wings of Fire: An Autobiography The Signal and the Noise: Why So Many Predictions Fail - But Some Don\\'t Salt to the Sea The Body in the Library The Lord of the Rings: The Art of The Fellowship of the Ring Backstage Pass (Sinners on Tour, #1) The Story About Ping The All-Girl Filling Station\\'s Last Reunion Bastard Out of Carolina Beauty Queens  Daemon The Burden of Proof Crooked Kingdom The Stars My Destination Cruel Beauty The Rise of Endymion Endymion The Arrival Calamity Shopgirl: A Novella Tom Sawyer & Huckleberry Finn The Woman Upstairs The Stupidest Angel: A Heartwarming Tale of Christmas Terror Carolina Moon The Painted Girls UnEnchanted The Bedwetter: Stories of Courage, Redemption and Pee The Talented Mr. Ripley Chain Reaction Noble House Dark Prince NARUTO -ナルト- 巻ノ四十三  The Shining Girls The Zookeeper\\'s Wife: A War Story Slade House An Astronaut’s Guide to Life on Earth Ink Exchange (Wicked Lovely, #2) نسيان كوم Bleachers Hop on Pop Skeleton Key Gone for Good The Mad Ship Inside the Human Body Lost Light The Iron Trial A Game of Thrones - The Graphic Novel Volume 1 The Carrie Diaries Tribulation Force: The Continuing Drama of Those Left Behind Food Rules في قلبي أنثى عبرية Vampire Kisses Fly Away Stone of Farewell The Exploits of Sherlock Holmes Storia di chi fugge e di chi resta The Novice Then We Came to the End One Week Girlfriend Ship of Destiny A Week in Winter 花ざかりの君たちへ 1 Daughter of the Forest The Very Busy Spider  Freckle Juice Linchpin: Are You Indispensable? The River of Doubt: Theodore Roosevelt\\'s Darkest Journey Complications: A Surgeon\\'s Notes on an Imperfect Science Side Jobs: Stories From The Dresden Files The Hundred Secret Senses Pretty Baby The Gargoyle Quicksilver The Fairy-Tale Detectives Mort - playtext Birthmarked Skulduggery Pleasant Pale Fire The Lady and the Unicorn A Christmas Carol and Other Christmas Writings One More Thing: Stories and Other Stories Carpe Corpus The Shock of the Fall Asylum The Heart Goes Last A Fistful of Charms The Coldest Girl in Coldtown Skinny Dip The Marriage of Opposites Feast of Fools Consider the Lobster The Atlantis Complex Merrick The Bands of Mourning Le Mythe de Sisyphe Someday, Someday, Maybe  Simon vs. the Homo Sapiens Agenda Wives and Daughters Splintered The Little House Se questo è un uomo The Wizard Heir L\\'île mystérieuse Girl in Hyacinth Blue Sylvester and the Magic Pebble The Lady of the Rivers Live Wire Escape The Collectors The Hitchhiker\\'s Guide to the Galaxy: The Trilogy of Four (Hitchhiker\\'s Guide, #1-4) Maskerade Lord Foul\\'s Bane First, Break All the Rules: What the World\\'s Greatest Managers Do Differently  The Last Continent Our Town: A Play in Three Acts Echo Park The Winner Ark Angel Momo The Last Town Saint Anything The Twelve Tribes of Hattie The Taking If There Be Thorns Owl Moon  Игрок  Frost Burned Le Père Goriot Sorgenfri Night Play Aleph Perfection Too Big to Fail The Inside Story of How Wall Street and Washington Fought to Save the Financial System from Crisis - and Lost Magic Hour The Winter of our Discontent Absalom, Absalom! Girl Online Caddie Woodlawn Knowing God The Halfling\\'s Gem Hold Tight The Sandman: The Kindly Ones The Sandman: Worlds\\' End The Chrysalids The End of the Affair Who Do You Love Bambi - Eine Lebensgeschichte aus dem Walde The Lathe of Heaven Ἰστορίαι Driven The Dante Club The Shelters of Stone Hunting Ground O vencedor está só Centennial The Body Finder Enduring Love First Things First: To Live, to Love, to Learn, to Leave a Legacy Dragonsong  Annie on My Mind Pirate Latitudes Motherless Brooklyn Noughts & Crosses Incidents in the Life of a Slave Girl Written by Herself The Enchantress Washington: A Life Come Away with Me Taken at Dusk (Shadow Falls, #3) Wonder Boys The Buddha in the Attic Fierce Invalids Home From Hot Climates The Winter People The Lying Game Body Double The Opposite of Loneliness La solitudine dei numeri primi Clash Fortunately, the Milk Ms. Marvel, Vol. 1: No Normal Slave to Sensation فلتغفرى Al Capone Does My Shirts The Fall The Raven King Bringing up Bébé Portrait of a Killer: Jack The Ripper - Case Closed The Thief Succubus Blues When God Was a Rabbit Love & Misadventure Term Limits Crooked Letter, Crooked Letter Briefe an einen jungen Dichter Princess in the Spotlight Of Poseidon Night Embrace (Dark-Hunter, #2) Run Les Fleurs du mal Les Liaisons dangereuses The Railway Children The Last Mile Magic Slays The Doors of Perception & Heaven and Hell The Black Box The Rapture of Canaan Alas, Babylon The Third Option The Stonekeeper The Complete Stories Tower Lord Look Again Fever Pitch Pandora Tricked The Coldest Winter Ever Zen Mind, Beginner\\'s Mind 채식주의자  Das Schloß Emperor of Thorns Letter to a Christian Nation The Vampire Diaries: The Return: Shadow Souls  When It Happens The Rise of Theodore Roosevelt  Doomsday Book The Escape Just Mercy: A Story of Justice and Redemption The Seeress of Kell Many Lives, Many Masters The Burning Room This Side of the Grave (Night Huntress, #5) First Test On the Jellicoe Road The Natural Way to Draw Streams of Silver (Icewind Dale #2) Angry Housewives Eating Bon Bons Flora and Ulysses: The Illuminated Adventures If You Could See Me Now The Known World Giovanni\\'s Room The Gods of Guilt Du côté de chez Swann The Little Mouse, the Red Ripe Strawberry, and the Big Hungry Bear Cerulean Sins (Anita Blake, Vampire Hunter, #11) Robopocalypse Fear Nothing  First Drop of Crimson Plum Lucky  This Charming Man The Secret Diary of Adrian Mole, Aged 13 3/4 The Razor\\'s Edge Amphigorey Neverwhere Graphic Novel Some Girls Bite Go Tell It on the Mountain Lost in a Good Book 自閉症の僕が跳びはねる理由～会話のできない中学生がつづる内なる心～ The Hidden Oracle Once Burned (Night Prince, #1) Missoula: Rape and the Justice System in a College Town The End of Eternity Sorceress of Darshiva Love Comes Softly (Love Comes Softly, #1) Half a King The Prodigal Daughter The Broken Eye The Collected Poems of W.B. Yeats Stone Cold ڤيرتيجو Rudolph the Red-Nosed Reindeer 象の消滅 [Zō no shōmetsu] Gateway Crucial Conversations: Tools for Talking When Stakes are High How the Irish Saved Civilization: The Untold Story of Ireland\\'s Heroic Role from the Fall of Rome to the Rise of Medieval Europe   Gulp: Adventures on the Alimentary Canal Tender at the Bone: Growing Up at the Table Wintersmith The Miracle Worker The Almost Moon The Children of Men Leviathan or The Matter, Forme and Power of a Common Wealth Ecclesiasticall and Civil Mean Streak Fueled I Was Told There\\'d Be Cake Marie Antoinette: The Journey Good Night, Mr. Tom Forbidden The Thousand-Dollar Tan Line The Plot Against America The Tender Bar: A Memoir Martin the Warrior The Exiled Queen Misty of Chincoteague The Other Woman Nothing Lasts Forever Mayflower: A Story of Courage, Community, and War Wicked Deeds on a Winter\\'s Night (Immortals After Dark #4) His Excellency: George Washington Burning Chrome and Other Stories Last Night at Chateau Marmont Sleeping Beauty Out of Breath (Breathing, #3) Tigana I Feel Bad About My Neck: And Other Thoughts on Being a Woman Little Men, or Life at Plumfield with Jo\\'s Boys Gravity\\'s Rainbow The Ragamuffin Gospel: Good News for the Bedraggled, Beat-Up, and Burnt Out Princess in Love River God O Pioneers! The Shock Doctrine: The Rise of Disaster Capitalism Analfabeten som kunde räkna Truth & Beauty: A Friendship The Vincent Brothers Die Blechtrommel Smaragdgrün Book of a Thousand Days The Return of Sherlock Holmes Mythology Lies and the Lying Liars Who Tell Them: A Fair and Balanced Look at the Right Killing Yourself to Live: 85% of a True Story Troublemaker: Surviving Hollywood and Scientology House of Chains Oz: The Wonderful Wizard of Oz The Nazi Officer\\'s Wife: How One Jewish Woman Survived The Holocaust Opposition Incubus Dreams (Anita Blake, Vampire Hunter, #12) The Fabric of the Cosmos: Space, Time and the Texture of Reality Babyville A Touch of Dead My Name Is Asher Lev Nicolae: The Rise of Antichrist Calling Me Home Covet Captivate Wishful Drinking Triptych A Fatal Grace The 9th Judgment Zoo Vespers Rising The End of Faith: Religion, Terror, and the Future of Reason The Adoration of Jenna Fox The Complete Calvin and Hobbes Ranma ½, Volume 1 Serena Use of Weapons Pulse Love Walked In Bone: The Complete Cartoon Epic in One Volume Eragon, Eldest & Brisingr (Inheritance, #1-3) Thirst No. 1 Housekeeping The Hundred and One Dalmatians Windmills of the Gods The Curious Case of Benjamin Button The Fortunes and Misfortunes of the Famous Moll Flanders Ragtime On Basilisk Station  Bad Science: Quacks, Hacks, and Big Pharma Flacks Garlic and Sapphires: The Secret Life of a Critic in Disguise Panserhjerte (Harry Hole, #8) Wolf-Speaker (Immortals, #2) A Supposedly Fun Thing I\\'ll Never Do Again: Essays and Arguments NANA―ナナ― 1 The Spook\\'s Apprentice (The Last Apprentice / Wardstone Chronicles, #1) The Sinner Unseen Academicals Second Chance Summer Bergdorf Blondes The Chocolate War The Sandman: The Wake Lady and the Tramp (Little Golden Book) Squire Snakehead Out of Sight, Out of Time Just for Now Killing Jesus: A History  Sandstorm Cibola Burn The Charm School Y: The Last Man Vol. 2: Cycles White Witch, Black Curse Genghis Khan and the Making of the Modern World Sister Carrie The Gray Wolf Throne Laskar Pelangi Scott Pilgrim, Volume 6: Scott Pilgrim\\'s Finest Hour Blow Fly Chocolate Chip Cookie Murder Lost in Shangri-la The Disappearing Spoon: And Other True Tales of Madness, Love, and the History of the World from the Periodic Table of the Elements The Hellbound Heart Empty Mansions: The Mysterious Life of Huguette Clark and the Spending of a Great American Fortune Remarkable Creatures Lord of Misrule The Cabinet of Curiosities Crossing to Safety Buried Prey Discover an Incredible Life in an Ordinary World The Intelligent Investor The Universe in a Nutshell The Heroes An Ideal Husband Fire Study The Human Stain The Bane Chronicles The Narrows The Opportunist Wherever You Go, There You Are: Mindfulness Meditation in Everyday Life キッチン [Kitchen] Robert Ludlum\\'s The Bourne Legacy A Kingdom of Dreams  Ship Breaker Gregor and the Prophecy of Bane Beach Road Nicholas Nickleby Dean Koontz\\'s Frankenstein: Prodigal Son Volume 1 (Frankenstein) Du contrat social: ou Principes du droit politique Chains El túnel The Federalist Storia della bambina perduta The Disreputable History of Frankie Landau-Banks The Postmistress Rise of Empire Tweak: Growing Up On Methamphetamines The Rook The Looking Glass Wars The Other Queen Labor Day I Shall Wear Midnight Beautiful Player Creativity, Inc.: Overcoming the Unseen Forces That Stand in the Way of True Inspiration El diario de Frida Kahlo: Un íntimo autorretrato  Creepshow Gods and Generals The Darkest Pleasure Many Waters Panda Bear, Panda Bear, What Do You See? Love You More War Horse A Drink Before the War Heartsick Edenbrooke The Perfume Collector Seduction and Snacks (Chocolate Lovers, #1) Reliquary Blood, Bones and Butter: The Inadvertent Education of a Reluctant Chef Poirot Investigates Harry Potter Collection (Harry Potter, #1-6) The Naked Sun Bartleby, the Scrivener: A Story of Wall Street The Bazaar of Bad Dreams Hypnotisören On a Pale Horse The Dirt: Confessions of the World\\'s Most Notorious Rock Band Ten Apples Up on Top An American Tragedy  The Snows of Kilimanjaro and Other Stories Silver Girl Practical Magic Trapped  Midnight for Charlie Bone Illuminae The Black Company War and Remembrance The Woman in Black The Best Christmas Pageant Ever King Rat Fear The Fourth Protocol Lord John and the Private Matter The Goddess Test The Ghost Map Eve The Target On Photography Protect and Defend Songs in Ordinary Time Thunderstruck Physics of the Impossible: A Scientific Exploration of the World of Phasers, Force Fields, Teleportation, and Time Travel The Midwife\\'s Apprentice The Crimson Petal and the White A Spot of Bother Silver Shadows Tales of the City Perelandra Tricks Heir of Novron Just the Sexiest Man Alive 10th Anniversary The Island The Good Guy Whispers The Weed That Strings the Hangman\\'s Bag Hideaway Knots & Crosses The Walking Dead, Vol. 2: Miles Behind Us Tribes: We Need You to Lead Us Wasted: A Memoir of Anorexia and Bulimia  Black Magic Sanction Wheat Belly: Lose the Wheat, Lose the Weight, and Find Your Path Back to Health  End of Days The Best of H.P. Lovecraft  The Crystal Cave Pale Demon The Call of Cthulhu and Other Weird Stories Conversations with God, An Uncommon Dialogue: Living in the World with Honesty, Courage, and Love, Book 1 You\\'re Never Weird on the Internet (Almost) Now You See Her Glory in Death Hawkeye, Volume 1: My Life as a Weapon Absolute Batman Hush 神の子どもたちはみな踊る I, Alex Cross Love That Dog A Man Named Dave: A Story of Triumph and Forgiveness Danse Macabre (Anita Blake, Vampire Hunter, #14) Tarzan of the Apes Bright Lights, Big Ass: A Self-Indulgent, Surly, Ex-Sorority Girl\\'s Guide to Why it Often Sucks in the City, or Who are These Idiots and Why Do They All Live Next Door to Me? The Magic Faraway Tree The Robber Bride Pleasure Unbound Midnight Awakening  A Prisoner of Birth Thirst No. 2 King Leopold\\'s Ghost Guilty Wives The Midwife\\'s Confession Tales From a Not-So-Talented Pop Star Habibi The House of Silk Deity Black Bird, Volume 1 Paper Princess The Boys from Brazil Dark Desires After Dusk Kiss of Death Fixed on You Maximum Ride: The Manga, Vol. 1 The Last Boyfriend Drengen i kufferten So You’ve Been Publicly Shamed Συμπόσιον Vernon God Little A Darkness More Than Night For Colored Girls Who Have Considered Suicide When the Rainbow Is Enuf  The Obsession Micah (Anita Blake, Vampire Hunter, #13) Twice Bitten  The Last Precinct Girls in White Dresses Cold Comfort Farm Just One Year One With You The Lust Lizard of Melancholy Cove Mona Lisa Overdrive The Cay North of Beautiful The Stone Diaries Shoe Addicts Anonymous  Frøken Smillas fornemmelse for sne Shakespeare: The World as Stage  The Smoke Jumper Willow Living History Batman: Dark Victory The Hare with Amber Eyes: A Family\\'s Century of Art and Loss Starters Dark Needs at Night\\'s Edge Pedro Páramo Anne of Ingleside Deal Breaker The Waste Land The Royal We The Viscount Who Loved Me Peter and the Shadow Thieves Nesmrtelnost Best Kept Secret Spin Long Day\\'s Journey Into Night ヘルシング 1 Soul Harvest: The World Takes Sides The Physician Dean Koontz\\'s Frankenstein: Prodigal Son How Do Dinosaurs Say Goodnight? The Icarus Agenda Demon From the Dark  The King When Nietzsche Wept: A Novel of Obsession The Crossing  Ἠθικὰ Νικομάχεια  Spook: Science Tackles the Afterlife Songs of Innocence and of Experience Sugar Daddy The Berenstain Bears and the Messy Room Blaze Demon Lord of Karanda History of Art Ice Cold The Winter King Sin City: A Dame to Kill For Leaving Paradise ディー・エヌ・エンジェル 1 Total Control Matterhorn: A Novel of the Vietnam War The Mysterious Benedict Society and the Perilous Journey The Cronicle History of Henry the fift Politics The Wolf of Wall Street Nachfolge A Gentleman in Moscow The New Jim Crow: Mass Incarceration in the Age of Colorblindness Sult The Book of Unknown Americans B is for Burglar When Will There Be Good News? Joker Ночной дозор  Dept. of Speculation Secrets of a Charmed Life The Great Santini Johnny Got His Gun Angels Flight Teacher Man Vampire Kisses: The Beginning (Vampire Kisses Omnibus) The Last Guardian La planète des singes Ghost Town Evergreen Deliverance Dragonsinger Boundless The Whistler D.Gray-man, Volume 1 The Robots of Dawn The Rule of Four The Redemption of Callie & Kayden The Closers Fire and Ice The Darkest Whisper Love Is a Mix Tape: Life and Loss, One Song at a Time Please Kill Me: The Uncensored Oral History of Punk Frog and Toad All Year The Dark Elf Trilogy Collector\\'s Edition (Forgotten Realms: Dark Elf Trilogy, #1-3) The Harlequin (Anita Blake, Vampire Hunter, #15) So B. It Found The Basketball Diaries 1963-1966 Sin City: That Yellow Bastard Krew elfów Angels A World Without Heroes The Kings of Clonmel The Fireman The Revenge of Seven Ben-Hur: A Tale of the Christ Homage to Catalonia Good Grief A Knight of the Seven Kingdoms Misguided Angel Undeniable The Girl In The Ice Medium Raw: A Bloody Valentine to the World of Food and the People Who Cook Emily of New Moon Собачье сердце Grendel The Pale Rider Chaos: Making a New Science Marvels A Hologram for the King The Future of Us Cross Country Rock Chick The Program Judas Unchained Morality for Beautiful Girls Going Too Far The Son The Dream Hunter Island of the Sequined Love Nun All the Ugly and Wonderful Things The Moon and More Time Enough for Love The Barefoot Contessa Cookbook Virals An Invisible Thread: The True Story of an 11-Year-Old Panhandler, a Busy Sales Executive, and an Unlikely Meeting with Destiny Mennonite in a Little Black Dress: A Memoir of Going Home The Simple Truth The City of Mirrors Kushiel\\'s Chosen Half Girlfriend Parable of the Sower (Earthseed, #1) 11th hour Earth Unaware (The First Formic War, #1)  My Last Duchess Seeds of Yesterday Jesus\\' Son: Stories The Last Man Saving Fish from Drowning: A Novel Love Anthony Purple Cow: Transform Your Business by Being Remarkable The Last Star QB VII The Aeronaut\\'s Windlass  From Hell Black Rose The Perfect Husband The Eight Daddy-Long-Legs        East Dragonquest Das Unbehagen in der Kultur A Street Cat Named Bob: How One Man and His Cat Found Hope on the Streets Complete Me Fool\\'s Assassin Astonishing X-Men, Volume 1: Gifted Fragile Eternity The Gamble The Great and Secret Show The Mother Tongue: English and How It Got That Way The Geography of Bliss: One Grump\\'s Search for the Happiest Places in the World The Mistake Match Me If You Can Heaven and Earth (Three Sisters Island, #2) The Bad Place Crazy Little Thing The Twilight Saga: The Official Guide Celebration of Discipline: The Path to Spiritual Growth The Prime of Miss Jean Brodie  Sloppy Firsts (Jessica Darling, #1) Forgive Me, Leonard Peacock A Long Way From Chicago Virgin This One Summer The Heroin Diaries: A Year in the Life of a Shattered Rock Star Tinkers The Druid of Shannara Stepbrother Dearest Einstein\\'s Dreams Бесы Making Faces Q & A: Slumdog Millionaire Encyclopedia Brown, Boy Detective (Encyclopedia Brown, #1) Dissolution The Clique (The Clique, #1) The Sixth Extinction: An Unnatural History Billy Lynn\\'s Long Halftime Walk A Whole New Mind: Why Right-Brainers Will Rule the Future Across the Nightingale Floor  A Briefer History of Time The Blind Watchmaker: Why the Evidence of Evolution Reveals a Universe Without Design Face the Fire (Three Sisters Island, #3) Once We Were Brothers When I\\'m Gone Life Expectancy The Dragon Heir Fallout (Crank, #3) Black Notice The Wonder  Innocent Traitor The Fourth Hand Gone, Baby, Gone On Mystic Lake The Killing Game The Retribution of Mara Dyer A Wolf at the Table Alvin Maker: Seventh Son The Mysteries of Pittsburgh Manhunt: The 12-Day Chase for Lincoln\\'s Killer The Book of Tomorrow On the Fence Follow You Home Nefertiti \\u200eYou Are Not So Smart\\u200e Into the Wilderness Ὀρέστεια How the Light Gets In La catedral del mar The Life of Elizabeth I Earth: A Visitor\\'s Guide to the Human Race  My Soul to Take Conversations With God. An Uncommon Dialogue. Book 2 Everneath Plum Spooky Manual do guerreiro da luz James Potter and the Hall of Elders\\' Crossing  Where Men Win Glory: The Odyssey of Pat Tillman God\\'s Smuggler Fill-in boyfrined How I Live Now Mister Monday Strange Angels La Prisonnière Black Hills Civil War: A Marvel Comics Event The Vow: The Kim and Krickitt Carpenter Story The Puppet Masters All the Missing Girls Just Go to Bed xxxHOLiC #1 Miss Nelson Is Back Green Mars To Green Angel Tower (Memory, Sorrow, and Thorn, #3) The Canterville Ghost Seconds: A Graphic Novel Fallen Crest High Suffer the Children Catherine, Called Birdy Princess: A True Story of Life Behind the Veil in Saudi Arabia  Magic Kingdom for Sale—Sold! The Power of Your Subconscious Mind Blood and Gold: The Vampire Marius The Crown of Embers Page  The Guard Johnny Tremain Diarios de motocicleta: notas de viaje por América Latina Black 1. The Birth of Evil The Hundred Thousand Kingdoms Officer Buckle & Gloria (Hardcover) Los detectives salvajes Alice in Zombieland Spells Schachnovelle The Medusa Plot The Penderwicks: A Summer Tale of Four Sisters, Two Rabbits, and a Very Interesting Boy The Lion Kiss of the Highlander Elizabeth The Queen: The Life Of A Modern Monarch Sønnen Taster\\'s Choice A Single Shard Time of the Twins Sacré Bleu: A Comedy d\\'Art Пикник на обочине Queen of Babble Gets Hitched Cranford Big Sur My Man Jeeves Radiant Shadows Motorcycle Man The Art of Asking; or, How I Learned to Stop Worrying and Let People Help Into the Still Blue The Last Summer (of You and Me) Preacher Vol. 2: Until the End of the World The Lost City of Faar A Great Deliverance El club Dumas Enna Burning 1919 Dear Mr. Henshaw Generation X: Tales for an Accelerated Culture The Sympathizer Evil Under the Sun Reaper\\'s Property My Friend Flicka (Flicka, #1) The Kingmaker\\'s Daughter Hedda Gabler The Invasion of the Tearling A Place Called Here The Painted Veil Blackwood Farm Anatomy of the Spirit: The Seven Stages of Power and Healing The Kalahari Typing School for Men A Hundred Summers A Torch Against the Night The Wednesday Wars The Legacy Skippyjon Jones Chasing Fire Eat That Frog!: 21 Great Ways to Stop Procrastinating and Get More Done in Less Time Moo, Baa, La La La! The Science of Getting Rich The Last Oracle ذاكرة الجسد Vinegar Hill (P.S.) Startide Rising Significance Pompeii The Guilty A History of Western Philosophy And Its Connection with Political and Social Circumstances from the Earliest Times to the Present Day Le Morte d\\'Arthur A Piece of Cake: A Memoir Taran Wanderer Brimstone Devil in Winter  The Dead and the Gone The Darkest Passion (Lords of the Underworld, #5) Pygmy Revenge Wears Prada: The Devil Returns Рассказы и Повести Redemption A Northern Light Apollyon: The Destroyer Is Unleashed Whose Body? Michelangelo and the Pope\\'s Ceiling Stolen Hour Game The Cruelest Month Ballet Shoes We the Living The Winner\\'s Crime 100 Selected Poems by e. e. Cummings Such a Pretty Fat: One Narcissist\\'s Quest to Discover if Her Life Makes Her Ass Look Big, or Why Pie is Not the Answer Forest of Secrets The Little Stranger Night Broken Snow Like Ashes We Are Not Ourselves Red Lily The Lords of the North Just Ella Eyes wide open China Dolls Megan Meade\\'s Guide to the McGowan Boys Bread and Jam for Frances Mirror Mirror More Than This As Sure as the Dawn (Mark of the Lion, #3) Lexicon El Deafo Down London Road The Walking Dead, Vol. 3: Safety Behind Bars Flow My Tears, the Policeman Said A Knight in Shining Armor Rot & Ruin Ἱστορίαι Sandman Slim The Last Child Labyrinths The Price of Salt Tiger\\'s Quest Friday Night Bites: A Chicagoland Vampires Novel  The Oath Rumors The Day the Crayons Quit Princess in Waiting (The Princess Diaries, #4) Der Zauberberg Chasing the Dime A Thousand Pieces of You Pictures of Hollis Woods The Reality Dysfunction  NW  The Chronicles of Vladimir Tod: Eighth Grade Bites The Paradox of Choice: Why More Is Less Blood and Chocolate Nine Dragons Women in Love Second Chance The Postman Summerland The Patron Saint of Liars The Success Principles Knight Business Model Generation The Swerve: How the World Became Modern The Autobiography of Henry VIII. With Notes by His Fool, Will Somers Stranger Than Fiction: True Stories The Brain That Changes Itself: Stories of Personal Triumph from the Frontiers of Brain Science The Ringworld Engineers  I Hunt Killers Crashed Kitchens of the Great Midwest Stone Soup شيكاجو 12th of Never Promise of Blood Black Order Fractured The Sun Is Also a Star The Murder House On the Beach Funny Girl New York A Gathering of Shadows From the Corner of His Eye  めくらやなぎと、眠る女 [Mekurayanagi to, nemuru onna] Barefoot Contessa Back to Basics To Have and to Hold  Smashed: Story of a Drunken Girlhood Until I Find You The Dark Divine Women Who Run With the Wolves The Long Tail: Why the Future of Business Is Selling Less of More Mein Kampf Swapping Lives A Rule Against Murder (Armand Gamache, #4) The Perfect Hope Consequences The 7 Habits Of Highly Effective Teens The Strange Case of Origami Yoda Welcome to Temptation Inside Out & Back Again Dreamless Predestined The Art of the Start: The Time-Tested, Battle-Hardened Guide for Anyone Starting Anything The Other Wes Moore: One Name, Two Fates Mistress of the Art of Death Assholes Finish First 美少女戦士セーラームーン Kiss an Angel  The Upside of Irrationality: The Unexpected Benefits of Defying Logic at Work and at Home The Partly Cloudy Patriot My Father\\'s Dragon (My Father\\'s Dragon Trilogy) Natchez Burning Hannibal Rising Immortal in Death  inf Blood Noir (Anita Blake, Vampire Hunter, #16) Inherent Vice Songs of the Humpback Whale: A Novel in Five Voices The Night Eternal Bright Lights, Big City Whiskey Beach The Guy Not Taken: Stories The Walking Dead, Vol. 8: Made To Suffer Pleasure of a Dark Prince  Danny and the Dinosaur Il decamerone The Crossing Kushiel\\'s Avatar El Aleph Ruin The Long Goodbye Farewell, My Lovely The Castle of Llyr Fade Out The Cat Who Could Read Backwards Charade The Demigod Diaries If You Stay Neil Patrick Harris: Choose Your Own Autobiography Death du Jour More Than a Carpenter Boneshaker  Rubyfruit Jungle Fallen in Love The Never War The Elf Queen of Shannara  Mattimeo Nemesis Games First Family True Grit Feel The Fear And Do It Anyway: How to Turn Your Fear and Indecision into Confidence and Action Mine Memoirs of an Imaginary Friend Haroun and the Sea of Stories Poison Princess The Emperor\\'s Blades Brick Lane Half Bad Βίος και πολιτεία του Αλέξη Ζορμπά Sounder A Universe from Nothing: Why There Is Something Rather Than Nothing Slash Rebel Belle The Mephisto Club The Scarlet Thread  It\\'s a Magical World: A Calvin and Hobbes Collection L\\'être et le néant Miecz przeznaczenia Silent Spring Legion Down the Rabbit Hole: Curious Adventures and Cautionary Tales of a Former Playboy Bunny Kill Alex Cross The Pearl that Broke Its Shell Behemoth The Sociopath Next Door Y: The Last Man, Vol. 8: Kimono Dragons The Tea Rose Moon Over Soho The Paris Architect Falling Kingdoms Ask and It Is Given: Learning to Manifest Your Desires La isla bajo el mar The History of Tom Jones, a Foundling Winesburg, Ohio: A Group of Tales of Ohio Small-Town Life C is for Corpse Y: The Last Man Vol. 5: Ring of Truth Five Quarters of the Orange 2666 Microserfs How to Tell If Your Cat Is Plotting to Kill You Simple Genius Vampire Mountain (Cirque du Freak, #4)  The Three Stigmata of Palmer Eldritch ふしぎな図書館  Fushigi na toshokan Deadeye Dick The Power (The Secret, #2) Ancestors of Avalon  Ut og stjæle hester Batman: Knightfall, Part One: Broken Bat Saga, Volume Five The Lions of Lucerne The Sign of the Beaver Ask the dust  All Over But the Shoutin\\' The Key to Midnight Grimm Tales for Young and Old Debt of Bones (The Sword of Truth, #0.5) Žert The White Princess Flight of the Intruder Silver on the Tree National Velvet Losing My Virginity: How I\\'ve Survived, Had Fun, and Made a Fortune Doing Business My Way Λυσιστράτη The Swan Thieves Iced 14 Okay for Now Assassins : Assignment: Jerusalem, Target: Antichrist Red Country Eat And Run The Matchmaker The Mark: The Beast Rules the World Belong to Me L.A. Confidential Those Left Behind (Serenity, #1) Terms of Endearment Kiss of the Night The Wedding Girl Entice From Russia, with Love The Tortilla Curtain Darkest Mercy Checkmate (A Neighbor from Hell, #3) The Amazing Maurice and His Educated Rodents  With The Old Breed: At Peleliu And Okinawa The Hundred Dresses Lost Lake Hardwired The Last Runaway Midnight Tides The 100 Hades Y: The Last Man Vol. 3: One Small Step Bear Snores On Talking as Fast as I Can: From Gilmore Girls to Gilmore Girls, and Everything in Between Memoirs of a Teenage Amnesiac Salamandastron Finnikin of the Rock The Return of the Native Micro No Exit and Three Other Plays Foundation and Chaos (Second Foundation Trilogy, #2) Cover Her Face Supernaturally First King of Shannara Bury Your Dead The Overlook أنت لي The House of the Seven Gables Rising storm Love Warrior The Brutal Telling I Never Promised You a Rose Garden The Crimson Crown L\\'Amant The Power and the Glory Paula Lila Sweetbitter Romancing Mister Bridgerton (Bridgertons, #4) Tangerine Hell House The Liar The Third Victim The Wrong Side of Goodbye Hell\\'s Corner  Key of Valor (Key Trilogy, #3) Barbarians at the Gate: The Fall of RJR Nabisco Ancillary Sword Franz Kafka\\'s The Castle Time\\'s Twisted Arrow  The Girl Who Circumnavigated Fairyland in a Ship of Her Own Making The Book of the Dead Er ist wieder da The Expats Bare Bones Beautiful Day The Indwelling: The Beast Takes Possession Dexter in the Dark Das Glasperlenspiel The Yellow Birds Just One Look The Proposal My Family and Other Animals Back Roads Cathedral Fantastic Beasts and Where to Find Them: The Original Screenplay A Million Miles in a Thousand Years: What I Learned While Editing My Life Eona: The Last Dragoneye Eight Cousins R is for Ricochet Prince of Wolves  Diary of a Worm The Grey King Devoured The Book of Strange New Things Epic Fail A Caress of Twilight (Merry Gentry, #2) The Manchurian Candidate Fudge-a-Mania Operating Instructions: A Journal of My Son\\'s First Year Pale Blue Dot: A Vision of the Human Future in Space Simple Perfection (Perfection, #2) The Hundred-Foot Journey Scorpia Rising Big Nate: In a Class By Himself The Melancholy Death of Oyster Boy and Other Stories Breath, Eyes, Memory  Voyage au bout de la nuit The Scarecrow  The Humans Crocodile Tears 1/4 جرام For Women Only: What You Need to Know about the Inner Lives of Men A Quick Bite Key of Knowledge Ice Station A Dangerous Fortune The Well of Lost Plots An Inquiry into the Nature and Causes of the Wealth of Nations  Canada The Big Over Easy The Seeing Stone Stalingrad: The Fateful Siege, 1942–1943 ビーストマスター 1 Giggle, Giggle, Quack West with the Night The Cellist of Sarajevo Smooth Talking Stranger  (Travis Family #3)  If You Ask Me: And of Course You Won\\'t Discours de la Méthode suivi de Méditations Métaphysiques The Defector Rilla of Ingleside The Wisdom of Crowds Still Life with Crows (Pendergast, #4) Fever Dream Outpost Can\\'t We Talk about Something More Pleasant? The Long Hard Road Out of Hell Lyle, Lyle, Crocodile (Lyle the Crocodile) Etiquette & Espionage As Intermitências da Morte Sandry\\'s Book Britt-Marie var här Kim Written in Red The Seven-Percent Solution: Being a Reprint from the Reminiscences of John H. Watson, MD Gregor and the Marks of Secret The Prodigal God: Christianity Redefined Through the Parable of the Prodigal Sons Toujours Provence The Lost Painting: The Quest for a Caravaggio Masterpiece The Light in the Ruins A Deepness in the Sky Kritik der reinen Vernunft A Murder is Announced Leven en werken van de Kabouter Undead and Unemployed The Little Lady Agency On Liberty Not My Father\\'s Son Nigella Express: Good Food Fast Gabriel\\'s redemption Scott Pilgrim, Volume 5: Scott Pilgrim Vs. the Universe Better: A Surgeon\\'s Notes on Performance Play Twilight and Philosophy: Vampires, Vegetarians, and the Pursuit of Immortality (The Blackwell Philosophy and Pop Culture Series) Games People Play Mitosis La Dame aux camélias The Wedding Dress Fish! A Remarkable Way to Boost Morale and Improve Results D-Day June 6, 1944: The Climactic Battle of WWII A Long Walk to Water Light Stuck-Up Suit To Your Scattered Bodies Go Midnight Bayou Winter\\'s Tale The Doomsday Conspiracy Common Sense Falling Leaves: The Memoir of an Unwanted Chinese Daughter رحلتي من الشك إلى الإيمان Whispers at Moonrise  The 4-Hour Body Les Particules élémentaires Beauty from Surrender The Adventures of Captain Underpants How Children Succeed: Grit, Curiosity, and the Hidden Power of Character The Fountains of Paradise Baba ve Piç Two Boys Kissing The Ruins A Dangerous Path Dances with Wolves Bloodhound (Beka Cooper, #2) The Night Angel Trilogy A Rose for Emily Holy Bible English Standard Version A Morbid Taste for Bones Le Vite de\\' più eccellenti pittori, scultori, e architettori da Cimabue insino a\\' tempi nostri Unleash the Night Syren Метро 2033 The Slap The Art Spirit: Notes, Articles, Fragments of Letters and Talks to Students, Bearing on the Concept and Technique of Picture Making, the Study of Art Generally, and on Appreciation (Icon Editions) Brilliance The Fortress of Solitude The Darkest Evening of the Year Authority  The Wrath of Mulgarath Bee Season Indelible Night Chills Be Here Now Trace Genghis: Birth of an Empire The Ruby Knight The Thief of Always Kiss of Crimson  The Keepsake Kiss of a Demon King  The Bonehunters Chanakya\\'s Chant The Naked and the Dead Battle Cry of Freedom Blubber One Grave at a Time (Night Huntress, #6) Apollyon I Heart New York Airhead  Beauty\\'s Release (Sleeping Beauty, #3) Jessica\\'s Guide to Dating on the Dark Side E.E. Cummings: Complete Poems 1904-1962 Smoke Gets in Your Eyes: And Other Lessons from the Crematory The Rembrandt Affair The Call of Cthulhu 20th Century Ghosts Ghostwritten The One That Got Away The Ruby Circle Where the Mountain Meets the Moon Swallows and Amazons Rock Hard How to Build a Girl Sang Pemimpi The Know-It-All: One Man\\'s Humble Quest to Become the Smartest Person in the World The Double Bind The Ice Twins The Edge of Always The Virgin Blue Salt Sugar Fat: How the Food Giants Hooked Us  Half Magic Dawn of the Dreadfuls (Pride and Prejudice and Zombies, #0.5) Live To Tell 84, Charing Cross Road Peace Is Every Step: The Path of Mindfulness in Everyday Life 電撃デイジー 1 Scrappy Little Nobody Started Early, Took My Dog Batman: A Death in the Family TransAtlantic Eternal Kiss of Darkness The Spellman Files Books of Blood: Volumes 1-3 The Judas Strain Searching for God Knows What Fatherland Freedom™ The Bridge of San Luis Rey Белые ночи Skin Trade Disney\\'s the Lion King (Disney Classic Series) Born in Ice The Sellout Fables, Volume 4: March of the Wooden Soldiers Night School The Silent Girl Horton Hatches the Egg Beyond Belief: My Secret Life Inside Scientology and My Harrowing Escape Απολογία Preacher: Proud Americans The Wolf Gift The Terror Madeline\\'s Rescue Garden of Shadows A Perfect Blood Joni War of the Twins Cross Fire Brunelleschi\\'s Dome: How a Renaissance Genius Reinvented Architecture Creative Visualization: Use the Power of Your Imagination to Create What You Want in Your Life Metro Girl Second Grave on the Left Katherine A Short History of Tractors in Ukrainian Industrial Magic Le Petit Nicolas The Atlantis Plague We Were Soldiers Once... and Young: Ia Drang - the Battle That Changed the War in Vietnam Whiteout A Distant Mirror: The Calamitous 14th Century Heat The Game \"N\" is for Noose Just Like Heaven Catch Me The Shop on Blossom Street Starless Night (Legacy of the Drow #2) Night Fall Robert Ludlum\\'s The Bourne Objective The Score Even Now Testimony Magic Rises Whispers Under Ground Unlucky 13 The Best Laid Plans Nation Secrets of a Summer Night Red A Trick of the Light White Hot Kiss Pandora Hearts 1 Lit Mockingbird 28 حرف The Egypt Game Ellen Foster Sämtliche Erzählungen Test of the Twins (Dragonlance Legends, #3) Wise Blood Kürk Mantolu Madonna Running with the Demon Lothaire Knuffle Bunny Too: A Case of Mistaken Identity The Whole Truth Out of the Easy Batman: The Man Who Laughs Midnight The Hard Thing about Hard Things: Building A Business When There Are No Easy Answers My Booky Wook Shadow Spell Just My Type: A Book About Fonts Promises in Death Love Is a Dog from Hell: Poems, 1974-1977 The Fifth Season The Analyst Shades of Grey That Was Then, This Is Now The Family Fang Min kamp 1 A Red Herring Without Mustard No Ordinary Time: Franklin and Eleanor Roosevelt: The Home Front in World War II Straight Man The Moviegoer Вишнëвый сад 11 Birthdays Sisterhood Everlasting Infinity Welcomes Careful Drivers Coyote Blue فوضى الحواس Orthodoxy The Heart of the Matter The Long Haul  Sail The Sleeper and the Spindle Beauty\\'s Punishment Can Love Happen Twice? A Lion Among Men Shadow of a Dark Queen (The Serpentwar Saga, #1) This Boy\\'s Life: A Memoir Patient Zero Death Comes for the Archbishop The Son of Sobek Le Tartuffe, ou L’Imposteur Passion Unleashed 高校デビュー 1 في ديسمبر تنتهي كل الأحلام Just for You Amazonia  Feeling Good: The New Mood Therapy Blue Smoke Predator Обломов Inca Gold Delicious! NurtureShock: New Thinking About Children Wild Fire Two Little Girls in Blue Daughter of the Empire Everlost Dreams of a Dark Warrior Theodore Boone, Kid Lawyer A Year Down Yonder Own the Wind Marina Written on the Body Tiger\\'s Voyage Dean Koontz\\'s Frankenstein: Dead and Alive Genome: The Autobiography of a Species in 23 Chapters The Going-To-Bed Book Knocked out by my nunga-nungas The Sacrilege: The Antichrist Takes the Throne Redeployment Going Bovine The Postman Always Rings Twice  The Dead-Tossed Waves  Shadow Divers: The True Adventure of Two Americans Who Risked Everything to Solve One of the Last Mysteries of World War II Moon Over Manifest The Glass Palace The Eye of Minds 4.50 From Paddington Ceremony in Death Kakerlakkene Grave Surprise La ciudad de las bestias أولاد حارتنا The Scar Dragondrums (Pern: Harper Hall, #3) Galileo\\'s Daughter Mila 18 Sea of Poppies Nightfall How I Became a Pirate The Monkey Wrench Gang (Monkey Wrench Gang, #1) Last Night in Twisted River Love wins Bite Club Mr. Perfect Up to Me Waking Up Married No Time for Goodbye Ida B. . . and Her Plans to Maximize Fun, Avoid Disaster, and (Possibly) Save the World The Dragon Keeper The China Study: The Most Comprehensive Study of Nutrition Ever Conducted and the Startling Implications for Diet, Weight Loss and Long-term Health The Gruffalo The Salmon of Doubt: Hitchhiking the Galaxy One Last Time The City and the Stars 東京喰種トーキョーグール 1 How to train your dragon Brief Interviews with Hideous Men L.A. Candy The Siren The Quiet Game American Sphinx: The Character of Thomas Jefferson Hodejegerne The Sheltering Sky The Rest of Us Just Live Here The Lady Elizabeth The Astronaut Wives Club The Man Who Was Thursday - A Nightmare Cheaper by the Dozen The Monster of Florence: A True Story Winter\\'s Bone Seduced by Moonlighty (Merry Gentry, #3) Sword Song Deceptively Delicious: Simple Secrets to Get Your Kids Eating Good Food The Weight of Water Music of the Heart The Scarlet Feather The Last Hero We Wish to Inform You That Tomorrow We Will Be Killed with Our Families The English Girl The Geography of You and Me Angel  Seeds of Rebellion (Beyonders, #2) Chinese Cinderella: The True Story of an Unwanted Daughter Chosen Prey The Black Dagger Brotherhood: An Insider\\'s Guide Head Games  Ramona and Her Father The Secret Adversary Rayuela Stars Above Clapton: The Autobiography No Logo No Second Chance Fear and Loathing on the Campaign Trail \\'72 Shroud for a Nightingale First Frost Stories of Your Life and Others  Travesuras de la niña mala The Girl Who Fell From the Sky Hide (Detective D.D. Warren, #2)  Ayat-ayat Cinta Broken prince Manuscrito encontrado em Accra Weaveworld Loves Music, Loves to Dance The Rivers of Zadaa Sweet Dreams Nicholas and Alexandra Wicked Business Escape from Mr. Lemoncello\\'s Library Friday Her Mother\\'s Hope (Marta\\'s Legacy, #1) Red Rabbit Arrows of the Queen (Heralds of Valdemar #1) Angelfire Mile 81 The Brooklyn Follies The Ironwood Tree The Yearling Dare You To I Am Ozzy The Sex Lives of Cannibals: Adrift in the Equatorial Pacific Touch of Power A Virtuous Woman  Tears of the Moon The Sapphire Rose  Did You Ever Have a Family On Death and Dying 14th Deadly Sin It Happened One Autumn Scarpetta Darkness, Take My Hand Siege of Darkness Play With Me Portrait in Death Second Chance Boyfriend Y: The Last Man Vol. 4: Safeword Sunshine \"D\" is for Deadbeat  Salvage the Bones The Hook Up Throne of Jade Mornings on Horseback Y: The Last Man Vol. 7: Paper Dolls London: The Novel Silence My True Love Gave to Me: Twelve Holiday Stories Sand Omnibus Off to Be the Wizard Nobody\\'s Fool Rage Germinal Ceaseless The Demolished Man Lost In Time Ninth Key Find Her Frigid De amor y de sombra The Evolution of Calpurnia Tate Bad Girls Don\\'t Die Atlantis Found Asterios Polyp The Walking Dead, Vol. 4: The Heart\\'s Desire The Stonekeeper\\'s Curse Sick Puppy The Days Are Just Packed: A Calvin and Hobbes Collection Odd Apocalypse Surveiller et punir. Naissance de la prison Pay It Forward 満月をさがして 1 Harlequin In the Company of the Courtesan The Skull Throne Devil May Cry Two By Two Inescapable Illusions Fatal Vision Magician: Apprentice (The Riftwar Saga, #1)  That Hideous Strength The Bees Ape House China Rich Girlfriend A Woman After God\\'s Own Heart State Of The Union The Good House Bless Me, Ultima Glamorama F is for Fugitive Frelseren (Harry Hole, #6) Seta Boomerang The Remnant: On the Brink of Armageddon Il barone rampante Twilight: The Graphic Novel, Raw The Great Book of Amber The Darkest Lie (Lords of the Underworld #6) Czas pogardy That Boy The Dressmaker Paradise Jumanji Replay Incognito: The Secret Lives of the Brain Death by Black Hole: And Other Cosmic Quandaries The Ancestor\\'s Tale: A Pilgrimage to the Dawn of Evolution The Pigman Deep Storm The Full Cupboard of Life How to Marry a Millionaire Vampire The Foot Book: Dr. Seuss\\'s Wacky Book of Opposites (Bright & Early Board Books) Beautiful Bitch The Recruit (Cherub, #1) Anatomy for the Artist Fermat\\'s Enigma: The Epic Quest to Solve the World\\'s Greatest Mathematical Problem The Christmas Box My Blood Approves Until November The Bloody Chamber & Other Stories A Cook\\'s Tour: Global Adventures in Extreme Cuisines Power of Art Finding me : A Decade of Darkness, a Life Reclaimed Born in Shame Return to Paradise My Heart and Other Black Holes Girl in a Band Ninth Grade Slays (The Chronicles of Vladimir Tod, #2) Book of the Dead The Hero with a Thousand Faces Bad Blood Jesus Freaks: DC Talk and The Voice of the Martyrs - Stories of Those Who Stood for Jesus, the Ultimate Jesus Freaks Cooked: A Natural History of Transformation  Daughter of the Blood The Lost Gate Politi (Harry Hole, #10) Vittorio the Vampire ふしぎ遊戯 1 The Lace Reader Anne Rice\\'s The Tale of the Body Thief (Graphic Novel) The Lone Ranger and Tonto Fistfight in Heaven A Stroke of Midnight (Merry Gentry, #4) The Chemist Empress Orchid And Another Thing... (Hitchhiker\\'s Guide to the Galaxy, #6) Damaged The Princess and the Goblin There\\'s a Wocket in My Pocket The Gatecrasher The Confusion Raising Steam Independent Study X Lord of Light Esio Trot Hellboy: The Chained Coffin and Others Run for Your Life Play It as It Lays Dime Store Magic Blue Mars  As Valkírias Please Ignore Vera Dietz The Struggle The Dark Highlander The Immortal Highlander  No god but God: The Origins, Evolution, and Future of Islam Valis Le deuxième sexe: I. Les faits et les mythes, II. L\\'expérience vécue The Runaway King Dragon Wing (The Death Gate Cycle, #1) Jailbird Y: The Last Man Vol. 9: Motherland Ilium The Highly Sensitive Person - How to Thrive when the World Overwhelms You The Palace of Illusions The First American: The Life and Times of Benjamin Franklin Dance of Death This World We Live In Hunter × Hunter #1 Vengeance in Death To Say Nothing of the Dog The Terminal Man A Song of Ice and Fire Graphic Novels White Cat Where I’m Calling From: The Selected Stories Something Rotten The Land of the Painted Caves Autobiography of a Face Vanishing Girls Darke The Wimpy Kid Movie Diary: How Greg Heffley Went Hollywood The Thin Man Trading Up The Uplift War Rage of a Demon King (The Serpentwar Saga #3) Lucky Jim A Faint Cold Fear The Rose Society Waiting For You The Short and Tragic Life of Robert Peace: A Brilliant Young Man Who Left Newark for the Ivy League The Neighbor Y: The Last Man Vol. 10: Whys And Wherefores Eon The Summer Before the War Erinnerungen, Träume, Gedanken von C.G. Jung Bullet The Scottish Prisoner بيكاسو وستاربكس Směšné lásky  The Secret Diaries of Miss Miranda Cheever Under the Volcano Sleep tight Dinosaurs Before Dark Have Space Suit - Will Travel The Sea Wolf Darkest Hour Hark! A Vagrant The Dive From Clausen\\'s Pier The Fall of the House of Usher  The Soldiers of Halla The Boyfriend List: 15 Guys, 11 Shrink Appointments, 4 Ceramic Frogs and Me, Ruby Oliver (Ruby Oliver, #1) Regeneration Four: The Initiate Lucky Man The Penelopiad The Improbable Adventures of Sherlock Holmes Fables, Volume 2: Animal Farm The Fire Next Time Don\\'t Let the Pigeon Stay Up Late! We3 Princess in Pink The Coffin Club (Vampire Kisses, #5) Main Street Percy Jackson\\'s Greek Gods Dairy Queen Telegraph Avenue Genesis The Book of Speculation Flirt Inner Harbor (Chesapeake Bay Saga #3) Bite Me Green Rider Boy, Snow, Bird The Social Animal: The Hidden Sources of Love, Character, and Achievement Solar The Structure of Scientific Revolutions Small Island A Great Reckoning The Sky is Falling Sonnenfinsternis The Perfect Play The Curse of Chalion Chesapeake Blue (Chesapeake Bay Saga, #4) Ash The Burning Land Second Helpings (Jessica Darling, #2) The Earth, My Butt, and Other Big Round Things Lord Jim Don\\'t Panic: The Official Hitchhikers Guide to the Galaxy Companion Things Not Seen House Raise the Titanic! The Supernaturalist Queen of Babble in the Big City Yertle the Turtle (Classic Seuss) Family Matters The Happiest Baby on the Block Perahu Kertas Schooled It Starts with Food: Discover the Whole30 and Change Your Life in Unexpected Ways Merle\\'s Door: Lessons from a Freethinking Dog Brian\\'s Winter How the Garcia Girls Lost Their Accents  Be with Me Jo\\'s Boys, and How They Turned Out: A Sequel to \"Little Men\" Home  Notes of a Dirty Old Man Fasandræberne The Good Lord Bird Greenwitch The Walking Dead, Vol. 5: The Best Defense Take a Chance (Chance, #1) Portrait of a Spy One Good Turn Abarat 2061: Odyssey Three The Walk Afterlife Slam Dark Triumph (His Fair Assassin, #2) The Crossover Edensor The Line of Beauty The Rose Garden The English Assassin Chuck Klosterman IV: A Decade of Curious People and Dangerous Ideas The Wicked + The Divine, Vol. 1: The Faust Act Innocence Dark of the Moon In The Afterlight Goddess Interrupted Lucinda’s Secret Henry Huggins Bedtime for Frances 窓ぎわのトットちゃん Half the World When Genius Failed: The Rise and Fall of Long-Term Capital Management Writing Down the Bones: Freeing the Writer Within City of Golden Shadow An Ice Cold Grave Jacob Have I Loved The Postcard Killers 神様はじめました 1 Maybe Not Black Water Five Little Pigs Embassytown Sherlock Holmes: The Complete Novels and Stories, Volume I Strong Poison The Far Side Gallery The Eternity Cure Holiday in Death Thief Between a Rock and a Hard Place Legend  Every Boy\\'s Got One (Boy, #3) Small Sacrifices: A True Story of Passion and Murder All My Friends Are Dead The Six Sacred Stones Rising Tides (Chesapeake Bay Saga #2) Bleach―ブリーチ― 15 Cash: The Autobiography of Johnny Cash A Stranger in the Mirror Flush Out of Africa The Watchman Antifragile: Things That Gain from Disorder Free Will This Is Where It Ends Stray Liar & Spy The Blank Slate: The Modern Denial of Human Nature The Dreaming Void Being Nikki The Tragedie of Antony and Cleopatra Among the Impostors (Shadow Children, #2) The Eternal Dawn Addicted Article 5 Found in You Midnight Rising Kisscut Last Exit to Brooklyn La fiesta del chivo Drums, Girls & Dangerous Pie The First Bad Man To Green Angel Tower (Storm) Jet The Sea Mr. Murder Changeless The Magic of Recluce The Bastard (Kent Family Chronicles, Vol. 1) The Last Policeman Earth Abides Thunderhead Dragon bound The Colorado Kid The Monkey\\'s Paw The Pursuit of Holiness Again the Magic  Low Country Revolution The Fall of Reach The Nix The Calvin and Hobbes Lazy Sunday Book Carmilla Drowned Wednesday Saving Francesca Avoiding Commitment Confessions of a murder suspect Y: The Last Man Vol. 6: Girl on Girl Milkweed Virtual Light American on Purpose Always Looking Up: The Adventures of an Incurable Optimist Nine Rules to Break When Romancing a Rake The Lifeboat Quo vadis? The Jewel The Fire Within Servant of the Empire (The Empire Trilogy, #2) After We Collided Confederates in the Attic: Dispatches from the Unfinished Civil War Seven Ancient Wonders Mistral\\'s Kiss Desire Unchained (Shadow Lover) Cold Fire ; Hideaway; The Key to Midnight I Am Not A Serial Killer (John Cleaver, #1) Welcome to the World, Baby Girl! Filth Turbo Twenty-Three The Alibi A Land More Kind Than Home Kristy\\'s Great Idea Den femte kvinnan The Wordy Shipmates Bel-Ami A River Runs Through It and Other Stories El tiempo entre costuras Idoru The Best Man A King\\'s Ransom The Poisoner\\'s Handbook: Murder and the Birth of Forensic Medicine in Jazz Age New York RoomHate Living Dead Girl धर्मपद [Dhammapada] Law Man Deadly Décisions Rising Strong Speaking from Among the Bones Swimsuit Through Gates of Splendor Dirty Red The Darkest Part of the Forest Dream a Little Dream تاكسي: حواديت المشاوير The Samurai\\'s Garden The Hating Game Black-Eyed Susans Neanderthal Seeks Human Goliath Criminal The Bear and the Dragon W is for Wasted I\\'m Just Here for the Food: Food + Heat = Cooking Sins of the Night Shades of Earth Tehanu Reboot Hunger Makes Me a Modern Girl Thomas Jefferson: The Art of Power Murder in Mesopotamia Excession What Looks Like Crazy on an Ordinary Day G is for Gumshoe King & Maxwell The Magician\\'s Apprentice Reaper\\'s Gale  Crown of Shadows The Garden of Rama (Rama, #3) Our Man in Havana Batman: The Black Mirror Kill Me If You Can A Lick of Frost The Abyss The Book of Shadows Läsarna i Broken Wheel rekommenderar Live by Night Until I Die The Magic of Reality: How We Know What\\'s Really True Remember Stuff White People Like: the Definitive Guide to the Unique Taste of Millions Blood Magick The Power That Preserves The Brightest Star in the Sky Entwined El coronel no tiene quien le escriba Waiting for the Barbarians The Innovators: How a Group of Inventors, Hackers, Geniuses and Geeks Created the Digital Revolution Kabul Beauty School: An American Woman Goes Behind the Veil To Have and Have Not  Jackdaws The System of the World Touching Spirit Bear The Flamethrowers Twice Tempted  The Selection Stories: The Prince & The Guard Crush It!: Why Now Is the Time to Cash in on Your Passion Redemption Ark The Venetian Betrayal Collected Poems 1909-1962 The Robe The Yonahlossee Riding Camp for Girls Lead No Humans Involved Endless Summer Que Necesita El, Que Necesita Ella  Dance of the Gods بوف کور The Ring of Solomon Welcome to Dead House Chronicles of The Black Company (The Black Company / Shadows Linger / The White Rose) Until Friday Night Mother of Pearl Everyone Brave Is Forgiven The Things We Do for Love Son of the Shadows The Key to Rebecca Hard Bitten Barefoot Contessa Family Style: Easy Ideas and Recipes That Make Everyone Feel Like Family Heart of the Sea Veil of Midnight Subterranean I Don\\'t Know How She Does It The Long Way to a Small, Angry Planet Cuentos completos Tithe: A Modern Faerie Tale  Raised by Wolves Promise Me (Myron Bolitar, #8) The Vampire Diaries: The Return: Midnight Dark Side of the Moon Mistakes Were Made (But Not by Me): Why We Justify Foolish Beliefs, Bad Decisions, and Hurtful Acts Abducted Roadwork Valhalla Rising (Dirk Pitt, #16) The Third Chimpanzee: The Evolution and Future of the Human Animal The Given Day Deadline Long Lost Faithless My Stroke of Insight The Walking Dead 6 Inés del alma mía Frog Music An Instance of the Fingerpost 5 cm Crossing the Chasm: Marketing and Selling High-Tech Products to Mainstream Customers Robots and Empire Island Huis clos Are You My Mother?: A Comic Drama ABNKKBSNPLAKo?! (Mga Kwentong Chalk ni Bob Ong) The Blue Bistro Third Grave Dead Ahead L\\'identité The Heart of Betrayal First They Killed My Father: A Daughter of Cambodia Remembers  The Funhouse The SPEED of Trust: The One Thing that Changes Everything You Belong to Me Not Without My Daughter The Killing Hour Castle Roogna While My Pretty One Sleeps Dance with a Vampire (Vampire Kisses, #4) Tris\\'s Book The Moral Landscape: How Science Can Determine Human Values The Mill River Recluse Hey Nostradamus! Che Guevara: A Revolutionary Life The Secret Hour Ser Como o Rio que Flui Lament: The Faerie Queen\\'s Deception (Books of Faerie, #1)  Shopaholic to the Stars (Shopaholic, #7) High Noon The Farm Men Explain Things to Me Rock With Me El príncipe de la niebla Driving Miss Daisy Conspiracy in Death In the Company of Cheerful Ladies The First Four Years Bones to Ashes Grimms Märchen The Definitive Book of Body Language Never Cry Wolf : The Amazing True Story of Life Among Arctic Wolves Tick Tock Cleopatra\\'s Daughter Grave Secrets Zoe\\'s Tale The First Commandment Collected Works The Rose & the Dagger The Fold The Nature of the Beast Green 黒執事 III [Kuroshitsuji III] The Crown Tower Daytripper Club Shadowlands (Masters of the Shadowlands, #1) Masumiyet Müzesi The Mothers  Faust. Der Tragödie erster und zweiter Teil  Faking It Accordance Bloodrose Cards on the Table Tales From a Not-So-Smart Miss Know-it-all Ramona and Her Mother Appointment with Death Natural Born Charmer The Woman Warrior: Memoirs of a Girlhood Among Ghosts The Three Little Kittens (A First Little Golden Book) Erections, Ejaculations, Exhibitions and General Tales of Ordinary Madness  Carry On, Warrior: Thoughts on Life Unarmed  The Valley of Fear The Pagan Stone Principle Centered Leadership Monster Hunter International The Bitter Kingdom The Teeth of the Tiger Moreta: Dragonlady Of Pern Preacher: War in the Sun A Single Man Mortality Icefire Norse Mythology Honor\\'s Splendour Shut Out Valley of Silence The Prophet of Yonwood Hope to Die Deep Kiss Of Winter  Doll Bones Red Mist I Am Half-Sick of Shadows  Wild Man Welcome to Night Vale An Offer From a Gentleman Dumplin\\' Ancillary Mercy The Darkest Surrender Danse Macabre Seducing Cinderella Blue Shoes and Happiness  Our Mutual Friend A Handful of Dust Leota\\'s Garden The Book of Illusions To Tame a Highland Warrior A Mango-Shaped Space Daniel Deronda Chasing Perfect The Debutante Divorcée The Wheel of Darkness (Pendergast, #8) Sleeping Giants Blackmoore The Sandman: Endless Nights The First Wives Club The Vanishing Act of Esme Lennox The Night Watch Mightier Than the Sword Blood Canticle Nature Girl Boy\\'s Life Sister of My Heart 博士の愛した数式  H is for Homicide JPod The Face The Ascent of Money: A Financial History of the World Food: A Love Story The Impossible Knife of Memory Purgatorio Deliver Us From Evil The Quillan Games Girlfriend in a Coma The Green Mile, Part 1: The Two Dead Girls Ella Minnow Pea: A Novel in Letters Toll the Hounds The Bone Garden Supernova: Ksatria, Puteri, dan Bintang Jatuh A Head Full of Ghosts Better Than Before: Mastering the Habits of Our Everyday Lives Broken Homes The King\\'s Buccaneer El cuaderno de Maya One Crazy Summer Dragon Haven Right Ho, Jeeves If You\\'re Reading This, It\\'s Too Late Moonrise The Wednesday Letters Betrayals You\\'ve Been Warned Chasing Vermeer The Jesus I Never Knew Turning Angel The Unidentified Redhead A Child\\'s Garden of Verses The Informers The Queen The Devil Colony The Walking Dead Volume 12 Some Luck Pedagogia do Oprimido William Shakespeare\\'s Star Wars: Verily, a New Hope Identity Crisis Unspoken Rama II O Evangelho segundo Jesus Cristo \"Who Could That Be at This Hour?\" The Calling Avatar The Last Airbender: The Lost Adventures Five Little Peppers and How They Grew Princess of the Midnight Ball الطنطورية  Miss Rumphius Ball Four Fables, Volume 3: Storybook Love Aura The Dance of Anger: A Woman\\'s Guide to Changing the Patterns of Intimate Relationships Forget You Marathon Man The Apothecary\\'s Daughter Rock the Heart Bearing an Hourglass The Five Chinese Brothers Providence Days with Frog and Toad Captive Prince The King of Attolia What Do You Care What Other People Think? Further Adventures of a Curious Character Skippy Dies The Atlantis World Embrace Unnatural Death Angels in America: A Gay Fantasia on National Themes: Millennium Approaches (Part One) Dreaming of You  Comfort Me with Apples: More Adventures at the Table John Keats : The Complete Poems Almost Heaven Three Day Road Red Harvest Trust in Me NARUTO -ナルト- 巻ノ十一  One Summer Whitney, My Love Train to Pakistan Jasper Jones A Brief History of Seven Killings Hold Still The Prize The Middlesteins Le capital au XXIe siècle  Eloise The Screaming Staircase Zomerhuis met zwembad True History of the Kelly Gang Get Shorty One Tiny Lie The Day of the Locust Genius: The Life and Science of Richard Feynman Full Moon Rising Winter Solstice United We Spy The Morganville Vampires, Volume 1 Wolf in White Van Drei Kameraden Bloody Valentine The Heart of a Woman Chrzest ognia Alex Cross\\'s Trial Sway: The Irresistible Pull of Irrational Behavior King of the Wind: The Story of the Godolphin Arabian Waking Up: A Guide to Spirituality Without Religion The Call of the Wild, White Fang and Other Stories  The Rape of Nanking: The Forgotten Holocaust of World War II Brokeback Mountain Nobody\\'s Baby But Mine Keep Quiet Sons of Fortune Kabalmysteriet Rumor Has it Surface Detail The Mating The Gates of Rome Curtain: Poirot’s Last Case Swallowing Darkness California The Pigeon Finds a Hot Dog! Aftermath Vampireville (Vampire Kisses, #3) Hercule Poirot\\'s Christmas Mrs. Lincoln\\'s Dressmaker  الرحيق المختوم: بحث في السيرة النبوية على صاحبها أفضل الصلاة والسلام  The Baker\\'s Daughter The Shadows Rotkäppchen Captain Underpants and the Attack of the Talking Toilets Ghost Boy Essentialism: The Disciplined Pursuit of Less Wideacre If I were you Beautifully Damaged Wethering the Storm Meditationes de prima philosophia The Enchanted Wood Forever Black The Swans of Fifth Avenue カードキャプターさくら Size 14 Is Not Fat Either Gorillas in the Mist A Case of Need The Love Affairs of Nathaniel P.  Revealed Sworn to Silence Magic Breaks Чайка 1Q84 Book 3 [Ichi-kyū-hachi-yon] Boy Meets Girl Dancing in my nuddy-pants! The Door into Summer Luna Runaway Matter Leo Maurice New York to Dallas The Stepford Wives The Longest Day Motor Mouth The Reality Bug True Blue Mistress of the Empire (The Empire Trilogy, #3) Winter Street The Hidden Staircase (Nancy Drew Mystery Stories, #2) Captains and the Kings The Fallen Angel One Tuesday Morning Hit List The Wall of Winnipeg and Me Let Me Call You Sweetheart Break No Bones The Willpower Instinct: How Self-Control Works, Why It Matters, and What You Can Do to Get More of It Broken Angels Beyond Reach Fuzzy Nation I is for Innocent V. Why I Am Not a Christian and Other Essays on Religion and Related Subjects Ansichten eines Clowns The Weight of Blood When He was Wicked V is for Vengeance Among the Betrayed Spook Country 易 [Yì] Blue Nights Blindsight American Vampire, Volume 1 Heat Lightning De la démocratie en Amérique Drop Shot Find You in the Dark The School of Essential Ingredients Azincourt  Dinner at the Homesick Restaurant Money Secret Prey Clive Barker\\'s The Great and Secret Show: Volume 1 (Clive Barker\\'s the Great and Secret Show) His Last Bow: Some Reminiscences of Sherlock Holmes Dune: House Atreides Charmed Life  The Posthumous Papers of the Pickwick Club Netherland The Romanov Prophecy Ecstasy Unveiled The Uncommon Reader  Amerika Sunset النبطي When She Woke The Naked Face The Portable Atheist: Essential Readings for the Non-believer Sin Undone The Tao of Physics: An Exploration of the Parallels Between Modern Physics and Eastern Mysticism The Girl With No Past Acceptance Lady Luck The Lonely Hearts Club Ransom The Big Four Peril at End House Disclaimer Il cimitero di Praga Beatrice and Virgil シャーマンキング 1 Eye of the World (The Wheel of Time, #1-1) Hyperspace: A Scientific Odyssey Through Parallel Universes, Time Warps, and the Tenth Dimension How the Mind Works Leaving Live and Let Die Utilitarianism Winger The Magic Strings of Frankie Presto Fool\\'s Quest The Body Snatchers Junk Killing Patton: The Strange Death of World War II\\'s Most Audacious General Charlie Bone and the Invisible Boy (The Children of the Red King, # 3) First Shift: Legacy Worst Case The Unlikely Spy Royal Blood (Vampire Kisses, #6) Conversations with God, an uncommon dialogue, book 3 M Train Love Medicine The Inner Circle Dragon Slippers (Dragon Slippers, #1) The Princess Diarist The Crippled God Gone  Pride of Baghdad Soumission  Woken Furies Blameless On Writing Well: The Classic Guide to Writing Nonfiction I\\'m OK-You\\'re OK The Sicilian Fire Touched The Copper Beech The Compound The Covenant L’écume des jours The Pledge The Villa Dark Desire Fragments A Rogue by Any Other Name Sein und Zeit Savage Inequalities: Children in America\\'s Schools The Empty Chair  Jamaica Inn Airborn The English Spy Wildwood The Cement Garden Serpent Mage Born on a Blue Day: Inside the Extraordinary Mind of an Autistic Savant The Bet Little Princes: One Man\\'s Promise to Bring Home the Lost Children of Nepal Kitchen no Ohimesama Lust for Life: A Novel of Vincent Van Gogh Skinwalker Hissy Fit Private Games  The Cold Dish Pinkalicious The Poetry of Pablo Neruda Falling Angels Sleeping Arrangements Monsters Lady Susan Memories of Midnight The Bone People Wolf Brother The Crimson Campaign The Universe Versus Alex Woods Stormy, Misty\\'s Foal バクマン。 1 Heaven, Texas The Murder on the Links Der Antichrist The Looming Tower: Al-Qaeda and the Road to 9/11 The Cat Who Walks through Walls Dexter by Design Morning, Noon & Night Memory in Death  The Waves The Nine: Inside the Secret World of the Supreme Court The Violets of March 엄마를 부탁해 House of M Tenth Grade Bleeds The Cat in the Hat Comes Back Oscar and Lucinda The Good Husband of Zebra Drive Up from Slavery The Secret Servant Hearts In Darkness Shards of Honor Astérix le Gaulois The Forever of Ella and Micha Say Goodbye Just Me and My Dad (Look-Look) All I Really Need To Know I Learned in Kindergarten Temple Peter and the Secret of Rundoon Holy Cow: An Indian Adventure Le Mur The House We Grew Up In A Dance With Dragons: Part 1 Dreams and Dust Full Black Five on a Treasure Island  Summer People There\\'s Treasure Everywhere: A Calvin and Hobbes Collection 花より男子 1 In the Plex: How Google Thinks, Works, and Shapes Our Lives When We Were Orphans Stitches: A Memoir The Last Nude Daja\\'s Book All the Weyrs of Pern Beautiful Sacrifice Black Powder War Heartbreaker Briar\\'s Book The First Man in Rome Every Dead Thing The Confessor ヤマトナデシコ七変化 The Walking Dead: Rise of the Governor The Thousand Orcs (Hunter\\'s Blades #1) Miller\\'s Valley The Glass Lake The Happiness Hypothesis: Finding Modern Truth in Ancient Wisdom The Masque of the Red Death The Evolutionary Void The Forbidden Game Perfect You Jazz You\\'re the one that I want Chicken Soup for the Teenage Soul (Chicken Soup for the Soul) The Very Quiet Cricket Something from the Nightside The Stars Shine Down The Beatles Anthology Sex at Dawn: The Prehistoric Origins of Modern Sexuality You Know You Love Me A Chair for My Mother  The Crow Road The Book of Joe ビューティーポップ 1 [Byūtī poppu 1] Boy Meets Girl: Say Hello to Courtship Fables, Volume 6: Homelands Reasonable Doubt Home Sweet Filthy Boy  The Winter\\'s Tale The Temporal Void Sex Criminals, Volume One: One Weird Trick The Rising : Antichrist is Born : Before They Were Left Behind Teardrop The Scarpetta Factor  The Winner\\'s Kiss Here be Dragons The Whipping Boy Short Stories from Hogwarts of Heroism, Hardship and Dangerous Hobbies Pygmalion and Three Other Plays Storm The Last Little Blue Envelope The Making of the Atomic Bomb Minding Frankie The Third Twin Dune: The Butlerian Jihad The Complete Poetry & Prose of William Blake Nutshell デスノート #2 (Desu Nōto) Gōryū (合流) Akira 1 Imperium Le bleu est une couleur chaude The Road to Little Dribbling The Firebird 学園アリス１ Breathing Lessons Selected Poems of Emily Dickinson The Strange Case of Dr. Jekyll and Mr. Hyde  Juliet The Darkest Secret (Lords of the Underworld, #7) God Help the Child The Umbrella Academy, Vol 1: The Apocalypse Suite Founders at Work: Stories of Startups\\' Early Days Infected This Song Will Save Your Life The Women of Brewster Place Ms. Marvel, Vol. 2: Generation Why Burn for Burn The Greater Journey: Americans In Paris The Hidden City Die Glasbläserin Practice Makes Perfect The Dark Hills Divide Fracture Me You Will Know Me The Sunne in Splendour An Innocent Client The MasterHarper of Pern The Drunkard\\'s Walk: How Randomness Rules Our Lives Merry Christmas, Alex Cross Don\\'t Make Me Think! A common sense approach to web usability Shakespeare\\'s Landlord (Lily Bard, #1) Shadows Pathfinder Shrill: Women Are Funny, It\\'s Okay to Be Fat, and Feminists Don\\'t Have to Be Nice A Lot Like Love The Angel of Darkness A Dance With Dragons: Part 2 After The Feast I Was So Mad (Look-Look) Sherlock Holmes : Silver Blaze Crooked House The Sword in the Stone Finding Cassie Crazy Prince Lestat The Blue Castle The Saga of the Swamp Thing, Vol 20 - 27 The Mirror Crack\\'d from Side to Side Shades of Midnight The Hat Pivot Point Hundarna i Riga The Water Knife Food Inc.: A Participant Guide: How Industrial Food is Making Us Sicker, Fatter, and Poorer-And What You Can Do About It The Cove The Monkey\\'s Raincoat The Caine Mutiny The neon rain Kitten\\'s First Full Moon Saga, Volume Six A Good Yarn Naked Heat Shall We Tell the President? Grave Secret (Harper Connelly, #4) Equus : a play The Enchantress Returns The Master Magician One Door Away from Heaven Love in the Afternoon Attack of the Fiend (The Last Apprentice #4) The Marriage Trap The Heretic Queen The Piano Teacher I Have Lived A Thousand Years: Growing Up In The Holocaust Secrets to the Grave Prized With a Tangled Skein Body Surfing Into the Labyrinth Day by Day Armageddon Sundiver Moab Is My Washpot Hardline Eyes of Prey Kissing Coffins (Vampire Kisses, #2) WAR Where Things Come Back The League of Extraordinary Gentlemen, Vol. 2 Birds of a Feather The Outcasts How to Talk to Anyone: 92 Little Tricks for Big Success in Relationships 名探偵コナン 1 The Abolition of Man Yu Yu Hakusho Gods in Alabama U Is for Undertow Passage to Dawn Bloody Jack: Being an Account of the Curious Adventures of Mary \"Jacky\" Faber, Ship\\'s Boy Shoe Dog: A Memoir by the Creator of Nike Survivor in Death (In Death, #20) Affinity Iceberg The Authoritative Calvin and Hobbes Cloudstreet The Girl Next Door Out  アウト Murder of Crows Grain Brain: The Surprising Truth about Wheat, Carbs, and Sugar--Your Brain\\'s Silent Killers Pilgrim at Tinker Creek Prince of the Blood The Courts of Chaos El Zorro The Introvert Advantage: How to Thrive in an Extrovert World Preacher: Dixie Fried The Rainbow The Capture Why We Get Fat: And What to Do about It T is for Trespass  Preacher: Ancient History (Preacher, #4) The Great Influenza: The Epic Story of the Deadliest Plague in History The Heavenly Man: The Remarkable True Story of Chinese Christian Brother Yun Prince of Fools Herzog UnSouled The Face Of Deception The Language Instinct: How the Mind Creates Language Descent Black Cat, Volume 1 Dare Me Last Breath عمارة يعقوبيان Martha Stewart\\'s Cookies Pardonable Lies The Frog Princess (The Tales of the Frog Princess, #1) Batman: Whatever Happened to the Caped Crusader? The Pioneer Woman: Black Heels to Tractor Wheels Swimmy  Suttree Love Bites (Vampire Kisses, #7) sTORI Telling The Righteous Mind: Why Good People Are Divided by Politics and Religion Lady Friday Rock Chick Rescue Clockworks Every Soul A Star Jesus Land : A Memoir Flotsam Silent Scream The Lion & the Mouse Girl of Nightmares Heart no Kuni no Alice   Lord of the Shadows (Cirque Du Freak, #11) Elric of Melniboné The Endurance: Shackleton\\'s legendary Antarctic expedition Winnie the Pooh and Tigger Too The Fury Hamilton: The Revolution Shelter Cry to Heaven Goddess Crave When Rabbit Howls Variant Path of the Assassin Waylander  Surfacing Ghost in the Wires: My Adventures as the World\\'s Most Wanted Hacker My Name Is Mary Sutter So You Want to Be a Wizard Death in the Clouds Foreign Influence Cemetery Dance Hitch-22: Some Confessions and Contradictions Baudolino Dark Magic The Omen Machine (Richard and Kahlan, #1) 15th Affair Wish You Well Barnyard Dance The Passenger Rush Too Far (Too Far, #4) Red Prophet (Tales of Alvin Maker, #2) Animalia Stone Butch Blues Don\\'t Look Back Girl Waits with Gun Astonish Me A Fish Out of Water Look to Windward An Officer and a Spy In the Kingdom of Ice: The Grand and Terrible Polar Voyage of the USS Jeannette A Stranger Is Watching Double Fudge The Morganville Vampires, Volume 3 Storm Born Locke & Key, Vol. 4: Keys to the Kingdom Horde بنات الرياض Kitty and the Midnight Hour Waiting The Jester Ordinary People In Real Life Bad Moon Rising Robin Hood, le prince des voleurs Peeps Collected Poems Vinegar Girl The Black house Scandal in Spring On the Street Where You Live Succubus On Top The Silent Blade (Paths of Darkness #1) Inherit the Wind Round Ireland with a Fridge The Dark And Hollow Places Uganda Be Kidding Me This Book Is Not Good for You Eating the Dinosaur Aztec All the Birds in the Sky Dodger Wildwood Dancing Home Again Books of Blood: Volume One The Man from St. Petersburg Daring to Dream Judgment in Death Innocent in Death (In Death, #24) Waiting to Be Heard: A Memoir Once Upon a Marigold The Dead in Their Vaulted Arches S. Lullabies for Little Criminals رباعیات [Robāʿiāt-e ʿOmar Khayyām] Sever Fourth Grave Beneath My Feet The Legend of Huma (Dragonlance: Heroes #1) The Dogs of Babel Madeline and the Bad Hat 77 Shadow Street Sir Thursday Parallel Worlds: A Journey Through Creation, Higher Dimensions, and the Future of the Cosmos Fate The Krishna Key Tropic of Capricorn An Occurrence at Owl Creek Bridge The Sweet Gum Tree Flight Of The Old Dog A Complicated Kindness Raven Rise Glory over Everything: Beyond The Kitchen House Class A (Cherub #2) Deeper than the Dead Dust of Dreams Accelerando Girl at War Lord Loss Runaway  Villospår Sometimes It Lasts Drift: The Unmooring of American Military Power Graduation Day The Honk and Holler Opening Soon The Passion The Power of the Dog America\\'s First Daughter The Undead Pool On the Edge The Human Division The Fourth Bear The Unwritten, Volume 1: Tommy Taylor and the Bogus Identity The Enchantress of Florence Life is What You Make It: A Story of Love, Hope and How Determination Can Overcome Even Destiny Histoire de la sexualité 1. La Volonté de savoir Takedown De la Terre à la Lune Armageddon: The Cosmic Battle of the Ages Van Gogh: The Life Moonlight Mile  First Among Sequels  The Idiot Girls\\' Action-Adventure Club: True Tales from a Magnificent and Clumsy Life City of Dragons The Judgment of Paris: The Revolutionary Decade that Gave the World Impressionism Darkfall Well-Schooled in Murder Someone Suicide Notes Starter for Ten The Three Little Pigs (A Little Golden Book) Friction Moon Palace The Seventh Gate Hellboy: Wake the Devil Ashfall The Panther The Unexpected Mrs. Pollifax White Fire The Innocent Mage (Kingmaker, Kingbreaker, #1) Wir Kinder vom Bahnhof Zoo The Dragons of Eden: Speculations on the Evolution of Human Intelligence S is for Silence Maximum Security (Cherub #3) Frederick Inside Out March: Book One Everything that Rises Must Converge Dream Chaser The Gun Seller I remember nothing and other reflections Malgudi Days The Subtle Art of Not Giving a F*ck: A Counterintuitive Approach to Living a Good Life Six Days of the Condor Digging to America Die Henkerstochter und der schwarze Mönch (Band 2 aus der Reihe \"Die Henkerstochter-Saga\") Flaskepost fra P The Code Of The Woosters A House for Mr. Biswas The Bone Bed The Fry Chronicles: An Autobiography Second Treatise of Government Better Off Friends The Shallows: What the Internet is Doing to Our Brains The House at Tyneford The Autobiography of Martin Luther King, Jr. Geisha: A Life The Knowledge of the Holy: The Attributes of God: Their Meaning in the Christian Life Дневной дозор A Home at the End of the World Batman, Volume 2: The City of Owls Magic\\'s Pawn CivilWarLand in Bad Decline SEAL Team Six: Memoirs of an Elite Navy SEAL Sniper Sacred Contracts: Awakening Your Divine Potential How We Are Hungry Euthyphro, Apology, Crito, Meno, Phaedo Wrong The Happy Prince and The House of Pomegranates The Line Twisted Palace The Diamond of Darkhold A Death In Vienna Touch of Frost Never Knowing The Aquitaine Progression The Forsyte Saga \"O\" is for Outlaw Deadly Little Secret (Touch, #1) Appelsinpiken The House of Thunder The Dead of the Night My Cousin Rachel Absurdistan Invincible (Chronicles of Nick #2) Napalm & Silly Putty The Indispensable Calvin and Hobbes: A Calvin and Hobbes Treasury Funny in Farsi: A Memoir of Growing Up Iranian in America Witness in Death The Shadow of the Torturer Ask the Passengers Foxglove Summer The Grand Sophy The Road to Serfdom Terms of Enlistment Reaper\\'s Legacy Lord John and the Brotherhood of the Blade  The Executioner\\'s Song Suspect Tar Baby The Twenty-One Balloons Stolen Prey The Psychology of Everyday Things Running Out of Time Something Wonderful Tribute 16 Lighthouse Road Having a Mary Heart in a Martha World: Finding Intimacy With God in the Busyness of Life I\\'d Know You Anywhere The Strange and Beautiful Sorrows of Ava Lavender Sense & Sensibility Sacajawea Avatar: The Last Airbender: The Rift, Part 1 Independence Day The Last Patriot Bridge to Haven The Engagements Creed The Black Widow Believing Christ: The Parable of the Bicycle and Other Good News Wake (Watersong #1) The Code Book. How to Make It, Break It, Hack It, Crack It Touch the Dark Carrion Comfort The Mind Readers The Highlander\\'s Touch  Crispin: The Cross of Lead Wielding a Red Sword Deep Superman: Earth One, Volume 1 The Mortal Instrument Series: City of Bones / City of Ashes / City of Glass / City of Fallen Angels Foxe\\'s Book of Martyrs See Jane Score A Yellow Raft in Blue Water: A Novel Rosemary and Rue Another Fine Myth Forever Mine  Soccernomics: Why England Loses, Why Germany and Brazil Win, and Why the U.S., Japan, Australia, Turkey--and Even Iraq--Are Destined to Become the Kings of the World\\'s Most Popular Sport Sapphique Harvest  How to Cook Everything Vegetarian: Simple Meatless Recipes for Great Food A Little Something Different This Is the Story of a Happy Marriage Think of a Number Birthright The Peacegiver: How Christ Offers to Heal Our Hearts and Homes Cod: A Biography of the Fish that Changed the World The Hidden Reality: Parallel Universes and the Search for the Deep Laws of the Cosmos The Feminine Mystique Brighton Rock كخه يا بابا Stones into Schools: Promoting Peace with Books, Not Bombs, in Afghanistan and Pakistan A Mercy Zodiac Departure The Mystery of the Blue Train Private:  #1 Suspect Pastoralia The Walking Dead V 7 Methuselah\\'s Children Hana Preacher, Volume 8: All Hell\\'s a-Coming The Little Sisters of Eluria Inside, Outside, Upside Down The First Rule The Magical Worlds of Harry Potter: A Treasury of Myths, Legends, and Fascinating Facts The Dot Forest Born The Damnation Game L\\'ignorance استمتع بحياتك The Difference Engine I Want My Hat Back The Lone Drow Bonjour tristesse Cometh the Hour A Walk Across the Sun House of Suns The Black Cat Armor Bröderna Lejonhjärta Loyalty in Death \"Q\" is for Quarry The Ship of Brides The Story of Tracy Beaker Generation Kill Moscow Rules Lab Girl Playing with Fire The Saving Graces Fade Away Amadeus The Icewind Dale Trilogy Collector\\'s Edition (Forgotten Realms: Icewind Dale, #1-3) Monument 14 The Black Lyon Grace [Eventually]: Thoughts on Faith Everyday Food: Great Food Fast Beautiful Bombshell Slated Bumi Manusia Dark Gold (Dark #3) 206 Bones A Gate at the Stairs Hostile Witness Martin Eden Wieża Jaskółki Lords of the Bow (Conqueror, #2) Wonder Woman, Volume 1: Blood Loving Mr. Daniels The History of Henry the Fourth Go Away, Big Green Monster! デッドマン・ワンダーランド 1 The Bloodletter\\'s Daughter: A Novel of Old Bohemia Rabbit at Rest Prison of Ice  Fevre Dream Snowmen at Night Hollywood Dirt Futures and Frosting The Good Luck of Right Now The Miracle at Speedy Motors  Goldfinger Nana Rise of the Elgen Cabal No Man\\'s Land The Sum of All Men The Other Typist Alien The Sentry Sempre Magic Shifts Going Solo Clementine (Clementine, #1) The Dragon\\'s Path Old Possum\\'s Book of Practical Cats The Taming of the Queen Mannen som log Paradise Kiss 1 Talent Is Overrated: What Really Separates World-Class Performers from Everybody Else One Silent Night The Warrior\\'s Apprentice عابر سرير The Complete Phantom of the Opera The Unusual Suspects The White Gold Wielder The Ship Who Sang 黑暗森林 The Eyes of Darkness Heir to the Shadows Guilty as Sin (Deer Lake #2) Kushiel\\'s Scion Chasm City The Lost Child of Philomena Lee: A Mother, Her Son And A Fifty Year Search Breaking Night: A Memoir of Forgiveness, Survival, and My Journey from Homeless to Harvard Treachery in Death Under the Wide and Starry Sky Blood Rites  Carter Reed Man and Boy The Memoirs of Cleopatra The Jefferson Key All My Puny Sorrows Bittersweet In Search of Schrödinger\\'s Cat : Quantum Physics And Reality The Keep  Jeder stirbt für sich allein Rebel of the Sands Forever Peace  Betrayal in Death Man and His Symbols Amulet: Book Three: The Cloud Searchers Lily and the Octopus In the Lake of the Woods Tempt Me at Twilight Tiger\\'s Destiny Back Spin This Heart of Mine Apple Tree Yard The Ice Limit When Calls the Heart Saving Grace Married By Morning Pnin Being a Green Mother (Incarnations of Immortality, #5) Inkheart 宮本武蔵 Miyamoto Musashi Ford County The Monk Songs of Willow Frost Mýrin The Vanished Man The Madman’s Daughter Second Honeymoon Brain Droppings Swindle What I Thought Was True Ruthless The Secret Life of Violet Grant Wicked Ties Charlie Bone and the Beast (The Children of the Red King, # 6) The Baller: A Down and Dirty Football Novel The Providence of Fire L\\'Existentialisme est un humanisme  My Life on the Road Sugar and Spice Den Lille Pige med Svovlstikkerne The Places In Between Stars of Fortune Cat Among the Pigeons Paris The Necklace and Other Short Stories Void Moon Captains Courageous Violin The Forgetting Time デスノート #3 (Desu Nōto) Gekisō (激走) The Lost Stories Deep Down (Jack Reacher, #16.5) Saving June Eeny Meeny What the Night Knows Knight & Play Queen of Fire Spider\\'s Bite Self-Reliance and Other Essays How to Talk So Teens Will Listen and Listen So Teens Will Talk Fiddler On the Roof: Based on Sholom Aleichem\\'s Stories Afterburn All-of-a-Kind Family Influx Ilse Witch  Personal History The Dry Full House الأجنحة المتكسرة Blood of Dragons A Bridge Too Far Loser Sepulchre Vagabonding: An Uncommon Guide to the Art of Long-Term World Travel Kiss the Dead The Garden of Eden Sweet Surrender (Sweet Series, #1) The One Tree Homicidal Psycho Jungle Cat: A Calvin and Hobbes Collection Surrender Your Love CyberStorm Fargo Rock City: A Heavy Metal Odyssey in Rural North Dakota To Green Angel Tower (Siege) Moi Nojoud, 10 ans, divorcée The Feast of All Saints To rise again at a decent hour Proof: A Play The Past through Tomorrow Master of the Senate Saint Odd The Wonderful Story Of Henry Sugar And Six More Port Mortuary The Death of Superman The Raw Shark Texts The Hammer of Thor Wave Fire Sea Far from the Tree: Parents, Children, and the Search for Identity Junie B. Jones and the Stupid Smelly Bus El otoño del patriarca Bones of the Hills Hallucinations Burned The Murders in the Rue Morgue The Summer Tree Betsy-Tacy Sweethearts The Monsters of Templeton Midnight Crossroad Catering to Nobody The Lost Prince Devil Bones From Here to Eternity Change Your Thoughts - Change Your Life: Living the Wisdom of the Tao Dude, Where\\'s My Country? The Last Don محال Ready or Not All But My Life All-Star Superman, Vol. 2 The World of Ice and Fire To Sir Phillip, With Love Among the Barons Say Cheese and Die! Sharpe\\'s Tiger Jinx As Chimney Sweepers Come to Dust  Notes on a Scandal The Beast Sullivan\\'s Island カードキャプターさくら 7 [Cardcaptor Sakura 7] The Soulkeepers (The Soulkeepers #1) Private Peaceful Her Royal Spyness (Her Royal Spyness Mysteries #1) Gunmetal Magic Half a War The Marriage Mistake Darkest Powers Trilogy (Darkest Powers, #1-3) Rhapsody: Child of Blood Doctors Samarcande Indulgence in Death We Need New Names Pretty in Plaid: A Life, a Witch, and a Wardrobe, or, the Wonder Years Before the Condescending, Egomanical, Self-Centered Smart-Ass Phase Wicca: A Guide for the Solitary Practitioner All My Sons Graffiti Moon Mufaro\\'s Beautiful Daughters: An African Tale Paladin of Souls God Bless You, Dr. Kevorkian A Homemade Life: Stories and Recipes from My Kitchen Table The Three Pigs Learned Optimism: How to Change Your Mind and Your Life Desires of the Dead Amelia Bedelia and the Surprise Shower Homecoming (Tillerman Family, #1) Spell of the Highlander  The Hand of Chaos One False Move The Guns of Avalon The Great Gilly Hopkins Trojan Odyssey Follow the River Measure for Measure The Mask All Our Yesterdays Forever Amber The Emerald Atlas Swing Time Karin Everything Leads to You Jeremy Fink and the Meaning of Life Thank You, Mr. Falker The Peripheral Too Much Happiness Tempting the Best Man Prince\\'s Gambit Ironweed Deception Stupid white men and other sorry excuses for the state of the nation A Court of Wings and Ruin The Faceless Ones The Great Railway Bazaar: By Train Through Asia  Black List Transmetropolitan, Vol. 2: Lust for Life The Atrocity Archives The Pleasure of My Company Outcast of Redwall Mister Pip Book of Shadows After We Fell Elizabeth Street The Assassin and the Pirate Lord Frygt og Bæven Hawksong Kon-Tiki Ekspedisjonen How to Get Filthy Rich in Rising Asia Über die spezielle und die allgemeine Relativitätstheorie The Brothers K A Dog\\'s Journey: Another Novel for Humans Batman & Robin: Batman Reborn めるぷり メルヘン☆プリンス 1 La tabla de Flandes The Short Stories of F. Scott Fitzgerald Dark Angel Star Wars: Specter of the Past Black Lies What The Dead Know Rome (Marked Men, #3) The Life and Opinions of Tristram Shandy, Gentleman The Passion of Artemisia Heal Your Body 東京ミュウミュウ (Tokyo Mew Mew) 1 The Miseducation of Cameron Post House of Many Ways The Cartel A Mother\\'s Reckoning: Living in the Aftermath of Tragedy Skin Tight Moonraker Two Treatises of Government Civil Disobedience and Reading Rose in Bloom Mosquitoland The Perfect Son Looking for Alibrandi Raid Fifth Grave Past the Light The Seventh Scroll A Midsummer\\'s Nightmare The Troop Revelation Cien sonetos de amor It\\'s In His Kiss Short Stories from Hogwarts of Power, Politics and Pesky Poltergeists Phänomenologie des Geistes The Neutronium Alchemist The Darkest Seduction King\\'s Cage ظل الأفعى Ten Things We Did (and Probably Shouldn\\'t Have)  Rebel Heart News of the World Blowback Jaya: An Illustrated Retelling of the Mahabharata Women of the Silk The Prisoner of Zenda Flutter Saving Faith The Spine of the World (Paths of Darkness #2) The Haunted Mask Tyrannosaur Canyon The Girl Before Wayside School Gets a Little Stranger Summer of Night Jim Butcher\\'s the Dresden Files: Storm Front Tourist Season السنجة 204 Rosewood Lane Unseen Double Star A Perfect Evil The Better Angels of Our Nature. Why Violence has Declined When We Were Very Young My Sunshine Away Filosofi Kopi: Kumpulan Cerita dan Prosa Satu Dekade Sinuhe egyptiläinen  Great House The Kept Woman Maid for Love (Gansett Island Series, #1) And the Shofar Blew Prentice Alvin (Tales of Alvin Maker #3) 44 Scotland Street Chill Factor Odd and the Frost Giants موسم الهجرة إلى الشمال The Golden Notebook The Last Full Measure Post Captain Dragon Flight (Dragon Slippers, #2) What Katy Did   Homer Price Shatterglass The Belgariad: Part One - Pawn of Prophecy / Queen of Sorcery / Magician\\'s Gambit The Lucifer Effect: Understanding How Good People Turn Evil The Scent of Rain and Lightning Pacific Vortex! One More Chance Aurora Purity in Death The Hollow Hills Among the Brave (Shadow Children, #5) Marching Powder: A True Story of Friendship, Cocaine, and South America\\'s Strangest Jail マース (Mars) #1 Six Easy Pieces: Essentials of Physics Explained by Its Most Brilliant Teacher Crisis on Infinite Earths The Areas of My Expertise Hogwarts: An Incomplete and Unreliable Guide Ronja Rövardotter Spider Bones No Talking Blod på snø Wait for Me The Garden of Evening Mists 紳士同盟† 1 Dark Guardian Prophet The Wicked Will Rise Citizen: An American Lyric Carry On, Jeeves The Magic Thief I, Elizabeth The Woman who Stole my Life Pyongyang Night over Water I Am Having So Much Fun Here Without You All I Want Is Everything Adulthood Is a Myth: A \"Sarah\\'s Scribbles\" Collection The Darkness That Comes Before The Dirty Life: On Farming, Food, and Love Dust & Decay Alienated Bone Gap Big Cherry Holler (Big Stone Gap, Book 2) Teen Idol The Thing Around Your Neck Caraval Bright Shiny Morning The Story of an Hour Rabbit Is Rich Lots of Candles, Plenty of Cake Scars The Fixer Upper Negeri 5 Menara An Army at Dawn: The War in Africa, 1942-1943 Ricochet Can\\'t Wait to Get to Heaven Among Others Seduction in Death Double Indemnity Upon the Midnight Clear Bone: Quest For The Spark, Book One  No Mercy The Library at Mount Char Fire Star The Vor Game Broken Monsters The Journals of Sylvia Plath This is Water The Sweet Potato Queens\\' Book of Love Mastiff Divine Misdemeanors  Sweetheart Caim All Tomorrow\\'s Parties The Quantum Thief Logisch-Philosophische Abhandlung Lord Edgware Dies Batman (Volume 2): Hush Dog on It And to Think That I Saw It on Mulberry Street The Bully Pulpit: Theodore Roosevelt, William Howard Taft, and the Golden Age of Journalism Chasing the Prophecy (Beyonders, #3) Dragon\\'s Oath Grave Witch Sleeping Murder Ethan Frome and Other Short Fiction The Assassin and the Desert On the Genealogy of Morals / Ecce Homo Adrift: Seventy-Six Days Lost at Sea Once and Always Bloodline Death of Kings Onward: How Starbucks Fought for Its Life without Losing Its Soul Auschwitz: A New History The Long Walk: The True Story of a Trek to Freedom Three Fates Passenger Born in Death (In Death, #23) Close Your Eyes, Hold Hands A Pocket Full of Rye of course i love you The Algebraist Meu Pé de Laranja Lima Stone Mattress Rebel Spring NYPD Red 2 Chesapeake Devil in a Blue Dress Lady Audley\\'s Secret Todos os Nomes Lucia, Lucia Tiger Lily Return The Ruby in the Smoke Georgiana: Duchess of Devonshire Stealing Parker Fables, Volume 5: The Mean Seasons Dom Casmurro The Illuminatus! Trilogy Lockdown The Final Solution: A Story of Detection International Flavor Lost Souls The Way of Zen Nexus Nora Webster Requiem (Providence #2) The Emperor\\'s Tomb Fear Nothing Baking: From My Home to Yours For You ラブ★コン 1 Elephants Can Remember What to Expect the First Year The Lions of Little Rock Self Matters: Creating Your Life from the Inside Out ヘタリア 1 Axis Powers Timeless How Google Works Killing Sarai The Time of My Life Now We Are Six The Secret Circle: The Captive Part II and The Power Ladies\\' Night  Family Pictures Taken by Midnight (Midnight Breed, #8) Os Maias The Law of Moses Good as Gone Holding the Dream Mr. Darcy\\'s Diary L.A. Requiem Eventide Fahrenheit 451: The Authorized Adaptation スペシャル·エー オール・ユー・ニード・イズ・キル The Bronze Bow Essays in Love A Civil Action Grandfather\\'s Journey Savannah Blues Excavation Scarecrow Endlessly Living Buddha, Living Christ The Earthsea Trilogy Left Drowning A Sick Day for Amos McGee Fourth of July Creek Absolute Fear True Evil Tobacco Road The Suspicions of Mr. Whicher: Murder and the Undoing of a Great Victorian Detective Lord of Scoundrels Ozma of Oz The Johnstown Flood The Christmas Sweater Tales From a Not-So-Happy-Heartbreaker Deep Fathom The Gate House Stay with Me Seven Years to Sin Perfect Scoundrels When the Game Was Ours The Two Swords (Hunter\\'s Blades #3) The Blessing Way Another Piece of My Heart Stenhuggaren The Pigeon Wants a Puppy! The Road to Character El general en su laberinto La ciudad y los perros Amy & Matthew Die Again Witness Manwhore Absolution Gap The Faraway Tree Stories (The Enchanted Wood, The Faraway Tree, The Folk of the Faraway Tree) She Said Yes: The Unlikely Martyrdom of Cassie Bernall Scoop Tales of a Female Nomad: Living at Large in the World Birds of America: Stories Big Rock Three Dark Crowns Lunch in Paris: A Love Story, with Recipes Love and War  The Pale King 論語 [Lún Yǔ] I\\'m with the Band: Confessions of a Groupie Succubus Heat The Walking Dead, Vol. 9: Here We Remain Under Locke Il Gattopardo Wolverine: Origin Dawn  On the Prowl Silent Prey Battleaxe (The Axis Trilogy #1) الجزار A Tale Dark and Grimm The Ambassador\\'s Mission Everyman Supernova: Akar The Dice Man 黒執事 II [Kuroshitsuji II] Imperial Bedrooms Addicted to You Just One Night デスノート #4 (Desu Nōto) Koigokoro (恋心) The Daughter of Time Prince of Fire La lenteur The Autumn Republic  Delta of Venus Rainbows End The Friend Zone The Rose and the Thorn Сумеречный дозор Frostbitten Low Pressure عائد إلى حيفا Talon of the Silver Hawk The Charlemagne Pursuit The Moon Is Down Kaffir Boy: An Autobiography--The True Story of a Black Youth\\'s Coming of Age in Apartheid South Africa The Beginner\\'s Goodbye رباعيات صلاح جاهين The Love Song of J. Alfred Prufrock and Other Poems A Girl of the Limberlost The Witch with No Name The Wings of the Dove Twilight and History Lady Windermere\\'s Fan A Place Called Freedom Ensaio Sobre a Lucidez The Returned India After Gandhi: The History of the World\\'s Largest Democracy The Obstacle Is the Way: The Timeless Art of Turning Adversity to Advantage The Sight Bad for You The Secret River Gifted Hands: The Ben Carson Story The Little Old Lady Who Was Not Afraid of Anything The Apostle Born of the Night Murder Must Advertise Dead Heat Sheep in a Jeep The Way to Cook De toverspiegel van M.C. Escher ヴァンパイア騎士 9 The 22 Immutable Laws of Marketing: Violate Them at Your Own Risk! The Consolations of Philosophy Second Life The One Thing: The Surprisingly Simple Truth Behind Extraordinary Results  Reasonable Doubt: Volume 2 Joseph Had a Little Overcoat Double Act Princess Mia Flyy Girl A Cup of Friendship The Sandman: King of Dreams Stephen King\\'s N. By the Sword First Rider\\'s Call Paths of Glory Anyone But You  Owen The Long War Arrow\\'s Fall Street Magic The Curious Charms of Arthur Pepper Incarnate The Boy Who Harnessed the Wind: Creating Currents of Electricity and Hope Rumpelstilzchen The Goblin Emperor Mr. Kiss and Tell  A Higher Call: An Incredible True Story of Combat and Chivalry in the War-Torn Skies of World War II Job: A Comedy of Justice Chomp! The Sandman: The Dream Hunters The Stories of John Cheever The Odd Couple Phantoms in the Brain: Probing the Mysteries of the Human Mind Divided in Death (In Death, #18) La tregua We Never Asked for Wings Every Last Word Live from New York: An Uncensored History of Saturday Night Live Krakatoa: The Day the World Exploded: August 27, 1883  Airman 2BR02B An Anthropologist on Mars: Seven Paradoxical Tales Time for Bed Rapunzel Very Good Lives: The Fringe Benefits of Failure and the Importance of Imagination Only the Innocent The Walking Dead, Vol. 10: What We Become Area 7 A Better World Spindle\\'s End A Leaf on the Wind of All Hallows (Outlander, #8.5) Scoring Wilder باب الخروج: رسالة علي المفعمة ببهجة غير متوقعة I, Michael Bennett Clean Sweep Succubus Dreams  The Last Detective Vegan Cupcakes Take Over the World: 75 Dairy-Free Recipes for Cupcakes that Rule Hope Was Here May We Be Forgiven The Beauty Myth: How Images of Beauty Are Used Against Women Orvos voltam Auschwitzban Hot, Flat, and Crowded: Why We Need a Green Revolution--and How It Can Renew America The Saggy Baggy Elephant (Little Golden Book) L\\'Éducation sentimentale Legend of the Duck Commander Kambing Jantan: Sebuah Catatan Harian Pelajar Bodoh  Best Friends with a Self-Confessed Player Scent of Magic Taken Savannah Breeze Child of the Prophecy  Priestess of Avalon  The submissive Plateforme Contagious. Why Things Catch On. Disappearing Acts フルーツバスケット 7 What Every Body is Saying: An FBI Agent\\'s Guide to Speed-Reading People Finding the Dream Close Range: Wyoming Stories Sweeney Todd: The Demon Barber of Fleet Street (Applause Musical Library) Where You Are 沈黙 Numbers Reunion in Death Where Is God When It Hurts? The Mapping of Love and Death Born to Run Cold Fire Hidden Riches Visions of Heat Hidden Figures: The American Dream and the Untold Story of the Black Women Mathematicians Who Helped Win the Space Race Art of Seduction Kushiel\\'s Justice The Hydrogen Sonata The Orenda The Julian chapter Hallowe\\'en Party Never Have I Ever  Mistborn: Secret History The Sunday Philosophy Club  Visions in Death (In Death, #19) The Red Queen: Sex and the Evolution of Human Nature 彼氏彼女の事情 #1 Vision in Silver  The Finkler Question Imitation in Death Beaches Skellig An Enquiry concerning Human Understanding I Heard That Song Before The Book with No Pictures The Hungry Tide Crow Lake Don\\'t Let Me Go Ceremony The Paper Girls - Vol 1 The Breadwinner The Wanderer A Year in the Merde The Hurricane Sisters  Les Damnés de la terre Deep Six Secrets of the Vine: Breaking Through to Abundance City of Stairs Into the Land of the Unicorns Girls Night In All Marketers Are Liars: The Power of Telling Authentic Stories in a Low-Trust World Black Sun Rising Le Misanthrope ou L\\'Atrabilaire Amoureux The Belgariad Boxed Set: Pawn of Prophecy, Queen of Sorcery, Magician\\'s Gambit, Castle of Wizardry, & Enchanters\\' End Game (The Belgariad, #1-5) The Temple of My Familiar Envy (Fallen Angels, #3) Four: The Son Seduce Me at Sunrise The Problem with Forever Holding Up the Universe The Double Helix: A Personal Account of the Discovery of the Structure of DNA Cook with Jamie Dune: House Harkonnen Dream Warrior Strength in What Remains The Lord God Made Them All ... Then He Ate My Boy Entracers 1Q84 Books 1-2 Absent in the Spring  Fish In A Tree The Inn At Rose Harbor Lady Almina and the Real Downton Abbey: The Lost Legacy of Highclere Castle Dies the Fire  Another Brooklyn Beneath a Marble Sky The Face of Fear Cosmopolis Very Valentine Fables, Volume 8: Wolves Light A Penny Candle Dark Demon (Carpathians, #16) The Walking Dead, Vol. 14: No Way Out  The Walking Dead. Book Two Le cosmicomiche Way Station My Soul to Keep The Return of the Prodigal Son: A Story of Homecoming Someone To Love The Lions of Al-Rassan Such a Pretty Girl Scruples Prayers for Sale What We Keep  Intet Sleeping Beauty Box Set 100 Bullets, Vol. 1: First Shot, Last Call (100 bullets, #1) Innocence Lost (Kingmaker, Kingbreaker, #2) A Ring of Endless Light (Austin Family, #4) How to Save a Life The Five Greatest Warriors Brotherhood in Death Arrow\\'s Flight (Heralds of Valdemar, #2) The Tail of Emily Windsnap Blackout: Remembering the Things I Drank to Forget The Invaders The Absolute Sandman, Volume One Dicey\\'s Song (Tillerman Family, #2) The Walking Dead. Book Three 砂の女 [Suna no onna] La tía Julia y el escribidor Transmetropolitan, Vol. 3: Year of the Bastard A Severe Mercy 1493: Uncovering the New World Columbus Created The Madness of Lord Ian Mackenzie Point of Impact Children of God The Mediterranean Caper The Forest House Certain Prey Undead and Unreturnable Dawn on a Distant Shore The Danish Girl Brave New World Revisited  Histoire d\\'O Forest Mage Hidden  Eye of the Storm Nikola Tesla: Imagination and the Man That Invented the 20th Century How to Be Popular Omertà Unraveling The Tiger Rising Magic\\'s Price After the Funeral  デスノート #8 (Desu Nōto) Mato (的) Manufacturing Consent: The Political Economy of the Mass Media Pippi Långstrump i Söderhavet Endless Knight  Shadow & Claw Parmi les dix milliers de choses The Great Shark Hunt: Strange Tales from a Strange Time The Complete Poems: Anne Sexton 2312 Tears of a Tiger Altar of Eden 桜蘭高校ホスト部 2 The Problem Child Washington\\'s Crossing Shalimar the Clown Desert Flower: The Extraordinary Journey of a Desert Nomad First Strike Broken Silence Batman Chronicles: Volume 1 Waterfall The Love Song of Miss Queenie Hennessy Morgawr  September The Last Question (When the World Ends) Henderson the Rain King Fear of Flying Red Riding Hood Stay Hungry Stay Foolish The Giraffe and the Pelly and Me Shotgun Lovesongs The Death of Kings (Emperor, #2) French Women Don\\'t Get Fat A Certain Slant of Light The Bone Tree False Impression I Wrote This For You Barefoot in Paris The Unwanted Wife Royally Screwed Splendor The Professor Drink Deep (Chicagoland Vampires, #5) رجال في الشمس Den lille havfrue Big Boned (Heather Wells, #3) The Subterraneans The Tale of Three Trees: A Traditional Folktale Sin City: The Big Fat Kill The Moving Finger Hornet\\'s Nest The Sacred Romance Drawing Closer To The Heart Of God There\\'s a Boy in the Girls\\' Bathroom Crash Into You Colonel Roosevelt Star Wars: Vision of the Future 1Q84 Book 2 [Ichi-kyū-hachi-yon] How to Be Both The Woodlanders While My Sister Sleeps Gold Wondrous Strange Livro do Desassossego Batman: Earth One, Volume 1 Undead and Unappreciated Blue Labyrinth Malcolm X: A Life of Reinvention Mutant Message Down Under Ashes of Midnight Once Upon a Crime Keys to Drawing Fables, Volume 9: Sons of Empire Embrace the Night The Ipcress File واحة الغروب The Third Policeman Tea Time for the Traditionally Built Starlight (Warriors: The New Prophecy, #4) Feral Sins Tintin au pays des Soviets Flash and Bones Eileen Creation in Death  Llama Llama Mad at Mama Cop Town Lon Po Po The Blood of Flowers Five Children and It  2 ضباط Flood Tide (Dirk Pitt, #14) This Savage Song Bloodlust The Unexpected Everything Exit to Eden Percy Jackson: The Ultimate Guide Alif the Unseen Hothouse Flower The Bird and the Sword The Black Unicorn  The Awakening and Selected Short Stories The Crossing Places Peak Steget efter Sovereign  Batman: Batman and Son On Food and Cooking: The Science and Lore of the Kitchen In Bed with a Highlander The Confessions of Nat Turner Please Stop Laughing at Me... One Woman\\'s Inspirational Story A Girl Like You The Android\\'s Dream Cuentos de Eva Luna Awakening the Buddha Within : Tibetan Wisdom for the Western World Long Time Coming Story of a Girl High Heat Delusion in Death Field of Dishonor Save the Date Oracle Night Time and Again One Lavender Ribbon  Run Baby Run Fences (The Century Cycle #6) Tortured for Christ The Two-Family House Miracles: A Preliminary Study Dear Daughter The Mermaid\\'s Sister The Inimitable Jeeves  Dragons of Summer Flame The Secret Speech Un Lun Dun デスノート #5 (Desu Nōto) Hakushi (白紙,)  Heat Rises Homicide: A Year on the Killing Streets Mrs. Mike A Work in Progress The Enchanted The Left Hand of God  How to Love Paris to the Moon You Against Me A Dog\\'s Life: Autobiography of a Stray The Will of the Empress The Secret Race: Inside the Hidden World of the Tour de France: Doping, Cover-ups, and Winning at All Costs Dr. No El juego de Ripper ماهی سیاه کوچولو Fifth Business Hello, Cupcake!: Irresistibly Playful Creations Anyone Can Make Nights of Rain and Stars Wife by wednesday The  Bedside, Bathtub and Armchair Companion to Agatha Christie Shadow\\'s Claim (The Dacians, #1) Glitter and Glue A Night to Remember The Lonely Polygamist Stormy Weather That Old Cape Magic The Darkest Hour The Devil All the Time A Long Way Home İstanbul: Hatıralar ve Şehir The Second Assistant: A Tale from the Bottom of the Hollywood Ladder The Life and Adventures of Martin Chuzzlewit Darkness, Be My Friend UR Tales of the South Pacific A Bend in the River Evicted: Poverty and Profit in the American City The Assassin and the Empire Misbehaving The Invisible Library Saint Maybe Harry, A History: The True Story of a Boy Wizard, His Fans, and Life Inside the Harry Potter Phenomenon Marcelo in the Real World The Green Mile, Part 4: The Bad Death of Eduard Delacroix Daun Yang Jatuh Tak Pernah Membenci Angin Alcatraz Versus the Evil Librarians Darth Vader and Son Darwin\\'s Dangerous Idea: Evolution and the Meanings of Life Pani Jeziora Palace of Stone Hausfrau Truthwitch 1421: The Year China Discovered America A Wrinkle in Time: The Graphic Novel Heartburn Tigers in Red Weather Hornet Flight Den vita lejoninnan Elven Star (The Death Gate Cycle, #2) Flight: A Novel Philosophische Untersuchungen Endure  Kaleidoscope Hearts Enemy of God Mud Vein Our Dumb Century: The Onion Presents 100 Years of Headlines from America\\'s Finest News Source Ice Hunt Strange Candy First Among Equals Black Holes and Baby Universes and Other Essays The Chronicles of Thomas Covenant, the Unbeliever The Story of Philosophy The Gnostic Gospels The Gods of Mars The Survivor An Untamed State Diagnostic and Statistical Manual of Mental Disorders DSM-IV-TR (Text Revision) A Monstrous Regiment of Women Alvin Journeyman (Tales of Alvin Maker #4) Rose Under Fire よつばと! 1 Black Elk Speaks The Accidental Billionaires: The Founding of Facebook: A Tale of Sex, Money, Genius and Betrayal The Sleeping Doll Dark Legend Batman Hush #1 One Breath Away The Devil\\'s Punchbowl Empress of the World Welcome to the Jungle The Red Garden Le Roi Babar Ungifted The Final Detail Olympos A History of the World in 6 Glasses The Widow of the South The Magician\\'s Elephant Back When We Were Grownups The Dead قمر على سمرقند The Lost Saint Relentless Taliesin. Book I of the Pendragon Cycle المرحوم The Memory of Earth Wench Curse the Dawn Where There\\'s Smoke Jack: Straight from the Gut The Missing Piece Meets the Big O Život je jinde Wicked Nights Six\\'s Legacy Magic\\'s Promise Coming Home Glorious Appearing: The End of Days ليتها تقرأ Silken Prey Hotel du Lac The Ghost Road The Tragedy of Puddn\\'head Wilson If You Find Me Native Tongue The Persian Pickle Club My Soul to Save The Relatives Came What I Loved Maryamah Karpov: Mimpi-mimpi Lintang Tilt The Element: A New View of Human Capacity The Secret Chord A Different Blue Downtown Owl The Flood Antrax Sailing Alone Around the Room: New and Selected Poems Once Into the Deep Mirror Dance Agnes and the Hitman Logicomix: An Epic Search for Truth HHhH Stone Cold Touch The Life List The Rising Buddenbrooks: Verfall einer Familie Дядя Ваня The Christmas Wedding The Lost Years of Merlin Storm Glass The Sea, the Sea Among the Enemy (Shadow Children, #6) Battlefield Earth: A Saga of the Year 3000 I\\'ll Be Seeing You My Year of Meats Fledgling At Peace The House of God Nefes Nefese Echo Архипелаг ГУЛАГ, 1918-1956 Commencement The Bar Code Tattoo (Point Thriller) MacRieve Oogy: The Dog Only a Family Could Love American Tabloid The Fallen and Leviathan (The Fallen, #1-2) Memorial do Convento Serafina and the Black Cloak Star Wars: From the Adventures of Luke Skywalker Summer House Stupeur et tremblements Summer and the City The Stone Monkey Origin in Death The First Part Last The Invisible Gorilla Prior Bad Acts Firestar\\'s Quest This is Not My Hat I Will Teach You To Be Rich Radiant Angel The Queen\\'s Poisoner Rejoice Physics of the Future: How Science Will Shape Human Destiny and Our Daily Lives by the Year 2100  The Naturals Brandvägg Tales From the Hood Mutiny on the Bounty ラブひな #1 The Wretched of Muirwood Gentle Rogue The Shepherd\\'s Crown Mary Barton Nostromo: a Tale of the Seaboard The Plum Tree The Crown Conspiracy Styxx Eugénie Grandet Grafarþögn The Catastrophic History of You and Me Girl, Stolen Leven Thumps and the Eyes of the Want (Leven Thumps, #3) Killing Reagan The girl who was on fire A Bargain for Frances Calculated in Death The Argonauts Gonzo: The Life of Hunter S. Thompson The Last Painting of Sara de Vos The Sister Duck On A Bike The Collaborator The Shadow Throne Memórias Póstumas de Brás Cubas This Body of Death Emily Climbs Kushiel\\'s Mercy Shadows in Flight Burn For Me Chasing Darkness ttyl (Internet Girls, #1) ヴァンパイア騎士 4 Train Dreams Mouse Paint Art in Theory, 1900-2000: An Anthology of Changing Ideas Un livre The Killing (Cherub #4) Darkest Fear The Lady of Shalott John Constantine, Hellblazer: Volume 1: Original Sins Dawn of Wonder Celebrity in Death Die 13½ Leben des Käpt\\'n Blaubär  The Snowman Just One Drop Rough Country Rabbit Redux Ross Poldark Orphan X The Look of Love Blockade Billy The Matlock Paper Breakfast with Buddha De vita Caesarum  حوجن Sharpe\\'s Rifles Vector Prime (Star Wars: The New Jedi Order, #1) Touching Darkness (Midnighters, #2) Revenge of the Spellmans Gaudy Night Kings Rising Rival Mortal Engines Private London Blood Cross Spying in High Heels The Lady in the Lake River of Blue Fire The Wind Singer The End of Mr. Y. Gentlemen of the Road Those Guys Have All the Fun: Inside the World of ESPN Big Fish: A Novel of Mythic Proportions Breakable The Death of Bees Black Dawn Parable of the Talents Locke & Key, Vol. 6: Alpha & Omega Dark Star Safari  Crystal Singer The Assassin and the Underworld Star Wars: Darth Plagueis The Rainbow Comes and Goes: A Mother and Son On Life, Love, and Loss Underground Airlines Raven Black Having Our Say: The Delany Sisters\\' First 100 Years Lush Life What\\'s Eating Gilbert Grape Curtsies & Conspiracies More Tales of the City Thérèse Raquin The Billionaire\\'s Obsession ~ Simon Behind Her Eyes The King in Yellow H.M.S. Surprise  The Virtue of Selfishness: A New Concept of Egoism Twenty Wishes Through Black Spruce One Good Dog Sexing the Cherry The Murderer\\'s Daughters Strangers in Death  The Archived Glengarry Glen Ross The Sound of Gravel The Complete Adventures of Peter Rabbit Hostage to Pleasure Random Family: Love, Drugs, Trouble, and Coming of Age in the Bronx Воскресение Hard Magic Fated Instructions for a Heatwave Victims Old School Evelyn, After The Skin I\\'m In The Eye of God: A Sigma Force Novel An Artist of the Floating World Nachtzug nach Lissabon Romancing the Duke The Man With a Load of Mischief (Richard Jury Mystery, #1) The Underworld The Path Between the Seas: The Creation of the Panama Canal, 1870-1914 LaRose Before we met Waiter Rant: Thanks for the Tip-Confessions of a Cynical Waiter Two Ravens and One Crow The Black Arrow: A Tale of the Two Roses Dead or Alive Fallen Hearts (Casteel, #3) Dragon Prince The Burning Wire River, Cross My Heart Lies Women Believe: And the Truth that Sets Them Free To Build a Fire The 158-Pound Marriage Free: The Future of a Radical Price Palestine Dear Theo: The Letters of Vincent Van Gogh One Hundred Names The Ghost Bride The Phantom Menace Girls in Love The Creative Habit: Learn It and Use It for Life  رأيت رام الله A Beautiful Dark  Lady of Avalon Threat Vector Miles: The Autobiography The Castle In The Attic (The Castle In The Attic, #1) Does the Noise in My Head Bother You? The Sworn Sword The Broken Window Beautiful Secret Три сестры Full Tilt Beat the Reaper Dune: The Machine Crusade  Devil\\'s Game The Keeping Flesh and Blood Where\\'s Spot?  Cocky Bastard Out to Canaan (Mitford) The Dangerous Days of Daniel X Prom and Prejudice Strip Tease Jedi Search (Star Wars: The Jedi Academy Trilogy, #1) Showdown by Ted Dekker Signature Edition Thankless in Death  雪国  Chromosome 6 Big Trouble Записки из Мёртвого дома Stunning (Pretty Little Liars, #11) The Howling Sign of the Unicorn Scat Life after God The City of Falling Angels Autumn in Paris Hot Water Music Warlock: A Novel of Ancient Egypt Wisdom Defy Maitreyi The Misremembered Man  Carter Beats the Devil Histoire de l\\'oeil Knit Two In the Night Kitchen Will You Please Be Quiet, Please? Eternal Rider Relato de un náufrago Concealed in Death Mind Prey Planetary, Volume 1: All Over the World and Other Stories Stolen Songbird The Green Mile, Part 2: The Mouse on the Mile A Cry in the Night Assata: An Autobiography Days of Magic, Nights of War The Three Billy Goats Gruff True Love Story Der Mondscheingarten True Compass: A Memoir Diamonds are Forever Hidden Bodies Passing InterWorld The Realm of Possibility The Invisible Wall: A Love Story That Broke Barriers The Replacement The Information: A History, a Theory, a Flood The High Window Affliction Wildest Dreams Sudden Prey Mark of the Lion Trilogy Mrs. Piggle-Wiggle\\'s Magic The Mermaids Singing  The Weight of Glory Sanctuary Sunset Express The Bourbon Kings On Her Majesty\\'s Secret Service Women Who Love Too Much There Are No Children Here: The Story of Two Boys Growing Up in the Other America At Bertram\\'s Hotel Happily Ever After The Great Brain The Fire Eternal The Commitments What My Mother Doesn\\'t Know Angelology Wiseguy: Life in a Mafia Family Transmetropolitan, Vol. 5: Lonely City Benediction  سمفونی مردگان After the Night  Evil at Heart The Bookseller The Thousand Names Beautiful Burn フルーツバスケット 2 Misquoting Jesus: The Story Behind Who Changed the Bible and Why Wait for It The Other Wind The Paris Vendetta Moriarty Blood Memory After I\\'m Gone Shadows of the Workhouse: The Drama of Life in Postwar London Ensemble, c\\'est tout One Up On Wall Street : How To Use What You Already Know To Make Money In The Market Against a Dark Background I Still Dream About You A Modest Proposal and Other Satirical Works Mutter Courage und ihre Kinder Up From the Grave  Sun and Moon, Ice and Snow The Blood Mirror Galveston We the Animals Breaking the Spell: Religion as a Natural Phenomenon The Faerie Queene Her Daughter\\'s Dream The Fuck-Up MEG: A Novel of Deep Terror Seeing Redd Appointment in Samarra Each Peach Pear Plum The Freedom Writers Diary: How a Teacher and 150 Teens Used Writing to Change Themselves and the World Around Them The Post-American World 2.0 Them: Adventures with Extremists The Ladies of Grace Adieu and Other Stories Red Notice: A True Story of High Finance, Murder, and One Man’s Fight for Justice Forgotten Lady Cottington\\'s Pressed Fairy Book That Night Salmon Fishing in the Yemen The Rest Is Noise: Listening to the Twentieth Century Something Like Normal No Place to Hide: Edward Snowden, the NSA, and the U.S. Surveillance State Pastwatch: The Redemption of Christopher Columbus The Next Accident دیوان\\u200e\\u200e [Dīvān] Zita the Spacegirl Paradiso Restless Pulled Willing Captive The Sweet Life in Paris: A Recipe for Living in the World\\'s Most Delicious City Talon Radiance The Red House Twelfth Grade Kills Ice Station Zebra A. Lincoln: A Biography Four Great Tragedies: Hamlet, Othello, King Lear, Macbeth (Signet Classics) Ain\\'t She Sweet? Bruiser Falling Free The Cold Moon The Moor\\'s Last Sigh The Dressmaker of Khair Khana: Five Sisters, One Remarkable Family, and the Woman Who Risked Everything to Keep Them Safe The Shawshank Redemption The Case-Book of Sherlock Holmes Ghostgirl I\\'ve Got You Under My Skin Fables, Volume 10: The Good Prince Red Phoenix Never Look Away Your Heart Belongs to Me Shadow Fires Victory of Eagles (Temeraire, #5) The Blood Gospel: The Order of the Sanguines Series I Am Not Myself These Days Bones Are Forever Deerskin Dispatches Handen Sleepers Das Kunstwerk im Zeitalter seiner technischen Reproduzierbarkeit Pretend You Don\\'t See Her Going Rogue: An American Life The Monstrumologist The Path to Power Intertwined In Watermelon Sugar My Life with the Walter Boys Burning For Revenge Love You to Death: The Unofficial Companion to The Vampire Diaries Hourglass August: Osage County Mountain of Black Glass Lost The Prestige Angels in America:  A Gay Fantasia on National Themes Anil\\'s Ghost Winter Moon The Will A Grimm Warning The Billionaire Wins the Game Never Love a Highlander The Pragmatic Programmer: From Journeyman to Master Supernova: Petir Babylon\\'s Ashes Wrong Bed, Right Guy Drop City Y: The Last Man - The Deluxe Edition Book One Candy Girl حول العالم في 200 يوم Alert The Painter Close Encounters of the Third Kind The Vampire Chronicles Hot Ticket Zami: A New Spelling of My Name Hafalan Shalat Delisa Sixth Grave on the Edge The Submission The Lord of the Rings Sketchbook Glimmerglass Don\\'t Blink The Shadows Over Innsmouth The Tin Roof Blowdown The Death of Bunny Munro Flat Stanley Winter\\'s Passage (Iron Fey, #1.5) Rosemary: The Hidden Kennedy Daughter Faith Bite Me If You Can Moonlight Becomes You A Corner of the Universe The Ice Queen The Folk of Faraway Tree City on Fire Princess of Glass The Last Dragonslayer Orientalism Friends and Lovers Molly Moon\\'s Incredible Book of Hypnotism 31 Songs Luck in the Shadows The Lemonade War The Knight at Dawn (Magic Tree House, #2) Winter in Tokyo デスノート #6 (Desu Nōto) Kōkan (交換) The Lightning Thief: The Graphic Novel Shoeless Joe When Crickets Cry This Changes Everything: Capitalism vs. The Climate Aloha from Hell A Walk Across America Try Me All Souls: A Family Story from Southie The Bad Seed  Connected Angel Fire Growing up Amish Sweet Addiction Bomb: The Race to Build—and Steal—the World\\'s Most Dangerous Weapon Maximum City: Bombay Lost and Found The Last Wife of Henry VIII The Complete Tales and Poems of Edgar Allan Poe Gideon\\'s Sword A Caribbean Mystery When Christ and His Saints Slept Great North Road Superman for All Seasons Retribution Glue Unhinged How to Fall in Love Until You The Shadowhunter\\'s Codex Tennis Shoes Among the Nephites (Tennis Shoes, #1) Blue Is for Nightmares Three Complete Novels: Carrie/Salem\\'s Lot/The Shining Personal Demon The Way of Kings, Part 1 The Christmas List How to Make Love Like a Porn Star: A Cautionary Tale Dark Days The Green Mile, Part 3: Coffey\\'s Hands Jacob Clifford\\'s Halloween (Clifford) Lyra\\'s Oxford If I Die (Soul Screamers, #5) Private Berlin The Other Daughter Amazing Grace Slammerkin About That Night 桜蘭高校ホスト部 3 On the Night You Were Born Legion: Skin Deep Insatiable Where I Belong Back on Blossom Street Le Voyage d’Hector ou la recherche du bonheur Between, Georgia Faking It  アンダーグラウンド [Andāguraundo] The Twentieth Wife Split Infinity (Apprentice Adept, #1) Sex God: Exploring the Endless Connections Between Sexuality And Spirituality A Vintage Affair The Buddha of Suburbia The Voice of the Night  The Girl from Krakow Justice: What\\'s the Right Thing to Do? 13 Hours: The Inside Account of What Really Happened In Benghazi Succubus Shadows  Roses Letter to My Daughter The Post-Birthday World  The Man Who Walked Between the Towers O Homem Duplicado Thorn Queen Lost & Found Blackberry Winter An Acceptable Time (Time Quintet, #5) The Third Secret Love Bites Hard Choices Batman: No Man\\'s Land, Vol. 1 Half Blood Blues The Kindness of Strangers Emmy & Oliver The Sculptor Roller Girl The Best Nest Day By Day Armageddon: Beyond Exile  Braveheart Fables, Volume 7: Arabian Nights (and Days) Fugitive Pieces The Cobra Event Everbound The Hole in Our Gospel: What does God expect of Us?  The Answer that Changed my Life and Might Just Change the World Ghost Wars: The Secret History of the CIA, Afghanistan, and Bin Laden, from the Soviet Invasion to September 10, 2001 La vida del Lazarillo de Tormes y sus fortunas y adversidades  The Midwich Cuckoos Smoke Screen The Fourteenth Goldfish Libra  The Honourable Schoolboy Renegade\\'s Magic The Tenth Insight  The Interpretation of Murder Superman: Birthright 1-12 Curious George Visits the Library Arthur & George Sins & Needles Eine kurze Weltgeschichte für junge Leser: Von der Urzeit bis zur Gegenwart Fire Burn and Cauldron Bubble フルーツバスケット 4 بين القصرين First to Kill  If Life Is a Bowl of Cherries—What Am I Doing in the Pits? Vagabond Sometimes Never The Mystery Knight Double Time The Magic (The Secret #3) Too Busy Not to Pray: Slowing Down to Be With God Indignation Open City My Story: \"A Child Called It\", \"The Lost Boy\", \"A Man Named Dave\" Witches of East End All He Ever Wanted Worth the Fight Rose Daughter Fools Rush In (Weddings by Bella, #1) The Pagan Lord The North Water The Forge of God Hidden Order Ἀγαμέμνων Staked Sweet Persuasion (Sweet Series, #2) Redeemed Do No Harm: Stories of Life, Death and Brain Surgery Jennifer Government Dark Destiny (Carpathians, #13) Batman: The Dark Knight Strikes Again Me: Stories of My Life The Now Habit: A Strategic Program for Overcoming Procrastination and Enjoying Guilt-Free Play After Ever Happy The Auschwitz Escape Made in America: An Informal History of the English Language in the United States Das Drama des begabten Kindes und die Suche nach dem wahren Selbst: eine Um- und Fortschreibung The Case of Charles Dexter Ward Soon I Will Be Invincible Paint It Black Ever After Mythologies Περὶ ποιητικῆς The Dark Is Rising Sequence (The Dark Is Rising, #1-5) Saint Grundlegung zur Metaphysik der Sitten Crimson Shore More Than Human The Healer 桜蘭高校ホスト部 15 Naiv.Super. キスよりも早く1 The Noticer: Sometimes, all a person needs is a little perspective. Under The Net Lenobia\\'s Vow Artemis Fowl Boxed Set (Artemis Fowl, #1-5) The Lewis Man The Elves of Cintra  Priestess of the White The Gemini Contenders The Field of Swords (Emperor, #3) Final Jeopardy The Haunted Tell Me Three Things The It Girl (It Girl, Book 1) Single White Vampire Call Me Irresistible Who Will Cry When You Die? Life Lessons from the Monk Who Sold His Ferrari Promise Not to Tell A Modern Witch The Traveler\\'s Gift: Seven Decisions that Determine Personal Success Shine Not Burn Darth Paper Strikes Back The Girl in the Steel Corset Gut gegen Nordwind My Brother Sam Is Dead Dream Man Rubicon: The Last Years of the Roman Republic The Green Mile, Part 6: Coffey on the Mile Nice Girls Don\\'t Have Fangs (Jane Jameson, #1) Belinda When Beauty Tamed the Beast My Friend Dahmer The Lion\\'s Lady Heart on a Chain The Sheep-Pig Wishin\\' and Hopin\\': A Christmas Story Dream Team Influencer: The Power to Change Anything The Hand of Oberon - The Courts of Chaos  No Place to Run The Dragonslayer (Bone, #4) A Week to Be Wicked Claimed By Shadow Meet Samantha: An American Girl (American Girls: Samantha, #1) The Secret Scripture Batwoman: Elegy When the Emperor Was Divine Foreplay Night Prey Clouds of Witness Body Movers  Lincoln in the Bardo Zero History Sophie & Carter Small Steps The Wicked Girls Agents of Light and Darkness Stand on Zanzibar Homer\\'s Odyssey  Sad Cypress Avatar: Last Airbender v. 1 (Avatar (Graphic Novels)) Five Go to Smuggler\\'s Top Indemnity Only Five Run Away Together The Promise A Redbird Christmas The Haj The Darkest Road Rogues Bound by Honor Deeper than Midnight Mercy Blade Skippyjon Jones in Mummy Trouble (Skippyjon Jones) Daily Rituals: How Artists Work The Boy Who Came Back from Heaven An Incomplete Revenge The Night Sister Tales from Earthsea El ruido de las cosas al caer Ashley Bell Johnny Mnemonic Rogue Squadron Amusing Ourselves to Death: Public Discourse in the Age of Show Business Nerilka\\'s Story (Pern: Dragonriders of Pern, #5) Hairy Maclary from Donaldson\\'s Dairy Wonderful Tonight: An Autobiography The Obituary Writer Tunnels The Beatles: The Biography Hulk: Planet Hulk Rumors of War (Children of the Promise, Vol 1) Journal 64 بضع ساعات في يوم ما The Single Girl\\'s To-Do List Rama Revealed: The Ultimate Encounter The Redhead Revealed Clariel: The Lost Abhorsen Death at La Fenice The Big Nowhere Dibs in Search of Self: Personality Development in Play Therapy フルーツバスケット 14 Hawkeye, Volume 2: Little Hits Příliš hlučná samota The Complete Wreck (A Series of Unfortunate Events, Books 1-13) Pebble in the Sky Too Good To Be True Ultimate Spider-Man, Volume 1: Power and Responsibility Mortal Prey One, Two, Buckle My Shoe Gemina Staying Fat for Sarah Byrnes Lorna Doone: A Romance of Exmoor Maktub Head Over Heels (Lucky Harbor, #3) Adam The Clocks The one I left behind Tao of Pooh and Te of Piglet Boxed Set Manga Classics: Les Misérables The Orc King The Dolphins of Pern Any Human Heart The Abduction Die Henkerstochter und der König der Bettler (Band 3 aus der Reihe \"Die Henkerstochter-Saga\") La Carte et le territoire Festive in Death Rainbow Boys A Bite to Remember Paganinikontraktet The Reef They Do it with Mirrors 5 Very Good Reasons to Punch a Dolphin in the Mouth (and Other Useful Guides) Just a Mess (Look-Look) The Gods of War The Last Time We Say Goodbye Christ the Lord: Out of Egypt The Obelisk Gate Reasons To Stay Alive  The Children\\'s Book The Shadowy Horses Joey Pigza Swallowed the Key (Joey Pigza Books) Among the Mad شكلها باظت Olivia Joules And The Overactive Imagination Johannes Cabal the Necromancer The Way the Crow Flies イン ザ・ミソスープ Counterfeit Gods: The Empty Promises of Money, Sex, and Power, and the Only Hope That Matters Red Sparrow Operation Mincemeat: The True Spy Story That Changed the Course of World War II Beyond Band of Brothers: The War Memoirs of Major Dick Winters Beautiful You The Locket Shadows Linger Altered Obsession in Death Agatha Raisin and the Quiche of Death Marvelous Land of Oz, The Reservation Blues フルーツバスケット 15 Plenty Agent to the stars The First Confessor In der Strafkolonie The Beet Queen The Wave \"...And Ladies of the Club\" Secondhand Souls The Cinderella Murder  La vie de Gargantua et de Pantagruel When Will Jesus Bring the Pork Chops? The Last Werewolf 進撃の巨人 悔いなき選択 1 What\\'s the Matter with Kansas? How Conservatives Won the Heart of America شاب كشك في رحلة البحث عن الجادون Kitty Goes to Washington Reasonable Doubt: Volume 3 Riding the Bullet Нос Kitty and the Silver Bullet La Société du Spectacle SilverFin Attack of the Deranged Mutant Killer Monster Snow Goons: A Calvin and Hobbes Collection Crewel The Hate U Give المانيفستو Keep Holding On The Private Patient Flag in Exile The medium is the massage The Chronicles of Pern: First Fall ベルセルク 1 The Autograph Man My Soul to Steal On the Way to Wedding The Rogue The Seven Storey Mountain The Keep Scaredy Squirrel Gathering Darkness The Survivors Club Star Wars: The Force Awakens Sugar and Spice (L.A. Candy #3) Grave Dance  ソウルイーター 2 Z for Zachariah Await Your Reply Superman: Whatever Happened to the Man of Tomorrow? Track of the Cat The Mane Event Lawrence in Arabia Singularity Sky The White Rose \"حكايات فرغلي المستكاوي \"حكايتى مع كفر السحلاوية All Fall Down La Chartreuse de Parme Little Mercies The Faithful Spy Snowflake Bentley (Caldecott Medal Book) The Book of Luke Fame To Challenge a Dragon Bad Romeo Day After Night High Druid of Shannara, vol. 1: Jarka Ruus Look Homeward, Angel Cradle to Cradle: Remaking the Way We Make Things Healthy Sleep Habits, Happy Child Transmetropolitan Vol. 4: The New Scum The Hand That First Held Mine The Fourth Estate The Man Who Listens to Horses Oblivion The Holy Blood and the Holy Grail Falling Man Endgame: The Calling Mystery  The Sea of Trolls Kinesen Day 21 Daisy Fay and the Miracle Man Against All Enemies The Girl in the Red Coat Keep the Aspidistra Flying The Gate Thief My Lady Jane Time’s Arrow I Am the Cheese Soul On Ice You\\'ll Grow Out of It Truce The Elvenbane (Halfblood Chronicles, #1) Treasure Vampire, Interrupted Invisible Prey The Prefect Daughter DC: The New Frontier, Volume 1 Hello, Mrs. Piggle-Wiggle Web of Lies Le secret de la Licorne Judy Moody Dataclysm: Who We Are (When We Think No One\\'s Looking) Die fröhliche Wissenschaft The Broken Kingdoms The Three Trump: The Art of the Deal First Term at Malory Towers The Night is for Hunting フルーツバスケット 3 After Anna Dune: House Corrino Fantasy In Death The Devil You Know उपनिषद [Upaniṣad] Thrive: The Third Metric to Redefining Success and Creating a Life of Well-Being, Wisdom, and Wonder H.I.V.E.: Higher Institute of Villainous Education صانع الظلام The Law of Nines Five Go Adventuring Again The Demon Trapper\\'s Daughter A Death in the Family Falling Under The House On Tradd Street アラクレ 1 Perfect Shadow The Finding I Can Read with My Eyes Shut! The First 90 Days: Critical Success Strategies for New Leaders at All Levels Star Wars: Lost Stars Carry On, Mr. Bowditch Wit : A Play The Rats The Wandering Fire Magic Binds The Wild Ones Hammer of the Gods Winter in Madrid Happier at Home: Kiss More, Jump More, Abandon a Project, Read Samuel Johnson, and My Other Experiments in the Practice of Everyday Life Silver Bay La invención de Morel Berlin: The Downfall 1945 A War of Gifts (The Ender Quintet, #1.5) Captain Underpants and the Perilous Plot of Professor Poopypants (Captain Underpants) UnDivided The Empathy Exams: Essays Bay of Sighs The Duchess War 千年の雪, 1 Double Whammy Darker After Midnight Mad Dogs Lines of Departure Be Frank With Me Better Than Life Dirty Ghosts of Onyx Mates, Dates, and Inflatable Bras Going After Cacciato Little House on Rocky Ridge Not Quite Dating In a People House Kindred in Death  Lucky You Hunters of Dune Deep Down Dark: The Untold Stories of 33 Men Buried in a Chilean Mine, and the Miracle That Set Them Free The Story of Ruby Bridges Приглашение на казнь Debt Inheritance The Midwife of Hope River  Stand Tall, Molly Lou Melon The Complete Robot Another Bullshit Night in Suck City: A Memoir How Green Was My Valley The Chosen One The Power of Full Engagement: Managing Energy, Not Time, Is the Key to High Performance and Personal Renewal The History of the Decline and Fall of the Roman Empire Ox-Cart Man Wild Seed (Patternmaster, #1) The summer I turned pretty مخطوطة بن إسحاق: مدينة الموتى Mortal Coil Sweet Tooth, Volume 1: Out of the Deep Woods Captain Blood: His Odyssey Iron Man: Extremis The Necronomicon 会長はメイド様! 2 Batman, Volume 3: Death of the Family La Mécanique du cœur The Good Father We Are Called to Rise Hope Night Probe! The Story of B: An Adventure of the Mind and Spirit A Window Opens Strangers on a Train Unless Silent in the Grave Command Authority BLEACH―ブリーチ―\\u30003 Cinderella The Berenstain Bears and Too Much TV Heartstone The Center Cannot Hold The Afghan The Bite Before Christmas Frederica Star Wars: The Jedi Academy Trilogy, Volume III - Champions of the Force Vampires are Forever Two Years Before the Mast Think Twice Owl Babies The Turner House Danger in the Shadows Trouble Animal Speak: The Spiritual & Magical Powers of Creatures Great & Small Summer On Blossom Street (Blossom Street #6) Whitethorn Woods رواية \" طه الغريب \" Broken for You The Map That Changed the World: William Smith and the Birth of Modern Geology Lake in the Clouds Grasshopper Jungle The Chronicles of Narnia - The Lion, the Witch, and the Wardrobe Official Illustrated Movie Companion Blackberry Wine Humans of New York: Stories Life Before Legend Never Seduce a Scot A Civil Campaign The Egg ヴァンパイア騎士 3  Bad Kitty A Kiss in Time Desolation Angels هشت کتاب: مرگِ رنگ. زندگیِ خواب\\u200cه. آوارِ آفتاب. شرقِ اندوه. صدای پای آب. مسافر. حجمِ سبز. ما هیچ، ما نگاه Beacon 23: The Complete Novel The Last Picture Show A Countess Below Stairs Nocturnes: Five Stories of Music and Nightfall The Stainless Steel Rat Austerlitz A Twist in the Tale Copper Sun Black Cherry Blues The Versions of Us The Dancing Wu Li Masters: An Overview of the New Physics Froi of the Exiles Trumps of Doom The Honest Truth About Dishonesty: How We Lie to Everyone - Especially Ourselves Locked On Meant to Be The Illustrated Mum Afterworlds The Bookman’s Tale Горе от ума  I\\'ll Walk Alone My Lobotomy Passion\\'s Reign Overruled The Vision Las batallas en el desierto Salvation in Death Open Road Summer Dirty English Divine Madness Spark Grit: Passion, Perseverance, and the Science of Success Guts Innocent Death Without Company Horus Rising Hard As It Gets Timbuktu 桜蘭高校ホスト部 4 Rescue Homo faber: Ein Bericht George A Knight of the Word  A Thousand Boy Kisses The Accident Shopaholic to the Rescue Such a Rush Trouble in Mudbug Dream Dark A Coney Island of the Mind: Poems The Green Mile, Part 5: Night Journey Blue Noon (Midnighters, #3) City of Masks Thirteen Moons Big Brother Blue Monday Parts Broken Prey Promised The Serpent of Venice Novecento Dangerous Girls Give and Take: A Revolutionary Approach to Success From Beirut to Jerusalem Magonia ヴァンパイア騎士 2 The Men Who Stare at Goats Ride Steady The Lollipop Shoes Marked in Flesh Wild Cards Astonishing X-Men, Volume 2: Dangerous Wool 2: Proper Gauge The Comfort of Strangers Cunt: A Declaration of Independence Krondor: The Betrayal The Mime Order Mister B. Gone The Ground Beneath Her Feet ملحمة الحرافيش Darm mit Charme Bagombo Snuff Box The King Beyond the Gate 午後の曳航 [Gogo no eikō] When the Lion Feeds The Measure of a Lady The Twelfth Card Feverborn 青の祓魔師 2 The Snow Leopard Tom Clancy\\'s Net Force: Breaking Point Chasing The Night A Theory of Justice Out of the Dark  The Mambo Kings Play Songs of Love The Famished Road The Red Knight The Time-Traveller\\'s Guide to Medieval England: A Handbook for Visitors to the Fourteenth Century The Everafter War (The Sisters Grimm, #7) Billy Budd, Sailor Bayou Moon Means of Ascent  The Mauritius Command Cinderella Ate My Daughter: Dispatches from the Frontlines of the New Girlie-Girl Culture.jpg'"
     ]
    },
    {
     "data": {
      "image/png": "[encoded data removed]",
      "text/plain": [
       "<Figure size 1152x576 with 1 Axes>"
      ]
     },
     "metadata": {
      "needs_background": "light"
     },
     "output_type": "display_data"
    }
   ],
   "source": [
    "titles=wordcloud(title_string)\n",
    "plt.savefig('images/titles_wc.jpg')"
   ]
  },
  {
   "cell_type": "code",
   "execution_count": null,
   "metadata": {},
   "outputs": [],
   "source": []
  }
 ],
 "metadata": {
  "kernelspec": {
   "display_name": "Python 3",
   "language": "python",
   "name": "python3"
  },
  "language_info": {
   "codemirror_mode": {
    "name": "ipython",
    "version": 3
   },
   "file_extension": ".py",
   "mimetype": "text/x-python",
   "name": "python",
   "nbconvert_exporter": "python",
   "pygments_lexer": "ipython3",
   "version": "3.7.7"
  }
 },
 "nbformat": 4,
 "nbformat_minor": 4
}
