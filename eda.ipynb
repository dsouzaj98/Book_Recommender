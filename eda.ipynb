{
 "cells": [
  {
   "cell_type": "code",
   "execution_count": 1,
   "metadata": {},
   "outputs": [
    {
     "data": {
      "text/html": [
       "        <script type=\"text/javascript\">\n",
       "        window.PlotlyConfig = {MathJaxConfig: 'local'};\n",
       "        if (window.MathJax) {MathJax.Hub.Config({SVG: {font: \"STIX-Web\"}});}\n",
       "        if (typeof require !== 'undefined') {\n",
       "        require.undef(\"plotly\");\n",
       "        requirejs.config({\n",
       "            paths: {\n",
       "                'plotly': ['https://cdn.plot.ly/plotly-latest.min']\n",
       "            }\n",
       "        });\n",
       "        require(['plotly'], function(Plotly) {\n",
       "            window._Plotly = Plotly;\n",
       "        });\n",
       "        }\n",
       "        </script>\n",
       "        "
      ]
     },
     "metadata": {},
     "output_type": "display_data"
    },
    {
     "data": {
      "text/html": [
       "        <script type=\"text/javascript\">\n",
       "        window.PlotlyConfig = {MathJaxConfig: 'local'};\n",
       "        if (window.MathJax) {MathJax.Hub.Config({SVG: {font: \"STIX-Web\"}});}\n",
       "        if (typeof require !== 'undefined') {\n",
       "        require.undef(\"plotly\");\n",
       "        requirejs.config({\n",
       "            paths: {\n",
       "                'plotly': ['https://cdn.plot.ly/plotly-latest.min']\n",
       "            }\n",
       "        });\n",
       "        require(['plotly'], function(Plotly) {\n",
       "            window._Plotly = Plotly;\n",
       "        });\n",
       "        }\n",
       "        </script>\n",
       "        "
      ]
     },
     "metadata": {},
     "output_type": "display_data"
    }
   ],
   "source": [
    "from eda import *"
   ]
  },
  {
   "cell_type": "code",
   "execution_count": 2,
   "metadata": {},
   "outputs": [
    {
     "data": {
      "application/vnd.plotly.v1+json": {
       "config": {
        "plotlyServerURL": "https://plot.ly"
       },
       "data": [
        {
         "alignmentgroup": "True",
         "hovertemplate": "original_title=%{y}<br>average_rating=%{x}<extra></extra>",
         "legendgroup": "The Complete Calvin and Hobbes",
         "marker": {
          "color": "#636efa"
         },
         "name": "The Complete Calvin and Hobbes",
         "offsetgroup": "The Complete Calvin and Hobbes",
         "orientation": "h",
         "showlegend": true,
         "textposition": "auto",
         "type": "bar",
         "x": [
          4.82
         ],
         "xaxis": "x",
         "y": [
          "The Complete Calvin and Hobbes"
         ],
         "yaxis": "y"
        },
        {
         "alignmentgroup": "True",
         "hovertemplate": "original_title=%{y}<br>average_rating=%{x}<extra></extra>",
         "legendgroup": "Words of Radiance",
         "marker": {
          "color": "#EF553B"
         },
         "name": "Words of Radiance",
         "offsetgroup": "Words of Radiance",
         "orientation": "h",
         "showlegend": true,
         "textposition": "auto",
         "type": "bar",
         "x": [
          4.77
         ],
         "xaxis": "x",
         "y": [
          "Words of Radiance"
         ],
         "yaxis": "y"
        },
        {
         "alignmentgroup": "True",
         "hovertemplate": "original_title=%{y}<br>average_rating=%{x}<extra></extra>",
         "legendgroup": "Mark of the Lion Trilogy",
         "marker": {
          "color": "#00cc96"
         },
         "name": "Mark of the Lion Trilogy",
         "offsetgroup": "Mark of the Lion Trilogy",
         "orientation": "h",
         "showlegend": true,
         "textposition": "auto",
         "type": "bar",
         "x": [
          4.76
         ],
         "xaxis": "x",
         "y": [
          "Mark of the Lion Trilogy"
         ],
         "yaxis": "y"
        },
        {
         "alignmentgroup": "True",
         "hovertemplate": "original_title=%{y}<br>average_rating=%{x}<extra></extra>",
         "legendgroup": "It's a Magical World: A Calvin and Hobbes Collection",
         "marker": {
          "color": "#ab63fa"
         },
         "name": "It's a Magical World: A Calvin and Hobbes Collection",
         "offsetgroup": "It's a Magical World: A Calvin and Hobbes Collection",
         "orientation": "h",
         "showlegend": true,
         "textposition": "auto",
         "type": "bar",
         "x": [
          4.75
         ],
         "xaxis": "x",
         "y": [
          "It's a Magical World: A Calvin and Hobbes Collection"
         ],
         "yaxis": "y"
        },
        {
         "alignmentgroup": "True",
         "hovertemplate": "original_title=%{y}<br>average_rating=%{x}<extra></extra>",
         "legendgroup": "There's Treasure Everywhere: A Calvin and Hobbes Collection",
         "marker": {
          "color": "#FFA15A"
         },
         "name": "There's Treasure Everywhere: A Calvin and Hobbes Collection",
         "offsetgroup": "There's Treasure Everywhere: A Calvin and Hobbes Collection",
         "orientation": "h",
         "showlegend": true,
         "textposition": "auto",
         "type": "bar",
         "x": [
          4.74
         ],
         "xaxis": "x",
         "y": [
          "There's Treasure Everywhere: A Calvin and Hobbes Collection"
         ],
         "yaxis": "y"
        },
        {
         "alignmentgroup": "True",
         "hovertemplate": "original_title=%{y}<br>average_rating=%{x}<extra></extra>",
         "legendgroup": "Complete Harry Potter Boxed Set",
         "marker": {
          "color": "#19d3f3"
         },
         "name": "Complete Harry Potter Boxed Set",
         "offsetgroup": "Complete Harry Potter Boxed Set",
         "orientation": "h",
         "showlegend": true,
         "textposition": "auto",
         "type": "bar",
         "x": [
          4.74
         ],
         "xaxis": "x",
         "y": [
          "Complete Harry Potter Boxed Set"
         ],
         "yaxis": "y"
        },
        {
         "alignmentgroup": "True",
         "hovertemplate": "original_title=%{y}<br>average_rating=%{x}<extra></extra>",
         "legendgroup": "Harry Potter Collection (Harry Potter, #1-6)",
         "marker": {
          "color": "#FF6692"
         },
         "name": "Harry Potter Collection (Harry Potter, #1-6)",
         "offsetgroup": "Harry Potter Collection (Harry Potter, #1-6)",
         "orientation": "h",
         "showlegend": true,
         "textposition": "auto",
         "type": "bar",
         "x": [
          4.73
         ],
         "xaxis": "x",
         "y": [
          "Harry Potter Collection (Harry Potter, #1-6)"
         ],
         "yaxis": "y"
        },
        {
         "alignmentgroup": "True",
         "hovertemplate": "original_title=%{y}<br>average_rating=%{x}<extra></extra>",
         "legendgroup": "The Indispensable Calvin and Hobbes: A Calvin and Hobbes Treasury",
         "marker": {
          "color": "#B6E880"
         },
         "name": "The Indispensable Calvin and Hobbes: A Calvin and Hobbes Treasury",
         "offsetgroup": "The Indispensable Calvin and Hobbes: A Calvin and Hobbes Treasury",
         "orientation": "h",
         "showlegend": true,
         "textposition": "auto",
         "type": "bar",
         "x": [
          4.73
         ],
         "xaxis": "x",
         "y": [
          "The Indispensable Calvin and Hobbes: A Calvin and Hobbes Treasury"
         ],
         "yaxis": "y"
        },
        {
         "alignmentgroup": "True",
         "hovertemplate": "original_title=%{y}<br>average_rating=%{x}<extra></extra>",
         "legendgroup": "The Authoritative Calvin and Hobbes",
         "marker": {
          "color": "#FF97FF"
         },
         "name": "The Authoritative Calvin and Hobbes",
         "offsetgroup": "The Authoritative Calvin and Hobbes",
         "orientation": "h",
         "showlegend": true,
         "textposition": "auto",
         "type": "bar",
         "x": [
          4.73
         ],
         "xaxis": "x",
         "y": [
          "The Authoritative Calvin and Hobbes"
         ],
         "yaxis": "y"
        },
        {
         "alignmentgroup": "True",
         "hovertemplate": "original_title=%{y}<br>average_rating=%{x}<extra></extra>",
         "legendgroup": "A Court of Mist and Fury",
         "marker": {
          "color": "#FECB52"
         },
         "name": "A Court of Mist and Fury",
         "offsetgroup": "A Court of Mist and Fury",
         "orientation": "h",
         "showlegend": true,
         "textposition": "auto",
         "type": "bar",
         "x": [
          4.72
         ],
         "xaxis": "x",
         "y": [
          "A Court of Mist and Fury"
         ],
         "yaxis": "y"
        },
        {
         "alignmentgroup": "True",
         "hovertemplate": "original_title=%{y}<br>average_rating=%{x}<extra></extra>",
         "legendgroup": "Attack of the Deranged Mutant Killer Monster Snow Goons: A Calvin and Hobbes Collection",
         "marker": {
          "color": "#636efa"
         },
         "name": "Attack of the Deranged Mutant Killer Monster Snow Goons: A Calvin and Hobbes Collection",
         "offsetgroup": "Attack of the Deranged Mutant Killer Monster Snow Goons: A Calvin and Hobbes Collection",
         "orientation": "h",
         "showlegend": true,
         "textposition": "auto",
         "type": "bar",
         "x": [
          4.72
         ],
         "xaxis": "x",
         "y": [
          "Attack of the Deranged Mutant Killer Monster Snow Goons: A Calvin and Hobbes Collection"
         ],
         "yaxis": "y"
        },
        {
         "alignmentgroup": "True",
         "hovertemplate": "original_title=%{y}<br>average_rating=%{x}<extra></extra>",
         "legendgroup": "Homicidal Psycho Jungle Cat: A Calvin and Hobbes Collection",
         "marker": {
          "color": "#EF553B"
         },
         "name": "Homicidal Psycho Jungle Cat: A Calvin and Hobbes Collection",
         "offsetgroup": "Homicidal Psycho Jungle Cat: A Calvin and Hobbes Collection",
         "orientation": "h",
         "showlegend": true,
         "textposition": "auto",
         "type": "bar",
         "x": [
          4.71
         ],
         "xaxis": "x",
         "y": [
          "Homicidal Psycho Jungle Cat: A Calvin and Hobbes Collection"
         ],
         "yaxis": "y"
        },
        {
         "alignmentgroup": "True",
         "hovertemplate": "original_title=%{y}<br>average_rating=%{x}<extra></extra>",
         "legendgroup": "The Days Are Just Packed: A Calvin and Hobbes Collection",
         "marker": {
          "color": "#00cc96"
         },
         "name": "The Days Are Just Packed: A Calvin and Hobbes Collection",
         "offsetgroup": "The Days Are Just Packed: A Calvin and Hobbes Collection",
         "orientation": "h",
         "showlegend": true,
         "textposition": "auto",
         "type": "bar",
         "x": [
          4.68
         ],
         "xaxis": "x",
         "y": [
          "The Days Are Just Packed: A Calvin and Hobbes Collection"
         ],
         "yaxis": "y"
        },
        {
         "alignmentgroup": "True",
         "hovertemplate": "original_title=%{y}<br>average_rating=%{x}<extra></extra>",
         "legendgroup": "The Way of Kings, Part 1",
         "marker": {
          "color": "#ab63fa"
         },
         "name": "The Way of Kings, Part 1",
         "offsetgroup": "The Way of Kings, Part 1",
         "orientation": "h",
         "showlegend": true,
         "textposition": "auto",
         "type": "bar",
         "x": [
          4.67
         ],
         "xaxis": "x",
         "y": [
          "The Way of Kings, Part 1"
         ],
         "yaxis": "y"
        },
        {
         "alignmentgroup": "True",
         "hovertemplate": "original_title=%{y}<br>average_rating=%{x}<extra></extra>",
         "legendgroup": "Harry Potter Boxed Set Books 1-4",
         "marker": {
          "color": "#FFA15A"
         },
         "name": "Harry Potter Boxed Set Books 1-4",
         "offsetgroup": "Harry Potter Boxed Set Books 1-4",
         "orientation": "h",
         "showlegend": true,
         "textposition": "auto",
         "type": "bar",
         "x": [
          4.66
         ],
         "xaxis": "x",
         "y": [
          "Harry Potter Boxed Set Books 1-4"
         ],
         "yaxis": "y"
        },
        {
         "alignmentgroup": "True",
         "hovertemplate": "original_title=%{y}<br>average_rating=%{x}<extra></extra>",
         "legendgroup": "The Calvin and Hobbes Lazy Sunday Book",
         "marker": {
          "color": "#19d3f3"
         },
         "name": "The Calvin and Hobbes Lazy Sunday Book",
         "offsetgroup": "The Calvin and Hobbes Lazy Sunday Book",
         "orientation": "h",
         "showlegend": true,
         "textposition": "auto",
         "type": "bar",
         "x": [
          4.66
         ],
         "xaxis": "x",
         "y": [
          "The Calvin and Hobbes Lazy Sunday Book"
         ],
         "yaxis": "y"
        },
        {
         "alignmentgroup": "True",
         "hovertemplate": "original_title=%{y}<br>average_rating=%{x}<extra></extra>",
         "legendgroup": "Holy Bible English Standard Version",
         "marker": {
          "color": "#FF6692"
         },
         "name": "Holy Bible English Standard Version",
         "offsetgroup": "Holy Bible English Standard Version",
         "orientation": "h",
         "showlegend": true,
         "textposition": "auto",
         "type": "bar",
         "x": [
          4.66
         ],
         "xaxis": "x",
         "y": [
          "Holy Bible English Standard Version"
         ],
         "yaxis": "y"
        },
        {
         "alignmentgroup": "True",
         "hovertemplate": "original_title=%{y}<br>average_rating=%{x}<extra></extra>",
         "legendgroup": "The Essential Calvin and Hobbes: A Calvin and Hobbes Treasury",
         "marker": {
          "color": "#B6E880"
         },
         "name": "The Essential Calvin and Hobbes: A Calvin and Hobbes Treasury",
         "offsetgroup": "The Essential Calvin and Hobbes: A Calvin and Hobbes Treasury",
         "orientation": "h",
         "showlegend": true,
         "textposition": "auto",
         "type": "bar",
         "x": [
          4.65
         ],
         "xaxis": "x",
         "y": [
          "The Essential Calvin and Hobbes: A Calvin and Hobbes Treasury"
         ],
         "yaxis": "y"
        },
        {
         "alignmentgroup": "True",
         "hovertemplate": "original_title=%{y}<br>average_rating=%{x}<extra></extra>",
         "legendgroup": "The Absolute Sandman, Volume One",
         "marker": {
          "color": "#FF97FF"
         },
         "name": "The Absolute Sandman, Volume One",
         "offsetgroup": "The Absolute Sandman, Volume One",
         "orientation": "h",
         "showlegend": true,
         "textposition": "auto",
         "type": "bar",
         "x": [
          4.65
         ],
         "xaxis": "x",
         "y": [
          "The Absolute Sandman, Volume One"
         ],
         "yaxis": "y"
        },
        {
         "alignmentgroup": "True",
         "hovertemplate": "original_title=%{y}<br>average_rating=%{x}<extra></extra>",
         "legendgroup": "A Song of Ice and Fire Graphic Novels",
         "marker": {
          "color": "#FECB52"
         },
         "name": "A Song of Ice and Fire Graphic Novels",
         "offsetgroup": "A Song of Ice and Fire Graphic Novels",
         "orientation": "h",
         "showlegend": true,
         "textposition": "auto",
         "type": "bar",
         "x": [
          4.65
         ],
         "xaxis": "x",
         "y": [
          "A Song of Ice and Fire Graphic Novels"
         ],
         "yaxis": "y"
        },
        {
         "alignmentgroup": "True",
         "hovertemplate": "original_title=%{y}<br>average_rating=%{x}<extra></extra>",
         "legendgroup": "The Way of Kings",
         "marker": {
          "color": "#636efa"
         },
         "name": "The Way of Kings",
         "offsetgroup": "The Way of Kings",
         "orientation": "h",
         "showlegend": true,
         "textposition": "auto",
         "type": "bar",
         "x": [
          4.64
         ],
         "xaxis": "x",
         "y": [
          "The Way of Kings"
         ],
         "yaxis": "y"
        },
        {
         "alignmentgroup": "True",
         "hovertemplate": "original_title=%{y}<br>average_rating=%{x}<extra></extra>",
         "legendgroup": "The Calvin and Hobbes Tenth Anniversary Book",
         "marker": {
          "color": "#EF553B"
         },
         "name": "The Calvin and Hobbes Tenth Anniversary Book",
         "offsetgroup": "The Calvin and Hobbes Tenth Anniversary Book",
         "orientation": "h",
         "showlegend": true,
         "textposition": "auto",
         "type": "bar",
         "x": [
          4.63
         ],
         "xaxis": "x",
         "y": [
          "The Calvin and Hobbes Tenth Anniversary Book"
         ],
         "yaxis": "y"
        },
        {
         "alignmentgroup": "True",
         "hovertemplate": "original_title=%{y}<br>average_rating=%{x}<extra></extra>",
         "legendgroup": "A Song of Ice and Fire",
         "marker": {
          "color": "#00cc96"
         },
         "name": "A Song of Ice and Fire",
         "offsetgroup": "A Song of Ice and Fire",
         "orientation": "h",
         "showlegend": true,
         "textposition": "auto",
         "type": "bar",
         "x": [
          4.63
         ],
         "xaxis": "x",
         "y": [
          "A Song of Ice and Fire"
         ],
         "yaxis": "y"
        },
        {
         "alignmentgroup": "True",
         "hovertemplate": "original_title=%{y}<br>average_rating=%{x}<extra></extra>",
         "legendgroup": "دیوان‎‎ [Dīvān]",
         "marker": {
          "color": "#ab63fa"
         },
         "name": "دیوان‎‎ [Dīvān]",
         "offsetgroup": "دیوان‎‎ [Dīvān]",
         "orientation": "h",
         "showlegend": true,
         "textposition": "auto",
         "type": "bar",
         "x": [
          4.63
         ],
         "xaxis": "x",
         "y": [
          "دیوان‎‎ [Dīvān]"
         ],
         "yaxis": "y"
        },
        {
         "alignmentgroup": "True",
         "hovertemplate": "original_title=%{y}<br>average_rating=%{x}<extra></extra>",
         "legendgroup": "The Hate U Give",
         "marker": {
          "color": "#FFA15A"
         },
         "name": "The Hate U Give",
         "offsetgroup": "The Hate U Give",
         "orientation": "h",
         "showlegend": true,
         "textposition": "auto",
         "type": "bar",
         "x": [
          4.62
         ],
         "xaxis": "x",
         "y": [
          "The Hate U Give"
         ],
         "yaxis": "y"
        }
       ],
       "layout": {
        "barmode": "relative",
        "height": 700,
        "legend": {
         "title": {
          "text": "original_title"
         },
         "tracegroupgap": 0
        },
        "template": {
         "data": {
          "bar": [
           {
            "error_x": {
             "color": "#2a3f5f"
            },
            "error_y": {
             "color": "#2a3f5f"
            },
            "marker": {
             "line": {
              "color": "#E5ECF6",
              "width": 0.5
             }
            },
            "type": "bar"
           }
          ],
          "barpolar": [
           {
            "marker": {
             "line": {
              "color": "#E5ECF6",
              "width": 0.5
             }
            },
            "type": "barpolar"
           }
          ],
          "carpet": [
           {
            "aaxis": {
             "endlinecolor": "#2a3f5f",
             "gridcolor": "white",
             "linecolor": "white",
             "minorgridcolor": "white",
             "startlinecolor": "#2a3f5f"
            },
            "baxis": {
             "endlinecolor": "#2a3f5f",
             "gridcolor": "white",
             "linecolor": "white",
             "minorgridcolor": "white",
             "startlinecolor": "#2a3f5f"
            },
            "type": "carpet"
           }
          ],
          "choropleth": [
           {
            "colorbar": {
             "outlinewidth": 0,
             "ticks": ""
            },
            "type": "choropleth"
           }
          ],
          "contour": [
           {
            "colorbar": {
             "outlinewidth": 0,
             "ticks": ""
            },
            "colorscale": [
             [
              0,
              "#0d0887"
             ],
             [
              0.1111111111111111,
              "#46039f"
             ],
             [
              0.2222222222222222,
              "#7201a8"
             ],
             [
              0.3333333333333333,
              "#9c179e"
             ],
             [
              0.4444444444444444,
              "#bd3786"
             ],
             [
              0.5555555555555556,
              "#d8576b"
             ],
             [
              0.6666666666666666,
              "#ed7953"
             ],
             [
              0.7777777777777778,
              "#fb9f3a"
             ],
             [
              0.8888888888888888,
              "#fdca26"
             ],
             [
              1,
              "#f0f921"
             ]
            ],
            "type": "contour"
           }
          ],
          "contourcarpet": [
           {
            "colorbar": {
             "outlinewidth": 0,
             "ticks": ""
            },
            "type": "contourcarpet"
           }
          ],
          "heatmap": [
           {
            "colorbar": {
             "outlinewidth": 0,
             "ticks": ""
            },
            "colorscale": [
             [
              0,
              "#0d0887"
             ],
             [
              0.1111111111111111,
              "#46039f"
             ],
             [
              0.2222222222222222,
              "#7201a8"
             ],
             [
              0.3333333333333333,
              "#9c179e"
             ],
             [
              0.4444444444444444,
              "#bd3786"
             ],
             [
              0.5555555555555556,
              "#d8576b"
             ],
             [
              0.6666666666666666,
              "#ed7953"
             ],
             [
              0.7777777777777778,
              "#fb9f3a"
             ],
             [
              0.8888888888888888,
              "#fdca26"
             ],
             [
              1,
              "#f0f921"
             ]
            ],
            "type": "heatmap"
           }
          ],
          "heatmapgl": [
           {
            "colorbar": {
             "outlinewidth": 0,
             "ticks": ""
            },
            "colorscale": [
             [
              0,
              "#0d0887"
             ],
             [
              0.1111111111111111,
              "#46039f"
             ],
             [
              0.2222222222222222,
              "#7201a8"
             ],
             [
              0.3333333333333333,
              "#9c179e"
             ],
             [
              0.4444444444444444,
              "#bd3786"
             ],
             [
              0.5555555555555556,
              "#d8576b"
             ],
             [
              0.6666666666666666,
              "#ed7953"
             ],
             [
              0.7777777777777778,
              "#fb9f3a"
             ],
             [
              0.8888888888888888,
              "#fdca26"
             ],
             [
              1,
              "#f0f921"
             ]
            ],
            "type": "heatmapgl"
           }
          ],
          "histogram": [
           {
            "marker": {
             "colorbar": {
              "outlinewidth": 0,
              "ticks": ""
             }
            },
            "type": "histogram"
           }
          ],
          "histogram2d": [
           {
            "colorbar": {
             "outlinewidth": 0,
             "ticks": ""
            },
            "colorscale": [
             [
              0,
              "#0d0887"
             ],
             [
              0.1111111111111111,
              "#46039f"
             ],
             [
              0.2222222222222222,
              "#7201a8"
             ],
             [
              0.3333333333333333,
              "#9c179e"
             ],
             [
              0.4444444444444444,
              "#bd3786"
             ],
             [
              0.5555555555555556,
              "#d8576b"
             ],
             [
              0.6666666666666666,
              "#ed7953"
             ],
             [
              0.7777777777777778,
              "#fb9f3a"
             ],
             [
              0.8888888888888888,
              "#fdca26"
             ],
             [
              1,
              "#f0f921"
             ]
            ],
            "type": "histogram2d"
           }
          ],
          "histogram2dcontour": [
           {
            "colorbar": {
             "outlinewidth": 0,
             "ticks": ""
            },
            "colorscale": [
             [
              0,
              "#0d0887"
             ],
             [
              0.1111111111111111,
              "#46039f"
             ],
             [
              0.2222222222222222,
              "#7201a8"
             ],
             [
              0.3333333333333333,
              "#9c179e"
             ],
             [
              0.4444444444444444,
              "#bd3786"
             ],
             [
              0.5555555555555556,
              "#d8576b"
             ],
             [
              0.6666666666666666,
              "#ed7953"
             ],
             [
              0.7777777777777778,
              "#fb9f3a"
             ],
             [
              0.8888888888888888,
              "#fdca26"
             ],
             [
              1,
              "#f0f921"
             ]
            ],
            "type": "histogram2dcontour"
           }
          ],
          "mesh3d": [
           {
            "colorbar": {
             "outlinewidth": 0,
             "ticks": ""
            },
            "type": "mesh3d"
           }
          ],
          "parcoords": [
           {
            "line": {
             "colorbar": {
              "outlinewidth": 0,
              "ticks": ""
             }
            },
            "type": "parcoords"
           }
          ],
          "pie": [
           {
            "automargin": true,
            "type": "pie"
           }
          ],
          "scatter": [
           {
            "marker": {
             "colorbar": {
              "outlinewidth": 0,
              "ticks": ""
             }
            },
            "type": "scatter"
           }
          ],
          "scatter3d": [
           {
            "line": {
             "colorbar": {
              "outlinewidth": 0,
              "ticks": ""
             }
            },
            "marker": {
             "colorbar": {
              "outlinewidth": 0,
              "ticks": ""
             }
            },
            "type": "scatter3d"
           }
          ],
          "scattercarpet": [
           {
            "marker": {
             "colorbar": {
              "outlinewidth": 0,
              "ticks": ""
             }
            },
            "type": "scattercarpet"
           }
          ],
          "scattergeo": [
           {
            "marker": {
             "colorbar": {
              "outlinewidth": 0,
              "ticks": ""
             }
            },
            "type": "scattergeo"
           }
          ],
          "scattergl": [
           {
            "marker": {
             "colorbar": {
              "outlinewidth": 0,
              "ticks": ""
             }
            },
            "type": "scattergl"
           }
          ],
          "scattermapbox": [
           {
            "marker": {
             "colorbar": {
              "outlinewidth": 0,
              "ticks": ""
             }
            },
            "type": "scattermapbox"
           }
          ],
          "scatterpolar": [
           {
            "marker": {
             "colorbar": {
              "outlinewidth": 0,
              "ticks": ""
             }
            },
            "type": "scatterpolar"
           }
          ],
          "scatterpolargl": [
           {
            "marker": {
             "colorbar": {
              "outlinewidth": 0,
              "ticks": ""
             }
            },
            "type": "scatterpolargl"
           }
          ],
          "scatterternary": [
           {
            "marker": {
             "colorbar": {
              "outlinewidth": 0,
              "ticks": ""
             }
            },
            "type": "scatterternary"
           }
          ],
          "surface": [
           {
            "colorbar": {
             "outlinewidth": 0,
             "ticks": ""
            },
            "colorscale": [
             [
              0,
              "#0d0887"
             ],
             [
              0.1111111111111111,
              "#46039f"
             ],
             [
              0.2222222222222222,
              "#7201a8"
             ],
             [
              0.3333333333333333,
              "#9c179e"
             ],
             [
              0.4444444444444444,
              "#bd3786"
             ],
             [
              0.5555555555555556,
              "#d8576b"
             ],
             [
              0.6666666666666666,
              "#ed7953"
             ],
             [
              0.7777777777777778,
              "#fb9f3a"
             ],
             [
              0.8888888888888888,
              "#fdca26"
             ],
             [
              1,
              "#f0f921"
             ]
            ],
            "type": "surface"
           }
          ],
          "table": [
           {
            "cells": {
             "fill": {
              "color": "#EBF0F8"
             },
             "line": {
              "color": "white"
             }
            },
            "header": {
             "fill": {
              "color": "#C8D4E3"
             },
             "line": {
              "color": "white"
             }
            },
            "type": "table"
           }
          ]
         },
         "layout": {
          "annotationdefaults": {
           "arrowcolor": "#2a3f5f",
           "arrowhead": 0,
           "arrowwidth": 1
          },
          "coloraxis": {
           "colorbar": {
            "outlinewidth": 0,
            "ticks": ""
           }
          },
          "colorscale": {
           "diverging": [
            [
             0,
             "#8e0152"
            ],
            [
             0.1,
             "#c51b7d"
            ],
            [
             0.2,
             "#de77ae"
            ],
            [
             0.3,
             "#f1b6da"
            ],
            [
             0.4,
             "#fde0ef"
            ],
            [
             0.5,
             "#f7f7f7"
            ],
            [
             0.6,
             "#e6f5d0"
            ],
            [
             0.7,
             "#b8e186"
            ],
            [
             0.8,
             "#7fbc41"
            ],
            [
             0.9,
             "#4d9221"
            ],
            [
             1,
             "#276419"
            ]
           ],
           "sequential": [
            [
             0,
             "#0d0887"
            ],
            [
             0.1111111111111111,
             "#46039f"
            ],
            [
             0.2222222222222222,
             "#7201a8"
            ],
            [
             0.3333333333333333,
             "#9c179e"
            ],
            [
             0.4444444444444444,
             "#bd3786"
            ],
            [
             0.5555555555555556,
             "#d8576b"
            ],
            [
             0.6666666666666666,
             "#ed7953"
            ],
            [
             0.7777777777777778,
             "#fb9f3a"
            ],
            [
             0.8888888888888888,
             "#fdca26"
            ],
            [
             1,
             "#f0f921"
            ]
           ],
           "sequentialminus": [
            [
             0,
             "#0d0887"
            ],
            [
             0.1111111111111111,
             "#46039f"
            ],
            [
             0.2222222222222222,
             "#7201a8"
            ],
            [
             0.3333333333333333,
             "#9c179e"
            ],
            [
             0.4444444444444444,
             "#bd3786"
            ],
            [
             0.5555555555555556,
             "#d8576b"
            ],
            [
             0.6666666666666666,
             "#ed7953"
            ],
            [
             0.7777777777777778,
             "#fb9f3a"
            ],
            [
             0.8888888888888888,
             "#fdca26"
            ],
            [
             1,
             "#f0f921"
            ]
           ]
          },
          "colorway": [
           "#636efa",
           "#EF553B",
           "#00cc96",
           "#ab63fa",
           "#FFA15A",
           "#19d3f3",
           "#FF6692",
           "#B6E880",
           "#FF97FF",
           "#FECB52"
          ],
          "font": {
           "color": "#2a3f5f"
          },
          "geo": {
           "bgcolor": "white",
           "lakecolor": "white",
           "landcolor": "#E5ECF6",
           "showlakes": true,
           "showland": true,
           "subunitcolor": "white"
          },
          "hoverlabel": {
           "align": "left"
          },
          "hovermode": "closest",
          "mapbox": {
           "style": "light"
          },
          "paper_bgcolor": "white",
          "plot_bgcolor": "#E5ECF6",
          "polar": {
           "angularaxis": {
            "gridcolor": "white",
            "linecolor": "white",
            "ticks": ""
           },
           "bgcolor": "#E5ECF6",
           "radialaxis": {
            "gridcolor": "white",
            "linecolor": "white",
            "ticks": ""
           }
          },
          "scene": {
           "xaxis": {
            "backgroundcolor": "#E5ECF6",
            "gridcolor": "white",
            "gridwidth": 2,
            "linecolor": "white",
            "showbackground": true,
            "ticks": "",
            "zerolinecolor": "white"
           },
           "yaxis": {
            "backgroundcolor": "#E5ECF6",
            "gridcolor": "white",
            "gridwidth": 2,
            "linecolor": "white",
            "showbackground": true,
            "ticks": "",
            "zerolinecolor": "white"
           },
           "zaxis": {
            "backgroundcolor": "#E5ECF6",
            "gridcolor": "white",
            "gridwidth": 2,
            "linecolor": "white",
            "showbackground": true,
            "ticks": "",
            "zerolinecolor": "white"
           }
          },
          "shapedefaults": {
           "line": {
            "color": "#2a3f5f"
           }
          },
          "ternary": {
           "aaxis": {
            "gridcolor": "white",
            "linecolor": "white",
            "ticks": ""
           },
           "baxis": {
            "gridcolor": "white",
            "linecolor": "white",
            "ticks": ""
           },
           "bgcolor": "#E5ECF6",
           "caxis": {
            "gridcolor": "white",
            "linecolor": "white",
            "ticks": ""
           }
          },
          "title": {
           "x": 0.05
          },
          "xaxis": {
           "automargin": true,
           "gridcolor": "white",
           "linecolor": "white",
           "ticks": "",
           "title": {
            "standoff": 15
           },
           "zerolinecolor": "white",
           "zerolinewidth": 2
          },
          "yaxis": {
           "automargin": true,
           "gridcolor": "white",
           "linecolor": "white",
           "ticks": "",
           "title": {
            "standoff": 15
           },
           "zerolinecolor": "white",
           "zerolinewidth": 2
          }
         }
        },
        "title": {
         "text": "Top Rated Books and Their Ratings"
        },
        "width": 1500,
        "xaxis": {
         "anchor": "y",
         "domain": [
          0,
          1
         ],
         "title": {
          "text": "average_rating"
         }
        },
        "yaxis": {
         "anchor": "x",
         "categoryarray": [
          "The Hate U Give",
          "دیوان‎‎ [Dīvān]",
          "A Song of Ice and Fire",
          "The Calvin and Hobbes Tenth Anniversary Book",
          "The Way of Kings",
          "A Song of Ice and Fire Graphic Novels",
          "The Absolute Sandman, Volume One",
          "The Essential Calvin and Hobbes: A Calvin and Hobbes Treasury",
          "Holy Bible English Standard Version",
          "The Calvin and Hobbes Lazy Sunday Book",
          "Harry Potter Boxed Set Books 1-4",
          "The Way of Kings, Part 1",
          "The Days Are Just Packed: A Calvin and Hobbes Collection",
          "Homicidal Psycho Jungle Cat: A Calvin and Hobbes Collection",
          "Attack of the Deranged Mutant Killer Monster Snow Goons: A Calvin and Hobbes Collection",
          "A Court of Mist and Fury",
          "The Authoritative Calvin and Hobbes",
          "The Indispensable Calvin and Hobbes: A Calvin and Hobbes Treasury",
          "Harry Potter Collection (Harry Potter, #1-6)",
          "Complete Harry Potter Boxed Set",
          "There's Treasure Everywhere: A Calvin and Hobbes Collection",
          "It's a Magical World: A Calvin and Hobbes Collection",
          "Mark of the Lion Trilogy",
          "Words of Radiance",
          "The Complete Calvin and Hobbes"
         ],
         "categoryorder": "array",
         "domain": [
          0,
          1
         ],
         "title": {
          "text": "original_title"
         }
        }
       }
      },
      "text/html": [
       "<div>                            <div id=\"b1c41f81-586d-49a4-b7c8-cc40d1f7c1c8\" class=\"plotly-graph-div\" style=\"height:700px; width:1500px;\"></div>            <script type=\"text/javascript\">                require([\"plotly\"], function(Plotly) {                    window.PLOTLYENV=window.PLOTLYENV || {};                                    if (document.getElementById(\"b1c41f81-586d-49a4-b7c8-cc40d1f7c1c8\")) {                    Plotly.newPlot(                        \"b1c41f81-586d-49a4-b7c8-cc40d1f7c1c8\",                        [{\"alignmentgroup\": \"True\", \"hovertemplate\": \"original_title=%{y}<br>average_rating=%{x}<extra></extra>\", \"legendgroup\": \"The Complete Calvin and Hobbes\", \"marker\": {\"color\": \"#636efa\"}, \"name\": \"The Complete Calvin and Hobbes\", \"offsetgroup\": \"The Complete Calvin and Hobbes\", \"orientation\": \"h\", \"showlegend\": true, \"textposition\": \"auto\", \"type\": \"bar\", \"x\": [4.82], \"xaxis\": \"x\", \"y\": [\"The Complete Calvin and Hobbes\"], \"yaxis\": \"y\"}, {\"alignmentgroup\": \"True\", \"hovertemplate\": \"original_title=%{y}<br>average_rating=%{x}<extra></extra>\", \"legendgroup\": \"Words of Radiance\", \"marker\": {\"color\": \"#EF553B\"}, \"name\": \"Words of Radiance\", \"offsetgroup\": \"Words of Radiance\", \"orientation\": \"h\", \"showlegend\": true, \"textposition\": \"auto\", \"type\": \"bar\", \"x\": [4.77], \"xaxis\": \"x\", \"y\": [\"Words of Radiance\"], \"yaxis\": \"y\"}, {\"alignmentgroup\": \"True\", \"hovertemplate\": \"original_title=%{y}<br>average_rating=%{x}<extra></extra>\", \"legendgroup\": \"Mark of the Lion Trilogy\", \"marker\": {\"color\": \"#00cc96\"}, \"name\": \"Mark of the Lion Trilogy\", \"offsetgroup\": \"Mark of the Lion Trilogy\", \"orientation\": \"h\", \"showlegend\": true, \"textposition\": \"auto\", \"type\": \"bar\", \"x\": [4.76], \"xaxis\": \"x\", \"y\": [\"Mark of the Lion Trilogy\"], \"yaxis\": \"y\"}, {\"alignmentgroup\": \"True\", \"hovertemplate\": \"original_title=%{y}<br>average_rating=%{x}<extra></extra>\", \"legendgroup\": \"It's a Magical World: A Calvin and Hobbes Collection\", \"marker\": {\"color\": \"#ab63fa\"}, \"name\": \"It's a Magical World: A Calvin and Hobbes Collection\", \"offsetgroup\": \"It's a Magical World: A Calvin and Hobbes Collection\", \"orientation\": \"h\", \"showlegend\": true, \"textposition\": \"auto\", \"type\": \"bar\", \"x\": [4.75], \"xaxis\": \"x\", \"y\": [\"It's a Magical World: A Calvin and Hobbes Collection\"], \"yaxis\": \"y\"}, {\"alignmentgroup\": \"True\", \"hovertemplate\": \"original_title=%{y}<br>average_rating=%{x}<extra></extra>\", \"legendgroup\": \"There's Treasure Everywhere: A Calvin and Hobbes Collection\", \"marker\": {\"color\": \"#FFA15A\"}, \"name\": \"There's Treasure Everywhere: A Calvin and Hobbes Collection\", \"offsetgroup\": \"There's Treasure Everywhere: A Calvin and Hobbes Collection\", \"orientation\": \"h\", \"showlegend\": true, \"textposition\": \"auto\", \"type\": \"bar\", \"x\": [4.74], \"xaxis\": \"x\", \"y\": [\"There's Treasure Everywhere: A Calvin and Hobbes Collection\"], \"yaxis\": \"y\"}, {\"alignmentgroup\": \"True\", \"hovertemplate\": \"original_title=%{y}<br>average_rating=%{x}<extra></extra>\", \"legendgroup\": \"Complete Harry Potter Boxed Set\", \"marker\": {\"color\": \"#19d3f3\"}, \"name\": \"Complete Harry Potter Boxed Set\", \"offsetgroup\": \"Complete Harry Potter Boxed Set\", \"orientation\": \"h\", \"showlegend\": true, \"textposition\": \"auto\", \"type\": \"bar\", \"x\": [4.74], \"xaxis\": \"x\", \"y\": [\"Complete Harry Potter Boxed Set\"], \"yaxis\": \"y\"}, {\"alignmentgroup\": \"True\", \"hovertemplate\": \"original_title=%{y}<br>average_rating=%{x}<extra></extra>\", \"legendgroup\": \"Harry Potter Collection (Harry Potter, #1-6)\", \"marker\": {\"color\": \"#FF6692\"}, \"name\": \"Harry Potter Collection (Harry Potter, #1-6)\", \"offsetgroup\": \"Harry Potter Collection (Harry Potter, #1-6)\", \"orientation\": \"h\", \"showlegend\": true, \"textposition\": \"auto\", \"type\": \"bar\", \"x\": [4.73], \"xaxis\": \"x\", \"y\": [\"Harry Potter Collection (Harry Potter, #1-6)\"], \"yaxis\": \"y\"}, {\"alignmentgroup\": \"True\", \"hovertemplate\": \"original_title=%{y}<br>average_rating=%{x}<extra></extra>\", \"legendgroup\": \"The Indispensable Calvin and Hobbes: A Calvin and Hobbes Treasury\", \"marker\": {\"color\": \"#B6E880\"}, \"name\": \"The Indispensable Calvin and Hobbes: A Calvin and Hobbes Treasury\", \"offsetgroup\": \"The Indispensable Calvin and Hobbes: A Calvin and Hobbes Treasury\", \"orientation\": \"h\", \"showlegend\": true, \"textposition\": \"auto\", \"type\": \"bar\", \"x\": [4.73], \"xaxis\": \"x\", \"y\": [\"The Indispensable Calvin and Hobbes: A Calvin and Hobbes Treasury\"], \"yaxis\": \"y\"}, {\"alignmentgroup\": \"True\", \"hovertemplate\": \"original_title=%{y}<br>average_rating=%{x}<extra></extra>\", \"legendgroup\": \"The Authoritative Calvin and Hobbes\", \"marker\": {\"color\": \"#FF97FF\"}, \"name\": \"The Authoritative Calvin and Hobbes\", \"offsetgroup\": \"The Authoritative Calvin and Hobbes\", \"orientation\": \"h\", \"showlegend\": true, \"textposition\": \"auto\", \"type\": \"bar\", \"x\": [4.73], \"xaxis\": \"x\", \"y\": [\"The Authoritative Calvin and Hobbes\"], \"yaxis\": \"y\"}, {\"alignmentgroup\": \"True\", \"hovertemplate\": \"original_title=%{y}<br>average_rating=%{x}<extra></extra>\", \"legendgroup\": \"A Court of Mist and Fury\", \"marker\": {\"color\": \"#FECB52\"}, \"name\": \"A Court of Mist and Fury\", \"offsetgroup\": \"A Court of Mist and Fury\", \"orientation\": \"h\", \"showlegend\": true, \"textposition\": \"auto\", \"type\": \"bar\", \"x\": [4.72], \"xaxis\": \"x\", \"y\": [\"A Court of Mist and Fury\"], \"yaxis\": \"y\"}, {\"alignmentgroup\": \"True\", \"hovertemplate\": \"original_title=%{y}<br>average_rating=%{x}<extra></extra>\", \"legendgroup\": \"Attack of the Deranged Mutant Killer Monster Snow Goons: A Calvin and Hobbes Collection\", \"marker\": {\"color\": \"#636efa\"}, \"name\": \"Attack of the Deranged Mutant Killer Monster Snow Goons: A Calvin and Hobbes Collection\", \"offsetgroup\": \"Attack of the Deranged Mutant Killer Monster Snow Goons: A Calvin and Hobbes Collection\", \"orientation\": \"h\", \"showlegend\": true, \"textposition\": \"auto\", \"type\": \"bar\", \"x\": [4.72], \"xaxis\": \"x\", \"y\": [\"Attack of the Deranged Mutant Killer Monster Snow Goons: A Calvin and Hobbes Collection\"], \"yaxis\": \"y\"}, {\"alignmentgroup\": \"True\", \"hovertemplate\": \"original_title=%{y}<br>average_rating=%{x}<extra></extra>\", \"legendgroup\": \"Homicidal Psycho Jungle Cat: A Calvin and Hobbes Collection\", \"marker\": {\"color\": \"#EF553B\"}, \"name\": \"Homicidal Psycho Jungle Cat: A Calvin and Hobbes Collection\", \"offsetgroup\": \"Homicidal Psycho Jungle Cat: A Calvin and Hobbes Collection\", \"orientation\": \"h\", \"showlegend\": true, \"textposition\": \"auto\", \"type\": \"bar\", \"x\": [4.71], \"xaxis\": \"x\", \"y\": [\"Homicidal Psycho Jungle Cat: A Calvin and Hobbes Collection\"], \"yaxis\": \"y\"}, {\"alignmentgroup\": \"True\", \"hovertemplate\": \"original_title=%{y}<br>average_rating=%{x}<extra></extra>\", \"legendgroup\": \"The Days Are Just Packed: A Calvin and Hobbes Collection\", \"marker\": {\"color\": \"#00cc96\"}, \"name\": \"The Days Are Just Packed: A Calvin and Hobbes Collection\", \"offsetgroup\": \"The Days Are Just Packed: A Calvin and Hobbes Collection\", \"orientation\": \"h\", \"showlegend\": true, \"textposition\": \"auto\", \"type\": \"bar\", \"x\": [4.68], \"xaxis\": \"x\", \"y\": [\"The Days Are Just Packed: A Calvin and Hobbes Collection\"], \"yaxis\": \"y\"}, {\"alignmentgroup\": \"True\", \"hovertemplate\": \"original_title=%{y}<br>average_rating=%{x}<extra></extra>\", \"legendgroup\": \"The Way of Kings, Part 1\", \"marker\": {\"color\": \"#ab63fa\"}, \"name\": \"The Way of Kings, Part 1\", \"offsetgroup\": \"The Way of Kings, Part 1\", \"orientation\": \"h\", \"showlegend\": true, \"textposition\": \"auto\", \"type\": \"bar\", \"x\": [4.67], \"xaxis\": \"x\", \"y\": [\"The Way of Kings, Part 1\"], \"yaxis\": \"y\"}, {\"alignmentgroup\": \"True\", \"hovertemplate\": \"original_title=%{y}<br>average_rating=%{x}<extra></extra>\", \"legendgroup\": \"Harry Potter Boxed Set Books 1-4\", \"marker\": {\"color\": \"#FFA15A\"}, \"name\": \"Harry Potter Boxed Set Books 1-4\", \"offsetgroup\": \"Harry Potter Boxed Set Books 1-4\", \"orientation\": \"h\", \"showlegend\": true, \"textposition\": \"auto\", \"type\": \"bar\", \"x\": [4.66], \"xaxis\": \"x\", \"y\": [\"Harry Potter Boxed Set Books 1-4\"], \"yaxis\": \"y\"}, {\"alignmentgroup\": \"True\", \"hovertemplate\": \"original_title=%{y}<br>average_rating=%{x}<extra></extra>\", \"legendgroup\": \"The Calvin and Hobbes Lazy Sunday Book\", \"marker\": {\"color\": \"#19d3f3\"}, \"name\": \"The Calvin and Hobbes Lazy Sunday Book\", \"offsetgroup\": \"The Calvin and Hobbes Lazy Sunday Book\", \"orientation\": \"h\", \"showlegend\": true, \"textposition\": \"auto\", \"type\": \"bar\", \"x\": [4.66], \"xaxis\": \"x\", \"y\": [\"The Calvin and Hobbes Lazy Sunday Book\"], \"yaxis\": \"y\"}, {\"alignmentgroup\": \"True\", \"hovertemplate\": \"original_title=%{y}<br>average_rating=%{x}<extra></extra>\", \"legendgroup\": \"Holy Bible English Standard Version\", \"marker\": {\"color\": \"#FF6692\"}, \"name\": \"Holy Bible English Standard Version\", \"offsetgroup\": \"Holy Bible English Standard Version\", \"orientation\": \"h\", \"showlegend\": true, \"textposition\": \"auto\", \"type\": \"bar\", \"x\": [4.66], \"xaxis\": \"x\", \"y\": [\"Holy Bible English Standard Version\"], \"yaxis\": \"y\"}, {\"alignmentgroup\": \"True\", \"hovertemplate\": \"original_title=%{y}<br>average_rating=%{x}<extra></extra>\", \"legendgroup\": \"The Essential Calvin and Hobbes: A Calvin and Hobbes Treasury\", \"marker\": {\"color\": \"#B6E880\"}, \"name\": \"The Essential Calvin and Hobbes: A Calvin and Hobbes Treasury\", \"offsetgroup\": \"The Essential Calvin and Hobbes: A Calvin and Hobbes Treasury\", \"orientation\": \"h\", \"showlegend\": true, \"textposition\": \"auto\", \"type\": \"bar\", \"x\": [4.65], \"xaxis\": \"x\", \"y\": [\"The Essential Calvin and Hobbes: A Calvin and Hobbes Treasury\"], \"yaxis\": \"y\"}, {\"alignmentgroup\": \"True\", \"hovertemplate\": \"original_title=%{y}<br>average_rating=%{x}<extra></extra>\", \"legendgroup\": \"The Absolute Sandman, Volume One\", \"marker\": {\"color\": \"#FF97FF\"}, \"name\": \"The Absolute Sandman, Volume One\", \"offsetgroup\": \"The Absolute Sandman, Volume One\", \"orientation\": \"h\", \"showlegend\": true, \"textposition\": \"auto\", \"type\": \"bar\", \"x\": [4.65], \"xaxis\": \"x\", \"y\": [\"The Absolute Sandman, Volume One\"], \"yaxis\": \"y\"}, {\"alignmentgroup\": \"True\", \"hovertemplate\": \"original_title=%{y}<br>average_rating=%{x}<extra></extra>\", \"legendgroup\": \"A Song of Ice and Fire Graphic Novels\", \"marker\": {\"color\": \"#FECB52\"}, \"name\": \"A Song of Ice and Fire Graphic Novels\", \"offsetgroup\": \"A Song of Ice and Fire Graphic Novels\", \"orientation\": \"h\", \"showlegend\": true, \"textposition\": \"auto\", \"type\": \"bar\", \"x\": [4.65], \"xaxis\": \"x\", \"y\": [\"A Song of Ice and Fire Graphic Novels\"], \"yaxis\": \"y\"}, {\"alignmentgroup\": \"True\", \"hovertemplate\": \"original_title=%{y}<br>average_rating=%{x}<extra></extra>\", \"legendgroup\": \"The Way of Kings\", \"marker\": {\"color\": \"#636efa\"}, \"name\": \"The Way of Kings\", \"offsetgroup\": \"The Way of Kings\", \"orientation\": \"h\", \"showlegend\": true, \"textposition\": \"auto\", \"type\": \"bar\", \"x\": [4.64], \"xaxis\": \"x\", \"y\": [\"The Way of Kings\"], \"yaxis\": \"y\"}, {\"alignmentgroup\": \"True\", \"hovertemplate\": \"original_title=%{y}<br>average_rating=%{x}<extra></extra>\", \"legendgroup\": \"The Calvin and Hobbes Tenth Anniversary Book\", \"marker\": {\"color\": \"#EF553B\"}, \"name\": \"The Calvin and Hobbes Tenth Anniversary Book\", \"offsetgroup\": \"The Calvin and Hobbes Tenth Anniversary Book\", \"orientation\": \"h\", \"showlegend\": true, \"textposition\": \"auto\", \"type\": \"bar\", \"x\": [4.63], \"xaxis\": \"x\", \"y\": [\"The Calvin and Hobbes Tenth Anniversary Book\"], \"yaxis\": \"y\"}, {\"alignmentgroup\": \"True\", \"hovertemplate\": \"original_title=%{y}<br>average_rating=%{x}<extra></extra>\", \"legendgroup\": \"A Song of Ice and Fire\", \"marker\": {\"color\": \"#00cc96\"}, \"name\": \"A Song of Ice and Fire\", \"offsetgroup\": \"A Song of Ice and Fire\", \"orientation\": \"h\", \"showlegend\": true, \"textposition\": \"auto\", \"type\": \"bar\", \"x\": [4.63], \"xaxis\": \"x\", \"y\": [\"A Song of Ice and Fire\"], \"yaxis\": \"y\"}, {\"alignmentgroup\": \"True\", \"hovertemplate\": \"original_title=%{y}<br>average_rating=%{x}<extra></extra>\", \"legendgroup\": \"\\u062f\\u06cc\\u0648\\u0627\\u0646\\u200e\\u200e [D\\u012bv\\u0101n]\", \"marker\": {\"color\": \"#ab63fa\"}, \"name\": \"\\u062f\\u06cc\\u0648\\u0627\\u0646\\u200e\\u200e [D\\u012bv\\u0101n]\", \"offsetgroup\": \"\\u062f\\u06cc\\u0648\\u0627\\u0646\\u200e\\u200e [D\\u012bv\\u0101n]\", \"orientation\": \"h\", \"showlegend\": true, \"textposition\": \"auto\", \"type\": \"bar\", \"x\": [4.63], \"xaxis\": \"x\", \"y\": [\"\\u062f\\u06cc\\u0648\\u0627\\u0646\\u200e\\u200e [D\\u012bv\\u0101n]\"], \"yaxis\": \"y\"}, {\"alignmentgroup\": \"True\", \"hovertemplate\": \"original_title=%{y}<br>average_rating=%{x}<extra></extra>\", \"legendgroup\": \"The Hate U Give\", \"marker\": {\"color\": \"#FFA15A\"}, \"name\": \"The Hate U Give\", \"offsetgroup\": \"The Hate U Give\", \"orientation\": \"h\", \"showlegend\": true, \"textposition\": \"auto\", \"type\": \"bar\", \"x\": [4.62], \"xaxis\": \"x\", \"y\": [\"The Hate U Give\"], \"yaxis\": \"y\"}],                        {\"barmode\": \"relative\", \"height\": 700, \"legend\": {\"title\": {\"text\": \"original_title\"}, \"tracegroupgap\": 0}, \"template\": {\"data\": {\"bar\": [{\"error_x\": {\"color\": \"#2a3f5f\"}, \"error_y\": {\"color\": \"#2a3f5f\"}, \"marker\": {\"line\": {\"color\": \"#E5ECF6\", \"width\": 0.5}}, \"type\": \"bar\"}], \"barpolar\": [{\"marker\": {\"line\": {\"color\": \"#E5ECF6\", \"width\": 0.5}}, \"type\": \"barpolar\"}], \"carpet\": [{\"aaxis\": {\"endlinecolor\": \"#2a3f5f\", \"gridcolor\": \"white\", \"linecolor\": \"white\", \"minorgridcolor\": \"white\", \"startlinecolor\": \"#2a3f5f\"}, \"baxis\": {\"endlinecolor\": \"#2a3f5f\", \"gridcolor\": \"white\", \"linecolor\": \"white\", \"minorgridcolor\": \"white\", \"startlinecolor\": \"#2a3f5f\"}, \"type\": \"carpet\"}], \"choropleth\": [{\"colorbar\": {\"outlinewidth\": 0, \"ticks\": \"\"}, \"type\": \"choropleth\"}], \"contour\": [{\"colorbar\": {\"outlinewidth\": 0, \"ticks\": \"\"}, \"colorscale\": [[0.0, \"#0d0887\"], [0.1111111111111111, \"#46039f\"], [0.2222222222222222, \"#7201a8\"], [0.3333333333333333, \"#9c179e\"], [0.4444444444444444, \"#bd3786\"], [0.5555555555555556, \"#d8576b\"], [0.6666666666666666, \"#ed7953\"], [0.7777777777777778, \"#fb9f3a\"], [0.8888888888888888, \"#fdca26\"], [1.0, \"#f0f921\"]], \"type\": \"contour\"}], \"contourcarpet\": [{\"colorbar\": {\"outlinewidth\": 0, \"ticks\": \"\"}, \"type\": \"contourcarpet\"}], \"heatmap\": [{\"colorbar\": {\"outlinewidth\": 0, \"ticks\": \"\"}, \"colorscale\": [[0.0, \"#0d0887\"], [0.1111111111111111, \"#46039f\"], [0.2222222222222222, \"#7201a8\"], [0.3333333333333333, \"#9c179e\"], [0.4444444444444444, \"#bd3786\"], [0.5555555555555556, \"#d8576b\"], [0.6666666666666666, \"#ed7953\"], [0.7777777777777778, \"#fb9f3a\"], [0.8888888888888888, \"#fdca26\"], [1.0, \"#f0f921\"]], \"type\": \"heatmap\"}], \"heatmapgl\": [{\"colorbar\": {\"outlinewidth\": 0, \"ticks\": \"\"}, \"colorscale\": [[0.0, \"#0d0887\"], [0.1111111111111111, \"#46039f\"], [0.2222222222222222, \"#7201a8\"], [0.3333333333333333, \"#9c179e\"], [0.4444444444444444, \"#bd3786\"], [0.5555555555555556, \"#d8576b\"], [0.6666666666666666, \"#ed7953\"], [0.7777777777777778, \"#fb9f3a\"], [0.8888888888888888, \"#fdca26\"], [1.0, \"#f0f921\"]], \"type\": \"heatmapgl\"}], \"histogram\": [{\"marker\": {\"colorbar\": {\"outlinewidth\": 0, \"ticks\": \"\"}}, \"type\": \"histogram\"}], \"histogram2d\": [{\"colorbar\": {\"outlinewidth\": 0, \"ticks\": \"\"}, \"colorscale\": [[0.0, \"#0d0887\"], [0.1111111111111111, \"#46039f\"], [0.2222222222222222, \"#7201a8\"], [0.3333333333333333, \"#9c179e\"], [0.4444444444444444, \"#bd3786\"], [0.5555555555555556, \"#d8576b\"], [0.6666666666666666, \"#ed7953\"], [0.7777777777777778, \"#fb9f3a\"], [0.8888888888888888, \"#fdca26\"], [1.0, \"#f0f921\"]], \"type\": \"histogram2d\"}], \"histogram2dcontour\": [{\"colorbar\": {\"outlinewidth\": 0, \"ticks\": \"\"}, \"colorscale\": [[0.0, \"#0d0887\"], [0.1111111111111111, \"#46039f\"], [0.2222222222222222, \"#7201a8\"], [0.3333333333333333, \"#9c179e\"], [0.4444444444444444, \"#bd3786\"], [0.5555555555555556, \"#d8576b\"], [0.6666666666666666, \"#ed7953\"], [0.7777777777777778, \"#fb9f3a\"], [0.8888888888888888, \"#fdca26\"], [1.0, \"#f0f921\"]], \"type\": \"histogram2dcontour\"}], \"mesh3d\": [{\"colorbar\": {\"outlinewidth\": 0, \"ticks\": \"\"}, \"type\": \"mesh3d\"}], \"parcoords\": [{\"line\": {\"colorbar\": {\"outlinewidth\": 0, \"ticks\": \"\"}}, \"type\": \"parcoords\"}], \"pie\": [{\"automargin\": true, \"type\": \"pie\"}], \"scatter\": [{\"marker\": {\"colorbar\": {\"outlinewidth\": 0, \"ticks\": \"\"}}, \"type\": \"scatter\"}], \"scatter3d\": [{\"line\": {\"colorbar\": {\"outlinewidth\": 0, \"ticks\": \"\"}}, \"marker\": {\"colorbar\": {\"outlinewidth\": 0, \"ticks\": \"\"}}, \"type\": \"scatter3d\"}], \"scattercarpet\": [{\"marker\": {\"colorbar\": {\"outlinewidth\": 0, \"ticks\": \"\"}}, \"type\": \"scattercarpet\"}], \"scattergeo\": [{\"marker\": {\"colorbar\": {\"outlinewidth\": 0, \"ticks\": \"\"}}, \"type\": \"scattergeo\"}], \"scattergl\": [{\"marker\": {\"colorbar\": {\"outlinewidth\": 0, \"ticks\": \"\"}}, \"type\": \"scattergl\"}], \"scattermapbox\": [{\"marker\": {\"colorbar\": {\"outlinewidth\": 0, \"ticks\": \"\"}}, \"type\": \"scattermapbox\"}], \"scatterpolar\": [{\"marker\": {\"colorbar\": {\"outlinewidth\": 0, \"ticks\": \"\"}}, \"type\": \"scatterpolar\"}], \"scatterpolargl\": [{\"marker\": {\"colorbar\": {\"outlinewidth\": 0, \"ticks\": \"\"}}, \"type\": \"scatterpolargl\"}], \"scatterternary\": [{\"marker\": {\"colorbar\": {\"outlinewidth\": 0, \"ticks\": \"\"}}, \"type\": \"scatterternary\"}], \"surface\": [{\"colorbar\": {\"outlinewidth\": 0, \"ticks\": \"\"}, \"colorscale\": [[0.0, \"#0d0887\"], [0.1111111111111111, \"#46039f\"], [0.2222222222222222, \"#7201a8\"], [0.3333333333333333, \"#9c179e\"], [0.4444444444444444, \"#bd3786\"], [0.5555555555555556, \"#d8576b\"], [0.6666666666666666, \"#ed7953\"], [0.7777777777777778, \"#fb9f3a\"], [0.8888888888888888, \"#fdca26\"], [1.0, \"#f0f921\"]], \"type\": \"surface\"}], \"table\": [{\"cells\": {\"fill\": {\"color\": \"#EBF0F8\"}, \"line\": {\"color\": \"white\"}}, \"header\": {\"fill\": {\"color\": \"#C8D4E3\"}, \"line\": {\"color\": \"white\"}}, \"type\": \"table\"}]}, \"layout\": {\"annotationdefaults\": {\"arrowcolor\": \"#2a3f5f\", \"arrowhead\": 0, \"arrowwidth\": 1}, \"coloraxis\": {\"colorbar\": {\"outlinewidth\": 0, \"ticks\": \"\"}}, \"colorscale\": {\"diverging\": [[0, \"#8e0152\"], [0.1, \"#c51b7d\"], [0.2, \"#de77ae\"], [0.3, \"#f1b6da\"], [0.4, \"#fde0ef\"], [0.5, \"#f7f7f7\"], [0.6, \"#e6f5d0\"], [0.7, \"#b8e186\"], [0.8, \"#7fbc41\"], [0.9, \"#4d9221\"], [1, \"#276419\"]], \"sequential\": [[0.0, \"#0d0887\"], [0.1111111111111111, \"#46039f\"], [0.2222222222222222, \"#7201a8\"], [0.3333333333333333, \"#9c179e\"], [0.4444444444444444, \"#bd3786\"], [0.5555555555555556, \"#d8576b\"], [0.6666666666666666, \"#ed7953\"], [0.7777777777777778, \"#fb9f3a\"], [0.8888888888888888, \"#fdca26\"], [1.0, \"#f0f921\"]], \"sequentialminus\": [[0.0, \"#0d0887\"], [0.1111111111111111, \"#46039f\"], [0.2222222222222222, \"#7201a8\"], [0.3333333333333333, \"#9c179e\"], [0.4444444444444444, \"#bd3786\"], [0.5555555555555556, \"#d8576b\"], [0.6666666666666666, \"#ed7953\"], [0.7777777777777778, \"#fb9f3a\"], [0.8888888888888888, \"#fdca26\"], [1.0, \"#f0f921\"]]}, \"colorway\": [\"#636efa\", \"#EF553B\", \"#00cc96\", \"#ab63fa\", \"#FFA15A\", \"#19d3f3\", \"#FF6692\", \"#B6E880\", \"#FF97FF\", \"#FECB52\"], \"font\": {\"color\": \"#2a3f5f\"}, \"geo\": {\"bgcolor\": \"white\", \"lakecolor\": \"white\", \"landcolor\": \"#E5ECF6\", \"showlakes\": true, \"showland\": true, \"subunitcolor\": \"white\"}, \"hoverlabel\": {\"align\": \"left\"}, \"hovermode\": \"closest\", \"mapbox\": {\"style\": \"light\"}, \"paper_bgcolor\": \"white\", \"plot_bgcolor\": \"#E5ECF6\", \"polar\": {\"angularaxis\": {\"gridcolor\": \"white\", \"linecolor\": \"white\", \"ticks\": \"\"}, \"bgcolor\": \"#E5ECF6\", \"radialaxis\": {\"gridcolor\": \"white\", \"linecolor\": \"white\", \"ticks\": \"\"}}, \"scene\": {\"xaxis\": {\"backgroundcolor\": \"#E5ECF6\", \"gridcolor\": \"white\", \"gridwidth\": 2, \"linecolor\": \"white\", \"showbackground\": true, \"ticks\": \"\", \"zerolinecolor\": \"white\"}, \"yaxis\": {\"backgroundcolor\": \"#E5ECF6\", \"gridcolor\": \"white\", \"gridwidth\": 2, \"linecolor\": \"white\", \"showbackground\": true, \"ticks\": \"\", \"zerolinecolor\": \"white\"}, \"zaxis\": {\"backgroundcolor\": \"#E5ECF6\", \"gridcolor\": \"white\", \"gridwidth\": 2, \"linecolor\": \"white\", \"showbackground\": true, \"ticks\": \"\", \"zerolinecolor\": \"white\"}}, \"shapedefaults\": {\"line\": {\"color\": \"#2a3f5f\"}}, \"ternary\": {\"aaxis\": {\"gridcolor\": \"white\", \"linecolor\": \"white\", \"ticks\": \"\"}, \"baxis\": {\"gridcolor\": \"white\", \"linecolor\": \"white\", \"ticks\": \"\"}, \"bgcolor\": \"#E5ECF6\", \"caxis\": {\"gridcolor\": \"white\", \"linecolor\": \"white\", \"ticks\": \"\"}}, \"title\": {\"x\": 0.05}, \"xaxis\": {\"automargin\": true, \"gridcolor\": \"white\", \"linecolor\": \"white\", \"ticks\": \"\", \"title\": {\"standoff\": 15}, \"zerolinecolor\": \"white\", \"zerolinewidth\": 2}, \"yaxis\": {\"automargin\": true, \"gridcolor\": \"white\", \"linecolor\": \"white\", \"ticks\": \"\", \"title\": {\"standoff\": 15}, \"zerolinecolor\": \"white\", \"zerolinewidth\": 2}}}, \"title\": {\"text\": \"Top Rated Books and Their Ratings\"}, \"width\": 1500, \"xaxis\": {\"anchor\": \"y\", \"domain\": [0.0, 1.0], \"title\": {\"text\": \"average_rating\"}}, \"yaxis\": {\"anchor\": \"x\", \"categoryarray\": [\"The Hate U Give\", \"\\u062f\\u06cc\\u0648\\u0627\\u0646\\u200e\\u200e [D\\u012bv\\u0101n]\", \"A Song of Ice and Fire\", \"The Calvin and Hobbes Tenth Anniversary Book\", \"The Way of Kings\", \"A Song of Ice and Fire Graphic Novels\", \"The Absolute Sandman, Volume One\", \"The Essential Calvin and Hobbes: A Calvin and Hobbes Treasury\", \"Holy Bible English Standard Version\", \"The Calvin and Hobbes Lazy Sunday Book\", \"Harry Potter Boxed Set Books 1-4\", \"The Way of Kings, Part 1\", \"The Days Are Just Packed: A Calvin and Hobbes Collection\", \"Homicidal Psycho Jungle Cat: A Calvin and Hobbes Collection\", \"Attack of the Deranged Mutant Killer Monster Snow Goons: A Calvin and Hobbes Collection\", \"A Court of Mist and Fury\", \"The Authoritative Calvin and Hobbes\", \"The Indispensable Calvin and Hobbes: A Calvin and Hobbes Treasury\", \"Harry Potter Collection (Harry Potter, #1-6)\", \"Complete Harry Potter Boxed Set\", \"There's Treasure Everywhere: A Calvin and Hobbes Collection\", \"It's a Magical World: A Calvin and Hobbes Collection\", \"Mark of the Lion Trilogy\", \"Words of Radiance\", \"The Complete Calvin and Hobbes\"], \"categoryorder\": \"array\", \"domain\": [0.0, 1.0], \"title\": {\"text\": \"original_title\"}}},                        {\"responsive\": true}                    ).then(function(){\n",
       "                            \n",
       "var gd = document.getElementById('b1c41f81-586d-49a4-b7c8-cc40d1f7c1c8');\n",
       "var x = new MutationObserver(function (mutations, observer) {{\n",
       "        var display = window.getComputedStyle(gd).display;\n",
       "        if (!display || display === 'none') {{\n",
       "            console.log([gd, 'removed!']);\n",
       "            Plotly.purge(gd);\n",
       "            observer.disconnect();\n",
       "        }}\n",
       "}});\n",
       "\n",
       "// Listen for the removal of the full notebook cells\n",
       "var notebookContainer = gd.closest('#notebook-container');\n",
       "if (notebookContainer) {{\n",
       "    x.observe(notebookContainer, {childList: true});\n",
       "}}\n",
       "\n",
       "// Listen for the clearing of the current output cell\n",
       "var outputEl = gd.closest('.output');\n",
       "if (outputEl) {{\n",
       "    x.observe(outputEl, {childList: true});\n",
       "}}\n",
       "\n",
       "                        })                };                });            </script>        </div>"
      ]
     },
     "metadata": {},
     "output_type": "display_data"
    }
   ],
   "source": [
    "top_rated = books_data.sort_values('average_rating', ascending=False)\n",
    "tf_top_rated = top_rated[:25]\n",
    "fig = px.bar(tf_top_rated, x=\"average_rating\", y=\"original_title\", title='Top Rated Books and Their Ratings',\n",
    "             orientation='h', color='original_title', width=1500, height=700)\n",
    "fig.show()\n",
    "#fig.write_image('images/book_bar.jpg')"
   ]
  },
  {
   "cell_type": "code",
   "execution_count": 3,
   "metadata": {},
   "outputs": [
    {
     "data": {
      "application/vnd.plotly.v1+json": {
       "config": {
        "plotlyServerURL": "https://plot.ly"
       },
       "data": [
        {
         "branchvalues": "total",
         "domain": {
          "x": [
           0,
           1
          ],
          "y": [
           0,
           1
          ]
         },
         "hovertemplate": "labels=%{label}<br>average_rating=%{value}<br>parent=%{parent}<br>id=%{id}<extra></extra>",
         "ids": [
          "A Court of Mist and Fury",
          "A Song of Ice and Fire",
          "A Song of Ice and Fire Graphic Novels",
          "Attack of the Deranged Mutant Killer Monster Snow Goons: A Calvin and Hobbes Collection",
          "Complete Harry Potter Boxed Set",
          "Harry Potter Boxed Set Books 1-4",
          "Harry Potter Collection (Harry Potter, #1-6)",
          "Holy Bible English Standard Version",
          "Homicidal Psycho Jungle Cat: A Calvin and Hobbes Collection",
          "It's a Magical World: A Calvin and Hobbes Collection",
          "Mark of the Lion Trilogy",
          "The Absolute Sandman, Volume One",
          "The Authoritative Calvin and Hobbes",
          "The Calvin and Hobbes Lazy Sunday Book",
          "The Calvin and Hobbes Tenth Anniversary Book",
          "The Complete Calvin and Hobbes",
          "The Days Are Just Packed: A Calvin and Hobbes Collection",
          "The Essential Calvin and Hobbes: A Calvin and Hobbes Treasury",
          "The Hate U Give",
          "The Indispensable Calvin and Hobbes: A Calvin and Hobbes Treasury",
          "The Way of Kings",
          "The Way of Kings, Part 1",
          "There's Treasure Everywhere: A Calvin and Hobbes Collection",
          "Words of Radiance",
          "دیوان‎‎ [Dīvān]"
         ],
         "labels": [
          "A Court of Mist and Fury",
          "A Song of Ice and Fire",
          "A Song of Ice and Fire Graphic Novels",
          "Attack of the Deranged Mutant Killer Monster Snow Goons: A Calvin and Hobbes Collection",
          "Complete Harry Potter Boxed Set",
          "Harry Potter Boxed Set Books 1-4",
          "Harry Potter Collection (Harry Potter, #1-6)",
          "Holy Bible English Standard Version",
          "Homicidal Psycho Jungle Cat: A Calvin and Hobbes Collection",
          "It's a Magical World: A Calvin and Hobbes Collection",
          "Mark of the Lion Trilogy",
          "The Absolute Sandman, Volume One",
          "The Authoritative Calvin and Hobbes",
          "The Calvin and Hobbes Lazy Sunday Book",
          "The Calvin and Hobbes Tenth Anniversary Book",
          "The Complete Calvin and Hobbes",
          "The Days Are Just Packed: A Calvin and Hobbes Collection",
          "The Essential Calvin and Hobbes: A Calvin and Hobbes Treasury",
          "The Hate U Give",
          "The Indispensable Calvin and Hobbes: A Calvin and Hobbes Treasury",
          "The Way of Kings",
          "The Way of Kings, Part 1",
          "There's Treasure Everywhere: A Calvin and Hobbes Collection",
          "Words of Radiance",
          "دیوان‎‎ [Dīvān]"
         ],
         "name": "",
         "parents": [
          "",
          "",
          "",
          "",
          "",
          "",
          "",
          "",
          "",
          "",
          "",
          "",
          "",
          "",
          "",
          "",
          "",
          "",
          "",
          "",
          "",
          "",
          "",
          "",
          ""
         ],
         "type": "treemap",
         "values": [
          4.72,
          4.63,
          4.65,
          4.72,
          4.74,
          4.66,
          4.73,
          4.66,
          4.71,
          4.75,
          4.76,
          4.65,
          4.73,
          4.66,
          4.63,
          4.82,
          4.68,
          4.65,
          4.62,
          4.73,
          4.64,
          4.67,
          4.74,
          4.77,
          4.63
         ]
        }
       ],
       "layout": {
        "height": 700,
        "legend": {
         "tracegroupgap": 0
        },
        "template": {
         "data": {
          "bar": [
           {
            "error_x": {
             "color": "#2a3f5f"
            },
            "error_y": {
             "color": "#2a3f5f"
            },
            "marker": {
             "line": {
              "color": "#E5ECF6",
              "width": 0.5
             }
            },
            "type": "bar"
           }
          ],
          "barpolar": [
           {
            "marker": {
             "line": {
              "color": "#E5ECF6",
              "width": 0.5
             }
            },
            "type": "barpolar"
           }
          ],
          "carpet": [
           {
            "aaxis": {
             "endlinecolor": "#2a3f5f",
             "gridcolor": "white",
             "linecolor": "white",
             "minorgridcolor": "white",
             "startlinecolor": "#2a3f5f"
            },
            "baxis": {
             "endlinecolor": "#2a3f5f",
             "gridcolor": "white",
             "linecolor": "white",
             "minorgridcolor": "white",
             "startlinecolor": "#2a3f5f"
            },
            "type": "carpet"
           }
          ],
          "choropleth": [
           {
            "colorbar": {
             "outlinewidth": 0,
             "ticks": ""
            },
            "type": "choropleth"
           }
          ],
          "contour": [
           {
            "colorbar": {
             "outlinewidth": 0,
             "ticks": ""
            },
            "colorscale": [
             [
              0,
              "#0d0887"
             ],
             [
              0.1111111111111111,
              "#46039f"
             ],
             [
              0.2222222222222222,
              "#7201a8"
             ],
             [
              0.3333333333333333,
              "#9c179e"
             ],
             [
              0.4444444444444444,
              "#bd3786"
             ],
             [
              0.5555555555555556,
              "#d8576b"
             ],
             [
              0.6666666666666666,
              "#ed7953"
             ],
             [
              0.7777777777777778,
              "#fb9f3a"
             ],
             [
              0.8888888888888888,
              "#fdca26"
             ],
             [
              1,
              "#f0f921"
             ]
            ],
            "type": "contour"
           }
          ],
          "contourcarpet": [
           {
            "colorbar": {
             "outlinewidth": 0,
             "ticks": ""
            },
            "type": "contourcarpet"
           }
          ],
          "heatmap": [
           {
            "colorbar": {
             "outlinewidth": 0,
             "ticks": ""
            },
            "colorscale": [
             [
              0,
              "#0d0887"
             ],
             [
              0.1111111111111111,
              "#46039f"
             ],
             [
              0.2222222222222222,
              "#7201a8"
             ],
             [
              0.3333333333333333,
              "#9c179e"
             ],
             [
              0.4444444444444444,
              "#bd3786"
             ],
             [
              0.5555555555555556,
              "#d8576b"
             ],
             [
              0.6666666666666666,
              "#ed7953"
             ],
             [
              0.7777777777777778,
              "#fb9f3a"
             ],
             [
              0.8888888888888888,
              "#fdca26"
             ],
             [
              1,
              "#f0f921"
             ]
            ],
            "type": "heatmap"
           }
          ],
          "heatmapgl": [
           {
            "colorbar": {
             "outlinewidth": 0,
             "ticks": ""
            },
            "colorscale": [
             [
              0,
              "#0d0887"
             ],
             [
              0.1111111111111111,
              "#46039f"
             ],
             [
              0.2222222222222222,
              "#7201a8"
             ],
             [
              0.3333333333333333,
              "#9c179e"
             ],
             [
              0.4444444444444444,
              "#bd3786"
             ],
             [
              0.5555555555555556,
              "#d8576b"
             ],
             [
              0.6666666666666666,
              "#ed7953"
             ],
             [
              0.7777777777777778,
              "#fb9f3a"
             ],
             [
              0.8888888888888888,
              "#fdca26"
             ],
             [
              1,
              "#f0f921"
             ]
            ],
            "type": "heatmapgl"
           }
          ],
          "histogram": [
           {
            "marker": {
             "colorbar": {
              "outlinewidth": 0,
              "ticks": ""
             }
            },
            "type": "histogram"
           }
          ],
          "histogram2d": [
           {
            "colorbar": {
             "outlinewidth": 0,
             "ticks": ""
            },
            "colorscale": [
             [
              0,
              "#0d0887"
             ],
             [
              0.1111111111111111,
              "#46039f"
             ],
             [
              0.2222222222222222,
              "#7201a8"
             ],
             [
              0.3333333333333333,
              "#9c179e"
             ],
             [
              0.4444444444444444,
              "#bd3786"
             ],
             [
              0.5555555555555556,
              "#d8576b"
             ],
             [
              0.6666666666666666,
              "#ed7953"
             ],
             [
              0.7777777777777778,
              "#fb9f3a"
             ],
             [
              0.8888888888888888,
              "#fdca26"
             ],
             [
              1,
              "#f0f921"
             ]
            ],
            "type": "histogram2d"
           }
          ],
          "histogram2dcontour": [
           {
            "colorbar": {
             "outlinewidth": 0,
             "ticks": ""
            },
            "colorscale": [
             [
              0,
              "#0d0887"
             ],
             [
              0.1111111111111111,
              "#46039f"
             ],
             [
              0.2222222222222222,
              "#7201a8"
             ],
             [
              0.3333333333333333,
              "#9c179e"
             ],
             [
              0.4444444444444444,
              "#bd3786"
             ],
             [
              0.5555555555555556,
              "#d8576b"
             ],
             [
              0.6666666666666666,
              "#ed7953"
             ],
             [
              0.7777777777777778,
              "#fb9f3a"
             ],
             [
              0.8888888888888888,
              "#fdca26"
             ],
             [
              1,
              "#f0f921"
             ]
            ],
            "type": "histogram2dcontour"
           }
          ],
          "mesh3d": [
           {
            "colorbar": {
             "outlinewidth": 0,
             "ticks": ""
            },
            "type": "mesh3d"
           }
          ],
          "parcoords": [
           {
            "line": {
             "colorbar": {
              "outlinewidth": 0,
              "ticks": ""
             }
            },
            "type": "parcoords"
           }
          ],
          "pie": [
           {
            "automargin": true,
            "type": "pie"
           }
          ],
          "scatter": [
           {
            "marker": {
             "colorbar": {
              "outlinewidth": 0,
              "ticks": ""
             }
            },
            "type": "scatter"
           }
          ],
          "scatter3d": [
           {
            "line": {
             "colorbar": {
              "outlinewidth": 0,
              "ticks": ""
             }
            },
            "marker": {
             "colorbar": {
              "outlinewidth": 0,
              "ticks": ""
             }
            },
            "type": "scatter3d"
           }
          ],
          "scattercarpet": [
           {
            "marker": {
             "colorbar": {
              "outlinewidth": 0,
              "ticks": ""
             }
            },
            "type": "scattercarpet"
           }
          ],
          "scattergeo": [
           {
            "marker": {
             "colorbar": {
              "outlinewidth": 0,
              "ticks": ""
             }
            },
            "type": "scattergeo"
           }
          ],
          "scattergl": [
           {
            "marker": {
             "colorbar": {
              "outlinewidth": 0,
              "ticks": ""
             }
            },
            "type": "scattergl"
           }
          ],
          "scattermapbox": [
           {
            "marker": {
             "colorbar": {
              "outlinewidth": 0,
              "ticks": ""
             }
            },
            "type": "scattermapbox"
           }
          ],
          "scatterpolar": [
           {
            "marker": {
             "colorbar": {
              "outlinewidth": 0,
              "ticks": ""
             }
            },
            "type": "scatterpolar"
           }
          ],
          "scatterpolargl": [
           {
            "marker": {
             "colorbar": {
              "outlinewidth": 0,
              "ticks": ""
             }
            },
            "type": "scatterpolargl"
           }
          ],
          "scatterternary": [
           {
            "marker": {
             "colorbar": {
              "outlinewidth": 0,
              "ticks": ""
             }
            },
            "type": "scatterternary"
           }
          ],
          "surface": [
           {
            "colorbar": {
             "outlinewidth": 0,
             "ticks": ""
            },
            "colorscale": [
             [
              0,
              "#0d0887"
             ],
             [
              0.1111111111111111,
              "#46039f"
             ],
             [
              0.2222222222222222,
              "#7201a8"
             ],
             [
              0.3333333333333333,
              "#9c179e"
             ],
             [
              0.4444444444444444,
              "#bd3786"
             ],
             [
              0.5555555555555556,
              "#d8576b"
             ],
             [
              0.6666666666666666,
              "#ed7953"
             ],
             [
              0.7777777777777778,
              "#fb9f3a"
             ],
             [
              0.8888888888888888,
              "#fdca26"
             ],
             [
              1,
              "#f0f921"
             ]
            ],
            "type": "surface"
           }
          ],
          "table": [
           {
            "cells": {
             "fill": {
              "color": "#EBF0F8"
             },
             "line": {
              "color": "white"
             }
            },
            "header": {
             "fill": {
              "color": "#C8D4E3"
             },
             "line": {
              "color": "white"
             }
            },
            "type": "table"
           }
          ]
         },
         "layout": {
          "annotationdefaults": {
           "arrowcolor": "#2a3f5f",
           "arrowhead": 0,
           "arrowwidth": 1
          },
          "coloraxis": {
           "colorbar": {
            "outlinewidth": 0,
            "ticks": ""
           }
          },
          "colorscale": {
           "diverging": [
            [
             0,
             "#8e0152"
            ],
            [
             0.1,
             "#c51b7d"
            ],
            [
             0.2,
             "#de77ae"
            ],
            [
             0.3,
             "#f1b6da"
            ],
            [
             0.4,
             "#fde0ef"
            ],
            [
             0.5,
             "#f7f7f7"
            ],
            [
             0.6,
             "#e6f5d0"
            ],
            [
             0.7,
             "#b8e186"
            ],
            [
             0.8,
             "#7fbc41"
            ],
            [
             0.9,
             "#4d9221"
            ],
            [
             1,
             "#276419"
            ]
           ],
           "sequential": [
            [
             0,
             "#0d0887"
            ],
            [
             0.1111111111111111,
             "#46039f"
            ],
            [
             0.2222222222222222,
             "#7201a8"
            ],
            [
             0.3333333333333333,
             "#9c179e"
            ],
            [
             0.4444444444444444,
             "#bd3786"
            ],
            [
             0.5555555555555556,
             "#d8576b"
            ],
            [
             0.6666666666666666,
             "#ed7953"
            ],
            [
             0.7777777777777778,
             "#fb9f3a"
            ],
            [
             0.8888888888888888,
             "#fdca26"
            ],
            [
             1,
             "#f0f921"
            ]
           ],
           "sequentialminus": [
            [
             0,
             "#0d0887"
            ],
            [
             0.1111111111111111,
             "#46039f"
            ],
            [
             0.2222222222222222,
             "#7201a8"
            ],
            [
             0.3333333333333333,
             "#9c179e"
            ],
            [
             0.4444444444444444,
             "#bd3786"
            ],
            [
             0.5555555555555556,
             "#d8576b"
            ],
            [
             0.6666666666666666,
             "#ed7953"
            ],
            [
             0.7777777777777778,
             "#fb9f3a"
            ],
            [
             0.8888888888888888,
             "#fdca26"
            ],
            [
             1,
             "#f0f921"
            ]
           ]
          },
          "colorway": [
           "#636efa",
           "#EF553B",
           "#00cc96",
           "#ab63fa",
           "#FFA15A",
           "#19d3f3",
           "#FF6692",
           "#B6E880",
           "#FF97FF",
           "#FECB52"
          ],
          "font": {
           "color": "#2a3f5f"
          },
          "geo": {
           "bgcolor": "white",
           "lakecolor": "white",
           "landcolor": "#E5ECF6",
           "showlakes": true,
           "showland": true,
           "subunitcolor": "white"
          },
          "hoverlabel": {
           "align": "left"
          },
          "hovermode": "closest",
          "mapbox": {
           "style": "light"
          },
          "paper_bgcolor": "white",
          "plot_bgcolor": "#E5ECF6",
          "polar": {
           "angularaxis": {
            "gridcolor": "white",
            "linecolor": "white",
            "ticks": ""
           },
           "bgcolor": "#E5ECF6",
           "radialaxis": {
            "gridcolor": "white",
            "linecolor": "white",
            "ticks": ""
           }
          },
          "scene": {
           "xaxis": {
            "backgroundcolor": "#E5ECF6",
            "gridcolor": "white",
            "gridwidth": 2,
            "linecolor": "white",
            "showbackground": true,
            "ticks": "",
            "zerolinecolor": "white"
           },
           "yaxis": {
            "backgroundcolor": "#E5ECF6",
            "gridcolor": "white",
            "gridwidth": 2,
            "linecolor": "white",
            "showbackground": true,
            "ticks": "",
            "zerolinecolor": "white"
           },
           "zaxis": {
            "backgroundcolor": "#E5ECF6",
            "gridcolor": "white",
            "gridwidth": 2,
            "linecolor": "white",
            "showbackground": true,
            "ticks": "",
            "zerolinecolor": "white"
           }
          },
          "shapedefaults": {
           "line": {
            "color": "#2a3f5f"
           }
          },
          "ternary": {
           "aaxis": {
            "gridcolor": "white",
            "linecolor": "white",
            "ticks": ""
           },
           "baxis": {
            "gridcolor": "white",
            "linecolor": "white",
            "ticks": ""
           },
           "bgcolor": "#E5ECF6",
           "caxis": {
            "gridcolor": "white",
            "linecolor": "white",
            "ticks": ""
           }
          },
          "title": {
           "x": 0.05
          },
          "xaxis": {
           "automargin": true,
           "gridcolor": "white",
           "linecolor": "white",
           "ticks": "",
           "title": {
            "standoff": 15
           },
           "zerolinecolor": "white",
           "zerolinewidth": 2
          },
          "yaxis": {
           "automargin": true,
           "gridcolor": "white",
           "linecolor": "white",
           "ticks": "",
           "title": {
            "standoff": 15
           },
           "zerolinecolor": "white",
           "zerolinewidth": 2
          }
         }
        },
        "title": {
         "text": "Top Rated Books"
        },
        "width": 1000
       }
      },
      "text/html": [
       "<div>                            <div id=\"c6d2f07a-a1c9-4475-bb3c-4af4a4063ede\" class=\"plotly-graph-div\" style=\"height:700px; width:1000px;\"></div>            <script type=\"text/javascript\">                require([\"plotly\"], function(Plotly) {                    window.PLOTLYENV=window.PLOTLYENV || {};                                    if (document.getElementById(\"c6d2f07a-a1c9-4475-bb3c-4af4a4063ede\")) {                    Plotly.newPlot(                        \"c6d2f07a-a1c9-4475-bb3c-4af4a4063ede\",                        [{\"branchvalues\": \"total\", \"domain\": {\"x\": [0.0, 1.0], \"y\": [0.0, 1.0]}, \"hovertemplate\": \"labels=%{label}<br>average_rating=%{value}<br>parent=%{parent}<br>id=%{id}<extra></extra>\", \"ids\": [\"A Court of Mist and Fury\", \"A Song of Ice and Fire\", \"A Song of Ice and Fire Graphic Novels\", \"Attack of the Deranged Mutant Killer Monster Snow Goons: A Calvin and Hobbes Collection\", \"Complete Harry Potter Boxed Set\", \"Harry Potter Boxed Set Books 1-4\", \"Harry Potter Collection (Harry Potter, #1-6)\", \"Holy Bible English Standard Version\", \"Homicidal Psycho Jungle Cat: A Calvin and Hobbes Collection\", \"It's a Magical World: A Calvin and Hobbes Collection\", \"Mark of the Lion Trilogy\", \"The Absolute Sandman, Volume One\", \"The Authoritative Calvin and Hobbes\", \"The Calvin and Hobbes Lazy Sunday Book\", \"The Calvin and Hobbes Tenth Anniversary Book\", \"The Complete Calvin and Hobbes\", \"The Days Are Just Packed: A Calvin and Hobbes Collection\", \"The Essential Calvin and Hobbes: A Calvin and Hobbes Treasury\", \"The Hate U Give\", \"The Indispensable Calvin and Hobbes: A Calvin and Hobbes Treasury\", \"The Way of Kings\", \"The Way of Kings, Part 1\", \"There's Treasure Everywhere: A Calvin and Hobbes Collection\", \"Words of Radiance\", \"\\u062f\\u06cc\\u0648\\u0627\\u0646\\u200e\\u200e [D\\u012bv\\u0101n]\"], \"labels\": [\"A Court of Mist and Fury\", \"A Song of Ice and Fire\", \"A Song of Ice and Fire Graphic Novels\", \"Attack of the Deranged Mutant Killer Monster Snow Goons: A Calvin and Hobbes Collection\", \"Complete Harry Potter Boxed Set\", \"Harry Potter Boxed Set Books 1-4\", \"Harry Potter Collection (Harry Potter, #1-6)\", \"Holy Bible English Standard Version\", \"Homicidal Psycho Jungle Cat: A Calvin and Hobbes Collection\", \"It's a Magical World: A Calvin and Hobbes Collection\", \"Mark of the Lion Trilogy\", \"The Absolute Sandman, Volume One\", \"The Authoritative Calvin and Hobbes\", \"The Calvin and Hobbes Lazy Sunday Book\", \"The Calvin and Hobbes Tenth Anniversary Book\", \"The Complete Calvin and Hobbes\", \"The Days Are Just Packed: A Calvin and Hobbes Collection\", \"The Essential Calvin and Hobbes: A Calvin and Hobbes Treasury\", \"The Hate U Give\", \"The Indispensable Calvin and Hobbes: A Calvin and Hobbes Treasury\", \"The Way of Kings\", \"The Way of Kings, Part 1\", \"There's Treasure Everywhere: A Calvin and Hobbes Collection\", \"Words of Radiance\", \"\\u062f\\u06cc\\u0648\\u0627\\u0646\\u200e\\u200e [D\\u012bv\\u0101n]\"], \"name\": \"\", \"parents\": [\"\", \"\", \"\", \"\", \"\", \"\", \"\", \"\", \"\", \"\", \"\", \"\", \"\", \"\", \"\", \"\", \"\", \"\", \"\", \"\", \"\", \"\", \"\", \"\", \"\"], \"type\": \"treemap\", \"values\": [4.72, 4.63, 4.65, 4.72, 4.74, 4.66, 4.73, 4.66, 4.71, 4.75, 4.76, 4.65, 4.73, 4.66, 4.63, 4.82, 4.68, 4.65, 4.62, 4.73, 4.64, 4.67, 4.74, 4.77, 4.63]}],                        {\"height\": 700, \"legend\": {\"tracegroupgap\": 0}, \"template\": {\"data\": {\"bar\": [{\"error_x\": {\"color\": \"#2a3f5f\"}, \"error_y\": {\"color\": \"#2a3f5f\"}, \"marker\": {\"line\": {\"color\": \"#E5ECF6\", \"width\": 0.5}}, \"type\": \"bar\"}], \"barpolar\": [{\"marker\": {\"line\": {\"color\": \"#E5ECF6\", \"width\": 0.5}}, \"type\": \"barpolar\"}], \"carpet\": [{\"aaxis\": {\"endlinecolor\": \"#2a3f5f\", \"gridcolor\": \"white\", \"linecolor\": \"white\", \"minorgridcolor\": \"white\", \"startlinecolor\": \"#2a3f5f\"}, \"baxis\": {\"endlinecolor\": \"#2a3f5f\", \"gridcolor\": \"white\", \"linecolor\": \"white\", \"minorgridcolor\": \"white\", \"startlinecolor\": \"#2a3f5f\"}, \"type\": \"carpet\"}], \"choropleth\": [{\"colorbar\": {\"outlinewidth\": 0, \"ticks\": \"\"}, \"type\": \"choropleth\"}], \"contour\": [{\"colorbar\": {\"outlinewidth\": 0, \"ticks\": \"\"}, \"colorscale\": [[0.0, \"#0d0887\"], [0.1111111111111111, \"#46039f\"], [0.2222222222222222, \"#7201a8\"], [0.3333333333333333, \"#9c179e\"], [0.4444444444444444, \"#bd3786\"], [0.5555555555555556, \"#d8576b\"], [0.6666666666666666, \"#ed7953\"], [0.7777777777777778, \"#fb9f3a\"], [0.8888888888888888, \"#fdca26\"], [1.0, \"#f0f921\"]], \"type\": \"contour\"}], \"contourcarpet\": [{\"colorbar\": {\"outlinewidth\": 0, \"ticks\": \"\"}, \"type\": \"contourcarpet\"}], \"heatmap\": [{\"colorbar\": {\"outlinewidth\": 0, \"ticks\": \"\"}, \"colorscale\": [[0.0, \"#0d0887\"], [0.1111111111111111, \"#46039f\"], [0.2222222222222222, \"#7201a8\"], [0.3333333333333333, \"#9c179e\"], [0.4444444444444444, \"#bd3786\"], [0.5555555555555556, \"#d8576b\"], [0.6666666666666666, \"#ed7953\"], [0.7777777777777778, \"#fb9f3a\"], [0.8888888888888888, \"#fdca26\"], [1.0, \"#f0f921\"]], \"type\": \"heatmap\"}], \"heatmapgl\": [{\"colorbar\": {\"outlinewidth\": 0, \"ticks\": \"\"}, \"colorscale\": [[0.0, \"#0d0887\"], [0.1111111111111111, \"#46039f\"], [0.2222222222222222, \"#7201a8\"], [0.3333333333333333, \"#9c179e\"], [0.4444444444444444, \"#bd3786\"], [0.5555555555555556, \"#d8576b\"], [0.6666666666666666, \"#ed7953\"], [0.7777777777777778, \"#fb9f3a\"], [0.8888888888888888, \"#fdca26\"], [1.0, \"#f0f921\"]], \"type\": \"heatmapgl\"}], \"histogram\": [{\"marker\": {\"colorbar\": {\"outlinewidth\": 0, \"ticks\": \"\"}}, \"type\": \"histogram\"}], \"histogram2d\": [{\"colorbar\": {\"outlinewidth\": 0, \"ticks\": \"\"}, \"colorscale\": [[0.0, \"#0d0887\"], [0.1111111111111111, \"#46039f\"], [0.2222222222222222, \"#7201a8\"], [0.3333333333333333, \"#9c179e\"], [0.4444444444444444, \"#bd3786\"], [0.5555555555555556, \"#d8576b\"], [0.6666666666666666, \"#ed7953\"], [0.7777777777777778, \"#fb9f3a\"], [0.8888888888888888, \"#fdca26\"], [1.0, \"#f0f921\"]], \"type\": \"histogram2d\"}], \"histogram2dcontour\": [{\"colorbar\": {\"outlinewidth\": 0, \"ticks\": \"\"}, \"colorscale\": [[0.0, \"#0d0887\"], [0.1111111111111111, \"#46039f\"], [0.2222222222222222, \"#7201a8\"], [0.3333333333333333, \"#9c179e\"], [0.4444444444444444, \"#bd3786\"], [0.5555555555555556, \"#d8576b\"], [0.6666666666666666, \"#ed7953\"], [0.7777777777777778, \"#fb9f3a\"], [0.8888888888888888, \"#fdca26\"], [1.0, \"#f0f921\"]], \"type\": \"histogram2dcontour\"}], \"mesh3d\": [{\"colorbar\": {\"outlinewidth\": 0, \"ticks\": \"\"}, \"type\": \"mesh3d\"}], \"parcoords\": [{\"line\": {\"colorbar\": {\"outlinewidth\": 0, \"ticks\": \"\"}}, \"type\": \"parcoords\"}], \"pie\": [{\"automargin\": true, \"type\": \"pie\"}], \"scatter\": [{\"marker\": {\"colorbar\": {\"outlinewidth\": 0, \"ticks\": \"\"}}, \"type\": \"scatter\"}], \"scatter3d\": [{\"line\": {\"colorbar\": {\"outlinewidth\": 0, \"ticks\": \"\"}}, \"marker\": {\"colorbar\": {\"outlinewidth\": 0, \"ticks\": \"\"}}, \"type\": \"scatter3d\"}], \"scattercarpet\": [{\"marker\": {\"colorbar\": {\"outlinewidth\": 0, \"ticks\": \"\"}}, \"type\": \"scattercarpet\"}], \"scattergeo\": [{\"marker\": {\"colorbar\": {\"outlinewidth\": 0, \"ticks\": \"\"}}, \"type\": \"scattergeo\"}], \"scattergl\": [{\"marker\": {\"colorbar\": {\"outlinewidth\": 0, \"ticks\": \"\"}}, \"type\": \"scattergl\"}], \"scattermapbox\": [{\"marker\": {\"colorbar\": {\"outlinewidth\": 0, \"ticks\": \"\"}}, \"type\": \"scattermapbox\"}], \"scatterpolar\": [{\"marker\": {\"colorbar\": {\"outlinewidth\": 0, \"ticks\": \"\"}}, \"type\": \"scatterpolar\"}], \"scatterpolargl\": [{\"marker\": {\"colorbar\": {\"outlinewidth\": 0, \"ticks\": \"\"}}, \"type\": \"scatterpolargl\"}], \"scatterternary\": [{\"marker\": {\"colorbar\": {\"outlinewidth\": 0, \"ticks\": \"\"}}, \"type\": \"scatterternary\"}], \"surface\": [{\"colorbar\": {\"outlinewidth\": 0, \"ticks\": \"\"}, \"colorscale\": [[0.0, \"#0d0887\"], [0.1111111111111111, \"#46039f\"], [0.2222222222222222, \"#7201a8\"], [0.3333333333333333, \"#9c179e\"], [0.4444444444444444, \"#bd3786\"], [0.5555555555555556, \"#d8576b\"], [0.6666666666666666, \"#ed7953\"], [0.7777777777777778, \"#fb9f3a\"], [0.8888888888888888, \"#fdca26\"], [1.0, \"#f0f921\"]], \"type\": \"surface\"}], \"table\": [{\"cells\": {\"fill\": {\"color\": \"#EBF0F8\"}, \"line\": {\"color\": \"white\"}}, \"header\": {\"fill\": {\"color\": \"#C8D4E3\"}, \"line\": {\"color\": \"white\"}}, \"type\": \"table\"}]}, \"layout\": {\"annotationdefaults\": {\"arrowcolor\": \"#2a3f5f\", \"arrowhead\": 0, \"arrowwidth\": 1}, \"coloraxis\": {\"colorbar\": {\"outlinewidth\": 0, \"ticks\": \"\"}}, \"colorscale\": {\"diverging\": [[0, \"#8e0152\"], [0.1, \"#c51b7d\"], [0.2, \"#de77ae\"], [0.3, \"#f1b6da\"], [0.4, \"#fde0ef\"], [0.5, \"#f7f7f7\"], [0.6, \"#e6f5d0\"], [0.7, \"#b8e186\"], [0.8, \"#7fbc41\"], [0.9, \"#4d9221\"], [1, \"#276419\"]], \"sequential\": [[0.0, \"#0d0887\"], [0.1111111111111111, \"#46039f\"], [0.2222222222222222, \"#7201a8\"], [0.3333333333333333, \"#9c179e\"], [0.4444444444444444, \"#bd3786\"], [0.5555555555555556, \"#d8576b\"], [0.6666666666666666, \"#ed7953\"], [0.7777777777777778, \"#fb9f3a\"], [0.8888888888888888, \"#fdca26\"], [1.0, \"#f0f921\"]], \"sequentialminus\": [[0.0, \"#0d0887\"], [0.1111111111111111, \"#46039f\"], [0.2222222222222222, \"#7201a8\"], [0.3333333333333333, \"#9c179e\"], [0.4444444444444444, \"#bd3786\"], [0.5555555555555556, \"#d8576b\"], [0.6666666666666666, \"#ed7953\"], [0.7777777777777778, \"#fb9f3a\"], [0.8888888888888888, \"#fdca26\"], [1.0, \"#f0f921\"]]}, \"colorway\": [\"#636efa\", \"#EF553B\", \"#00cc96\", \"#ab63fa\", \"#FFA15A\", \"#19d3f3\", \"#FF6692\", \"#B6E880\", \"#FF97FF\", \"#FECB52\"], \"font\": {\"color\": \"#2a3f5f\"}, \"geo\": {\"bgcolor\": \"white\", \"lakecolor\": \"white\", \"landcolor\": \"#E5ECF6\", \"showlakes\": true, \"showland\": true, \"subunitcolor\": \"white\"}, \"hoverlabel\": {\"align\": \"left\"}, \"hovermode\": \"closest\", \"mapbox\": {\"style\": \"light\"}, \"paper_bgcolor\": \"white\", \"plot_bgcolor\": \"#E5ECF6\", \"polar\": {\"angularaxis\": {\"gridcolor\": \"white\", \"linecolor\": \"white\", \"ticks\": \"\"}, \"bgcolor\": \"#E5ECF6\", \"radialaxis\": {\"gridcolor\": \"white\", \"linecolor\": \"white\", \"ticks\": \"\"}}, \"scene\": {\"xaxis\": {\"backgroundcolor\": \"#E5ECF6\", \"gridcolor\": \"white\", \"gridwidth\": 2, \"linecolor\": \"white\", \"showbackground\": true, \"ticks\": \"\", \"zerolinecolor\": \"white\"}, \"yaxis\": {\"backgroundcolor\": \"#E5ECF6\", \"gridcolor\": \"white\", \"gridwidth\": 2, \"linecolor\": \"white\", \"showbackground\": true, \"ticks\": \"\", \"zerolinecolor\": \"white\"}, \"zaxis\": {\"backgroundcolor\": \"#E5ECF6\", \"gridcolor\": \"white\", \"gridwidth\": 2, \"linecolor\": \"white\", \"showbackground\": true, \"ticks\": \"\", \"zerolinecolor\": \"white\"}}, \"shapedefaults\": {\"line\": {\"color\": \"#2a3f5f\"}}, \"ternary\": {\"aaxis\": {\"gridcolor\": \"white\", \"linecolor\": \"white\", \"ticks\": \"\"}, \"baxis\": {\"gridcolor\": \"white\", \"linecolor\": \"white\", \"ticks\": \"\"}, \"bgcolor\": \"#E5ECF6\", \"caxis\": {\"gridcolor\": \"white\", \"linecolor\": \"white\", \"ticks\": \"\"}}, \"title\": {\"x\": 0.05}, \"xaxis\": {\"automargin\": true, \"gridcolor\": \"white\", \"linecolor\": \"white\", \"ticks\": \"\", \"title\": {\"standoff\": 15}, \"zerolinecolor\": \"white\", \"zerolinewidth\": 2}, \"yaxis\": {\"automargin\": true, \"gridcolor\": \"white\", \"linecolor\": \"white\", \"ticks\": \"\", \"title\": {\"standoff\": 15}, \"zerolinecolor\": \"white\", \"zerolinewidth\": 2}}}, \"title\": {\"text\": \"Top Rated Books\"}, \"width\": 1000},                        {\"responsive\": true}                    ).then(function(){\n",
       "                            \n",
       "var gd = document.getElementById('c6d2f07a-a1c9-4475-bb3c-4af4a4063ede');\n",
       "var x = new MutationObserver(function (mutations, observer) {{\n",
       "        var display = window.getComputedStyle(gd).display;\n",
       "        if (!display || display === 'none') {{\n",
       "            console.log([gd, 'removed!']);\n",
       "            Plotly.purge(gd);\n",
       "            observer.disconnect();\n",
       "        }}\n",
       "}});\n",
       "\n",
       "// Listen for the removal of the full notebook cells\n",
       "var notebookContainer = gd.closest('#notebook-container');\n",
       "if (notebookContainer) {{\n",
       "    x.observe(notebookContainer, {childList: true});\n",
       "}}\n",
       "\n",
       "// Listen for the clearing of the current output cell\n",
       "var outputEl = gd.closest('.output');\n",
       "if (outputEl) {{\n",
       "    x.observe(outputEl, {childList: true});\n",
       "}}\n",
       "\n",
       "                        })                };                });            </script>        </div>"
      ]
     },
     "metadata": {},
     "output_type": "display_data"
    }
   ],
   "source": [
    "fig = px.treemap(tf_top_rated, path=['original_title'], values='average_rating',title='Top Rated Books', width=1000, height=700)\n",
    "fig.show()\n",
    "#fig.write_image('images/book_tree.jpg')"
   ]
  },
  {
   "cell_type": "code",
   "execution_count": 4,
   "metadata": {},
   "outputs": [
    {
     "data": {
      "application/vnd.plotly.v1+json": {
       "config": {
        "plotlyServerURL": "https://plot.ly"
       },
       "data": [
        {
         "alignmentgroup": "True",
         "hovertemplate": "original_title=%{y}<br>ratings_count=%{x}<extra></extra>",
         "legendgroup": "The Hunger Games",
         "marker": {
          "color": "#636efa"
         },
         "name": "The Hunger Games",
         "offsetgroup": "The Hunger Games",
         "orientation": "h",
         "showlegend": true,
         "textposition": "auto",
         "type": "bar",
         "x": [
          4780653
         ],
         "xaxis": "x",
         "y": [
          "The Hunger Games"
         ],
         "yaxis": "y"
        },
        {
         "alignmentgroup": "True",
         "hovertemplate": "original_title=%{y}<br>ratings_count=%{x}<extra></extra>",
         "legendgroup": "Harry Potter and the Philosopher's Stone",
         "marker": {
          "color": "#EF553B"
         },
         "name": "Harry Potter and the Philosopher's Stone",
         "offsetgroup": "Harry Potter and the Philosopher's Stone",
         "orientation": "h",
         "showlegend": true,
         "textposition": "auto",
         "type": "bar",
         "x": [
          4602479
         ],
         "xaxis": "x",
         "y": [
          "Harry Potter and the Philosopher's Stone"
         ],
         "yaxis": "y"
        },
        {
         "alignmentgroup": "True",
         "hovertemplate": "original_title=%{y}<br>ratings_count=%{x}<extra></extra>",
         "legendgroup": "To Kill a Mockingbird",
         "marker": {
          "color": "#00cc96"
         },
         "name": "To Kill a Mockingbird",
         "offsetgroup": "To Kill a Mockingbird",
         "orientation": "h",
         "showlegend": true,
         "textposition": "auto",
         "type": "bar",
         "x": [
          3198671
         ],
         "xaxis": "x",
         "y": [
          "To Kill a Mockingbird"
         ],
         "yaxis": "y"
        },
        {
         "alignmentgroup": "True",
         "hovertemplate": "original_title=%{y}<br>ratings_count=%{x}<extra></extra>",
         "legendgroup": "The Great Gatsby",
         "marker": {
          "color": "#ab63fa"
         },
         "name": "The Great Gatsby",
         "offsetgroup": "The Great Gatsby",
         "orientation": "h",
         "showlegend": true,
         "textposition": "auto",
         "type": "bar",
         "x": [
          2683664
         ],
         "xaxis": "x",
         "y": [
          "The Great Gatsby"
         ],
         "yaxis": "y"
        },
        {
         "alignmentgroup": "True",
         "hovertemplate": "original_title=%{y}<br>ratings_count=%{x}<extra></extra>",
         "legendgroup": "The Fault in Our Stars",
         "marker": {
          "color": "#FFA15A"
         },
         "name": "The Fault in Our Stars",
         "offsetgroup": "The Fault in Our Stars",
         "orientation": "h",
         "showlegend": true,
         "textposition": "auto",
         "type": "bar",
         "x": [
          2346404
         ],
         "xaxis": "x",
         "y": [
          "The Fault in Our Stars"
         ],
         "yaxis": "y"
        },
        {
         "alignmentgroup": "True",
         "hovertemplate": "original_title=%{y}<br>ratings_count=%{x}<extra></extra>",
         "legendgroup": "The Hobbit or There and Back Again",
         "marker": {
          "color": "#19d3f3"
         },
         "name": "The Hobbit or There and Back Again",
         "offsetgroup": "The Hobbit or There and Back Again",
         "orientation": "h",
         "showlegend": true,
         "textposition": "auto",
         "type": "bar",
         "x": [
          2071616
         ],
         "xaxis": "x",
         "y": [
          "The Hobbit or There and Back Again"
         ],
         "yaxis": "y"
        },
        {
         "alignmentgroup": "True",
         "hovertemplate": "original_title=%{y}<br>ratings_count=%{x}<extra></extra>",
         "legendgroup": "The Catcher in the Rye",
         "marker": {
          "color": "#FF6692"
         },
         "name": "The Catcher in the Rye",
         "offsetgroup": "The Catcher in the Rye",
         "orientation": "h",
         "showlegend": true,
         "textposition": "auto",
         "type": "bar",
         "x": [
          2044241
         ],
         "xaxis": "x",
         "y": [
          "The Catcher in the Rye"
         ],
         "yaxis": "y"
        },
        {
         "alignmentgroup": "True",
         "hovertemplate": "original_title=%{y}<br>ratings_count=%{x}<extra></extra>",
         "legendgroup": "Pride and Prejudice",
         "marker": {
          "color": "#B6E880"
         },
         "name": "Pride and Prejudice",
         "offsetgroup": "Pride and Prejudice",
         "orientation": "h",
         "showlegend": true,
         "textposition": "auto",
         "type": "bar",
         "x": [
          2035490
         ],
         "xaxis": "x",
         "y": [
          "Pride and Prejudice"
         ],
         "yaxis": "y"
        },
        {
         "alignmentgroup": "True",
         "hovertemplate": "original_title=%{y}<br>ratings_count=%{x}<extra></extra>",
         "legendgroup": "Angels & Demons ",
         "marker": {
          "color": "#FF97FF"
         },
         "name": "Angels & Demons ",
         "offsetgroup": "Angels & Demons ",
         "orientation": "h",
         "showlegend": true,
         "textposition": "auto",
         "type": "bar",
         "x": [
          2001311
         ],
         "xaxis": "x",
         "y": [
          "Angels & Demons "
         ],
         "yaxis": "y"
        },
        {
         "alignmentgroup": "True",
         "hovertemplate": "original_title=%{y}<br>ratings_count=%{x}<extra></extra>",
         "legendgroup": "Het Achterhuis: Dagboekbrieven 14 juni 1942 - 1 augustus 1944",
         "marker": {
          "color": "#FECB52"
         },
         "name": "Het Achterhuis: Dagboekbrieven 14 juni 1942 - 1 augustus 1944",
         "offsetgroup": "Het Achterhuis: Dagboekbrieven 14 juni 1942 - 1 augustus 1944",
         "orientation": "h",
         "showlegend": true,
         "textposition": "auto",
         "type": "bar",
         "x": [
          1972666
         ],
         "xaxis": "x",
         "y": [
          "Het Achterhuis: Dagboekbrieven 14 juni 1942 - 1 augustus 1944"
         ],
         "yaxis": "y"
        },
        {
         "alignmentgroup": "True",
         "hovertemplate": "original_title=%{y}<br>ratings_count=%{x}<extra></extra>",
         "legendgroup": "Nineteen Eighty-Four",
         "marker": {
          "color": "#636efa"
         },
         "name": "Nineteen Eighty-Four",
         "offsetgroup": "Nineteen Eighty-Four",
         "orientation": "h",
         "showlegend": true,
         "textposition": "auto",
         "type": "bar",
         "x": [
          1956832
         ],
         "xaxis": "x",
         "y": [
          "Nineteen Eighty-Four"
         ],
         "yaxis": "y"
        },
        {
         "alignmentgroup": "True",
         "hovertemplate": "original_title=%{y}<br>ratings_count=%{x}<extra></extra>",
         "legendgroup": "Divergent",
         "marker": {
          "color": "#EF553B"
         },
         "name": "Divergent",
         "offsetgroup": "Divergent",
         "orientation": "h",
         "showlegend": true,
         "textposition": "auto",
         "type": "bar",
         "x": [
          1903563
         ],
         "xaxis": "x",
         "y": [
          "Divergent"
         ],
         "yaxis": "y"
        },
        {
         "alignmentgroup": "True",
         "hovertemplate": "original_title=%{y}<br>ratings_count=%{x}<extra></extra>",
         "legendgroup": "Animal Farm: A Fairy Story",
         "marker": {
          "color": "#00cc96"
         },
         "name": "Animal Farm: A Fairy Story",
         "offsetgroup": "Animal Farm: A Fairy Story",
         "orientation": "h",
         "showlegend": true,
         "textposition": "auto",
         "type": "bar",
         "x": [
          1881700
         ],
         "xaxis": "x",
         "y": [
          "Animal Farm: A Fairy Story"
         ],
         "yaxis": "y"
        },
        {
         "alignmentgroup": "True",
         "hovertemplate": "original_title=%{y}<br>ratings_count=%{x}<extra></extra>",
         "legendgroup": "Harry Potter and the Prisoner of Azkaban",
         "marker": {
          "color": "#ab63fa"
         },
         "name": "Harry Potter and the Prisoner of Azkaban",
         "offsetgroup": "Harry Potter and the Prisoner of Azkaban",
         "orientation": "h",
         "showlegend": true,
         "textposition": "auto",
         "type": "bar",
         "x": [
          1832823
         ],
         "xaxis": "x",
         "y": [
          "Harry Potter and the Prisoner of Azkaban"
         ],
         "yaxis": "y"
        },
        {
         "alignmentgroup": "True",
         "hovertemplate": "original_title=%{y}<br>ratings_count=%{x}<extra></extra>",
         "legendgroup": "Catching Fire",
         "marker": {
          "color": "#FFA15A"
         },
         "name": "Catching Fire",
         "offsetgroup": "Catching Fire",
         "orientation": "h",
         "showlegend": true,
         "textposition": "auto",
         "type": "bar",
         "x": [
          1831039
         ],
         "xaxis": "x",
         "y": [
          "Catching Fire"
         ],
         "yaxis": "y"
        },
        {
         "alignmentgroup": "True",
         "hovertemplate": "original_title=%{y}<br>ratings_count=%{x}<extra></extra>",
         "legendgroup": "The Kite Runner ",
         "marker": {
          "color": "#19d3f3"
         },
         "name": "The Kite Runner ",
         "offsetgroup": "The Kite Runner ",
         "orientation": "h",
         "showlegend": true,
         "textposition": "auto",
         "type": "bar",
         "x": [
          1813044
         ],
         "xaxis": "x",
         "y": [
          "The Kite Runner "
         ],
         "yaxis": "y"
        },
        {
         "alignmentgroup": "True",
         "hovertemplate": "original_title=%{y}<br>ratings_count=%{x}<extra></extra>",
         "legendgroup": "Män som hatar kvinnor",
         "marker": {
          "color": "#FF6692"
         },
         "name": "Män som hatar kvinnor",
         "offsetgroup": "Män som hatar kvinnor",
         "orientation": "h",
         "showlegend": true,
         "textposition": "auto",
         "type": "bar",
         "x": [
          1808403
         ],
         "xaxis": "x",
         "y": [
          "Män som hatar kvinnor"
         ],
         "yaxis": "y"
        },
        {
         "alignmentgroup": "True",
         "hovertemplate": "original_title=%{y}<br>ratings_count=%{x}<extra></extra>",
         "legendgroup": "Harry Potter and the Chamber of Secrets",
         "marker": {
          "color": "#B6E880"
         },
         "name": "Harry Potter and the Chamber of Secrets",
         "offsetgroup": "Harry Potter and the Chamber of Secrets",
         "orientation": "h",
         "showlegend": true,
         "textposition": "auto",
         "type": "bar",
         "x": [
          1779331
         ],
         "xaxis": "x",
         "y": [
          "Harry Potter and the Chamber of Secrets"
         ],
         "yaxis": "y"
        },
        {
         "alignmentgroup": "True",
         "hovertemplate": "original_title=%{y}<br>ratings_count=%{x}<extra></extra>",
         "legendgroup": " The Fellowship of the Ring",
         "marker": {
          "color": "#FF97FF"
         },
         "name": " The Fellowship of the Ring",
         "offsetgroup": " The Fellowship of the Ring",
         "orientation": "h",
         "showlegend": true,
         "textposition": "auto",
         "type": "bar",
         "x": [
          1766803
         ],
         "xaxis": "x",
         "y": [
          " The Fellowship of the Ring"
         ],
         "yaxis": "y"
        },
        {
         "alignmentgroup": "True",
         "hovertemplate": "original_title=%{y}<br>ratings_count=%{x}<extra></extra>",
         "legendgroup": "Harry Potter and the Goblet of Fire",
         "marker": {
          "color": "#FECB52"
         },
         "name": "Harry Potter and the Goblet of Fire",
         "offsetgroup": "Harry Potter and the Goblet of Fire",
         "orientation": "h",
         "showlegend": true,
         "textposition": "auto",
         "type": "bar",
         "x": [
          1753043
         ],
         "xaxis": "x",
         "y": [
          "Harry Potter and the Goblet of Fire"
         ],
         "yaxis": "y"
        },
        {
         "alignmentgroup": "True",
         "hovertemplate": "original_title=%{y}<br>ratings_count=%{x}<extra></extra>",
         "legendgroup": "Harry Potter and the Deathly Hallows",
         "marker": {
          "color": "#636efa"
         },
         "name": "Harry Potter and the Deathly Hallows",
         "offsetgroup": "Harry Potter and the Deathly Hallows",
         "orientation": "h",
         "showlegend": true,
         "textposition": "auto",
         "type": "bar",
         "x": [
          1746574
         ],
         "xaxis": "x",
         "y": [
          "Harry Potter and the Deathly Hallows"
         ],
         "yaxis": "y"
        },
        {
         "alignmentgroup": "True",
         "hovertemplate": "original_title=%{y}<br>ratings_count=%{x}<extra></extra>",
         "legendgroup": "Harry Potter and the Order of the Phoenix",
         "marker": {
          "color": "#EF553B"
         },
         "name": "Harry Potter and the Order of the Phoenix",
         "offsetgroup": "Harry Potter and the Order of the Phoenix",
         "orientation": "h",
         "showlegend": true,
         "textposition": "auto",
         "type": "bar",
         "x": [
          1735368
         ],
         "xaxis": "x",
         "y": [
          "Harry Potter and the Order of the Phoenix"
         ],
         "yaxis": "y"
        },
        {
         "alignmentgroup": "True",
         "hovertemplate": "original_title=%{y}<br>ratings_count=%{x}<extra></extra>",
         "legendgroup": "Mockingjay",
         "marker": {
          "color": "#00cc96"
         },
         "name": "Mockingjay",
         "offsetgroup": "Mockingjay",
         "orientation": "h",
         "showlegend": true,
         "textposition": "auto",
         "type": "bar",
         "x": [
          1719760
         ],
         "xaxis": "x",
         "y": [
          "Mockingjay"
         ],
         "yaxis": "y"
        },
        {
         "alignmentgroup": "True",
         "hovertemplate": "original_title=%{y}<br>ratings_count=%{x}<extra></extra>",
         "legendgroup": "Harry Potter and the Half-Blood Prince",
         "marker": {
          "color": "#ab63fa"
         },
         "name": "Harry Potter and the Half-Blood Prince",
         "offsetgroup": "Harry Potter and the Half-Blood Prince",
         "orientation": "h",
         "showlegend": true,
         "textposition": "auto",
         "type": "bar",
         "x": [
          1678823
         ],
         "xaxis": "x",
         "y": [
          "Harry Potter and the Half-Blood Prince"
         ],
         "yaxis": "y"
        },
        {
         "alignmentgroup": "True",
         "hovertemplate": "original_title=%{y}<br>ratings_count=%{x}<extra></extra>",
         "legendgroup": "An Excellent conceited Tragedie of Romeo and Juliet",
         "marker": {
          "color": "#FFA15A"
         },
         "name": "An Excellent conceited Tragedie of Romeo and Juliet",
         "offsetgroup": "An Excellent conceited Tragedie of Romeo and Juliet",
         "orientation": "h",
         "showlegend": true,
         "textposition": "auto",
         "type": "bar",
         "x": [
          1628519
         ],
         "xaxis": "x",
         "y": [
          "An Excellent conceited Tragedie of Romeo and Juliet"
         ],
         "yaxis": "y"
        },
        {
         "alignmentgroup": "True",
         "hovertemplate": "original_title=%{y}<br>ratings_count=%{x}<extra></extra>",
         "legendgroup": "The Lovely Bones",
         "marker": {
          "color": "#19d3f3"
         },
         "name": "The Lovely Bones",
         "offsetgroup": "The Lovely Bones",
         "orientation": "h",
         "showlegend": true,
         "textposition": "auto",
         "type": "bar",
         "x": [
          1605173
         ],
         "xaxis": "x",
         "y": [
          "The Lovely Bones"
         ],
         "yaxis": "y"
        },
        {
         "alignmentgroup": "True",
         "hovertemplate": "original_title=%{y}<br>ratings_count=%{x}<extra></extra>",
         "legendgroup": "Lord of the Flies ",
         "marker": {
          "color": "#FF6692"
         },
         "name": "Lord of the Flies ",
         "offsetgroup": "Lord of the Flies ",
         "orientation": "h",
         "showlegend": true,
         "textposition": "auto",
         "type": "bar",
         "x": [
          1605019
         ],
         "xaxis": "x",
         "y": [
          "Lord of the Flies "
         ],
         "yaxis": "y"
        },
        {
         "alignmentgroup": "True",
         "hovertemplate": "original_title=%{y}<br>ratings_count=%{x}<extra></extra>",
         "legendgroup": "The Lion, the Witch and the Wardrobe",
         "marker": {
          "color": "#B6E880"
         },
         "name": "The Lion, the Witch and the Wardrobe",
         "offsetgroup": "The Lion, the Witch and the Wardrobe",
         "orientation": "h",
         "showlegend": true,
         "textposition": "auto",
         "type": "bar",
         "x": [
          1531800
         ],
         "xaxis": "x",
         "y": [
          "The Lion, the Witch and the Wardrobe"
         ],
         "yaxis": "y"
        },
        {
         "alignmentgroup": "True",
         "hovertemplate": "original_title=%{y}<br>ratings_count=%{x}<extra></extra>",
         "legendgroup": "The Help",
         "marker": {
          "color": "#FF97FF"
         },
         "name": "The Help",
         "offsetgroup": "The Help",
         "orientation": "h",
         "showlegend": true,
         "textposition": "auto",
         "type": "bar",
         "x": [
          1531753
         ],
         "xaxis": "x",
         "y": [
          "The Help"
         ],
         "yaxis": "y"
        },
        {
         "alignmentgroup": "True",
         "hovertemplate": "original_title=%{y}<br>ratings_count=%{x}<extra></extra>",
         "legendgroup": "Of Mice and Men ",
         "marker": {
          "color": "#FECB52"
         },
         "name": "Of Mice and Men ",
         "offsetgroup": "Of Mice and Men ",
         "orientation": "h",
         "showlegend": true,
         "textposition": "auto",
         "type": "bar",
         "x": [
          1467496
         ],
         "xaxis": "x",
         "y": [
          "Of Mice and Men "
         ],
         "yaxis": "y"
        },
        {
         "alignmentgroup": "True",
         "hovertemplate": "original_title=%{y}<br>ratings_count=%{x}<extra></extra>",
         "legendgroup": "The Da Vinci Code",
         "marker": {
          "color": "#636efa"
         },
         "name": "The Da Vinci Code",
         "offsetgroup": "The Da Vinci Code",
         "orientation": "h",
         "showlegend": true,
         "textposition": "auto",
         "type": "bar",
         "x": [
          1447148
         ],
         "xaxis": "x",
         "y": [
          "The Da Vinci Code"
         ],
         "yaxis": "y"
        },
        {
         "alignmentgroup": "True",
         "hovertemplate": "original_title=%{y}<br>ratings_count=%{x}<extra></extra>",
         "legendgroup": "The Lightning Thief",
         "marker": {
          "color": "#EF553B"
         },
         "name": "The Lightning Thief",
         "offsetgroup": "The Lightning Thief",
         "orientation": "h",
         "showlegend": true,
         "textposition": "auto",
         "type": "bar",
         "x": [
          1366265
         ],
         "xaxis": "x",
         "y": [
          "The Lightning Thief"
         ],
         "yaxis": "y"
        },
        {
         "alignmentgroup": "True",
         "hovertemplate": "original_title=%{y}<br>ratings_count=%{x}<extra></extra>",
         "legendgroup": "Fifty Shades of Grey",
         "marker": {
          "color": "#00cc96"
         },
         "name": "Fifty Shades of Grey",
         "offsetgroup": "Fifty Shades of Grey",
         "orientation": "h",
         "showlegend": true,
         "textposition": "auto",
         "type": "bar",
         "x": [
          1338493
         ],
         "xaxis": "x",
         "y": [
          "Fifty Shades of Grey"
         ],
         "yaxis": "y"
        },
        {
         "alignmentgroup": "True",
         "hovertemplate": "original_title=%{y}<br>ratings_count=%{x}<extra></extra>",
         "legendgroup": "A Game of Thrones",
         "marker": {
          "color": "#ab63fa"
         },
         "name": "A Game of Thrones",
         "offsetgroup": "A Game of Thrones",
         "orientation": "h",
         "showlegend": true,
         "textposition": "auto",
         "type": "bar",
         "x": [
          1319204
         ],
         "xaxis": "x",
         "y": [
          "A Game of Thrones"
         ],
         "yaxis": "y"
        },
        {
         "alignmentgroup": "True",
         "hovertemplate": "original_title=%{y}<br>ratings_count=%{x}<extra></extra>",
         "legendgroup": "Memoirs of a Geisha",
         "marker": {
          "color": "#FFA15A"
         },
         "name": "Memoirs of a Geisha",
         "offsetgroup": "Memoirs of a Geisha",
         "orientation": "h",
         "showlegend": true,
         "textposition": "auto",
         "type": "bar",
         "x": [
          1300209
         ],
         "xaxis": "x",
         "y": [
          "Memoirs of a Geisha"
         ],
         "yaxis": "y"
        },
        {
         "alignmentgroup": "True",
         "hovertemplate": "original_title=%{y}<br>ratings_count=%{x}<extra></extra>",
         "legendgroup": "O Alquimista",
         "marker": {
          "color": "#19d3f3"
         },
         "name": "O Alquimista",
         "offsetgroup": "O Alquimista",
         "orientation": "h",
         "showlegend": true,
         "textposition": "auto",
         "type": "bar",
         "x": [
          1299566
         ],
         "xaxis": "x",
         "y": [
          "O Alquimista"
         ],
         "yaxis": "y"
        },
        {
         "alignmentgroup": "True",
         "hovertemplate": "original_title=%{y}<br>ratings_count=%{x}<extra></extra>",
         "legendgroup": "The Giver",
         "marker": {
          "color": "#FF6692"
         },
         "name": "The Giver",
         "offsetgroup": "The Giver",
         "orientation": "h",
         "showlegend": true,
         "textposition": "auto",
         "type": "bar",
         "x": [
          1296825
         ],
         "xaxis": "x",
         "y": [
          "The Giver"
         ],
         "yaxis": "y"
        },
        {
         "alignmentgroup": "True",
         "hovertemplate": "original_title=%{y}<br>ratings_count=%{x}<extra></extra>",
         "legendgroup": "Little Women",
         "marker": {
          "color": "#B6E880"
         },
         "name": "Little Women",
         "offsetgroup": "Little Women",
         "orientation": "h",
         "showlegend": true,
         "textposition": "auto",
         "type": "bar",
         "x": [
          1257121
         ],
         "xaxis": "x",
         "y": [
          "Little Women"
         ],
         "yaxis": "y"
        },
        {
         "alignmentgroup": "True",
         "hovertemplate": "original_title=%{y}<br>ratings_count=%{x}<extra></extra>",
         "legendgroup": "Jane Eyre",
         "marker": {
          "color": "#FF97FF"
         },
         "name": "Jane Eyre",
         "offsetgroup": "Jane Eyre",
         "orientation": "h",
         "showlegend": true,
         "textposition": "auto",
         "type": "bar",
         "x": [
          1198557
         ],
         "xaxis": "x",
         "y": [
          "Jane Eyre"
         ],
         "yaxis": "y"
        },
        {
         "alignmentgroup": "True",
         "hovertemplate": "original_title=%{y}<br>ratings_count=%{x}<extra></extra>",
         "legendgroup": "Eat, pray, love: one woman's search for everything across Italy, India and Indonesia",
         "marker": {
          "color": "#FECB52"
         },
         "name": "Eat, pray, love: one woman's search for everything across Italy, India and Indonesia",
         "offsetgroup": "Eat, pray, love: one woman's search for everything across Italy, India and Indonesia",
         "orientation": "h",
         "showlegend": true,
         "textposition": "auto",
         "type": "bar",
         "x": [
          1181647
         ],
         "xaxis": "x",
         "y": [
          "Eat, pray, love: one woman's search for everything across Italy, India and Indonesia"
         ],
         "yaxis": "y"
        },
        {
         "alignmentgroup": "True",
         "hovertemplate": "original_title=%{y}<br>ratings_count=%{x}<extra></extra>",
         "legendgroup": "The Book Thief",
         "marker": {
          "color": "#636efa"
         },
         "name": "The Book Thief",
         "offsetgroup": "The Book Thief",
         "orientation": "h",
         "showlegend": true,
         "textposition": "auto",
         "type": "bar",
         "x": [
          1159741
         ],
         "xaxis": "x",
         "y": [
          "The Book Thief"
         ],
         "yaxis": "y"
        },
        {
         "alignmentgroup": "True",
         "hovertemplate": "original_title=%{y}<br>ratings_count=%{x}<extra></extra>",
         "legendgroup": "New Moon (Twilight, #2)",
         "marker": {
          "color": "#EF553B"
         },
         "name": "New Moon (Twilight, #2)",
         "offsetgroup": "New Moon (Twilight, #2)",
         "orientation": "h",
         "showlegend": true,
         "textposition": "auto",
         "type": "bar",
         "x": [
          1149630
         ],
         "xaxis": "x",
         "y": [
          "New Moon (Twilight, #2)"
         ],
         "yaxis": "y"
        },
        {
         "alignmentgroup": "True",
         "hovertemplate": "original_title=%{y}<br>ratings_count=%{x}<extra></extra>",
         "legendgroup": "Eclipse",
         "marker": {
          "color": "#00cc96"
         },
         "name": "Eclipse",
         "offsetgroup": "Eclipse",
         "orientation": "h",
         "showlegend": true,
         "textposition": "auto",
         "type": "bar",
         "x": [
          1134511
         ],
         "xaxis": "x",
         "y": [
          "Eclipse"
         ],
         "yaxis": "y"
        },
        {
         "alignmentgroup": "True",
         "hovertemplate": "original_title=%{y}<br>ratings_count=%{x}<extra></extra>",
         "legendgroup": "Eragon",
         "marker": {
          "color": "#ab63fa"
         },
         "name": "Eragon",
         "offsetgroup": "Eragon",
         "orientation": "h",
         "showlegend": true,
         "textposition": "auto",
         "type": "bar",
         "x": [
          1104021
         ],
         "xaxis": "x",
         "y": [
          "Eragon"
         ],
         "yaxis": "y"
        },
        {
         "alignmentgroup": "True",
         "hovertemplate": "original_title=%{y}<br>ratings_count=%{x}<extra></extra>",
         "legendgroup": "Breaking Dawn",
         "marker": {
          "color": "#FFA15A"
         },
         "name": "Breaking Dawn",
         "offsetgroup": "Breaking Dawn",
         "orientation": "h",
         "showlegend": true,
         "textposition": "auto",
         "type": "bar",
         "x": [
          1070245
         ],
         "xaxis": "x",
         "y": [
          "Breaking Dawn"
         ],
         "yaxis": "y"
        },
        {
         "alignmentgroup": "True",
         "hovertemplate": "original_title=%{y}<br>ratings_count=%{x}<extra></extra>",
         "legendgroup": "Water for Elephants",
         "marker": {
          "color": "#19d3f3"
         },
         "name": "Water for Elephants",
         "offsetgroup": "Water for Elephants",
         "orientation": "h",
         "showlegend": true,
         "textposition": "auto",
         "type": "bar",
         "x": [
          1068146
         ],
         "xaxis": "x",
         "y": [
          "Water for Elephants"
         ],
         "yaxis": "y"
        },
        {
         "alignmentgroup": "True",
         "hovertemplate": "original_title=%{y}<br>ratings_count=%{x}<extra></extra>",
         "legendgroup": "Charlotte's Web",
         "marker": {
          "color": "#FF6692"
         },
         "name": "Charlotte's Web",
         "offsetgroup": "Charlotte's Web",
         "orientation": "h",
         "showlegend": true,
         "textposition": "auto",
         "type": "bar",
         "x": [
          1064521
         ],
         "xaxis": "x",
         "y": [
          "Charlotte's Web"
         ],
         "yaxis": "y"
        },
        {
         "alignmentgroup": "True",
         "hovertemplate": "original_title=%{y}<br>ratings_count=%{x}<extra></extra>",
         "legendgroup": "The Notebook",
         "marker": {
          "color": "#B6E880"
         },
         "name": "The Notebook",
         "offsetgroup": "The Notebook",
         "orientation": "h",
         "showlegend": true,
         "textposition": "auto",
         "type": "bar",
         "x": [
          1053403
         ],
         "xaxis": "x",
         "y": [
          "The Notebook"
         ],
         "yaxis": "y"
        },
        {
         "alignmentgroup": "True",
         "hovertemplate": "original_title=%{y}<br>ratings_count=%{x}<extra></extra>",
         "legendgroup": "Brave New World",
         "marker": {
          "color": "#FF97FF"
         },
         "name": "Brave New World",
         "offsetgroup": "Brave New World",
         "orientation": "h",
         "showlegend": true,
         "textposition": "auto",
         "type": "bar",
         "x": [
          1022601
         ],
         "xaxis": "x",
         "y": [
          "Brave New World"
         ],
         "yaxis": "y"
        },
        {
         "alignmentgroup": "True",
         "hovertemplate": "original_title=%{y}<br>ratings_count=%{x}<extra></extra>",
         "legendgroup": "Where the Sidewalk Ends: The Poems and Drawings of Shel Silverstein",
         "marker": {
          "color": "#FECB52"
         },
         "name": "Where the Sidewalk Ends: The Poems and Drawings of Shel Silverstein",
         "offsetgroup": "Where the Sidewalk Ends: The Poems and Drawings of Shel Silverstein",
         "orientation": "h",
         "showlegend": true,
         "textposition": "auto",
         "type": "bar",
         "x": [
          1016888
         ],
         "xaxis": "x",
         "y": [
          "Where the Sidewalk Ends: The Poems and Drawings of Shel Silverstein"
         ],
         "yaxis": "y"
        }
       ],
       "layout": {
        "barmode": "relative",
        "height": 700,
        "legend": {
         "title": {
          "text": "original_title"
         },
         "tracegroupgap": 0
        },
        "template": {
         "data": {
          "bar": [
           {
            "error_x": {
             "color": "#2a3f5f"
            },
            "error_y": {
             "color": "#2a3f5f"
            },
            "marker": {
             "line": {
              "color": "#E5ECF6",
              "width": 0.5
             }
            },
            "type": "bar"
           }
          ],
          "barpolar": [
           {
            "marker": {
             "line": {
              "color": "#E5ECF6",
              "width": 0.5
             }
            },
            "type": "barpolar"
           }
          ],
          "carpet": [
           {
            "aaxis": {
             "endlinecolor": "#2a3f5f",
             "gridcolor": "white",
             "linecolor": "white",
             "minorgridcolor": "white",
             "startlinecolor": "#2a3f5f"
            },
            "baxis": {
             "endlinecolor": "#2a3f5f",
             "gridcolor": "white",
             "linecolor": "white",
             "minorgridcolor": "white",
             "startlinecolor": "#2a3f5f"
            },
            "type": "carpet"
           }
          ],
          "choropleth": [
           {
            "colorbar": {
             "outlinewidth": 0,
             "ticks": ""
            },
            "type": "choropleth"
           }
          ],
          "contour": [
           {
            "colorbar": {
             "outlinewidth": 0,
             "ticks": ""
            },
            "colorscale": [
             [
              0,
              "#0d0887"
             ],
             [
              0.1111111111111111,
              "#46039f"
             ],
             [
              0.2222222222222222,
              "#7201a8"
             ],
             [
              0.3333333333333333,
              "#9c179e"
             ],
             [
              0.4444444444444444,
              "#bd3786"
             ],
             [
              0.5555555555555556,
              "#d8576b"
             ],
             [
              0.6666666666666666,
              "#ed7953"
             ],
             [
              0.7777777777777778,
              "#fb9f3a"
             ],
             [
              0.8888888888888888,
              "#fdca26"
             ],
             [
              1,
              "#f0f921"
             ]
            ],
            "type": "contour"
           }
          ],
          "contourcarpet": [
           {
            "colorbar": {
             "outlinewidth": 0,
             "ticks": ""
            },
            "type": "contourcarpet"
           }
          ],
          "heatmap": [
           {
            "colorbar": {
             "outlinewidth": 0,
             "ticks": ""
            },
            "colorscale": [
             [
              0,
              "#0d0887"
             ],
             [
              0.1111111111111111,
              "#46039f"
             ],
             [
              0.2222222222222222,
              "#7201a8"
             ],
             [
              0.3333333333333333,
              "#9c179e"
             ],
             [
              0.4444444444444444,
              "#bd3786"
             ],
             [
              0.5555555555555556,
              "#d8576b"
             ],
             [
              0.6666666666666666,
              "#ed7953"
             ],
             [
              0.7777777777777778,
              "#fb9f3a"
             ],
             [
              0.8888888888888888,
              "#fdca26"
             ],
             [
              1,
              "#f0f921"
             ]
            ],
            "type": "heatmap"
           }
          ],
          "heatmapgl": [
           {
            "colorbar": {
             "outlinewidth": 0,
             "ticks": ""
            },
            "colorscale": [
             [
              0,
              "#0d0887"
             ],
             [
              0.1111111111111111,
              "#46039f"
             ],
             [
              0.2222222222222222,
              "#7201a8"
             ],
             [
              0.3333333333333333,
              "#9c179e"
             ],
             [
              0.4444444444444444,
              "#bd3786"
             ],
             [
              0.5555555555555556,
              "#d8576b"
             ],
             [
              0.6666666666666666,
              "#ed7953"
             ],
             [
              0.7777777777777778,
              "#fb9f3a"
             ],
             [
              0.8888888888888888,
              "#fdca26"
             ],
             [
              1,
              "#f0f921"
             ]
            ],
            "type": "heatmapgl"
           }
          ],
          "histogram": [
           {
            "marker": {
             "colorbar": {
              "outlinewidth": 0,
              "ticks": ""
             }
            },
            "type": "histogram"
           }
          ],
          "histogram2d": [
           {
            "colorbar": {
             "outlinewidth": 0,
             "ticks": ""
            },
            "colorscale": [
             [
              0,
              "#0d0887"
             ],
             [
              0.1111111111111111,
              "#46039f"
             ],
             [
              0.2222222222222222,
              "#7201a8"
             ],
             [
              0.3333333333333333,
              "#9c179e"
             ],
             [
              0.4444444444444444,
              "#bd3786"
             ],
             [
              0.5555555555555556,
              "#d8576b"
             ],
             [
              0.6666666666666666,
              "#ed7953"
             ],
             [
              0.7777777777777778,
              "#fb9f3a"
             ],
             [
              0.8888888888888888,
              "#fdca26"
             ],
             [
              1,
              "#f0f921"
             ]
            ],
            "type": "histogram2d"
           }
          ],
          "histogram2dcontour": [
           {
            "colorbar": {
             "outlinewidth": 0,
             "ticks": ""
            },
            "colorscale": [
             [
              0,
              "#0d0887"
             ],
             [
              0.1111111111111111,
              "#46039f"
             ],
             [
              0.2222222222222222,
              "#7201a8"
             ],
             [
              0.3333333333333333,
              "#9c179e"
             ],
             [
              0.4444444444444444,
              "#bd3786"
             ],
             [
              0.5555555555555556,
              "#d8576b"
             ],
             [
              0.6666666666666666,
              "#ed7953"
             ],
             [
              0.7777777777777778,
              "#fb9f3a"
             ],
             [
              0.8888888888888888,
              "#fdca26"
             ],
             [
              1,
              "#f0f921"
             ]
            ],
            "type": "histogram2dcontour"
           }
          ],
          "mesh3d": [
           {
            "colorbar": {
             "outlinewidth": 0,
             "ticks": ""
            },
            "type": "mesh3d"
           }
          ],
          "parcoords": [
           {
            "line": {
             "colorbar": {
              "outlinewidth": 0,
              "ticks": ""
             }
            },
            "type": "parcoords"
           }
          ],
          "pie": [
           {
            "automargin": true,
            "type": "pie"
           }
          ],
          "scatter": [
           {
            "marker": {
             "colorbar": {
              "outlinewidth": 0,
              "ticks": ""
             }
            },
            "type": "scatter"
           }
          ],
          "scatter3d": [
           {
            "line": {
             "colorbar": {
              "outlinewidth": 0,
              "ticks": ""
             }
            },
            "marker": {
             "colorbar": {
              "outlinewidth": 0,
              "ticks": ""
             }
            },
            "type": "scatter3d"
           }
          ],
          "scattercarpet": [
           {
            "marker": {
             "colorbar": {
              "outlinewidth": 0,
              "ticks": ""
             }
            },
            "type": "scattercarpet"
           }
          ],
          "scattergeo": [
           {
            "marker": {
             "colorbar": {
              "outlinewidth": 0,
              "ticks": ""
             }
            },
            "type": "scattergeo"
           }
          ],
          "scattergl": [
           {
            "marker": {
             "colorbar": {
              "outlinewidth": 0,
              "ticks": ""
             }
            },
            "type": "scattergl"
           }
          ],
          "scattermapbox": [
           {
            "marker": {
             "colorbar": {
              "outlinewidth": 0,
              "ticks": ""
             }
            },
            "type": "scattermapbox"
           }
          ],
          "scatterpolar": [
           {
            "marker": {
             "colorbar": {
              "outlinewidth": 0,
              "ticks": ""
             }
            },
            "type": "scatterpolar"
           }
          ],
          "scatterpolargl": [
           {
            "marker": {
             "colorbar": {
              "outlinewidth": 0,
              "ticks": ""
             }
            },
            "type": "scatterpolargl"
           }
          ],
          "scatterternary": [
           {
            "marker": {
             "colorbar": {
              "outlinewidth": 0,
              "ticks": ""
             }
            },
            "type": "scatterternary"
           }
          ],
          "surface": [
           {
            "colorbar": {
             "outlinewidth": 0,
             "ticks": ""
            },
            "colorscale": [
             [
              0,
              "#0d0887"
             ],
             [
              0.1111111111111111,
              "#46039f"
             ],
             [
              0.2222222222222222,
              "#7201a8"
             ],
             [
              0.3333333333333333,
              "#9c179e"
             ],
             [
              0.4444444444444444,
              "#bd3786"
             ],
             [
              0.5555555555555556,
              "#d8576b"
             ],
             [
              0.6666666666666666,
              "#ed7953"
             ],
             [
              0.7777777777777778,
              "#fb9f3a"
             ],
             [
              0.8888888888888888,
              "#fdca26"
             ],
             [
              1,
              "#f0f921"
             ]
            ],
            "type": "surface"
           }
          ],
          "table": [
           {
            "cells": {
             "fill": {
              "color": "#EBF0F8"
             },
             "line": {
              "color": "white"
             }
            },
            "header": {
             "fill": {
              "color": "#C8D4E3"
             },
             "line": {
              "color": "white"
             }
            },
            "type": "table"
           }
          ]
         },
         "layout": {
          "annotationdefaults": {
           "arrowcolor": "#2a3f5f",
           "arrowhead": 0,
           "arrowwidth": 1
          },
          "coloraxis": {
           "colorbar": {
            "outlinewidth": 0,
            "ticks": ""
           }
          },
          "colorscale": {
           "diverging": [
            [
             0,
             "#8e0152"
            ],
            [
             0.1,
             "#c51b7d"
            ],
            [
             0.2,
             "#de77ae"
            ],
            [
             0.3,
             "#f1b6da"
            ],
            [
             0.4,
             "#fde0ef"
            ],
            [
             0.5,
             "#f7f7f7"
            ],
            [
             0.6,
             "#e6f5d0"
            ],
            [
             0.7,
             "#b8e186"
            ],
            [
             0.8,
             "#7fbc41"
            ],
            [
             0.9,
             "#4d9221"
            ],
            [
             1,
             "#276419"
            ]
           ],
           "sequential": [
            [
             0,
             "#0d0887"
            ],
            [
             0.1111111111111111,
             "#46039f"
            ],
            [
             0.2222222222222222,
             "#7201a8"
            ],
            [
             0.3333333333333333,
             "#9c179e"
            ],
            [
             0.4444444444444444,
             "#bd3786"
            ],
            [
             0.5555555555555556,
             "#d8576b"
            ],
            [
             0.6666666666666666,
             "#ed7953"
            ],
            [
             0.7777777777777778,
             "#fb9f3a"
            ],
            [
             0.8888888888888888,
             "#fdca26"
            ],
            [
             1,
             "#f0f921"
            ]
           ],
           "sequentialminus": [
            [
             0,
             "#0d0887"
            ],
            [
             0.1111111111111111,
             "#46039f"
            ],
            [
             0.2222222222222222,
             "#7201a8"
            ],
            [
             0.3333333333333333,
             "#9c179e"
            ],
            [
             0.4444444444444444,
             "#bd3786"
            ],
            [
             0.5555555555555556,
             "#d8576b"
            ],
            [
             0.6666666666666666,
             "#ed7953"
            ],
            [
             0.7777777777777778,
             "#fb9f3a"
            ],
            [
             0.8888888888888888,
             "#fdca26"
            ],
            [
             1,
             "#f0f921"
            ]
           ]
          },
          "colorway": [
           "#636efa",
           "#EF553B",
           "#00cc96",
           "#ab63fa",
           "#FFA15A",
           "#19d3f3",
           "#FF6692",
           "#B6E880",
           "#FF97FF",
           "#FECB52"
          ],
          "font": {
           "color": "#2a3f5f"
          },
          "geo": {
           "bgcolor": "white",
           "lakecolor": "white",
           "landcolor": "#E5ECF6",
           "showlakes": true,
           "showland": true,
           "subunitcolor": "white"
          },
          "hoverlabel": {
           "align": "left"
          },
          "hovermode": "closest",
          "mapbox": {
           "style": "light"
          },
          "paper_bgcolor": "white",
          "plot_bgcolor": "#E5ECF6",
          "polar": {
           "angularaxis": {
            "gridcolor": "white",
            "linecolor": "white",
            "ticks": ""
           },
           "bgcolor": "#E5ECF6",
           "radialaxis": {
            "gridcolor": "white",
            "linecolor": "white",
            "ticks": ""
           }
          },
          "scene": {
           "xaxis": {
            "backgroundcolor": "#E5ECF6",
            "gridcolor": "white",
            "gridwidth": 2,
            "linecolor": "white",
            "showbackground": true,
            "ticks": "",
            "zerolinecolor": "white"
           },
           "yaxis": {
            "backgroundcolor": "#E5ECF6",
            "gridcolor": "white",
            "gridwidth": 2,
            "linecolor": "white",
            "showbackground": true,
            "ticks": "",
            "zerolinecolor": "white"
           },
           "zaxis": {
            "backgroundcolor": "#E5ECF6",
            "gridcolor": "white",
            "gridwidth": 2,
            "linecolor": "white",
            "showbackground": true,
            "ticks": "",
            "zerolinecolor": "white"
           }
          },
          "shapedefaults": {
           "line": {
            "color": "#2a3f5f"
           }
          },
          "ternary": {
           "aaxis": {
            "gridcolor": "white",
            "linecolor": "white",
            "ticks": ""
           },
           "baxis": {
            "gridcolor": "white",
            "linecolor": "white",
            "ticks": ""
           },
           "bgcolor": "#E5ECF6",
           "caxis": {
            "gridcolor": "white",
            "linecolor": "white",
            "ticks": ""
           }
          },
          "title": {
           "x": 0.05
          },
          "xaxis": {
           "automargin": true,
           "gridcolor": "white",
           "linecolor": "white",
           "ticks": "",
           "title": {
            "standoff": 15
           },
           "zerolinecolor": "white",
           "zerolinewidth": 2
          },
          "yaxis": {
           "automargin": true,
           "gridcolor": "white",
           "linecolor": "white",
           "ticks": "",
           "title": {
            "standoff": 15
           },
           "zerolinecolor": "white",
           "zerolinewidth": 2
          }
         }
        },
        "title": {
         "text": "Top Popular Books"
        },
        "width": 1500,
        "xaxis": {
         "anchor": "y",
         "domain": [
          0,
          1
         ],
         "title": {
          "text": "ratings_count"
         }
        },
        "yaxis": {
         "anchor": "x",
         "categoryarray": [
          "Where the Sidewalk Ends: The Poems and Drawings of Shel Silverstein",
          "Brave New World",
          "The Notebook",
          "Charlotte's Web",
          "Water for Elephants",
          "Breaking Dawn",
          "Eragon",
          "Eclipse",
          "New Moon (Twilight, #2)",
          "The Book Thief",
          "Eat, pray, love: one woman's search for everything across Italy, India and Indonesia",
          "Jane Eyre",
          "Little Women",
          "The Giver",
          "O Alquimista",
          "Memoirs of a Geisha",
          "A Game of Thrones",
          "Fifty Shades of Grey",
          "The Lightning Thief",
          "The Da Vinci Code",
          "Of Mice and Men ",
          "The Help",
          "The Lion, the Witch and the Wardrobe",
          "Lord of the Flies ",
          "The Lovely Bones",
          "An Excellent conceited Tragedie of Romeo and Juliet",
          "Harry Potter and the Half-Blood Prince",
          "Mockingjay",
          "Harry Potter and the Order of the Phoenix",
          "Harry Potter and the Deathly Hallows",
          "Harry Potter and the Goblet of Fire",
          " The Fellowship of the Ring",
          "Harry Potter and the Chamber of Secrets",
          "Män som hatar kvinnor",
          "The Kite Runner ",
          "Catching Fire",
          "Harry Potter and the Prisoner of Azkaban",
          "Animal Farm: A Fairy Story",
          "Divergent",
          "Nineteen Eighty-Four",
          "Het Achterhuis: Dagboekbrieven 14 juni 1942 - 1 augustus 1944",
          "Angels & Demons ",
          "Pride and Prejudice",
          "The Catcher in the Rye",
          "The Hobbit or There and Back Again",
          "The Fault in Our Stars",
          "The Great Gatsby",
          "To Kill a Mockingbird",
          "Harry Potter and the Philosopher's Stone",
          "The Hunger Games"
         ],
         "categoryorder": "array",
         "domain": [
          0,
          1
         ],
         "title": {
          "text": "original_title"
         }
        }
       }
      },
      "text/html": [
       "<div>                            <div id=\"b5a39710-7e26-4ad9-ac03-c8162b5ac933\" class=\"plotly-graph-div\" style=\"height:700px; width:1500px;\"></div>            <script type=\"text/javascript\">                require([\"plotly\"], function(Plotly) {                    window.PLOTLYENV=window.PLOTLYENV || {};                                    if (document.getElementById(\"b5a39710-7e26-4ad9-ac03-c8162b5ac933\")) {                    Plotly.newPlot(                        \"b5a39710-7e26-4ad9-ac03-c8162b5ac933\",                        [{\"alignmentgroup\": \"True\", \"hovertemplate\": \"original_title=%{y}<br>ratings_count=%{x}<extra></extra>\", \"legendgroup\": \"The Hunger Games\", \"marker\": {\"color\": \"#636efa\"}, \"name\": \"The Hunger Games\", \"offsetgroup\": \"The Hunger Games\", \"orientation\": \"h\", \"showlegend\": true, \"textposition\": \"auto\", \"type\": \"bar\", \"x\": [4780653], \"xaxis\": \"x\", \"y\": [\"The Hunger Games\"], \"yaxis\": \"y\"}, {\"alignmentgroup\": \"True\", \"hovertemplate\": \"original_title=%{y}<br>ratings_count=%{x}<extra></extra>\", \"legendgroup\": \"Harry Potter and the Philosopher's Stone\", \"marker\": {\"color\": \"#EF553B\"}, \"name\": \"Harry Potter and the Philosopher's Stone\", \"offsetgroup\": \"Harry Potter and the Philosopher's Stone\", \"orientation\": \"h\", \"showlegend\": true, \"textposition\": \"auto\", \"type\": \"bar\", \"x\": [4602479], \"xaxis\": \"x\", \"y\": [\"Harry Potter and the Philosopher's Stone\"], \"yaxis\": \"y\"}, {\"alignmentgroup\": \"True\", \"hovertemplate\": \"original_title=%{y}<br>ratings_count=%{x}<extra></extra>\", \"legendgroup\": \"To Kill a Mockingbird\", \"marker\": {\"color\": \"#00cc96\"}, \"name\": \"To Kill a Mockingbird\", \"offsetgroup\": \"To Kill a Mockingbird\", \"orientation\": \"h\", \"showlegend\": true, \"textposition\": \"auto\", \"type\": \"bar\", \"x\": [3198671], \"xaxis\": \"x\", \"y\": [\"To Kill a Mockingbird\"], \"yaxis\": \"y\"}, {\"alignmentgroup\": \"True\", \"hovertemplate\": \"original_title=%{y}<br>ratings_count=%{x}<extra></extra>\", \"legendgroup\": \"The Great Gatsby\", \"marker\": {\"color\": \"#ab63fa\"}, \"name\": \"The Great Gatsby\", \"offsetgroup\": \"The Great Gatsby\", \"orientation\": \"h\", \"showlegend\": true, \"textposition\": \"auto\", \"type\": \"bar\", \"x\": [2683664], \"xaxis\": \"x\", \"y\": [\"The Great Gatsby\"], \"yaxis\": \"y\"}, {\"alignmentgroup\": \"True\", \"hovertemplate\": \"original_title=%{y}<br>ratings_count=%{x}<extra></extra>\", \"legendgroup\": \"The Fault in Our Stars\", \"marker\": {\"color\": \"#FFA15A\"}, \"name\": \"The Fault in Our Stars\", \"offsetgroup\": \"The Fault in Our Stars\", \"orientation\": \"h\", \"showlegend\": true, \"textposition\": \"auto\", \"type\": \"bar\", \"x\": [2346404], \"xaxis\": \"x\", \"y\": [\"The Fault in Our Stars\"], \"yaxis\": \"y\"}, {\"alignmentgroup\": \"True\", \"hovertemplate\": \"original_title=%{y}<br>ratings_count=%{x}<extra></extra>\", \"legendgroup\": \"The Hobbit or There and Back Again\", \"marker\": {\"color\": \"#19d3f3\"}, \"name\": \"The Hobbit or There and Back Again\", \"offsetgroup\": \"The Hobbit or There and Back Again\", \"orientation\": \"h\", \"showlegend\": true, \"textposition\": \"auto\", \"type\": \"bar\", \"x\": [2071616], \"xaxis\": \"x\", \"y\": [\"The Hobbit or There and Back Again\"], \"yaxis\": \"y\"}, {\"alignmentgroup\": \"True\", \"hovertemplate\": \"original_title=%{y}<br>ratings_count=%{x}<extra></extra>\", \"legendgroup\": \"The Catcher in the Rye\", \"marker\": {\"color\": \"#FF6692\"}, \"name\": \"The Catcher in the Rye\", \"offsetgroup\": \"The Catcher in the Rye\", \"orientation\": \"h\", \"showlegend\": true, \"textposition\": \"auto\", \"type\": \"bar\", \"x\": [2044241], \"xaxis\": \"x\", \"y\": [\"The Catcher in the Rye\"], \"yaxis\": \"y\"}, {\"alignmentgroup\": \"True\", \"hovertemplate\": \"original_title=%{y}<br>ratings_count=%{x}<extra></extra>\", \"legendgroup\": \"Pride and Prejudice\", \"marker\": {\"color\": \"#B6E880\"}, \"name\": \"Pride and Prejudice\", \"offsetgroup\": \"Pride and Prejudice\", \"orientation\": \"h\", \"showlegend\": true, \"textposition\": \"auto\", \"type\": \"bar\", \"x\": [2035490], \"xaxis\": \"x\", \"y\": [\"Pride and Prejudice\"], \"yaxis\": \"y\"}, {\"alignmentgroup\": \"True\", \"hovertemplate\": \"original_title=%{y}<br>ratings_count=%{x}<extra></extra>\", \"legendgroup\": \"Angels & Demons \", \"marker\": {\"color\": \"#FF97FF\"}, \"name\": \"Angels & Demons \", \"offsetgroup\": \"Angels & Demons \", \"orientation\": \"h\", \"showlegend\": true, \"textposition\": \"auto\", \"type\": \"bar\", \"x\": [2001311], \"xaxis\": \"x\", \"y\": [\"Angels & Demons \"], \"yaxis\": \"y\"}, {\"alignmentgroup\": \"True\", \"hovertemplate\": \"original_title=%{y}<br>ratings_count=%{x}<extra></extra>\", \"legendgroup\": \"Het Achterhuis: Dagboekbrieven 14 juni 1942 - 1 augustus 1944\", \"marker\": {\"color\": \"#FECB52\"}, \"name\": \"Het Achterhuis: Dagboekbrieven 14 juni 1942 - 1 augustus 1944\", \"offsetgroup\": \"Het Achterhuis: Dagboekbrieven 14 juni 1942 - 1 augustus 1944\", \"orientation\": \"h\", \"showlegend\": true, \"textposition\": \"auto\", \"type\": \"bar\", \"x\": [1972666], \"xaxis\": \"x\", \"y\": [\"Het Achterhuis: Dagboekbrieven 14 juni 1942 - 1 augustus 1944\"], \"yaxis\": \"y\"}, {\"alignmentgroup\": \"True\", \"hovertemplate\": \"original_title=%{y}<br>ratings_count=%{x}<extra></extra>\", \"legendgroup\": \"Nineteen Eighty-Four\", \"marker\": {\"color\": \"#636efa\"}, \"name\": \"Nineteen Eighty-Four\", \"offsetgroup\": \"Nineteen Eighty-Four\", \"orientation\": \"h\", \"showlegend\": true, \"textposition\": \"auto\", \"type\": \"bar\", \"x\": [1956832], \"xaxis\": \"x\", \"y\": [\"Nineteen Eighty-Four\"], \"yaxis\": \"y\"}, {\"alignmentgroup\": \"True\", \"hovertemplate\": \"original_title=%{y}<br>ratings_count=%{x}<extra></extra>\", \"legendgroup\": \"Divergent\", \"marker\": {\"color\": \"#EF553B\"}, \"name\": \"Divergent\", \"offsetgroup\": \"Divergent\", \"orientation\": \"h\", \"showlegend\": true, \"textposition\": \"auto\", \"type\": \"bar\", \"x\": [1903563], \"xaxis\": \"x\", \"y\": [\"Divergent\"], \"yaxis\": \"y\"}, {\"alignmentgroup\": \"True\", \"hovertemplate\": \"original_title=%{y}<br>ratings_count=%{x}<extra></extra>\", \"legendgroup\": \"Animal Farm: A Fairy Story\", \"marker\": {\"color\": \"#00cc96\"}, \"name\": \"Animal Farm: A Fairy Story\", \"offsetgroup\": \"Animal Farm: A Fairy Story\", \"orientation\": \"h\", \"showlegend\": true, \"textposition\": \"auto\", \"type\": \"bar\", \"x\": [1881700], \"xaxis\": \"x\", \"y\": [\"Animal Farm: A Fairy Story\"], \"yaxis\": \"y\"}, {\"alignmentgroup\": \"True\", \"hovertemplate\": \"original_title=%{y}<br>ratings_count=%{x}<extra></extra>\", \"legendgroup\": \"Harry Potter and the Prisoner of Azkaban\", \"marker\": {\"color\": \"#ab63fa\"}, \"name\": \"Harry Potter and the Prisoner of Azkaban\", \"offsetgroup\": \"Harry Potter and the Prisoner of Azkaban\", \"orientation\": \"h\", \"showlegend\": true, \"textposition\": \"auto\", \"type\": \"bar\", \"x\": [1832823], \"xaxis\": \"x\", \"y\": [\"Harry Potter and the Prisoner of Azkaban\"], \"yaxis\": \"y\"}, {\"alignmentgroup\": \"True\", \"hovertemplate\": \"original_title=%{y}<br>ratings_count=%{x}<extra></extra>\", \"legendgroup\": \"Catching Fire\", \"marker\": {\"color\": \"#FFA15A\"}, \"name\": \"Catching Fire\", \"offsetgroup\": \"Catching Fire\", \"orientation\": \"h\", \"showlegend\": true, \"textposition\": \"auto\", \"type\": \"bar\", \"x\": [1831039], \"xaxis\": \"x\", \"y\": [\"Catching Fire\"], \"yaxis\": \"y\"}, {\"alignmentgroup\": \"True\", \"hovertemplate\": \"original_title=%{y}<br>ratings_count=%{x}<extra></extra>\", \"legendgroup\": \"The Kite Runner \", \"marker\": {\"color\": \"#19d3f3\"}, \"name\": \"The Kite Runner \", \"offsetgroup\": \"The Kite Runner \", \"orientation\": \"h\", \"showlegend\": true, \"textposition\": \"auto\", \"type\": \"bar\", \"x\": [1813044], \"xaxis\": \"x\", \"y\": [\"The Kite Runner \"], \"yaxis\": \"y\"}, {\"alignmentgroup\": \"True\", \"hovertemplate\": \"original_title=%{y}<br>ratings_count=%{x}<extra></extra>\", \"legendgroup\": \"M\\u00e4n som hatar kvinnor\", \"marker\": {\"color\": \"#FF6692\"}, \"name\": \"M\\u00e4n som hatar kvinnor\", \"offsetgroup\": \"M\\u00e4n som hatar kvinnor\", \"orientation\": \"h\", \"showlegend\": true, \"textposition\": \"auto\", \"type\": \"bar\", \"x\": [1808403], \"xaxis\": \"x\", \"y\": [\"M\\u00e4n som hatar kvinnor\"], \"yaxis\": \"y\"}, {\"alignmentgroup\": \"True\", \"hovertemplate\": \"original_title=%{y}<br>ratings_count=%{x}<extra></extra>\", \"legendgroup\": \"Harry Potter and the Chamber of Secrets\", \"marker\": {\"color\": \"#B6E880\"}, \"name\": \"Harry Potter and the Chamber of Secrets\", \"offsetgroup\": \"Harry Potter and the Chamber of Secrets\", \"orientation\": \"h\", \"showlegend\": true, \"textposition\": \"auto\", \"type\": \"bar\", \"x\": [1779331], \"xaxis\": \"x\", \"y\": [\"Harry Potter and the Chamber of Secrets\"], \"yaxis\": \"y\"}, {\"alignmentgroup\": \"True\", \"hovertemplate\": \"original_title=%{y}<br>ratings_count=%{x}<extra></extra>\", \"legendgroup\": \" The Fellowship of the Ring\", \"marker\": {\"color\": \"#FF97FF\"}, \"name\": \" The Fellowship of the Ring\", \"offsetgroup\": \" The Fellowship of the Ring\", \"orientation\": \"h\", \"showlegend\": true, \"textposition\": \"auto\", \"type\": \"bar\", \"x\": [1766803], \"xaxis\": \"x\", \"y\": [\" The Fellowship of the Ring\"], \"yaxis\": \"y\"}, {\"alignmentgroup\": \"True\", \"hovertemplate\": \"original_title=%{y}<br>ratings_count=%{x}<extra></extra>\", \"legendgroup\": \"Harry Potter and the Goblet of Fire\", \"marker\": {\"color\": \"#FECB52\"}, \"name\": \"Harry Potter and the Goblet of Fire\", \"offsetgroup\": \"Harry Potter and the Goblet of Fire\", \"orientation\": \"h\", \"showlegend\": true, \"textposition\": \"auto\", \"type\": \"bar\", \"x\": [1753043], \"xaxis\": \"x\", \"y\": [\"Harry Potter and the Goblet of Fire\"], \"yaxis\": \"y\"}, {\"alignmentgroup\": \"True\", \"hovertemplate\": \"original_title=%{y}<br>ratings_count=%{x}<extra></extra>\", \"legendgroup\": \"Harry Potter and the Deathly Hallows\", \"marker\": {\"color\": \"#636efa\"}, \"name\": \"Harry Potter and the Deathly Hallows\", \"offsetgroup\": \"Harry Potter and the Deathly Hallows\", \"orientation\": \"h\", \"showlegend\": true, \"textposition\": \"auto\", \"type\": \"bar\", \"x\": [1746574], \"xaxis\": \"x\", \"y\": [\"Harry Potter and the Deathly Hallows\"], \"yaxis\": \"y\"}, {\"alignmentgroup\": \"True\", \"hovertemplate\": \"original_title=%{y}<br>ratings_count=%{x}<extra></extra>\", \"legendgroup\": \"Harry Potter and the Order of the Phoenix\", \"marker\": {\"color\": \"#EF553B\"}, \"name\": \"Harry Potter and the Order of the Phoenix\", \"offsetgroup\": \"Harry Potter and the Order of the Phoenix\", \"orientation\": \"h\", \"showlegend\": true, \"textposition\": \"auto\", \"type\": \"bar\", \"x\": [1735368], \"xaxis\": \"x\", \"y\": [\"Harry Potter and the Order of the Phoenix\"], \"yaxis\": \"y\"}, {\"alignmentgroup\": \"True\", \"hovertemplate\": \"original_title=%{y}<br>ratings_count=%{x}<extra></extra>\", \"legendgroup\": \"Mockingjay\", \"marker\": {\"color\": \"#00cc96\"}, \"name\": \"Mockingjay\", \"offsetgroup\": \"Mockingjay\", \"orientation\": \"h\", \"showlegend\": true, \"textposition\": \"auto\", \"type\": \"bar\", \"x\": [1719760], \"xaxis\": \"x\", \"y\": [\"Mockingjay\"], \"yaxis\": \"y\"}, {\"alignmentgroup\": \"True\", \"hovertemplate\": \"original_title=%{y}<br>ratings_count=%{x}<extra></extra>\", \"legendgroup\": \"Harry Potter and the Half-Blood Prince\", \"marker\": {\"color\": \"#ab63fa\"}, \"name\": \"Harry Potter and the Half-Blood Prince\", \"offsetgroup\": \"Harry Potter and the Half-Blood Prince\", \"orientation\": \"h\", \"showlegend\": true, \"textposition\": \"auto\", \"type\": \"bar\", \"x\": [1678823], \"xaxis\": \"x\", \"y\": [\"Harry Potter and the Half-Blood Prince\"], \"yaxis\": \"y\"}, {\"alignmentgroup\": \"True\", \"hovertemplate\": \"original_title=%{y}<br>ratings_count=%{x}<extra></extra>\", \"legendgroup\": \"An Excellent conceited Tragedie of Romeo and Juliet\", \"marker\": {\"color\": \"#FFA15A\"}, \"name\": \"An Excellent conceited Tragedie of Romeo and Juliet\", \"offsetgroup\": \"An Excellent conceited Tragedie of Romeo and Juliet\", \"orientation\": \"h\", \"showlegend\": true, \"textposition\": \"auto\", \"type\": \"bar\", \"x\": [1628519], \"xaxis\": \"x\", \"y\": [\"An Excellent conceited Tragedie of Romeo and Juliet\"], \"yaxis\": \"y\"}, {\"alignmentgroup\": \"True\", \"hovertemplate\": \"original_title=%{y}<br>ratings_count=%{x}<extra></extra>\", \"legendgroup\": \"The Lovely Bones\", \"marker\": {\"color\": \"#19d3f3\"}, \"name\": \"The Lovely Bones\", \"offsetgroup\": \"The Lovely Bones\", \"orientation\": \"h\", \"showlegend\": true, \"textposition\": \"auto\", \"type\": \"bar\", \"x\": [1605173], \"xaxis\": \"x\", \"y\": [\"The Lovely Bones\"], \"yaxis\": \"y\"}, {\"alignmentgroup\": \"True\", \"hovertemplate\": \"original_title=%{y}<br>ratings_count=%{x}<extra></extra>\", \"legendgroup\": \"Lord of the Flies \", \"marker\": {\"color\": \"#FF6692\"}, \"name\": \"Lord of the Flies \", \"offsetgroup\": \"Lord of the Flies \", \"orientation\": \"h\", \"showlegend\": true, \"textposition\": \"auto\", \"type\": \"bar\", \"x\": [1605019], \"xaxis\": \"x\", \"y\": [\"Lord of the Flies \"], \"yaxis\": \"y\"}, {\"alignmentgroup\": \"True\", \"hovertemplate\": \"original_title=%{y}<br>ratings_count=%{x}<extra></extra>\", \"legendgroup\": \"The Lion, the Witch and the Wardrobe\", \"marker\": {\"color\": \"#B6E880\"}, \"name\": \"The Lion, the Witch and the Wardrobe\", \"offsetgroup\": \"The Lion, the Witch and the Wardrobe\", \"orientation\": \"h\", \"showlegend\": true, \"textposition\": \"auto\", \"type\": \"bar\", \"x\": [1531800], \"xaxis\": \"x\", \"y\": [\"The Lion, the Witch and the Wardrobe\"], \"yaxis\": \"y\"}, {\"alignmentgroup\": \"True\", \"hovertemplate\": \"original_title=%{y}<br>ratings_count=%{x}<extra></extra>\", \"legendgroup\": \"The Help\", \"marker\": {\"color\": \"#FF97FF\"}, \"name\": \"The Help\", \"offsetgroup\": \"The Help\", \"orientation\": \"h\", \"showlegend\": true, \"textposition\": \"auto\", \"type\": \"bar\", \"x\": [1531753], \"xaxis\": \"x\", \"y\": [\"The Help\"], \"yaxis\": \"y\"}, {\"alignmentgroup\": \"True\", \"hovertemplate\": \"original_title=%{y}<br>ratings_count=%{x}<extra></extra>\", \"legendgroup\": \"Of Mice and Men \", \"marker\": {\"color\": \"#FECB52\"}, \"name\": \"Of Mice and Men \", \"offsetgroup\": \"Of Mice and Men \", \"orientation\": \"h\", \"showlegend\": true, \"textposition\": \"auto\", \"type\": \"bar\", \"x\": [1467496], \"xaxis\": \"x\", \"y\": [\"Of Mice and Men \"], \"yaxis\": \"y\"}, {\"alignmentgroup\": \"True\", \"hovertemplate\": \"original_title=%{y}<br>ratings_count=%{x}<extra></extra>\", \"legendgroup\": \"The Da Vinci Code\", \"marker\": {\"color\": \"#636efa\"}, \"name\": \"The Da Vinci Code\", \"offsetgroup\": \"The Da Vinci Code\", \"orientation\": \"h\", \"showlegend\": true, \"textposition\": \"auto\", \"type\": \"bar\", \"x\": [1447148], \"xaxis\": \"x\", \"y\": [\"The Da Vinci Code\"], \"yaxis\": \"y\"}, {\"alignmentgroup\": \"True\", \"hovertemplate\": \"original_title=%{y}<br>ratings_count=%{x}<extra></extra>\", \"legendgroup\": \"The Lightning Thief\", \"marker\": {\"color\": \"#EF553B\"}, \"name\": \"The Lightning Thief\", \"offsetgroup\": \"The Lightning Thief\", \"orientation\": \"h\", \"showlegend\": true, \"textposition\": \"auto\", \"type\": \"bar\", \"x\": [1366265], \"xaxis\": \"x\", \"y\": [\"The Lightning Thief\"], \"yaxis\": \"y\"}, {\"alignmentgroup\": \"True\", \"hovertemplate\": \"original_title=%{y}<br>ratings_count=%{x}<extra></extra>\", \"legendgroup\": \"Fifty Shades of Grey\", \"marker\": {\"color\": \"#00cc96\"}, \"name\": \"Fifty Shades of Grey\", \"offsetgroup\": \"Fifty Shades of Grey\", \"orientation\": \"h\", \"showlegend\": true, \"textposition\": \"auto\", \"type\": \"bar\", \"x\": [1338493], \"xaxis\": \"x\", \"y\": [\"Fifty Shades of Grey\"], \"yaxis\": \"y\"}, {\"alignmentgroup\": \"True\", \"hovertemplate\": \"original_title=%{y}<br>ratings_count=%{x}<extra></extra>\", \"legendgroup\": \"A Game of Thrones\", \"marker\": {\"color\": \"#ab63fa\"}, \"name\": \"A Game of Thrones\", \"offsetgroup\": \"A Game of Thrones\", \"orientation\": \"h\", \"showlegend\": true, \"textposition\": \"auto\", \"type\": \"bar\", \"x\": [1319204], \"xaxis\": \"x\", \"y\": [\"A Game of Thrones\"], \"yaxis\": \"y\"}, {\"alignmentgroup\": \"True\", \"hovertemplate\": \"original_title=%{y}<br>ratings_count=%{x}<extra></extra>\", \"legendgroup\": \"Memoirs of a Geisha\", \"marker\": {\"color\": \"#FFA15A\"}, \"name\": \"Memoirs of a Geisha\", \"offsetgroup\": \"Memoirs of a Geisha\", \"orientation\": \"h\", \"showlegend\": true, \"textposition\": \"auto\", \"type\": \"bar\", \"x\": [1300209], \"xaxis\": \"x\", \"y\": [\"Memoirs of a Geisha\"], \"yaxis\": \"y\"}, {\"alignmentgroup\": \"True\", \"hovertemplate\": \"original_title=%{y}<br>ratings_count=%{x}<extra></extra>\", \"legendgroup\": \"O Alquimista\", \"marker\": {\"color\": \"#19d3f3\"}, \"name\": \"O Alquimista\", \"offsetgroup\": \"O Alquimista\", \"orientation\": \"h\", \"showlegend\": true, \"textposition\": \"auto\", \"type\": \"bar\", \"x\": [1299566], \"xaxis\": \"x\", \"y\": [\"O Alquimista\"], \"yaxis\": \"y\"}, {\"alignmentgroup\": \"True\", \"hovertemplate\": \"original_title=%{y}<br>ratings_count=%{x}<extra></extra>\", \"legendgroup\": \"The Giver\", \"marker\": {\"color\": \"#FF6692\"}, \"name\": \"The Giver\", \"offsetgroup\": \"The Giver\", \"orientation\": \"h\", \"showlegend\": true, \"textposition\": \"auto\", \"type\": \"bar\", \"x\": [1296825], \"xaxis\": \"x\", \"y\": [\"The Giver\"], \"yaxis\": \"y\"}, {\"alignmentgroup\": \"True\", \"hovertemplate\": \"original_title=%{y}<br>ratings_count=%{x}<extra></extra>\", \"legendgroup\": \"Little Women\", \"marker\": {\"color\": \"#B6E880\"}, \"name\": \"Little Women\", \"offsetgroup\": \"Little Women\", \"orientation\": \"h\", \"showlegend\": true, \"textposition\": \"auto\", \"type\": \"bar\", \"x\": [1257121], \"xaxis\": \"x\", \"y\": [\"Little Women\"], \"yaxis\": \"y\"}, {\"alignmentgroup\": \"True\", \"hovertemplate\": \"original_title=%{y}<br>ratings_count=%{x}<extra></extra>\", \"legendgroup\": \"Jane Eyre\", \"marker\": {\"color\": \"#FF97FF\"}, \"name\": \"Jane Eyre\", \"offsetgroup\": \"Jane Eyre\", \"orientation\": \"h\", \"showlegend\": true, \"textposition\": \"auto\", \"type\": \"bar\", \"x\": [1198557], \"xaxis\": \"x\", \"y\": [\"Jane Eyre\"], \"yaxis\": \"y\"}, {\"alignmentgroup\": \"True\", \"hovertemplate\": \"original_title=%{y}<br>ratings_count=%{x}<extra></extra>\", \"legendgroup\": \"Eat, pray, love: one woman's search for everything across Italy, India and Indonesia\", \"marker\": {\"color\": \"#FECB52\"}, \"name\": \"Eat, pray, love: one woman's search for everything across Italy, India and Indonesia\", \"offsetgroup\": \"Eat, pray, love: one woman's search for everything across Italy, India and Indonesia\", \"orientation\": \"h\", \"showlegend\": true, \"textposition\": \"auto\", \"type\": \"bar\", \"x\": [1181647], \"xaxis\": \"x\", \"y\": [\"Eat, pray, love: one woman's search for everything across Italy, India and Indonesia\"], \"yaxis\": \"y\"}, {\"alignmentgroup\": \"True\", \"hovertemplate\": \"original_title=%{y}<br>ratings_count=%{x}<extra></extra>\", \"legendgroup\": \"The Book Thief\", \"marker\": {\"color\": \"#636efa\"}, \"name\": \"The Book Thief\", \"offsetgroup\": \"The Book Thief\", \"orientation\": \"h\", \"showlegend\": true, \"textposition\": \"auto\", \"type\": \"bar\", \"x\": [1159741], \"xaxis\": \"x\", \"y\": [\"The Book Thief\"], \"yaxis\": \"y\"}, {\"alignmentgroup\": \"True\", \"hovertemplate\": \"original_title=%{y}<br>ratings_count=%{x}<extra></extra>\", \"legendgroup\": \"New Moon (Twilight, #2)\", \"marker\": {\"color\": \"#EF553B\"}, \"name\": \"New Moon (Twilight, #2)\", \"offsetgroup\": \"New Moon (Twilight, #2)\", \"orientation\": \"h\", \"showlegend\": true, \"textposition\": \"auto\", \"type\": \"bar\", \"x\": [1149630], \"xaxis\": \"x\", \"y\": [\"New Moon (Twilight, #2)\"], \"yaxis\": \"y\"}, {\"alignmentgroup\": \"True\", \"hovertemplate\": \"original_title=%{y}<br>ratings_count=%{x}<extra></extra>\", \"legendgroup\": \"Eclipse\", \"marker\": {\"color\": \"#00cc96\"}, \"name\": \"Eclipse\", \"offsetgroup\": \"Eclipse\", \"orientation\": \"h\", \"showlegend\": true, \"textposition\": \"auto\", \"type\": \"bar\", \"x\": [1134511], \"xaxis\": \"x\", \"y\": [\"Eclipse\"], \"yaxis\": \"y\"}, {\"alignmentgroup\": \"True\", \"hovertemplate\": \"original_title=%{y}<br>ratings_count=%{x}<extra></extra>\", \"legendgroup\": \"Eragon\", \"marker\": {\"color\": \"#ab63fa\"}, \"name\": \"Eragon\", \"offsetgroup\": \"Eragon\", \"orientation\": \"h\", \"showlegend\": true, \"textposition\": \"auto\", \"type\": \"bar\", \"x\": [1104021], \"xaxis\": \"x\", \"y\": [\"Eragon\"], \"yaxis\": \"y\"}, {\"alignmentgroup\": \"True\", \"hovertemplate\": \"original_title=%{y}<br>ratings_count=%{x}<extra></extra>\", \"legendgroup\": \"Breaking Dawn\", \"marker\": {\"color\": \"#FFA15A\"}, \"name\": \"Breaking Dawn\", \"offsetgroup\": \"Breaking Dawn\", \"orientation\": \"h\", \"showlegend\": true, \"textposition\": \"auto\", \"type\": \"bar\", \"x\": [1070245], \"xaxis\": \"x\", \"y\": [\"Breaking Dawn\"], \"yaxis\": \"y\"}, {\"alignmentgroup\": \"True\", \"hovertemplate\": \"original_title=%{y}<br>ratings_count=%{x}<extra></extra>\", \"legendgroup\": \"Water for Elephants\", \"marker\": {\"color\": \"#19d3f3\"}, \"name\": \"Water for Elephants\", \"offsetgroup\": \"Water for Elephants\", \"orientation\": \"h\", \"showlegend\": true, \"textposition\": \"auto\", \"type\": \"bar\", \"x\": [1068146], \"xaxis\": \"x\", \"y\": [\"Water for Elephants\"], \"yaxis\": \"y\"}, {\"alignmentgroup\": \"True\", \"hovertemplate\": \"original_title=%{y}<br>ratings_count=%{x}<extra></extra>\", \"legendgroup\": \"Charlotte's Web\", \"marker\": {\"color\": \"#FF6692\"}, \"name\": \"Charlotte's Web\", \"offsetgroup\": \"Charlotte's Web\", \"orientation\": \"h\", \"showlegend\": true, \"textposition\": \"auto\", \"type\": \"bar\", \"x\": [1064521], \"xaxis\": \"x\", \"y\": [\"Charlotte's Web\"], \"yaxis\": \"y\"}, {\"alignmentgroup\": \"True\", \"hovertemplate\": \"original_title=%{y}<br>ratings_count=%{x}<extra></extra>\", \"legendgroup\": \"The Notebook\", \"marker\": {\"color\": \"#B6E880\"}, \"name\": \"The Notebook\", \"offsetgroup\": \"The Notebook\", \"orientation\": \"h\", \"showlegend\": true, \"textposition\": \"auto\", \"type\": \"bar\", \"x\": [1053403], \"xaxis\": \"x\", \"y\": [\"The Notebook\"], \"yaxis\": \"y\"}, {\"alignmentgroup\": \"True\", \"hovertemplate\": \"original_title=%{y}<br>ratings_count=%{x}<extra></extra>\", \"legendgroup\": \"Brave New World\", \"marker\": {\"color\": \"#FF97FF\"}, \"name\": \"Brave New World\", \"offsetgroup\": \"Brave New World\", \"orientation\": \"h\", \"showlegend\": true, \"textposition\": \"auto\", \"type\": \"bar\", \"x\": [1022601], \"xaxis\": \"x\", \"y\": [\"Brave New World\"], \"yaxis\": \"y\"}, {\"alignmentgroup\": \"True\", \"hovertemplate\": \"original_title=%{y}<br>ratings_count=%{x}<extra></extra>\", \"legendgroup\": \"Where the Sidewalk Ends: The Poems and Drawings of Shel Silverstein\", \"marker\": {\"color\": \"#FECB52\"}, \"name\": \"Where the Sidewalk Ends: The Poems and Drawings of Shel Silverstein\", \"offsetgroup\": \"Where the Sidewalk Ends: The Poems and Drawings of Shel Silverstein\", \"orientation\": \"h\", \"showlegend\": true, \"textposition\": \"auto\", \"type\": \"bar\", \"x\": [1016888], \"xaxis\": \"x\", \"y\": [\"Where the Sidewalk Ends: The Poems and Drawings of Shel Silverstein\"], \"yaxis\": \"y\"}],                        {\"barmode\": \"relative\", \"height\": 700, \"legend\": {\"title\": {\"text\": \"original_title\"}, \"tracegroupgap\": 0}, \"template\": {\"data\": {\"bar\": [{\"error_x\": {\"color\": \"#2a3f5f\"}, \"error_y\": {\"color\": \"#2a3f5f\"}, \"marker\": {\"line\": {\"color\": \"#E5ECF6\", \"width\": 0.5}}, \"type\": \"bar\"}], \"barpolar\": [{\"marker\": {\"line\": {\"color\": \"#E5ECF6\", \"width\": 0.5}}, \"type\": \"barpolar\"}], \"carpet\": [{\"aaxis\": {\"endlinecolor\": \"#2a3f5f\", \"gridcolor\": \"white\", \"linecolor\": \"white\", \"minorgridcolor\": \"white\", \"startlinecolor\": \"#2a3f5f\"}, \"baxis\": {\"endlinecolor\": \"#2a3f5f\", \"gridcolor\": \"white\", \"linecolor\": \"white\", \"minorgridcolor\": \"white\", \"startlinecolor\": \"#2a3f5f\"}, \"type\": \"carpet\"}], \"choropleth\": [{\"colorbar\": {\"outlinewidth\": 0, \"ticks\": \"\"}, \"type\": \"choropleth\"}], \"contour\": [{\"colorbar\": {\"outlinewidth\": 0, \"ticks\": \"\"}, \"colorscale\": [[0.0, \"#0d0887\"], [0.1111111111111111, \"#46039f\"], [0.2222222222222222, \"#7201a8\"], [0.3333333333333333, \"#9c179e\"], [0.4444444444444444, \"#bd3786\"], [0.5555555555555556, \"#d8576b\"], [0.6666666666666666, \"#ed7953\"], [0.7777777777777778, \"#fb9f3a\"], [0.8888888888888888, \"#fdca26\"], [1.0, \"#f0f921\"]], \"type\": \"contour\"}], \"contourcarpet\": [{\"colorbar\": {\"outlinewidth\": 0, \"ticks\": \"\"}, \"type\": \"contourcarpet\"}], \"heatmap\": [{\"colorbar\": {\"outlinewidth\": 0, \"ticks\": \"\"}, \"colorscale\": [[0.0, \"#0d0887\"], [0.1111111111111111, \"#46039f\"], [0.2222222222222222, \"#7201a8\"], [0.3333333333333333, \"#9c179e\"], [0.4444444444444444, \"#bd3786\"], [0.5555555555555556, \"#d8576b\"], [0.6666666666666666, \"#ed7953\"], [0.7777777777777778, \"#fb9f3a\"], [0.8888888888888888, \"#fdca26\"], [1.0, \"#f0f921\"]], \"type\": \"heatmap\"}], \"heatmapgl\": [{\"colorbar\": {\"outlinewidth\": 0, \"ticks\": \"\"}, \"colorscale\": [[0.0, \"#0d0887\"], [0.1111111111111111, \"#46039f\"], [0.2222222222222222, \"#7201a8\"], [0.3333333333333333, \"#9c179e\"], [0.4444444444444444, \"#bd3786\"], [0.5555555555555556, \"#d8576b\"], [0.6666666666666666, \"#ed7953\"], [0.7777777777777778, \"#fb9f3a\"], [0.8888888888888888, \"#fdca26\"], [1.0, \"#f0f921\"]], \"type\": \"heatmapgl\"}], \"histogram\": [{\"marker\": {\"colorbar\": {\"outlinewidth\": 0, \"ticks\": \"\"}}, \"type\": \"histogram\"}], \"histogram2d\": [{\"colorbar\": {\"outlinewidth\": 0, \"ticks\": \"\"}, \"colorscale\": [[0.0, \"#0d0887\"], [0.1111111111111111, \"#46039f\"], [0.2222222222222222, \"#7201a8\"], [0.3333333333333333, \"#9c179e\"], [0.4444444444444444, \"#bd3786\"], [0.5555555555555556, \"#d8576b\"], [0.6666666666666666, \"#ed7953\"], [0.7777777777777778, \"#fb9f3a\"], [0.8888888888888888, \"#fdca26\"], [1.0, \"#f0f921\"]], \"type\": \"histogram2d\"}], \"histogram2dcontour\": [{\"colorbar\": {\"outlinewidth\": 0, \"ticks\": \"\"}, \"colorscale\": [[0.0, \"#0d0887\"], [0.1111111111111111, \"#46039f\"], [0.2222222222222222, \"#7201a8\"], [0.3333333333333333, \"#9c179e\"], [0.4444444444444444, \"#bd3786\"], [0.5555555555555556, \"#d8576b\"], [0.6666666666666666, \"#ed7953\"], [0.7777777777777778, \"#fb9f3a\"], [0.8888888888888888, \"#fdca26\"], [1.0, \"#f0f921\"]], \"type\": \"histogram2dcontour\"}], \"mesh3d\": [{\"colorbar\": {\"outlinewidth\": 0, \"ticks\": \"\"}, \"type\": \"mesh3d\"}], \"parcoords\": [{\"line\": {\"colorbar\": {\"outlinewidth\": 0, \"ticks\": \"\"}}, \"type\": \"parcoords\"}], \"pie\": [{\"automargin\": true, \"type\": \"pie\"}], \"scatter\": [{\"marker\": {\"colorbar\": {\"outlinewidth\": 0, \"ticks\": \"\"}}, \"type\": \"scatter\"}], \"scatter3d\": [{\"line\": {\"colorbar\": {\"outlinewidth\": 0, \"ticks\": \"\"}}, \"marker\": {\"colorbar\": {\"outlinewidth\": 0, \"ticks\": \"\"}}, \"type\": \"scatter3d\"}], \"scattercarpet\": [{\"marker\": {\"colorbar\": {\"outlinewidth\": 0, \"ticks\": \"\"}}, \"type\": \"scattercarpet\"}], \"scattergeo\": [{\"marker\": {\"colorbar\": {\"outlinewidth\": 0, \"ticks\": \"\"}}, \"type\": \"scattergeo\"}], \"scattergl\": [{\"marker\": {\"colorbar\": {\"outlinewidth\": 0, \"ticks\": \"\"}}, \"type\": \"scattergl\"}], \"scattermapbox\": [{\"marker\": {\"colorbar\": {\"outlinewidth\": 0, \"ticks\": \"\"}}, \"type\": \"scattermapbox\"}], \"scatterpolar\": [{\"marker\": {\"colorbar\": {\"outlinewidth\": 0, \"ticks\": \"\"}}, \"type\": \"scatterpolar\"}], \"scatterpolargl\": [{\"marker\": {\"colorbar\": {\"outlinewidth\": 0, \"ticks\": \"\"}}, \"type\": \"scatterpolargl\"}], \"scatterternary\": [{\"marker\": {\"colorbar\": {\"outlinewidth\": 0, \"ticks\": \"\"}}, \"type\": \"scatterternary\"}], \"surface\": [{\"colorbar\": {\"outlinewidth\": 0, \"ticks\": \"\"}, \"colorscale\": [[0.0, \"#0d0887\"], [0.1111111111111111, \"#46039f\"], [0.2222222222222222, \"#7201a8\"], [0.3333333333333333, \"#9c179e\"], [0.4444444444444444, \"#bd3786\"], [0.5555555555555556, \"#d8576b\"], [0.6666666666666666, \"#ed7953\"], [0.7777777777777778, \"#fb9f3a\"], [0.8888888888888888, \"#fdca26\"], [1.0, \"#f0f921\"]], \"type\": \"surface\"}], \"table\": [{\"cells\": {\"fill\": {\"color\": \"#EBF0F8\"}, \"line\": {\"color\": \"white\"}}, \"header\": {\"fill\": {\"color\": \"#C8D4E3\"}, \"line\": {\"color\": \"white\"}}, \"type\": \"table\"}]}, \"layout\": {\"annotationdefaults\": {\"arrowcolor\": \"#2a3f5f\", \"arrowhead\": 0, \"arrowwidth\": 1}, \"coloraxis\": {\"colorbar\": {\"outlinewidth\": 0, \"ticks\": \"\"}}, \"colorscale\": {\"diverging\": [[0, \"#8e0152\"], [0.1, \"#c51b7d\"], [0.2, \"#de77ae\"], [0.3, \"#f1b6da\"], [0.4, \"#fde0ef\"], [0.5, \"#f7f7f7\"], [0.6, \"#e6f5d0\"], [0.7, \"#b8e186\"], [0.8, \"#7fbc41\"], [0.9, \"#4d9221\"], [1, \"#276419\"]], \"sequential\": [[0.0, \"#0d0887\"], [0.1111111111111111, \"#46039f\"], [0.2222222222222222, \"#7201a8\"], [0.3333333333333333, \"#9c179e\"], [0.4444444444444444, \"#bd3786\"], [0.5555555555555556, \"#d8576b\"], [0.6666666666666666, \"#ed7953\"], [0.7777777777777778, \"#fb9f3a\"], [0.8888888888888888, \"#fdca26\"], [1.0, \"#f0f921\"]], \"sequentialminus\": [[0.0, \"#0d0887\"], [0.1111111111111111, \"#46039f\"], [0.2222222222222222, \"#7201a8\"], [0.3333333333333333, \"#9c179e\"], [0.4444444444444444, \"#bd3786\"], [0.5555555555555556, \"#d8576b\"], [0.6666666666666666, \"#ed7953\"], [0.7777777777777778, \"#fb9f3a\"], [0.8888888888888888, \"#fdca26\"], [1.0, \"#f0f921\"]]}, \"colorway\": [\"#636efa\", \"#EF553B\", \"#00cc96\", \"#ab63fa\", \"#FFA15A\", \"#19d3f3\", \"#FF6692\", \"#B6E880\", \"#FF97FF\", \"#FECB52\"], \"font\": {\"color\": \"#2a3f5f\"}, \"geo\": {\"bgcolor\": \"white\", \"lakecolor\": \"white\", \"landcolor\": \"#E5ECF6\", \"showlakes\": true, \"showland\": true, \"subunitcolor\": \"white\"}, \"hoverlabel\": {\"align\": \"left\"}, \"hovermode\": \"closest\", \"mapbox\": {\"style\": \"light\"}, \"paper_bgcolor\": \"white\", \"plot_bgcolor\": \"#E5ECF6\", \"polar\": {\"angularaxis\": {\"gridcolor\": \"white\", \"linecolor\": \"white\", \"ticks\": \"\"}, \"bgcolor\": \"#E5ECF6\", \"radialaxis\": {\"gridcolor\": \"white\", \"linecolor\": \"white\", \"ticks\": \"\"}}, \"scene\": {\"xaxis\": {\"backgroundcolor\": \"#E5ECF6\", \"gridcolor\": \"white\", \"gridwidth\": 2, \"linecolor\": \"white\", \"showbackground\": true, \"ticks\": \"\", \"zerolinecolor\": \"white\"}, \"yaxis\": {\"backgroundcolor\": \"#E5ECF6\", \"gridcolor\": \"white\", \"gridwidth\": 2, \"linecolor\": \"white\", \"showbackground\": true, \"ticks\": \"\", \"zerolinecolor\": \"white\"}, \"zaxis\": {\"backgroundcolor\": \"#E5ECF6\", \"gridcolor\": \"white\", \"gridwidth\": 2, \"linecolor\": \"white\", \"showbackground\": true, \"ticks\": \"\", \"zerolinecolor\": \"white\"}}, \"shapedefaults\": {\"line\": {\"color\": \"#2a3f5f\"}}, \"ternary\": {\"aaxis\": {\"gridcolor\": \"white\", \"linecolor\": \"white\", \"ticks\": \"\"}, \"baxis\": {\"gridcolor\": \"white\", \"linecolor\": \"white\", \"ticks\": \"\"}, \"bgcolor\": \"#E5ECF6\", \"caxis\": {\"gridcolor\": \"white\", \"linecolor\": \"white\", \"ticks\": \"\"}}, \"title\": {\"x\": 0.05}, \"xaxis\": {\"automargin\": true, \"gridcolor\": \"white\", \"linecolor\": \"white\", \"ticks\": \"\", \"title\": {\"standoff\": 15}, \"zerolinecolor\": \"white\", \"zerolinewidth\": 2}, \"yaxis\": {\"automargin\": true, \"gridcolor\": \"white\", \"linecolor\": \"white\", \"ticks\": \"\", \"title\": {\"standoff\": 15}, \"zerolinecolor\": \"white\", \"zerolinewidth\": 2}}}, \"title\": {\"text\": \"Top Popular Books\"}, \"width\": 1500, \"xaxis\": {\"anchor\": \"y\", \"domain\": [0.0, 1.0], \"title\": {\"text\": \"ratings_count\"}}, \"yaxis\": {\"anchor\": \"x\", \"categoryarray\": [\"Where the Sidewalk Ends: The Poems and Drawings of Shel Silverstein\", \"Brave New World\", \"The Notebook\", \"Charlotte's Web\", \"Water for Elephants\", \"Breaking Dawn\", \"Eragon\", \"Eclipse\", \"New Moon (Twilight, #2)\", \"The Book Thief\", \"Eat, pray, love: one woman's search for everything across Italy, India and Indonesia\", \"Jane Eyre\", \"Little Women\", \"The Giver\", \"O Alquimista\", \"Memoirs of a Geisha\", \"A Game of Thrones\", \"Fifty Shades of Grey\", \"The Lightning Thief\", \"The Da Vinci Code\", \"Of Mice and Men \", \"The Help\", \"The Lion, the Witch and the Wardrobe\", \"Lord of the Flies \", \"The Lovely Bones\", \"An Excellent conceited Tragedie of Romeo and Juliet\", \"Harry Potter and the Half-Blood Prince\", \"Mockingjay\", \"Harry Potter and the Order of the Phoenix\", \"Harry Potter and the Deathly Hallows\", \"Harry Potter and the Goblet of Fire\", \" The Fellowship of the Ring\", \"Harry Potter and the Chamber of Secrets\", \"M\\u00e4n som hatar kvinnor\", \"The Kite Runner \", \"Catching Fire\", \"Harry Potter and the Prisoner of Azkaban\", \"Animal Farm: A Fairy Story\", \"Divergent\", \"Nineteen Eighty-Four\", \"Het Achterhuis: Dagboekbrieven 14 juni 1942 - 1 augustus 1944\", \"Angels & Demons \", \"Pride and Prejudice\", \"The Catcher in the Rye\", \"The Hobbit or There and Back Again\", \"The Fault in Our Stars\", \"The Great Gatsby\", \"To Kill a Mockingbird\", \"Harry Potter and the Philosopher's Stone\", \"The Hunger Games\"], \"categoryorder\": \"array\", \"domain\": [0.0, 1.0], \"title\": {\"text\": \"original_title\"}}},                        {\"responsive\": true}                    ).then(function(){\n",
       "                            \n",
       "var gd = document.getElementById('b5a39710-7e26-4ad9-ac03-c8162b5ac933');\n",
       "var x = new MutationObserver(function (mutations, observer) {{\n",
       "        var display = window.getComputedStyle(gd).display;\n",
       "        if (!display || display === 'none') {{\n",
       "            console.log([gd, 'removed!']);\n",
       "            Plotly.purge(gd);\n",
       "            observer.disconnect();\n",
       "        }}\n",
       "}});\n",
       "\n",
       "// Listen for the removal of the full notebook cells\n",
       "var notebookContainer = gd.closest('#notebook-container');\n",
       "if (notebookContainer) {{\n",
       "    x.observe(notebookContainer, {childList: true});\n",
       "}}\n",
       "\n",
       "// Listen for the clearing of the current output cell\n",
       "var outputEl = gd.closest('.output');\n",
       "if (outputEl) {{\n",
       "    x.observe(outputEl, {childList: true});\n",
       "}}\n",
       "\n",
       "                        })                };                });            </script>        </div>"
      ]
     },
     "metadata": {},
     "output_type": "display_data"
    }
   ],
   "source": [
    "top_popular = books_data.sort_values('ratings_count', ascending=False)\n",
    "fifty_top_popular = top_popular[:50]\n",
    "fig = px.bar(fifty_top_popular, x=\"ratings_count\", y=\"original_title\", title='Top Popular Books', orientation='h', color='original_title',\n",
    "             width=1500, height=700)\n",
    "fig.show()\n",
    "#fig.write_image('images/popular_bar.jpg')"
   ]
  },
  {
   "cell_type": "code",
   "execution_count": 5,
   "metadata": {},
   "outputs": [
    {
     "data": {
      "application/vnd.plotly.v1+json": {
       "config": {
        "plotlyServerURL": "https://plot.ly"
       },
       "data": [
        {
         "branchvalues": "total",
         "domain": {
          "x": [
           0,
           1
          ],
          "y": [
           0,
           1
          ]
         },
         "hovertemplate": "labels=%{label}<br>average_rating=%{value}<br>parent=%{parent}<br>id=%{id}<extra></extra>",
         "ids": [
          "Alisa Kwitney, Neil Gaiman",
          "Angie Thomas",
          "Anonymous",
          "Bill Watterson",
          "Bill Watterson, G.B. Trudeau",
          "Brandon Sanderson",
          "Brian K. Vaughan, Fiona Staples",
          "Bryan Stevenson",
          "Cassandra Clare",
          "Daniel Abraham, George R.R. Martin, Tommy Patterson",
          "Francine Rivers",
          "Francine Rivers, Richard Ferrone",
          "Gary Russell",
          "George R.R. Martin",
          "Hafez",
          "Isaac Asimov, Bob E. Flick, Jim Gallant",
          "J.K. Rowling",
          "J.K. Rowling, Mary GrandPré",
          "J.R.R. Tolkien",
          "Jorge Luis Borges, Andrew Hurley",
          "Leigh Bardugo",
          "Masashi Kishimoto",
          "Neil Gaiman, Marc Hempel, Richard Case, D'Israeli, Teddy Kristiansen, Glyn Dillon, Charles Vess, Dean Ormston, Kevin Nowlan, Todd Klein, Frank McConnell",
          "Neil Gaiman, Mike Dringenberg, Chris Bachalo, Michael Zulli, Kelly Jones, Charles Vess, Colleen Doran, Malcolm Jones III, Steve Parkhouse, Daniel Vozzo, Lee Loughridge, Steve Oliff, Todd Klein, Dave McKean, Sam Kieth",
          "Patrick Rothfuss",
          "Rick Riordan",
          "Safiy al-Rahman al-Mubarakfuri",
          "Sarah J. Maas",
          "Sherrilyn Kenyon"
         ],
         "labels": [
          "Alisa Kwitney, Neil Gaiman",
          "Angie Thomas",
          "Anonymous",
          "Bill Watterson",
          "Bill Watterson, G.B. Trudeau",
          "Brandon Sanderson",
          "Brian K. Vaughan, Fiona Staples",
          "Bryan Stevenson",
          "Cassandra Clare",
          "Daniel Abraham, George R.R. Martin, Tommy Patterson",
          "Francine Rivers",
          "Francine Rivers, Richard Ferrone",
          "Gary Russell",
          "George R.R. Martin",
          "Hafez",
          "Isaac Asimov, Bob E. Flick, Jim Gallant",
          "J.K. Rowling",
          "J.K. Rowling, Mary GrandPré",
          "J.R.R. Tolkien",
          "Jorge Luis Borges, Andrew Hurley",
          "Leigh Bardugo",
          "Masashi Kishimoto",
          "Neil Gaiman, Marc Hempel, Richard Case, D'Israeli, Teddy Kristiansen, Glyn Dillon, Charles Vess, Dean Ormston, Kevin Nowlan, Todd Klein, Frank McConnell",
          "Neil Gaiman, Mike Dringenberg, Chris Bachalo, Michael Zulli, Kelly Jones, Charles Vess, Colleen Doran, Malcolm Jones III, Steve Parkhouse, Daniel Vozzo, Lee Loughridge, Steve Oliff, Todd Klein, Dave McKean, Sam Kieth",
          "Patrick Rothfuss",
          "Rick Riordan",
          "Safiy al-Rahman al-Mubarakfuri",
          "Sarah J. Maas",
          "Sherrilyn Kenyon"
         ],
         "name": "",
         "parents": [
          "",
          "",
          "",
          "",
          "",
          "",
          "",
          "",
          "",
          "",
          "",
          "",
          "",
          "",
          "",
          "",
          "",
          "",
          "",
          "",
          "",
          "",
          "",
          "",
          "",
          "",
          "",
          "",
          ""
         ],
         "type": "treemap",
         "values": [
          4.61,
          4.62,
          9.27,
          51.81999999999999,
          4.61,
          14.079999999999998,
          4.57,
          4.58,
          13.75,
          4.65,
          9.36,
          4.6,
          4.59,
          4.63,
          4.63,
          4.58,
          9.47,
          9.27,
          4.59,
          4.58,
          4.62,
          4.57,
          4.59,
          4.65,
          4.57,
          4.58,
          4.57,
          13.9,
          9.17
         ]
        }
       ],
       "layout": {
        "height": 700,
        "legend": {
         "tracegroupgap": 0
        },
        "template": {
         "data": {
          "bar": [
           {
            "error_x": {
             "color": "#2a3f5f"
            },
            "error_y": {
             "color": "#2a3f5f"
            },
            "marker": {
             "line": {
              "color": "#E5ECF6",
              "width": 0.5
             }
            },
            "type": "bar"
           }
          ],
          "barpolar": [
           {
            "marker": {
             "line": {
              "color": "#E5ECF6",
              "width": 0.5
             }
            },
            "type": "barpolar"
           }
          ],
          "carpet": [
           {
            "aaxis": {
             "endlinecolor": "#2a3f5f",
             "gridcolor": "white",
             "linecolor": "white",
             "minorgridcolor": "white",
             "startlinecolor": "#2a3f5f"
            },
            "baxis": {
             "endlinecolor": "#2a3f5f",
             "gridcolor": "white",
             "linecolor": "white",
             "minorgridcolor": "white",
             "startlinecolor": "#2a3f5f"
            },
            "type": "carpet"
           }
          ],
          "choropleth": [
           {
            "colorbar": {
             "outlinewidth": 0,
             "ticks": ""
            },
            "type": "choropleth"
           }
          ],
          "contour": [
           {
            "colorbar": {
             "outlinewidth": 0,
             "ticks": ""
            },
            "colorscale": [
             [
              0,
              "#0d0887"
             ],
             [
              0.1111111111111111,
              "#46039f"
             ],
             [
              0.2222222222222222,
              "#7201a8"
             ],
             [
              0.3333333333333333,
              "#9c179e"
             ],
             [
              0.4444444444444444,
              "#bd3786"
             ],
             [
              0.5555555555555556,
              "#d8576b"
             ],
             [
              0.6666666666666666,
              "#ed7953"
             ],
             [
              0.7777777777777778,
              "#fb9f3a"
             ],
             [
              0.8888888888888888,
              "#fdca26"
             ],
             [
              1,
              "#f0f921"
             ]
            ],
            "type": "contour"
           }
          ],
          "contourcarpet": [
           {
            "colorbar": {
             "outlinewidth": 0,
             "ticks": ""
            },
            "type": "contourcarpet"
           }
          ],
          "heatmap": [
           {
            "colorbar": {
             "outlinewidth": 0,
             "ticks": ""
            },
            "colorscale": [
             [
              0,
              "#0d0887"
             ],
             [
              0.1111111111111111,
              "#46039f"
             ],
             [
              0.2222222222222222,
              "#7201a8"
             ],
             [
              0.3333333333333333,
              "#9c179e"
             ],
             [
              0.4444444444444444,
              "#bd3786"
             ],
             [
              0.5555555555555556,
              "#d8576b"
             ],
             [
              0.6666666666666666,
              "#ed7953"
             ],
             [
              0.7777777777777778,
              "#fb9f3a"
             ],
             [
              0.8888888888888888,
              "#fdca26"
             ],
             [
              1,
              "#f0f921"
             ]
            ],
            "type": "heatmap"
           }
          ],
          "heatmapgl": [
           {
            "colorbar": {
             "outlinewidth": 0,
             "ticks": ""
            },
            "colorscale": [
             [
              0,
              "#0d0887"
             ],
             [
              0.1111111111111111,
              "#46039f"
             ],
             [
              0.2222222222222222,
              "#7201a8"
             ],
             [
              0.3333333333333333,
              "#9c179e"
             ],
             [
              0.4444444444444444,
              "#bd3786"
             ],
             [
              0.5555555555555556,
              "#d8576b"
             ],
             [
              0.6666666666666666,
              "#ed7953"
             ],
             [
              0.7777777777777778,
              "#fb9f3a"
             ],
             [
              0.8888888888888888,
              "#fdca26"
             ],
             [
              1,
              "#f0f921"
             ]
            ],
            "type": "heatmapgl"
           }
          ],
          "histogram": [
           {
            "marker": {
             "colorbar": {
              "outlinewidth": 0,
              "ticks": ""
             }
            },
            "type": "histogram"
           }
          ],
          "histogram2d": [
           {
            "colorbar": {
             "outlinewidth": 0,
             "ticks": ""
            },
            "colorscale": [
             [
              0,
              "#0d0887"
             ],
             [
              0.1111111111111111,
              "#46039f"
             ],
             [
              0.2222222222222222,
              "#7201a8"
             ],
             [
              0.3333333333333333,
              "#9c179e"
             ],
             [
              0.4444444444444444,
              "#bd3786"
             ],
             [
              0.5555555555555556,
              "#d8576b"
             ],
             [
              0.6666666666666666,
              "#ed7953"
             ],
             [
              0.7777777777777778,
              "#fb9f3a"
             ],
             [
              0.8888888888888888,
              "#fdca26"
             ],
             [
              1,
              "#f0f921"
             ]
            ],
            "type": "histogram2d"
           }
          ],
          "histogram2dcontour": [
           {
            "colorbar": {
             "outlinewidth": 0,
             "ticks": ""
            },
            "colorscale": [
             [
              0,
              "#0d0887"
             ],
             [
              0.1111111111111111,
              "#46039f"
             ],
             [
              0.2222222222222222,
              "#7201a8"
             ],
             [
              0.3333333333333333,
              "#9c179e"
             ],
             [
              0.4444444444444444,
              "#bd3786"
             ],
             [
              0.5555555555555556,
              "#d8576b"
             ],
             [
              0.6666666666666666,
              "#ed7953"
             ],
             [
              0.7777777777777778,
              "#fb9f3a"
             ],
             [
              0.8888888888888888,
              "#fdca26"
             ],
             [
              1,
              "#f0f921"
             ]
            ],
            "type": "histogram2dcontour"
           }
          ],
          "mesh3d": [
           {
            "colorbar": {
             "outlinewidth": 0,
             "ticks": ""
            },
            "type": "mesh3d"
           }
          ],
          "parcoords": [
           {
            "line": {
             "colorbar": {
              "outlinewidth": 0,
              "ticks": ""
             }
            },
            "type": "parcoords"
           }
          ],
          "pie": [
           {
            "automargin": true,
            "type": "pie"
           }
          ],
          "scatter": [
           {
            "marker": {
             "colorbar": {
              "outlinewidth": 0,
              "ticks": ""
             }
            },
            "type": "scatter"
           }
          ],
          "scatter3d": [
           {
            "line": {
             "colorbar": {
              "outlinewidth": 0,
              "ticks": ""
             }
            },
            "marker": {
             "colorbar": {
              "outlinewidth": 0,
              "ticks": ""
             }
            },
            "type": "scatter3d"
           }
          ],
          "scattercarpet": [
           {
            "marker": {
             "colorbar": {
              "outlinewidth": 0,
              "ticks": ""
             }
            },
            "type": "scattercarpet"
           }
          ],
          "scattergeo": [
           {
            "marker": {
             "colorbar": {
              "outlinewidth": 0,
              "ticks": ""
             }
            },
            "type": "scattergeo"
           }
          ],
          "scattergl": [
           {
            "marker": {
             "colorbar": {
              "outlinewidth": 0,
              "ticks": ""
             }
            },
            "type": "scattergl"
           }
          ],
          "scattermapbox": [
           {
            "marker": {
             "colorbar": {
              "outlinewidth": 0,
              "ticks": ""
             }
            },
            "type": "scattermapbox"
           }
          ],
          "scatterpolar": [
           {
            "marker": {
             "colorbar": {
              "outlinewidth": 0,
              "ticks": ""
             }
            },
            "type": "scatterpolar"
           }
          ],
          "scatterpolargl": [
           {
            "marker": {
             "colorbar": {
              "outlinewidth": 0,
              "ticks": ""
             }
            },
            "type": "scatterpolargl"
           }
          ],
          "scatterternary": [
           {
            "marker": {
             "colorbar": {
              "outlinewidth": 0,
              "ticks": ""
             }
            },
            "type": "scatterternary"
           }
          ],
          "surface": [
           {
            "colorbar": {
             "outlinewidth": 0,
             "ticks": ""
            },
            "colorscale": [
             [
              0,
              "#0d0887"
             ],
             [
              0.1111111111111111,
              "#46039f"
             ],
             [
              0.2222222222222222,
              "#7201a8"
             ],
             [
              0.3333333333333333,
              "#9c179e"
             ],
             [
              0.4444444444444444,
              "#bd3786"
             ],
             [
              0.5555555555555556,
              "#d8576b"
             ],
             [
              0.6666666666666666,
              "#ed7953"
             ],
             [
              0.7777777777777778,
              "#fb9f3a"
             ],
             [
              0.8888888888888888,
              "#fdca26"
             ],
             [
              1,
              "#f0f921"
             ]
            ],
            "type": "surface"
           }
          ],
          "table": [
           {
            "cells": {
             "fill": {
              "color": "#EBF0F8"
             },
             "line": {
              "color": "white"
             }
            },
            "header": {
             "fill": {
              "color": "#C8D4E3"
             },
             "line": {
              "color": "white"
             }
            },
            "type": "table"
           }
          ]
         },
         "layout": {
          "annotationdefaults": {
           "arrowcolor": "#2a3f5f",
           "arrowhead": 0,
           "arrowwidth": 1
          },
          "coloraxis": {
           "colorbar": {
            "outlinewidth": 0,
            "ticks": ""
           }
          },
          "colorscale": {
           "diverging": [
            [
             0,
             "#8e0152"
            ],
            [
             0.1,
             "#c51b7d"
            ],
            [
             0.2,
             "#de77ae"
            ],
            [
             0.3,
             "#f1b6da"
            ],
            [
             0.4,
             "#fde0ef"
            ],
            [
             0.5,
             "#f7f7f7"
            ],
            [
             0.6,
             "#e6f5d0"
            ],
            [
             0.7,
             "#b8e186"
            ],
            [
             0.8,
             "#7fbc41"
            ],
            [
             0.9,
             "#4d9221"
            ],
            [
             1,
             "#276419"
            ]
           ],
           "sequential": [
            [
             0,
             "#0d0887"
            ],
            [
             0.1111111111111111,
             "#46039f"
            ],
            [
             0.2222222222222222,
             "#7201a8"
            ],
            [
             0.3333333333333333,
             "#9c179e"
            ],
            [
             0.4444444444444444,
             "#bd3786"
            ],
            [
             0.5555555555555556,
             "#d8576b"
            ],
            [
             0.6666666666666666,
             "#ed7953"
            ],
            [
             0.7777777777777778,
             "#fb9f3a"
            ],
            [
             0.8888888888888888,
             "#fdca26"
            ],
            [
             1,
             "#f0f921"
            ]
           ],
           "sequentialminus": [
            [
             0,
             "#0d0887"
            ],
            [
             0.1111111111111111,
             "#46039f"
            ],
            [
             0.2222222222222222,
             "#7201a8"
            ],
            [
             0.3333333333333333,
             "#9c179e"
            ],
            [
             0.4444444444444444,
             "#bd3786"
            ],
            [
             0.5555555555555556,
             "#d8576b"
            ],
            [
             0.6666666666666666,
             "#ed7953"
            ],
            [
             0.7777777777777778,
             "#fb9f3a"
            ],
            [
             0.8888888888888888,
             "#fdca26"
            ],
            [
             1,
             "#f0f921"
            ]
           ]
          },
          "colorway": [
           "#636efa",
           "#EF553B",
           "#00cc96",
           "#ab63fa",
           "#FFA15A",
           "#19d3f3",
           "#FF6692",
           "#B6E880",
           "#FF97FF",
           "#FECB52"
          ],
          "font": {
           "color": "#2a3f5f"
          },
          "geo": {
           "bgcolor": "white",
           "lakecolor": "white",
           "landcolor": "#E5ECF6",
           "showlakes": true,
           "showland": true,
           "subunitcolor": "white"
          },
          "hoverlabel": {
           "align": "left"
          },
          "hovermode": "closest",
          "mapbox": {
           "style": "light"
          },
          "paper_bgcolor": "white",
          "plot_bgcolor": "#E5ECF6",
          "polar": {
           "angularaxis": {
            "gridcolor": "white",
            "linecolor": "white",
            "ticks": ""
           },
           "bgcolor": "#E5ECF6",
           "radialaxis": {
            "gridcolor": "white",
            "linecolor": "white",
            "ticks": ""
           }
          },
          "scene": {
           "xaxis": {
            "backgroundcolor": "#E5ECF6",
            "gridcolor": "white",
            "gridwidth": 2,
            "linecolor": "white",
            "showbackground": true,
            "ticks": "",
            "zerolinecolor": "white"
           },
           "yaxis": {
            "backgroundcolor": "#E5ECF6",
            "gridcolor": "white",
            "gridwidth": 2,
            "linecolor": "white",
            "showbackground": true,
            "ticks": "",
            "zerolinecolor": "white"
           },
           "zaxis": {
            "backgroundcolor": "#E5ECF6",
            "gridcolor": "white",
            "gridwidth": 2,
            "linecolor": "white",
            "showbackground": true,
            "ticks": "",
            "zerolinecolor": "white"
           }
          },
          "shapedefaults": {
           "line": {
            "color": "#2a3f5f"
           }
          },
          "ternary": {
           "aaxis": {
            "gridcolor": "white",
            "linecolor": "white",
            "ticks": ""
           },
           "baxis": {
            "gridcolor": "white",
            "linecolor": "white",
            "ticks": ""
           },
           "bgcolor": "#E5ECF6",
           "caxis": {
            "gridcolor": "white",
            "linecolor": "white",
            "ticks": ""
           }
          },
          "title": {
           "x": 0.05
          },
          "xaxis": {
           "automargin": true,
           "gridcolor": "white",
           "linecolor": "white",
           "ticks": "",
           "title": {
            "standoff": 15
           },
           "zerolinecolor": "white",
           "zerolinewidth": 2
          },
          "yaxis": {
           "automargin": true,
           "gridcolor": "white",
           "linecolor": "white",
           "ticks": "",
           "title": {
            "standoff": 15
           },
           "zerolinecolor": "white",
           "zerolinewidth": 2
          }
         }
        },
        "title": {
         "text": "Popular Authors"
        },
        "width": 1000
       }
      },
      "text/html": [
       "<div>                            <div id=\"24b700a2-512f-4eff-ad13-1d6e32c34653\" class=\"plotly-graph-div\" style=\"height:700px; width:1000px;\"></div>            <script type=\"text/javascript\">                require([\"plotly\"], function(Plotly) {                    window.PLOTLYENV=window.PLOTLYENV || {};                                    if (document.getElementById(\"24b700a2-512f-4eff-ad13-1d6e32c34653\")) {                    Plotly.newPlot(                        \"24b700a2-512f-4eff-ad13-1d6e32c34653\",                        [{\"branchvalues\": \"total\", \"domain\": {\"x\": [0.0, 1.0], \"y\": [0.0, 1.0]}, \"hovertemplate\": \"labels=%{label}<br>average_rating=%{value}<br>parent=%{parent}<br>id=%{id}<extra></extra>\", \"ids\": [\"Alisa Kwitney, Neil Gaiman\", \"Angie Thomas\", \"Anonymous\", \"Bill Watterson\", \"Bill Watterson, G.B. Trudeau\", \"Brandon Sanderson\", \"Brian K. Vaughan, Fiona Staples\", \"Bryan Stevenson\", \"Cassandra Clare\", \"Daniel Abraham, George R.R. Martin, Tommy Patterson\", \"Francine Rivers\", \"Francine Rivers, Richard Ferrone\", \"Gary Russell\", \"George R.R. Martin\", \"Hafez\", \"Isaac Asimov, Bob E. Flick, Jim Gallant\", \"J.K. Rowling\", \"J.K. Rowling, Mary GrandPr\\u00e9\", \"J.R.R. Tolkien\", \"Jorge Luis Borges, Andrew Hurley\", \"Leigh Bardugo\", \"Masashi Kishimoto\", \"Neil Gaiman, Marc Hempel, Richard Case, D'Israeli, Teddy Kristiansen, Glyn Dillon, Charles Vess, Dean Ormston, Kevin Nowlan, Todd Klein, Frank McConnell\", \"Neil Gaiman, Mike Dringenberg, Chris Bachalo, Michael Zulli, Kelly Jones, Charles Vess, Colleen Doran, Malcolm Jones III, Steve Parkhouse, Daniel Vozzo, Lee Loughridge, Steve Oliff, Todd Klein, Dave McKean, Sam Kieth\", \"Patrick Rothfuss\", \"Rick Riordan\", \"Safiy al-Rahman al-Mubarakfuri\", \"Sarah J. Maas\", \"Sherrilyn Kenyon\"], \"labels\": [\"Alisa Kwitney, Neil Gaiman\", \"Angie Thomas\", \"Anonymous\", \"Bill Watterson\", \"Bill Watterson, G.B. Trudeau\", \"Brandon Sanderson\", \"Brian K. Vaughan, Fiona Staples\", \"Bryan Stevenson\", \"Cassandra Clare\", \"Daniel Abraham, George R.R. Martin, Tommy Patterson\", \"Francine Rivers\", \"Francine Rivers, Richard Ferrone\", \"Gary Russell\", \"George R.R. Martin\", \"Hafez\", \"Isaac Asimov, Bob E. Flick, Jim Gallant\", \"J.K. Rowling\", \"J.K. Rowling, Mary GrandPr\\u00e9\", \"J.R.R. Tolkien\", \"Jorge Luis Borges, Andrew Hurley\", \"Leigh Bardugo\", \"Masashi Kishimoto\", \"Neil Gaiman, Marc Hempel, Richard Case, D'Israeli, Teddy Kristiansen, Glyn Dillon, Charles Vess, Dean Ormston, Kevin Nowlan, Todd Klein, Frank McConnell\", \"Neil Gaiman, Mike Dringenberg, Chris Bachalo, Michael Zulli, Kelly Jones, Charles Vess, Colleen Doran, Malcolm Jones III, Steve Parkhouse, Daniel Vozzo, Lee Loughridge, Steve Oliff, Todd Klein, Dave McKean, Sam Kieth\", \"Patrick Rothfuss\", \"Rick Riordan\", \"Safiy al-Rahman al-Mubarakfuri\", \"Sarah J. Maas\", \"Sherrilyn Kenyon\"], \"name\": \"\", \"parents\": [\"\", \"\", \"\", \"\", \"\", \"\", \"\", \"\", \"\", \"\", \"\", \"\", \"\", \"\", \"\", \"\", \"\", \"\", \"\", \"\", \"\", \"\", \"\", \"\", \"\", \"\", \"\", \"\", \"\"], \"type\": \"treemap\", \"values\": [4.61, 4.62, 9.27, 51.81999999999999, 4.61, 14.079999999999998, 4.57, 4.58, 13.75, 4.65, 9.36, 4.6, 4.59, 4.63, 4.63, 4.58, 9.47, 9.27, 4.59, 4.58, 4.62, 4.57, 4.59, 4.65, 4.57, 4.58, 4.57, 13.9, 9.17]}],                        {\"height\": 700, \"legend\": {\"tracegroupgap\": 0}, \"template\": {\"data\": {\"bar\": [{\"error_x\": {\"color\": \"#2a3f5f\"}, \"error_y\": {\"color\": \"#2a3f5f\"}, \"marker\": {\"line\": {\"color\": \"#E5ECF6\", \"width\": 0.5}}, \"type\": \"bar\"}], \"barpolar\": [{\"marker\": {\"line\": {\"color\": \"#E5ECF6\", \"width\": 0.5}}, \"type\": \"barpolar\"}], \"carpet\": [{\"aaxis\": {\"endlinecolor\": \"#2a3f5f\", \"gridcolor\": \"white\", \"linecolor\": \"white\", \"minorgridcolor\": \"white\", \"startlinecolor\": \"#2a3f5f\"}, \"baxis\": {\"endlinecolor\": \"#2a3f5f\", \"gridcolor\": \"white\", \"linecolor\": \"white\", \"minorgridcolor\": \"white\", \"startlinecolor\": \"#2a3f5f\"}, \"type\": \"carpet\"}], \"choropleth\": [{\"colorbar\": {\"outlinewidth\": 0, \"ticks\": \"\"}, \"type\": \"choropleth\"}], \"contour\": [{\"colorbar\": {\"outlinewidth\": 0, \"ticks\": \"\"}, \"colorscale\": [[0.0, \"#0d0887\"], [0.1111111111111111, \"#46039f\"], [0.2222222222222222, \"#7201a8\"], [0.3333333333333333, \"#9c179e\"], [0.4444444444444444, \"#bd3786\"], [0.5555555555555556, \"#d8576b\"], [0.6666666666666666, \"#ed7953\"], [0.7777777777777778, \"#fb9f3a\"], [0.8888888888888888, \"#fdca26\"], [1.0, \"#f0f921\"]], \"type\": \"contour\"}], \"contourcarpet\": [{\"colorbar\": {\"outlinewidth\": 0, \"ticks\": \"\"}, \"type\": \"contourcarpet\"}], \"heatmap\": [{\"colorbar\": {\"outlinewidth\": 0, \"ticks\": \"\"}, \"colorscale\": [[0.0, \"#0d0887\"], [0.1111111111111111, \"#46039f\"], [0.2222222222222222, \"#7201a8\"], [0.3333333333333333, \"#9c179e\"], [0.4444444444444444, \"#bd3786\"], [0.5555555555555556, \"#d8576b\"], [0.6666666666666666, \"#ed7953\"], [0.7777777777777778, \"#fb9f3a\"], [0.8888888888888888, \"#fdca26\"], [1.0, \"#f0f921\"]], \"type\": \"heatmap\"}], \"heatmapgl\": [{\"colorbar\": {\"outlinewidth\": 0, \"ticks\": \"\"}, \"colorscale\": [[0.0, \"#0d0887\"], [0.1111111111111111, \"#46039f\"], [0.2222222222222222, \"#7201a8\"], [0.3333333333333333, \"#9c179e\"], [0.4444444444444444, \"#bd3786\"], [0.5555555555555556, \"#d8576b\"], [0.6666666666666666, \"#ed7953\"], [0.7777777777777778, \"#fb9f3a\"], [0.8888888888888888, \"#fdca26\"], [1.0, \"#f0f921\"]], \"type\": \"heatmapgl\"}], \"histogram\": [{\"marker\": {\"colorbar\": {\"outlinewidth\": 0, \"ticks\": \"\"}}, \"type\": \"histogram\"}], \"histogram2d\": [{\"colorbar\": {\"outlinewidth\": 0, \"ticks\": \"\"}, \"colorscale\": [[0.0, \"#0d0887\"], [0.1111111111111111, \"#46039f\"], [0.2222222222222222, \"#7201a8\"], [0.3333333333333333, \"#9c179e\"], [0.4444444444444444, \"#bd3786\"], [0.5555555555555556, \"#d8576b\"], [0.6666666666666666, \"#ed7953\"], [0.7777777777777778, \"#fb9f3a\"], [0.8888888888888888, \"#fdca26\"], [1.0, \"#f0f921\"]], \"type\": \"histogram2d\"}], \"histogram2dcontour\": [{\"colorbar\": {\"outlinewidth\": 0, \"ticks\": \"\"}, \"colorscale\": [[0.0, \"#0d0887\"], [0.1111111111111111, \"#46039f\"], [0.2222222222222222, \"#7201a8\"], [0.3333333333333333, \"#9c179e\"], [0.4444444444444444, \"#bd3786\"], [0.5555555555555556, \"#d8576b\"], [0.6666666666666666, \"#ed7953\"], [0.7777777777777778, \"#fb9f3a\"], [0.8888888888888888, \"#fdca26\"], [1.0, \"#f0f921\"]], \"type\": \"histogram2dcontour\"}], \"mesh3d\": [{\"colorbar\": {\"outlinewidth\": 0, \"ticks\": \"\"}, \"type\": \"mesh3d\"}], \"parcoords\": [{\"line\": {\"colorbar\": {\"outlinewidth\": 0, \"ticks\": \"\"}}, \"type\": \"parcoords\"}], \"pie\": [{\"automargin\": true, \"type\": \"pie\"}], \"scatter\": [{\"marker\": {\"colorbar\": {\"outlinewidth\": 0, \"ticks\": \"\"}}, \"type\": \"scatter\"}], \"scatter3d\": [{\"line\": {\"colorbar\": {\"outlinewidth\": 0, \"ticks\": \"\"}}, \"marker\": {\"colorbar\": {\"outlinewidth\": 0, \"ticks\": \"\"}}, \"type\": \"scatter3d\"}], \"scattercarpet\": [{\"marker\": {\"colorbar\": {\"outlinewidth\": 0, \"ticks\": \"\"}}, \"type\": \"scattercarpet\"}], \"scattergeo\": [{\"marker\": {\"colorbar\": {\"outlinewidth\": 0, \"ticks\": \"\"}}, \"type\": \"scattergeo\"}], \"scattergl\": [{\"marker\": {\"colorbar\": {\"outlinewidth\": 0, \"ticks\": \"\"}}, \"type\": \"scattergl\"}], \"scattermapbox\": [{\"marker\": {\"colorbar\": {\"outlinewidth\": 0, \"ticks\": \"\"}}, \"type\": \"scattermapbox\"}], \"scatterpolar\": [{\"marker\": {\"colorbar\": {\"outlinewidth\": 0, \"ticks\": \"\"}}, \"type\": \"scatterpolar\"}], \"scatterpolargl\": [{\"marker\": {\"colorbar\": {\"outlinewidth\": 0, \"ticks\": \"\"}}, \"type\": \"scatterpolargl\"}], \"scatterternary\": [{\"marker\": {\"colorbar\": {\"outlinewidth\": 0, \"ticks\": \"\"}}, \"type\": \"scatterternary\"}], \"surface\": [{\"colorbar\": {\"outlinewidth\": 0, \"ticks\": \"\"}, \"colorscale\": [[0.0, \"#0d0887\"], [0.1111111111111111, \"#46039f\"], [0.2222222222222222, \"#7201a8\"], [0.3333333333333333, \"#9c179e\"], [0.4444444444444444, \"#bd3786\"], [0.5555555555555556, \"#d8576b\"], [0.6666666666666666, \"#ed7953\"], [0.7777777777777778, \"#fb9f3a\"], [0.8888888888888888, \"#fdca26\"], [1.0, \"#f0f921\"]], \"type\": \"surface\"}], \"table\": [{\"cells\": {\"fill\": {\"color\": \"#EBF0F8\"}, \"line\": {\"color\": \"white\"}}, \"header\": {\"fill\": {\"color\": \"#C8D4E3\"}, \"line\": {\"color\": \"white\"}}, \"type\": \"table\"}]}, \"layout\": {\"annotationdefaults\": {\"arrowcolor\": \"#2a3f5f\", \"arrowhead\": 0, \"arrowwidth\": 1}, \"coloraxis\": {\"colorbar\": {\"outlinewidth\": 0, \"ticks\": \"\"}}, \"colorscale\": {\"diverging\": [[0, \"#8e0152\"], [0.1, \"#c51b7d\"], [0.2, \"#de77ae\"], [0.3, \"#f1b6da\"], [0.4, \"#fde0ef\"], [0.5, \"#f7f7f7\"], [0.6, \"#e6f5d0\"], [0.7, \"#b8e186\"], [0.8, \"#7fbc41\"], [0.9, \"#4d9221\"], [1, \"#276419\"]], \"sequential\": [[0.0, \"#0d0887\"], [0.1111111111111111, \"#46039f\"], [0.2222222222222222, \"#7201a8\"], [0.3333333333333333, \"#9c179e\"], [0.4444444444444444, \"#bd3786\"], [0.5555555555555556, \"#d8576b\"], [0.6666666666666666, \"#ed7953\"], [0.7777777777777778, \"#fb9f3a\"], [0.8888888888888888, \"#fdca26\"], [1.0, \"#f0f921\"]], \"sequentialminus\": [[0.0, \"#0d0887\"], [0.1111111111111111, \"#46039f\"], [0.2222222222222222, \"#7201a8\"], [0.3333333333333333, \"#9c179e\"], [0.4444444444444444, \"#bd3786\"], [0.5555555555555556, \"#d8576b\"], [0.6666666666666666, \"#ed7953\"], [0.7777777777777778, \"#fb9f3a\"], [0.8888888888888888, \"#fdca26\"], [1.0, \"#f0f921\"]]}, \"colorway\": [\"#636efa\", \"#EF553B\", \"#00cc96\", \"#ab63fa\", \"#FFA15A\", \"#19d3f3\", \"#FF6692\", \"#B6E880\", \"#FF97FF\", \"#FECB52\"], \"font\": {\"color\": \"#2a3f5f\"}, \"geo\": {\"bgcolor\": \"white\", \"lakecolor\": \"white\", \"landcolor\": \"#E5ECF6\", \"showlakes\": true, \"showland\": true, \"subunitcolor\": \"white\"}, \"hoverlabel\": {\"align\": \"left\"}, \"hovermode\": \"closest\", \"mapbox\": {\"style\": \"light\"}, \"paper_bgcolor\": \"white\", \"plot_bgcolor\": \"#E5ECF6\", \"polar\": {\"angularaxis\": {\"gridcolor\": \"white\", \"linecolor\": \"white\", \"ticks\": \"\"}, \"bgcolor\": \"#E5ECF6\", \"radialaxis\": {\"gridcolor\": \"white\", \"linecolor\": \"white\", \"ticks\": \"\"}}, \"scene\": {\"xaxis\": {\"backgroundcolor\": \"#E5ECF6\", \"gridcolor\": \"white\", \"gridwidth\": 2, \"linecolor\": \"white\", \"showbackground\": true, \"ticks\": \"\", \"zerolinecolor\": \"white\"}, \"yaxis\": {\"backgroundcolor\": \"#E5ECF6\", \"gridcolor\": \"white\", \"gridwidth\": 2, \"linecolor\": \"white\", \"showbackground\": true, \"ticks\": \"\", \"zerolinecolor\": \"white\"}, \"zaxis\": {\"backgroundcolor\": \"#E5ECF6\", \"gridcolor\": \"white\", \"gridwidth\": 2, \"linecolor\": \"white\", \"showbackground\": true, \"ticks\": \"\", \"zerolinecolor\": \"white\"}}, \"shapedefaults\": {\"line\": {\"color\": \"#2a3f5f\"}}, \"ternary\": {\"aaxis\": {\"gridcolor\": \"white\", \"linecolor\": \"white\", \"ticks\": \"\"}, \"baxis\": {\"gridcolor\": \"white\", \"linecolor\": \"white\", \"ticks\": \"\"}, \"bgcolor\": \"#E5ECF6\", \"caxis\": {\"gridcolor\": \"white\", \"linecolor\": \"white\", \"ticks\": \"\"}}, \"title\": {\"x\": 0.05}, \"xaxis\": {\"automargin\": true, \"gridcolor\": \"white\", \"linecolor\": \"white\", \"ticks\": \"\", \"title\": {\"standoff\": 15}, \"zerolinecolor\": \"white\", \"zerolinewidth\": 2}, \"yaxis\": {\"automargin\": true, \"gridcolor\": \"white\", \"linecolor\": \"white\", \"ticks\": \"\", \"title\": {\"standoff\": 15}, \"zerolinecolor\": \"white\", \"zerolinewidth\": 2}}}, \"title\": {\"text\": \"Popular Authors\"}, \"width\": 1000},                        {\"responsive\": true}                    ).then(function(){\n",
       "                            \n",
       "var gd = document.getElementById('24b700a2-512f-4eff-ad13-1d6e32c34653');\n",
       "var x = new MutationObserver(function (mutations, observer) {{\n",
       "        var display = window.getComputedStyle(gd).display;\n",
       "        if (!display || display === 'none') {{\n",
       "            console.log([gd, 'removed!']);\n",
       "            Plotly.purge(gd);\n",
       "            observer.disconnect();\n",
       "        }}\n",
       "}});\n",
       "\n",
       "// Listen for the removal of the full notebook cells\n",
       "var notebookContainer = gd.closest('#notebook-container');\n",
       "if (notebookContainer) {{\n",
       "    x.observe(notebookContainer, {childList: true});\n",
       "}}\n",
       "\n",
       "// Listen for the clearing of the current output cell\n",
       "var outputEl = gd.closest('.output');\n",
       "if (outputEl) {{\n",
       "    x.observe(outputEl, {childList: true});\n",
       "}}\n",
       "\n",
       "                        })                };                });            </script>        </div>"
      ]
     },
     "metadata": {},
     "output_type": "display_data"
    }
   ],
   "source": [
    "fifty_top_authors = top_rated[:50]\n",
    "fig = px.treemap(fifty_top_authors, path=['authors'], values='average_rating',title='Popular Authors', width=1000, height=700)\n",
    "fig.show()\n",
    "#fig.write_image('images/authors_tree.jpg')"
   ]
  },
  {
   "cell_type": "code",
   "execution_count": 6,
   "metadata": {},
   "outputs": [
    {
     "data": {
      "application/vnd.plotly.v1+json": {
       "config": {
        "plotlyServerURL": "https://plot.ly"
       },
       "data": [
        {
         "alignmentgroup": "True",
         "hovertemplate": "value=%{y}<br>count=%{x}<extra></extra>",
         "legendgroup": "Isabel Allende",
         "marker": {
          "color": "#636efa"
         },
         "name": "Isabel Allende",
         "offsetgroup": "Isabel Allende",
         "orientation": "h",
         "showlegend": true,
         "textposition": "auto",
         "type": "bar",
         "x": [
          662
         ],
         "xaxis": "x",
         "y": [
          "Isabel Allende"
         ],
         "yaxis": "y"
        },
        {
         "alignmentgroup": "True",
         "hovertemplate": "value=%{y}<br>count=%{x}<extra></extra>",
         "legendgroup": "Dean R. Koontz",
         "marker": {
          "color": "#EF553B"
         },
         "name": "Dean R. Koontz",
         "offsetgroup": "Dean R. Koontz",
         "orientation": "h",
         "showlegend": true,
         "textposition": "auto",
         "type": "bar",
         "x": [
          673
         ],
         "xaxis": "x",
         "y": [
          "Dean R. Koontz"
         ],
         "yaxis": "y"
        },
        {
         "alignmentgroup": "True",
         "hovertemplate": "value=%{y}<br>count=%{x}<extra></extra>",
         "legendgroup": "Christopher Pike",
         "marker": {
          "color": "#00cc96"
         },
         "name": "Christopher Pike",
         "offsetgroup": "Christopher Pike",
         "orientation": "h",
         "showlegend": true,
         "textposition": "auto",
         "type": "bar",
         "x": [
          686
         ],
         "xaxis": "x",
         "y": [
          "Christopher Pike"
         ],
         "yaxis": "y"
        },
        {
         "alignmentgroup": "True",
         "hovertemplate": "value=%{y}<br>count=%{x}<extra></extra>",
         "legendgroup": "R.L. Stine",
         "marker": {
          "color": "#ab63fa"
         },
         "name": "R.L. Stine",
         "offsetgroup": "R.L. Stine",
         "orientation": "h",
         "showlegend": true,
         "textposition": "auto",
         "type": "bar",
         "x": [
          687
         ],
         "xaxis": "x",
         "y": [
          "R.L. Stine"
         ],
         "yaxis": "y"
        },
        {
         "alignmentgroup": "True",
         "hovertemplate": "value=%{y}<br>count=%{x}<extra></extra>",
         "legendgroup": "Gregory Maguire",
         "marker": {
          "color": "#FFA15A"
         },
         "name": "Gregory Maguire",
         "offsetgroup": "Gregory Maguire",
         "orientation": "h",
         "showlegend": true,
         "textposition": "auto",
         "type": "bar",
         "x": [
          688
         ],
         "xaxis": "x",
         "y": [
          "Gregory Maguire"
         ],
         "yaxis": "y"
        },
        {
         "alignmentgroup": "True",
         "hovertemplate": "value=%{y}<br>count=%{x}<extra></extra>",
         "legendgroup": "Margaret Weis",
         "marker": {
          "color": "#19d3f3"
         },
         "name": "Margaret Weis",
         "offsetgroup": "Margaret Weis",
         "orientation": "h",
         "showlegend": true,
         "textposition": "auto",
         "type": "bar",
         "x": [
          700
         ],
         "xaxis": "x",
         "y": [
          "Margaret Weis"
         ],
         "yaxis": "y"
        },
        {
         "alignmentgroup": "True",
         "hovertemplate": "value=%{y}<br>count=%{x}<extra></extra>",
         "legendgroup": "Diana Palmer",
         "marker": {
          "color": "#FF6692"
         },
         "name": "Diana Palmer",
         "offsetgroup": "Diana Palmer",
         "orientation": "h",
         "showlegend": true,
         "textposition": "auto",
         "type": "bar",
         "x": [
          729
         ],
         "xaxis": "x",
         "y": [
          "Diana Palmer"
         ],
         "yaxis": "y"
        },
        {
         "alignmentgroup": "True",
         "hovertemplate": "value=%{y}<br>count=%{x}<extra></extra>",
         "legendgroup": "Ann Rule",
         "marker": {
          "color": "#B6E880"
         },
         "name": "Ann Rule",
         "offsetgroup": "Ann Rule",
         "orientation": "h",
         "showlegend": true,
         "textposition": "auto",
         "type": "bar",
         "x": [
          737
         ],
         "xaxis": "x",
         "y": [
          "Ann Rule"
         ],
         "yaxis": "y"
        },
        {
         "alignmentgroup": "True",
         "hovertemplate": "value=%{y}<br>count=%{x}<extra></extra>",
         "legendgroup": "James Patterson",
         "marker": {
          "color": "#FF97FF"
         },
         "name": "James Patterson",
         "offsetgroup": "James Patterson",
         "orientation": "h",
         "showlegend": true,
         "textposition": "auto",
         "type": "bar",
         "x": [
          757
         ],
         "xaxis": "x",
         "y": [
          "James Patterson"
         ],
         "yaxis": "y"
        },
        {
         "alignmentgroup": "True",
         "hovertemplate": "value=%{y}<br>count=%{x}<extra></extra>",
         "legendgroup": "Orson Scott Card",
         "marker": {
          "color": "#FECB52"
         },
         "name": "Orson Scott Card",
         "offsetgroup": "Orson Scott Card",
         "orientation": "h",
         "showlegend": true,
         "textposition": "auto",
         "type": "bar",
         "x": [
          757
         ],
         "xaxis": "x",
         "y": [
          "Orson Scott Card"
         ],
         "yaxis": "y"
        },
        {
         "alignmentgroup": "True",
         "hovertemplate": "value=%{y}<br>count=%{x}<extra></extra>",
         "legendgroup": "Anita Diamant",
         "marker": {
          "color": "#636efa"
         },
         "name": "Anita Diamant",
         "offsetgroup": "Anita Diamant",
         "orientation": "h",
         "showlegend": true,
         "textposition": "auto",
         "type": "bar",
         "x": [
          766
         ],
         "xaxis": "x",
         "y": [
          "Anita Diamant"
         ],
         "yaxis": "y"
        },
        {
         "alignmentgroup": "True",
         "hovertemplate": "value=%{y}<br>count=%{x}<extra></extra>",
         "legendgroup": "Douglas Adams",
         "marker": {
          "color": "#EF553B"
         },
         "name": "Douglas Adams",
         "offsetgroup": "Douglas Adams",
         "orientation": "h",
         "showlegend": true,
         "textposition": "auto",
         "type": "bar",
         "x": [
          804
         ],
         "xaxis": "x",
         "y": [
          "Douglas Adams"
         ],
         "yaxis": "y"
        },
        {
         "alignmentgroup": "True",
         "hovertemplate": "value=%{y}<br>count=%{x}<extra></extra>",
         "legendgroup": "Mercedes Lackey",
         "marker": {
          "color": "#00cc96"
         },
         "name": "Mercedes Lackey",
         "offsetgroup": "Mercedes Lackey",
         "orientation": "h",
         "showlegend": true,
         "textposition": "auto",
         "type": "bar",
         "x": [
          807
         ],
         "xaxis": "x",
         "y": [
          "Mercedes Lackey"
         ],
         "yaxis": "y"
        },
        {
         "alignmentgroup": "True",
         "hovertemplate": "value=%{y}<br>count=%{x}<extra></extra>",
         "legendgroup": "Neil Gaiman",
         "marker": {
          "color": "#ab63fa"
         },
         "name": "Neil Gaiman",
         "offsetgroup": "Neil Gaiman",
         "orientation": "h",
         "showlegend": true,
         "textposition": "auto",
         "type": "bar",
         "x": [
          812
         ],
         "xaxis": "x",
         "y": [
          "Neil Gaiman"
         ],
         "yaxis": "y"
        },
        {
         "alignmentgroup": "True",
         "hovertemplate": "value=%{y}<br>count=%{x}<extra></extra>",
         "legendgroup": "Anne Perry",
         "marker": {
          "color": "#FFA15A"
         },
         "name": "Anne Perry",
         "offsetgroup": "Anne Perry",
         "orientation": "h",
         "showlegend": true,
         "textposition": "auto",
         "type": "bar",
         "x": [
          814
         ],
         "xaxis": "x",
         "y": [
          "Anne Perry"
         ],
         "yaxis": "y"
        },
        {
         "alignmentgroup": "True",
         "hovertemplate": "value=%{y}<br>count=%{x}<extra></extra>",
         "legendgroup": "Johanna Lindsey",
         "marker": {
          "color": "#19d3f3"
         },
         "name": "Johanna Lindsey",
         "offsetgroup": "Johanna Lindsey",
         "orientation": "h",
         "showlegend": true,
         "textposition": "auto",
         "type": "bar",
         "x": [
          822
         ],
         "xaxis": "x",
         "y": [
          "Johanna Lindsey"
         ],
         "yaxis": "y"
        },
        {
         "alignmentgroup": "True",
         "hovertemplate": "value=%{y}<br>count=%{x}<extra></extra>",
         "legendgroup": "Alexander McCall Smith",
         "marker": {
          "color": "#FF6692"
         },
         "name": "Alexander McCall Smith",
         "offsetgroup": "Alexander McCall Smith",
         "orientation": "h",
         "showlegend": true,
         "textposition": "auto",
         "type": "bar",
         "x": [
          827
         ],
         "xaxis": "x",
         "y": [
          "Alexander McCall Smith"
         ],
         "yaxis": "y"
        },
        {
         "alignmentgroup": "True",
         "hovertemplate": "value=%{y}<br>count=%{x}<extra></extra>",
         "legendgroup": "Charles Dickens",
         "marker": {
          "color": "#B6E880"
         },
         "name": "Charles Dickens",
         "offsetgroup": "Charles Dickens",
         "orientation": "h",
         "showlegend": true,
         "textposition": "auto",
         "type": "bar",
         "x": [
          881
         ],
         "xaxis": "x",
         "y": [
          "Charles Dickens"
         ],
         "yaxis": "y"
        },
        {
         "alignmentgroup": "True",
         "hovertemplate": "value=%{y}<br>count=%{x}<extra></extra>",
         "legendgroup": "Clive Cussler",
         "marker": {
          "color": "#FF97FF"
         },
         "name": "Clive Cussler",
         "offsetgroup": "Clive Cussler",
         "orientation": "h",
         "showlegend": true,
         "textposition": "auto",
         "type": "bar",
         "x": [
          909
         ],
         "xaxis": "x",
         "y": [
          "Clive Cussler"
         ],
         "yaxis": "y"
        },
        {
         "alignmentgroup": "True",
         "hovertemplate": "value=%{y}<br>count=%{x}<extra></extra>",
         "legendgroup": "Barbara Kingsolver",
         "marker": {
          "color": "#FECB52"
         },
         "name": "Barbara Kingsolver",
         "offsetgroup": "Barbara Kingsolver",
         "orientation": "h",
         "showlegend": true,
         "textposition": "auto",
         "type": "bar",
         "x": [
          918
         ],
         "xaxis": "x",
         "y": [
          "Barbara Kingsolver"
         ],
         "yaxis": "y"
        },
        {
         "alignmentgroup": "True",
         "hovertemplate": "value=%{y}<br>count=%{x}<extra></extra>",
         "legendgroup": "Tony Hillerman",
         "marker": {
          "color": "#636efa"
         },
         "name": "Tony Hillerman",
         "offsetgroup": "Tony Hillerman",
         "orientation": "h",
         "showlegend": true,
         "textposition": "auto",
         "type": "bar",
         "x": [
          936
         ],
         "xaxis": "x",
         "y": [
          "Tony Hillerman"
         ],
         "yaxis": "y"
        },
        {
         "alignmentgroup": "True",
         "hovertemplate": "value=%{y}<br>count=%{x}<extra></extra>",
         "legendgroup": "Jane Austen",
         "marker": {
          "color": "#EF553B"
         },
         "name": "Jane Austen",
         "offsetgroup": "Jane Austen",
         "orientation": "h",
         "showlegend": true,
         "textposition": "auto",
         "type": "bar",
         "x": [
          941
         ],
         "xaxis": "x",
         "y": [
          "Jane Austen"
         ],
         "yaxis": "y"
        },
        {
         "alignmentgroup": "True",
         "hovertemplate": "value=%{y}<br>count=%{x}<extra></extra>",
         "legendgroup": "Debbie Macomber",
         "marker": {
          "color": "#00cc96"
         },
         "name": "Debbie Macomber",
         "offsetgroup": "Debbie Macomber",
         "orientation": "h",
         "showlegend": true,
         "textposition": "auto",
         "type": "bar",
         "x": [
          947
         ],
         "xaxis": "x",
         "y": [
          "Debbie Macomber"
         ],
         "yaxis": "y"
        },
        {
         "alignmentgroup": "True",
         "hovertemplate": "value=%{y}<br>count=%{x}<extra></extra>",
         "legendgroup": "Catherine Coulter",
         "marker": {
          "color": "#ab63fa"
         },
         "name": "Catherine Coulter",
         "offsetgroup": "Catherine Coulter",
         "orientation": "h",
         "showlegend": true,
         "textposition": "auto",
         "type": "bar",
         "x": [
          951
         ],
         "xaxis": "x",
         "y": [
          "Catherine Coulter"
         ],
         "yaxis": "y"
        },
        {
         "alignmentgroup": "True",
         "hovertemplate": "value=%{y}<br>count=%{x}<extra></extra>",
         "legendgroup": "Rebecca Wells",
         "marker": {
          "color": "#FFA15A"
         },
         "name": "Rebecca Wells",
         "offsetgroup": "Rebecca Wells",
         "orientation": "h",
         "showlegend": true,
         "textposition": "auto",
         "type": "bar",
         "x": [
          962
         ],
         "xaxis": "x",
         "y": [
          "Rebecca Wells"
         ],
         "yaxis": "y"
        },
        {
         "alignmentgroup": "True",
         "hovertemplate": "value=%{y}<br>count=%{x}<extra></extra>",
         "legendgroup": "Francine Pascal",
         "marker": {
          "color": "#19d3f3"
         },
         "name": "Francine Pascal",
         "offsetgroup": "Francine Pascal",
         "orientation": "h",
         "showlegend": true,
         "textposition": "auto",
         "type": "bar",
         "x": [
          1008
         ],
         "xaxis": "x",
         "y": [
          "Francine Pascal"
         ],
         "yaxis": "y"
        },
        {
         "alignmentgroup": "True",
         "hovertemplate": "value=%{y}<br>count=%{x}<extra></extra>",
         "legendgroup": "Anne McCaffrey",
         "marker": {
          "color": "#FF6692"
         },
         "name": "Anne McCaffrey",
         "offsetgroup": "Anne McCaffrey",
         "orientation": "h",
         "showlegend": true,
         "textposition": "auto",
         "type": "bar",
         "x": [
          1025
         ],
         "xaxis": "x",
         "y": [
          "Anne McCaffrey"
         ],
         "yaxis": "y"
        },
        {
         "alignmentgroup": "True",
         "hovertemplate": "value=%{y}<br>count=%{x}<extra></extra>",
         "legendgroup": "Jonathan Kellerman",
         "marker": {
          "color": "#B6E880"
         },
         "name": "Jonathan Kellerman",
         "offsetgroup": "Jonathan Kellerman",
         "orientation": "h",
         "showlegend": true,
         "textposition": "auto",
         "type": "bar",
         "x": [
          1042
         ],
         "xaxis": "x",
         "y": [
          "Jonathan Kellerman"
         ],
         "yaxis": "y"
        },
        {
         "alignmentgroup": "True",
         "hovertemplate": "value=%{y}<br>count=%{x}<extra></extra>",
         "legendgroup": "Faye Kellerman",
         "marker": {
          "color": "#FF97FF"
         },
         "name": "Faye Kellerman",
         "offsetgroup": "Faye Kellerman",
         "orientation": "h",
         "showlegend": true,
         "textposition": "auto",
         "type": "bar",
         "x": [
          1047
         ],
         "xaxis": "x",
         "y": [
          "Faye Kellerman"
         ],
         "yaxis": "y"
        },
        {
         "alignmentgroup": "True",
         "hovertemplate": "value=%{y}<br>count=%{x}<extra></extra>",
         "legendgroup": "Carolyn Keene",
         "marker": {
          "color": "#FECB52"
         },
         "name": "Carolyn Keene",
         "offsetgroup": "Carolyn Keene",
         "orientation": "h",
         "showlegend": true,
         "textposition": "auto",
         "type": "bar",
         "x": [
          1066
         ],
         "xaxis": "x",
         "y": [
          "Carolyn Keene"
         ],
         "yaxis": "y"
        },
        {
         "alignmentgroup": "True",
         "hovertemplate": "value=%{y}<br>count=%{x}<extra></extra>",
         "legendgroup": "Terry Pratchett",
         "marker": {
          "color": "#636efa"
         },
         "name": "Terry Pratchett",
         "offsetgroup": "Terry Pratchett",
         "orientation": "h",
         "showlegend": true,
         "textposition": "auto",
         "type": "bar",
         "x": [
          1078
         ],
         "xaxis": "x",
         "y": [
          "Terry Pratchett"
         ],
         "yaxis": "y"
        },
        {
         "alignmentgroup": "True",
         "hovertemplate": "value=%{y}<br>count=%{x}<extra></extra>",
         "legendgroup": "Anne Rice",
         "marker": {
          "color": "#EF553B"
         },
         "name": "Anne Rice",
         "offsetgroup": "Anne Rice",
         "orientation": "h",
         "showlegend": true,
         "textposition": "auto",
         "type": "bar",
         "x": [
          1111
         ],
         "xaxis": "x",
         "y": [
          "Anne Rice"
         ],
         "yaxis": "y"
        },
        {
         "alignmentgroup": "True",
         "hovertemplate": "value=%{y}<br>count=%{x}<extra></extra>",
         "legendgroup": "Wally Lamb",
         "marker": {
          "color": "#00cc96"
         },
         "name": "Wally Lamb",
         "offsetgroup": "Wally Lamb",
         "orientation": "h",
         "showlegend": true,
         "textposition": "auto",
         "type": "bar",
         "x": [
          1148
         ],
         "xaxis": "x",
         "y": [
          "Wally Lamb"
         ],
         "yaxis": "y"
        },
        {
         "alignmentgroup": "True",
         "hovertemplate": "value=%{y}<br>count=%{x}<extra></extra>",
         "legendgroup": "Lilian Jackson Braun",
         "marker": {
          "color": "#ab63fa"
         },
         "name": "Lilian Jackson Braun",
         "offsetgroup": "Lilian Jackson Braun",
         "orientation": "h",
         "showlegend": true,
         "textposition": "auto",
         "type": "bar",
         "x": [
          1213
         ],
         "xaxis": "x",
         "y": [
          "Lilian Jackson Braun"
         ],
         "yaxis": "y"
        },
        {
         "alignmentgroup": "True",
         "hovertemplate": "value=%{y}<br>count=%{x}<extra></extra>",
         "legendgroup": "Agatha Christie",
         "marker": {
          "color": "#FFA15A"
         },
         "name": "Agatha Christie",
         "offsetgroup": "Agatha Christie",
         "orientation": "h",
         "showlegend": true,
         "textposition": "auto",
         "type": "bar",
         "x": [
          1283
         ],
         "xaxis": "x",
         "y": [
          "Agatha Christie"
         ],
         "yaxis": "y"
        },
        {
         "alignmentgroup": "True",
         "hovertemplate": "value=%{y}<br>count=%{x}<extra></extra>",
         "legendgroup": "Anita Shreve",
         "marker": {
          "color": "#19d3f3"
         },
         "name": "Anita Shreve",
         "offsetgroup": "Anita Shreve",
         "orientation": "h",
         "showlegend": true,
         "textposition": "auto",
         "type": "bar",
         "x": [
          1320
         ],
         "xaxis": "x",
         "y": [
          "Anita Shreve"
         ],
         "yaxis": "y"
        },
        {
         "alignmentgroup": "True",
         "hovertemplate": "value=%{y}<br>count=%{x}<extra></extra>",
         "legendgroup": "Piers Anthony",
         "marker": {
          "color": "#FF6692"
         },
         "name": "Piers Anthony",
         "offsetgroup": "Piers Anthony",
         "orientation": "h",
         "showlegend": true,
         "textposition": "auto",
         "type": "bar",
         "x": [
          1329
         ],
         "xaxis": "x",
         "y": [
          "Piers Anthony"
         ],
         "yaxis": "y"
        },
        {
         "alignmentgroup": "True",
         "hovertemplate": "value=%{y}<br>count=%{x}<extra></extra>",
         "legendgroup": "William Shakespeare",
         "marker": {
          "color": "#B6E880"
         },
         "name": "William Shakespeare",
         "offsetgroup": "William Shakespeare",
         "orientation": "h",
         "showlegend": true,
         "textposition": "auto",
         "type": "bar",
         "x": [
          1371
         ],
         "xaxis": "x",
         "y": [
          "William Shakespeare"
         ],
         "yaxis": "y"
        },
        {
         "alignmentgroup": "True",
         "hovertemplate": "value=%{y}<br>count=%{x}<extra></extra>",
         "legendgroup": "Ann M. Martin",
         "marker": {
          "color": "#FF97FF"
         },
         "name": "Ann M. Martin",
         "offsetgroup": "Ann M. Martin",
         "orientation": "h",
         "showlegend": true,
         "textposition": "auto",
         "type": "bar",
         "x": [
          1536
         ],
         "xaxis": "x",
         "y": [
          "Ann M. Martin"
         ],
         "yaxis": "y"
        },
        {
         "alignmentgroup": "True",
         "hovertemplate": "value=%{y}<br>count=%{x}<extra></extra>",
         "legendgroup": "Jack Canfield",
         "marker": {
          "color": "#FECB52"
         },
         "name": "Jack Canfield",
         "offsetgroup": "Jack Canfield",
         "orientation": "h",
         "showlegend": true,
         "textposition": "auto",
         "type": "bar",
         "x": [
          1587
         ],
         "xaxis": "x",
         "y": [
          "Jack Canfield"
         ],
         "yaxis": "y"
        },
        {
         "alignmentgroup": "True",
         "hovertemplate": "value=%{y}<br>count=%{x}<extra></extra>",
         "legendgroup": "Alice Sebold",
         "marker": {
          "color": "#636efa"
         },
         "name": "Alice Sebold",
         "offsetgroup": "Alice Sebold",
         "orientation": "h",
         "showlegend": true,
         "textposition": "auto",
         "type": "bar",
         "x": [
          1616
         ],
         "xaxis": "x",
         "y": [
          "Alice Sebold"
         ],
         "yaxis": "y"
        },
        {
         "alignmentgroup": "True",
         "hovertemplate": "value=%{y}<br>count=%{x}<extra></extra>",
         "legendgroup": "Mary Higgins Clark",
         "marker": {
          "color": "#EF553B"
         },
         "name": "Mary Higgins Clark",
         "offsetgroup": "Mary Higgins Clark",
         "orientation": "h",
         "showlegend": true,
         "textposition": "auto",
         "type": "bar",
         "x": [
          1708
         ],
         "xaxis": "x",
         "y": [
          "Mary Higgins Clark"
         ],
         "yaxis": "y"
        },
        {
         "alignmentgroup": "True",
         "hovertemplate": "value=%{y}<br>count=%{x}<extra></extra>",
         "legendgroup": "V.C. Andrews",
         "marker": {
          "color": "#00cc96"
         },
         "name": "V.C. Andrews",
         "offsetgroup": "V.C. Andrews",
         "orientation": "h",
         "showlegend": true,
         "textposition": "auto",
         "type": "bar",
         "x": [
          2097
         ],
         "xaxis": "x",
         "y": [
          "V.C. Andrews"
         ],
         "yaxis": "y"
        },
        {
         "alignmentgroup": "True",
         "hovertemplate": "value=%{y}<br>count=%{x}<extra></extra>",
         "legendgroup": "Tom Clancy",
         "marker": {
          "color": "#ab63fa"
         },
         "name": "Tom Clancy",
         "offsetgroup": "Tom Clancy",
         "orientation": "h",
         "showlegend": true,
         "textposition": "auto",
         "type": "bar",
         "x": [
          2142
         ],
         "xaxis": "x",
         "y": [
          "Tom Clancy"
         ],
         "yaxis": "y"
        },
        {
         "alignmentgroup": "True",
         "hovertemplate": "value=%{y}<br>count=%{x}<extra></extra>",
         "legendgroup": "Janet Evanovich",
         "marker": {
          "color": "#FFA15A"
         },
         "name": "Janet Evanovich",
         "offsetgroup": "Janet Evanovich",
         "orientation": "h",
         "showlegend": true,
         "textposition": "auto",
         "type": "bar",
         "x": [
          2235
         ],
         "xaxis": "x",
         "y": [
          "Janet Evanovich"
         ],
         "yaxis": "y"
        },
        {
         "alignmentgroup": "True",
         "hovertemplate": "value=%{y}<br>count=%{x}<extra></extra>",
         "legendgroup": "R. L. Stine",
         "marker": {
          "color": "#19d3f3"
         },
         "name": "R. L. Stine",
         "offsetgroup": "R. L. Stine",
         "orientation": "h",
         "showlegend": true,
         "textposition": "auto",
         "type": "bar",
         "x": [
          2336
         ],
         "xaxis": "x",
         "y": [
          "R. L. Stine"
         ],
         "yaxis": "y"
        },
        {
         "alignmentgroup": "True",
         "hovertemplate": "value=%{y}<br>count=%{x}<extra></extra>",
         "legendgroup": "Stephen King",
         "marker": {
          "color": "#FF6692"
         },
         "name": "Stephen King",
         "offsetgroup": "Stephen King",
         "orientation": "h",
         "showlegend": true,
         "textposition": "auto",
         "type": "bar",
         "x": [
          2398
         ],
         "xaxis": "x",
         "y": [
          "Stephen King"
         ],
         "yaxis": "y"
        },
        {
         "alignmentgroup": "True",
         "hovertemplate": "value=%{y}<br>count=%{x}<extra></extra>",
         "legendgroup": "Rich Shapero",
         "marker": {
          "color": "#B6E880"
         },
         "name": "Rich Shapero",
         "offsetgroup": "Rich Shapero",
         "orientation": "h",
         "showlegend": true,
         "textposition": "auto",
         "type": "bar",
         "x": [
          2502
         ],
         "xaxis": "x",
         "y": [
          "Rich Shapero"
         ],
         "yaxis": "y"
        },
        {
         "alignmentgroup": "True",
         "hovertemplate": "value=%{y}<br>count=%{x}<extra></extra>",
         "legendgroup": "Sue Grafton",
         "marker": {
          "color": "#FF97FF"
         },
         "name": "Sue Grafton",
         "offsetgroup": "Sue Grafton",
         "orientation": "h",
         "showlegend": true,
         "textposition": "auto",
         "type": "bar",
         "x": [
          2690
         ],
         "xaxis": "x",
         "y": [
          "Sue Grafton"
         ],
         "yaxis": "y"
        },
        {
         "alignmentgroup": "True",
         "hovertemplate": "value=%{y}<br>count=%{x}<extra></extra>",
         "legendgroup": "Nora Roberts",
         "marker": {
          "color": "#FECB52"
         },
         "name": "Nora Roberts",
         "offsetgroup": "Nora Roberts",
         "orientation": "h",
         "showlegend": true,
         "textposition": "auto",
         "type": "bar",
         "x": [
          5368
         ],
         "xaxis": "x",
         "y": [
          "Nora Roberts"
         ],
         "yaxis": "y"
        }
       ],
       "layout": {
        "barmode": "relative",
        "height": 700,
        "legend": {
         "title": {
          "text": "value"
         },
         "tracegroupgap": 0
        },
        "template": {
         "data": {
          "bar": [
           {
            "error_x": {
             "color": "#2a3f5f"
            },
            "error_y": {
             "color": "#2a3f5f"
            },
            "marker": {
             "line": {
              "color": "#E5ECF6",
              "width": 0.5
             }
            },
            "type": "bar"
           }
          ],
          "barpolar": [
           {
            "marker": {
             "line": {
              "color": "#E5ECF6",
              "width": 0.5
             }
            },
            "type": "barpolar"
           }
          ],
          "carpet": [
           {
            "aaxis": {
             "endlinecolor": "#2a3f5f",
             "gridcolor": "white",
             "linecolor": "white",
             "minorgridcolor": "white",
             "startlinecolor": "#2a3f5f"
            },
            "baxis": {
             "endlinecolor": "#2a3f5f",
             "gridcolor": "white",
             "linecolor": "white",
             "minorgridcolor": "white",
             "startlinecolor": "#2a3f5f"
            },
            "type": "carpet"
           }
          ],
          "choropleth": [
           {
            "colorbar": {
             "outlinewidth": 0,
             "ticks": ""
            },
            "type": "choropleth"
           }
          ],
          "contour": [
           {
            "colorbar": {
             "outlinewidth": 0,
             "ticks": ""
            },
            "colorscale": [
             [
              0,
              "#0d0887"
             ],
             [
              0.1111111111111111,
              "#46039f"
             ],
             [
              0.2222222222222222,
              "#7201a8"
             ],
             [
              0.3333333333333333,
              "#9c179e"
             ],
             [
              0.4444444444444444,
              "#bd3786"
             ],
             [
              0.5555555555555556,
              "#d8576b"
             ],
             [
              0.6666666666666666,
              "#ed7953"
             ],
             [
              0.7777777777777778,
              "#fb9f3a"
             ],
             [
              0.8888888888888888,
              "#fdca26"
             ],
             [
              1,
              "#f0f921"
             ]
            ],
            "type": "contour"
           }
          ],
          "contourcarpet": [
           {
            "colorbar": {
             "outlinewidth": 0,
             "ticks": ""
            },
            "type": "contourcarpet"
           }
          ],
          "heatmap": [
           {
            "colorbar": {
             "outlinewidth": 0,
             "ticks": ""
            },
            "colorscale": [
             [
              0,
              "#0d0887"
             ],
             [
              0.1111111111111111,
              "#46039f"
             ],
             [
              0.2222222222222222,
              "#7201a8"
             ],
             [
              0.3333333333333333,
              "#9c179e"
             ],
             [
              0.4444444444444444,
              "#bd3786"
             ],
             [
              0.5555555555555556,
              "#d8576b"
             ],
             [
              0.6666666666666666,
              "#ed7953"
             ],
             [
              0.7777777777777778,
              "#fb9f3a"
             ],
             [
              0.8888888888888888,
              "#fdca26"
             ],
             [
              1,
              "#f0f921"
             ]
            ],
            "type": "heatmap"
           }
          ],
          "heatmapgl": [
           {
            "colorbar": {
             "outlinewidth": 0,
             "ticks": ""
            },
            "colorscale": [
             [
              0,
              "#0d0887"
             ],
             [
              0.1111111111111111,
              "#46039f"
             ],
             [
              0.2222222222222222,
              "#7201a8"
             ],
             [
              0.3333333333333333,
              "#9c179e"
             ],
             [
              0.4444444444444444,
              "#bd3786"
             ],
             [
              0.5555555555555556,
              "#d8576b"
             ],
             [
              0.6666666666666666,
              "#ed7953"
             ],
             [
              0.7777777777777778,
              "#fb9f3a"
             ],
             [
              0.8888888888888888,
              "#fdca26"
             ],
             [
              1,
              "#f0f921"
             ]
            ],
            "type": "heatmapgl"
           }
          ],
          "histogram": [
           {
            "marker": {
             "colorbar": {
              "outlinewidth": 0,
              "ticks": ""
             }
            },
            "type": "histogram"
           }
          ],
          "histogram2d": [
           {
            "colorbar": {
             "outlinewidth": 0,
             "ticks": ""
            },
            "colorscale": [
             [
              0,
              "#0d0887"
             ],
             [
              0.1111111111111111,
              "#46039f"
             ],
             [
              0.2222222222222222,
              "#7201a8"
             ],
             [
              0.3333333333333333,
              "#9c179e"
             ],
             [
              0.4444444444444444,
              "#bd3786"
             ],
             [
              0.5555555555555556,
              "#d8576b"
             ],
             [
              0.6666666666666666,
              "#ed7953"
             ],
             [
              0.7777777777777778,
              "#fb9f3a"
             ],
             [
              0.8888888888888888,
              "#fdca26"
             ],
             [
              1,
              "#f0f921"
             ]
            ],
            "type": "histogram2d"
           }
          ],
          "histogram2dcontour": [
           {
            "colorbar": {
             "outlinewidth": 0,
             "ticks": ""
            },
            "colorscale": [
             [
              0,
              "#0d0887"
             ],
             [
              0.1111111111111111,
              "#46039f"
             ],
             [
              0.2222222222222222,
              "#7201a8"
             ],
             [
              0.3333333333333333,
              "#9c179e"
             ],
             [
              0.4444444444444444,
              "#bd3786"
             ],
             [
              0.5555555555555556,
              "#d8576b"
             ],
             [
              0.6666666666666666,
              "#ed7953"
             ],
             [
              0.7777777777777778,
              "#fb9f3a"
             ],
             [
              0.8888888888888888,
              "#fdca26"
             ],
             [
              1,
              "#f0f921"
             ]
            ],
            "type": "histogram2dcontour"
           }
          ],
          "mesh3d": [
           {
            "colorbar": {
             "outlinewidth": 0,
             "ticks": ""
            },
            "type": "mesh3d"
           }
          ],
          "parcoords": [
           {
            "line": {
             "colorbar": {
              "outlinewidth": 0,
              "ticks": ""
             }
            },
            "type": "parcoords"
           }
          ],
          "pie": [
           {
            "automargin": true,
            "type": "pie"
           }
          ],
          "scatter": [
           {
            "marker": {
             "colorbar": {
              "outlinewidth": 0,
              "ticks": ""
             }
            },
            "type": "scatter"
           }
          ],
          "scatter3d": [
           {
            "line": {
             "colorbar": {
              "outlinewidth": 0,
              "ticks": ""
             }
            },
            "marker": {
             "colorbar": {
              "outlinewidth": 0,
              "ticks": ""
             }
            },
            "type": "scatter3d"
           }
          ],
          "scattercarpet": [
           {
            "marker": {
             "colorbar": {
              "outlinewidth": 0,
              "ticks": ""
             }
            },
            "type": "scattercarpet"
           }
          ],
          "scattergeo": [
           {
            "marker": {
             "colorbar": {
              "outlinewidth": 0,
              "ticks": ""
             }
            },
            "type": "scattergeo"
           }
          ],
          "scattergl": [
           {
            "marker": {
             "colorbar": {
              "outlinewidth": 0,
              "ticks": ""
             }
            },
            "type": "scattergl"
           }
          ],
          "scattermapbox": [
           {
            "marker": {
             "colorbar": {
              "outlinewidth": 0,
              "ticks": ""
             }
            },
            "type": "scattermapbox"
           }
          ],
          "scatterpolar": [
           {
            "marker": {
             "colorbar": {
              "outlinewidth": 0,
              "ticks": ""
             }
            },
            "type": "scatterpolar"
           }
          ],
          "scatterpolargl": [
           {
            "marker": {
             "colorbar": {
              "outlinewidth": 0,
              "ticks": ""
             }
            },
            "type": "scatterpolargl"
           }
          ],
          "scatterternary": [
           {
            "marker": {
             "colorbar": {
              "outlinewidth": 0,
              "ticks": ""
             }
            },
            "type": "scatterternary"
           }
          ],
          "surface": [
           {
            "colorbar": {
             "outlinewidth": 0,
             "ticks": ""
            },
            "colorscale": [
             [
              0,
              "#0d0887"
             ],
             [
              0.1111111111111111,
              "#46039f"
             ],
             [
              0.2222222222222222,
              "#7201a8"
             ],
             [
              0.3333333333333333,
              "#9c179e"
             ],
             [
              0.4444444444444444,
              "#bd3786"
             ],
             [
              0.5555555555555556,
              "#d8576b"
             ],
             [
              0.6666666666666666,
              "#ed7953"
             ],
             [
              0.7777777777777778,
              "#fb9f3a"
             ],
             [
              0.8888888888888888,
              "#fdca26"
             ],
             [
              1,
              "#f0f921"
             ]
            ],
            "type": "surface"
           }
          ],
          "table": [
           {
            "cells": {
             "fill": {
              "color": "#EBF0F8"
             },
             "line": {
              "color": "white"
             }
            },
            "header": {
             "fill": {
              "color": "#C8D4E3"
             },
             "line": {
              "color": "white"
             }
            },
            "type": "table"
           }
          ]
         },
         "layout": {
          "annotationdefaults": {
           "arrowcolor": "#2a3f5f",
           "arrowhead": 0,
           "arrowwidth": 1
          },
          "coloraxis": {
           "colorbar": {
            "outlinewidth": 0,
            "ticks": ""
           }
          },
          "colorscale": {
           "diverging": [
            [
             0,
             "#8e0152"
            ],
            [
             0.1,
             "#c51b7d"
            ],
            [
             0.2,
             "#de77ae"
            ],
            [
             0.3,
             "#f1b6da"
            ],
            [
             0.4,
             "#fde0ef"
            ],
            [
             0.5,
             "#f7f7f7"
            ],
            [
             0.6,
             "#e6f5d0"
            ],
            [
             0.7,
             "#b8e186"
            ],
            [
             0.8,
             "#7fbc41"
            ],
            [
             0.9,
             "#4d9221"
            ],
            [
             1,
             "#276419"
            ]
           ],
           "sequential": [
            [
             0,
             "#0d0887"
            ],
            [
             0.1111111111111111,
             "#46039f"
            ],
            [
             0.2222222222222222,
             "#7201a8"
            ],
            [
             0.3333333333333333,
             "#9c179e"
            ],
            [
             0.4444444444444444,
             "#bd3786"
            ],
            [
             0.5555555555555556,
             "#d8576b"
            ],
            [
             0.6666666666666666,
             "#ed7953"
            ],
            [
             0.7777777777777778,
             "#fb9f3a"
            ],
            [
             0.8888888888888888,
             "#fdca26"
            ],
            [
             1,
             "#f0f921"
            ]
           ],
           "sequentialminus": [
            [
             0,
             "#0d0887"
            ],
            [
             0.1111111111111111,
             "#46039f"
            ],
            [
             0.2222222222222222,
             "#7201a8"
            ],
            [
             0.3333333333333333,
             "#9c179e"
            ],
            [
             0.4444444444444444,
             "#bd3786"
            ],
            [
             0.5555555555555556,
             "#d8576b"
            ],
            [
             0.6666666666666666,
             "#ed7953"
            ],
            [
             0.7777777777777778,
             "#fb9f3a"
            ],
            [
             0.8888888888888888,
             "#fdca26"
            ],
            [
             1,
             "#f0f921"
            ]
           ]
          },
          "colorway": [
           "#636efa",
           "#EF553B",
           "#00cc96",
           "#ab63fa",
           "#FFA15A",
           "#19d3f3",
           "#FF6692",
           "#B6E880",
           "#FF97FF",
           "#FECB52"
          ],
          "font": {
           "color": "#2a3f5f"
          },
          "geo": {
           "bgcolor": "white",
           "lakecolor": "white",
           "landcolor": "#E5ECF6",
           "showlakes": true,
           "showland": true,
           "subunitcolor": "white"
          },
          "hoverlabel": {
           "align": "left"
          },
          "hovermode": "closest",
          "mapbox": {
           "style": "light"
          },
          "paper_bgcolor": "white",
          "plot_bgcolor": "#E5ECF6",
          "polar": {
           "angularaxis": {
            "gridcolor": "white",
            "linecolor": "white",
            "ticks": ""
           },
           "bgcolor": "#E5ECF6",
           "radialaxis": {
            "gridcolor": "white",
            "linecolor": "white",
            "ticks": ""
           }
          },
          "scene": {
           "xaxis": {
            "backgroundcolor": "#E5ECF6",
            "gridcolor": "white",
            "gridwidth": 2,
            "linecolor": "white",
            "showbackground": true,
            "ticks": "",
            "zerolinecolor": "white"
           },
           "yaxis": {
            "backgroundcolor": "#E5ECF6",
            "gridcolor": "white",
            "gridwidth": 2,
            "linecolor": "white",
            "showbackground": true,
            "ticks": "",
            "zerolinecolor": "white"
           },
           "zaxis": {
            "backgroundcolor": "#E5ECF6",
            "gridcolor": "white",
            "gridwidth": 2,
            "linecolor": "white",
            "showbackground": true,
            "ticks": "",
            "zerolinecolor": "white"
           }
          },
          "shapedefaults": {
           "line": {
            "color": "#2a3f5f"
           }
          },
          "ternary": {
           "aaxis": {
            "gridcolor": "white",
            "linecolor": "white",
            "ticks": ""
           },
           "baxis": {
            "gridcolor": "white",
            "linecolor": "white",
            "ticks": ""
           },
           "bgcolor": "#E5ECF6",
           "caxis": {
            "gridcolor": "white",
            "linecolor": "white",
            "ticks": ""
           }
          },
          "title": {
           "x": 0.05
          },
          "xaxis": {
           "automargin": true,
           "gridcolor": "white",
           "linecolor": "white",
           "ticks": "",
           "title": {
            "standoff": 15
           },
           "zerolinecolor": "white",
           "zerolinewidth": 2
          },
          "yaxis": {
           "automargin": true,
           "gridcolor": "white",
           "linecolor": "white",
           "ticks": "",
           "title": {
            "standoff": 15
           },
           "zerolinecolor": "white",
           "zerolinewidth": 2
          }
         }
        },
        "title": {
         "text": "Top Authors"
        },
        "width": 1000,
        "xaxis": {
         "anchor": "y",
         "domain": [
          0,
          1
         ],
         "title": {
          "text": "count"
         }
        },
        "yaxis": {
         "anchor": "x",
         "categoryarray": [
          "Nora Roberts",
          "Sue Grafton",
          "Rich Shapero",
          "Stephen King",
          "R. L. Stine",
          "Janet Evanovich",
          "Tom Clancy",
          "V.C. Andrews",
          "Mary Higgins Clark",
          "Alice Sebold",
          "Jack Canfield",
          "Ann M. Martin",
          "William Shakespeare",
          "Piers Anthony",
          "Anita Shreve",
          "Agatha Christie",
          "Lilian Jackson Braun",
          "Wally Lamb",
          "Anne Rice",
          "Terry Pratchett",
          "Carolyn Keene",
          "Faye Kellerman",
          "Jonathan Kellerman",
          "Anne McCaffrey",
          "Francine Pascal",
          "Rebecca Wells",
          "Catherine Coulter",
          "Debbie Macomber",
          "Jane Austen",
          "Tony Hillerman",
          "Barbara Kingsolver",
          "Clive Cussler",
          "Charles Dickens",
          "Alexander McCall Smith",
          "Johanna Lindsey",
          "Anne Perry",
          "Neil Gaiman",
          "Mercedes Lackey",
          "Douglas Adams",
          "Anita Diamant",
          "Orson Scott Card",
          "James Patterson",
          "Ann Rule",
          "Diana Palmer",
          "Margaret Weis",
          "Gregory Maguire",
          "R.L. Stine",
          "Christopher Pike",
          "Dean R. Koontz",
          "Isabel Allende"
         ],
         "categoryorder": "array",
         "domain": [
          0,
          1
         ],
         "title": {
          "text": "value"
         }
        }
       }
      },
      "text/html": [
       "<div>                            <div id=\"00bc0271-927d-4c38-9677-af18807ea8fb\" class=\"plotly-graph-div\" style=\"height:700px; width:1000px;\"></div>            <script type=\"text/javascript\">                require([\"plotly\"], function(Plotly) {                    window.PLOTLYENV=window.PLOTLYENV || {};                                    if (document.getElementById(\"00bc0271-927d-4c38-9677-af18807ea8fb\")) {                    Plotly.newPlot(                        \"00bc0271-927d-4c38-9677-af18807ea8fb\",                        [{\"alignmentgroup\": \"True\", \"hovertemplate\": \"value=%{y}<br>count=%{x}<extra></extra>\", \"legendgroup\": \"Isabel Allende\", \"marker\": {\"color\": \"#636efa\"}, \"name\": \"Isabel Allende\", \"offsetgroup\": \"Isabel Allende\", \"orientation\": \"h\", \"showlegend\": true, \"textposition\": \"auto\", \"type\": \"bar\", \"x\": [662], \"xaxis\": \"x\", \"y\": [\"Isabel Allende\"], \"yaxis\": \"y\"}, {\"alignmentgroup\": \"True\", \"hovertemplate\": \"value=%{y}<br>count=%{x}<extra></extra>\", \"legendgroup\": \"Dean R. Koontz\", \"marker\": {\"color\": \"#EF553B\"}, \"name\": \"Dean R. Koontz\", \"offsetgroup\": \"Dean R. Koontz\", \"orientation\": \"h\", \"showlegend\": true, \"textposition\": \"auto\", \"type\": \"bar\", \"x\": [673], \"xaxis\": \"x\", \"y\": [\"Dean R. Koontz\"], \"yaxis\": \"y\"}, {\"alignmentgroup\": \"True\", \"hovertemplate\": \"value=%{y}<br>count=%{x}<extra></extra>\", \"legendgroup\": \"Christopher Pike\", \"marker\": {\"color\": \"#00cc96\"}, \"name\": \"Christopher Pike\", \"offsetgroup\": \"Christopher Pike\", \"orientation\": \"h\", \"showlegend\": true, \"textposition\": \"auto\", \"type\": \"bar\", \"x\": [686], \"xaxis\": \"x\", \"y\": [\"Christopher Pike\"], \"yaxis\": \"y\"}, {\"alignmentgroup\": \"True\", \"hovertemplate\": \"value=%{y}<br>count=%{x}<extra></extra>\", \"legendgroup\": \"R.L. Stine\", \"marker\": {\"color\": \"#ab63fa\"}, \"name\": \"R.L. Stine\", \"offsetgroup\": \"R.L. Stine\", \"orientation\": \"h\", \"showlegend\": true, \"textposition\": \"auto\", \"type\": \"bar\", \"x\": [687], \"xaxis\": \"x\", \"y\": [\"R.L. Stine\"], \"yaxis\": \"y\"}, {\"alignmentgroup\": \"True\", \"hovertemplate\": \"value=%{y}<br>count=%{x}<extra></extra>\", \"legendgroup\": \"Gregory Maguire\", \"marker\": {\"color\": \"#FFA15A\"}, \"name\": \"Gregory Maguire\", \"offsetgroup\": \"Gregory Maguire\", \"orientation\": \"h\", \"showlegend\": true, \"textposition\": \"auto\", \"type\": \"bar\", \"x\": [688], \"xaxis\": \"x\", \"y\": [\"Gregory Maguire\"], \"yaxis\": \"y\"}, {\"alignmentgroup\": \"True\", \"hovertemplate\": \"value=%{y}<br>count=%{x}<extra></extra>\", \"legendgroup\": \"Margaret Weis\", \"marker\": {\"color\": \"#19d3f3\"}, \"name\": \"Margaret Weis\", \"offsetgroup\": \"Margaret Weis\", \"orientation\": \"h\", \"showlegend\": true, \"textposition\": \"auto\", \"type\": \"bar\", \"x\": [700], \"xaxis\": \"x\", \"y\": [\"Margaret Weis\"], \"yaxis\": \"y\"}, {\"alignmentgroup\": \"True\", \"hovertemplate\": \"value=%{y}<br>count=%{x}<extra></extra>\", \"legendgroup\": \"Diana Palmer\", \"marker\": {\"color\": \"#FF6692\"}, \"name\": \"Diana Palmer\", \"offsetgroup\": \"Diana Palmer\", \"orientation\": \"h\", \"showlegend\": true, \"textposition\": \"auto\", \"type\": \"bar\", \"x\": [729], \"xaxis\": \"x\", \"y\": [\"Diana Palmer\"], \"yaxis\": \"y\"}, {\"alignmentgroup\": \"True\", \"hovertemplate\": \"value=%{y}<br>count=%{x}<extra></extra>\", \"legendgroup\": \"Ann Rule\", \"marker\": {\"color\": \"#B6E880\"}, \"name\": \"Ann Rule\", \"offsetgroup\": \"Ann Rule\", \"orientation\": \"h\", \"showlegend\": true, \"textposition\": \"auto\", \"type\": \"bar\", \"x\": [737], \"xaxis\": \"x\", \"y\": [\"Ann Rule\"], \"yaxis\": \"y\"}, {\"alignmentgroup\": \"True\", \"hovertemplate\": \"value=%{y}<br>count=%{x}<extra></extra>\", \"legendgroup\": \"James Patterson\", \"marker\": {\"color\": \"#FF97FF\"}, \"name\": \"James Patterson\", \"offsetgroup\": \"James Patterson\", \"orientation\": \"h\", \"showlegend\": true, \"textposition\": \"auto\", \"type\": \"bar\", \"x\": [757], \"xaxis\": \"x\", \"y\": [\"James Patterson\"], \"yaxis\": \"y\"}, {\"alignmentgroup\": \"True\", \"hovertemplate\": \"value=%{y}<br>count=%{x}<extra></extra>\", \"legendgroup\": \"Orson Scott Card\", \"marker\": {\"color\": \"#FECB52\"}, \"name\": \"Orson Scott Card\", \"offsetgroup\": \"Orson Scott Card\", \"orientation\": \"h\", \"showlegend\": true, \"textposition\": \"auto\", \"type\": \"bar\", \"x\": [757], \"xaxis\": \"x\", \"y\": [\"Orson Scott Card\"], \"yaxis\": \"y\"}, {\"alignmentgroup\": \"True\", \"hovertemplate\": \"value=%{y}<br>count=%{x}<extra></extra>\", \"legendgroup\": \"Anita Diamant\", \"marker\": {\"color\": \"#636efa\"}, \"name\": \"Anita Diamant\", \"offsetgroup\": \"Anita Diamant\", \"orientation\": \"h\", \"showlegend\": true, \"textposition\": \"auto\", \"type\": \"bar\", \"x\": [766], \"xaxis\": \"x\", \"y\": [\"Anita Diamant\"], \"yaxis\": \"y\"}, {\"alignmentgroup\": \"True\", \"hovertemplate\": \"value=%{y}<br>count=%{x}<extra></extra>\", \"legendgroup\": \"Douglas Adams\", \"marker\": {\"color\": \"#EF553B\"}, \"name\": \"Douglas Adams\", \"offsetgroup\": \"Douglas Adams\", \"orientation\": \"h\", \"showlegend\": true, \"textposition\": \"auto\", \"type\": \"bar\", \"x\": [804], \"xaxis\": \"x\", \"y\": [\"Douglas Adams\"], \"yaxis\": \"y\"}, {\"alignmentgroup\": \"True\", \"hovertemplate\": \"value=%{y}<br>count=%{x}<extra></extra>\", \"legendgroup\": \"Mercedes Lackey\", \"marker\": {\"color\": \"#00cc96\"}, \"name\": \"Mercedes Lackey\", \"offsetgroup\": \"Mercedes Lackey\", \"orientation\": \"h\", \"showlegend\": true, \"textposition\": \"auto\", \"type\": \"bar\", \"x\": [807], \"xaxis\": \"x\", \"y\": [\"Mercedes Lackey\"], \"yaxis\": \"y\"}, {\"alignmentgroup\": \"True\", \"hovertemplate\": \"value=%{y}<br>count=%{x}<extra></extra>\", \"legendgroup\": \"Neil Gaiman\", \"marker\": {\"color\": \"#ab63fa\"}, \"name\": \"Neil Gaiman\", \"offsetgroup\": \"Neil Gaiman\", \"orientation\": \"h\", \"showlegend\": true, \"textposition\": \"auto\", \"type\": \"bar\", \"x\": [812], \"xaxis\": \"x\", \"y\": [\"Neil Gaiman\"], \"yaxis\": \"y\"}, {\"alignmentgroup\": \"True\", \"hovertemplate\": \"value=%{y}<br>count=%{x}<extra></extra>\", \"legendgroup\": \"Anne Perry\", \"marker\": {\"color\": \"#FFA15A\"}, \"name\": \"Anne Perry\", \"offsetgroup\": \"Anne Perry\", \"orientation\": \"h\", \"showlegend\": true, \"textposition\": \"auto\", \"type\": \"bar\", \"x\": [814], \"xaxis\": \"x\", \"y\": [\"Anne Perry\"], \"yaxis\": \"y\"}, {\"alignmentgroup\": \"True\", \"hovertemplate\": \"value=%{y}<br>count=%{x}<extra></extra>\", \"legendgroup\": \"Johanna Lindsey\", \"marker\": {\"color\": \"#19d3f3\"}, \"name\": \"Johanna Lindsey\", \"offsetgroup\": \"Johanna Lindsey\", \"orientation\": \"h\", \"showlegend\": true, \"textposition\": \"auto\", \"type\": \"bar\", \"x\": [822], \"xaxis\": \"x\", \"y\": [\"Johanna Lindsey\"], \"yaxis\": \"y\"}, {\"alignmentgroup\": \"True\", \"hovertemplate\": \"value=%{y}<br>count=%{x}<extra></extra>\", \"legendgroup\": \"Alexander McCall Smith\", \"marker\": {\"color\": \"#FF6692\"}, \"name\": \"Alexander McCall Smith\", \"offsetgroup\": \"Alexander McCall Smith\", \"orientation\": \"h\", \"showlegend\": true, \"textposition\": \"auto\", \"type\": \"bar\", \"x\": [827], \"xaxis\": \"x\", \"y\": [\"Alexander McCall Smith\"], \"yaxis\": \"y\"}, {\"alignmentgroup\": \"True\", \"hovertemplate\": \"value=%{y}<br>count=%{x}<extra></extra>\", \"legendgroup\": \"Charles Dickens\", \"marker\": {\"color\": \"#B6E880\"}, \"name\": \"Charles Dickens\", \"offsetgroup\": \"Charles Dickens\", \"orientation\": \"h\", \"showlegend\": true, \"textposition\": \"auto\", \"type\": \"bar\", \"x\": [881], \"xaxis\": \"x\", \"y\": [\"Charles Dickens\"], \"yaxis\": \"y\"}, {\"alignmentgroup\": \"True\", \"hovertemplate\": \"value=%{y}<br>count=%{x}<extra></extra>\", \"legendgroup\": \"Clive Cussler\", \"marker\": {\"color\": \"#FF97FF\"}, \"name\": \"Clive Cussler\", \"offsetgroup\": \"Clive Cussler\", \"orientation\": \"h\", \"showlegend\": true, \"textposition\": \"auto\", \"type\": \"bar\", \"x\": [909], \"xaxis\": \"x\", \"y\": [\"Clive Cussler\"], \"yaxis\": \"y\"}, {\"alignmentgroup\": \"True\", \"hovertemplate\": \"value=%{y}<br>count=%{x}<extra></extra>\", \"legendgroup\": \"Barbara Kingsolver\", \"marker\": {\"color\": \"#FECB52\"}, \"name\": \"Barbara Kingsolver\", \"offsetgroup\": \"Barbara Kingsolver\", \"orientation\": \"h\", \"showlegend\": true, \"textposition\": \"auto\", \"type\": \"bar\", \"x\": [918], \"xaxis\": \"x\", \"y\": [\"Barbara Kingsolver\"], \"yaxis\": \"y\"}, {\"alignmentgroup\": \"True\", \"hovertemplate\": \"value=%{y}<br>count=%{x}<extra></extra>\", \"legendgroup\": \"Tony Hillerman\", \"marker\": {\"color\": \"#636efa\"}, \"name\": \"Tony Hillerman\", \"offsetgroup\": \"Tony Hillerman\", \"orientation\": \"h\", \"showlegend\": true, \"textposition\": \"auto\", \"type\": \"bar\", \"x\": [936], \"xaxis\": \"x\", \"y\": [\"Tony Hillerman\"], \"yaxis\": \"y\"}, {\"alignmentgroup\": \"True\", \"hovertemplate\": \"value=%{y}<br>count=%{x}<extra></extra>\", \"legendgroup\": \"Jane Austen\", \"marker\": {\"color\": \"#EF553B\"}, \"name\": \"Jane Austen\", \"offsetgroup\": \"Jane Austen\", \"orientation\": \"h\", \"showlegend\": true, \"textposition\": \"auto\", \"type\": \"bar\", \"x\": [941], \"xaxis\": \"x\", \"y\": [\"Jane Austen\"], \"yaxis\": \"y\"}, {\"alignmentgroup\": \"True\", \"hovertemplate\": \"value=%{y}<br>count=%{x}<extra></extra>\", \"legendgroup\": \"Debbie Macomber\", \"marker\": {\"color\": \"#00cc96\"}, \"name\": \"Debbie Macomber\", \"offsetgroup\": \"Debbie Macomber\", \"orientation\": \"h\", \"showlegend\": true, \"textposition\": \"auto\", \"type\": \"bar\", \"x\": [947], \"xaxis\": \"x\", \"y\": [\"Debbie Macomber\"], \"yaxis\": \"y\"}, {\"alignmentgroup\": \"True\", \"hovertemplate\": \"value=%{y}<br>count=%{x}<extra></extra>\", \"legendgroup\": \"Catherine Coulter\", \"marker\": {\"color\": \"#ab63fa\"}, \"name\": \"Catherine Coulter\", \"offsetgroup\": \"Catherine Coulter\", \"orientation\": \"h\", \"showlegend\": true, \"textposition\": \"auto\", \"type\": \"bar\", \"x\": [951], \"xaxis\": \"x\", \"y\": [\"Catherine Coulter\"], \"yaxis\": \"y\"}, {\"alignmentgroup\": \"True\", \"hovertemplate\": \"value=%{y}<br>count=%{x}<extra></extra>\", \"legendgroup\": \"Rebecca Wells\", \"marker\": {\"color\": \"#FFA15A\"}, \"name\": \"Rebecca Wells\", \"offsetgroup\": \"Rebecca Wells\", \"orientation\": \"h\", \"showlegend\": true, \"textposition\": \"auto\", \"type\": \"bar\", \"x\": [962], \"xaxis\": \"x\", \"y\": [\"Rebecca Wells\"], \"yaxis\": \"y\"}, {\"alignmentgroup\": \"True\", \"hovertemplate\": \"value=%{y}<br>count=%{x}<extra></extra>\", \"legendgroup\": \"Francine Pascal\", \"marker\": {\"color\": \"#19d3f3\"}, \"name\": \"Francine Pascal\", \"offsetgroup\": \"Francine Pascal\", \"orientation\": \"h\", \"showlegend\": true, \"textposition\": \"auto\", \"type\": \"bar\", \"x\": [1008], \"xaxis\": \"x\", \"y\": [\"Francine Pascal\"], \"yaxis\": \"y\"}, {\"alignmentgroup\": \"True\", \"hovertemplate\": \"value=%{y}<br>count=%{x}<extra></extra>\", \"legendgroup\": \"Anne McCaffrey\", \"marker\": {\"color\": \"#FF6692\"}, \"name\": \"Anne McCaffrey\", \"offsetgroup\": \"Anne McCaffrey\", \"orientation\": \"h\", \"showlegend\": true, \"textposition\": \"auto\", \"type\": \"bar\", \"x\": [1025], \"xaxis\": \"x\", \"y\": [\"Anne McCaffrey\"], \"yaxis\": \"y\"}, {\"alignmentgroup\": \"True\", \"hovertemplate\": \"value=%{y}<br>count=%{x}<extra></extra>\", \"legendgroup\": \"Jonathan Kellerman\", \"marker\": {\"color\": \"#B6E880\"}, \"name\": \"Jonathan Kellerman\", \"offsetgroup\": \"Jonathan Kellerman\", \"orientation\": \"h\", \"showlegend\": true, \"textposition\": \"auto\", \"type\": \"bar\", \"x\": [1042], \"xaxis\": \"x\", \"y\": [\"Jonathan Kellerman\"], \"yaxis\": \"y\"}, {\"alignmentgroup\": \"True\", \"hovertemplate\": \"value=%{y}<br>count=%{x}<extra></extra>\", \"legendgroup\": \"Faye Kellerman\", \"marker\": {\"color\": \"#FF97FF\"}, \"name\": \"Faye Kellerman\", \"offsetgroup\": \"Faye Kellerman\", \"orientation\": \"h\", \"showlegend\": true, \"textposition\": \"auto\", \"type\": \"bar\", \"x\": [1047], \"xaxis\": \"x\", \"y\": [\"Faye Kellerman\"], \"yaxis\": \"y\"}, {\"alignmentgroup\": \"True\", \"hovertemplate\": \"value=%{y}<br>count=%{x}<extra></extra>\", \"legendgroup\": \"Carolyn Keene\", \"marker\": {\"color\": \"#FECB52\"}, \"name\": \"Carolyn Keene\", \"offsetgroup\": \"Carolyn Keene\", \"orientation\": \"h\", \"showlegend\": true, \"textposition\": \"auto\", \"type\": \"bar\", \"x\": [1066], \"xaxis\": \"x\", \"y\": [\"Carolyn Keene\"], \"yaxis\": \"y\"}, {\"alignmentgroup\": \"True\", \"hovertemplate\": \"value=%{y}<br>count=%{x}<extra></extra>\", \"legendgroup\": \"Terry Pratchett\", \"marker\": {\"color\": \"#636efa\"}, \"name\": \"Terry Pratchett\", \"offsetgroup\": \"Terry Pratchett\", \"orientation\": \"h\", \"showlegend\": true, \"textposition\": \"auto\", \"type\": \"bar\", \"x\": [1078], \"xaxis\": \"x\", \"y\": [\"Terry Pratchett\"], \"yaxis\": \"y\"}, {\"alignmentgroup\": \"True\", \"hovertemplate\": \"value=%{y}<br>count=%{x}<extra></extra>\", \"legendgroup\": \"Anne Rice\", \"marker\": {\"color\": \"#EF553B\"}, \"name\": \"Anne Rice\", \"offsetgroup\": \"Anne Rice\", \"orientation\": \"h\", \"showlegend\": true, \"textposition\": \"auto\", \"type\": \"bar\", \"x\": [1111], \"xaxis\": \"x\", \"y\": [\"Anne Rice\"], \"yaxis\": \"y\"}, {\"alignmentgroup\": \"True\", \"hovertemplate\": \"value=%{y}<br>count=%{x}<extra></extra>\", \"legendgroup\": \"Wally Lamb\", \"marker\": {\"color\": \"#00cc96\"}, \"name\": \"Wally Lamb\", \"offsetgroup\": \"Wally Lamb\", \"orientation\": \"h\", \"showlegend\": true, \"textposition\": \"auto\", \"type\": \"bar\", \"x\": [1148], \"xaxis\": \"x\", \"y\": [\"Wally Lamb\"], \"yaxis\": \"y\"}, {\"alignmentgroup\": \"True\", \"hovertemplate\": \"value=%{y}<br>count=%{x}<extra></extra>\", \"legendgroup\": \"Lilian Jackson Braun\", \"marker\": {\"color\": \"#ab63fa\"}, \"name\": \"Lilian Jackson Braun\", \"offsetgroup\": \"Lilian Jackson Braun\", \"orientation\": \"h\", \"showlegend\": true, \"textposition\": \"auto\", \"type\": \"bar\", \"x\": [1213], \"xaxis\": \"x\", \"y\": [\"Lilian Jackson Braun\"], \"yaxis\": \"y\"}, {\"alignmentgroup\": \"True\", \"hovertemplate\": \"value=%{y}<br>count=%{x}<extra></extra>\", \"legendgroup\": \"Agatha Christie\", \"marker\": {\"color\": \"#FFA15A\"}, \"name\": \"Agatha Christie\", \"offsetgroup\": \"Agatha Christie\", \"orientation\": \"h\", \"showlegend\": true, \"textposition\": \"auto\", \"type\": \"bar\", \"x\": [1283], \"xaxis\": \"x\", \"y\": [\"Agatha Christie\"], \"yaxis\": \"y\"}, {\"alignmentgroup\": \"True\", \"hovertemplate\": \"value=%{y}<br>count=%{x}<extra></extra>\", \"legendgroup\": \"Anita Shreve\", \"marker\": {\"color\": \"#19d3f3\"}, \"name\": \"Anita Shreve\", \"offsetgroup\": \"Anita Shreve\", \"orientation\": \"h\", \"showlegend\": true, \"textposition\": \"auto\", \"type\": \"bar\", \"x\": [1320], \"xaxis\": \"x\", \"y\": [\"Anita Shreve\"], \"yaxis\": \"y\"}, {\"alignmentgroup\": \"True\", \"hovertemplate\": \"value=%{y}<br>count=%{x}<extra></extra>\", \"legendgroup\": \"Piers Anthony\", \"marker\": {\"color\": \"#FF6692\"}, \"name\": \"Piers Anthony\", \"offsetgroup\": \"Piers Anthony\", \"orientation\": \"h\", \"showlegend\": true, \"textposition\": \"auto\", \"type\": \"bar\", \"x\": [1329], \"xaxis\": \"x\", \"y\": [\"Piers Anthony\"], \"yaxis\": \"y\"}, {\"alignmentgroup\": \"True\", \"hovertemplate\": \"value=%{y}<br>count=%{x}<extra></extra>\", \"legendgroup\": \"William Shakespeare\", \"marker\": {\"color\": \"#B6E880\"}, \"name\": \"William Shakespeare\", \"offsetgroup\": \"William Shakespeare\", \"orientation\": \"h\", \"showlegend\": true, \"textposition\": \"auto\", \"type\": \"bar\", \"x\": [1371], \"xaxis\": \"x\", \"y\": [\"William Shakespeare\"], \"yaxis\": \"y\"}, {\"alignmentgroup\": \"True\", \"hovertemplate\": \"value=%{y}<br>count=%{x}<extra></extra>\", \"legendgroup\": \"Ann M. Martin\", \"marker\": {\"color\": \"#FF97FF\"}, \"name\": \"Ann M. Martin\", \"offsetgroup\": \"Ann M. Martin\", \"orientation\": \"h\", \"showlegend\": true, \"textposition\": \"auto\", \"type\": \"bar\", \"x\": [1536], \"xaxis\": \"x\", \"y\": [\"Ann M. Martin\"], \"yaxis\": \"y\"}, {\"alignmentgroup\": \"True\", \"hovertemplate\": \"value=%{y}<br>count=%{x}<extra></extra>\", \"legendgroup\": \"Jack Canfield\", \"marker\": {\"color\": \"#FECB52\"}, \"name\": \"Jack Canfield\", \"offsetgroup\": \"Jack Canfield\", \"orientation\": \"h\", \"showlegend\": true, \"textposition\": \"auto\", \"type\": \"bar\", \"x\": [1587], \"xaxis\": \"x\", \"y\": [\"Jack Canfield\"], \"yaxis\": \"y\"}, {\"alignmentgroup\": \"True\", \"hovertemplate\": \"value=%{y}<br>count=%{x}<extra></extra>\", \"legendgroup\": \"Alice Sebold\", \"marker\": {\"color\": \"#636efa\"}, \"name\": \"Alice Sebold\", \"offsetgroup\": \"Alice Sebold\", \"orientation\": \"h\", \"showlegend\": true, \"textposition\": \"auto\", \"type\": \"bar\", \"x\": [1616], \"xaxis\": \"x\", \"y\": [\"Alice Sebold\"], \"yaxis\": \"y\"}, {\"alignmentgroup\": \"True\", \"hovertemplate\": \"value=%{y}<br>count=%{x}<extra></extra>\", \"legendgroup\": \"Mary Higgins Clark\", \"marker\": {\"color\": \"#EF553B\"}, \"name\": \"Mary Higgins Clark\", \"offsetgroup\": \"Mary Higgins Clark\", \"orientation\": \"h\", \"showlegend\": true, \"textposition\": \"auto\", \"type\": \"bar\", \"x\": [1708], \"xaxis\": \"x\", \"y\": [\"Mary Higgins Clark\"], \"yaxis\": \"y\"}, {\"alignmentgroup\": \"True\", \"hovertemplate\": \"value=%{y}<br>count=%{x}<extra></extra>\", \"legendgroup\": \"V.C. Andrews\", \"marker\": {\"color\": \"#00cc96\"}, \"name\": \"V.C. Andrews\", \"offsetgroup\": \"V.C. Andrews\", \"orientation\": \"h\", \"showlegend\": true, \"textposition\": \"auto\", \"type\": \"bar\", \"x\": [2097], \"xaxis\": \"x\", \"y\": [\"V.C. Andrews\"], \"yaxis\": \"y\"}, {\"alignmentgroup\": \"True\", \"hovertemplate\": \"value=%{y}<br>count=%{x}<extra></extra>\", \"legendgroup\": \"Tom Clancy\", \"marker\": {\"color\": \"#ab63fa\"}, \"name\": \"Tom Clancy\", \"offsetgroup\": \"Tom Clancy\", \"orientation\": \"h\", \"showlegend\": true, \"textposition\": \"auto\", \"type\": \"bar\", \"x\": [2142], \"xaxis\": \"x\", \"y\": [\"Tom Clancy\"], \"yaxis\": \"y\"}, {\"alignmentgroup\": \"True\", \"hovertemplate\": \"value=%{y}<br>count=%{x}<extra></extra>\", \"legendgroup\": \"Janet Evanovich\", \"marker\": {\"color\": \"#FFA15A\"}, \"name\": \"Janet Evanovich\", \"offsetgroup\": \"Janet Evanovich\", \"orientation\": \"h\", \"showlegend\": true, \"textposition\": \"auto\", \"type\": \"bar\", \"x\": [2235], \"xaxis\": \"x\", \"y\": [\"Janet Evanovich\"], \"yaxis\": \"y\"}, {\"alignmentgroup\": \"True\", \"hovertemplate\": \"value=%{y}<br>count=%{x}<extra></extra>\", \"legendgroup\": \"R. L. Stine\", \"marker\": {\"color\": \"#19d3f3\"}, \"name\": \"R. L. Stine\", \"offsetgroup\": \"R. L. Stine\", \"orientation\": \"h\", \"showlegend\": true, \"textposition\": \"auto\", \"type\": \"bar\", \"x\": [2336], \"xaxis\": \"x\", \"y\": [\"R. L. Stine\"], \"yaxis\": \"y\"}, {\"alignmentgroup\": \"True\", \"hovertemplate\": \"value=%{y}<br>count=%{x}<extra></extra>\", \"legendgroup\": \"Stephen King\", \"marker\": {\"color\": \"#FF6692\"}, \"name\": \"Stephen King\", \"offsetgroup\": \"Stephen King\", \"orientation\": \"h\", \"showlegend\": true, \"textposition\": \"auto\", \"type\": \"bar\", \"x\": [2398], \"xaxis\": \"x\", \"y\": [\"Stephen King\"], \"yaxis\": \"y\"}, {\"alignmentgroup\": \"True\", \"hovertemplate\": \"value=%{y}<br>count=%{x}<extra></extra>\", \"legendgroup\": \"Rich Shapero\", \"marker\": {\"color\": \"#B6E880\"}, \"name\": \"Rich Shapero\", \"offsetgroup\": \"Rich Shapero\", \"orientation\": \"h\", \"showlegend\": true, \"textposition\": \"auto\", \"type\": \"bar\", \"x\": [2502], \"xaxis\": \"x\", \"y\": [\"Rich Shapero\"], \"yaxis\": \"y\"}, {\"alignmentgroup\": \"True\", \"hovertemplate\": \"value=%{y}<br>count=%{x}<extra></extra>\", \"legendgroup\": \"Sue Grafton\", \"marker\": {\"color\": \"#FF97FF\"}, \"name\": \"Sue Grafton\", \"offsetgroup\": \"Sue Grafton\", \"orientation\": \"h\", \"showlegend\": true, \"textposition\": \"auto\", \"type\": \"bar\", \"x\": [2690], \"xaxis\": \"x\", \"y\": [\"Sue Grafton\"], \"yaxis\": \"y\"}, {\"alignmentgroup\": \"True\", \"hovertemplate\": \"value=%{y}<br>count=%{x}<extra></extra>\", \"legendgroup\": \"Nora Roberts\", \"marker\": {\"color\": \"#FECB52\"}, \"name\": \"Nora Roberts\", \"offsetgroup\": \"Nora Roberts\", \"orientation\": \"h\", \"showlegend\": true, \"textposition\": \"auto\", \"type\": \"bar\", \"x\": [5368], \"xaxis\": \"x\", \"y\": [\"Nora Roberts\"], \"yaxis\": \"y\"}],                        {\"barmode\": \"relative\", \"height\": 700, \"legend\": {\"title\": {\"text\": \"value\"}, \"tracegroupgap\": 0}, \"template\": {\"data\": {\"bar\": [{\"error_x\": {\"color\": \"#2a3f5f\"}, \"error_y\": {\"color\": \"#2a3f5f\"}, \"marker\": {\"line\": {\"color\": \"#E5ECF6\", \"width\": 0.5}}, \"type\": \"bar\"}], \"barpolar\": [{\"marker\": {\"line\": {\"color\": \"#E5ECF6\", \"width\": 0.5}}, \"type\": \"barpolar\"}], \"carpet\": [{\"aaxis\": {\"endlinecolor\": \"#2a3f5f\", \"gridcolor\": \"white\", \"linecolor\": \"white\", \"minorgridcolor\": \"white\", \"startlinecolor\": \"#2a3f5f\"}, \"baxis\": {\"endlinecolor\": \"#2a3f5f\", \"gridcolor\": \"white\", \"linecolor\": \"white\", \"minorgridcolor\": \"white\", \"startlinecolor\": \"#2a3f5f\"}, \"type\": \"carpet\"}], \"choropleth\": [{\"colorbar\": {\"outlinewidth\": 0, \"ticks\": \"\"}, \"type\": \"choropleth\"}], \"contour\": [{\"colorbar\": {\"outlinewidth\": 0, \"ticks\": \"\"}, \"colorscale\": [[0.0, \"#0d0887\"], [0.1111111111111111, \"#46039f\"], [0.2222222222222222, \"#7201a8\"], [0.3333333333333333, \"#9c179e\"], [0.4444444444444444, \"#bd3786\"], [0.5555555555555556, \"#d8576b\"], [0.6666666666666666, \"#ed7953\"], [0.7777777777777778, \"#fb9f3a\"], [0.8888888888888888, \"#fdca26\"], [1.0, \"#f0f921\"]], \"type\": \"contour\"}], \"contourcarpet\": [{\"colorbar\": {\"outlinewidth\": 0, \"ticks\": \"\"}, \"type\": \"contourcarpet\"}], \"heatmap\": [{\"colorbar\": {\"outlinewidth\": 0, \"ticks\": \"\"}, \"colorscale\": [[0.0, \"#0d0887\"], [0.1111111111111111, \"#46039f\"], [0.2222222222222222, \"#7201a8\"], [0.3333333333333333, \"#9c179e\"], [0.4444444444444444, \"#bd3786\"], [0.5555555555555556, \"#d8576b\"], [0.6666666666666666, \"#ed7953\"], [0.7777777777777778, \"#fb9f3a\"], [0.8888888888888888, \"#fdca26\"], [1.0, \"#f0f921\"]], \"type\": \"heatmap\"}], \"heatmapgl\": [{\"colorbar\": {\"outlinewidth\": 0, \"ticks\": \"\"}, \"colorscale\": [[0.0, \"#0d0887\"], [0.1111111111111111, \"#46039f\"], [0.2222222222222222, \"#7201a8\"], [0.3333333333333333, \"#9c179e\"], [0.4444444444444444, \"#bd3786\"], [0.5555555555555556, \"#d8576b\"], [0.6666666666666666, \"#ed7953\"], [0.7777777777777778, \"#fb9f3a\"], [0.8888888888888888, \"#fdca26\"], [1.0, \"#f0f921\"]], \"type\": \"heatmapgl\"}], \"histogram\": [{\"marker\": {\"colorbar\": {\"outlinewidth\": 0, \"ticks\": \"\"}}, \"type\": \"histogram\"}], \"histogram2d\": [{\"colorbar\": {\"outlinewidth\": 0, \"ticks\": \"\"}, \"colorscale\": [[0.0, \"#0d0887\"], [0.1111111111111111, \"#46039f\"], [0.2222222222222222, \"#7201a8\"], [0.3333333333333333, \"#9c179e\"], [0.4444444444444444, \"#bd3786\"], [0.5555555555555556, \"#d8576b\"], [0.6666666666666666, \"#ed7953\"], [0.7777777777777778, \"#fb9f3a\"], [0.8888888888888888, \"#fdca26\"], [1.0, \"#f0f921\"]], \"type\": \"histogram2d\"}], \"histogram2dcontour\": [{\"colorbar\": {\"outlinewidth\": 0, \"ticks\": \"\"}, \"colorscale\": [[0.0, \"#0d0887\"], [0.1111111111111111, \"#46039f\"], [0.2222222222222222, \"#7201a8\"], [0.3333333333333333, \"#9c179e\"], [0.4444444444444444, \"#bd3786\"], [0.5555555555555556, \"#d8576b\"], [0.6666666666666666, \"#ed7953\"], [0.7777777777777778, \"#fb9f3a\"], [0.8888888888888888, \"#fdca26\"], [1.0, \"#f0f921\"]], \"type\": \"histogram2dcontour\"}], \"mesh3d\": [{\"colorbar\": {\"outlinewidth\": 0, \"ticks\": \"\"}, \"type\": \"mesh3d\"}], \"parcoords\": [{\"line\": {\"colorbar\": {\"outlinewidth\": 0, \"ticks\": \"\"}}, \"type\": \"parcoords\"}], \"pie\": [{\"automargin\": true, \"type\": \"pie\"}], \"scatter\": [{\"marker\": {\"colorbar\": {\"outlinewidth\": 0, \"ticks\": \"\"}}, \"type\": \"scatter\"}], \"scatter3d\": [{\"line\": {\"colorbar\": {\"outlinewidth\": 0, \"ticks\": \"\"}}, \"marker\": {\"colorbar\": {\"outlinewidth\": 0, \"ticks\": \"\"}}, \"type\": \"scatter3d\"}], \"scattercarpet\": [{\"marker\": {\"colorbar\": {\"outlinewidth\": 0, \"ticks\": \"\"}}, \"type\": \"scattercarpet\"}], \"scattergeo\": [{\"marker\": {\"colorbar\": {\"outlinewidth\": 0, \"ticks\": \"\"}}, \"type\": \"scattergeo\"}], \"scattergl\": [{\"marker\": {\"colorbar\": {\"outlinewidth\": 0, \"ticks\": \"\"}}, \"type\": \"scattergl\"}], \"scattermapbox\": [{\"marker\": {\"colorbar\": {\"outlinewidth\": 0, \"ticks\": \"\"}}, \"type\": \"scattermapbox\"}], \"scatterpolar\": [{\"marker\": {\"colorbar\": {\"outlinewidth\": 0, \"ticks\": \"\"}}, \"type\": \"scatterpolar\"}], \"scatterpolargl\": [{\"marker\": {\"colorbar\": {\"outlinewidth\": 0, \"ticks\": \"\"}}, \"type\": \"scatterpolargl\"}], \"scatterternary\": [{\"marker\": {\"colorbar\": {\"outlinewidth\": 0, \"ticks\": \"\"}}, \"type\": \"scatterternary\"}], \"surface\": [{\"colorbar\": {\"outlinewidth\": 0, \"ticks\": \"\"}, \"colorscale\": [[0.0, \"#0d0887\"], [0.1111111111111111, \"#46039f\"], [0.2222222222222222, \"#7201a8\"], [0.3333333333333333, \"#9c179e\"], [0.4444444444444444, \"#bd3786\"], [0.5555555555555556, \"#d8576b\"], [0.6666666666666666, \"#ed7953\"], [0.7777777777777778, \"#fb9f3a\"], [0.8888888888888888, \"#fdca26\"], [1.0, \"#f0f921\"]], \"type\": \"surface\"}], \"table\": [{\"cells\": {\"fill\": {\"color\": \"#EBF0F8\"}, \"line\": {\"color\": \"white\"}}, \"header\": {\"fill\": {\"color\": \"#C8D4E3\"}, \"line\": {\"color\": \"white\"}}, \"type\": \"table\"}]}, \"layout\": {\"annotationdefaults\": {\"arrowcolor\": \"#2a3f5f\", \"arrowhead\": 0, \"arrowwidth\": 1}, \"coloraxis\": {\"colorbar\": {\"outlinewidth\": 0, \"ticks\": \"\"}}, \"colorscale\": {\"diverging\": [[0, \"#8e0152\"], [0.1, \"#c51b7d\"], [0.2, \"#de77ae\"], [0.3, \"#f1b6da\"], [0.4, \"#fde0ef\"], [0.5, \"#f7f7f7\"], [0.6, \"#e6f5d0\"], [0.7, \"#b8e186\"], [0.8, \"#7fbc41\"], [0.9, \"#4d9221\"], [1, \"#276419\"]], \"sequential\": [[0.0, \"#0d0887\"], [0.1111111111111111, \"#46039f\"], [0.2222222222222222, \"#7201a8\"], [0.3333333333333333, \"#9c179e\"], [0.4444444444444444, \"#bd3786\"], [0.5555555555555556, \"#d8576b\"], [0.6666666666666666, \"#ed7953\"], [0.7777777777777778, \"#fb9f3a\"], [0.8888888888888888, \"#fdca26\"], [1.0, \"#f0f921\"]], \"sequentialminus\": [[0.0, \"#0d0887\"], [0.1111111111111111, \"#46039f\"], [0.2222222222222222, \"#7201a8\"], [0.3333333333333333, \"#9c179e\"], [0.4444444444444444, \"#bd3786\"], [0.5555555555555556, \"#d8576b\"], [0.6666666666666666, \"#ed7953\"], [0.7777777777777778, \"#fb9f3a\"], [0.8888888888888888, \"#fdca26\"], [1.0, \"#f0f921\"]]}, \"colorway\": [\"#636efa\", \"#EF553B\", \"#00cc96\", \"#ab63fa\", \"#FFA15A\", \"#19d3f3\", \"#FF6692\", \"#B6E880\", \"#FF97FF\", \"#FECB52\"], \"font\": {\"color\": \"#2a3f5f\"}, \"geo\": {\"bgcolor\": \"white\", \"lakecolor\": \"white\", \"landcolor\": \"#E5ECF6\", \"showlakes\": true, \"showland\": true, \"subunitcolor\": \"white\"}, \"hoverlabel\": {\"align\": \"left\"}, \"hovermode\": \"closest\", \"mapbox\": {\"style\": \"light\"}, \"paper_bgcolor\": \"white\", \"plot_bgcolor\": \"#E5ECF6\", \"polar\": {\"angularaxis\": {\"gridcolor\": \"white\", \"linecolor\": \"white\", \"ticks\": \"\"}, \"bgcolor\": \"#E5ECF6\", \"radialaxis\": {\"gridcolor\": \"white\", \"linecolor\": \"white\", \"ticks\": \"\"}}, \"scene\": {\"xaxis\": {\"backgroundcolor\": \"#E5ECF6\", \"gridcolor\": \"white\", \"gridwidth\": 2, \"linecolor\": \"white\", \"showbackground\": true, \"ticks\": \"\", \"zerolinecolor\": \"white\"}, \"yaxis\": {\"backgroundcolor\": \"#E5ECF6\", \"gridcolor\": \"white\", \"gridwidth\": 2, \"linecolor\": \"white\", \"showbackground\": true, \"ticks\": \"\", \"zerolinecolor\": \"white\"}, \"zaxis\": {\"backgroundcolor\": \"#E5ECF6\", \"gridcolor\": \"white\", \"gridwidth\": 2, \"linecolor\": \"white\", \"showbackground\": true, \"ticks\": \"\", \"zerolinecolor\": \"white\"}}, \"shapedefaults\": {\"line\": {\"color\": \"#2a3f5f\"}}, \"ternary\": {\"aaxis\": {\"gridcolor\": \"white\", \"linecolor\": \"white\", \"ticks\": \"\"}, \"baxis\": {\"gridcolor\": \"white\", \"linecolor\": \"white\", \"ticks\": \"\"}, \"bgcolor\": \"#E5ECF6\", \"caxis\": {\"gridcolor\": \"white\", \"linecolor\": \"white\", \"ticks\": \"\"}}, \"title\": {\"x\": 0.05}, \"xaxis\": {\"automargin\": true, \"gridcolor\": \"white\", \"linecolor\": \"white\", \"ticks\": \"\", \"title\": {\"standoff\": 15}, \"zerolinecolor\": \"white\", \"zerolinewidth\": 2}, \"yaxis\": {\"automargin\": true, \"gridcolor\": \"white\", \"linecolor\": \"white\", \"ticks\": \"\", \"title\": {\"standoff\": 15}, \"zerolinecolor\": \"white\", \"zerolinewidth\": 2}}}, \"title\": {\"text\": \"Top Authors\"}, \"width\": 1000, \"xaxis\": {\"anchor\": \"y\", \"domain\": [0.0, 1.0], \"title\": {\"text\": \"count\"}}, \"yaxis\": {\"anchor\": \"x\", \"categoryarray\": [\"Nora Roberts\", \"Sue Grafton\", \"Rich Shapero\", \"Stephen King\", \"R. L. Stine\", \"Janet Evanovich\", \"Tom Clancy\", \"V.C. Andrews\", \"Mary Higgins Clark\", \"Alice Sebold\", \"Jack Canfield\", \"Ann M. Martin\", \"William Shakespeare\", \"Piers Anthony\", \"Anita Shreve\", \"Agatha Christie\", \"Lilian Jackson Braun\", \"Wally Lamb\", \"Anne Rice\", \"Terry Pratchett\", \"Carolyn Keene\", \"Faye Kellerman\", \"Jonathan Kellerman\", \"Anne McCaffrey\", \"Francine Pascal\", \"Rebecca Wells\", \"Catherine Coulter\", \"Debbie Macomber\", \"Jane Austen\", \"Tony Hillerman\", \"Barbara Kingsolver\", \"Clive Cussler\", \"Charles Dickens\", \"Alexander McCall Smith\", \"Johanna Lindsey\", \"Anne Perry\", \"Neil Gaiman\", \"Mercedes Lackey\", \"Douglas Adams\", \"Anita Diamant\", \"Orson Scott Card\", \"James Patterson\", \"Ann Rule\", \"Diana Palmer\", \"Margaret Weis\", \"Gregory Maguire\", \"R.L. Stine\", \"Christopher Pike\", \"Dean R. Koontz\", \"Isabel Allende\"], \"categoryorder\": \"array\", \"domain\": [0.0, 1.0], \"title\": {\"text\": \"value\"}}},                        {\"responsive\": true}                    ).then(function(){\n",
       "                            \n",
       "var gd = document.getElementById('00bc0271-927d-4c38-9677-af18807ea8fb');\n",
       "var x = new MutationObserver(function (mutations, observer) {{\n",
       "        var display = window.getComputedStyle(gd).display;\n",
       "        if (!display || display === 'none') {{\n",
       "            console.log([gd, 'removed!']);\n",
       "            Plotly.purge(gd);\n",
       "            observer.disconnect();\n",
       "        }}\n",
       "}});\n",
       "\n",
       "// Listen for the removal of the full notebook cells\n",
       "var notebookContainer = gd.closest('#notebook-container');\n",
       "if (notebookContainer) {{\n",
       "    x.observe(notebookContainer, {childList: true});\n",
       "}}\n",
       "\n",
       "// Listen for the clearing of the current output cell\n",
       "var outputEl = gd.closest('.output');\n",
       "if (outputEl) {{\n",
       "    x.observe(outputEl, {childList: true});\n",
       "}}\n",
       "\n",
       "                        })                };                });            </script>        </div>"
      ]
     },
     "metadata": {},
     "output_type": "display_data"
    }
   ],
   "source": [
    "cross_author_counts = merge_data['book_author'].value_counts().reset_index()\n",
    "cross_author_counts.columns = ['value', 'count']\n",
    "cross_author_counts['value'] = cross_author_counts['value']\n",
    "cross_author_counts = cross_author_counts.sort_values('count')\n",
    "fig = px.bar(cross_author_counts.tail(50), x=\"count\", y=\"value\", title='Top Authors', orientation='h', color='value',\n",
    "             width=1000, height=700)\n",
    "fig.show()\n",
    "#fig.write_image('images/top_authors_bar.jpg')"
   ]
  },
  {
   "cell_type": "code",
   "execution_count": 2,
   "metadata": {},
   "outputs": [
    {
     "data": {
      "image/png": "[encoded data removed]",
      "text/plain": [
       "<Figure size 1152x576 with 1 Axes>"
      ]
     },
     "metadata": {
      "needs_background": "light"
     },
     "output_type": "display_data"
    }
   ],
   "source": [
    "titles=wordcloud(title_string)\n",
    "plt.savefig('images/titles_wc.jpg')"
   ]
  },
  {
   "cell_type": "code",
   "execution_count": null,
   "metadata": {},
   "outputs": [],
   "source": []
  }
 ],
 "metadata": {
  "kernelspec": {
   "display_name": "Python 3",
   "language": "python",
   "name": "python3"
  },
  "language_info": {
   "codemirror_mode": {
    "name": "ipython",
    "version": 3
   },
   "file_extension": ".py",
   "mimetype": "text/x-python",
   "name": "python",
   "nbconvert_exporter": "python",
   "pygments_lexer": "ipython3",
   "version": "3.7.7"
  }
 },
 "nbformat": 4,
 "nbformat_minor": 4
}
