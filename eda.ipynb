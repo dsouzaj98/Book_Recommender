{
 "cells": [
  {
   "cell_type": "code",
   "execution_count": 2,
   "metadata": {},
   "outputs": [],
   "source": [
    "from eda import *"
   ]
  },
  {
   "cell_type": "code",
   "execution_count": 5,
   "metadata": {},
   "outputs": [
    {
     "data": {
      "application/vnd.plotly.v1+json": {
       "config": {
        "plotlyServerURL": "https://plot.ly"
       },
       "data": [
        {
         "alignmentgroup": "True",
         "hovertemplate": "original_title=%{y}<br>average_rating=%{x}<extra></extra>",
         "legendgroup": "The Complete Calvin and Hobbes",
         "marker": {
          "color": "#636efa"
         },
         "name": "The Complete Calvin and Hobbes",
         "offsetgroup": "The Complete Calvin and Hobbes",
         "orientation": "h",
         "showlegend": true,
         "textposition": "auto",
         "type": "bar",
         "x": [
          4.82
         ],
         "xaxis": "x",
         "y": [
          "The Complete Calvin and Hobbes"
         ],
         "yaxis": "y"
        },
        {
         "alignmentgroup": "True",
         "hovertemplate": "original_title=%{y}<br>average_rating=%{x}<extra></extra>",
         "legendgroup": "Words of Radiance",
         "marker": {
          "color": "#EF553B"
         },
         "name": "Words of Radiance",
         "offsetgroup": "Words of Radiance",
         "orientation": "h",
         "showlegend": true,
         "textposition": "auto",
         "type": "bar",
         "x": [
          4.77
         ],
         "xaxis": "x",
         "y": [
          "Words of Radiance"
         ],
         "yaxis": "y"
        },
        {
         "alignmentgroup": "True",
         "hovertemplate": "original_title=%{y}<br>average_rating=%{x}<extra></extra>",
         "legendgroup": "Mark of the Lion Trilogy",
         "marker": {
          "color": "#00cc96"
         },
         "name": "Mark of the Lion Trilogy",
         "offsetgroup": "Mark of the Lion Trilogy",
         "orientation": "h",
         "showlegend": true,
         "textposition": "auto",
         "type": "bar",
         "x": [
          4.76
         ],
         "xaxis": "x",
         "y": [
          "Mark of the Lion Trilogy"
         ],
         "yaxis": "y"
        },
        {
         "alignmentgroup": "True",
         "hovertemplate": "original_title=%{y}<br>average_rating=%{x}<extra></extra>",
         "legendgroup": "It's a Magical World: A Calvin and Hobbes Collection",
         "marker": {
          "color": "#ab63fa"
         },
         "name": "It's a Magical World: A Calvin and Hobbes Collection",
         "offsetgroup": "It's a Magical World: A Calvin and Hobbes Collection",
         "orientation": "h",
         "showlegend": true,
         "textposition": "auto",
         "type": "bar",
         "x": [
          4.75
         ],
         "xaxis": "x",
         "y": [
          "It's a Magical World: A Calvin and Hobbes Collection"
         ],
         "yaxis": "y"
        },
        {
         "alignmentgroup": "True",
         "hovertemplate": "original_title=%{y}<br>average_rating=%{x}<extra></extra>",
         "legendgroup": "There's Treasure Everywhere: A Calvin and Hobbes Collection",
         "marker": {
          "color": "#FFA15A"
         },
         "name": "There's Treasure Everywhere: A Calvin and Hobbes Collection",
         "offsetgroup": "There's Treasure Everywhere: A Calvin and Hobbes Collection",
         "orientation": "h",
         "showlegend": true,
         "textposition": "auto",
         "type": "bar",
         "x": [
          4.74
         ],
         "xaxis": "x",
         "y": [
          "There's Treasure Everywhere: A Calvin and Hobbes Collection"
         ],
         "yaxis": "y"
        },
        {
         "alignmentgroup": "True",
         "hovertemplate": "original_title=%{y}<br>average_rating=%{x}<extra></extra>",
         "legendgroup": "Complete Harry Potter Boxed Set",
         "marker": {
          "color": "#19d3f3"
         },
         "name": "Complete Harry Potter Boxed Set",
         "offsetgroup": "Complete Harry Potter Boxed Set",
         "orientation": "h",
         "showlegend": true,
         "textposition": "auto",
         "type": "bar",
         "x": [
          4.74
         ],
         "xaxis": "x",
         "y": [
          "Complete Harry Potter Boxed Set"
         ],
         "yaxis": "y"
        },
        {
         "alignmentgroup": "True",
         "hovertemplate": "original_title=%{y}<br>average_rating=%{x}<extra></extra>",
         "legendgroup": "Harry Potter Collection (Harry Potter, #1-6)",
         "marker": {
          "color": "#FF6692"
         },
         "name": "Harry Potter Collection (Harry Potter, #1-6)",
         "offsetgroup": "Harry Potter Collection (Harry Potter, #1-6)",
         "orientation": "h",
         "showlegend": true,
         "textposition": "auto",
         "type": "bar",
         "x": [
          4.73
         ],
         "xaxis": "x",
         "y": [
          "Harry Potter Collection (Harry Potter, #1-6)"
         ],
         "yaxis": "y"
        },
        {
         "alignmentgroup": "True",
         "hovertemplate": "original_title=%{y}<br>average_rating=%{x}<extra></extra>",
         "legendgroup": "The Indispensable Calvin and Hobbes: A Calvin and Hobbes Treasury",
         "marker": {
          "color": "#B6E880"
         },
         "name": "The Indispensable Calvin and Hobbes: A Calvin and Hobbes Treasury",
         "offsetgroup": "The Indispensable Calvin and Hobbes: A Calvin and Hobbes Treasury",
         "orientation": "h",
         "showlegend": true,
         "textposition": "auto",
         "type": "bar",
         "x": [
          4.73
         ],
         "xaxis": "x",
         "y": [
          "The Indispensable Calvin and Hobbes: A Calvin and Hobbes Treasury"
         ],
         "yaxis": "y"
        },
        {
         "alignmentgroup": "True",
         "hovertemplate": "original_title=%{y}<br>average_rating=%{x}<extra></extra>",
         "legendgroup": "The Authoritative Calvin and Hobbes",
         "marker": {
          "color": "#FF97FF"
         },
         "name": "The Authoritative Calvin and Hobbes",
         "offsetgroup": "The Authoritative Calvin and Hobbes",
         "orientation": "h",
         "showlegend": true,
         "textposition": "auto",
         "type": "bar",
         "x": [
          4.73
         ],
         "xaxis": "x",
         "y": [
          "The Authoritative Calvin and Hobbes"
         ],
         "yaxis": "y"
        },
        {
         "alignmentgroup": "True",
         "hovertemplate": "original_title=%{y}<br>average_rating=%{x}<extra></extra>",
         "legendgroup": "A Court of Mist and Fury",
         "marker": {
          "color": "#FECB52"
         },
         "name": "A Court of Mist and Fury",
         "offsetgroup": "A Court of Mist and Fury",
         "orientation": "h",
         "showlegend": true,
         "textposition": "auto",
         "type": "bar",
         "x": [
          4.72
         ],
         "xaxis": "x",
         "y": [
          "A Court of Mist and Fury"
         ],
         "yaxis": "y"
        },
        {
         "alignmentgroup": "True",
         "hovertemplate": "original_title=%{y}<br>average_rating=%{x}<extra></extra>",
         "legendgroup": "Attack of the Deranged Mutant Killer Monster Snow Goons: A Calvin and Hobbes Collection",
         "marker": {
          "color": "#636efa"
         },
         "name": "Attack of the Deranged Mutant Killer Monster Snow Goons: A Calvin and Hobbes Collection",
         "offsetgroup": "Attack of the Deranged Mutant Killer Monster Snow Goons: A Calvin and Hobbes Collection",
         "orientation": "h",
         "showlegend": true,
         "textposition": "auto",
         "type": "bar",
         "x": [
          4.72
         ],
         "xaxis": "x",
         "y": [
          "Attack of the Deranged Mutant Killer Monster Snow Goons: A Calvin and Hobbes Collection"
         ],
         "yaxis": "y"
        },
        {
         "alignmentgroup": "True",
         "hovertemplate": "original_title=%{y}<br>average_rating=%{x}<extra></extra>",
         "legendgroup": "Homicidal Psycho Jungle Cat: A Calvin and Hobbes Collection",
         "marker": {
          "color": "#EF553B"
         },
         "name": "Homicidal Psycho Jungle Cat: A Calvin and Hobbes Collection",
         "offsetgroup": "Homicidal Psycho Jungle Cat: A Calvin and Hobbes Collection",
         "orientation": "h",
         "showlegend": true,
         "textposition": "auto",
         "type": "bar",
         "x": [
          4.71
         ],
         "xaxis": "x",
         "y": [
          "Homicidal Psycho Jungle Cat: A Calvin and Hobbes Collection"
         ],
         "yaxis": "y"
        },
        {
         "alignmentgroup": "True",
         "hovertemplate": "original_title=%{y}<br>average_rating=%{x}<extra></extra>",
         "legendgroup": "The Days Are Just Packed: A Calvin and Hobbes Collection",
         "marker": {
          "color": "#00cc96"
         },
         "name": "The Days Are Just Packed: A Calvin and Hobbes Collection",
         "offsetgroup": "The Days Are Just Packed: A Calvin and Hobbes Collection",
         "orientation": "h",
         "showlegend": true,
         "textposition": "auto",
         "type": "bar",
         "x": [
          4.68
         ],
         "xaxis": "x",
         "y": [
          "The Days Are Just Packed: A Calvin and Hobbes Collection"
         ],
         "yaxis": "y"
        },
        {
         "alignmentgroup": "True",
         "hovertemplate": "original_title=%{y}<br>average_rating=%{x}<extra></extra>",
         "legendgroup": "The Way of Kings, Part 1",
         "marker": {
          "color": "#ab63fa"
         },
         "name": "The Way of Kings, Part 1",
         "offsetgroup": "The Way of Kings, Part 1",
         "orientation": "h",
         "showlegend": true,
         "textposition": "auto",
         "type": "bar",
         "x": [
          4.67
         ],
         "xaxis": "x",
         "y": [
          "The Way of Kings, Part 1"
         ],
         "yaxis": "y"
        },
        {
         "alignmentgroup": "True",
         "hovertemplate": "original_title=%{y}<br>average_rating=%{x}<extra></extra>",
         "legendgroup": "Harry Potter Boxed Set Books 1-4",
         "marker": {
          "color": "#FFA15A"
         },
         "name": "Harry Potter Boxed Set Books 1-4",
         "offsetgroup": "Harry Potter Boxed Set Books 1-4",
         "orientation": "h",
         "showlegend": true,
         "textposition": "auto",
         "type": "bar",
         "x": [
          4.66
         ],
         "xaxis": "x",
         "y": [
          "Harry Potter Boxed Set Books 1-4"
         ],
         "yaxis": "y"
        },
        {
         "alignmentgroup": "True",
         "hovertemplate": "original_title=%{y}<br>average_rating=%{x}<extra></extra>",
         "legendgroup": "The Calvin and Hobbes Lazy Sunday Book",
         "marker": {
          "color": "#19d3f3"
         },
         "name": "The Calvin and Hobbes Lazy Sunday Book",
         "offsetgroup": "The Calvin and Hobbes Lazy Sunday Book",
         "orientation": "h",
         "showlegend": true,
         "textposition": "auto",
         "type": "bar",
         "x": [
          4.66
         ],
         "xaxis": "x",
         "y": [
          "The Calvin and Hobbes Lazy Sunday Book"
         ],
         "yaxis": "y"
        },
        {
         "alignmentgroup": "True",
         "hovertemplate": "original_title=%{y}<br>average_rating=%{x}<extra></extra>",
         "legendgroup": "Holy Bible English Standard Version",
         "marker": {
          "color": "#FF6692"
         },
         "name": "Holy Bible English Standard Version",
         "offsetgroup": "Holy Bible English Standard Version",
         "orientation": "h",
         "showlegend": true,
         "textposition": "auto",
         "type": "bar",
         "x": [
          4.66
         ],
         "xaxis": "x",
         "y": [
          "Holy Bible English Standard Version"
         ],
         "yaxis": "y"
        },
        {
         "alignmentgroup": "True",
         "hovertemplate": "original_title=%{y}<br>average_rating=%{x}<extra></extra>",
         "legendgroup": "The Essential Calvin and Hobbes: A Calvin and Hobbes Treasury",
         "marker": {
          "color": "#B6E880"
         },
         "name": "The Essential Calvin and Hobbes: A Calvin and Hobbes Treasury",
         "offsetgroup": "The Essential Calvin and Hobbes: A Calvin and Hobbes Treasury",
         "orientation": "h",
         "showlegend": true,
         "textposition": "auto",
         "type": "bar",
         "x": [
          4.65
         ],
         "xaxis": "x",
         "y": [
          "The Essential Calvin and Hobbes: A Calvin and Hobbes Treasury"
         ],
         "yaxis": "y"
        },
        {
         "alignmentgroup": "True",
         "hovertemplate": "original_title=%{y}<br>average_rating=%{x}<extra></extra>",
         "legendgroup": "The Absolute Sandman, Volume One",
         "marker": {
          "color": "#FF97FF"
         },
         "name": "The Absolute Sandman, Volume One",
         "offsetgroup": "The Absolute Sandman, Volume One",
         "orientation": "h",
         "showlegend": true,
         "textposition": "auto",
         "type": "bar",
         "x": [
          4.65
         ],
         "xaxis": "x",
         "y": [
          "The Absolute Sandman, Volume One"
         ],
         "yaxis": "y"
        },
        {
         "alignmentgroup": "True",
         "hovertemplate": "original_title=%{y}<br>average_rating=%{x}<extra></extra>",
         "legendgroup": "A Song of Ice and Fire Graphic Novels",
         "marker": {
          "color": "#FECB52"
         },
         "name": "A Song of Ice and Fire Graphic Novels",
         "offsetgroup": "A Song of Ice and Fire Graphic Novels",
         "orientation": "h",
         "showlegend": true,
         "textposition": "auto",
         "type": "bar",
         "x": [
          4.65
         ],
         "xaxis": "x",
         "y": [
          "A Song of Ice and Fire Graphic Novels"
         ],
         "yaxis": "y"
        },
        {
         "alignmentgroup": "True",
         "hovertemplate": "original_title=%{y}<br>average_rating=%{x}<extra></extra>",
         "legendgroup": "The Way of Kings",
         "marker": {
          "color": "#636efa"
         },
         "name": "The Way of Kings",
         "offsetgroup": "The Way of Kings",
         "orientation": "h",
         "showlegend": true,
         "textposition": "auto",
         "type": "bar",
         "x": [
          4.64
         ],
         "xaxis": "x",
         "y": [
          "The Way of Kings"
         ],
         "yaxis": "y"
        },
        {
         "alignmentgroup": "True",
         "hovertemplate": "original_title=%{y}<br>average_rating=%{x}<extra></extra>",
         "legendgroup": "The Calvin and Hobbes Tenth Anniversary Book",
         "marker": {
          "color": "#EF553B"
         },
         "name": "The Calvin and Hobbes Tenth Anniversary Book",
         "offsetgroup": "The Calvin and Hobbes Tenth Anniversary Book",
         "orientation": "h",
         "showlegend": true,
         "textposition": "auto",
         "type": "bar",
         "x": [
          4.63
         ],
         "xaxis": "x",
         "y": [
          "The Calvin and Hobbes Tenth Anniversary Book"
         ],
         "yaxis": "y"
        },
        {
         "alignmentgroup": "True",
         "hovertemplate": "original_title=%{y}<br>average_rating=%{x}<extra></extra>",
         "legendgroup": "A Song of Ice and Fire",
         "marker": {
          "color": "#00cc96"
         },
         "name": "A Song of Ice and Fire",
         "offsetgroup": "A Song of Ice and Fire",
         "orientation": "h",
         "showlegend": true,
         "textposition": "auto",
         "type": "bar",
         "x": [
          4.63
         ],
         "xaxis": "x",
         "y": [
          "A Song of Ice and Fire"
         ],
         "yaxis": "y"
        },
        {
         "alignmentgroup": "True",
         "hovertemplate": "original_title=%{y}<br>average_rating=%{x}<extra></extra>",
         "legendgroup": "دیوان‎‎ [Dīvān]",
         "marker": {
          "color": "#ab63fa"
         },
         "name": "دیوان‎‎ [Dīvān]",
         "offsetgroup": "دیوان‎‎ [Dīvān]",
         "orientation": "h",
         "showlegend": true,
         "textposition": "auto",
         "type": "bar",
         "x": [
          4.63
         ],
         "xaxis": "x",
         "y": [
          "دیوان‎‎ [Dīvān]"
         ],
         "yaxis": "y"
        },
        {
         "alignmentgroup": "True",
         "hovertemplate": "original_title=%{y}<br>average_rating=%{x}<extra></extra>",
         "legendgroup": "The Hate U Give",
         "marker": {
          "color": "#FFA15A"
         },
         "name": "The Hate U Give",
         "offsetgroup": "The Hate U Give",
         "orientation": "h",
         "showlegend": true,
         "textposition": "auto",
         "type": "bar",
         "x": [
          4.62
         ],
         "xaxis": "x",
         "y": [
          "The Hate U Give"
         ],
         "yaxis": "y"
        }
       ],
       "layout": {
        "barmode": "relative",
        "height": 700,
        "legend": {
         "title": {
          "text": "original_title"
         },
         "tracegroupgap": 0
        },
        "template": {
         "data": {
          "bar": [
           {
            "error_x": {
             "color": "#2a3f5f"
            },
            "error_y": {
             "color": "#2a3f5f"
            },
            "marker": {
             "line": {
              "color": "#E5ECF6",
              "width": 0.5
             }
            },
            "type": "bar"
           }
          ],
          "barpolar": [
           {
            "marker": {
             "line": {
              "color": "#E5ECF6",
              "width": 0.5
             }
            },
            "type": "barpolar"
           }
          ],
          "carpet": [
           {
            "aaxis": {
             "endlinecolor": "#2a3f5f",
             "gridcolor": "white",
             "linecolor": "white",
             "minorgridcolor": "white",
             "startlinecolor": "#2a3f5f"
            },
            "baxis": {
             "endlinecolor": "#2a3f5f",
             "gridcolor": "white",
             "linecolor": "white",
             "minorgridcolor": "white",
             "startlinecolor": "#2a3f5f"
            },
            "type": "carpet"
           }
          ],
          "choropleth": [
           {
            "colorbar": {
             "outlinewidth": 0,
             "ticks": ""
            },
            "type": "choropleth"
           }
          ],
          "contour": [
           {
            "colorbar": {
             "outlinewidth": 0,
             "ticks": ""
            },
            "colorscale": [
             [
              0,
              "#0d0887"
             ],
             [
              0.1111111111111111,
              "#46039f"
             ],
             [
              0.2222222222222222,
              "#7201a8"
             ],
             [
              0.3333333333333333,
              "#9c179e"
             ],
             [
              0.4444444444444444,
              "#bd3786"
             ],
             [
              0.5555555555555556,
              "#d8576b"
             ],
             [
              0.6666666666666666,
              "#ed7953"
             ],
             [
              0.7777777777777778,
              "#fb9f3a"
             ],
             [
              0.8888888888888888,
              "#fdca26"
             ],
             [
              1,
              "#f0f921"
             ]
            ],
            "type": "contour"
           }
          ],
          "contourcarpet": [
           {
            "colorbar": {
             "outlinewidth": 0,
             "ticks": ""
            },
            "type": "contourcarpet"
           }
          ],
          "heatmap": [
           {
            "colorbar": {
             "outlinewidth": 0,
             "ticks": ""
            },
            "colorscale": [
             [
              0,
              "#0d0887"
             ],
             [
              0.1111111111111111,
              "#46039f"
             ],
             [
              0.2222222222222222,
              "#7201a8"
             ],
             [
              0.3333333333333333,
              "#9c179e"
             ],
             [
              0.4444444444444444,
              "#bd3786"
             ],
             [
              0.5555555555555556,
              "#d8576b"
             ],
             [
              0.6666666666666666,
              "#ed7953"
             ],
             [
              0.7777777777777778,
              "#fb9f3a"
             ],
             [
              0.8888888888888888,
              "#fdca26"
             ],
             [
              1,
              "#f0f921"
             ]
            ],
            "type": "heatmap"
           }
          ],
          "heatmapgl": [
           {
            "colorbar": {
             "outlinewidth": 0,
             "ticks": ""
            },
            "colorscale": [
             [
              0,
              "#0d0887"
             ],
             [
              0.1111111111111111,
              "#46039f"
             ],
             [
              0.2222222222222222,
              "#7201a8"
             ],
             [
              0.3333333333333333,
              "#9c179e"
             ],
             [
              0.4444444444444444,
              "#bd3786"
             ],
             [
              0.5555555555555556,
              "#d8576b"
             ],
             [
              0.6666666666666666,
              "#ed7953"
             ],
             [
              0.7777777777777778,
              "#fb9f3a"
             ],
             [
              0.8888888888888888,
              "#fdca26"
             ],
             [
              1,
              "#f0f921"
             ]
            ],
            "type": "heatmapgl"
           }
          ],
          "histogram": [
           {
            "marker": {
             "colorbar": {
              "outlinewidth": 0,
              "ticks": ""
             }
            },
            "type": "histogram"
           }
          ],
          "histogram2d": [
           {
            "colorbar": {
             "outlinewidth": 0,
             "ticks": ""
            },
            "colorscale": [
             [
              0,
              "#0d0887"
             ],
             [
              0.1111111111111111,
              "#46039f"
             ],
             [
              0.2222222222222222,
              "#7201a8"
             ],
             [
              0.3333333333333333,
              "#9c179e"
             ],
             [
              0.4444444444444444,
              "#bd3786"
             ],
             [
              0.5555555555555556,
              "#d8576b"
             ],
             [
              0.6666666666666666,
              "#ed7953"
             ],
             [
              0.7777777777777778,
              "#fb9f3a"
             ],
             [
              0.8888888888888888,
              "#fdca26"
             ],
             [
              1,
              "#f0f921"
             ]
            ],
            "type": "histogram2d"
           }
          ],
          "histogram2dcontour": [
           {
            "colorbar": {
             "outlinewidth": 0,
             "ticks": ""
            },
            "colorscale": [
             [
              0,
              "#0d0887"
             ],
             [
              0.1111111111111111,
              "#46039f"
             ],
             [
              0.2222222222222222,
              "#7201a8"
             ],
             [
              0.3333333333333333,
              "#9c179e"
             ],
             [
              0.4444444444444444,
              "#bd3786"
             ],
             [
              0.5555555555555556,
              "#d8576b"
             ],
             [
              0.6666666666666666,
              "#ed7953"
             ],
             [
              0.7777777777777778,
              "#fb9f3a"
             ],
             [
              0.8888888888888888,
              "#fdca26"
             ],
             [
              1,
              "#f0f921"
             ]
            ],
            "type": "histogram2dcontour"
           }
          ],
          "mesh3d": [
           {
            "colorbar": {
             "outlinewidth": 0,
             "ticks": ""
            },
            "type": "mesh3d"
           }
          ],
          "parcoords": [
           {
            "line": {
             "colorbar": {
              "outlinewidth": 0,
              "ticks": ""
             }
            },
            "type": "parcoords"
           }
          ],
          "pie": [
           {
            "automargin": true,
            "type": "pie"
           }
          ],
          "scatter": [
           {
            "marker": {
             "colorbar": {
              "outlinewidth": 0,
              "ticks": ""
             }
            },
            "type": "scatter"
           }
          ],
          "scatter3d": [
           {
            "line": {
             "colorbar": {
              "outlinewidth": 0,
              "ticks": ""
             }
            },
            "marker": {
             "colorbar": {
              "outlinewidth": 0,
              "ticks": ""
             }
            },
            "type": "scatter3d"
           }
          ],
          "scattercarpet": [
           {
            "marker": {
             "colorbar": {
              "outlinewidth": 0,
              "ticks": ""
             }
            },
            "type": "scattercarpet"
           }
          ],
          "scattergeo": [
           {
            "marker": {
             "colorbar": {
              "outlinewidth": 0,
              "ticks": ""
             }
            },
            "type": "scattergeo"
           }
          ],
          "scattergl": [
           {
            "marker": {
             "colorbar": {
              "outlinewidth": 0,
              "ticks": ""
             }
            },
            "type": "scattergl"
           }
          ],
          "scattermapbox": [
           {
            "marker": {
             "colorbar": {
              "outlinewidth": 0,
              "ticks": ""
             }
            },
            "type": "scattermapbox"
           }
          ],
          "scatterpolar": [
           {
            "marker": {
             "colorbar": {
              "outlinewidth": 0,
              "ticks": ""
             }
            },
            "type": "scatterpolar"
           }
          ],
          "scatterpolargl": [
           {
            "marker": {
             "colorbar": {
              "outlinewidth": 0,
              "ticks": ""
             }
            },
            "type": "scatterpolargl"
           }
          ],
          "scatterternary": [
           {
            "marker": {
             "colorbar": {
              "outlinewidth": 0,
              "ticks": ""
             }
            },
            "type": "scatterternary"
           }
          ],
          "surface": [
           {
            "colorbar": {
             "outlinewidth": 0,
             "ticks": ""
            },
            "colorscale": [
             [
              0,
              "#0d0887"
             ],
             [
              0.1111111111111111,
              "#46039f"
             ],
             [
              0.2222222222222222,
              "#7201a8"
             ],
             [
              0.3333333333333333,
              "#9c179e"
             ],
             [
              0.4444444444444444,
              "#bd3786"
             ],
             [
              0.5555555555555556,
              "#d8576b"
             ],
             [
              0.6666666666666666,
              "#ed7953"
             ],
             [
              0.7777777777777778,
              "#fb9f3a"
             ],
             [
              0.8888888888888888,
              "#fdca26"
             ],
             [
              1,
              "#f0f921"
             ]
            ],
            "type": "surface"
           }
          ],
          "table": [
           {
            "cells": {
             "fill": {
              "color": "#EBF0F8"
             },
             "line": {
              "color": "white"
             }
            },
            "header": {
             "fill": {
              "color": "#C8D4E3"
             },
             "line": {
              "color": "white"
             }
            },
            "type": "table"
           }
          ]
         },
         "layout": {
          "annotationdefaults": {
           "arrowcolor": "#2a3f5f",
           "arrowhead": 0,
           "arrowwidth": 1
          },
          "coloraxis": {
           "colorbar": {
            "outlinewidth": 0,
            "ticks": ""
           }
          },
          "colorscale": {
           "diverging": [
            [
             0,
             "#8e0152"
            ],
            [
             0.1,
             "#c51b7d"
            ],
            [
             0.2,
             "#de77ae"
            ],
            [
             0.3,
             "#f1b6da"
            ],
            [
             0.4,
             "#fde0ef"
            ],
            [
             0.5,
             "#f7f7f7"
            ],
            [
             0.6,
             "#e6f5d0"
            ],
            [
             0.7,
             "#b8e186"
            ],
            [
             0.8,
             "#7fbc41"
            ],
            [
             0.9,
             "#4d9221"
            ],
            [
             1,
             "#276419"
            ]
           ],
           "sequential": [
            [
             0,
             "#0d0887"
            ],
            [
             0.1111111111111111,
             "#46039f"
            ],
            [
             0.2222222222222222,
             "#7201a8"
            ],
            [
             0.3333333333333333,
             "#9c179e"
            ],
            [
             0.4444444444444444,
             "#bd3786"
            ],
            [
             0.5555555555555556,
             "#d8576b"
            ],
            [
             0.6666666666666666,
             "#ed7953"
            ],
            [
             0.7777777777777778,
             "#fb9f3a"
            ],
            [
             0.8888888888888888,
             "#fdca26"
            ],
            [
             1,
             "#f0f921"
            ]
           ],
           "sequentialminus": [
            [
             0,
             "#0d0887"
            ],
            [
             0.1111111111111111,
             "#46039f"
            ],
            [
             0.2222222222222222,
             "#7201a8"
            ],
            [
             0.3333333333333333,
             "#9c179e"
            ],
            [
             0.4444444444444444,
             "#bd3786"
            ],
            [
             0.5555555555555556,
             "#d8576b"
            ],
            [
             0.6666666666666666,
             "#ed7953"
            ],
            [
             0.7777777777777778,
             "#fb9f3a"
            ],
            [
             0.8888888888888888,
             "#fdca26"
            ],
            [
             1,
             "#f0f921"
            ]
           ]
          },
          "colorway": [
           "#636efa",
           "#EF553B",
           "#00cc96",
           "#ab63fa",
           "#FFA15A",
           "#19d3f3",
           "#FF6692",
           "#B6E880",
           "#FF97FF",
           "#FECB52"
          ],
          "font": {
           "color": "#2a3f5f"
          },
          "geo": {
           "bgcolor": "white",
           "lakecolor": "white",
           "landcolor": "#E5ECF6",
           "showlakes": true,
           "showland": true,
           "subunitcolor": "white"
          },
          "hoverlabel": {
           "align": "left"
          },
          "hovermode": "closest",
          "mapbox": {
           "style": "light"
          },
          "paper_bgcolor": "white",
          "plot_bgcolor": "#E5ECF6",
          "polar": {
           "angularaxis": {
            "gridcolor": "white",
            "linecolor": "white",
            "ticks": ""
           },
           "bgcolor": "#E5ECF6",
           "radialaxis": {
            "gridcolor": "white",
            "linecolor": "white",
            "ticks": ""
           }
          },
          "scene": {
           "xaxis": {
            "backgroundcolor": "#E5ECF6",
            "gridcolor": "white",
            "gridwidth": 2,
            "linecolor": "white",
            "showbackground": true,
            "ticks": "",
            "zerolinecolor": "white"
           },
           "yaxis": {
            "backgroundcolor": "#E5ECF6",
            "gridcolor": "white",
            "gridwidth": 2,
            "linecolor": "white",
            "showbackground": true,
            "ticks": "",
            "zerolinecolor": "white"
           },
           "zaxis": {
            "backgroundcolor": "#E5ECF6",
            "gridcolor": "white",
            "gridwidth": 2,
            "linecolor": "white",
            "showbackground": true,
            "ticks": "",
            "zerolinecolor": "white"
           }
          },
          "shapedefaults": {
           "line": {
            "color": "#2a3f5f"
           }
          },
          "ternary": {
           "aaxis": {
            "gridcolor": "white",
            "linecolor": "white",
            "ticks": ""
           },
           "baxis": {
            "gridcolor": "white",
            "linecolor": "white",
            "ticks": ""
           },
           "bgcolor": "#E5ECF6",
           "caxis": {
            "gridcolor": "white",
            "linecolor": "white",
            "ticks": ""
           }
          },
          "title": {
           "x": 0.05
          },
          "xaxis": {
           "automargin": true,
           "gridcolor": "white",
           "linecolor": "white",
           "ticks": "",
           "title": {
            "standoff": 15
           },
           "zerolinecolor": "white",
           "zerolinewidth": 2
          },
          "yaxis": {
           "automargin": true,
           "gridcolor": "white",
           "linecolor": "white",
           "ticks": "",
           "title": {
            "standoff": 15
           },
           "zerolinecolor": "white",
           "zerolinewidth": 2
          }
         }
        },
        "title": {
         "text": "Top Rated Books and Their Ratings"
        },
        "width": 1500,
        "xaxis": {
         "anchor": "y",
         "domain": [
          0,
          1
         ],
         "title": {
          "text": "average_rating"
         }
        },
        "yaxis": {
         "anchor": "x",
         "categoryarray": [
          "The Hate U Give",
          "دیوان‎‎ [Dīvān]",
          "A Song of Ice and Fire",
          "The Calvin and Hobbes Tenth Anniversary Book",
          "The Way of Kings",
          "A Song of Ice and Fire Graphic Novels",
          "The Absolute Sandman, Volume One",
          "The Essential Calvin and Hobbes: A Calvin and Hobbes Treasury",
          "Holy Bible English Standard Version",
          "The Calvin and Hobbes Lazy Sunday Book",
          "Harry Potter Boxed Set Books 1-4",
          "The Way of Kings, Part 1",
          "The Days Are Just Packed: A Calvin and Hobbes Collection",
          "Homicidal Psycho Jungle Cat: A Calvin and Hobbes Collection",
          "Attack of the Deranged Mutant Killer Monster Snow Goons: A Calvin and Hobbes Collection",
          "A Court of Mist and Fury",
          "The Authoritative Calvin and Hobbes",
          "The Indispensable Calvin and Hobbes: A Calvin and Hobbes Treasury",
          "Harry Potter Collection (Harry Potter, #1-6)",
          "Complete Harry Potter Boxed Set",
          "There's Treasure Everywhere: A Calvin and Hobbes Collection",
          "It's a Magical World: A Calvin and Hobbes Collection",
          "Mark of the Lion Trilogy",
          "Words of Radiance",
          "The Complete Calvin and Hobbes"
         ],
         "categoryorder": "array",
         "domain": [
          0,
          1
         ],
         "title": {
          "text": "original_title"
         }
        }
       }
      },
      "text/html": [
       "<div>                            <div id=\"df5d3496-3786-4580-9695-9666b43a48e2\" class=\"plotly-graph-div\" style=\"height:700px; width:1500px;\"></div>            <script type=\"text/javascript\">                require([\"plotly\"], function(Plotly) {                    window.PLOTLYENV=window.PLOTLYENV || {};                                    if (document.getElementById(\"df5d3496-3786-4580-9695-9666b43a48e2\")) {                    Plotly.newPlot(                        \"df5d3496-3786-4580-9695-9666b43a48e2\",                        [{\"alignmentgroup\": \"True\", \"hovertemplate\": \"original_title=%{y}<br>average_rating=%{x}<extra></extra>\", \"legendgroup\": \"The Complete Calvin and Hobbes\", \"marker\": {\"color\": \"#636efa\"}, \"name\": \"The Complete Calvin and Hobbes\", \"offsetgroup\": \"The Complete Calvin and Hobbes\", \"orientation\": \"h\", \"showlegend\": true, \"textposition\": \"auto\", \"type\": \"bar\", \"x\": [4.82], \"xaxis\": \"x\", \"y\": [\"The Complete Calvin and Hobbes\"], \"yaxis\": \"y\"}, {\"alignmentgroup\": \"True\", \"hovertemplate\": \"original_title=%{y}<br>average_rating=%{x}<extra></extra>\", \"legendgroup\": \"Words of Radiance\", \"marker\": {\"color\": \"#EF553B\"}, \"name\": \"Words of Radiance\", \"offsetgroup\": \"Words of Radiance\", \"orientation\": \"h\", \"showlegend\": true, \"textposition\": \"auto\", \"type\": \"bar\", \"x\": [4.77], \"xaxis\": \"x\", \"y\": [\"Words of Radiance\"], \"yaxis\": \"y\"}, {\"alignmentgroup\": \"True\", \"hovertemplate\": \"original_title=%{y}<br>average_rating=%{x}<extra></extra>\", \"legendgroup\": \"Mark of the Lion Trilogy\", \"marker\": {\"color\": \"#00cc96\"}, \"name\": \"Mark of the Lion Trilogy\", \"offsetgroup\": \"Mark of the Lion Trilogy\", \"orientation\": \"h\", \"showlegend\": true, \"textposition\": \"auto\", \"type\": \"bar\", \"x\": [4.76], \"xaxis\": \"x\", \"y\": [\"Mark of the Lion Trilogy\"], \"yaxis\": \"y\"}, {\"alignmentgroup\": \"True\", \"hovertemplate\": \"original_title=%{y}<br>average_rating=%{x}<extra></extra>\", \"legendgroup\": \"It's a Magical World: A Calvin and Hobbes Collection\", \"marker\": {\"color\": \"#ab63fa\"}, \"name\": \"It's a Magical World: A Calvin and Hobbes Collection\", \"offsetgroup\": \"It's a Magical World: A Calvin and Hobbes Collection\", \"orientation\": \"h\", \"showlegend\": true, \"textposition\": \"auto\", \"type\": \"bar\", \"x\": [4.75], \"xaxis\": \"x\", \"y\": [\"It's a Magical World: A Calvin and Hobbes Collection\"], \"yaxis\": \"y\"}, {\"alignmentgroup\": \"True\", \"hovertemplate\": \"original_title=%{y}<br>average_rating=%{x}<extra></extra>\", \"legendgroup\": \"There's Treasure Everywhere: A Calvin and Hobbes Collection\", \"marker\": {\"color\": \"#FFA15A\"}, \"name\": \"There's Treasure Everywhere: A Calvin and Hobbes Collection\", \"offsetgroup\": \"There's Treasure Everywhere: A Calvin and Hobbes Collection\", \"orientation\": \"h\", \"showlegend\": true, \"textposition\": \"auto\", \"type\": \"bar\", \"x\": [4.74], \"xaxis\": \"x\", \"y\": [\"There's Treasure Everywhere: A Calvin and Hobbes Collection\"], \"yaxis\": \"y\"}, {\"alignmentgroup\": \"True\", \"hovertemplate\": \"original_title=%{y}<br>average_rating=%{x}<extra></extra>\", \"legendgroup\": \"Complete Harry Potter Boxed Set\", \"marker\": {\"color\": \"#19d3f3\"}, \"name\": \"Complete Harry Potter Boxed Set\", \"offsetgroup\": \"Complete Harry Potter Boxed Set\", \"orientation\": \"h\", \"showlegend\": true, \"textposition\": \"auto\", \"type\": \"bar\", \"x\": [4.74], \"xaxis\": \"x\", \"y\": [\"Complete Harry Potter Boxed Set\"], \"yaxis\": \"y\"}, {\"alignmentgroup\": \"True\", \"hovertemplate\": \"original_title=%{y}<br>average_rating=%{x}<extra></extra>\", \"legendgroup\": \"Harry Potter Collection (Harry Potter, #1-6)\", \"marker\": {\"color\": \"#FF6692\"}, \"name\": \"Harry Potter Collection (Harry Potter, #1-6)\", \"offsetgroup\": \"Harry Potter Collection (Harry Potter, #1-6)\", \"orientation\": \"h\", \"showlegend\": true, \"textposition\": \"auto\", \"type\": \"bar\", \"x\": [4.73], \"xaxis\": \"x\", \"y\": [\"Harry Potter Collection (Harry Potter, #1-6)\"], \"yaxis\": \"y\"}, {\"alignmentgroup\": \"True\", \"hovertemplate\": \"original_title=%{y}<br>average_rating=%{x}<extra></extra>\", \"legendgroup\": \"The Indispensable Calvin and Hobbes: A Calvin and Hobbes Treasury\", \"marker\": {\"color\": \"#B6E880\"}, \"name\": \"The Indispensable Calvin and Hobbes: A Calvin and Hobbes Treasury\", \"offsetgroup\": \"The Indispensable Calvin and Hobbes: A Calvin and Hobbes Treasury\", \"orientation\": \"h\", \"showlegend\": true, \"textposition\": \"auto\", \"type\": \"bar\", \"x\": [4.73], \"xaxis\": \"x\", \"y\": [\"The Indispensable Calvin and Hobbes: A Calvin and Hobbes Treasury\"], \"yaxis\": \"y\"}, {\"alignmentgroup\": \"True\", \"hovertemplate\": \"original_title=%{y}<br>average_rating=%{x}<extra></extra>\", \"legendgroup\": \"The Authoritative Calvin and Hobbes\", \"marker\": {\"color\": \"#FF97FF\"}, \"name\": \"The Authoritative Calvin and Hobbes\", \"offsetgroup\": \"The Authoritative Calvin and Hobbes\", \"orientation\": \"h\", \"showlegend\": true, \"textposition\": \"auto\", \"type\": \"bar\", \"x\": [4.73], \"xaxis\": \"x\", \"y\": [\"The Authoritative Calvin and Hobbes\"], \"yaxis\": \"y\"}, {\"alignmentgroup\": \"True\", \"hovertemplate\": \"original_title=%{y}<br>average_rating=%{x}<extra></extra>\", \"legendgroup\": \"A Court of Mist and Fury\", \"marker\": {\"color\": \"#FECB52\"}, \"name\": \"A Court of Mist and Fury\", \"offsetgroup\": \"A Court of Mist and Fury\", \"orientation\": \"h\", \"showlegend\": true, \"textposition\": \"auto\", \"type\": \"bar\", \"x\": [4.72], \"xaxis\": \"x\", \"y\": [\"A Court of Mist and Fury\"], \"yaxis\": \"y\"}, {\"alignmentgroup\": \"True\", \"hovertemplate\": \"original_title=%{y}<br>average_rating=%{x}<extra></extra>\", \"legendgroup\": \"Attack of the Deranged Mutant Killer Monster Snow Goons: A Calvin and Hobbes Collection\", \"marker\": {\"color\": \"#636efa\"}, \"name\": \"Attack of the Deranged Mutant Killer Monster Snow Goons: A Calvin and Hobbes Collection\", \"offsetgroup\": \"Attack of the Deranged Mutant Killer Monster Snow Goons: A Calvin and Hobbes Collection\", \"orientation\": \"h\", \"showlegend\": true, \"textposition\": \"auto\", \"type\": \"bar\", \"x\": [4.72], \"xaxis\": \"x\", \"y\": [\"Attack of the Deranged Mutant Killer Monster Snow Goons: A Calvin and Hobbes Collection\"], \"yaxis\": \"y\"}, {\"alignmentgroup\": \"True\", \"hovertemplate\": \"original_title=%{y}<br>average_rating=%{x}<extra></extra>\", \"legendgroup\": \"Homicidal Psycho Jungle Cat: A Calvin and Hobbes Collection\", \"marker\": {\"color\": \"#EF553B\"}, \"name\": \"Homicidal Psycho Jungle Cat: A Calvin and Hobbes Collection\", \"offsetgroup\": \"Homicidal Psycho Jungle Cat: A Calvin and Hobbes Collection\", \"orientation\": \"h\", \"showlegend\": true, \"textposition\": \"auto\", \"type\": \"bar\", \"x\": [4.71], \"xaxis\": \"x\", \"y\": [\"Homicidal Psycho Jungle Cat: A Calvin and Hobbes Collection\"], \"yaxis\": \"y\"}, {\"alignmentgroup\": \"True\", \"hovertemplate\": \"original_title=%{y}<br>average_rating=%{x}<extra></extra>\", \"legendgroup\": \"The Days Are Just Packed: A Calvin and Hobbes Collection\", \"marker\": {\"color\": \"#00cc96\"}, \"name\": \"The Days Are Just Packed: A Calvin and Hobbes Collection\", \"offsetgroup\": \"The Days Are Just Packed: A Calvin and Hobbes Collection\", \"orientation\": \"h\", \"showlegend\": true, \"textposition\": \"auto\", \"type\": \"bar\", \"x\": [4.68], \"xaxis\": \"x\", \"y\": [\"The Days Are Just Packed: A Calvin and Hobbes Collection\"], \"yaxis\": \"y\"}, {\"alignmentgroup\": \"True\", \"hovertemplate\": \"original_title=%{y}<br>average_rating=%{x}<extra></extra>\", \"legendgroup\": \"The Way of Kings, Part 1\", \"marker\": {\"color\": \"#ab63fa\"}, \"name\": \"The Way of Kings, Part 1\", \"offsetgroup\": \"The Way of Kings, Part 1\", \"orientation\": \"h\", \"showlegend\": true, \"textposition\": \"auto\", \"type\": \"bar\", \"x\": [4.67], \"xaxis\": \"x\", \"y\": [\"The Way of Kings, Part 1\"], \"yaxis\": \"y\"}, {\"alignmentgroup\": \"True\", \"hovertemplate\": \"original_title=%{y}<br>average_rating=%{x}<extra></extra>\", \"legendgroup\": \"Harry Potter Boxed Set Books 1-4\", \"marker\": {\"color\": \"#FFA15A\"}, \"name\": \"Harry Potter Boxed Set Books 1-4\", \"offsetgroup\": \"Harry Potter Boxed Set Books 1-4\", \"orientation\": \"h\", \"showlegend\": true, \"textposition\": \"auto\", \"type\": \"bar\", \"x\": [4.66], \"xaxis\": \"x\", \"y\": [\"Harry Potter Boxed Set Books 1-4\"], \"yaxis\": \"y\"}, {\"alignmentgroup\": \"True\", \"hovertemplate\": \"original_title=%{y}<br>average_rating=%{x}<extra></extra>\", \"legendgroup\": \"The Calvin and Hobbes Lazy Sunday Book\", \"marker\": {\"color\": \"#19d3f3\"}, \"name\": \"The Calvin and Hobbes Lazy Sunday Book\", \"offsetgroup\": \"The Calvin and Hobbes Lazy Sunday Book\", \"orientation\": \"h\", \"showlegend\": true, \"textposition\": \"auto\", \"type\": \"bar\", \"x\": [4.66], \"xaxis\": \"x\", \"y\": [\"The Calvin and Hobbes Lazy Sunday Book\"], \"yaxis\": \"y\"}, {\"alignmentgroup\": \"True\", \"hovertemplate\": \"original_title=%{y}<br>average_rating=%{x}<extra></extra>\", \"legendgroup\": \"Holy Bible English Standard Version\", \"marker\": {\"color\": \"#FF6692\"}, \"name\": \"Holy Bible English Standard Version\", \"offsetgroup\": \"Holy Bible English Standard Version\", \"orientation\": \"h\", \"showlegend\": true, \"textposition\": \"auto\", \"type\": \"bar\", \"x\": [4.66], \"xaxis\": \"x\", \"y\": [\"Holy Bible English Standard Version\"], \"yaxis\": \"y\"}, {\"alignmentgroup\": \"True\", \"hovertemplate\": \"original_title=%{y}<br>average_rating=%{x}<extra></extra>\", \"legendgroup\": \"The Essential Calvin and Hobbes: A Calvin and Hobbes Treasury\", \"marker\": {\"color\": \"#B6E880\"}, \"name\": \"The Essential Calvin and Hobbes: A Calvin and Hobbes Treasury\", \"offsetgroup\": \"The Essential Calvin and Hobbes: A Calvin and Hobbes Treasury\", \"orientation\": \"h\", \"showlegend\": true, \"textposition\": \"auto\", \"type\": \"bar\", \"x\": [4.65], \"xaxis\": \"x\", \"y\": [\"The Essential Calvin and Hobbes: A Calvin and Hobbes Treasury\"], \"yaxis\": \"y\"}, {\"alignmentgroup\": \"True\", \"hovertemplate\": \"original_title=%{y}<br>average_rating=%{x}<extra></extra>\", \"legendgroup\": \"The Absolute Sandman, Volume One\", \"marker\": {\"color\": \"#FF97FF\"}, \"name\": \"The Absolute Sandman, Volume One\", \"offsetgroup\": \"The Absolute Sandman, Volume One\", \"orientation\": \"h\", \"showlegend\": true, \"textposition\": \"auto\", \"type\": \"bar\", \"x\": [4.65], \"xaxis\": \"x\", \"y\": [\"The Absolute Sandman, Volume One\"], \"yaxis\": \"y\"}, {\"alignmentgroup\": \"True\", \"hovertemplate\": \"original_title=%{y}<br>average_rating=%{x}<extra></extra>\", \"legendgroup\": \"A Song of Ice and Fire Graphic Novels\", \"marker\": {\"color\": \"#FECB52\"}, \"name\": \"A Song of Ice and Fire Graphic Novels\", \"offsetgroup\": \"A Song of Ice and Fire Graphic Novels\", \"orientation\": \"h\", \"showlegend\": true, \"textposition\": \"auto\", \"type\": \"bar\", \"x\": [4.65], \"xaxis\": \"x\", \"y\": [\"A Song of Ice and Fire Graphic Novels\"], \"yaxis\": \"y\"}, {\"alignmentgroup\": \"True\", \"hovertemplate\": \"original_title=%{y}<br>average_rating=%{x}<extra></extra>\", \"legendgroup\": \"The Way of Kings\", \"marker\": {\"color\": \"#636efa\"}, \"name\": \"The Way of Kings\", \"offsetgroup\": \"The Way of Kings\", \"orientation\": \"h\", \"showlegend\": true, \"textposition\": \"auto\", \"type\": \"bar\", \"x\": [4.64], \"xaxis\": \"x\", \"y\": [\"The Way of Kings\"], \"yaxis\": \"y\"}, {\"alignmentgroup\": \"True\", \"hovertemplate\": \"original_title=%{y}<br>average_rating=%{x}<extra></extra>\", \"legendgroup\": \"The Calvin and Hobbes Tenth Anniversary Book\", \"marker\": {\"color\": \"#EF553B\"}, \"name\": \"The Calvin and Hobbes Tenth Anniversary Book\", \"offsetgroup\": \"The Calvin and Hobbes Tenth Anniversary Book\", \"orientation\": \"h\", \"showlegend\": true, \"textposition\": \"auto\", \"type\": \"bar\", \"x\": [4.63], \"xaxis\": \"x\", \"y\": [\"The Calvin and Hobbes Tenth Anniversary Book\"], \"yaxis\": \"y\"}, {\"alignmentgroup\": \"True\", \"hovertemplate\": \"original_title=%{y}<br>average_rating=%{x}<extra></extra>\", \"legendgroup\": \"A Song of Ice and Fire\", \"marker\": {\"color\": \"#00cc96\"}, \"name\": \"A Song of Ice and Fire\", \"offsetgroup\": \"A Song of Ice and Fire\", \"orientation\": \"h\", \"showlegend\": true, \"textposition\": \"auto\", \"type\": \"bar\", \"x\": [4.63], \"xaxis\": \"x\", \"y\": [\"A Song of Ice and Fire\"], \"yaxis\": \"y\"}, {\"alignmentgroup\": \"True\", \"hovertemplate\": \"original_title=%{y}<br>average_rating=%{x}<extra></extra>\", \"legendgroup\": \"\\u062f\\u06cc\\u0648\\u0627\\u0646\\u200e\\u200e [D\\u012bv\\u0101n]\", \"marker\": {\"color\": \"#ab63fa\"}, \"name\": \"\\u062f\\u06cc\\u0648\\u0627\\u0646\\u200e\\u200e [D\\u012bv\\u0101n]\", \"offsetgroup\": \"\\u062f\\u06cc\\u0648\\u0627\\u0646\\u200e\\u200e [D\\u012bv\\u0101n]\", \"orientation\": \"h\", \"showlegend\": true, \"textposition\": \"auto\", \"type\": \"bar\", \"x\": [4.63], \"xaxis\": \"x\", \"y\": [\"\\u062f\\u06cc\\u0648\\u0627\\u0646\\u200e\\u200e [D\\u012bv\\u0101n]\"], \"yaxis\": \"y\"}, {\"alignmentgroup\": \"True\", \"hovertemplate\": \"original_title=%{y}<br>average_rating=%{x}<extra></extra>\", \"legendgroup\": \"The Hate U Give\", \"marker\": {\"color\": \"#FFA15A\"}, \"name\": \"The Hate U Give\", \"offsetgroup\": \"The Hate U Give\", \"orientation\": \"h\", \"showlegend\": true, \"textposition\": \"auto\", \"type\": \"bar\", \"x\": [4.62], \"xaxis\": \"x\", \"y\": [\"The Hate U Give\"], \"yaxis\": \"y\"}],                        {\"barmode\": \"relative\", \"height\": 700, \"legend\": {\"title\": {\"text\": \"original_title\"}, \"tracegroupgap\": 0}, \"template\": {\"data\": {\"bar\": [{\"error_x\": {\"color\": \"#2a3f5f\"}, \"error_y\": {\"color\": \"#2a3f5f\"}, \"marker\": {\"line\": {\"color\": \"#E5ECF6\", \"width\": 0.5}}, \"type\": \"bar\"}], \"barpolar\": [{\"marker\": {\"line\": {\"color\": \"#E5ECF6\", \"width\": 0.5}}, \"type\": \"barpolar\"}], \"carpet\": [{\"aaxis\": {\"endlinecolor\": \"#2a3f5f\", \"gridcolor\": \"white\", \"linecolor\": \"white\", \"minorgridcolor\": \"white\", \"startlinecolor\": \"#2a3f5f\"}, \"baxis\": {\"endlinecolor\": \"#2a3f5f\", \"gridcolor\": \"white\", \"linecolor\": \"white\", \"minorgridcolor\": \"white\", \"startlinecolor\": \"#2a3f5f\"}, \"type\": \"carpet\"}], \"choropleth\": [{\"colorbar\": {\"outlinewidth\": 0, \"ticks\": \"\"}, \"type\": \"choropleth\"}], \"contour\": [{\"colorbar\": {\"outlinewidth\": 0, \"ticks\": \"\"}, \"colorscale\": [[0.0, \"#0d0887\"], [0.1111111111111111, \"#46039f\"], [0.2222222222222222, \"#7201a8\"], [0.3333333333333333, \"#9c179e\"], [0.4444444444444444, \"#bd3786\"], [0.5555555555555556, \"#d8576b\"], [0.6666666666666666, \"#ed7953\"], [0.7777777777777778, \"#fb9f3a\"], [0.8888888888888888, \"#fdca26\"], [1.0, \"#f0f921\"]], \"type\": \"contour\"}], \"contourcarpet\": [{\"colorbar\": {\"outlinewidth\": 0, \"ticks\": \"\"}, \"type\": \"contourcarpet\"}], \"heatmap\": [{\"colorbar\": {\"outlinewidth\": 0, \"ticks\": \"\"}, \"colorscale\": [[0.0, \"#0d0887\"], [0.1111111111111111, \"#46039f\"], [0.2222222222222222, \"#7201a8\"], [0.3333333333333333, \"#9c179e\"], [0.4444444444444444, \"#bd3786\"], [0.5555555555555556, \"#d8576b\"], [0.6666666666666666, \"#ed7953\"], [0.7777777777777778, \"#fb9f3a\"], [0.8888888888888888, \"#fdca26\"], [1.0, \"#f0f921\"]], \"type\": \"heatmap\"}], \"heatmapgl\": [{\"colorbar\": {\"outlinewidth\": 0, \"ticks\": \"\"}, \"colorscale\": [[0.0, \"#0d0887\"], [0.1111111111111111, \"#46039f\"], [0.2222222222222222, \"#7201a8\"], [0.3333333333333333, \"#9c179e\"], [0.4444444444444444, \"#bd3786\"], [0.5555555555555556, \"#d8576b\"], [0.6666666666666666, \"#ed7953\"], [0.7777777777777778, \"#fb9f3a\"], [0.8888888888888888, \"#fdca26\"], [1.0, \"#f0f921\"]], \"type\": \"heatmapgl\"}], \"histogram\": [{\"marker\": {\"colorbar\": {\"outlinewidth\": 0, \"ticks\": \"\"}}, \"type\": \"histogram\"}], \"histogram2d\": [{\"colorbar\": {\"outlinewidth\": 0, \"ticks\": \"\"}, \"colorscale\": [[0.0, \"#0d0887\"], [0.1111111111111111, \"#46039f\"], [0.2222222222222222, \"#7201a8\"], [0.3333333333333333, \"#9c179e\"], [0.4444444444444444, \"#bd3786\"], [0.5555555555555556, \"#d8576b\"], [0.6666666666666666, \"#ed7953\"], [0.7777777777777778, \"#fb9f3a\"], [0.8888888888888888, \"#fdca26\"], [1.0, \"#f0f921\"]], \"type\": \"histogram2d\"}], \"histogram2dcontour\": [{\"colorbar\": {\"outlinewidth\": 0, \"ticks\": \"\"}, \"colorscale\": [[0.0, \"#0d0887\"], [0.1111111111111111, \"#46039f\"], [0.2222222222222222, \"#7201a8\"], [0.3333333333333333, \"#9c179e\"], [0.4444444444444444, \"#bd3786\"], [0.5555555555555556, \"#d8576b\"], [0.6666666666666666, \"#ed7953\"], [0.7777777777777778, \"#fb9f3a\"], [0.8888888888888888, \"#fdca26\"], [1.0, \"#f0f921\"]], \"type\": \"histogram2dcontour\"}], \"mesh3d\": [{\"colorbar\": {\"outlinewidth\": 0, \"ticks\": \"\"}, \"type\": \"mesh3d\"}], \"parcoords\": [{\"line\": {\"colorbar\": {\"outlinewidth\": 0, \"ticks\": \"\"}}, \"type\": \"parcoords\"}], \"pie\": [{\"automargin\": true, \"type\": \"pie\"}], \"scatter\": [{\"marker\": {\"colorbar\": {\"outlinewidth\": 0, \"ticks\": \"\"}}, \"type\": \"scatter\"}], \"scatter3d\": [{\"line\": {\"colorbar\": {\"outlinewidth\": 0, \"ticks\": \"\"}}, \"marker\": {\"colorbar\": {\"outlinewidth\": 0, \"ticks\": \"\"}}, \"type\": \"scatter3d\"}], \"scattercarpet\": [{\"marker\": {\"colorbar\": {\"outlinewidth\": 0, \"ticks\": \"\"}}, \"type\": \"scattercarpet\"}], \"scattergeo\": [{\"marker\": {\"colorbar\": {\"outlinewidth\": 0, \"ticks\": \"\"}}, \"type\": \"scattergeo\"}], \"scattergl\": [{\"marker\": {\"colorbar\": {\"outlinewidth\": 0, \"ticks\": \"\"}}, \"type\": \"scattergl\"}], \"scattermapbox\": [{\"marker\": {\"colorbar\": {\"outlinewidth\": 0, \"ticks\": \"\"}}, \"type\": \"scattermapbox\"}], \"scatterpolar\": [{\"marker\": {\"colorbar\": {\"outlinewidth\": 0, \"ticks\": \"\"}}, \"type\": \"scatterpolar\"}], \"scatterpolargl\": [{\"marker\": {\"colorbar\": {\"outlinewidth\": 0, \"ticks\": \"\"}}, \"type\": \"scatterpolargl\"}], \"scatterternary\": [{\"marker\": {\"colorbar\": {\"outlinewidth\": 0, \"ticks\": \"\"}}, \"type\": \"scatterternary\"}], \"surface\": [{\"colorbar\": {\"outlinewidth\": 0, \"ticks\": \"\"}, \"colorscale\": [[0.0, \"#0d0887\"], [0.1111111111111111, \"#46039f\"], [0.2222222222222222, \"#7201a8\"], [0.3333333333333333, \"#9c179e\"], [0.4444444444444444, \"#bd3786\"], [0.5555555555555556, \"#d8576b\"], [0.6666666666666666, \"#ed7953\"], [0.7777777777777778, \"#fb9f3a\"], [0.8888888888888888, \"#fdca26\"], [1.0, \"#f0f921\"]], \"type\": \"surface\"}], \"table\": [{\"cells\": {\"fill\": {\"color\": \"#EBF0F8\"}, \"line\": {\"color\": \"white\"}}, \"header\": {\"fill\": {\"color\": \"#C8D4E3\"}, \"line\": {\"color\": \"white\"}}, \"type\": \"table\"}]}, \"layout\": {\"annotationdefaults\": {\"arrowcolor\": \"#2a3f5f\", \"arrowhead\": 0, \"arrowwidth\": 1}, \"coloraxis\": {\"colorbar\": {\"outlinewidth\": 0, \"ticks\": \"\"}}, \"colorscale\": {\"diverging\": [[0, \"#8e0152\"], [0.1, \"#c51b7d\"], [0.2, \"#de77ae\"], [0.3, \"#f1b6da\"], [0.4, \"#fde0ef\"], [0.5, \"#f7f7f7\"], [0.6, \"#e6f5d0\"], [0.7, \"#b8e186\"], [0.8, \"#7fbc41\"], [0.9, \"#4d9221\"], [1, \"#276419\"]], \"sequential\": [[0.0, \"#0d0887\"], [0.1111111111111111, \"#46039f\"], [0.2222222222222222, \"#7201a8\"], [0.3333333333333333, \"#9c179e\"], [0.4444444444444444, \"#bd3786\"], [0.5555555555555556, \"#d8576b\"], [0.6666666666666666, \"#ed7953\"], [0.7777777777777778, \"#fb9f3a\"], [0.8888888888888888, \"#fdca26\"], [1.0, \"#f0f921\"]], \"sequentialminus\": [[0.0, \"#0d0887\"], [0.1111111111111111, \"#46039f\"], [0.2222222222222222, \"#7201a8\"], [0.3333333333333333, \"#9c179e\"], [0.4444444444444444, \"#bd3786\"], [0.5555555555555556, \"#d8576b\"], [0.6666666666666666, \"#ed7953\"], [0.7777777777777778, \"#fb9f3a\"], [0.8888888888888888, \"#fdca26\"], [1.0, \"#f0f921\"]]}, \"colorway\": [\"#636efa\", \"#EF553B\", \"#00cc96\", \"#ab63fa\", \"#FFA15A\", \"#19d3f3\", \"#FF6692\", \"#B6E880\", \"#FF97FF\", \"#FECB52\"], \"font\": {\"color\": \"#2a3f5f\"}, \"geo\": {\"bgcolor\": \"white\", \"lakecolor\": \"white\", \"landcolor\": \"#E5ECF6\", \"showlakes\": true, \"showland\": true, \"subunitcolor\": \"white\"}, \"hoverlabel\": {\"align\": \"left\"}, \"hovermode\": \"closest\", \"mapbox\": {\"style\": \"light\"}, \"paper_bgcolor\": \"white\", \"plot_bgcolor\": \"#E5ECF6\", \"polar\": {\"angularaxis\": {\"gridcolor\": \"white\", \"linecolor\": \"white\", \"ticks\": \"\"}, \"bgcolor\": \"#E5ECF6\", \"radialaxis\": {\"gridcolor\": \"white\", \"linecolor\": \"white\", \"ticks\": \"\"}}, \"scene\": {\"xaxis\": {\"backgroundcolor\": \"#E5ECF6\", \"gridcolor\": \"white\", \"gridwidth\": 2, \"linecolor\": \"white\", \"showbackground\": true, \"ticks\": \"\", \"zerolinecolor\": \"white\"}, \"yaxis\": {\"backgroundcolor\": \"#E5ECF6\", \"gridcolor\": \"white\", \"gridwidth\": 2, \"linecolor\": \"white\", \"showbackground\": true, \"ticks\": \"\", \"zerolinecolor\": \"white\"}, \"zaxis\": {\"backgroundcolor\": \"#E5ECF6\", \"gridcolor\": \"white\", \"gridwidth\": 2, \"linecolor\": \"white\", \"showbackground\": true, \"ticks\": \"\", \"zerolinecolor\": \"white\"}}, \"shapedefaults\": {\"line\": {\"color\": \"#2a3f5f\"}}, \"ternary\": {\"aaxis\": {\"gridcolor\": \"white\", \"linecolor\": \"white\", \"ticks\": \"\"}, \"baxis\": {\"gridcolor\": \"white\", \"linecolor\": \"white\", \"ticks\": \"\"}, \"bgcolor\": \"#E5ECF6\", \"caxis\": {\"gridcolor\": \"white\", \"linecolor\": \"white\", \"ticks\": \"\"}}, \"title\": {\"x\": 0.05}, \"xaxis\": {\"automargin\": true, \"gridcolor\": \"white\", \"linecolor\": \"white\", \"ticks\": \"\", \"title\": {\"standoff\": 15}, \"zerolinecolor\": \"white\", \"zerolinewidth\": 2}, \"yaxis\": {\"automargin\": true, \"gridcolor\": \"white\", \"linecolor\": \"white\", \"ticks\": \"\", \"title\": {\"standoff\": 15}, \"zerolinecolor\": \"white\", \"zerolinewidth\": 2}}}, \"title\": {\"text\": \"Top Rated Books and Their Ratings\"}, \"width\": 1500, \"xaxis\": {\"anchor\": \"y\", \"domain\": [0.0, 1.0], \"title\": {\"text\": \"average_rating\"}}, \"yaxis\": {\"anchor\": \"x\", \"categoryarray\": [\"The Hate U Give\", \"\\u062f\\u06cc\\u0648\\u0627\\u0646\\u200e\\u200e [D\\u012bv\\u0101n]\", \"A Song of Ice and Fire\", \"The Calvin and Hobbes Tenth Anniversary Book\", \"The Way of Kings\", \"A Song of Ice and Fire Graphic Novels\", \"The Absolute Sandman, Volume One\", \"The Essential Calvin and Hobbes: A Calvin and Hobbes Treasury\", \"Holy Bible English Standard Version\", \"The Calvin and Hobbes Lazy Sunday Book\", \"Harry Potter Boxed Set Books 1-4\", \"The Way of Kings, Part 1\", \"The Days Are Just Packed: A Calvin and Hobbes Collection\", \"Homicidal Psycho Jungle Cat: A Calvin and Hobbes Collection\", \"Attack of the Deranged Mutant Killer Monster Snow Goons: A Calvin and Hobbes Collection\", \"A Court of Mist and Fury\", \"The Authoritative Calvin and Hobbes\", \"The Indispensable Calvin and Hobbes: A Calvin and Hobbes Treasury\", \"Harry Potter Collection (Harry Potter, #1-6)\", \"Complete Harry Potter Boxed Set\", \"There's Treasure Everywhere: A Calvin and Hobbes Collection\", \"It's a Magical World: A Calvin and Hobbes Collection\", \"Mark of the Lion Trilogy\", \"Words of Radiance\", \"The Complete Calvin and Hobbes\"], \"categoryorder\": \"array\", \"domain\": [0.0, 1.0], \"title\": {\"text\": \"original_title\"}}},                        {\"responsive\": true}                    ).then(function(){\n",
       "                            \n",
       "var gd = document.getElementById('df5d3496-3786-4580-9695-9666b43a48e2');\n",
       "var x = new MutationObserver(function (mutations, observer) {{\n",
       "        var display = window.getComputedStyle(gd).display;\n",
       "        if (!display || display === 'none') {{\n",
       "            console.log([gd, 'removed!']);\n",
       "            Plotly.purge(gd);\n",
       "            observer.disconnect();\n",
       "        }}\n",
       "}});\n",
       "\n",
       "// Listen for the removal of the full notebook cells\n",
       "var notebookContainer = gd.closest('#notebook-container');\n",
       "if (notebookContainer) {{\n",
       "    x.observe(notebookContainer, {childList: true});\n",
       "}}\n",
       "\n",
       "// Listen for the clearing of the current output cell\n",
       "var outputEl = gd.closest('.output');\n",
       "if (outputEl) {{\n",
       "    x.observe(outputEl, {childList: true});\n",
       "}}\n",
       "\n",
       "                        })                };                });            </script>        </div>"
      ]
     },
     "metadata": {},
     "output_type": "display_data"
    }
   ],
   "source": [
    "top_rated = books_data.sort_values('average_rating', ascending=False)\n",
    "tf_top_rated = top_rated[:25]\n",
    "fig = px.bar(tf_top_rated, x=\"average_rating\", y=\"original_title\", title='Top Rated Books and Their Ratings',\n",
    "             orientation='h', color='original_title', width=1500, height=700)\n",
    "fig.show()\n",
    "fig.write_image('images/book_bar.jpg')"
   ]
  },
  {
   "cell_type": "code",
   "execution_count": 7,
   "metadata": {},
   "outputs": [
    {
     "data": {
      "application/vnd.plotly.v1+json": {
       "config": {
        "plotlyServerURL": "https://plot.ly"
       },
       "data": [
        {
         "branchvalues": "total",
         "domain": {
          "x": [
           0,
           1
          ],
          "y": [
           0,
           1
          ]
         },
         "hovertemplate": "labels=%{label}<br>average_rating=%{value}<br>parent=%{parent}<br>id=%{id}<extra></extra>",
         "ids": [
          "A Court of Mist and Fury",
          "A Song of Ice and Fire",
          "A Song of Ice and Fire Graphic Novels",
          "Attack of the Deranged Mutant Killer Monster Snow Goons: A Calvin and Hobbes Collection",
          "Complete Harry Potter Boxed Set",
          "Harry Potter Boxed Set Books 1-4",
          "Harry Potter Collection (Harry Potter, #1-6)",
          "Holy Bible English Standard Version",
          "Homicidal Psycho Jungle Cat: A Calvin and Hobbes Collection",
          "It's a Magical World: A Calvin and Hobbes Collection",
          "Mark of the Lion Trilogy",
          "The Absolute Sandman, Volume One",
          "The Authoritative Calvin and Hobbes",
          "The Calvin and Hobbes Lazy Sunday Book",
          "The Calvin and Hobbes Tenth Anniversary Book",
          "The Complete Calvin and Hobbes",
          "The Days Are Just Packed: A Calvin and Hobbes Collection",
          "The Essential Calvin and Hobbes: A Calvin and Hobbes Treasury",
          "The Hate U Give",
          "The Indispensable Calvin and Hobbes: A Calvin and Hobbes Treasury",
          "The Way of Kings",
          "The Way of Kings, Part 1",
          "There's Treasure Everywhere: A Calvin and Hobbes Collection",
          "Words of Radiance",
          "دیوان‎‎ [Dīvān]"
         ],
         "labels": [
          "A Court of Mist and Fury",
          "A Song of Ice and Fire",
          "A Song of Ice and Fire Graphic Novels",
          "Attack of the Deranged Mutant Killer Monster Snow Goons: A Calvin and Hobbes Collection",
          "Complete Harry Potter Boxed Set",
          "Harry Potter Boxed Set Books 1-4",
          "Harry Potter Collection (Harry Potter, #1-6)",
          "Holy Bible English Standard Version",
          "Homicidal Psycho Jungle Cat: A Calvin and Hobbes Collection",
          "It's a Magical World: A Calvin and Hobbes Collection",
          "Mark of the Lion Trilogy",
          "The Absolute Sandman, Volume One",
          "The Authoritative Calvin and Hobbes",
          "The Calvin and Hobbes Lazy Sunday Book",
          "The Calvin and Hobbes Tenth Anniversary Book",
          "The Complete Calvin and Hobbes",
          "The Days Are Just Packed: A Calvin and Hobbes Collection",
          "The Essential Calvin and Hobbes: A Calvin and Hobbes Treasury",
          "The Hate U Give",
          "The Indispensable Calvin and Hobbes: A Calvin and Hobbes Treasury",
          "The Way of Kings",
          "The Way of Kings, Part 1",
          "There's Treasure Everywhere: A Calvin and Hobbes Collection",
          "Words of Radiance",
          "دیوان‎‎ [Dīvān]"
         ],
         "name": "",
         "parents": [
          "",
          "",
          "",
          "",
          "",
          "",
          "",
          "",
          "",
          "",
          "",
          "",
          "",
          "",
          "",
          "",
          "",
          "",
          "",
          "",
          "",
          "",
          "",
          "",
          ""
         ],
         "type": "treemap",
         "values": [
          4.72,
          4.63,
          4.65,
          4.72,
          4.74,
          4.66,
          4.73,
          4.66,
          4.71,
          4.75,
          4.76,
          4.65,
          4.73,
          4.66,
          4.63,
          4.82,
          4.68,
          4.65,
          4.62,
          4.73,
          4.64,
          4.67,
          4.74,
          4.77,
          4.63
         ]
        }
       ],
       "layout": {
        "height": 700,
        "legend": {
         "tracegroupgap": 0
        },
        "template": {
         "data": {
          "bar": [
           {
            "error_x": {
             "color": "#2a3f5f"
            },
            "error_y": {
             "color": "#2a3f5f"
            },
            "marker": {
             "line": {
              "color": "#E5ECF6",
              "width": 0.5
             }
            },
            "type": "bar"
           }
          ],
          "barpolar": [
           {
            "marker": {
             "line": {
              "color": "#E5ECF6",
              "width": 0.5
             }
            },
            "type": "barpolar"
           }
          ],
          "carpet": [
           {
            "aaxis": {
             "endlinecolor": "#2a3f5f",
             "gridcolor": "white",
             "linecolor": "white",
             "minorgridcolor": "white",
             "startlinecolor": "#2a3f5f"
            },
            "baxis": {
             "endlinecolor": "#2a3f5f",
             "gridcolor": "white",
             "linecolor": "white",
             "minorgridcolor": "white",
             "startlinecolor": "#2a3f5f"
            },
            "type": "carpet"
           }
          ],
          "choropleth": [
           {
            "colorbar": {
             "outlinewidth": 0,
             "ticks": ""
            },
            "type": "choropleth"
           }
          ],
          "contour": [
           {
            "colorbar": {
             "outlinewidth": 0,
             "ticks": ""
            },
            "colorscale": [
             [
              0,
              "#0d0887"
             ],
             [
              0.1111111111111111,
              "#46039f"
             ],
             [
              0.2222222222222222,
              "#7201a8"
             ],
             [
              0.3333333333333333,
              "#9c179e"
             ],
             [
              0.4444444444444444,
              "#bd3786"
             ],
             [
              0.5555555555555556,
              "#d8576b"
             ],
             [
              0.6666666666666666,
              "#ed7953"
             ],
             [
              0.7777777777777778,
              "#fb9f3a"
             ],
             [
              0.8888888888888888,
              "#fdca26"
             ],
             [
              1,
              "#f0f921"
             ]
            ],
            "type": "contour"
           }
          ],
          "contourcarpet": [
           {
            "colorbar": {
             "outlinewidth": 0,
             "ticks": ""
            },
            "type": "contourcarpet"
           }
          ],
          "heatmap": [
           {
            "colorbar": {
             "outlinewidth": 0,
             "ticks": ""
            },
            "colorscale": [
             [
              0,
              "#0d0887"
             ],
             [
              0.1111111111111111,
              "#46039f"
             ],
             [
              0.2222222222222222,
              "#7201a8"
             ],
             [
              0.3333333333333333,
              "#9c179e"
             ],
             [
              0.4444444444444444,
              "#bd3786"
             ],
             [
              0.5555555555555556,
              "#d8576b"
             ],
             [
              0.6666666666666666,
              "#ed7953"
             ],
             [
              0.7777777777777778,
              "#fb9f3a"
             ],
             [
              0.8888888888888888,
              "#fdca26"
             ],
             [
              1,
              "#f0f921"
             ]
            ],
            "type": "heatmap"
           }
          ],
          "heatmapgl": [
           {
            "colorbar": {
             "outlinewidth": 0,
             "ticks": ""
            },
            "colorscale": [
             [
              0,
              "#0d0887"
             ],
             [
              0.1111111111111111,
              "#46039f"
             ],
             [
              0.2222222222222222,
              "#7201a8"
             ],
             [
              0.3333333333333333,
              "#9c179e"
             ],
             [
              0.4444444444444444,
              "#bd3786"
             ],
             [
              0.5555555555555556,
              "#d8576b"
             ],
             [
              0.6666666666666666,
              "#ed7953"
             ],
             [
              0.7777777777777778,
              "#fb9f3a"
             ],
             [
              0.8888888888888888,
              "#fdca26"
             ],
             [
              1,
              "#f0f921"
             ]
            ],
            "type": "heatmapgl"
           }
          ],
          "histogram": [
           {
            "marker": {
             "colorbar": {
              "outlinewidth": 0,
              "ticks": ""
             }
            },
            "type": "histogram"
           }
          ],
          "histogram2d": [
           {
            "colorbar": {
             "outlinewidth": 0,
             "ticks": ""
            },
            "colorscale": [
             [
              0,
              "#0d0887"
             ],
             [
              0.1111111111111111,
              "#46039f"
             ],
             [
              0.2222222222222222,
              "#7201a8"
             ],
             [
              0.3333333333333333,
              "#9c179e"
             ],
             [
              0.4444444444444444,
              "#bd3786"
             ],
             [
              0.5555555555555556,
              "#d8576b"
             ],
             [
              0.6666666666666666,
              "#ed7953"
             ],
             [
              0.7777777777777778,
              "#fb9f3a"
             ],
             [
              0.8888888888888888,
              "#fdca26"
             ],
             [
              1,
              "#f0f921"
             ]
            ],
            "type": "histogram2d"
           }
          ],
          "histogram2dcontour": [
           {
            "colorbar": {
             "outlinewidth": 0,
             "ticks": ""
            },
            "colorscale": [
             [
              0,
              "#0d0887"
             ],
             [
              0.1111111111111111,
              "#46039f"
             ],
             [
              0.2222222222222222,
              "#7201a8"
             ],
             [
              0.3333333333333333,
              "#9c179e"
             ],
             [
              0.4444444444444444,
              "#bd3786"
             ],
             [
              0.5555555555555556,
              "#d8576b"
             ],
             [
              0.6666666666666666,
              "#ed7953"
             ],
             [
              0.7777777777777778,
              "#fb9f3a"
             ],
             [
              0.8888888888888888,
              "#fdca26"
             ],
             [
              1,
              "#f0f921"
             ]
            ],
            "type": "histogram2dcontour"
           }
          ],
          "mesh3d": [
           {
            "colorbar": {
             "outlinewidth": 0,
             "ticks": ""
            },
            "type": "mesh3d"
           }
          ],
          "parcoords": [
           {
            "line": {
             "colorbar": {
              "outlinewidth": 0,
              "ticks": ""
             }
            },
            "type": "parcoords"
           }
          ],
          "pie": [
           {
            "automargin": true,
            "type": "pie"
           }
          ],
          "scatter": [
           {
            "marker": {
             "colorbar": {
              "outlinewidth": 0,
              "ticks": ""
             }
            },
            "type": "scatter"
           }
          ],
          "scatter3d": [
           {
            "line": {
             "colorbar": {
              "outlinewidth": 0,
              "ticks": ""
             }
            },
            "marker": {
             "colorbar": {
              "outlinewidth": 0,
              "ticks": ""
             }
            },
            "type": "scatter3d"
           }
          ],
          "scattercarpet": [
           {
            "marker": {
             "colorbar": {
              "outlinewidth": 0,
              "ticks": ""
             }
            },
            "type": "scattercarpet"
           }
          ],
          "scattergeo": [
           {
            "marker": {
             "colorbar": {
              "outlinewidth": 0,
              "ticks": ""
             }
            },
            "type": "scattergeo"
           }
          ],
          "scattergl": [
           {
            "marker": {
             "colorbar": {
              "outlinewidth": 0,
              "ticks": ""
             }
            },
            "type": "scattergl"
           }
          ],
          "scattermapbox": [
           {
            "marker": {
             "colorbar": {
              "outlinewidth": 0,
              "ticks": ""
             }
            },
            "type": "scattermapbox"
           }
          ],
          "scatterpolar": [
           {
            "marker": {
             "colorbar": {
              "outlinewidth": 0,
              "ticks": ""
             }
            },
            "type": "scatterpolar"
           }
          ],
          "scatterpolargl": [
           {
            "marker": {
             "colorbar": {
              "outlinewidth": 0,
              "ticks": ""
             }
            },
            "type": "scatterpolargl"
           }
          ],
          "scatterternary": [
           {
            "marker": {
             "colorbar": {
              "outlinewidth": 0,
              "ticks": ""
             }
            },
            "type": "scatterternary"
           }
          ],
          "surface": [
           {
            "colorbar": {
             "outlinewidth": 0,
             "ticks": ""
            },
            "colorscale": [
             [
              0,
              "#0d0887"
             ],
             [
              0.1111111111111111,
              "#46039f"
             ],
             [
              0.2222222222222222,
              "#7201a8"
             ],
             [
              0.3333333333333333,
              "#9c179e"
             ],
             [
              0.4444444444444444,
              "#bd3786"
             ],
             [
              0.5555555555555556,
              "#d8576b"
             ],
             [
              0.6666666666666666,
              "#ed7953"
             ],
             [
              0.7777777777777778,
              "#fb9f3a"
             ],
             [
              0.8888888888888888,
              "#fdca26"
             ],
             [
              1,
              "#f0f921"
             ]
            ],
            "type": "surface"
           }
          ],
          "table": [
           {
            "cells": {
             "fill": {
              "color": "#EBF0F8"
             },
             "line": {
              "color": "white"
             }
            },
            "header": {
             "fill": {
              "color": "#C8D4E3"
             },
             "line": {
              "color": "white"
             }
            },
            "type": "table"
           }
          ]
         },
         "layout": {
          "annotationdefaults": {
           "arrowcolor": "#2a3f5f",
           "arrowhead": 0,
           "arrowwidth": 1
          },
          "coloraxis": {
           "colorbar": {
            "outlinewidth": 0,
            "ticks": ""
           }
          },
          "colorscale": {
           "diverging": [
            [
             0,
             "#8e0152"
            ],
            [
             0.1,
             "#c51b7d"
            ],
            [
             0.2,
             "#de77ae"
            ],
            [
             0.3,
             "#f1b6da"
            ],
            [
             0.4,
             "#fde0ef"
            ],
            [
             0.5,
             "#f7f7f7"
            ],
            [
             0.6,
             "#e6f5d0"
            ],
            [
             0.7,
             "#b8e186"
            ],
            [
             0.8,
             "#7fbc41"
            ],
            [
             0.9,
             "#4d9221"
            ],
            [
             1,
             "#276419"
            ]
           ],
           "sequential": [
            [
             0,
             "#0d0887"
            ],
            [
             0.1111111111111111,
             "#46039f"
            ],
            [
             0.2222222222222222,
             "#7201a8"
            ],
            [
             0.3333333333333333,
             "#9c179e"
            ],
            [
             0.4444444444444444,
             "#bd3786"
            ],
            [
             0.5555555555555556,
             "#d8576b"
            ],
            [
             0.6666666666666666,
             "#ed7953"
            ],
            [
             0.7777777777777778,
             "#fb9f3a"
            ],
            [
             0.8888888888888888,
             "#fdca26"
            ],
            [
             1,
             "#f0f921"
            ]
           ],
           "sequentialminus": [
            [
             0,
             "#0d0887"
            ],
            [
             0.1111111111111111,
             "#46039f"
            ],
            [
             0.2222222222222222,
             "#7201a8"
            ],
            [
             0.3333333333333333,
             "#9c179e"
            ],
            [
             0.4444444444444444,
             "#bd3786"
            ],
            [
             0.5555555555555556,
             "#d8576b"
            ],
            [
             0.6666666666666666,
             "#ed7953"
            ],
            [
             0.7777777777777778,
             "#fb9f3a"
            ],
            [
             0.8888888888888888,
             "#fdca26"
            ],
            [
             1,
             "#f0f921"
            ]
           ]
          },
          "colorway": [
           "#636efa",
           "#EF553B",
           "#00cc96",
           "#ab63fa",
           "#FFA15A",
           "#19d3f3",
           "#FF6692",
           "#B6E880",
           "#FF97FF",
           "#FECB52"
          ],
          "font": {
           "color": "#2a3f5f"
          },
          "geo": {
           "bgcolor": "white",
           "lakecolor": "white",
           "landcolor": "#E5ECF6",
           "showlakes": true,
           "showland": true,
           "subunitcolor": "white"
          },
          "hoverlabel": {
           "align": "left"
          },
          "hovermode": "closest",
          "mapbox": {
           "style": "light"
          },
          "paper_bgcolor": "white",
          "plot_bgcolor": "#E5ECF6",
          "polar": {
           "angularaxis": {
            "gridcolor": "white",
            "linecolor": "white",
            "ticks": ""
           },
           "bgcolor": "#E5ECF6",
           "radialaxis": {
            "gridcolor": "white",
            "linecolor": "white",
            "ticks": ""
           }
          },
          "scene": {
           "xaxis": {
            "backgroundcolor": "#E5ECF6",
            "gridcolor": "white",
            "gridwidth": 2,
            "linecolor": "white",
            "showbackground": true,
            "ticks": "",
            "zerolinecolor": "white"
           },
           "yaxis": {
            "backgroundcolor": "#E5ECF6",
            "gridcolor": "white",
            "gridwidth": 2,
            "linecolor": "white",
            "showbackground": true,
            "ticks": "",
            "zerolinecolor": "white"
           },
           "zaxis": {
            "backgroundcolor": "#E5ECF6",
            "gridcolor": "white",
            "gridwidth": 2,
            "linecolor": "white",
            "showbackground": true,
            "ticks": "",
            "zerolinecolor": "white"
           }
          },
          "shapedefaults": {
           "line": {
            "color": "#2a3f5f"
           }
          },
          "ternary": {
           "aaxis": {
            "gridcolor": "white",
            "linecolor": "white",
            "ticks": ""
           },
           "baxis": {
            "gridcolor": "white",
            "linecolor": "white",
            "ticks": ""
           },
           "bgcolor": "#E5ECF6",
           "caxis": {
            "gridcolor": "white",
            "linecolor": "white",
            "ticks": ""
           }
          },
          "title": {
           "x": 0.05
          },
          "xaxis": {
           "automargin": true,
           "gridcolor": "white",
           "linecolor": "white",
           "ticks": "",
           "title": {
            "standoff": 15
           },
           "zerolinecolor": "white",
           "zerolinewidth": 2
          },
          "yaxis": {
           "automargin": true,
           "gridcolor": "white",
           "linecolor": "white",
           "ticks": "",
           "title": {
            "standoff": 15
           },
           "zerolinecolor": "white",
           "zerolinewidth": 2
          }
         }
        },
        "title": {
         "text": "Top Rated Books"
        },
        "width": 1000
       }
      },
      "text/html": [
       "<div>                            <div id=\"a358dc03-efde-453d-a31f-f7713f8fd6e6\" class=\"plotly-graph-div\" style=\"height:700px; width:1000px;\"></div>            <script type=\"text/javascript\">                require([\"plotly\"], function(Plotly) {                    window.PLOTLYENV=window.PLOTLYENV || {};                                    if (document.getElementById(\"a358dc03-efde-453d-a31f-f7713f8fd6e6\")) {                    Plotly.newPlot(                        \"a358dc03-efde-453d-a31f-f7713f8fd6e6\",                        [{\"branchvalues\": \"total\", \"domain\": {\"x\": [0.0, 1.0], \"y\": [0.0, 1.0]}, \"hovertemplate\": \"labels=%{label}<br>average_rating=%{value}<br>parent=%{parent}<br>id=%{id}<extra></extra>\", \"ids\": [\"A Court of Mist and Fury\", \"A Song of Ice and Fire\", \"A Song of Ice and Fire Graphic Novels\", \"Attack of the Deranged Mutant Killer Monster Snow Goons: A Calvin and Hobbes Collection\", \"Complete Harry Potter Boxed Set\", \"Harry Potter Boxed Set Books 1-4\", \"Harry Potter Collection (Harry Potter, #1-6)\", \"Holy Bible English Standard Version\", \"Homicidal Psycho Jungle Cat: A Calvin and Hobbes Collection\", \"It's a Magical World: A Calvin and Hobbes Collection\", \"Mark of the Lion Trilogy\", \"The Absolute Sandman, Volume One\", \"The Authoritative Calvin and Hobbes\", \"The Calvin and Hobbes Lazy Sunday Book\", \"The Calvin and Hobbes Tenth Anniversary Book\", \"The Complete Calvin and Hobbes\", \"The Days Are Just Packed: A Calvin and Hobbes Collection\", \"The Essential Calvin and Hobbes: A Calvin and Hobbes Treasury\", \"The Hate U Give\", \"The Indispensable Calvin and Hobbes: A Calvin and Hobbes Treasury\", \"The Way of Kings\", \"The Way of Kings, Part 1\", \"There's Treasure Everywhere: A Calvin and Hobbes Collection\", \"Words of Radiance\", \"\\u062f\\u06cc\\u0648\\u0627\\u0646\\u200e\\u200e [D\\u012bv\\u0101n]\"], \"labels\": [\"A Court of Mist and Fury\", \"A Song of Ice and Fire\", \"A Song of Ice and Fire Graphic Novels\", \"Attack of the Deranged Mutant Killer Monster Snow Goons: A Calvin and Hobbes Collection\", \"Complete Harry Potter Boxed Set\", \"Harry Potter Boxed Set Books 1-4\", \"Harry Potter Collection (Harry Potter, #1-6)\", \"Holy Bible English Standard Version\", \"Homicidal Psycho Jungle Cat: A Calvin and Hobbes Collection\", \"It's a Magical World: A Calvin and Hobbes Collection\", \"Mark of the Lion Trilogy\", \"The Absolute Sandman, Volume One\", \"The Authoritative Calvin and Hobbes\", \"The Calvin and Hobbes Lazy Sunday Book\", \"The Calvin and Hobbes Tenth Anniversary Book\", \"The Complete Calvin and Hobbes\", \"The Days Are Just Packed: A Calvin and Hobbes Collection\", \"The Essential Calvin and Hobbes: A Calvin and Hobbes Treasury\", \"The Hate U Give\", \"The Indispensable Calvin and Hobbes: A Calvin and Hobbes Treasury\", \"The Way of Kings\", \"The Way of Kings, Part 1\", \"There's Treasure Everywhere: A Calvin and Hobbes Collection\", \"Words of Radiance\", \"\\u062f\\u06cc\\u0648\\u0627\\u0646\\u200e\\u200e [D\\u012bv\\u0101n]\"], \"name\": \"\", \"parents\": [\"\", \"\", \"\", \"\", \"\", \"\", \"\", \"\", \"\", \"\", \"\", \"\", \"\", \"\", \"\", \"\", \"\", \"\", \"\", \"\", \"\", \"\", \"\", \"\", \"\"], \"type\": \"treemap\", \"values\": [4.72, 4.63, 4.65, 4.72, 4.74, 4.66, 4.73, 4.66, 4.71, 4.75, 4.76, 4.65, 4.73, 4.66, 4.63, 4.82, 4.68, 4.65, 4.62, 4.73, 4.64, 4.67, 4.74, 4.77, 4.63]}],                        {\"height\": 700, \"legend\": {\"tracegroupgap\": 0}, \"template\": {\"data\": {\"bar\": [{\"error_x\": {\"color\": \"#2a3f5f\"}, \"error_y\": {\"color\": \"#2a3f5f\"}, \"marker\": {\"line\": {\"color\": \"#E5ECF6\", \"width\": 0.5}}, \"type\": \"bar\"}], \"barpolar\": [{\"marker\": {\"line\": {\"color\": \"#E5ECF6\", \"width\": 0.5}}, \"type\": \"barpolar\"}], \"carpet\": [{\"aaxis\": {\"endlinecolor\": \"#2a3f5f\", \"gridcolor\": \"white\", \"linecolor\": \"white\", \"minorgridcolor\": \"white\", \"startlinecolor\": \"#2a3f5f\"}, \"baxis\": {\"endlinecolor\": \"#2a3f5f\", \"gridcolor\": \"white\", \"linecolor\": \"white\", \"minorgridcolor\": \"white\", \"startlinecolor\": \"#2a3f5f\"}, \"type\": \"carpet\"}], \"choropleth\": [{\"colorbar\": {\"outlinewidth\": 0, \"ticks\": \"\"}, \"type\": \"choropleth\"}], \"contour\": [{\"colorbar\": {\"outlinewidth\": 0, \"ticks\": \"\"}, \"colorscale\": [[0.0, \"#0d0887\"], [0.1111111111111111, \"#46039f\"], [0.2222222222222222, \"#7201a8\"], [0.3333333333333333, \"#9c179e\"], [0.4444444444444444, \"#bd3786\"], [0.5555555555555556, \"#d8576b\"], [0.6666666666666666, \"#ed7953\"], [0.7777777777777778, \"#fb9f3a\"], [0.8888888888888888, \"#fdca26\"], [1.0, \"#f0f921\"]], \"type\": \"contour\"}], \"contourcarpet\": [{\"colorbar\": {\"outlinewidth\": 0, \"ticks\": \"\"}, \"type\": \"contourcarpet\"}], \"heatmap\": [{\"colorbar\": {\"outlinewidth\": 0, \"ticks\": \"\"}, \"colorscale\": [[0.0, \"#0d0887\"], [0.1111111111111111, \"#46039f\"], [0.2222222222222222, \"#7201a8\"], [0.3333333333333333, \"#9c179e\"], [0.4444444444444444, \"#bd3786\"], [0.5555555555555556, \"#d8576b\"], [0.6666666666666666, \"#ed7953\"], [0.7777777777777778, \"#fb9f3a\"], [0.8888888888888888, \"#fdca26\"], [1.0, \"#f0f921\"]], \"type\": \"heatmap\"}], \"heatmapgl\": [{\"colorbar\": {\"outlinewidth\": 0, \"ticks\": \"\"}, \"colorscale\": [[0.0, \"#0d0887\"], [0.1111111111111111, \"#46039f\"], [0.2222222222222222, \"#7201a8\"], [0.3333333333333333, \"#9c179e\"], [0.4444444444444444, \"#bd3786\"], [0.5555555555555556, \"#d8576b\"], [0.6666666666666666, \"#ed7953\"], [0.7777777777777778, \"#fb9f3a\"], [0.8888888888888888, \"#fdca26\"], [1.0, \"#f0f921\"]], \"type\": \"heatmapgl\"}], \"histogram\": [{\"marker\": {\"colorbar\": {\"outlinewidth\": 0, \"ticks\": \"\"}}, \"type\": \"histogram\"}], \"histogram2d\": [{\"colorbar\": {\"outlinewidth\": 0, \"ticks\": \"\"}, \"colorscale\": [[0.0, \"#0d0887\"], [0.1111111111111111, \"#46039f\"], [0.2222222222222222, \"#7201a8\"], [0.3333333333333333, \"#9c179e\"], [0.4444444444444444, \"#bd3786\"], [0.5555555555555556, \"#d8576b\"], [0.6666666666666666, \"#ed7953\"], [0.7777777777777778, \"#fb9f3a\"], [0.8888888888888888, \"#fdca26\"], [1.0, \"#f0f921\"]], \"type\": \"histogram2d\"}], \"histogram2dcontour\": [{\"colorbar\": {\"outlinewidth\": 0, \"ticks\": \"\"}, \"colorscale\": [[0.0, \"#0d0887\"], [0.1111111111111111, \"#46039f\"], [0.2222222222222222, \"#7201a8\"], [0.3333333333333333, \"#9c179e\"], [0.4444444444444444, \"#bd3786\"], [0.5555555555555556, \"#d8576b\"], [0.6666666666666666, \"#ed7953\"], [0.7777777777777778, \"#fb9f3a\"], [0.8888888888888888, \"#fdca26\"], [1.0, \"#f0f921\"]], \"type\": \"histogram2dcontour\"}], \"mesh3d\": [{\"colorbar\": {\"outlinewidth\": 0, \"ticks\": \"\"}, \"type\": \"mesh3d\"}], \"parcoords\": [{\"line\": {\"colorbar\": {\"outlinewidth\": 0, \"ticks\": \"\"}}, \"type\": \"parcoords\"}], \"pie\": [{\"automargin\": true, \"type\": \"pie\"}], \"scatter\": [{\"marker\": {\"colorbar\": {\"outlinewidth\": 0, \"ticks\": \"\"}}, \"type\": \"scatter\"}], \"scatter3d\": [{\"line\": {\"colorbar\": {\"outlinewidth\": 0, \"ticks\": \"\"}}, \"marker\": {\"colorbar\": {\"outlinewidth\": 0, \"ticks\": \"\"}}, \"type\": \"scatter3d\"}], \"scattercarpet\": [{\"marker\": {\"colorbar\": {\"outlinewidth\": 0, \"ticks\": \"\"}}, \"type\": \"scattercarpet\"}], \"scattergeo\": [{\"marker\": {\"colorbar\": {\"outlinewidth\": 0, \"ticks\": \"\"}}, \"type\": \"scattergeo\"}], \"scattergl\": [{\"marker\": {\"colorbar\": {\"outlinewidth\": 0, \"ticks\": \"\"}}, \"type\": \"scattergl\"}], \"scattermapbox\": [{\"marker\": {\"colorbar\": {\"outlinewidth\": 0, \"ticks\": \"\"}}, \"type\": \"scattermapbox\"}], \"scatterpolar\": [{\"marker\": {\"colorbar\": {\"outlinewidth\": 0, \"ticks\": \"\"}}, \"type\": \"scatterpolar\"}], \"scatterpolargl\": [{\"marker\": {\"colorbar\": {\"outlinewidth\": 0, \"ticks\": \"\"}}, \"type\": \"scatterpolargl\"}], \"scatterternary\": [{\"marker\": {\"colorbar\": {\"outlinewidth\": 0, \"ticks\": \"\"}}, \"type\": \"scatterternary\"}], \"surface\": [{\"colorbar\": {\"outlinewidth\": 0, \"ticks\": \"\"}, \"colorscale\": [[0.0, \"#0d0887\"], [0.1111111111111111, \"#46039f\"], [0.2222222222222222, \"#7201a8\"], [0.3333333333333333, \"#9c179e\"], [0.4444444444444444, \"#bd3786\"], [0.5555555555555556, \"#d8576b\"], [0.6666666666666666, \"#ed7953\"], [0.7777777777777778, \"#fb9f3a\"], [0.8888888888888888, \"#fdca26\"], [1.0, \"#f0f921\"]], \"type\": \"surface\"}], \"table\": [{\"cells\": {\"fill\": {\"color\": \"#EBF0F8\"}, \"line\": {\"color\": \"white\"}}, \"header\": {\"fill\": {\"color\": \"#C8D4E3\"}, \"line\": {\"color\": \"white\"}}, \"type\": \"table\"}]}, \"layout\": {\"annotationdefaults\": {\"arrowcolor\": \"#2a3f5f\", \"arrowhead\": 0, \"arrowwidth\": 1}, \"coloraxis\": {\"colorbar\": {\"outlinewidth\": 0, \"ticks\": \"\"}}, \"colorscale\": {\"diverging\": [[0, \"#8e0152\"], [0.1, \"#c51b7d\"], [0.2, \"#de77ae\"], [0.3, \"#f1b6da\"], [0.4, \"#fde0ef\"], [0.5, \"#f7f7f7\"], [0.6, \"#e6f5d0\"], [0.7, \"#b8e186\"], [0.8, \"#7fbc41\"], [0.9, \"#4d9221\"], [1, \"#276419\"]], \"sequential\": [[0.0, \"#0d0887\"], [0.1111111111111111, \"#46039f\"], [0.2222222222222222, \"#7201a8\"], [0.3333333333333333, \"#9c179e\"], [0.4444444444444444, \"#bd3786\"], [0.5555555555555556, \"#d8576b\"], [0.6666666666666666, \"#ed7953\"], [0.7777777777777778, \"#fb9f3a\"], [0.8888888888888888, \"#fdca26\"], [1.0, \"#f0f921\"]], \"sequentialminus\": [[0.0, \"#0d0887\"], [0.1111111111111111, \"#46039f\"], [0.2222222222222222, \"#7201a8\"], [0.3333333333333333, \"#9c179e\"], [0.4444444444444444, \"#bd3786\"], [0.5555555555555556, \"#d8576b\"], [0.6666666666666666, \"#ed7953\"], [0.7777777777777778, \"#fb9f3a\"], [0.8888888888888888, \"#fdca26\"], [1.0, \"#f0f921\"]]}, \"colorway\": [\"#636efa\", \"#EF553B\", \"#00cc96\", \"#ab63fa\", \"#FFA15A\", \"#19d3f3\", \"#FF6692\", \"#B6E880\", \"#FF97FF\", \"#FECB52\"], \"font\": {\"color\": \"#2a3f5f\"}, \"geo\": {\"bgcolor\": \"white\", \"lakecolor\": \"white\", \"landcolor\": \"#E5ECF6\", \"showlakes\": true, \"showland\": true, \"subunitcolor\": \"white\"}, \"hoverlabel\": {\"align\": \"left\"}, \"hovermode\": \"closest\", \"mapbox\": {\"style\": \"light\"}, \"paper_bgcolor\": \"white\", \"plot_bgcolor\": \"#E5ECF6\", \"polar\": {\"angularaxis\": {\"gridcolor\": \"white\", \"linecolor\": \"white\", \"ticks\": \"\"}, \"bgcolor\": \"#E5ECF6\", \"radialaxis\": {\"gridcolor\": \"white\", \"linecolor\": \"white\", \"ticks\": \"\"}}, \"scene\": {\"xaxis\": {\"backgroundcolor\": \"#E5ECF6\", \"gridcolor\": \"white\", \"gridwidth\": 2, \"linecolor\": \"white\", \"showbackground\": true, \"ticks\": \"\", \"zerolinecolor\": \"white\"}, \"yaxis\": {\"backgroundcolor\": \"#E5ECF6\", \"gridcolor\": \"white\", \"gridwidth\": 2, \"linecolor\": \"white\", \"showbackground\": true, \"ticks\": \"\", \"zerolinecolor\": \"white\"}, \"zaxis\": {\"backgroundcolor\": \"#E5ECF6\", \"gridcolor\": \"white\", \"gridwidth\": 2, \"linecolor\": \"white\", \"showbackground\": true, \"ticks\": \"\", \"zerolinecolor\": \"white\"}}, \"shapedefaults\": {\"line\": {\"color\": \"#2a3f5f\"}}, \"ternary\": {\"aaxis\": {\"gridcolor\": \"white\", \"linecolor\": \"white\", \"ticks\": \"\"}, \"baxis\": {\"gridcolor\": \"white\", \"linecolor\": \"white\", \"ticks\": \"\"}, \"bgcolor\": \"#E5ECF6\", \"caxis\": {\"gridcolor\": \"white\", \"linecolor\": \"white\", \"ticks\": \"\"}}, \"title\": {\"x\": 0.05}, \"xaxis\": {\"automargin\": true, \"gridcolor\": \"white\", \"linecolor\": \"white\", \"ticks\": \"\", \"title\": {\"standoff\": 15}, \"zerolinecolor\": \"white\", \"zerolinewidth\": 2}, \"yaxis\": {\"automargin\": true, \"gridcolor\": \"white\", \"linecolor\": \"white\", \"ticks\": \"\", \"title\": {\"standoff\": 15}, \"zerolinecolor\": \"white\", \"zerolinewidth\": 2}}}, \"title\": {\"text\": \"Top Rated Books\"}, \"width\": 1000},                        {\"responsive\": true}                    ).then(function(){\n",
       "                            \n",
       "var gd = document.getElementById('a358dc03-efde-453d-a31f-f7713f8fd6e6');\n",
       "var x = new MutationObserver(function (mutations, observer) {{\n",
       "        var display = window.getComputedStyle(gd).display;\n",
       "        if (!display || display === 'none') {{\n",
       "            console.log([gd, 'removed!']);\n",
       "            Plotly.purge(gd);\n",
       "            observer.disconnect();\n",
       "        }}\n",
       "}});\n",
       "\n",
       "// Listen for the removal of the full notebook cells\n",
       "var notebookContainer = gd.closest('#notebook-container');\n",
       "if (notebookContainer) {{\n",
       "    x.observe(notebookContainer, {childList: true});\n",
       "}}\n",
       "\n",
       "// Listen for the clearing of the current output cell\n",
       "var outputEl = gd.closest('.output');\n",
       "if (outputEl) {{\n",
       "    x.observe(outputEl, {childList: true});\n",
       "}}\n",
       "\n",
       "                        })                };                });            </script>        </div>"
      ]
     },
     "metadata": {},
     "output_type": "display_data"
    }
   ],
   "source": [
    "fig = px.treemap(tf_top_rated, path=['original_title'], values='average_rating',title='Top Rated Books', width=1000, height=700)\n",
    "fig.show()\n",
    "fig.write_image('images/book_tree.jpg')"
   ]
  },
  {
   "cell_type": "code",
   "execution_count": null,
   "metadata": {},
   "outputs": [],
   "source": []
  }
 ],
 "metadata": {
  "kernelspec": {
   "display_name": "Python 3",
   "language": "python",
   "name": "python3"
  },
  "language_info": {
   "codemirror_mode": {
    "name": "ipython",
    "version": 3
   },
   "file_extension": ".py",
   "mimetype": "text/x-python",
   "name": "python",
   "nbconvert_exporter": "python",
   "pygments_lexer": "ipython3",
   "version": "3.7.7"
  }
 },
 "nbformat": 4,
 "nbformat_minor": 4
}
